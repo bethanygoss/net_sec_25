{
 "cells": [
  {
   "cell_type": "markdown",
   "metadata": {
    "id": "6SZLaL-7b9Bf"
   },
   "source": [
    "# Finding optimal hyper parameters for a CNN model\n",
    "\n",
    "The point of this notebook is to obtain an optimal set of parameters for our CNN model to process time based series data. Specifically, we are processing IoT data from TON a well-kept dataset from The UNSW Group in Canberra, Australia.\n",
    "\n",
    "The specific dataset being discussed here is the IoT Fridge dataset.\n",
    "\n"
   ]
  },
  {
   "cell_type": "markdown",
   "metadata": {
    "id": "fxpOXiaOdTqo"
   },
   "source": [
    "We have pip install mealpy each time because it is not a default python package, and every time the runtime refreshes; the package is uninstalled."
   ]
  },
  {
   "cell_type": "code",
   "execution_count": 1,
   "metadata": {
    "colab": {
     "base_uri": "https://localhost:8080/"
    },
    "executionInfo": {
     "elapsed": 4122,
     "status": "ok",
     "timestamp": 1744672261946,
     "user": {
      "displayName": "William Eng",
      "userId": "04561525569195545948"
     },
     "user_tz": 240
    },
    "id": "vL2RHCwXGdyK",
    "outputId": "3dc25893-f3f3-48f7-daf9-0612291c6b1c"
   },
   "outputs": [
    {
     "name": "stdout",
     "output_type": "stream",
     "text": [
      "Requirement already satisfied: mealpy==3.0.1 in c:\\users\\george\\appdata\\local\\packages\\pythonsoftwarefoundation.python.3.11_qbz5n2kfra8p0\\localcache\\local-packages\\python311\\site-packages (3.0.1)\n",
      "Requirement already satisfied: numpy>=1.17.5 in c:\\users\\george\\appdata\\local\\packages\\pythonsoftwarefoundation.python.3.11_qbz5n2kfra8p0\\localcache\\local-packages\\python311\\site-packages (from mealpy==3.0.1) (2.1.3)\n",
      "Requirement already satisfied: matplotlib>=3.3.0 in c:\\users\\george\\appdata\\local\\packages\\pythonsoftwarefoundation.python.3.11_qbz5n2kfra8p0\\localcache\\local-packages\\python311\\site-packages (from mealpy==3.0.1) (3.10.1)\n",
      "Requirement already satisfied: scipy>=1.7.1 in c:\\users\\george\\appdata\\local\\packages\\pythonsoftwarefoundation.python.3.11_qbz5n2kfra8p0\\localcache\\local-packages\\python311\\site-packages (from mealpy==3.0.1) (1.15.2)\n",
      "Requirement already satisfied: pandas>=1.2.0 in c:\\users\\george\\appdata\\local\\packages\\pythonsoftwarefoundation.python.3.11_qbz5n2kfra8p0\\localcache\\local-packages\\python311\\site-packages (from mealpy==3.0.1) (2.2.3)\n",
      "Requirement already satisfied: opfunu>=1.0.0 in c:\\users\\george\\appdata\\local\\packages\\pythonsoftwarefoundation.python.3.11_qbz5n2kfra8p0\\localcache\\local-packages\\python311\\site-packages (from mealpy==3.0.1) (1.0.4)\n",
      "Requirement already satisfied: contourpy>=1.0.1 in c:\\users\\george\\appdata\\local\\packages\\pythonsoftwarefoundation.python.3.11_qbz5n2kfra8p0\\localcache\\local-packages\\python311\\site-packages (from matplotlib>=3.3.0->mealpy==3.0.1) (1.3.2)\n",
      "Requirement already satisfied: cycler>=0.10 in c:\\users\\george\\appdata\\local\\packages\\pythonsoftwarefoundation.python.3.11_qbz5n2kfra8p0\\localcache\\local-packages\\python311\\site-packages (from matplotlib>=3.3.0->mealpy==3.0.1) (0.12.1)\n",
      "Requirement already satisfied: fonttools>=4.22.0 in c:\\users\\george\\appdata\\local\\packages\\pythonsoftwarefoundation.python.3.11_qbz5n2kfra8p0\\localcache\\local-packages\\python311\\site-packages (from matplotlib>=3.3.0->mealpy==3.0.1) (4.57.0)\n",
      "Requirement already satisfied: kiwisolver>=1.3.1 in c:\\users\\george\\appdata\\local\\packages\\pythonsoftwarefoundation.python.3.11_qbz5n2kfra8p0\\localcache\\local-packages\\python311\\site-packages (from matplotlib>=3.3.0->mealpy==3.0.1) (1.4.8)\n",
      "Requirement already satisfied: packaging>=20.0 in c:\\users\\george\\appdata\\local\\packages\\pythonsoftwarefoundation.python.3.11_qbz5n2kfra8p0\\localcache\\local-packages\\python311\\site-packages (from matplotlib>=3.3.0->mealpy==3.0.1) (25.0)\n",
      "Requirement already satisfied: pillow>=8 in c:\\users\\george\\appdata\\local\\packages\\pythonsoftwarefoundation.python.3.11_qbz5n2kfra8p0\\localcache\\local-packages\\python311\\site-packages (from matplotlib>=3.3.0->mealpy==3.0.1) (11.2.1)\n",
      "Requirement already satisfied: pyparsing>=2.3.1 in c:\\users\\george\\appdata\\local\\packages\\pythonsoftwarefoundation.python.3.11_qbz5n2kfra8p0\\localcache\\local-packages\\python311\\site-packages (from matplotlib>=3.3.0->mealpy==3.0.1) (3.2.3)\n",
      "Requirement already satisfied: python-dateutil>=2.7 in c:\\users\\george\\appdata\\local\\packages\\pythonsoftwarefoundation.python.3.11_qbz5n2kfra8p0\\localcache\\local-packages\\python311\\site-packages (from matplotlib>=3.3.0->mealpy==3.0.1) (2.9.0.post0)\n",
      "Requirement already satisfied: requests>=2.27.0 in c:\\users\\george\\appdata\\local\\packages\\pythonsoftwarefoundation.python.3.11_qbz5n2kfra8p0\\localcache\\local-packages\\python311\\site-packages (from opfunu>=1.0.0->mealpy==3.0.1) (2.32.3)\n",
      "Requirement already satisfied: pytz>=2020.1 in c:\\users\\george\\appdata\\local\\packages\\pythonsoftwarefoundation.python.3.11_qbz5n2kfra8p0\\localcache\\local-packages\\python311\\site-packages (from pandas>=1.2.0->mealpy==3.0.1) (2025.2)\n",
      "Requirement already satisfied: tzdata>=2022.7 in c:\\users\\george\\appdata\\local\\packages\\pythonsoftwarefoundation.python.3.11_qbz5n2kfra8p0\\localcache\\local-packages\\python311\\site-packages (from pandas>=1.2.0->mealpy==3.0.1) (2025.2)\n",
      "Requirement already satisfied: six>=1.5 in c:\\users\\george\\appdata\\local\\packages\\pythonsoftwarefoundation.python.3.11_qbz5n2kfra8p0\\localcache\\local-packages\\python311\\site-packages (from python-dateutil>=2.7->matplotlib>=3.3.0->mealpy==3.0.1) (1.17.0)\n",
      "Requirement already satisfied: charset-normalizer<4,>=2 in c:\\users\\george\\appdata\\local\\packages\\pythonsoftwarefoundation.python.3.11_qbz5n2kfra8p0\\localcache\\local-packages\\python311\\site-packages (from requests>=2.27.0->opfunu>=1.0.0->mealpy==3.0.1) (3.4.1)\n",
      "Requirement already satisfied: idna<4,>=2.5 in c:\\users\\george\\appdata\\local\\packages\\pythonsoftwarefoundation.python.3.11_qbz5n2kfra8p0\\localcache\\local-packages\\python311\\site-packages (from requests>=2.27.0->opfunu>=1.0.0->mealpy==3.0.1) (3.10)\n",
      "Requirement already satisfied: urllib3<3,>=1.21.1 in c:\\users\\george\\appdata\\local\\packages\\pythonsoftwarefoundation.python.3.11_qbz5n2kfra8p0\\localcache\\local-packages\\python311\\site-packages (from requests>=2.27.0->opfunu>=1.0.0->mealpy==3.0.1) (2.4.0)\n",
      "Requirement already satisfied: certifi>=2017.4.17 in c:\\users\\george\\appdata\\local\\packages\\pythonsoftwarefoundation.python.3.11_qbz5n2kfra8p0\\localcache\\local-packages\\python311\\site-packages (from requests>=2.27.0->opfunu>=1.0.0->mealpy==3.0.1) (2025.1.31)\n",
      "Note: you may need to restart the kernel to use updated packages.\n"
     ]
    },
    {
     "name": "stderr",
     "output_type": "stream",
     "text": [
      "\n",
      "[notice] A new release of pip is available: 24.0 -> 25.0.1\n",
      "[notice] To update, run: C:\\Users\\George\\AppData\\Local\\Microsoft\\WindowsApps\\PythonSoftwareFoundation.Python.3.11_qbz5n2kfra8p0\\python.exe -m pip install --upgrade pip\n"
     ]
    },
    {
     "name": "stdout",
     "output_type": "stream",
     "text": [
      "Requirement already satisfied: scikit-learn in c:\\users\\george\\appdata\\local\\packages\\pythonsoftwarefoundation.python.3.11_qbz5n2kfra8p0\\localcache\\local-packages\\python311\\site-packages (1.6.1)\n",
      "Requirement already satisfied: numpy>=1.19.5 in c:\\users\\george\\appdata\\local\\packages\\pythonsoftwarefoundation.python.3.11_qbz5n2kfra8p0\\localcache\\local-packages\\python311\\site-packages (from scikit-learn) (2.1.3)\n",
      "Requirement already satisfied: scipy>=1.6.0 in c:\\users\\george\\appdata\\local\\packages\\pythonsoftwarefoundation.python.3.11_qbz5n2kfra8p0\\localcache\\local-packages\\python311\\site-packages (from scikit-learn) (1.15.2)\n",
      "Requirement already satisfied: joblib>=1.2.0 in c:\\users\\george\\appdata\\local\\packages\\pythonsoftwarefoundation.python.3.11_qbz5n2kfra8p0\\localcache\\local-packages\\python311\\site-packages (from scikit-learn) (1.4.2)\n",
      "Requirement already satisfied: threadpoolctl>=3.1.0 in c:\\users\\george\\appdata\\local\\packages\\pythonsoftwarefoundation.python.3.11_qbz5n2kfra8p0\\localcache\\local-packages\\python311\\site-packages (from scikit-learn) (3.6.0)\n",
      "Note: you may need to restart the kernel to use updated packages.\n"
     ]
    },
    {
     "name": "stderr",
     "output_type": "stream",
     "text": [
      "\n",
      "[notice] A new release of pip is available: 24.0 -> 25.0.1\n",
      "[notice] To update, run: C:\\Users\\George\\AppData\\Local\\Microsoft\\WindowsApps\\PythonSoftwareFoundation.Python.3.11_qbz5n2kfra8p0\\python.exe -m pip install --upgrade pip\n"
     ]
    },
    {
     "name": "stdout",
     "output_type": "stream",
     "text": [
      "Requirement already satisfied: imbalanced-learn in c:\\users\\george\\appdata\\local\\packages\\pythonsoftwarefoundation.python.3.11_qbz5n2kfra8p0\\localcache\\local-packages\\python311\\site-packages (0.13.0)\n",
      "Requirement already satisfied: numpy<3,>=1.24.3 in c:\\users\\george\\appdata\\local\\packages\\pythonsoftwarefoundation.python.3.11_qbz5n2kfra8p0\\localcache\\local-packages\\python311\\site-packages (from imbalanced-learn) (2.1.3)\n",
      "Requirement already satisfied: scipy<2,>=1.10.1 in c:\\users\\george\\appdata\\local\\packages\\pythonsoftwarefoundation.python.3.11_qbz5n2kfra8p0\\localcache\\local-packages\\python311\\site-packages (from imbalanced-learn) (1.15.2)\n",
      "Requirement already satisfied: scikit-learn<2,>=1.3.2 in c:\\users\\george\\appdata\\local\\packages\\pythonsoftwarefoundation.python.3.11_qbz5n2kfra8p0\\localcache\\local-packages\\python311\\site-packages (from imbalanced-learn) (1.6.1)\n",
      "Requirement already satisfied: sklearn-compat<1,>=0.1 in c:\\users\\george\\appdata\\local\\packages\\pythonsoftwarefoundation.python.3.11_qbz5n2kfra8p0\\localcache\\local-packages\\python311\\site-packages (from imbalanced-learn) (0.1.3)\n",
      "Requirement already satisfied: joblib<2,>=1.1.1 in c:\\users\\george\\appdata\\local\\packages\\pythonsoftwarefoundation.python.3.11_qbz5n2kfra8p0\\localcache\\local-packages\\python311\\site-packages (from imbalanced-learn) (1.4.2)\n",
      "Requirement already satisfied: threadpoolctl<4,>=2.0.0 in c:\\users\\george\\appdata\\local\\packages\\pythonsoftwarefoundation.python.3.11_qbz5n2kfra8p0\\localcache\\local-packages\\python311\\site-packages (from imbalanced-learn) (3.6.0)\n",
      "Note: you may need to restart the kernel to use updated packages.\n"
     ]
    },
    {
     "name": "stderr",
     "output_type": "stream",
     "text": [
      "\n",
      "[notice] A new release of pip is available: 24.0 -> 25.0.1\n",
      "[notice] To update, run: C:\\Users\\George\\AppData\\Local\\Microsoft\\WindowsApps\\PythonSoftwareFoundation.Python.3.11_qbz5n2kfra8p0\\python.exe -m pip install --upgrade pip\n"
     ]
    },
    {
     "name": "stdout",
     "output_type": "stream",
     "text": [
      "Requirement already satisfied: matplotlib in c:\\users\\george\\appdata\\local\\packages\\pythonsoftwarefoundation.python.3.11_qbz5n2kfra8p0\\localcache\\local-packages\\python311\\site-packages (3.10.1)\n",
      "Requirement already satisfied: contourpy>=1.0.1 in c:\\users\\george\\appdata\\local\\packages\\pythonsoftwarefoundation.python.3.11_qbz5n2kfra8p0\\localcache\\local-packages\\python311\\site-packages (from matplotlib) (1.3.2)\n",
      "Requirement already satisfied: cycler>=0.10 in c:\\users\\george\\appdata\\local\\packages\\pythonsoftwarefoundation.python.3.11_qbz5n2kfra8p0\\localcache\\local-packages\\python311\\site-packages (from matplotlib) (0.12.1)\n",
      "Requirement already satisfied: fonttools>=4.22.0 in c:\\users\\george\\appdata\\local\\packages\\pythonsoftwarefoundation.python.3.11_qbz5n2kfra8p0\\localcache\\local-packages\\python311\\site-packages (from matplotlib) (4.57.0)\n",
      "Requirement already satisfied: kiwisolver>=1.3.1 in c:\\users\\george\\appdata\\local\\packages\\pythonsoftwarefoundation.python.3.11_qbz5n2kfra8p0\\localcache\\local-packages\\python311\\site-packages (from matplotlib) (1.4.8)\n",
      "Requirement already satisfied: numpy>=1.23 in c:\\users\\george\\appdata\\local\\packages\\pythonsoftwarefoundation.python.3.11_qbz5n2kfra8p0\\localcache\\local-packages\\python311\\site-packages (from matplotlib) (2.1.3)\n",
      "Requirement already satisfied: packaging>=20.0 in c:\\users\\george\\appdata\\local\\packages\\pythonsoftwarefoundation.python.3.11_qbz5n2kfra8p0\\localcache\\local-packages\\python311\\site-packages (from matplotlib) (25.0)\n",
      "Requirement already satisfied: pillow>=8 in c:\\users\\george\\appdata\\local\\packages\\pythonsoftwarefoundation.python.3.11_qbz5n2kfra8p0\\localcache\\local-packages\\python311\\site-packages (from matplotlib) (11.2.1)\n",
      "Requirement already satisfied: pyparsing>=2.3.1 in c:\\users\\george\\appdata\\local\\packages\\pythonsoftwarefoundation.python.3.11_qbz5n2kfra8p0\\localcache\\local-packages\\python311\\site-packages (from matplotlib) (3.2.3)\n",
      "Requirement already satisfied: python-dateutil>=2.7 in c:\\users\\george\\appdata\\local\\packages\\pythonsoftwarefoundation.python.3.11_qbz5n2kfra8p0\\localcache\\local-packages\\python311\\site-packages (from matplotlib) (2.9.0.post0)\n",
      "Requirement already satisfied: six>=1.5 in c:\\users\\george\\appdata\\local\\packages\\pythonsoftwarefoundation.python.3.11_qbz5n2kfra8p0\\localcache\\local-packages\\python311\\site-packages (from python-dateutil>=2.7->matplotlib) (1.17.0)\n",
      "Note: you may need to restart the kernel to use updated packages.\n"
     ]
    },
    {
     "name": "stderr",
     "output_type": "stream",
     "text": [
      "\n",
      "[notice] A new release of pip is available: 24.0 -> 25.0.1\n",
      "[notice] To update, run: C:\\Users\\George\\AppData\\Local\\Microsoft\\WindowsApps\\PythonSoftwareFoundation.Python.3.11_qbz5n2kfra8p0\\python.exe -m pip install --upgrade pip\n"
     ]
    },
    {
     "name": "stdout",
     "output_type": "stream",
     "text": [
      "Requirement already satisfied: tensorflow in c:\\users\\george\\appdata\\local\\packages\\pythonsoftwarefoundation.python.3.11_qbz5n2kfra8p0\\localcache\\local-packages\\python311\\site-packages (2.19.0)\n",
      "Requirement already satisfied: absl-py>=1.0.0 in c:\\users\\george\\appdata\\local\\packages\\pythonsoftwarefoundation.python.3.11_qbz5n2kfra8p0\\localcache\\local-packages\\python311\\site-packages (from tensorflow) (2.2.2)\n",
      "Requirement already satisfied: astunparse>=1.6.0 in c:\\users\\george\\appdata\\local\\packages\\pythonsoftwarefoundation.python.3.11_qbz5n2kfra8p0\\localcache\\local-packages\\python311\\site-packages (from tensorflow) (1.6.3)\n",
      "Requirement already satisfied: flatbuffers>=24.3.25 in c:\\users\\george\\appdata\\local\\packages\\pythonsoftwarefoundation.python.3.11_qbz5n2kfra8p0\\localcache\\local-packages\\python311\\site-packages (from tensorflow) (25.2.10)\n",
      "Requirement already satisfied: gast!=0.5.0,!=0.5.1,!=0.5.2,>=0.2.1 in c:\\users\\george\\appdata\\local\\packages\\pythonsoftwarefoundation.python.3.11_qbz5n2kfra8p0\\localcache\\local-packages\\python311\\site-packages (from tensorflow) (0.6.0)\n",
      "Requirement already satisfied: google-pasta>=0.1.1 in c:\\users\\george\\appdata\\local\\packages\\pythonsoftwarefoundation.python.3.11_qbz5n2kfra8p0\\localcache\\local-packages\\python311\\site-packages (from tensorflow) (0.2.0)\n",
      "Requirement already satisfied: libclang>=13.0.0 in c:\\users\\george\\appdata\\local\\packages\\pythonsoftwarefoundation.python.3.11_qbz5n2kfra8p0\\localcache\\local-packages\\python311\\site-packages (from tensorflow) (18.1.1)\n",
      "Requirement already satisfied: opt-einsum>=2.3.2 in c:\\users\\george\\appdata\\local\\packages\\pythonsoftwarefoundation.python.3.11_qbz5n2kfra8p0\\localcache\\local-packages\\python311\\site-packages (from tensorflow) (3.4.0)\n",
      "Requirement already satisfied: packaging in c:\\users\\george\\appdata\\local\\packages\\pythonsoftwarefoundation.python.3.11_qbz5n2kfra8p0\\localcache\\local-packages\\python311\\site-packages (from tensorflow) (25.0)\n",
      "Requirement already satisfied: protobuf!=4.21.0,!=4.21.1,!=4.21.2,!=4.21.3,!=4.21.4,!=4.21.5,<6.0.0dev,>=3.20.3 in c:\\users\\george\\appdata\\local\\packages\\pythonsoftwarefoundation.python.3.11_qbz5n2kfra8p0\\localcache\\local-packages\\python311\\site-packages (from tensorflow) (5.29.4)\n",
      "Requirement already satisfied: requests<3,>=2.21.0 in c:\\users\\george\\appdata\\local\\packages\\pythonsoftwarefoundation.python.3.11_qbz5n2kfra8p0\\localcache\\local-packages\\python311\\site-packages (from tensorflow) (2.32.3)\n",
      "Requirement already satisfied: setuptools in c:\\program files\\windowsapps\\pythonsoftwarefoundation.python.3.11_3.11.2544.0_x64__qbz5n2kfra8p0\\lib\\site-packages (from tensorflow) (65.5.0)\n",
      "Requirement already satisfied: six>=1.12.0 in c:\\users\\george\\appdata\\local\\packages\\pythonsoftwarefoundation.python.3.11_qbz5n2kfra8p0\\localcache\\local-packages\\python311\\site-packages (from tensorflow) (1.17.0)\n",
      "Requirement already satisfied: termcolor>=1.1.0 in c:\\users\\george\\appdata\\local\\packages\\pythonsoftwarefoundation.python.3.11_qbz5n2kfra8p0\\localcache\\local-packages\\python311\\site-packages (from tensorflow) (3.0.1)\n",
      "Requirement already satisfied: typing-extensions>=3.6.6 in c:\\users\\george\\appdata\\local\\packages\\pythonsoftwarefoundation.python.3.11_qbz5n2kfra8p0\\localcache\\local-packages\\python311\\site-packages (from tensorflow) (4.13.2)\n",
      "Requirement already satisfied: wrapt>=1.11.0 in c:\\users\\george\\appdata\\local\\packages\\pythonsoftwarefoundation.python.3.11_qbz5n2kfra8p0\\localcache\\local-packages\\python311\\site-packages (from tensorflow) (1.17.2)\n",
      "Requirement already satisfied: grpcio<2.0,>=1.24.3 in c:\\users\\george\\appdata\\local\\packages\\pythonsoftwarefoundation.python.3.11_qbz5n2kfra8p0\\localcache\\local-packages\\python311\\site-packages (from tensorflow) (1.71.0)\n",
      "Requirement already satisfied: tensorboard~=2.19.0 in c:\\users\\george\\appdata\\local\\packages\\pythonsoftwarefoundation.python.3.11_qbz5n2kfra8p0\\localcache\\local-packages\\python311\\site-packages (from tensorflow) (2.19.0)\n",
      "Requirement already satisfied: keras>=3.5.0 in c:\\users\\george\\appdata\\local\\packages\\pythonsoftwarefoundation.python.3.11_qbz5n2kfra8p0\\localcache\\local-packages\\python311\\site-packages (from tensorflow) (3.9.2)\n",
      "Requirement already satisfied: numpy<2.2.0,>=1.26.0 in c:\\users\\george\\appdata\\local\\packages\\pythonsoftwarefoundation.python.3.11_qbz5n2kfra8p0\\localcache\\local-packages\\python311\\site-packages (from tensorflow) (2.1.3)\n",
      "Requirement already satisfied: h5py>=3.11.0 in c:\\users\\george\\appdata\\local\\packages\\pythonsoftwarefoundation.python.3.11_qbz5n2kfra8p0\\localcache\\local-packages\\python311\\site-packages (from tensorflow) (3.13.0)\n",
      "Requirement already satisfied: ml-dtypes<1.0.0,>=0.5.1 in c:\\users\\george\\appdata\\local\\packages\\pythonsoftwarefoundation.python.3.11_qbz5n2kfra8p0\\localcache\\local-packages\\python311\\site-packages (from tensorflow) (0.5.1)\n",
      "Requirement already satisfied: tensorflow-io-gcs-filesystem>=0.23.1 in c:\\users\\george\\appdata\\local\\packages\\pythonsoftwarefoundation.python.3.11_qbz5n2kfra8p0\\localcache\\local-packages\\python311\\site-packages (from tensorflow) (0.31.0)\n",
      "Requirement already satisfied: wheel<1.0,>=0.23.0 in c:\\users\\george\\appdata\\local\\packages\\pythonsoftwarefoundation.python.3.11_qbz5n2kfra8p0\\localcache\\local-packages\\python311\\site-packages (from astunparse>=1.6.0->tensorflow) (0.45.1)\n",
      "Requirement already satisfied: rich in c:\\users\\george\\appdata\\local\\packages\\pythonsoftwarefoundation.python.3.11_qbz5n2kfra8p0\\localcache\\local-packages\\python311\\site-packages (from keras>=3.5.0->tensorflow) (14.0.0)\n",
      "Requirement already satisfied: namex in c:\\users\\george\\appdata\\local\\packages\\pythonsoftwarefoundation.python.3.11_qbz5n2kfra8p0\\localcache\\local-packages\\python311\\site-packages (from keras>=3.5.0->tensorflow) (0.0.8)\n",
      "Requirement already satisfied: optree in c:\\users\\george\\appdata\\local\\packages\\pythonsoftwarefoundation.python.3.11_qbz5n2kfra8p0\\localcache\\local-packages\\python311\\site-packages (from keras>=3.5.0->tensorflow) (0.15.0)\n",
      "Requirement already satisfied: charset-normalizer<4,>=2 in c:\\users\\george\\appdata\\local\\packages\\pythonsoftwarefoundation.python.3.11_qbz5n2kfra8p0\\localcache\\local-packages\\python311\\site-packages (from requests<3,>=2.21.0->tensorflow) (3.4.1)\n",
      "Requirement already satisfied: idna<4,>=2.5 in c:\\users\\george\\appdata\\local\\packages\\pythonsoftwarefoundation.python.3.11_qbz5n2kfra8p0\\localcache\\local-packages\\python311\\site-packages (from requests<3,>=2.21.0->tensorflow) (3.10)\n",
      "Requirement already satisfied: urllib3<3,>=1.21.1 in c:\\users\\george\\appdata\\local\\packages\\pythonsoftwarefoundation.python.3.11_qbz5n2kfra8p0\\localcache\\local-packages\\python311\\site-packages (from requests<3,>=2.21.0->tensorflow) (2.4.0)\n",
      "Requirement already satisfied: certifi>=2017.4.17 in c:\\users\\george\\appdata\\local\\packages\\pythonsoftwarefoundation.python.3.11_qbz5n2kfra8p0\\localcache\\local-packages\\python311\\site-packages (from requests<3,>=2.21.0->tensorflow) (2025.1.31)\n",
      "Requirement already satisfied: markdown>=2.6.8 in c:\\users\\george\\appdata\\local\\packages\\pythonsoftwarefoundation.python.3.11_qbz5n2kfra8p0\\localcache\\local-packages\\python311\\site-packages (from tensorboard~=2.19.0->tensorflow) (3.8)\n",
      "Requirement already satisfied: tensorboard-data-server<0.8.0,>=0.7.0 in c:\\users\\george\\appdata\\local\\packages\\pythonsoftwarefoundation.python.3.11_qbz5n2kfra8p0\\localcache\\local-packages\\python311\\site-packages (from tensorboard~=2.19.0->tensorflow) (0.7.2)\n",
      "Requirement already satisfied: werkzeug>=1.0.1 in c:\\users\\george\\appdata\\local\\packages\\pythonsoftwarefoundation.python.3.11_qbz5n2kfra8p0\\localcache\\local-packages\\python311\\site-packages (from tensorboard~=2.19.0->tensorflow) (3.1.3)\n",
      "Requirement already satisfied: MarkupSafe>=2.1.1 in c:\\users\\george\\appdata\\local\\packages\\pythonsoftwarefoundation.python.3.11_qbz5n2kfra8p0\\localcache\\local-packages\\python311\\site-packages (from werkzeug>=1.0.1->tensorboard~=2.19.0->tensorflow) (3.0.2)\n",
      "Requirement already satisfied: markdown-it-py>=2.2.0 in c:\\users\\george\\appdata\\local\\packages\\pythonsoftwarefoundation.python.3.11_qbz5n2kfra8p0\\localcache\\local-packages\\python311\\site-packages (from rich->keras>=3.5.0->tensorflow) (3.0.0)\n",
      "Requirement already satisfied: pygments<3.0.0,>=2.13.0 in c:\\users\\george\\appdata\\local\\packages\\pythonsoftwarefoundation.python.3.11_qbz5n2kfra8p0\\localcache\\local-packages\\python311\\site-packages (from rich->keras>=3.5.0->tensorflow) (2.19.1)\n",
      "Requirement already satisfied: mdurl~=0.1 in c:\\users\\george\\appdata\\local\\packages\\pythonsoftwarefoundation.python.3.11_qbz5n2kfra8p0\\localcache\\local-packages\\python311\\site-packages (from markdown-it-py>=2.2.0->rich->keras>=3.5.0->tensorflow) (0.1.2)\n",
      "Note: you may need to restart the kernel to use updated packages.\n"
     ]
    },
    {
     "name": "stderr",
     "output_type": "stream",
     "text": [
      "\n",
      "[notice] A new release of pip is available: 24.0 -> 25.0.1\n",
      "[notice] To update, run: C:\\Users\\George\\AppData\\Local\\Microsoft\\WindowsApps\\PythonSoftwareFoundation.Python.3.11_qbz5n2kfra8p0\\python.exe -m pip install --upgrade pip\n"
     ]
    }
   ],
   "source": [
    "%pip install mealpy==3.0.1\n",
    "%pip install -U scikit-learn\n",
    "%pip install imbalanced-learn\n",
    "%pip install matplotlib\n",
    "%pip install tensorflow"
   ]
  },
  {
   "cell_type": "markdown",
   "metadata": {
    "id": "nCChAI0ddiLB"
   },
   "source": [
    "Our main libraries used are:\n",
    "\n",
    "*   Imblearn\n",
    "*   Pandas\n",
    "*   Matplot Lib\n",
    "*   MealPy\n",
    "*   Numpy\n",
    "*   SKLearn\n",
    "*   Tensorflow\n",
    "*   Time\n"
   ]
  },
  {
   "cell_type": "code",
   "execution_count": 2,
   "metadata": {
    "id": "iw75cAeFj6Zj"
   },
   "outputs": [],
   "source": [
    "import pandas\n",
    "from sklearn.model_selection import train_test_split\n",
    "from sklearn.preprocessing import OrdinalEncoder, LabelEncoder, StandardScaler\n",
    "from imblearn.combine import SMOTETomek\n",
    "import numpy\n",
    "from sklearn.metrics import classification_report, confusion_matrix,ConfusionMatrixDisplay\n",
    "import tensorflow\n",
    "from tensorflow import keras\n",
    "import matplotlib.pyplot as plt\n",
    "from mealpy import FloatVar, FOX\n",
    "import time"
   ]
  },
  {
   "cell_type": "markdown",
   "metadata": {
    "id": "sn-IbsB3eMq_"
   },
   "source": [
    "# Preparing the Datasets for the CNN Model\n",
    "\n",
    "We split off the information that indicates whether or not an attack has occured (*label*) and the types of attacks (*type*).\n",
    "Now there are three dataframes:\n",
    "  X - all features\n",
    "  y - attack or not\n",
    "  y_type - type of attack\n",
    "\n",
    "We split again into test and train data sets and include some randomness.\n",
    "**Reset_index** drops the indexes from these new dataframes.\n",
    "Next, we encode the text data, add another randomness, and scale all dataframes. The X dataframe is reshaped."
   ]
  },
  {
   "cell_type": "code",
   "execution_count": 7,
   "metadata": {
    "id": "wbkk6zeGkCvQ"
   },
   "outputs": [],
   "source": [
    "#Uncomment for local use\n",
    "raw_data = pandas.read_csv('../../Train_Test_IoT_dataset/Train_Test_IoT_Fridge.csv')\n",
    "#Uncomment for Google Colab\n",
    "#raw_data = pandas.read_csv('Train_Test_IoT_Fridge.csv')\n",
    "X = raw_data.drop(columns=['label','type'])\n",
    "y = raw_data['label']\n",
    "y_type = raw_data['type']"
   ]
  },
  {
   "cell_type": "code",
   "execution_count": null,
   "metadata": {
    "id": "ZFQYeNebtBdL"
   },
   "outputs": [],
   "source": [
    "# Binary\n",
    "X_train, X_testsplit, y_train, y_testsplit = train_test_split(X, y, test_size=0.2, random_state=777)\n",
    "# Binary validation\n",
    "X_test, X_validation, y_test, y_validation = train_test_split(X_testsplit, y_testsplit, test_size=0.5, random_state=777)\n",
    "\n",
    "#drop index\n",
    "X_train = X_train.reset_index(drop=True)\n",
    "X_test = X_test.reset_index(drop=True)\n",
    "y_train = y_train.reset_index(drop=True)\n",
    "y_test = y_test.reset_index(drop=True)\n",
    "X_validation = X_validation.reset_index(drop=True)\n",
    "y_validation = y_validation.reset_index(drop=True)"
   ]
  },
  {
   "cell_type": "code",
   "execution_count": null,
   "metadata": {
    "id": "JMPY814OkMHK"
   },
   "outputs": [],
   "source": [
    "encoder = OrdinalEncoder()\n",
    "label_encoder = LabelEncoder()\n",
    "X_train_encode = encoder.fit_transform(X_train)\n",
    "X_test_encode = encoder.fit_transform(X_test)\n",
    "y_train_encode = label_encoder.fit_transform(y_train)\n",
    "y_test_encode = label_encoder.fit_transform(y_test)\n",
    "X_validation_encode = encoder.fit_transform(X_validation)\n",
    "y_validation_encode = label_encoder.fit_transform(y_validation)"
   ]
  },
  {
   "cell_type": "code",
   "execution_count": null,
   "metadata": {
    "id": "cjOPxFTstjzo"
   },
   "outputs": [],
   "source": [
    "smotetomek = SMOTETomek(random_state=777)\n",
    "X_rebalance, y_rebalance = smotetomek.fit_resample(X_train_encode, y_train_encode)"
   ]
  },
  {
   "cell_type": "code",
   "execution_count": null,
   "metadata": {
    "id": "ofXxVrSHQ-z5"
   },
   "outputs": [],
   "source": [
    "scaler = StandardScaler()\n",
    "X_rebalance = scaler.fit_transform(X_rebalance)\n",
    "X_test_encode = scaler.transform(X_test_encode)\n",
    "\n",
    "X_validation_encode = scaler.transform(X_validation_encode)"
   ]
  },
  {
   "cell_type": "code",
   "execution_count": null,
   "metadata": {
    "id": "Ehu1cF9rv1tu"
   },
   "outputs": [],
   "source": [
    "X_rebalance = X_rebalance.reshape(X_rebalance.shape[0], X_rebalance.shape[1], 1)\n",
    "X_test_encode = X_test_encode.reshape(X_test_encode.shape[0], X_test_encode.shape[1], 1)\n",
    "\n",
    "X_validation_encode = X_validation_encode.reshape(X_validation_encode.shape[0], X_validation_encode.shape[1], 1)\n"
   ]
  },
  {
   "cell_type": "code",
   "execution_count": null,
   "metadata": {
    "colab": {
     "base_uri": "https://localhost:8080/",
     "height": 1000
    },
    "executionInfo": {
     "elapsed": 218086,
     "status": "ok",
     "timestamp": 1744382732569,
     "user": {
      "displayName": "William Eng",
      "userId": "04561525569195545948"
     },
     "user_tz": 240
    },
    "id": "c__xkr4G07iA",
    "outputId": "fcb6f723-2d20-4f0a-8a12-e326fc6d3bce"
   },
   "outputs": [
    {
     "data": {
      "text/html": [
       "<pre style=\"white-space:pre;overflow-x:auto;line-height:normal;font-family:Menlo,'DejaVu Sans Mono',consolas,'Courier New',monospace\"><span style=\"font-weight: bold\">Model: \"sequential\"</span>\n",
       "</pre>\n"
      ],
      "text/plain": [
       "\u001b[1mModel: \"sequential\"\u001b[0m\n"
      ]
     },
     "metadata": {},
     "output_type": "display_data"
    },
    {
     "data": {
      "text/html": [
       "<pre style=\"white-space:pre;overflow-x:auto;line-height:normal;font-family:Menlo,'DejaVu Sans Mono',consolas,'Courier New',monospace\">┏━━━━━━━━━━━━━━━━━━━━━━━━━━━━━━━━━┳━━━━━━━━━━━━━━━━━━━━━━━━┳━━━━━━━━━━━━━━━┓\n",
       "┃<span style=\"font-weight: bold\"> Layer (type)                    </span>┃<span style=\"font-weight: bold\"> Output Shape           </span>┃<span style=\"font-weight: bold\">       Param # </span>┃\n",
       "┡━━━━━━━━━━━━━━━━━━━━━━━━━━━━━━━━━╇━━━━━━━━━━━━━━━━━━━━━━━━╇━━━━━━━━━━━━━━━┩\n",
       "│ conv1d (<span style=\"color: #0087ff; text-decoration-color: #0087ff\">Conv1D</span>)                 │ (<span style=\"color: #00d7ff; text-decoration-color: #00d7ff\">None</span>, <span style=\"color: #00af00; text-decoration-color: #00af00\">2</span>, <span style=\"color: #00af00; text-decoration-color: #00af00\">50</span>)          │           <span style=\"color: #00af00; text-decoration-color: #00af00\">200</span> │\n",
       "├─────────────────────────────────┼────────────────────────┼───────────────┤\n",
       "│ max_pooling1d (<span style=\"color: #0087ff; text-decoration-color: #0087ff\">MaxPooling1D</span>)    │ (<span style=\"color: #00d7ff; text-decoration-color: #00d7ff\">None</span>, <span style=\"color: #00af00; text-decoration-color: #00af00\">1</span>, <span style=\"color: #00af00; text-decoration-color: #00af00\">50</span>)          │             <span style=\"color: #00af00; text-decoration-color: #00af00\">0</span> │\n",
       "├─────────────────────────────────┼────────────────────────┼───────────────┤\n",
       "│ dropout (<span style=\"color: #0087ff; text-decoration-color: #0087ff\">Dropout</span>)               │ (<span style=\"color: #00d7ff; text-decoration-color: #00d7ff\">None</span>, <span style=\"color: #00af00; text-decoration-color: #00af00\">1</span>, <span style=\"color: #00af00; text-decoration-color: #00af00\">50</span>)          │             <span style=\"color: #00af00; text-decoration-color: #00af00\">0</span> │\n",
       "├─────────────────────────────────┼────────────────────────┼───────────────┤\n",
       "│ batch_normalization             │ (<span style=\"color: #00d7ff; text-decoration-color: #00d7ff\">None</span>, <span style=\"color: #00af00; text-decoration-color: #00af00\">1</span>, <span style=\"color: #00af00; text-decoration-color: #00af00\">50</span>)          │           <span style=\"color: #00af00; text-decoration-color: #00af00\">200</span> │\n",
       "│ (<span style=\"color: #0087ff; text-decoration-color: #0087ff\">BatchNormalization</span>)            │                        │               │\n",
       "├─────────────────────────────────┼────────────────────────┼───────────────┤\n",
       "│ lstm (<span style=\"color: #0087ff; text-decoration-color: #0087ff\">LSTM</span>)                     │ (<span style=\"color: #00d7ff; text-decoration-color: #00d7ff\">None</span>, <span style=\"color: #00af00; text-decoration-color: #00af00\">64</span>)             │        <span style=\"color: #00af00; text-decoration-color: #00af00\">29,440</span> │\n",
       "├─────────────────────────────────┼────────────────────────┼───────────────┤\n",
       "│ flatten (<span style=\"color: #0087ff; text-decoration-color: #0087ff\">Flatten</span>)               │ (<span style=\"color: #00d7ff; text-decoration-color: #00d7ff\">None</span>, <span style=\"color: #00af00; text-decoration-color: #00af00\">64</span>)             │             <span style=\"color: #00af00; text-decoration-color: #00af00\">0</span> │\n",
       "├─────────────────────────────────┼────────────────────────┼───────────────┤\n",
       "│ dense (<span style=\"color: #0087ff; text-decoration-color: #0087ff\">Dense</span>)                   │ (<span style=\"color: #00d7ff; text-decoration-color: #00d7ff\">None</span>, <span style=\"color: #00af00; text-decoration-color: #00af00\">512</span>)            │        <span style=\"color: #00af00; text-decoration-color: #00af00\">33,280</span> │\n",
       "├─────────────────────────────────┼────────────────────────┼───────────────┤\n",
       "│ dropout_1 (<span style=\"color: #0087ff; text-decoration-color: #0087ff\">Dropout</span>)             │ (<span style=\"color: #00d7ff; text-decoration-color: #00d7ff\">None</span>, <span style=\"color: #00af00; text-decoration-color: #00af00\">512</span>)            │             <span style=\"color: #00af00; text-decoration-color: #00af00\">0</span> │\n",
       "├─────────────────────────────────┼────────────────────────┼───────────────┤\n",
       "│ dense_1 (<span style=\"color: #0087ff; text-decoration-color: #0087ff\">Dense</span>)                 │ (<span style=\"color: #00d7ff; text-decoration-color: #00d7ff\">None</span>, <span style=\"color: #00af00; text-decoration-color: #00af00\">1</span>)              │           <span style=\"color: #00af00; text-decoration-color: #00af00\">513</span> │\n",
       "└─────────────────────────────────┴────────────────────────┴───────────────┘\n",
       "</pre>\n"
      ],
      "text/plain": [
       "┏━━━━━━━━━━━━━━━━━━━━━━━━━━━━━━━━━┳━━━━━━━━━━━━━━━━━━━━━━━━┳━━━━━━━━━━━━━━━┓\n",
       "┃\u001b[1m \u001b[0m\u001b[1mLayer (type)                   \u001b[0m\u001b[1m \u001b[0m┃\u001b[1m \u001b[0m\u001b[1mOutput Shape          \u001b[0m\u001b[1m \u001b[0m┃\u001b[1m \u001b[0m\u001b[1m      Param #\u001b[0m\u001b[1m \u001b[0m┃\n",
       "┡━━━━━━━━━━━━━━━━━━━━━━━━━━━━━━━━━╇━━━━━━━━━━━━━━━━━━━━━━━━╇━━━━━━━━━━━━━━━┩\n",
       "│ conv1d (\u001b[38;5;33mConv1D\u001b[0m)                 │ (\u001b[38;5;45mNone\u001b[0m, \u001b[38;5;34m2\u001b[0m, \u001b[38;5;34m50\u001b[0m)          │           \u001b[38;5;34m200\u001b[0m │\n",
       "├─────────────────────────────────┼────────────────────────┼───────────────┤\n",
       "│ max_pooling1d (\u001b[38;5;33mMaxPooling1D\u001b[0m)    │ (\u001b[38;5;45mNone\u001b[0m, \u001b[38;5;34m1\u001b[0m, \u001b[38;5;34m50\u001b[0m)          │             \u001b[38;5;34m0\u001b[0m │\n",
       "├─────────────────────────────────┼────────────────────────┼───────────────┤\n",
       "│ dropout (\u001b[38;5;33mDropout\u001b[0m)               │ (\u001b[38;5;45mNone\u001b[0m, \u001b[38;5;34m1\u001b[0m, \u001b[38;5;34m50\u001b[0m)          │             \u001b[38;5;34m0\u001b[0m │\n",
       "├─────────────────────────────────┼────────────────────────┼───────────────┤\n",
       "│ batch_normalization             │ (\u001b[38;5;45mNone\u001b[0m, \u001b[38;5;34m1\u001b[0m, \u001b[38;5;34m50\u001b[0m)          │           \u001b[38;5;34m200\u001b[0m │\n",
       "│ (\u001b[38;5;33mBatchNormalization\u001b[0m)            │                        │               │\n",
       "├─────────────────────────────────┼────────────────────────┼───────────────┤\n",
       "│ lstm (\u001b[38;5;33mLSTM\u001b[0m)                     │ (\u001b[38;5;45mNone\u001b[0m, \u001b[38;5;34m64\u001b[0m)             │        \u001b[38;5;34m29,440\u001b[0m │\n",
       "├─────────────────────────────────┼────────────────────────┼───────────────┤\n",
       "│ flatten (\u001b[38;5;33mFlatten\u001b[0m)               │ (\u001b[38;5;45mNone\u001b[0m, \u001b[38;5;34m64\u001b[0m)             │             \u001b[38;5;34m0\u001b[0m │\n",
       "├─────────────────────────────────┼────────────────────────┼───────────────┤\n",
       "│ dense (\u001b[38;5;33mDense\u001b[0m)                   │ (\u001b[38;5;45mNone\u001b[0m, \u001b[38;5;34m512\u001b[0m)            │        \u001b[38;5;34m33,280\u001b[0m │\n",
       "├─────────────────────────────────┼────────────────────────┼───────────────┤\n",
       "│ dropout_1 (\u001b[38;5;33mDropout\u001b[0m)             │ (\u001b[38;5;45mNone\u001b[0m, \u001b[38;5;34m512\u001b[0m)            │             \u001b[38;5;34m0\u001b[0m │\n",
       "├─────────────────────────────────┼────────────────────────┼───────────────┤\n",
       "│ dense_1 (\u001b[38;5;33mDense\u001b[0m)                 │ (\u001b[38;5;45mNone\u001b[0m, \u001b[38;5;34m1\u001b[0m)              │           \u001b[38;5;34m513\u001b[0m │\n",
       "└─────────────────────────────────┴────────────────────────┴───────────────┘\n"
      ]
     },
     "metadata": {},
     "output_type": "display_data"
    },
    {
     "data": {
      "text/html": [
       "<pre style=\"white-space:pre;overflow-x:auto;line-height:normal;font-family:Menlo,'DejaVu Sans Mono',consolas,'Courier New',monospace\"><span style=\"font-weight: bold\"> Total params: </span><span style=\"color: #00af00; text-decoration-color: #00af00\">63,633</span> (248.57 KB)\n",
       "</pre>\n"
      ],
      "text/plain": [
       "\u001b[1m Total params: \u001b[0m\u001b[38;5;34m63,633\u001b[0m (248.57 KB)\n"
      ]
     },
     "metadata": {},
     "output_type": "display_data"
    },
    {
     "data": {
      "text/html": [
       "<pre style=\"white-space:pre;overflow-x:auto;line-height:normal;font-family:Menlo,'DejaVu Sans Mono',consolas,'Courier New',monospace\"><span style=\"font-weight: bold\"> Trainable params: </span><span style=\"color: #00af00; text-decoration-color: #00af00\">63,533</span> (248.18 KB)\n",
       "</pre>\n"
      ],
      "text/plain": [
       "\u001b[1m Trainable params: \u001b[0m\u001b[38;5;34m63,533\u001b[0m (248.18 KB)\n"
      ]
     },
     "metadata": {},
     "output_type": "display_data"
    },
    {
     "data": {
      "text/html": [
       "<pre style=\"white-space:pre;overflow-x:auto;line-height:normal;font-family:Menlo,'DejaVu Sans Mono',consolas,'Courier New',monospace\"><span style=\"font-weight: bold\"> Non-trainable params: </span><span style=\"color: #00af00; text-decoration-color: #00af00\">100</span> (400.00 B)\n",
       "</pre>\n"
      ],
      "text/plain": [
       "\u001b[1m Non-trainable params: \u001b[0m\u001b[38;5;34m100\u001b[0m (400.00 B)\n"
      ]
     },
     "metadata": {},
     "output_type": "display_data"
    },
    {
     "name": "stdout",
     "output_type": "stream",
     "text": [
      "Epoch 1/70\n",
      "\u001b[1m626/626\u001b[0m \u001b[32m━━━━━━━━━━━━━━━━━━━━\u001b[0m\u001b[37m\u001b[0m \u001b[1m7s\u001b[0m 6ms/step - accuracy: 0.5001 - loss: 0.6937 - val_accuracy: 0.3437 - val_loss: 0.6935\n",
      "Epoch 2/70\n",
      "\u001b[1m626/626\u001b[0m \u001b[32m━━━━━━━━━━━━━━━━━━━━\u001b[0m\u001b[37m\u001b[0m \u001b[1m3s\u001b[0m 5ms/step - accuracy: 0.5063 - loss: 0.6933 - val_accuracy: 0.3795 - val_loss: 0.6934\n",
      "Epoch 3/70\n",
      "\u001b[1m626/626\u001b[0m \u001b[32m━━━━━━━━━━━━━━━━━━━━\u001b[0m\u001b[37m\u001b[0m \u001b[1m3s\u001b[0m 5ms/step - accuracy: 0.5084 - loss: 0.6929 - val_accuracy: 0.5141 - val_loss: 0.6931\n",
      "Epoch 4/70\n",
      "\u001b[1m626/626\u001b[0m \u001b[32m━━━━━━━━━━━━━━━━━━━━\u001b[0m\u001b[37m\u001b[0m \u001b[1m3s\u001b[0m 5ms/step - accuracy: 0.5148 - loss: 0.6924 - val_accuracy: 0.5151 - val_loss: 0.6930\n",
      "Epoch 5/70\n",
      "\u001b[1m626/626\u001b[0m \u001b[32m━━━━━━━━━━━━━━━━━━━━\u001b[0m\u001b[37m\u001b[0m \u001b[1m3s\u001b[0m 5ms/step - accuracy: 0.5143 - loss: 0.6923 - val_accuracy: 0.5056 - val_loss: 0.6930\n",
      "Epoch 6/70\n",
      "\u001b[1m626/626\u001b[0m \u001b[32m━━━━━━━━━━━━━━━━━━━━\u001b[0m\u001b[37m\u001b[0m \u001b[1m3s\u001b[0m 5ms/step - accuracy: 0.5244 - loss: 0.6920 - val_accuracy: 0.4403 - val_loss: 0.6931\n",
      "Epoch 7/70\n",
      "\u001b[1m626/626\u001b[0m \u001b[32m━━━━━━━━━━━━━━━━━━━━\u001b[0m\u001b[37m\u001b[0m \u001b[1m3s\u001b[0m 5ms/step - accuracy: 0.5354 - loss: 0.6907 - val_accuracy: 0.4003 - val_loss: 0.6934\n",
      "Epoch 8/70\n",
      "\u001b[1m626/626\u001b[0m \u001b[32m━━━━━━━━━━━━━━━━━━━━\u001b[0m\u001b[37m\u001b[0m \u001b[1m3s\u001b[0m 5ms/step - accuracy: 0.5374 - loss: 0.6905 - val_accuracy: 0.4110 - val_loss: 0.6933\n",
      "Epoch 9/70\n",
      "\u001b[1m626/626\u001b[0m \u001b[32m━━━━━━━━━━━━━━━━━━━━\u001b[0m\u001b[37m\u001b[0m \u001b[1m3s\u001b[0m 5ms/step - accuracy: 0.5353 - loss: 0.6901 - val_accuracy: 0.3795 - val_loss: 0.6936\n",
      "Epoch 10/70\n",
      "\u001b[1m626/626\u001b[0m \u001b[32m━━━━━━━━━━━━━━━━━━━━\u001b[0m\u001b[37m\u001b[0m \u001b[1m3s\u001b[0m 5ms/step - accuracy: 0.5488 - loss: 0.6895 - val_accuracy: 0.4060 - val_loss: 0.6934\n",
      "Epoch 11/70\n",
      "\u001b[1m626/626\u001b[0m \u001b[32m━━━━━━━━━━━━━━━━━━━━\u001b[0m\u001b[37m\u001b[0m \u001b[1m3s\u001b[0m 5ms/step - accuracy: 0.5464 - loss: 0.6894 - val_accuracy: 0.4048 - val_loss: 0.6935\n",
      "Epoch 12/70\n",
      "\u001b[1m626/626\u001b[0m \u001b[32m━━━━━━━━━━━━━━━━━━━━\u001b[0m\u001b[37m\u001b[0m \u001b[1m3s\u001b[0m 5ms/step - accuracy: 0.5519 - loss: 0.6888 - val_accuracy: 0.4130 - val_loss: 0.6937\n",
      "Epoch 13/70\n",
      "\u001b[1m626/626\u001b[0m \u001b[32m━━━━━━━━━━━━━━━━━━━━\u001b[0m\u001b[37m\u001b[0m \u001b[1m3s\u001b[0m 5ms/step - accuracy: 0.5622 - loss: 0.6880 - val_accuracy: 0.4088 - val_loss: 0.6938\n",
      "Epoch 14/70\n",
      "\u001b[1m626/626\u001b[0m \u001b[32m━━━━━━━━━━━━━━━━━━━━\u001b[0m\u001b[37m\u001b[0m \u001b[1m3s\u001b[0m 5ms/step - accuracy: 0.5583 - loss: 0.6879 - val_accuracy: 0.4083 - val_loss: 0.6942\n",
      "Epoch 15/70\n",
      "\u001b[1m626/626\u001b[0m \u001b[32m━━━━━━━━━━━━━━━━━━━━\u001b[0m\u001b[37m\u001b[0m \u001b[1m3s\u001b[0m 5ms/step - accuracy: 0.5646 - loss: 0.6873 - val_accuracy: 0.4403 - val_loss: 0.6945\n",
      "Epoch 16/70\n",
      "\u001b[1m626/626\u001b[0m \u001b[32m━━━━━━━━━━━━━━━━━━━━\u001b[0m\u001b[37m\u001b[0m \u001b[1m3s\u001b[0m 5ms/step - accuracy: 0.5695 - loss: 0.6864 - val_accuracy: 0.4263 - val_loss: 0.6941\n",
      "Epoch 17/70\n",
      "\u001b[1m626/626\u001b[0m \u001b[32m━━━━━━━━━━━━━━━━━━━━\u001b[0m\u001b[37m\u001b[0m \u001b[1m3s\u001b[0m 5ms/step - accuracy: 0.5713 - loss: 0.6861 - val_accuracy: 0.4275 - val_loss: 0.6942\n",
      "Epoch 18/70\n",
      "\u001b[1m626/626\u001b[0m \u001b[32m━━━━━━━━━━━━━━━━━━━━\u001b[0m\u001b[37m\u001b[0m \u001b[1m3s\u001b[0m 5ms/step - accuracy: 0.5708 - loss: 0.6857 - val_accuracy: 0.4476 - val_loss: 0.6944\n",
      "Epoch 19/70\n",
      "\u001b[1m626/626\u001b[0m \u001b[32m━━━━━━━━━━━━━━━━━━━━\u001b[0m\u001b[37m\u001b[0m \u001b[1m3s\u001b[0m 5ms/step - accuracy: 0.5826 - loss: 0.6849 - val_accuracy: 0.4721 - val_loss: 0.6948\n",
      "Epoch 20/70\n",
      "\u001b[1m626/626\u001b[0m \u001b[32m━━━━━━━━━━━━━━━━━━━━\u001b[0m\u001b[37m\u001b[0m \u001b[1m3s\u001b[0m 5ms/step - accuracy: 0.5869 - loss: 0.6840 - val_accuracy: 0.4663 - val_loss: 0.6946\n",
      "Epoch 21/70\n",
      "\u001b[1m626/626\u001b[0m \u001b[32m━━━━━━━━━━━━━━━━━━━━\u001b[0m\u001b[37m\u001b[0m \u001b[1m3s\u001b[0m 5ms/step - accuracy: 0.5875 - loss: 0.6834 - val_accuracy: 0.4731 - val_loss: 0.6955\n",
      "Epoch 22/70\n",
      "\u001b[1m626/626\u001b[0m \u001b[32m━━━━━━━━━━━━━━━━━━━━\u001b[0m\u001b[37m\u001b[0m \u001b[1m3s\u001b[0m 5ms/step - accuracy: 0.5873 - loss: 0.6827 - val_accuracy: 0.4869 - val_loss: 0.6950\n",
      "Epoch 23/70\n",
      "\u001b[1m626/626\u001b[0m \u001b[32m━━━━━━━━━━━━━━━━━━━━\u001b[0m\u001b[37m\u001b[0m \u001b[1m3s\u001b[0m 5ms/step - accuracy: 0.5937 - loss: 0.6817 - val_accuracy: 0.4826 - val_loss: 0.6954\n",
      "Epoch 24/70\n",
      "\u001b[1m626/626\u001b[0m \u001b[32m━━━━━━━━━━━━━━━━━━━━\u001b[0m\u001b[37m\u001b[0m \u001b[1m3s\u001b[0m 5ms/step - accuracy: 0.5959 - loss: 0.6810 - val_accuracy: 0.4866 - val_loss: 0.6953\n",
      "Epoch 25/70\n",
      "\u001b[1m626/626\u001b[0m \u001b[32m━━━━━━━━━━━━━━━━━━━━\u001b[0m\u001b[37m\u001b[0m \u001b[1m3s\u001b[0m 5ms/step - accuracy: 0.6020 - loss: 0.6795 - val_accuracy: 0.4919 - val_loss: 0.6952\n",
      "Epoch 26/70\n",
      "\u001b[1m626/626\u001b[0m \u001b[32m━━━━━━━━━━━━━━━━━━━━\u001b[0m\u001b[37m\u001b[0m \u001b[1m3s\u001b[0m 5ms/step - accuracy: 0.6038 - loss: 0.6786 - val_accuracy: 0.4899 - val_loss: 0.6955\n",
      "Epoch 27/70\n",
      "\u001b[1m626/626\u001b[0m \u001b[32m━━━━━━━━━━━━━━━━━━━━\u001b[0m\u001b[37m\u001b[0m \u001b[1m3s\u001b[0m 5ms/step - accuracy: 0.6085 - loss: 0.6773 - val_accuracy: 0.4946 - val_loss: 0.6953\n",
      "Epoch 28/70\n",
      "\u001b[1m626/626\u001b[0m \u001b[32m━━━━━━━━━━━━━━━━━━━━\u001b[0m\u001b[37m\u001b[0m \u001b[1m3s\u001b[0m 5ms/step - accuracy: 0.6075 - loss: 0.6771 - val_accuracy: 0.4951 - val_loss: 0.6956\n",
      "Epoch 29/70\n",
      "\u001b[1m626/626\u001b[0m \u001b[32m━━━━━━━━━━━━━━━━━━━━\u001b[0m\u001b[37m\u001b[0m \u001b[1m3s\u001b[0m 5ms/step - accuracy: 0.6061 - loss: 0.6767 - val_accuracy: 0.4866 - val_loss: 0.6961\n",
      "Epoch 30/70\n",
      "\u001b[1m626/626\u001b[0m \u001b[32m━━━━━━━━━━━━━━━━━━━━\u001b[0m\u001b[37m\u001b[0m \u001b[1m3s\u001b[0m 5ms/step - accuracy: 0.6106 - loss: 0.6750 - val_accuracy: 0.4846 - val_loss: 0.6968\n",
      "Epoch 31/70\n",
      "\u001b[1m626/626\u001b[0m \u001b[32m━━━━━━━━━━━━━━━━━━━━\u001b[0m\u001b[37m\u001b[0m \u001b[1m3s\u001b[0m 5ms/step - accuracy: 0.6161 - loss: 0.6731 - val_accuracy: 0.4909 - val_loss: 0.6963\n",
      "Epoch 32/70\n",
      "\u001b[1m626/626\u001b[0m \u001b[32m━━━━━━━━━━━━━━━━━━━━\u001b[0m\u001b[37m\u001b[0m \u001b[1m3s\u001b[0m 5ms/step - accuracy: 0.6132 - loss: 0.6722 - val_accuracy: 0.4849 - val_loss: 0.6972\n",
      "Epoch 33/70\n",
      "\u001b[1m626/626\u001b[0m \u001b[32m━━━━━━━━━━━━━━━━━━━━\u001b[0m\u001b[37m\u001b[0m \u001b[1m3s\u001b[0m 5ms/step - accuracy: 0.6148 - loss: 0.6713 - val_accuracy: 0.4981 - val_loss: 0.6962\n",
      "Epoch 34/70\n",
      "\u001b[1m626/626\u001b[0m \u001b[32m━━━━━━━━━━━━━━━━━━━━\u001b[0m\u001b[37m\u001b[0m \u001b[1m3s\u001b[0m 5ms/step - accuracy: 0.6250 - loss: 0.6690 - val_accuracy: 0.4946 - val_loss: 0.6969\n",
      "Epoch 35/70\n",
      "\u001b[1m626/626\u001b[0m \u001b[32m━━━━━━━━━━━━━━━━━━━━\u001b[0m\u001b[37m\u001b[0m \u001b[1m3s\u001b[0m 5ms/step - accuracy: 0.6274 - loss: 0.6676 - val_accuracy: 0.4859 - val_loss: 0.6982\n",
      "Epoch 36/70\n",
      "\u001b[1m626/626\u001b[0m \u001b[32m━━━━━━━━━━━━━━━━━━━━\u001b[0m\u001b[37m\u001b[0m \u001b[1m3s\u001b[0m 5ms/step - accuracy: 0.6268 - loss: 0.6657 - val_accuracy: 0.4966 - val_loss: 0.6974\n",
      "Epoch 37/70\n",
      "\u001b[1m626/626\u001b[0m \u001b[32m━━━━━━━━━━━━━━━━━━━━\u001b[0m\u001b[37m\u001b[0m \u001b[1m3s\u001b[0m 5ms/step - accuracy: 0.6301 - loss: 0.6648 - val_accuracy: 0.4934 - val_loss: 0.6981\n",
      "Epoch 38/70\n",
      "\u001b[1m626/626\u001b[0m \u001b[32m━━━━━━━━━━━━━━━━━━━━\u001b[0m\u001b[37m\u001b[0m \u001b[1m3s\u001b[0m 5ms/step - accuracy: 0.6337 - loss: 0.6620 - val_accuracy: 0.4899 - val_loss: 0.6992\n",
      "Epoch 39/70\n",
      "\u001b[1m626/626\u001b[0m \u001b[32m━━━━━━━━━━━━━━━━━━━━\u001b[0m\u001b[37m\u001b[0m \u001b[1m3s\u001b[0m 5ms/step - accuracy: 0.6349 - loss: 0.6607 - val_accuracy: 0.4834 - val_loss: 0.7010\n",
      "Epoch 40/70\n",
      "\u001b[1m626/626\u001b[0m \u001b[32m━━━━━━━━━━━━━━━━━━━━\u001b[0m\u001b[37m\u001b[0m \u001b[1m3s\u001b[0m 5ms/step - accuracy: 0.6375 - loss: 0.6573 - val_accuracy: 0.4916 - val_loss: 0.7000\n",
      "Epoch 41/70\n",
      "\u001b[1m626/626\u001b[0m \u001b[32m━━━━━━━━━━━━━━━━━━━━\u001b[0m\u001b[37m\u001b[0m \u001b[1m3s\u001b[0m 5ms/step - accuracy: 0.6439 - loss: 0.6554 - val_accuracy: 0.4934 - val_loss: 0.7006\n",
      "Epoch 42/70\n",
      "\u001b[1m626/626\u001b[0m \u001b[32m━━━━━━━━━━━━━━━━━━━━\u001b[0m\u001b[37m\u001b[0m \u001b[1m3s\u001b[0m 5ms/step - accuracy: 0.6399 - loss: 0.6530 - val_accuracy: 0.4914 - val_loss: 0.7019\n",
      "Epoch 43/70\n",
      "\u001b[1m626/626\u001b[0m \u001b[32m━━━━━━━━━━━━━━━━━━━━\u001b[0m\u001b[37m\u001b[0m \u001b[1m3s\u001b[0m 5ms/step - accuracy: 0.6423 - loss: 0.6508 - val_accuracy: 0.4974 - val_loss: 0.7015\n",
      "Epoch 44/70\n",
      "\u001b[1m626/626\u001b[0m \u001b[32m━━━━━━━━━━━━━━━━━━━━\u001b[0m\u001b[37m\u001b[0m \u001b[1m3s\u001b[0m 5ms/step - accuracy: 0.6466 - loss: 0.6486 - val_accuracy: 0.4994 - val_loss: 0.7020\n",
      "Epoch 45/70\n",
      "\u001b[1m626/626\u001b[0m \u001b[32m━━━━━━━━━━━━━━━━━━━━\u001b[0m\u001b[37m\u001b[0m \u001b[1m3s\u001b[0m 5ms/step - accuracy: 0.6549 - loss: 0.6435 - val_accuracy: 0.4946 - val_loss: 0.7041\n",
      "Epoch 46/70\n",
      "\u001b[1m626/626\u001b[0m \u001b[32m━━━━━━━━━━━━━━━━━━━━\u001b[0m\u001b[37m\u001b[0m \u001b[1m3s\u001b[0m 5ms/step - accuracy: 0.6557 - loss: 0.6412 - val_accuracy: 0.4979 - val_loss: 0.7044\n",
      "Epoch 47/70\n",
      "\u001b[1m626/626\u001b[0m \u001b[32m━━━━━━━━━━━━━━━━━━━━\u001b[0m\u001b[37m\u001b[0m \u001b[1m3s\u001b[0m 5ms/step - accuracy: 0.6557 - loss: 0.6397 - val_accuracy: 0.4981 - val_loss: 0.7062\n",
      "Epoch 48/70\n",
      "\u001b[1m626/626\u001b[0m \u001b[32m━━━━━━━━━━━━━━━━━━━━\u001b[0m\u001b[37m\u001b[0m \u001b[1m3s\u001b[0m 5ms/step - accuracy: 0.6629 - loss: 0.6355 - val_accuracy: 0.5046 - val_loss: 0.7056\n",
      "Epoch 49/70\n",
      "\u001b[1m626/626\u001b[0m \u001b[32m━━━━━━━━━━━━━━━━━━━━\u001b[0m\u001b[37m\u001b[0m \u001b[1m3s\u001b[0m 5ms/step - accuracy: 0.6655 - loss: 0.6306 - val_accuracy: 0.5009 - val_loss: 0.7086\n",
      "Epoch 50/70\n",
      "\u001b[1m626/626\u001b[0m \u001b[32m━━━━━━━━━━━━━━━━━━━━\u001b[0m\u001b[37m\u001b[0m \u001b[1m3s\u001b[0m 5ms/step - accuracy: 0.6649 - loss: 0.6285 - val_accuracy: 0.4989 - val_loss: 0.7115\n",
      "Epoch 51/70\n",
      "\u001b[1m626/626\u001b[0m \u001b[32m━━━━━━━━━━━━━━━━━━━━\u001b[0m\u001b[37m\u001b[0m \u001b[1m3s\u001b[0m 5ms/step - accuracy: 0.6714 - loss: 0.6231 - val_accuracy: 0.5009 - val_loss: 0.7125\n",
      "Epoch 52/70\n",
      "\u001b[1m626/626\u001b[0m \u001b[32m━━━━━━━━━━━━━━━━━━━━\u001b[0m\u001b[37m\u001b[0m \u001b[1m3s\u001b[0m 5ms/step - accuracy: 0.6667 - loss: 0.6236 - val_accuracy: 0.5051 - val_loss: 0.7129\n",
      "Epoch 53/70\n",
      "\u001b[1m626/626\u001b[0m \u001b[32m━━━━━━━━━━━━━━━━━━━━\u001b[0m\u001b[37m\u001b[0m \u001b[1m3s\u001b[0m 5ms/step - accuracy: 0.6723 - loss: 0.6183 - val_accuracy: 0.5059 - val_loss: 0.7150\n",
      "Epoch 54/70\n",
      "\u001b[1m626/626\u001b[0m \u001b[32m━━━━━━━━━━━━━━━━━━━━\u001b[0m\u001b[37m\u001b[0m \u001b[1m3s\u001b[0m 5ms/step - accuracy: 0.6790 - loss: 0.6130 - val_accuracy: 0.5019 - val_loss: 0.7194\n",
      "Epoch 55/70\n",
      "\u001b[1m626/626\u001b[0m \u001b[32m━━━━━━━━━━━━━━━━━━━━\u001b[0m\u001b[37m\u001b[0m \u001b[1m3s\u001b[0m 5ms/step - accuracy: 0.6793 - loss: 0.6098 - val_accuracy: 0.5019 - val_loss: 0.7222\n",
      "Epoch 56/70\n",
      "\u001b[1m626/626\u001b[0m \u001b[32m━━━━━━━━━━━━━━━━━━━━\u001b[0m\u001b[37m\u001b[0m \u001b[1m3s\u001b[0m 5ms/step - accuracy: 0.6833 - loss: 0.6039 - val_accuracy: 0.5034 - val_loss: 0.7248\n",
      "Epoch 57/70\n",
      "\u001b[1m626/626\u001b[0m \u001b[32m━━━━━━━━━━━━━━━━━━━━\u001b[0m\u001b[37m\u001b[0m \u001b[1m3s\u001b[0m 5ms/step - accuracy: 0.6884 - loss: 0.5996 - val_accuracy: 0.5054 - val_loss: 0.7273\n",
      "Epoch 58/70\n",
      "\u001b[1m626/626\u001b[0m \u001b[32m━━━━━━━━━━━━━━━━━━━━\u001b[0m\u001b[37m\u001b[0m \u001b[1m3s\u001b[0m 5ms/step - accuracy: 0.6972 - loss: 0.5936 - val_accuracy: 0.5074 - val_loss: 0.7291\n",
      "Epoch 59/70\n",
      "\u001b[1m626/626\u001b[0m \u001b[32m━━━━━━━━━━━━━━━━━━━━\u001b[0m\u001b[37m\u001b[0m \u001b[1m3s\u001b[0m 5ms/step - accuracy: 0.6955 - loss: 0.5890 - val_accuracy: 0.5029 - val_loss: 0.7364\n",
      "Epoch 60/70\n",
      "\u001b[1m626/626\u001b[0m \u001b[32m━━━━━━━━━━━━━━━━━━━━\u001b[0m\u001b[37m\u001b[0m \u001b[1m3s\u001b[0m 5ms/step - accuracy: 0.6971 - loss: 0.5837 - val_accuracy: 0.5016 - val_loss: 0.7412\n",
      "Epoch 61/70\n",
      "\u001b[1m626/626\u001b[0m \u001b[32m━━━━━━━━━━━━━━━━━━━━\u001b[0m\u001b[37m\u001b[0m \u001b[1m3s\u001b[0m 5ms/step - accuracy: 0.7012 - loss: 0.5815 - val_accuracy: 0.5116 - val_loss: 0.7386\n",
      "Epoch 62/70\n",
      "\u001b[1m626/626\u001b[0m \u001b[32m━━━━━━━━━━━━━━━━━━━━\u001b[0m\u001b[37m\u001b[0m \u001b[1m3s\u001b[0m 5ms/step - accuracy: 0.7004 - loss: 0.5793 - val_accuracy: 0.5054 - val_loss: 0.7468\n",
      "Epoch 63/70\n",
      "\u001b[1m626/626\u001b[0m \u001b[32m━━━━━━━━━━━━━━━━━━━━\u001b[0m\u001b[37m\u001b[0m \u001b[1m3s\u001b[0m 5ms/step - accuracy: 0.7065 - loss: 0.5754 - val_accuracy: 0.5094 - val_loss: 0.7485\n",
      "Epoch 64/70\n",
      "\u001b[1m626/626\u001b[0m \u001b[32m━━━━━━━━━━━━━━━━━━━━\u001b[0m\u001b[37m\u001b[0m \u001b[1m3s\u001b[0m 5ms/step - accuracy: 0.7038 - loss: 0.5712 - val_accuracy: 0.4989 - val_loss: 0.7623\n",
      "Epoch 65/70\n",
      "\u001b[1m626/626\u001b[0m \u001b[32m━━━━━━━━━━━━━━━━━━━━\u001b[0m\u001b[37m\u001b[0m \u001b[1m3s\u001b[0m 5ms/step - accuracy: 0.7097 - loss: 0.5653 - val_accuracy: 0.5061 - val_loss: 0.7608\n",
      "Epoch 66/70\n",
      "\u001b[1m626/626\u001b[0m \u001b[32m━━━━━━━━━━━━━━━━━━━━\u001b[0m\u001b[37m\u001b[0m \u001b[1m3s\u001b[0m 5ms/step - accuracy: 0.7059 - loss: 0.5668 - val_accuracy: 0.5096 - val_loss: 0.7637\n",
      "Epoch 67/70\n",
      "\u001b[1m626/626\u001b[0m \u001b[32m━━━━━━━━━━━━━━━━━━━━\u001b[0m\u001b[37m\u001b[0m \u001b[1m3s\u001b[0m 5ms/step - accuracy: 0.7124 - loss: 0.5610 - val_accuracy: 0.5094 - val_loss: 0.7693\n",
      "Epoch 68/70\n",
      "\u001b[1m626/626\u001b[0m \u001b[32m━━━━━━━━━━━━━━━━━━━━\u001b[0m\u001b[37m\u001b[0m \u001b[1m3s\u001b[0m 5ms/step - accuracy: 0.7153 - loss: 0.5575 - val_accuracy: 0.5096 - val_loss: 0.7735\n",
      "Epoch 69/70\n",
      "\u001b[1m626/626\u001b[0m \u001b[32m━━━━━━━━━━━━━━━━━━━━\u001b[0m\u001b[37m\u001b[0m \u001b[1m3s\u001b[0m 5ms/step - accuracy: 0.7123 - loss: 0.5576 - val_accuracy: 0.5096 - val_loss: 0.7766\n",
      "Epoch 70/70\n",
      "\u001b[1m626/626\u001b[0m \u001b[32m━━━━━━━━━━━━━━━━━━━━\u001b[0m\u001b[37m\u001b[0m \u001b[1m3s\u001b[0m 5ms/step - accuracy: 0.7128 - loss: 0.5535 - val_accuracy: 0.5101 - val_loss: 0.7821\n",
      "\u001b[1m125/125\u001b[0m \u001b[32m━━━━━━━━━━━━━━━━━━━━\u001b[0m\u001b[37m\u001b[0m \u001b[1m0s\u001b[0m 3ms/step - accuracy: 0.5152 - loss: 0.7788\n",
      "\u001b[1m125/125\u001b[0m \u001b[32m━━━━━━━━━━━━━━━━━━━━\u001b[0m\u001b[37m\u001b[0m \u001b[1m1s\u001b[0m 3ms/step\n",
      "[[0.1591315 ]\n",
      " [0.58943963]\n",
      " [0.45693246]\n",
      " ...\n",
      " [0.24388213]\n",
      " [0.29499662]\n",
      " [0.41330644]]\n",
      "[[0]\n",
      " [1]\n",
      " [0]\n",
      " ...\n",
      " [0]\n",
      " [0]\n",
      " [0]]\n",
      "0       0\n",
      "1       1\n",
      "2       1\n",
      "3       1\n",
      "4       0\n",
      "       ..\n",
      "3989    0\n",
      "3990    1\n",
      "3991    1\n",
      "3992    0\n",
      "3993    1\n",
      "Name: label, Length: 3994, dtype: int64\n",
      "Test Loss: 0.7843688726425171, Test Accuracy: 0.5092638731002808\n",
      "\n"
     ]
    },
    {
     "data": {
      "image/png": "[encoded data removed]",
      "text/plain": [
       "<Figure size 640x480 with 1 Axes>"
      ]
     },
     "metadata": {},
     "output_type": "display_data"
    },
    {
     "name": "stdout",
     "output_type": "stream",
     "text": [
      "\n",
      "\n"
     ]
    },
    {
     "data": {
      "image/png": "[encoded data removed]",
      "text/plain": [
       "<Figure size 640x480 with 1 Axes>"
      ]
     },
     "metadata": {},
     "output_type": "display_data"
    },
    {
     "name": "stdout",
     "output_type": "stream",
     "text": [
      "\n",
      "Classification Report\n",
      "              precision    recall  f1-score   support\n",
      "\n",
      "           0       0.43      0.86      0.57      1518\n",
      "           1       0.77      0.30      0.43      2476\n",
      "\n",
      "    accuracy                           0.51      3994\n",
      "   macro avg       0.60      0.58      0.50      3994\n",
      "weighted avg       0.64      0.51      0.48      3994\n",
      "\n",
      "\n",
      "Confusion Matrix\n",
      "[[1300  218]\n",
      " [1742  734]]\n"
     ]
    },
    {
     "data": {
      "image/png": "[encoded data removed]",
      "text/plain": [
       "<Figure size 640x480 with 2 Axes>"
      ]
     },
     "metadata": {},
     "output_type": "display_data"
    },
    {
     "name": "stdout",
     "output_type": "stream",
     "text": [
      "Time taken: 218.0740 seconds\n"
     ]
    }
   ],
   "source": [
    "start_time_1 = time.perf_counter()\n",
    "with tensorflow.device('/device:GPU:0'):\n",
    "  # CNN model detection\n",
    "  # https://keras.io/api/layers/activations/#softmax-function\n",
    "  detection_model = tensorflow.keras.Sequential([\n",
    "      tensorflow.keras.layers.Input(shape=(X_rebalance.shape[1],X_rebalance.shape[2])),\n",
    "      tensorflow.keras.layers.Conv1D(filters=50, kernel_size=3, activation='sigmoid'),\n",
    "      tensorflow.keras.layers.MaxPooling1D(pool_size=2),\n",
    "      tensorflow.keras.layers.Dropout(0.3),\n",
    "      tensorflow.keras.layers.BatchNormalization(),\n",
    "      tensorflow.keras.layers.LSTM(64),\n",
    "      tensorflow.keras.layers.Flatten(),\n",
    "      # 1 layer\n",
    "      tensorflow.keras.layers.Dense(512, activation='relu'),\n",
    "      tensorflow.keras.layers.Dropout(0.5),\n",
    "      # either attack or normal\n",
    "      tensorflow.keras.layers.Dense(1, activation='sigmoid')\n",
    "  ])\n",
    "\n",
    "  detection_model.summary()\n",
    "  # https://keras.io/api/losses/probabilistic_losses/#probabilistic-losses\n",
    "  sgd = tensorflow.keras.optimizers.SGD(learning_rate=0.001)\n",
    "  detection_model.compile(optimizer=sgd,\n",
    "                loss=tensorflow.keras.losses.BinaryCrossentropy(from_logits=False),\n",
    "                metrics=['accuracy'])\n",
    "\n",
    "  history = detection_model.fit(X_rebalance, y_rebalance, batch_size=64, epochs=70, validation_data=(X_validation_encode, y_validation_encode))\n",
    "  test_loss, test_acc = detection_model.evaluate(X_test_encode, y_test_encode)\n",
    "\n",
    "  # Make predictions\n",
    "  prediction = detection_model.predict(X_test_encode)\n",
    "  print(prediction)\n",
    "  attack_prediction = numpy.where(prediction > 0.5, 1, 0)\n",
    "  print(attack_prediction)\n",
    "  print(y_test)\n",
    "\n",
    "  # Evaluate the model\n",
    "  print(f\"Test Loss: {test_loss}, Test Accuracy: {test_acc}\\n\")\n",
    "  # https://www.tensorflow.org/tutorials/keras/text_classification for training and validation loss and accuracy\n",
    "  history_dict = history.history\n",
    "  # print(history_dict.keys())\n",
    "  acc = history_dict['accuracy']\n",
    "  val_acc = history_dict['val_accuracy']\n",
    "  loss = history_dict['loss']\n",
    "  val_loss = history_dict['val_loss']\n",
    "\n",
    "  epochs = range(1, len(acc) + 1)\n",
    "\n",
    "  # \"bo\" is for \"blue dot\"\n",
    "  plt.plot(epochs, loss, 'bo', label='Training loss')\n",
    "  # b is for \"solid blue line\"\n",
    "  plt.plot(epochs, val_loss, 'b', label='Validation loss')\n",
    "  plt.title('Training and validation loss')\n",
    "  plt.xlabel('Epochs')\n",
    "  plt.ylabel('Loss')\n",
    "  plt.legend()\n",
    "  plt.show()\n",
    "  print(\"\\n\")\n",
    "\n",
    "  plt.plot(epochs, acc, 'bo', label='Training acc')\n",
    "  plt.plot(epochs, val_acc, 'b', label='Validation acc')\n",
    "  plt.title('Training and validation accuracy')\n",
    "  plt.xlabel('Epochs')\n",
    "  plt.ylabel('Accuracy')\n",
    "  plt.legend(loc='lower right')\n",
    "  plt.show()\n",
    "\n",
    "  print(\"\\nClassification Report\")\n",
    "  print(classification_report(y_test, attack_prediction))\n",
    "\n",
    "  print(\"\\nConfusion Matrix\")\n",
    "  print(confusion_matrix(y_test, attack_prediction))\n",
    "  ConfusionMatrixDisplay.from_predictions(y_test, attack_prediction)\n",
    "  plt.show()\n",
    "\n",
    "end_time1 = time.perf_counter()\n",
    "print(f\"Time taken: {end_time1 - start_time_1:0.4f} seconds\")"
   ]
  },
  {
   "cell_type": "markdown",
   "metadata": {
    "id": "uYXJh6CdfRuI"
   },
   "source": [
    "# Optimizing the model\n",
    "Instead of looking at random number ranges for learning rates, filters, and hidden units, we have encoded specific values.\n",
    "\n",
    "The hyper parameters we are attempting to optimize are:\n",
    "\n",
    "*   Batch Size\n",
    "*   Activation Functions\n",
    "*   Learning Rates\n",
    "*   Filters\n",
    "*   Hidden Units\n",
    "\n",
    "\n",
    "The base CNN model we made is ingested into *objective_function*.\n",
    "  This is where our hyper parameters are being considered.\n",
    "  It returns the Accuracy of that particular iteration.\n",
    "**LB** and **UB** is set according to the list given above.\n",
    "\n"
   ]
  },
  {
   "cell_type": "code",
   "execution_count": null,
   "metadata": {
    "colab": {
     "base_uri": "https://localhost:8080/"
    },
    "executionInfo": {
     "elapsed": 18119410,
     "status": "ok",
     "timestamp": 1744400851991,
     "user": {
      "displayName": "William Eng",
      "userId": "04561525569195545948"
     },
     "user_tz": 240
    },
    "id": "-nP_T-jq4-IO",
    "outputId": "95be7b7d-4c0a-4d19-a774-059ad1ac36f3"
   },
   "outputs": [
    {
     "name": "stderr",
     "output_type": "stream",
     "text": [
      "INFO:mealpy.swarm_based.FOX.OriginalFOX:Solving single objective optimization problem.\n"
     ]
    },
    {
     "name": "stdout",
     "output_type": "stream",
     "text": [
      "Accuracy 0.5106382966041565\n",
      "Accuracy 0.5774718523025513\n",
      "Accuracy 0.4708385467529297\n",
      "Accuracy 0.6157697141170502\n",
      "Accuracy 0.09386736154556274\n",
      "Accuracy 0.6157697141170502\n",
      "Accuracy 0.4851064085960388\n",
      "Accuracy 0.3694618344306946\n",
      "Accuracy 0.49737173318862915\n",
      "Accuracy 0.004755973815917969\n",
      "Accuracy 0.23304128646850586\n",
      "Accuracy 0.5118898749351501\n",
      "Accuracy 0.6157697141170502\n",
      "Accuracy 0.6157697141170502\n",
      "Accuracy 0.6157697141170502\n",
      "Accuracy 0.3842303156852722\n",
      "Accuracy 0.5707134008407593\n",
      "Accuracy 0.3842303156852722\n",
      "Accuracy 0.3842303156852722\n",
      "Accuracy 0.3842303156852722\n",
      "Accuracy 0.4392991065979004\n",
      "Accuracy 0.6157697141170502\n",
      "Accuracy 0.30137670040130615\n",
      "Accuracy 0.6157697141170502\n",
      "Accuracy 0.6190237700939178\n",
      "Accuracy 0.6157697141170502\n",
      "Accuracy 0.1406758427619934\n",
      "Accuracy 0.23904883861541748\n",
      "Accuracy 0.1101377010345459\n",
      "Accuracy 0.3842303156852722\n",
      "Accuracy 0.6157697141170502\n",
      "Accuracy 0.20300376415252686\n",
      "Accuracy 0.13466835021972656\n",
      "Accuracy 0.3842303156852722\n",
      "Accuracy 0.3842303156852722\n",
      "Accuracy 0.6157697141170502\n",
      "Accuracy 0.5259073972702026\n",
      "Accuracy 0.2080100178718567\n",
      "Accuracy 0.3842303156852722\n",
      "Accuracy 0.3842303156852722\n"
     ]
    },
    {
     "name": "stderr",
     "output_type": "stream",
     "text": [
      "INFO:mealpy.swarm_based.FOX.OriginalFOX:>>>Problem: P, Epoch: 1, Current best: 0.1101377010345459, Global best: 0.004755973815917969, Runtime: 1111.96574 seconds\n"
     ]
    },
    {
     "name": "stdout",
     "output_type": "stream",
     "text": [
      "Accuracy 0.13366711139678955\n",
      "Accuracy 0.6157697141170502\n",
      "Accuracy 0.3842303156852722\n",
      "Accuracy 0.3842303156852722\n",
      "Accuracy 0.3842303156852722\n",
      "Accuracy 0.29712140560150146\n",
      "Accuracy 0.6157697141170502\n",
      "Accuracy 0.7053817212581635\n",
      "Accuracy 0.6157697141170502\n",
      "Accuracy 0.09411764144897461\n",
      "Accuracy 0.560450553894043\n",
      "Accuracy 0.30237799882888794\n",
      "Accuracy 0.3842303156852722\n",
      "Accuracy 0.3842303156852722\n",
      "Accuracy 0.3309136629104614\n",
      "Accuracy 0.11464327573776245\n",
      "Accuracy 0.3842303156852722\n",
      "Accuracy 0.6157697141170502\n",
      "Accuracy 0.13366711139678955\n",
      "Accuracy 0.06382977962493896\n"
     ]
    },
    {
     "name": "stderr",
     "output_type": "stream",
     "text": [
      "INFO:mealpy.swarm_based.FOX.OriginalFOX:>>>Problem: P, Epoch: 2, Current best: 0.06382977962493896, Global best: 0.004755973815917969, Runtime: 1239.23618 seconds\n"
     ]
    },
    {
     "name": "stdout",
     "output_type": "stream",
     "text": [
      "Accuracy 0.6157697141170502\n",
      "Accuracy 0.1479349136352539\n",
      "Accuracy 0.6155194044113159\n",
      "Accuracy 0.3842303156852722\n",
      "Accuracy 0.3842303156852722\n",
      "Accuracy 0.3842303156852722\n",
      "Accuracy 0.3842303156852722\n",
      "Accuracy 0.6157697141170502\n",
      "Accuracy 0.6157697141170502\n",
      "Accuracy 0.12190240621566772\n",
      "Accuracy 0.3842303156852722\n",
      "Accuracy 0.6157697141170502\n",
      "Accuracy 0.06733417510986328\n",
      "Accuracy 0.6157697141170502\n",
      "Accuracy 0.3842303156852722\n",
      "Accuracy 0.6157697141170502\n",
      "Accuracy 0.14192742109298706\n",
      "Accuracy 0.3842303156852722\n",
      "Accuracy 0.09812265634536743\n",
      "Accuracy 0.6157697141170502\n"
     ]
    },
    {
     "name": "stderr",
     "output_type": "stream",
     "text": [
      "INFO:mealpy.swarm_based.FOX.OriginalFOX:>>>Problem: P, Epoch: 3, Current best: 0.06733417510986328, Global best: 0.004755973815917969, Runtime: 1130.73133 seconds\n"
     ]
    },
    {
     "name": "stdout",
     "output_type": "stream",
     "text": [
      "Accuracy 0.3842303156852722\n",
      "Accuracy 0.3842303156852722\n",
      "Accuracy 0.5281602144241333\n",
      "Accuracy 0.09211516380310059\n",
      "Accuracy 0.6157697141170502\n",
      "Accuracy 0.13541924953460693\n",
      "Accuracy 0.1304129958152771\n",
      "Accuracy 0.03103882074356079\n",
      "Accuracy 0.3842303156852722\n",
      "Accuracy 0.01101374626159668\n",
      "Accuracy 0.3842303156852722\n",
      "Accuracy 0.3842303156852722\n",
      "Accuracy 0.3842303156852722\n",
      "Accuracy 0.6157697141170502\n",
      "Accuracy 0.6157697141170502\n",
      "Accuracy 0.6157697141170502\n",
      "Accuracy 0.3842303156852722\n",
      "Accuracy 0.05406761169433594\n",
      "Accuracy 0.3842303156852722\n",
      "Accuracy 0.6157697141170502\n"
     ]
    },
    {
     "name": "stderr",
     "output_type": "stream",
     "text": [
      "INFO:mealpy.swarm_based.FOX.OriginalFOX:>>>Problem: P, Epoch: 4, Current best: 0.01101374626159668, Global best: 0.004755973815917969, Runtime: 1256.60161 seconds\n"
     ]
    },
    {
     "name": "stdout",
     "output_type": "stream",
     "text": [
      "Accuracy 0.13541924953460693\n",
      "Accuracy 0.021026253700256348\n",
      "Accuracy 0.38147681951522827\n",
      "Accuracy 0.3842303156852722\n",
      "Accuracy 0.3842303156852722\n",
      "Accuracy 0.6157697141170502\n",
      "Accuracy 0.6157697141170502\n",
      "Accuracy 0.6157697141170502\n",
      "Accuracy 0.0035043954849243164\n",
      "Accuracy 0.6157697141170502\n",
      "Accuracy 0.6157697141170502\n",
      "Accuracy 0.3842303156852722\n",
      "Accuracy 0.3842303156852722\n",
      "Accuracy 0.3842303156852722\n",
      "Accuracy 0.6157697141170502\n",
      "Accuracy 0.3842303156852722\n",
      "Accuracy 0.3842303156852722\n",
      "Accuracy 0.6157697141170502\n",
      "Accuracy 0.3842303156852722\n",
      "Accuracy 0.6157697141170502\n"
     ]
    },
    {
     "name": "stderr",
     "output_type": "stream",
     "text": [
      "INFO:mealpy.swarm_based.FOX.OriginalFOX:>>>Problem: P, Epoch: 5, Current best: 0.0035043954849243164, Global best: 0.0035043954849243164, Runtime: 1398.42210 seconds\n"
     ]
    },
    {
     "name": "stdout",
     "output_type": "stream",
     "text": [
      "Accuracy 0.0911138653755188\n",
      "Accuracy 0.6157697141170502\n",
      "Accuracy 0.30137670040130615\n",
      "Accuracy 0.16695868968963623\n",
      "Accuracy 0.3842303156852722\n",
      "Accuracy 0.6157697141170502\n",
      "Accuracy 0.30963706970214844\n",
      "Accuracy 0.10312891006469727\n",
      "Accuracy 0.0538172721862793\n",
      "Accuracy 0.14418023824691772\n",
      "Accuracy 0.6157697141170502\n",
      "Accuracy 0.07459324598312378\n",
      "Accuracy 0.30137670040130615\n",
      "Accuracy 0.1764705777168274\n",
      "Accuracy 0.23879849910736084\n",
      "Accuracy 0.2803504467010498\n",
      "Accuracy 0.3842303156852722\n",
      "Accuracy 0.6157697141170502\n",
      "Accuracy 0.6157697141170502\n",
      "Accuracy 0.6157697141170502\n"
     ]
    },
    {
     "name": "stderr",
     "output_type": "stream",
     "text": [
      "INFO:mealpy.swarm_based.FOX.OriginalFOX:>>>Problem: P, Epoch: 6, Current best: 0.0538172721862793, Global best: 0.0035043954849243164, Runtime: 881.19659 seconds\n"
     ]
    },
    {
     "name": "stdout",
     "output_type": "stream",
     "text": [
      "Accuracy 0.3842303156852722\n",
      "Accuracy 0.3842303156852722\n",
      "Accuracy 0.5694618225097656\n",
      "Accuracy 0.19899874925613403\n",
      "Accuracy 0.11964958906173706\n",
      "Accuracy 0.6157697141170502\n",
      "Accuracy 0.6157697141170502\n",
      "Accuracy 0.010513126850128174\n",
      "Accuracy 0.3842303156852722\n",
      "Accuracy 0.17096370458602905\n",
      "Accuracy 0.016019999980926514\n",
      "Accuracy 0.1304129958152771\n",
      "Accuracy 0.6157697141170502\n",
      "Accuracy 0.6157697141170502\n",
      "Accuracy 0.04205256700515747\n",
      "Accuracy 0.13541924953460693\n",
      "Accuracy 0.006007492542266846\n",
      "Accuracy 0.2738422751426697\n",
      "Accuracy 0.16270339488983154\n",
      "Accuracy 0.6157697141170502\n"
     ]
    },
    {
     "name": "stderr",
     "output_type": "stream",
     "text": [
      "INFO:mealpy.swarm_based.FOX.OriginalFOX:>>>Problem: P, Epoch: 7, Current best: 0.006007492542266846, Global best: 0.0035043954849243164, Runtime: 1098.07749 seconds\n"
     ]
    },
    {
     "name": "stdout",
     "output_type": "stream",
     "text": [
      "Accuracy 0.6157697141170502\n",
      "Accuracy 0.026032567024230957\n",
      "Accuracy 0.6157697141170502\n",
      "Accuracy 0.27183979749679565\n",
      "Accuracy 0.6157697141170502\n",
      "Accuracy 0.6157697141170502\n",
      "Accuracy 0.3842303156852722\n",
      "Accuracy 0.4790988564491272\n",
      "Accuracy 0.19974970817565918\n",
      "Accuracy 0.5869837403297424\n",
      "Accuracy 0.13892364501953125\n",
      "Accuracy 0.23629534244537354\n",
      "Accuracy 0.6157697141170502\n",
      "Accuracy 0.28735917806625366\n",
      "Accuracy 0.3842303156852722\n",
      "Accuracy 0.3842303156852722\n",
      "Accuracy 0.6157697141170502\n",
      "Accuracy 0.6157697141170502\n",
      "Accuracy 0.291864812374115\n",
      "Accuracy 0.3842303156852722\n"
     ]
    },
    {
     "name": "stderr",
     "output_type": "stream",
     "text": [
      "INFO:mealpy.swarm_based.FOX.OriginalFOX:>>>Problem: P, Epoch: 8, Current best: 0.026032567024230957, Global best: 0.0035043954849243164, Runtime: 1182.87960 seconds\n"
     ]
    },
    {
     "name": "stdout",
     "output_type": "stream",
     "text": [
      "Accuracy 0.6387985050678253\n",
      "Accuracy 0.11664581298828125\n",
      "Accuracy 0.5244055092334747\n",
      "Accuracy 0.6157697141170502\n",
      "Accuracy 0.3842303156852722\n",
      "Accuracy 0.26257824897766113\n",
      "Accuracy 0.0372965931892395\n",
      "Accuracy 0.6157697141170502\n",
      "Accuracy 0.3842303156852722\n",
      "Accuracy 0.07584482431411743\n",
      "Accuracy 0.13591992855072021\n",
      "Accuracy 0.3046308159828186\n",
      "Accuracy 0.20725905895233154\n",
      "Accuracy 0.3842303156852722\n",
      "Accuracy 0.04755944013595581\n",
      "Accuracy 0.05882352590560913\n",
      "Accuracy 0.3842303156852722\n",
      "Accuracy 0.2332916259765625\n",
      "Accuracy 0.6157697141170502\n",
      "Accuracy 0.3842303156852722\n"
     ]
    },
    {
     "name": "stderr",
     "output_type": "stream",
     "text": [
      "INFO:mealpy.swarm_based.FOX.OriginalFOX:>>>Problem: P, Epoch: 9, Current best: 0.02503126859664917, Global best: 0.0035043954849243164, Runtime: 1054.46000 seconds\n"
     ]
    },
    {
     "name": "stdout",
     "output_type": "stream",
     "text": [
      "Accuracy 0.02503126859664917\n",
      "Accuracy 0.3126407861709595\n",
      "Accuracy 0.13216519355773926\n",
      "Accuracy 0.27183979749679565\n",
      "Accuracy 0.1226533055305481\n",
      "Accuracy 0.07584482431411743\n",
      "Accuracy 0.6157697141170502\n",
      "Accuracy 0.17296618223190308\n",
      "Accuracy 0.3842303156852722\n",
      "Accuracy 0.3842303156852722\n",
      "Accuracy 0.3842303156852722\n",
      "Accuracy 0.6157697141170502\n",
      "Accuracy 0.1919899582862854\n",
      "Accuracy 0.6157697141170502\n",
      "Accuracy 0.3842303156852722\n",
      "Accuracy 0.04630786180496216\n",
      "Accuracy 0.3842303156852722\n",
      "Accuracy 0.239549458026886\n",
      "Accuracy 0.19674593210220337\n",
      "Accuracy 0.3842303156852722\n"
     ]
    },
    {
     "name": "stderr",
     "output_type": "stream",
     "text": [
      "INFO:mealpy.swarm_based.FOX.OriginalFOX:>>>Problem: P, Epoch: 10, Current best: 0.04630786180496216, Global best: 0.0035043954849243164, Runtime: 1050.82889 seconds\n"
     ]
    },
    {
     "name": "stdout",
     "output_type": "stream",
     "text": [
      "Accuracy 0.3842303156852722\n",
      "Accuracy 0.04255318641662598\n",
      "Accuracy 0.4883604645729065\n",
      "Accuracy 0.6157697141170502\n",
      "Accuracy 0.6157697141170502\n",
      "Accuracy 0.3842303156852722\n",
      "Accuracy 0.6157697141170502\n",
      "Accuracy 0.2991238832473755\n",
      "Accuracy 0.04881101846694946\n",
      "Accuracy 0.6157697141170502\n",
      "Accuracy 0.029286623001098633\n",
      "Accuracy 0.6157697141170502\n",
      "Accuracy 0.3434292674064636\n",
      "Accuracy 0.15344178676605225\n",
      "Accuracy 0.29712140560150146\n",
      "Accuracy 0.08260327577590942\n",
      "Accuracy 0.03454315662384033\n",
      "Accuracy 0.6157697141170502\n",
      "Accuracy 0.3842303156852722\n",
      "Accuracy 0.2948685884475708\n"
     ]
    },
    {
     "name": "stderr",
     "output_type": "stream",
     "text": [
      "INFO:mealpy.swarm_based.FOX.OriginalFOX:>>>Problem: P, Epoch: 11, Current best: 0.029286623001098633, Global best: 0.0035043954849243164, Runtime: 1151.08730 seconds\n"
     ]
    },
    {
     "name": "stdout",
     "output_type": "stream",
     "text": [
      "Accuracy 0.3842303156852722\n",
      "Accuracy 0.3842303156852722\n",
      "Accuracy 0.3842303156852722\n",
      "Accuracy 0.6157697141170502\n",
      "Accuracy 0.6157697141170502\n",
      "Accuracy 0.3842303156852722\n",
      "Accuracy 0.3842303156852722\n",
      "Accuracy 0.13441801071166992\n",
      "Accuracy 0.7647058814764023\n",
      "Accuracy 0.20250314474105835\n",
      "Accuracy 0.3842303156852722\n",
      "Accuracy 0.6157697141170502\n",
      "Accuracy 0.13391739130020142\n",
      "Accuracy 0.10888612270355225\n",
      "Accuracy 0.3842303156852722\n",
      "Accuracy 0.3842303156852722\n",
      "Accuracy 0.27234041690826416\n",
      "Accuracy 0.6157697141170502\n",
      "Accuracy 0.3842303156852722\n",
      "Accuracy 0.18197745084762573\n"
     ]
    },
    {
     "name": "stderr",
     "output_type": "stream",
     "text": [
      "INFO:mealpy.swarm_based.FOX.OriginalFOX:>>>Problem: P, Epoch: 12, Current best: 0.06558197736740112, Global best: 0.0035043954849243164, Runtime: 1250.84188 seconds\n"
     ]
    },
    {
     "name": "stdout",
     "output_type": "stream",
     "text": [
      "Accuracy 0.06558197736740112\n",
      "Accuracy 0.13416773080825806\n",
      "Accuracy 0.3842303156852722\n",
      "Accuracy 0.6157697141170502\n",
      "Accuracy 0.6157697141170502\n",
      "Accuracy 0.29411762952804565\n",
      "Accuracy 0.13491863012313843\n",
      "Accuracy 0.204755961894989\n",
      "Accuracy 0.3842303156852722\n",
      "Accuracy 0.3839799761772156\n",
      "Accuracy 0.01126408576965332\n",
      "Accuracy 0.3842303156852722\n",
      "Accuracy 0.6157697141170502\n",
      "Accuracy 0.09987485408782959\n",
      "Accuracy 0.6157697141170502\n",
      "Accuracy 0.2668335437774658\n",
      "Accuracy 0.6157697141170502\n",
      "Accuracy 0.6157697141170502\n",
      "Accuracy 0.6157697141170502\n",
      "Accuracy 0.3842303156852722\n"
     ]
    },
    {
     "name": "stderr",
     "output_type": "stream",
     "text": [
      "INFO:mealpy.swarm_based.FOX.OriginalFOX:>>>Problem: P, Epoch: 13, Current best: 0.01126408576965332, Global best: 0.0035043954849243164, Runtime: 1208.17883 seconds\n"
     ]
    },
    {
     "name": "stdout",
     "output_type": "stream",
     "text": [
      "Accuracy 0.31639552116394043\n",
      "Accuracy 0.20200252532958984\n",
      "Accuracy 0.3842303156852722\n",
      "Accuracy 0.04580724239349365\n",
      "Accuracy 0.09461826086044312\n",
      "Accuracy 0.3842303156852722\n",
      "Accuracy 0.058322906494140625\n",
      "Accuracy 0.6157697141170502\n",
      "Accuracy 0.3842303156852722\n",
      "Accuracy 0.3842303156852722\n",
      "Accuracy 0.29987484216690063\n",
      "Accuracy 0.21451812982559204\n",
      "Accuracy 0.3842303156852722\n",
      "Accuracy 0.6157697141170502\n",
      "Accuracy 0.6157697141170502\n",
      "Accuracy 0.15819776058197021\n",
      "Accuracy 0.6157697141170502\n",
      "Accuracy 0.020775973796844482\n",
      "Accuracy 0.6157697141170502\n",
      "Accuracy 0.014768481254577637\n"
     ]
    },
    {
     "name": "stderr",
     "output_type": "stream",
     "text": [
      "INFO:mealpy.swarm_based.FOX.OriginalFOX:>>>Problem: P, Epoch: 14, Current best: 0.014768481254577637, Global best: 0.0035043954849243164, Runtime: 1131.40346 seconds\n"
     ]
    },
    {
     "name": "stdout",
     "output_type": "stream",
     "text": [
      "Accuracy 0.3842303156852722\n",
      "Accuracy 0.3842303156852722\n",
      "Accuracy 0.18548184633255005\n",
      "Accuracy 0.6157697141170502\n",
      "Accuracy 0.31589484214782715\n",
      "Accuracy 0.3842303156852722\n",
      "Accuracy 0.04931163787841797\n",
      "Accuracy 0.6157697141170502\n",
      "Accuracy 0.6157697141170502\n",
      "Accuracy 0.6157697141170502\n",
      "Accuracy 0.6157697141170502\n",
      "Accuracy 0.11289113759994507\n",
      "Accuracy 0.3041301369667053\n",
      "Accuracy 0.27434295415878296\n",
      "Accuracy 0.3123905062675476\n",
      "Accuracy 0.13366711139678955\n",
      "Accuracy 0.3842303156852722\n",
      "Accuracy 0.1371714472770691\n",
      "Accuracy 0.04931163787841797\n",
      "Accuracy 0.3206508159637451\n"
     ]
    },
    {
     "name": "stderr",
     "output_type": "stream",
     "text": [
      "INFO:mealpy.swarm_based.FOX.OriginalFOX:>>>Problem: P, Epoch: 15, Current best: 0.04931163787841797, Global best: 0.0035043954849243164, Runtime: 1017.79921 seconds\n"
     ]
    },
    {
     "name": "stdout",
     "output_type": "stream",
     "text": [
      "Accuracy 0.6157697141170502\n",
      "Solution: [2.99       5.65904311 5.99       2.20026759 1.58478236], Fitness: 0.0035043954849243164\n",
      "Solution: [2.99       5.65904311 5.99       2.20026759 1.58478236], Fitness: 0.0035043954849243164\n"
     ]
    }
   ],
   "source": [
    "BATCH_ENCODER = LabelEncoder()\n",
    "BATCH_ENCODER.fit([32, 64, 128])\n",
    "\n",
    "#act encoder --> Which activation function should be used?\n",
    "ACT_ENCODER = LabelEncoder()\n",
    "ACT_ENCODER.fit(['softmax', 'softplus', 'relu', 'tanh', 'sigmoid', 'hard_sigmoid', 'linear'])\n",
    "\n",
    "#Learning Rate encoder\n",
    "LR_ENCODER = LabelEncoder()\n",
    "LR_ENCODER.fit([0.0005, 0.001, 0.005, 0.01, 0.05, 0.1])\n",
    "\n",
    "\n",
    "#Filter encoder\n",
    "FILTER_ENCODER = LabelEncoder()\n",
    "FILTER_ENCODER.fit([25, 50, 75])\n",
    "\n",
    "#Hidden Units encoder\n",
    "HIDDEN_ENCODER = LabelEncoder()\n",
    "HIDDEN_ENCODER.fit([400, 512, 640])\n",
    "\n",
    "#Dense Layer encoder\n",
    "DENSE_ENCODER = LabelEncoder()\n",
    "DENSE_ENCODER.fit([5, 8, 10])\n",
    "\n",
    "def objective_function(params):\n",
    "  '''RULES:\n",
    "      Batch Size - 32, 64, 128\n",
    "      Activation - softmax, softplus, relu, tanh, sigmoid, hard_sigmoid, linear\n",
    "      Learning Rate - 0.0005, 0.001, 0.005, 0.01, 0.05, 0.1\n",
    "      Filters - 25, 50, 75\n",
    "      Hidden Units - 400, 512, 640\n",
    "      Dense Layers - 5, 8, 10\n",
    "  '''\n",
    "  batch_size = BATCH_ENCODER.inverse_transform([int(params[0])])[0]\n",
    "  activation = ACT_ENCODER.inverse_transform([int(params[1])])[0]\n",
    "  learning_rate = LR_ENCODER.inverse_transform([int(params[2])])[0]\n",
    "  filter = FILTER_ENCODER.inverse_transform([int(params[3])])[0]\n",
    "  hidden_units = HIDDEN_ENCODER.inverse_transform([int(params[4])])[0]\n",
    "  #dense_layers = DENSE_ENCODER.inverse_transform([int(params[5])])[0]\n",
    "  model = tensorflow.keras.Sequential()\n",
    "  model.add(tensorflow.keras.layers.Input(shape=(X_rebalance.shape[1], X_rebalance.shape[2]))),\n",
    "  model.add(tensorflow.keras.layers.Conv1D(filters=filter, kernel_size=3, activation='sigmoid')),\n",
    "  model.add(tensorflow.keras.layers.MaxPooling1D(pool_size=2)),\n",
    "  model.add(tensorflow.keras.layers.Dropout(0.3)),\n",
    "  model.add(tensorflow.keras.layers.BatchNormalization()),\n",
    "  model.add(tensorflow.keras.layers.LSTM(64)),\n",
    "  model.add(tensorflow.keras.layers.Flatten()),\n",
    "  model.add(tensorflow.keras.layers.Dense(int(hidden_units), activation=activation)),\n",
    "  model.add(tensorflow.keras.layers.Dropout(0.5)),\n",
    "  model.add(tensorflow.keras.layers.Dense(1, activation='sigmoid'))\n",
    "\n",
    "  #for i in range(int(dense_layers)):\n",
    "  #    model.add(tensorflow.keras.layers.Dense(1, activation='sigmoid'))\n",
    "\n",
    "  optimizer = tensorflow.keras.optimizers.SGD(learning_rate=learning_rate)\n",
    "  model.compile(optimizer=optimizer, loss='binary_crossentropy', metrics=['accuracy'])\n",
    "\n",
    "  history = model.fit(X_rebalance, y_rebalance, batch_size=batch_size, epochs=15, validation_data=(X_validation_encode, y_validation_encode), verbose=0)\n",
    "  min_validation_accuracy = 1-history.history['val_accuracy'][-1]\n",
    "  print(f\"Accuracy {min_validation_accuracy}\")\n",
    "  return min_validation_accuracy\n",
    "\n",
    "LB = [0, 0, 0, 0, 0]\n",
    "#LB = [0, 0, 0, 0, 0, 0]\n",
    "#UB = [2.99, 6.99, 2.99, 2.99, 2.99, 2.99]\n",
    "UB = [2.99, 6.99, 5.99, 2.99, 2.99]\n",
    "\n",
    "problem_dict = {\n",
    "    \"obj_func\": objective_function,\n",
    "    \"bounds\": FloatVar(lb=LB, ub=UB),\n",
    "    \"minmax\": \"min\",\n",
    "    \"verbose\": True\n",
    "}\n",
    "\n",
    "model = FOX.OriginalFOX(epoch=15, pop_size=20, c1=0.18, c2=0.82)\n",
    "g_best = model.solve(problem_dict)\n",
    "print(f\"Solution: {g_best.solution}, Fitness: {g_best.target.fitness}\")\n",
    "print(f\"Solution: {model.g_best.solution}, Fitness: {model.g_best.target.fitness}\")\n",
    "model.history.save_global_objectives_chart(filename=\"hello/goc\")\n",
    "model.history.save_local_objectives_chart(filename=\"hello/loc\")\n",
    "\n",
    "model.history.save_global_best_fitness_chart(filename=\"hello/gbfc\")\n",
    "model.history.save_local_best_fitness_chart(filename=\"hello/lbfc\")\n",
    "\n",
    "model.history.save_runtime_chart(filename=\"hello/rtc\")\n",
    "\n",
    "model.history.save_exploration_exploitation_chart(filename=\"hello/eec\")\n",
    "\n",
    "model.history.save_diversity_chart(filename=\"hello/dc\")\n",
    "\n",
    "#model.history.save_trajectory_chart(list_agent_idx=[3, 5, 6, 7,], selected_dimensions=[3, 4], filename=\"hello/tc\")\n",
    "# print(f\"Solution: {g_best.solution}, Fitness: {g_best.target.fitness}\")\n",
    "# print(f\"Solution: {model.g_best.solution}, Fitness: {model.g_best.target.fitness}\")\n",
    "\n",
    "#print(\"\\nConfusion Matrix\")\n",
    "#CHANGE ATTACK PREDICTION?\n",
    "#print(confusion_matrix(y_test, attack_prediction))\n",
    "#ConfusionMatrixDisplay.from_predictions(y_test, attack_prediction)\n",
    "#plt.show()"
   ]
  },
  {
   "cell_type": "markdown",
   "metadata": {
    "id": "WEzB4Lg810L_"
   },
   "source": [
    "\n",
    "\n",
    "Solution: [2.99       5.65904311 5.99       2.20026759 1.58478236], Fitness: 0.0035043954849243164\n",
    "\n",
    "Batch Size - 32, 64, **128**\n",
    "\n",
    "Activation - softmax, softplus, relu, tanh, sigmoid, **hard_sigmoid**, linear\n",
    "\n",
    "Learning Rate - 0.0005, 0.001, 0.005, 0.01, 0.05, **0.1**\n",
    "\n",
    "Filters - 25, 50, **75**\n",
    "\n",
    "Hidden Units - 400, **512**, 640"
   ]
  },
  {
   "cell_type": "code",
   "execution_count": null,
   "metadata": {
    "colab": {
     "base_uri": "https://localhost:8080/",
     "height": 1000
    },
    "executionInfo": {
     "elapsed": 115143,
     "status": "ok",
     "timestamp": 1744672405542,
     "user": {
      "displayName": "William Eng",
      "userId": "04561525569195545948"
     },
     "user_tz": 240
    },
    "id": "DcO8RPRf6zE5",
    "outputId": "a159dbc1-86ce-448a-9ad2-6df6f5ff8513"
   },
   "outputs": [
    {
     "data": {
      "text/html": [
       "<pre style=\"white-space:pre;overflow-x:auto;line-height:normal;font-family:Menlo,'DejaVu Sans Mono',consolas,'Courier New',monospace\"><span style=\"font-weight: bold\">Model: \"sequential\"</span>\n",
       "</pre>\n"
      ],
      "text/plain": [
       "\u001b[1mModel: \"sequential\"\u001b[0m\n"
      ]
     },
     "metadata": {},
     "output_type": "display_data"
    },
    {
     "data": {
      "text/html": [
       "<pre style=\"white-space:pre;overflow-x:auto;line-height:normal;font-family:Menlo,'DejaVu Sans Mono',consolas,'Courier New',monospace\">┏━━━━━━━━━━━━━━━━━━━━━━━━━━━━━━━━━┳━━━━━━━━━━━━━━━━━━━━━━━━┳━━━━━━━━━━━━━━━┓\n",
       "┃<span style=\"font-weight: bold\"> Layer (type)                    </span>┃<span style=\"font-weight: bold\"> Output Shape           </span>┃<span style=\"font-weight: bold\">       Param # </span>┃\n",
       "┡━━━━━━━━━━━━━━━━━━━━━━━━━━━━━━━━━╇━━━━━━━━━━━━━━━━━━━━━━━━╇━━━━━━━━━━━━━━━┩\n",
       "│ conv1d (<span style=\"color: #0087ff; text-decoration-color: #0087ff\">Conv1D</span>)                 │ (<span style=\"color: #00d7ff; text-decoration-color: #00d7ff\">None</span>, <span style=\"color: #00af00; text-decoration-color: #00af00\">2</span>, <span style=\"color: #00af00; text-decoration-color: #00af00\">75</span>)          │           <span style=\"color: #00af00; text-decoration-color: #00af00\">300</span> │\n",
       "├─────────────────────────────────┼────────────────────────┼───────────────┤\n",
       "│ max_pooling1d (<span style=\"color: #0087ff; text-decoration-color: #0087ff\">MaxPooling1D</span>)    │ (<span style=\"color: #00d7ff; text-decoration-color: #00d7ff\">None</span>, <span style=\"color: #00af00; text-decoration-color: #00af00\">1</span>, <span style=\"color: #00af00; text-decoration-color: #00af00\">75</span>)          │             <span style=\"color: #00af00; text-decoration-color: #00af00\">0</span> │\n",
       "├─────────────────────────────────┼────────────────────────┼───────────────┤\n",
       "│ dropout (<span style=\"color: #0087ff; text-decoration-color: #0087ff\">Dropout</span>)               │ (<span style=\"color: #00d7ff; text-decoration-color: #00d7ff\">None</span>, <span style=\"color: #00af00; text-decoration-color: #00af00\">1</span>, <span style=\"color: #00af00; text-decoration-color: #00af00\">75</span>)          │             <span style=\"color: #00af00; text-decoration-color: #00af00\">0</span> │\n",
       "├─────────────────────────────────┼────────────────────────┼───────────────┤\n",
       "│ batch_normalization             │ (<span style=\"color: #00d7ff; text-decoration-color: #00d7ff\">None</span>, <span style=\"color: #00af00; text-decoration-color: #00af00\">1</span>, <span style=\"color: #00af00; text-decoration-color: #00af00\">75</span>)          │           <span style=\"color: #00af00; text-decoration-color: #00af00\">300</span> │\n",
       "│ (<span style=\"color: #0087ff; text-decoration-color: #0087ff\">BatchNormalization</span>)            │                        │               │\n",
       "├─────────────────────────────────┼────────────────────────┼───────────────┤\n",
       "│ lstm (<span style=\"color: #0087ff; text-decoration-color: #0087ff\">LSTM</span>)                     │ (<span style=\"color: #00d7ff; text-decoration-color: #00d7ff\">None</span>, <span style=\"color: #00af00; text-decoration-color: #00af00\">64</span>)             │        <span style=\"color: #00af00; text-decoration-color: #00af00\">35,840</span> │\n",
       "├─────────────────────────────────┼────────────────────────┼───────────────┤\n",
       "│ flatten (<span style=\"color: #0087ff; text-decoration-color: #0087ff\">Flatten</span>)               │ (<span style=\"color: #00d7ff; text-decoration-color: #00d7ff\">None</span>, <span style=\"color: #00af00; text-decoration-color: #00af00\">64</span>)             │             <span style=\"color: #00af00; text-decoration-color: #00af00\">0</span> │\n",
       "├─────────────────────────────────┼────────────────────────┼───────────────┤\n",
       "│ dense (<span style=\"color: #0087ff; text-decoration-color: #0087ff\">Dense</span>)                   │ (<span style=\"color: #00d7ff; text-decoration-color: #00d7ff\">None</span>, <span style=\"color: #00af00; text-decoration-color: #00af00\">512</span>)            │        <span style=\"color: #00af00; text-decoration-color: #00af00\">33,280</span> │\n",
       "├─────────────────────────────────┼────────────────────────┼───────────────┤\n",
       "│ dropout_1 (<span style=\"color: #0087ff; text-decoration-color: #0087ff\">Dropout</span>)             │ (<span style=\"color: #00d7ff; text-decoration-color: #00d7ff\">None</span>, <span style=\"color: #00af00; text-decoration-color: #00af00\">512</span>)            │             <span style=\"color: #00af00; text-decoration-color: #00af00\">0</span> │\n",
       "├─────────────────────────────────┼────────────────────────┼───────────────┤\n",
       "│ dense_1 (<span style=\"color: #0087ff; text-decoration-color: #0087ff\">Dense</span>)                 │ (<span style=\"color: #00d7ff; text-decoration-color: #00d7ff\">None</span>, <span style=\"color: #00af00; text-decoration-color: #00af00\">1</span>)              │           <span style=\"color: #00af00; text-decoration-color: #00af00\">513</span> │\n",
       "└─────────────────────────────────┴────────────────────────┴───────────────┘\n",
       "</pre>\n"
      ],
      "text/plain": [
       "┏━━━━━━━━━━━━━━━━━━━━━━━━━━━━━━━━━┳━━━━━━━━━━━━━━━━━━━━━━━━┳━━━━━━━━━━━━━━━┓\n",
       "┃\u001b[1m \u001b[0m\u001b[1mLayer (type)                   \u001b[0m\u001b[1m \u001b[0m┃\u001b[1m \u001b[0m\u001b[1mOutput Shape          \u001b[0m\u001b[1m \u001b[0m┃\u001b[1m \u001b[0m\u001b[1m      Param #\u001b[0m\u001b[1m \u001b[0m┃\n",
       "┡━━━━━━━━━━━━━━━━━━━━━━━━━━━━━━━━━╇━━━━━━━━━━━━━━━━━━━━━━━━╇━━━━━━━━━━━━━━━┩\n",
       "│ conv1d (\u001b[38;5;33mConv1D\u001b[0m)                 │ (\u001b[38;5;45mNone\u001b[0m, \u001b[38;5;34m2\u001b[0m, \u001b[38;5;34m75\u001b[0m)          │           \u001b[38;5;34m300\u001b[0m │\n",
       "├─────────────────────────────────┼────────────────────────┼───────────────┤\n",
       "│ max_pooling1d (\u001b[38;5;33mMaxPooling1D\u001b[0m)    │ (\u001b[38;5;45mNone\u001b[0m, \u001b[38;5;34m1\u001b[0m, \u001b[38;5;34m75\u001b[0m)          │             \u001b[38;5;34m0\u001b[0m │\n",
       "├─────────────────────────────────┼────────────────────────┼───────────────┤\n",
       "│ dropout (\u001b[38;5;33mDropout\u001b[0m)               │ (\u001b[38;5;45mNone\u001b[0m, \u001b[38;5;34m1\u001b[0m, \u001b[38;5;34m75\u001b[0m)          │             \u001b[38;5;34m0\u001b[0m │\n",
       "├─────────────────────────────────┼────────────────────────┼───────────────┤\n",
       "│ batch_normalization             │ (\u001b[38;5;45mNone\u001b[0m, \u001b[38;5;34m1\u001b[0m, \u001b[38;5;34m75\u001b[0m)          │           \u001b[38;5;34m300\u001b[0m │\n",
       "│ (\u001b[38;5;33mBatchNormalization\u001b[0m)            │                        │               │\n",
       "├─────────────────────────────────┼────────────────────────┼───────────────┤\n",
       "│ lstm (\u001b[38;5;33mLSTM\u001b[0m)                     │ (\u001b[38;5;45mNone\u001b[0m, \u001b[38;5;34m64\u001b[0m)             │        \u001b[38;5;34m35,840\u001b[0m │\n",
       "├─────────────────────────────────┼────────────────────────┼───────────────┤\n",
       "│ flatten (\u001b[38;5;33mFlatten\u001b[0m)               │ (\u001b[38;5;45mNone\u001b[0m, \u001b[38;5;34m64\u001b[0m)             │             \u001b[38;5;34m0\u001b[0m │\n",
       "├─────────────────────────────────┼────────────────────────┼───────────────┤\n",
       "│ dense (\u001b[38;5;33mDense\u001b[0m)                   │ (\u001b[38;5;45mNone\u001b[0m, \u001b[38;5;34m512\u001b[0m)            │        \u001b[38;5;34m33,280\u001b[0m │\n",
       "├─────────────────────────────────┼────────────────────────┼───────────────┤\n",
       "│ dropout_1 (\u001b[38;5;33mDropout\u001b[0m)             │ (\u001b[38;5;45mNone\u001b[0m, \u001b[38;5;34m512\u001b[0m)            │             \u001b[38;5;34m0\u001b[0m │\n",
       "├─────────────────────────────────┼────────────────────────┼───────────────┤\n",
       "│ dense_1 (\u001b[38;5;33mDense\u001b[0m)                 │ (\u001b[38;5;45mNone\u001b[0m, \u001b[38;5;34m1\u001b[0m)              │           \u001b[38;5;34m513\u001b[0m │\n",
       "└─────────────────────────────────┴────────────────────────┴───────────────┘\n"
      ]
     },
     "metadata": {},
     "output_type": "display_data"
    },
    {
     "data": {
      "text/html": [
       "<pre style=\"white-space:pre;overflow-x:auto;line-height:normal;font-family:Menlo,'DejaVu Sans Mono',consolas,'Courier New',monospace\"><span style=\"font-weight: bold\"> Total params: </span><span style=\"color: #00af00; text-decoration-color: #00af00\">70,233</span> (274.35 KB)\n",
       "</pre>\n"
      ],
      "text/plain": [
       "\u001b[1m Total params: \u001b[0m\u001b[38;5;34m70,233\u001b[0m (274.35 KB)\n"
      ]
     },
     "metadata": {},
     "output_type": "display_data"
    },
    {
     "data": {
      "text/html": [
       "<pre style=\"white-space:pre;overflow-x:auto;line-height:normal;font-family:Menlo,'DejaVu Sans Mono',consolas,'Courier New',monospace\"><span style=\"font-weight: bold\"> Trainable params: </span><span style=\"color: #00af00; text-decoration-color: #00af00\">70,083</span> (273.76 KB)\n",
       "</pre>\n"
      ],
      "text/plain": [
       "\u001b[1m Trainable params: \u001b[0m\u001b[38;5;34m70,083\u001b[0m (273.76 KB)\n"
      ]
     },
     "metadata": {},
     "output_type": "display_data"
    },
    {
     "data": {
      "text/html": [
       "<pre style=\"white-space:pre;overflow-x:auto;line-height:normal;font-family:Menlo,'DejaVu Sans Mono',consolas,'Courier New',monospace\"><span style=\"font-weight: bold\"> Non-trainable params: </span><span style=\"color: #00af00; text-decoration-color: #00af00\">150</span> (600.00 B)\n",
       "</pre>\n"
      ],
      "text/plain": [
       "\u001b[1m Non-trainable params: \u001b[0m\u001b[38;5;34m150\u001b[0m (600.00 B)\n"
      ]
     },
     "metadata": {},
     "output_type": "display_data"
    },
    {
     "name": "stdout",
     "output_type": "stream",
     "text": [
      "Epoch 1/70\n",
      "\u001b[1m313/313\u001b[0m \u001b[32m━━━━━━━━━━━━━━━━━━━━\u001b[0m\u001b[37m\u001b[0m \u001b[1m7s\u001b[0m 7ms/step - accuracy: 0.4945 - loss: 1.4433 - val_accuracy: 0.3842 - val_loss: 1.8847\n",
      "Epoch 2/70\n",
      "\u001b[1m313/313\u001b[0m \u001b[32m━━━━━━━━━━━━━━━━━━━━\u001b[0m\u001b[37m\u001b[0m \u001b[1m1s\u001b[0m 5ms/step - accuracy: 0.5018 - loss: 1.3819 - val_accuracy: 0.6158 - val_loss: 0.8885\n",
      "Epoch 3/70\n",
      "\u001b[1m313/313\u001b[0m \u001b[32m━━━━━━━━━━━━━━━━━━━━\u001b[0m\u001b[37m\u001b[0m \u001b[1m2s\u001b[0m 5ms/step - accuracy: 0.5005 - loss: 1.3597 - val_accuracy: 0.3842 - val_loss: 1.3976\n",
      "Epoch 4/70\n",
      "\u001b[1m313/313\u001b[0m \u001b[32m━━━━━━━━━━━━━━━━━━━━\u001b[0m\u001b[37m\u001b[0m \u001b[1m1s\u001b[0m 5ms/step - accuracy: 0.5010 - loss: 1.3288 - val_accuracy: 0.6158 - val_loss: 1.0751\n",
      "Epoch 5/70\n",
      "\u001b[1m313/313\u001b[0m \u001b[32m━━━━━━━━━━━━━━━━━━━━\u001b[0m\u001b[37m\u001b[0m \u001b[1m1s\u001b[0m 5ms/step - accuracy: 0.5062 - loss: 1.2678 - val_accuracy: 0.3842 - val_loss: 1.8244\n",
      "Epoch 6/70\n",
      "\u001b[1m313/313\u001b[0m \u001b[32m━━━━━━━━━━━━━━━━━━━━\u001b[0m\u001b[37m\u001b[0m \u001b[1m2s\u001b[0m 5ms/step - accuracy: 0.4973 - loss: 1.2998 - val_accuracy: 0.6158 - val_loss: 0.9706\n",
      "Epoch 7/70\n",
      "\u001b[1m313/313\u001b[0m \u001b[32m━━━━━━━━━━━━━━━━━━━━\u001b[0m\u001b[37m\u001b[0m \u001b[1m2s\u001b[0m 5ms/step - accuracy: 0.5081 - loss: 1.1596 - val_accuracy: 0.3842 - val_loss: 1.3461\n",
      "Epoch 8/70\n",
      "\u001b[1m313/313\u001b[0m \u001b[32m━━━━━━━━━━━━━━━━━━━━\u001b[0m\u001b[37m\u001b[0m \u001b[1m1s\u001b[0m 5ms/step - accuracy: 0.5502 - loss: 0.9495 - val_accuracy: 0.6158 - val_loss: 0.7065\n",
      "Epoch 9/70\n",
      "\u001b[1m313/313\u001b[0m \u001b[32m━━━━━━━━━━━━━━━━━━━━\u001b[0m\u001b[37m\u001b[0m \u001b[1m2s\u001b[0m 5ms/step - accuracy: 0.7017 - loss: 0.6100 - val_accuracy: 0.4906 - val_loss: 0.9598\n",
      "Epoch 10/70\n",
      "\u001b[1m313/313\u001b[0m \u001b[32m━━━━━━━━━━━━━━━━━━━━\u001b[0m\u001b[37m\u001b[0m \u001b[1m1s\u001b[0m 5ms/step - accuracy: 0.7707 - loss: 0.5044 - val_accuracy: 0.5932 - val_loss: 0.6988\n",
      "Epoch 11/70\n",
      "\u001b[1m313/313\u001b[0m \u001b[32m━━━━━━━━━━━━━━━━━━━━\u001b[0m\u001b[37m\u001b[0m \u001b[1m1s\u001b[0m 5ms/step - accuracy: 0.8010 - loss: 0.4490 - val_accuracy: 0.5637 - val_loss: 1.0674\n",
      "Epoch 12/70\n",
      "\u001b[1m313/313\u001b[0m \u001b[32m━━━━━━━━━━━━━━━━━━━━\u001b[0m\u001b[37m\u001b[0m \u001b[1m2s\u001b[0m 5ms/step - accuracy: 0.8239 - loss: 0.4018 - val_accuracy: 0.6058 - val_loss: 0.7404\n",
      "Epoch 13/70\n",
      "\u001b[1m313/313\u001b[0m \u001b[32m━━━━━━━━━━━━━━━━━━━━\u001b[0m\u001b[37m\u001b[0m \u001b[1m2s\u001b[0m 5ms/step - accuracy: 0.8333 - loss: 0.3812 - val_accuracy: 0.6491 - val_loss: 0.6900\n",
      "Epoch 14/70\n",
      "\u001b[1m313/313\u001b[0m \u001b[32m━━━━━━━━━━━━━━━━━━━━\u001b[0m\u001b[37m\u001b[0m \u001b[1m2s\u001b[0m 5ms/step - accuracy: 0.8479 - loss: 0.3439 - val_accuracy: 0.6761 - val_loss: 0.6895\n",
      "Epoch 15/70\n",
      "\u001b[1m313/313\u001b[0m \u001b[32m━━━━━━━━━━━━━━━━━━━━\u001b[0m\u001b[37m\u001b[0m \u001b[1m2s\u001b[0m 5ms/step - accuracy: 0.8602 - loss: 0.3198 - val_accuracy: 0.7121 - val_loss: 0.5900\n",
      "Epoch 16/70\n",
      "\u001b[1m313/313\u001b[0m \u001b[32m━━━━━━━━━━━━━━━━━━━━\u001b[0m\u001b[37m\u001b[0m \u001b[1m1s\u001b[0m 5ms/step - accuracy: 0.8671 - loss: 0.3091 - val_accuracy: 0.6964 - val_loss: 0.6273\n",
      "Epoch 17/70\n",
      "\u001b[1m313/313\u001b[0m \u001b[32m━━━━━━━━━━━━━━━━━━━━\u001b[0m\u001b[37m\u001b[0m \u001b[1m2s\u001b[0m 5ms/step - accuracy: 0.8739 - loss: 0.2898 - val_accuracy: 0.6793 - val_loss: 0.7450\n",
      "Epoch 18/70\n",
      "\u001b[1m313/313\u001b[0m \u001b[32m━━━━━━━━━━━━━━━━━━━━\u001b[0m\u001b[37m\u001b[0m \u001b[1m1s\u001b[0m 5ms/step - accuracy: 0.8829 - loss: 0.2722 - val_accuracy: 0.7139 - val_loss: 0.6062\n",
      "Epoch 19/70\n",
      "\u001b[1m313/313\u001b[0m \u001b[32m━━━━━━━━━━━━━━━━━━━━\u001b[0m\u001b[37m\u001b[0m \u001b[1m1s\u001b[0m 5ms/step - accuracy: 0.8960 - loss: 0.2462 - val_accuracy: 0.7925 - val_loss: 0.4069\n",
      "Epoch 20/70\n",
      "\u001b[1m313/313\u001b[0m \u001b[32m━━━━━━━━━━━━━━━━━━━━\u001b[0m\u001b[37m\u001b[0m \u001b[1m1s\u001b[0m 5ms/step - accuracy: 0.8954 - loss: 0.2429 - val_accuracy: 0.7174 - val_loss: 0.6483\n",
      "Epoch 21/70\n",
      "\u001b[1m313/313\u001b[0m \u001b[32m━━━━━━━━━━━━━━━━━━━━\u001b[0m\u001b[37m\u001b[0m \u001b[1m2s\u001b[0m 5ms/step - accuracy: 0.8969 - loss: 0.2407 - val_accuracy: 0.7487 - val_loss: 0.5851\n",
      "Epoch 22/70\n",
      "\u001b[1m313/313\u001b[0m \u001b[32m━━━━━━━━━━━━━━━━━━━━\u001b[0m\u001b[37m\u001b[0m \u001b[1m2s\u001b[0m 5ms/step - accuracy: 0.9070 - loss: 0.2227 - val_accuracy: 0.7807 - val_loss: 0.4894\n",
      "Epoch 23/70\n",
      "\u001b[1m313/313\u001b[0m \u001b[32m━━━━━━━━━━━━━━━━━━━━\u001b[0m\u001b[37m\u001b[0m \u001b[1m2s\u001b[0m 5ms/step - accuracy: 0.9119 - loss: 0.2122 - val_accuracy: 0.7827 - val_loss: 0.4477\n",
      "Epoch 24/70\n",
      "\u001b[1m313/313\u001b[0m \u001b[32m━━━━━━━━━━━━━━━━━━━━\u001b[0m\u001b[37m\u001b[0m \u001b[1m2s\u001b[0m 5ms/step - accuracy: 0.9182 - loss: 0.1946 - val_accuracy: 0.8228 - val_loss: 0.3004\n",
      "Epoch 25/70\n",
      "\u001b[1m313/313\u001b[0m \u001b[32m━━━━━━━━━━━━━━━━━━━━\u001b[0m\u001b[37m\u001b[0m \u001b[1m2s\u001b[0m 5ms/step - accuracy: 0.9196 - loss: 0.1923 - val_accuracy: 0.7935 - val_loss: 0.3658\n",
      "Epoch 26/70\n",
      "\u001b[1m313/313\u001b[0m \u001b[32m━━━━━━━━━━━━━━━━━━━━\u001b[0m\u001b[37m\u001b[0m \u001b[1m2s\u001b[0m 5ms/step - accuracy: 0.9294 - loss: 0.1706 - val_accuracy: 0.9377 - val_loss: 0.1775\n",
      "Epoch 27/70\n",
      "\u001b[1m313/313\u001b[0m \u001b[32m━━━━━━━━━━━━━━━━━━━━\u001b[0m\u001b[37m\u001b[0m \u001b[1m2s\u001b[0m 5ms/step - accuracy: 0.9283 - loss: 0.1724 - val_accuracy: 0.7765 - val_loss: 0.5110\n",
      "Epoch 28/70\n",
      "\u001b[1m313/313\u001b[0m \u001b[32m━━━━━━━━━━━━━━━━━━━━\u001b[0m\u001b[37m\u001b[0m \u001b[1m1s\u001b[0m 5ms/step - accuracy: 0.9324 - loss: 0.1667 - val_accuracy: 0.8483 - val_loss: 0.2653\n",
      "Epoch 29/70\n",
      "\u001b[1m313/313\u001b[0m \u001b[32m━━━━━━━━━━━━━━━━━━━━\u001b[0m\u001b[37m\u001b[0m \u001b[1m1s\u001b[0m 5ms/step - accuracy: 0.9357 - loss: 0.1550 - val_accuracy: 0.9219 - val_loss: 0.1801\n",
      "Epoch 30/70\n",
      "\u001b[1m313/313\u001b[0m \u001b[32m━━━━━━━━━━━━━━━━━━━━\u001b[0m\u001b[37m\u001b[0m \u001b[1m2s\u001b[0m 5ms/step - accuracy: 0.9390 - loss: 0.1507 - val_accuracy: 0.8406 - val_loss: 0.2746\n",
      "Epoch 31/70\n",
      "\u001b[1m313/313\u001b[0m \u001b[32m━━━━━━━━━━━━━━━━━━━━\u001b[0m\u001b[37m\u001b[0m \u001b[1m2s\u001b[0m 5ms/step - accuracy: 0.9403 - loss: 0.1428 - val_accuracy: 0.9086 - val_loss: 0.1844\n",
      "Epoch 32/70\n",
      "\u001b[1m313/313\u001b[0m \u001b[32m━━━━━━━━━━━━━━━━━━━━\u001b[0m\u001b[37m\u001b[0m \u001b[1m2s\u001b[0m 5ms/step - accuracy: 0.9466 - loss: 0.1327 - val_accuracy: 0.9324 - val_loss: 0.1636\n",
      "Epoch 33/70\n",
      "\u001b[1m313/313\u001b[0m \u001b[32m━━━━━━━━━━━━━━━━━━━━\u001b[0m\u001b[37m\u001b[0m \u001b[1m1s\u001b[0m 5ms/step - accuracy: 0.9464 - loss: 0.1306 - val_accuracy: 0.9842 - val_loss: 0.1018\n",
      "Epoch 34/70\n",
      "\u001b[1m313/313\u001b[0m \u001b[32m━━━━━━━━━━━━━━━━━━━━\u001b[0m\u001b[37m\u001b[0m \u001b[1m1s\u001b[0m 5ms/step - accuracy: 0.9517 - loss: 0.1204 - val_accuracy: 0.9317 - val_loss: 0.1618\n",
      "Epoch 35/70\n",
      "\u001b[1m313/313\u001b[0m \u001b[32m━━━━━━━━━━━━━━━━━━━━\u001b[0m\u001b[37m\u001b[0m \u001b[1m1s\u001b[0m 5ms/step - accuracy: 0.9535 - loss: 0.1153 - val_accuracy: 0.8994 - val_loss: 0.1963\n",
      "Epoch 36/70\n",
      "\u001b[1m313/313\u001b[0m \u001b[32m━━━━━━━━━━━━━━━━━━━━\u001b[0m\u001b[37m\u001b[0m \u001b[1m1s\u001b[0m 5ms/step - accuracy: 0.9571 - loss: 0.1079 - val_accuracy: 0.9700 - val_loss: 0.1101\n",
      "Epoch 37/70\n",
      "\u001b[1m313/313\u001b[0m \u001b[32m━━━━━━━━━━━━━━━━━━━━\u001b[0m\u001b[37m\u001b[0m \u001b[1m1s\u001b[0m 5ms/step - accuracy: 0.9575 - loss: 0.1031 - val_accuracy: 0.9777 - val_loss: 0.1005\n",
      "Epoch 38/70\n",
      "\u001b[1m313/313\u001b[0m \u001b[32m━━━━━━━━━━━━━━━━━━━━\u001b[0m\u001b[37m\u001b[0m \u001b[1m2s\u001b[0m 5ms/step - accuracy: 0.9612 - loss: 0.0965 - val_accuracy: 0.9725 - val_loss: 0.0963\n",
      "Epoch 39/70\n",
      "\u001b[1m313/313\u001b[0m \u001b[32m━━━━━━━━━━━━━━━━━━━━\u001b[0m\u001b[37m\u001b[0m \u001b[1m2s\u001b[0m 5ms/step - accuracy: 0.9658 - loss: 0.0896 - val_accuracy: 0.9454 - val_loss: 0.1113\n",
      "Epoch 40/70\n",
      "\u001b[1m313/313\u001b[0m \u001b[32m━━━━━━━━━━━━━━━━━━━━\u001b[0m\u001b[37m\u001b[0m \u001b[1m1s\u001b[0m 5ms/step - accuracy: 0.9667 - loss: 0.0837 - val_accuracy: 0.9680 - val_loss: 0.1025\n",
      "Epoch 41/70\n",
      "\u001b[1m313/313\u001b[0m \u001b[32m━━━━━━━━━━━━━━━━━━━━\u001b[0m\u001b[37m\u001b[0m \u001b[1m1s\u001b[0m 5ms/step - accuracy: 0.9700 - loss: 0.0767 - val_accuracy: 0.9517 - val_loss: 0.1129\n",
      "Epoch 42/70\n",
      "\u001b[1m313/313\u001b[0m \u001b[32m━━━━━━━━━━━━━━━━━━━━\u001b[0m\u001b[37m\u001b[0m \u001b[1m1s\u001b[0m 5ms/step - accuracy: 0.9730 - loss: 0.0730 - val_accuracy: 0.9349 - val_loss: 0.1267\n",
      "Epoch 43/70\n",
      "\u001b[1m313/313\u001b[0m \u001b[32m━━━━━━━━━━━━━━━━━━━━\u001b[0m\u001b[37m\u001b[0m \u001b[1m2s\u001b[0m 5ms/step - accuracy: 0.9759 - loss: 0.0635 - val_accuracy: 0.9615 - val_loss: 0.0904\n",
      "Epoch 44/70\n",
      "\u001b[1m313/313\u001b[0m \u001b[32m━━━━━━━━━━━━━━━━━━━━\u001b[0m\u001b[37m\u001b[0m \u001b[1m2s\u001b[0m 5ms/step - accuracy: 0.9766 - loss: 0.0611 - val_accuracy: 0.9136 - val_loss: 0.1533\n",
      "Epoch 45/70\n",
      "\u001b[1m313/313\u001b[0m \u001b[32m━━━━━━━━━━━━━━━━━━━━\u001b[0m\u001b[37m\u001b[0m \u001b[1m2s\u001b[0m 5ms/step - accuracy: 0.9799 - loss: 0.0529 - val_accuracy: 0.9091 - val_loss: 0.1702\n",
      "Epoch 46/70\n",
      "\u001b[1m313/313\u001b[0m \u001b[32m━━━━━━━━━━━━━━━━━━━━\u001b[0m\u001b[37m\u001b[0m \u001b[1m2s\u001b[0m 5ms/step - accuracy: 0.9816 - loss: 0.0498 - val_accuracy: 0.9056 - val_loss: 0.1793\n",
      "Epoch 47/70\n",
      "\u001b[1m313/313\u001b[0m \u001b[32m━━━━━━━━━━━━━━━━━━━━\u001b[0m\u001b[37m\u001b[0m \u001b[1m2s\u001b[0m 5ms/step - accuracy: 0.9823 - loss: 0.0489 - val_accuracy: 0.9079 - val_loss: 0.1604\n",
      "Epoch 48/70\n",
      "\u001b[1m313/313\u001b[0m \u001b[32m━━━━━━━━━━━━━━━━━━━━\u001b[0m\u001b[37m\u001b[0m \u001b[1m2s\u001b[0m 5ms/step - accuracy: 0.9838 - loss: 0.0437 - val_accuracy: 0.9299 - val_loss: 0.1201\n",
      "Epoch 49/70\n",
      "\u001b[1m313/313\u001b[0m \u001b[32m━━━━━━━━━━━━━━━━━━━━\u001b[0m\u001b[37m\u001b[0m \u001b[1m1s\u001b[0m 5ms/step - accuracy: 0.9844 - loss: 0.0406 - val_accuracy: 0.8871 - val_loss: 0.2476\n",
      "Epoch 50/70\n",
      "\u001b[1m313/313\u001b[0m \u001b[32m━━━━━━━━━━━━━━━━━━━━\u001b[0m\u001b[37m\u001b[0m \u001b[1m1s\u001b[0m 5ms/step - accuracy: 0.9862 - loss: 0.0382 - val_accuracy: 0.8936 - val_loss: 0.2155\n",
      "Epoch 51/70\n",
      "\u001b[1m313/313\u001b[0m \u001b[32m━━━━━━━━━━━━━━━━━━━━\u001b[0m\u001b[37m\u001b[0m \u001b[1m1s\u001b[0m 5ms/step - accuracy: 0.9866 - loss: 0.0369 - val_accuracy: 0.9106 - val_loss: 0.1894\n",
      "Epoch 52/70\n",
      "\u001b[1m313/313\u001b[0m \u001b[32m━━━━━━━━━━━━━━━━━━━━\u001b[0m\u001b[37m\u001b[0m \u001b[1m1s\u001b[0m 5ms/step - accuracy: 0.9849 - loss: 0.0369 - val_accuracy: 0.8756 - val_loss: 0.3133\n",
      "Epoch 53/70\n",
      "\u001b[1m313/313\u001b[0m \u001b[32m━━━━━━━━━━━━━━━━━━━━\u001b[0m\u001b[37m\u001b[0m \u001b[1m1s\u001b[0m 5ms/step - accuracy: 0.9884 - loss: 0.0326 - val_accuracy: 0.9199 - val_loss: 0.1717\n",
      "Epoch 54/70\n",
      "\u001b[1m313/313\u001b[0m \u001b[32m━━━━━━━━━━━━━━━━━━━━\u001b[0m\u001b[37m\u001b[0m \u001b[1m2s\u001b[0m 5ms/step - accuracy: 0.9875 - loss: 0.0336 - val_accuracy: 0.9119 - val_loss: 0.1881\n",
      "Epoch 55/70\n",
      "\u001b[1m313/313\u001b[0m \u001b[32m━━━━━━━━━━━━━━━━━━━━\u001b[0m\u001b[37m\u001b[0m \u001b[1m2s\u001b[0m 5ms/step - accuracy: 0.9887 - loss: 0.0308 - val_accuracy: 0.8871 - val_loss: 0.2572\n",
      "Epoch 56/70\n",
      "\u001b[1m313/313\u001b[0m \u001b[32m━━━━━━━━━━━━━━━━━━━━\u001b[0m\u001b[37m\u001b[0m \u001b[1m1s\u001b[0m 5ms/step - accuracy: 0.9899 - loss: 0.0273 - val_accuracy: 0.8954 - val_loss: 0.2285\n",
      "Epoch 57/70\n",
      "\u001b[1m313/313\u001b[0m \u001b[32m━━━━━━━━━━━━━━━━━━━━\u001b[0m\u001b[37m\u001b[0m \u001b[1m1s\u001b[0m 5ms/step - accuracy: 0.9892 - loss: 0.0284 - val_accuracy: 0.9054 - val_loss: 0.2109\n",
      "Epoch 58/70\n",
      "\u001b[1m313/313\u001b[0m \u001b[32m━━━━━━━━━━━━━━━━━━━━\u001b[0m\u001b[37m\u001b[0m \u001b[1m1s\u001b[0m 5ms/step - accuracy: 0.9915 - loss: 0.0243 - val_accuracy: 0.8806 - val_loss: 0.2825\n",
      "Epoch 59/70\n",
      "\u001b[1m313/313\u001b[0m \u001b[32m━━━━━━━━━━━━━━━━━━━━\u001b[0m\u001b[37m\u001b[0m \u001b[1m1s\u001b[0m 5ms/step - accuracy: 0.9896 - loss: 0.0272 - val_accuracy: 0.8954 - val_loss: 0.2288\n",
      "Epoch 60/70\n",
      "\u001b[1m313/313\u001b[0m \u001b[32m━━━━━━━━━━━━━━━━━━━━\u001b[0m\u001b[37m\u001b[0m \u001b[1m1s\u001b[0m 5ms/step - accuracy: 0.9900 - loss: 0.0277 - val_accuracy: 0.8773 - val_loss: 0.3080\n",
      "Epoch 61/70\n",
      "\u001b[1m313/313\u001b[0m \u001b[32m━━━━━━━━━━━━━━━━━━━━\u001b[0m\u001b[37m\u001b[0m \u001b[1m1s\u001b[0m 5ms/step - accuracy: 0.9908 - loss: 0.0258 - val_accuracy: 0.8811 - val_loss: 0.2933\n",
      "Epoch 62/70\n",
      "\u001b[1m313/313\u001b[0m \u001b[32m━━━━━━━━━━━━━━━━━━━━\u001b[0m\u001b[37m\u001b[0m \u001b[1m1s\u001b[0m 5ms/step - accuracy: 0.9920 - loss: 0.0246 - val_accuracy: 0.8723 - val_loss: 0.3490\n",
      "Epoch 63/70\n",
      "\u001b[1m313/313\u001b[0m \u001b[32m━━━━━━━━━━━━━━━━━━━━\u001b[0m\u001b[37m\u001b[0m \u001b[1m2s\u001b[0m 5ms/step - accuracy: 0.9918 - loss: 0.0219 - val_accuracy: 0.8796 - val_loss: 0.3014\n",
      "Epoch 64/70\n",
      "\u001b[1m313/313\u001b[0m \u001b[32m━━━━━━━━━━━━━━━━━━━━\u001b[0m\u001b[37m\u001b[0m \u001b[1m2s\u001b[0m 5ms/step - accuracy: 0.9921 - loss: 0.0216 - val_accuracy: 0.8688 - val_loss: 0.3541\n",
      "Epoch 65/70\n",
      "\u001b[1m313/313\u001b[0m \u001b[32m━━━━━━━━━━━━━━━━━━━━\u001b[0m\u001b[37m\u001b[0m \u001b[1m1s\u001b[0m 5ms/step - accuracy: 0.9930 - loss: 0.0199 - val_accuracy: 0.8851 - val_loss: 0.2793\n",
      "Epoch 66/70\n",
      "\u001b[1m313/313\u001b[0m \u001b[32m━━━━━━━━━━━━━━━━━━━━\u001b[0m\u001b[37m\u001b[0m \u001b[1m1s\u001b[0m 5ms/step - accuracy: 0.9924 - loss: 0.0225 - val_accuracy: 0.8926 - val_loss: 0.2612\n",
      "Epoch 67/70\n",
      "\u001b[1m313/313\u001b[0m \u001b[32m━━━━━━━━━━━━━━━━━━━━\u001b[0m\u001b[37m\u001b[0m \u001b[1m1s\u001b[0m 5ms/step - accuracy: 0.9926 - loss: 0.0196 - val_accuracy: 0.9151 - val_loss: 0.1843\n",
      "Epoch 68/70\n",
      "\u001b[1m313/313\u001b[0m \u001b[32m━━━━━━━━━━━━━━━━━━━━\u001b[0m\u001b[37m\u001b[0m \u001b[1m1s\u001b[0m 5ms/step - accuracy: 0.9942 - loss: 0.0188 - val_accuracy: 0.8976 - val_loss: 0.2493\n",
      "Epoch 69/70\n",
      "\u001b[1m313/313\u001b[0m \u001b[32m━━━━━━━━━━━━━━━━━━━━\u001b[0m\u001b[37m\u001b[0m \u001b[1m1s\u001b[0m 5ms/step - accuracy: 0.9930 - loss: 0.0185 - val_accuracy: 0.8941 - val_loss: 0.2741\n",
      "Epoch 70/70\n",
      "\u001b[1m313/313\u001b[0m \u001b[32m━━━━━━━━━━━━━━━━━━━━\u001b[0m\u001b[37m\u001b[0m \u001b[1m1s\u001b[0m 5ms/step - accuracy: 0.9944 - loss: 0.0166 - val_accuracy: 0.8778 - val_loss: 0.3365\n",
      "\u001b[1m125/125\u001b[0m \u001b[32m━━━━━━━━━━━━━━━━━━━━\u001b[0m\u001b[37m\u001b[0m \u001b[1m0s\u001b[0m 3ms/step - accuracy: 0.8835 - loss: 0.2910\n",
      "\u001b[1m125/125\u001b[0m \u001b[32m━━━━━━━━━━━━━━━━━━━━\u001b[0m\u001b[37m\u001b[0m \u001b[1m0s\u001b[0m 3ms/step\n",
      "[[1.9183167e-06]\n",
      " [9.9998975e-01]\n",
      " [9.9991786e-01]\n",
      " ...\n",
      " [9.9541569e-01]\n",
      " [8.1581884e-06]\n",
      " [9.9992287e-01]]\n",
      "[[0]\n",
      " [1]\n",
      " [1]\n",
      " ...\n",
      " [1]\n",
      " [0]\n",
      " [1]]\n",
      "0       0\n",
      "1       1\n",
      "2       1\n",
      "3       1\n",
      "4       0\n",
      "       ..\n",
      "3989    0\n",
      "3990    1\n",
      "3991    1\n",
      "3992    0\n",
      "3993    1\n",
      "Name: label, Length: 3994, dtype: int64\n",
      "Test Loss: 0.3071763515472412, Test Accuracy: 0.8863294720649719\n",
      "\n"
     ]
    },
    {
     "data": {
      "image/png": "[encoded data removed]",
      "text/plain": [
       "<Figure size 640x480 with 1 Axes>"
      ]
     },
     "metadata": {},
     "output_type": "display_data"
    },
    {
     "name": "stdout",
     "output_type": "stream",
     "text": [
      "\n",
      "\n"
     ]
    },
    {
     "data": {
      "image/png": "[encoded data removed]",
      "text/plain": [
       "<Figure size 640x480 with 1 Axes>"
      ]
     },
     "metadata": {},
     "output_type": "display_data"
    },
    {
     "name": "stdout",
     "output_type": "stream",
     "text": [
      "\n",
      "Classification Report\n",
      "              precision    recall  f1-score   support\n",
      "\n",
      "           0       1.00      0.70      0.82      1518\n",
      "           1       0.85      1.00      0.92      2476\n",
      "\n",
      "    accuracy                           0.89      3994\n",
      "   macro avg       0.92      0.85      0.87      3994\n",
      "weighted avg       0.90      0.89      0.88      3994\n",
      "\n",
      "\n",
      "Confusion Matrix\n",
      "[[1064  454]\n",
      " [   0 2476]]\n"
     ]
    },
    {
     "data": {
      "image/png": "[encoded data removed]",
      "text/plain": [
       "<Figure size 640x480 with 2 Axes>"
      ]
     },
     "metadata": {},
     "output_type": "display_data"
    },
    {
     "name": "stdout",
     "output_type": "stream",
     "text": [
      "Time taken: 115.0961 seconds\n"
     ]
    }
   ],
   "source": [
    "start_time_2 = time.perf_counter()\n",
    "with tensorflow.device('/device:GPU:0'):\n",
    "  # CNN model detection\n",
    "  # https://keras.io/api/layers/activations/#softmax-function\n",
    "  detection_model = tensorflow.keras.Sequential([\n",
    "      tensorflow.keras.layers.Input(shape=(X_rebalance.shape[1],X_rebalance.shape[2])),\n",
    "      tensorflow.keras.layers.Conv1D(filters=75, kernel_size=3, activation='sigmoid'),\n",
    "      tensorflow.keras.layers.MaxPooling1D(pool_size=2),\n",
    "      tensorflow.keras.layers.Dropout(0.3),\n",
    "      tensorflow.keras.layers.BatchNormalization(),\n",
    "      tensorflow.keras.layers.LSTM(64),\n",
    "      tensorflow.keras.layers.Flatten(),\n",
    "      # 1 layer\n",
    "      tensorflow.keras.layers.Dense(512, activation='hard_sigmoid'),\n",
    "      tensorflow.keras.layers.Dropout(0.5),\n",
    "      # either attack or normal\n",
    "      tensorflow.keras.layers.Dense(1, activation='sigmoid')\n",
    "  ])\n",
    "\n",
    "  detection_model.summary()\n",
    "  # https://keras.io/api/losses/probabilistic_losses/#probabilistic-losses\n",
    "  sgd = tensorflow.keras.optimizers.SGD(learning_rate=0.1)\n",
    "  detection_model.compile(optimizer=sgd,\n",
    "                loss=tensorflow.keras.losses.BinaryCrossentropy(from_logits=False),\n",
    "                metrics=['accuracy'])\n",
    "\n",
    "  history = detection_model.fit(X_rebalance, y_rebalance, batch_size=128, epochs=70, validation_data=(X_validation_encode, y_validation_encode))\n",
    "  test_loss, test_acc = detection_model.evaluate(X_test_encode, y_test_encode)\n",
    "\n",
    "  # Make predictions\n",
    "  prediction = detection_model.predict(X_test_encode)\n",
    "  print(prediction)\n",
    "  attack_prediction = numpy.where(prediction > 0.5, 1, 0)\n",
    "  print(attack_prediction)\n",
    "  print(y_test)\n",
    "\n",
    "  # Evaluate the model\n",
    "  print(f\"Test Loss: {test_loss}, Test Accuracy: {test_acc}\\n\")\n",
    "  # https://www.tensorflow.org/tutorials/keras/text_classification for training and validation loss and accuracy\n",
    "  history_dict = history.history\n",
    "  # print(history_dict.keys())\n",
    "  acc = history_dict['accuracy']\n",
    "  val_acc = history_dict['val_accuracy']\n",
    "  loss = history_dict['loss']\n",
    "  val_loss = history_dict['val_loss']\n",
    "\n",
    "  epochs = range(1, len(acc) + 1)\n",
    "\n",
    "  # \"bo\" is for \"blue dot\"\n",
    "  plt.plot(epochs, loss, 'bo', label='Training loss')\n",
    "  # b is for \"solid blue line\"\n",
    "  plt.plot(epochs, val_loss, 'b', label='Validation loss')\n",
    "  plt.title('Training and validation loss')\n",
    "  plt.xlabel('Epochs')\n",
    "  plt.ylabel('Loss')\n",
    "  plt.legend()\n",
    "  plt.show()\n",
    "  print(\"\\n\")\n",
    "\n",
    "  plt.plot(epochs, acc, 'bo', label='Training acc')\n",
    "  plt.plot(epochs, val_acc, 'b', label='Validation acc')\n",
    "  plt.title('Training and validation accuracy')\n",
    "  plt.xlabel('Epochs')\n",
    "  plt.ylabel('Accuracy')\n",
    "  plt.legend(loc='lower right')\n",
    "  plt.show()\n",
    "\n",
    "  print(\"\\nClassification Report\")\n",
    "  print(classification_report(y_test, attack_prediction))\n",
    "\n",
    "  print(\"\\nConfusion Matrix\")\n",
    "  print(confusion_matrix(y_test, attack_prediction))\n",
    "  ConfusionMatrixDisplay.from_predictions(y_test, attack_prediction)\n",
    "  plt.show()\n",
    "\n",
    "end_time2 = time.perf_counter()\n",
    "print(f\"Time taken: {end_time2 - start_time_2:0.4f} seconds\")"
   ]
  }
 ],
 "metadata": {
  "accelerator": "GPU",
  "colab": {
   "gpuType": "T4",
   "machine_shape": "hm",
   "provenance": [
    {
     "file_id": "1cq_BbPr672SP8PO8IBW_V61KySwR1o62",
     "timestamp": 1744401598291
    },
    {
     "file_id": "1EKz60Tb5TLU_tk3JLCK-jEhZU-ljHSBH",
     "timestamp": 1744381088980
    },
    {
     "file_id": "1Y2BbSla7l1U1Mos9HmWELfNFI-YrmpYX",
     "timestamp": 1744296837793
    },
    {
     "file_id": "1GwyENaVoX3ULft3fEvbu7J_z3owiYbp3",
     "timestamp": 1742261233461
    },
    {
     "file_id": "1DbzWEllKOvC1R_XZ_m50doDeJffvMW97",
     "timestamp": 1742259639780
    },
    {
     "file_id": "1YCp9O_gAsESoVVNXfgI7L5puj0HvzkTd",
     "timestamp": 1742258990178
    },
    {
     "file_id": "1bPbom9h65p6kThxmQnO6EDmwYfvH2les",
     "timestamp": 1742251162970
    }
   ]
  },
  "kernelspec": {
   "display_name": "Python 3",
   "name": "python3"
  },
  "language_info": {
   "codemirror_mode": {
    "name": "ipython",
    "version": 3
   },
   "file_extension": ".py",
   "mimetype": "text/x-python",
   "name": "python",
   "nbconvert_exporter": "python",
   "pygments_lexer": "ipython3",
   "version": "3.11.9"
  }
 },
 "nbformat": 4,
 "nbformat_minor": 0
}
