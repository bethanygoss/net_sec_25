{
 "cells": [
  {
   "cell_type": "markdown",
   "metadata": {
    "id": "6SZLaL-7b9Bf"
   },
   "source": [
    "# Finding optimal hyper parameters for a CNN model\n",
    "\n",
    "The point of this notebook is to obtain an optimal set of parameters for our CNN model to process time based series data. Specifically, we are processing IoT data from TON a well-kept dataset from The UNSW Group in Canberra, Australia.\n",
    "\n",
    "The specific dataset being discussed here is the IoT Fridge dataset.\n",
    "\n"
   ]
  },
  {
   "cell_type": "markdown",
   "metadata": {
    "id": "fxpOXiaOdTqo"
   },
   "source": [
    "We have pip install mealpy each time because it is not a default python package ,and every time the runtime refreshes; the package is uninstalled."
   ]
  },
  {
   "cell_type": "code",
   "execution_count": null,
   "metadata": {
    "colab": {
     "base_uri": "https://localhost:8080/"
    },
    "executionInfo": {
     "elapsed": 5128,
     "status": "ok",
     "timestamp": 1744672494934,
     "user": {
      "displayName": "William Eng",
      "userId": "04561525569195545948"
     },
     "user_tz": 240
    },
    "id": "vL2RHCwXGdyK",
    "outputId": "13e3f242-119a-4e8a-c08c-239ba331cddc"
   },
   "outputs": [
    {
     "name": "stdout",
     "output_type": "stream",
     "text": [
      "Collecting mealpy==3.0.1\n",
      "  Downloading mealpy-3.0.1-py3-none-any.whl.metadata (104 kB)\n",
      "\u001b[?25l     \u001b[90m━━━━━━━━━━━━━━━━━━━━━━━━━━━━━━━━━━━━━━━━\u001b[0m \u001b[32m0.0/104.9 kB\u001b[0m \u001b[31m?\u001b[0m eta \u001b[36m-:--:--\u001b[0m\r\u001b[2K     \u001b[90m━━━━━━━━━━━━━━━━━━━━━━━━━━━━━━━━━━━━━━━\u001b[0m \u001b[32m104.9/104.9 kB\u001b[0m \u001b[31m6.1 MB/s\u001b[0m eta \u001b[36m0:00:00\u001b[0m\n",
      "\u001b[?25hRequirement already satisfied: numpy>=1.17.5 in /usr/local/lib/python3.11/dist-packages (from mealpy==3.0.1) (2.0.2)\n",
      "Requirement already satisfied: matplotlib>=3.3.0 in /usr/local/lib/python3.11/dist-packages (from mealpy==3.0.1) (3.10.0)\n",
      "Requirement already satisfied: scipy>=1.7.1 in /usr/local/lib/python3.11/dist-packages (from mealpy==3.0.1) (1.14.1)\n",
      "Requirement already satisfied: pandas>=1.2.0 in /usr/local/lib/python3.11/dist-packages (from mealpy==3.0.1) (2.2.2)\n",
      "Collecting opfunu>=1.0.0 (from mealpy==3.0.1)\n",
      "  Downloading opfunu-1.0.4-py3-none-any.whl.metadata (10 kB)\n",
      "Requirement already satisfied: contourpy>=1.0.1 in /usr/local/lib/python3.11/dist-packages (from matplotlib>=3.3.0->mealpy==3.0.1) (1.3.1)\n",
      "Requirement already satisfied: cycler>=0.10 in /usr/local/lib/python3.11/dist-packages (from matplotlib>=3.3.0->mealpy==3.0.1) (0.12.1)\n",
      "Requirement already satisfied: fonttools>=4.22.0 in /usr/local/lib/python3.11/dist-packages (from matplotlib>=3.3.0->mealpy==3.0.1) (4.57.0)\n",
      "Requirement already satisfied: kiwisolver>=1.3.1 in /usr/local/lib/python3.11/dist-packages (from matplotlib>=3.3.0->mealpy==3.0.1) (1.4.8)\n",
      "Requirement already satisfied: packaging>=20.0 in /usr/local/lib/python3.11/dist-packages (from matplotlib>=3.3.0->mealpy==3.0.1) (24.2)\n",
      "Requirement already satisfied: pillow>=8 in /usr/local/lib/python3.11/dist-packages (from matplotlib>=3.3.0->mealpy==3.0.1) (11.1.0)\n",
      "Requirement already satisfied: pyparsing>=2.3.1 in /usr/local/lib/python3.11/dist-packages (from matplotlib>=3.3.0->mealpy==3.0.1) (3.2.3)\n",
      "Requirement already satisfied: python-dateutil>=2.7 in /usr/local/lib/python3.11/dist-packages (from matplotlib>=3.3.0->mealpy==3.0.1) (2.8.2)\n",
      "Requirement already satisfied: requests>=2.27.0 in /usr/local/lib/python3.11/dist-packages (from opfunu>=1.0.0->mealpy==3.0.1) (2.32.3)\n",
      "Requirement already satisfied: pytz>=2020.1 in /usr/local/lib/python3.11/dist-packages (from pandas>=1.2.0->mealpy==3.0.1) (2025.2)\n",
      "Requirement already satisfied: tzdata>=2022.7 in /usr/local/lib/python3.11/dist-packages (from pandas>=1.2.0->mealpy==3.0.1) (2025.2)\n",
      "Requirement already satisfied: six>=1.5 in /usr/local/lib/python3.11/dist-packages (from python-dateutil>=2.7->matplotlib>=3.3.0->mealpy==3.0.1) (1.17.0)\n",
      "Requirement already satisfied: charset-normalizer<4,>=2 in /usr/local/lib/python3.11/dist-packages (from requests>=2.27.0->opfunu>=1.0.0->mealpy==3.0.1) (3.4.1)\n",
      "Requirement already satisfied: idna<4,>=2.5 in /usr/local/lib/python3.11/dist-packages (from requests>=2.27.0->opfunu>=1.0.0->mealpy==3.0.1) (3.10)\n",
      "Requirement already satisfied: urllib3<3,>=1.21.1 in /usr/local/lib/python3.11/dist-packages (from requests>=2.27.0->opfunu>=1.0.0->mealpy==3.0.1) (2.3.0)\n",
      "Requirement already satisfied: certifi>=2017.4.17 in /usr/local/lib/python3.11/dist-packages (from requests>=2.27.0->opfunu>=1.0.0->mealpy==3.0.1) (2025.1.31)\n",
      "Downloading mealpy-3.0.1-py3-none-any.whl (386 kB)\n",
      "\u001b[2K   \u001b[90m━━━━━━━━━━━━━━━━━━━━━━━━━━━━━━━━━━━━━━━━\u001b[0m \u001b[32m386.3/386.3 kB\u001b[0m \u001b[31m20.3 MB/s\u001b[0m eta \u001b[36m0:00:00\u001b[0m\n",
      "\u001b[?25hDownloading opfunu-1.0.4-py3-none-any.whl (13.0 MB)\n",
      "\u001b[2K   \u001b[90m━━━━━━━━━━━━━━━━━━━━━━━━━━━━━━━━━━━━━━━━\u001b[0m \u001b[32m13.0/13.0 MB\u001b[0m \u001b[31m49.4 MB/s\u001b[0m eta \u001b[36m0:00:00\u001b[0m\n",
      "\u001b[?25hInstalling collected packages: opfunu, mealpy\n",
      "Successfully installed mealpy-3.0.1 opfunu-1.0.4\n"
     ]
    }
   ],
   "source": [
    "%pip install mealpy==3.0.1\n",
    "%pip install -U scikit-learn\n",
    "%pip install imbalanced-learn\n",
    "%pip install matplotlib\n",
    "%pip install tensorflow"
   ]
  },
  {
   "cell_type": "markdown",
   "metadata": {
    "id": "nCChAI0ddiLB"
   },
   "source": [
    "Our main libraries used are:\n",
    "\n",
    "*   Imblearn\n",
    "*   Pandas\n",
    "*   Matplot Lib\n",
    "*   MealPy\n",
    "*   Numpy\n",
    "*   SKLearn\n",
    "*   Tensorflow\n",
    "*   Time\n"
   ]
  },
  {
   "cell_type": "code",
   "execution_count": null,
   "metadata": {
    "id": "iw75cAeFj6Zj"
   },
   "outputs": [],
   "source": [
    "import pandas\n",
    "from sklearn.model_selection import train_test_split\n",
    "from sklearn.preprocessing import OrdinalEncoder, LabelEncoder, StandardScaler\n",
    "from imblearn.combine import SMOTETomek\n",
    "import numpy\n",
    "from sklearn.metrics import classification_report, confusion_matrix,ConfusionMatrixDisplay\n",
    "import tensorflow\n",
    "from tensorflow import keras\n",
    "import matplotlib.pyplot as plt\n",
    "from mealpy import FloatVar, SOA\n",
    "import time"
   ]
  },
  {
   "cell_type": "markdown",
   "metadata": {
    "id": "sn-IbsB3eMq_"
   },
   "source": [
    "# Preparing the Datasets for the CNN Model\n",
    "\n",
    "We split off the information that indicates whether or not an attack has occured (*label*) and the types of attacks (*type*).\n",
    "Now there are three dataframes:\n",
    "  X - all features\n",
    "  y - attack or not\n",
    "  y_type - type of attack\n",
    "\n",
    "We split again into test and train data sets and include some randomness.\n",
    "**Reset_index** drops the indexes from these new dataframes.\n",
    "Next, we encode the text data, add another randomness, and scale all dataframes. The X dataframe is reshaped."
   ]
  },
  {
   "cell_type": "code",
   "execution_count": null,
   "metadata": {
    "id": "wbkk6zeGkCvQ"
   },
   "outputs": [],
   "source": [
    "#Uncomment for local use\n",
    "#raw_data = pandas.read_csv('../../Train_Test_IoT_dataset/Train_Test_IoT_Fridge.csv')\n",
    "#Uncomment for Google Colab\n",
    "raw_data = pandas.read_csv('Train_Test_IoT_Fridge.csv')\n",
    "X = raw_data.drop(columns=['label','type'])\n",
    "y = raw_data['label']\n",
    "y_type = raw_data['type']"
   ]
  },
  {
   "cell_type": "code",
   "execution_count": null,
   "metadata": {
    "id": "ZFQYeNebtBdL"
   },
   "outputs": [],
   "source": [
    "# Binary\n",
    "X_train, X_testsplit, y_train, y_testsplit = train_test_split(X, y, test_size=0.2, random_state=777)\n",
    "# Binary validation\n",
    "X_test, X_validation, y_test, y_validation = train_test_split(X_testsplit, y_testsplit, test_size=0.5, random_state=777)\n",
    "\n",
    "#drop index\n",
    "X_train = X_train.reset_index(drop=True)\n",
    "X_test = X_test.reset_index(drop=True)\n",
    "y_train = y_train.reset_index(drop=True)\n",
    "y_test = y_test.reset_index(drop=True)\n",
    "X_validation = X_validation.reset_index(drop=True)\n",
    "y_validation = y_validation.reset_index(drop=True)"
   ]
  },
  {
   "cell_type": "code",
   "execution_count": null,
   "metadata": {
    "id": "JMPY814OkMHK"
   },
   "outputs": [],
   "source": [
    "encoder = OrdinalEncoder()\n",
    "label_encoder = LabelEncoder()\n",
    "X_train_encode = encoder.fit_transform(X_train)\n",
    "X_test_encode = encoder.fit_transform(X_test)\n",
    "y_train_encode = label_encoder.fit_transform(y_train)\n",
    "y_test_encode = label_encoder.fit_transform(y_test)\n",
    "X_validation_encode = encoder.fit_transform(X_validation)\n",
    "y_validation_encode = label_encoder.fit_transform(y_validation)"
   ]
  },
  {
   "cell_type": "code",
   "execution_count": null,
   "metadata": {
    "id": "cjOPxFTstjzo"
   },
   "outputs": [],
   "source": [
    "smotetomek = SMOTETomek(random_state=777)\n",
    "X_rebalance, y_rebalance = smotetomek.fit_resample(X_train_encode, y_train_encode)"
   ]
  },
  {
   "cell_type": "code",
   "execution_count": null,
   "metadata": {
    "id": "ofXxVrSHQ-z5"
   },
   "outputs": [],
   "source": [
    "scaler = StandardScaler()\n",
    "X_rebalance = scaler.fit_transform(X_rebalance)\n",
    "X_test_encode = scaler.transform(X_test_encode)\n",
    "\n",
    "X_validation_encode = scaler.transform(X_validation_encode)"
   ]
  },
  {
   "cell_type": "code",
   "execution_count": null,
   "metadata": {
    "id": "Ehu1cF9rv1tu"
   },
   "outputs": [],
   "source": [
    "X_rebalance = X_rebalance.reshape(X_rebalance.shape[0], X_rebalance.shape[1], 1)\n",
    "X_test_encode = X_test_encode.reshape(X_test_encode.shape[0], X_test_encode.shape[1], 1)\n",
    "\n",
    "X_validation_encode = X_validation_encode.reshape(X_validation_encode.shape[0], X_validation_encode.shape[1], 1)\n"
   ]
  },
  {
   "cell_type": "code",
   "execution_count": null,
   "metadata": {
    "colab": {
     "base_uri": "https://localhost:8080/",
     "height": 1000
    },
    "executionInfo": {
     "elapsed": 335704,
     "status": "ok",
     "timestamp": 1744382853475,
     "user": {
      "displayName": "William Eng",
      "userId": "04561525569195545948"
     },
     "user_tz": 240
    },
    "id": "c__xkr4G07iA",
    "outputId": "78bc5c21-6634-416a-f0fe-9fdc11298f27"
   },
   "outputs": [
    {
     "data": {
      "text/html": [
       "<pre style=\"white-space:pre;overflow-x:auto;line-height:normal;font-family:Menlo,'DejaVu Sans Mono',consolas,'Courier New',monospace\"><span style=\"font-weight: bold\">Model: \"sequential\"</span>\n",
       "</pre>\n"
      ],
      "text/plain": [
       "\u001b[1mModel: \"sequential\"\u001b[0m\n"
      ]
     },
     "metadata": {},
     "output_type": "display_data"
    },
    {
     "data": {
      "text/html": [
       "<pre style=\"white-space:pre;overflow-x:auto;line-height:normal;font-family:Menlo,'DejaVu Sans Mono',consolas,'Courier New',monospace\">┏━━━━━━━━━━━━━━━━━━━━━━━━━━━━━━━━━┳━━━━━━━━━━━━━━━━━━━━━━━━┳━━━━━━━━━━━━━━━┓\n",
       "┃<span style=\"font-weight: bold\"> Layer (type)                    </span>┃<span style=\"font-weight: bold\"> Output Shape           </span>┃<span style=\"font-weight: bold\">       Param # </span>┃\n",
       "┡━━━━━━━━━━━━━━━━━━━━━━━━━━━━━━━━━╇━━━━━━━━━━━━━━━━━━━━━━━━╇━━━━━━━━━━━━━━━┩\n",
       "│ conv1d (<span style=\"color: #0087ff; text-decoration-color: #0087ff\">Conv1D</span>)                 │ (<span style=\"color: #00d7ff; text-decoration-color: #00d7ff\">None</span>, <span style=\"color: #00af00; text-decoration-color: #00af00\">2</span>, <span style=\"color: #00af00; text-decoration-color: #00af00\">50</span>)          │           <span style=\"color: #00af00; text-decoration-color: #00af00\">200</span> │\n",
       "├─────────────────────────────────┼────────────────────────┼───────────────┤\n",
       "│ max_pooling1d (<span style=\"color: #0087ff; text-decoration-color: #0087ff\">MaxPooling1D</span>)    │ (<span style=\"color: #00d7ff; text-decoration-color: #00d7ff\">None</span>, <span style=\"color: #00af00; text-decoration-color: #00af00\">1</span>, <span style=\"color: #00af00; text-decoration-color: #00af00\">50</span>)          │             <span style=\"color: #00af00; text-decoration-color: #00af00\">0</span> │\n",
       "├─────────────────────────────────┼────────────────────────┼───────────────┤\n",
       "│ dropout (<span style=\"color: #0087ff; text-decoration-color: #0087ff\">Dropout</span>)               │ (<span style=\"color: #00d7ff; text-decoration-color: #00d7ff\">None</span>, <span style=\"color: #00af00; text-decoration-color: #00af00\">1</span>, <span style=\"color: #00af00; text-decoration-color: #00af00\">50</span>)          │             <span style=\"color: #00af00; text-decoration-color: #00af00\">0</span> │\n",
       "├─────────────────────────────────┼────────────────────────┼───────────────┤\n",
       "│ batch_normalization             │ (<span style=\"color: #00d7ff; text-decoration-color: #00d7ff\">None</span>, <span style=\"color: #00af00; text-decoration-color: #00af00\">1</span>, <span style=\"color: #00af00; text-decoration-color: #00af00\">50</span>)          │           <span style=\"color: #00af00; text-decoration-color: #00af00\">200</span> │\n",
       "│ (<span style=\"color: #0087ff; text-decoration-color: #0087ff\">BatchNormalization</span>)            │                        │               │\n",
       "├─────────────────────────────────┼────────────────────────┼───────────────┤\n",
       "│ lstm (<span style=\"color: #0087ff; text-decoration-color: #0087ff\">LSTM</span>)                     │ (<span style=\"color: #00d7ff; text-decoration-color: #00d7ff\">None</span>, <span style=\"color: #00af00; text-decoration-color: #00af00\">64</span>)             │        <span style=\"color: #00af00; text-decoration-color: #00af00\">29,440</span> │\n",
       "├─────────────────────────────────┼────────────────────────┼───────────────┤\n",
       "│ flatten (<span style=\"color: #0087ff; text-decoration-color: #0087ff\">Flatten</span>)               │ (<span style=\"color: #00d7ff; text-decoration-color: #00d7ff\">None</span>, <span style=\"color: #00af00; text-decoration-color: #00af00\">64</span>)             │             <span style=\"color: #00af00; text-decoration-color: #00af00\">0</span> │\n",
       "├─────────────────────────────────┼────────────────────────┼───────────────┤\n",
       "│ dense (<span style=\"color: #0087ff; text-decoration-color: #0087ff\">Dense</span>)                   │ (<span style=\"color: #00d7ff; text-decoration-color: #00d7ff\">None</span>, <span style=\"color: #00af00; text-decoration-color: #00af00\">512</span>)            │        <span style=\"color: #00af00; text-decoration-color: #00af00\">33,280</span> │\n",
       "├─────────────────────────────────┼────────────────────────┼───────────────┤\n",
       "│ dropout_1 (<span style=\"color: #0087ff; text-decoration-color: #0087ff\">Dropout</span>)             │ (<span style=\"color: #00d7ff; text-decoration-color: #00d7ff\">None</span>, <span style=\"color: #00af00; text-decoration-color: #00af00\">512</span>)            │             <span style=\"color: #00af00; text-decoration-color: #00af00\">0</span> │\n",
       "├─────────────────────────────────┼────────────────────────┼───────────────┤\n",
       "│ dense_1 (<span style=\"color: #0087ff; text-decoration-color: #0087ff\">Dense</span>)                 │ (<span style=\"color: #00d7ff; text-decoration-color: #00d7ff\">None</span>, <span style=\"color: #00af00; text-decoration-color: #00af00\">1</span>)              │           <span style=\"color: #00af00; text-decoration-color: #00af00\">513</span> │\n",
       "└─────────────────────────────────┴────────────────────────┴───────────────┘\n",
       "</pre>\n"
      ],
      "text/plain": [
       "┏━━━━━━━━━━━━━━━━━━━━━━━━━━━━━━━━━┳━━━━━━━━━━━━━━━━━━━━━━━━┳━━━━━━━━━━━━━━━┓\n",
       "┃\u001b[1m \u001b[0m\u001b[1mLayer (type)                   \u001b[0m\u001b[1m \u001b[0m┃\u001b[1m \u001b[0m\u001b[1mOutput Shape          \u001b[0m\u001b[1m \u001b[0m┃\u001b[1m \u001b[0m\u001b[1m      Param #\u001b[0m\u001b[1m \u001b[0m┃\n",
       "┡━━━━━━━━━━━━━━━━━━━━━━━━━━━━━━━━━╇━━━━━━━━━━━━━━━━━━━━━━━━╇━━━━━━━━━━━━━━━┩\n",
       "│ conv1d (\u001b[38;5;33mConv1D\u001b[0m)                 │ (\u001b[38;5;45mNone\u001b[0m, \u001b[38;5;34m2\u001b[0m, \u001b[38;5;34m50\u001b[0m)          │           \u001b[38;5;34m200\u001b[0m │\n",
       "├─────────────────────────────────┼────────────────────────┼───────────────┤\n",
       "│ max_pooling1d (\u001b[38;5;33mMaxPooling1D\u001b[0m)    │ (\u001b[38;5;45mNone\u001b[0m, \u001b[38;5;34m1\u001b[0m, \u001b[38;5;34m50\u001b[0m)          │             \u001b[38;5;34m0\u001b[0m │\n",
       "├─────────────────────────────────┼────────────────────────┼───────────────┤\n",
       "│ dropout (\u001b[38;5;33mDropout\u001b[0m)               │ (\u001b[38;5;45mNone\u001b[0m, \u001b[38;5;34m1\u001b[0m, \u001b[38;5;34m50\u001b[0m)          │             \u001b[38;5;34m0\u001b[0m │\n",
       "├─────────────────────────────────┼────────────────────────┼───────────────┤\n",
       "│ batch_normalization             │ (\u001b[38;5;45mNone\u001b[0m, \u001b[38;5;34m1\u001b[0m, \u001b[38;5;34m50\u001b[0m)          │           \u001b[38;5;34m200\u001b[0m │\n",
       "│ (\u001b[38;5;33mBatchNormalization\u001b[0m)            │                        │               │\n",
       "├─────────────────────────────────┼────────────────────────┼───────────────┤\n",
       "│ lstm (\u001b[38;5;33mLSTM\u001b[0m)                     │ (\u001b[38;5;45mNone\u001b[0m, \u001b[38;5;34m64\u001b[0m)             │        \u001b[38;5;34m29,440\u001b[0m │\n",
       "├─────────────────────────────────┼────────────────────────┼───────────────┤\n",
       "│ flatten (\u001b[38;5;33mFlatten\u001b[0m)               │ (\u001b[38;5;45mNone\u001b[0m, \u001b[38;5;34m64\u001b[0m)             │             \u001b[38;5;34m0\u001b[0m │\n",
       "├─────────────────────────────────┼────────────────────────┼───────────────┤\n",
       "│ dense (\u001b[38;5;33mDense\u001b[0m)                   │ (\u001b[38;5;45mNone\u001b[0m, \u001b[38;5;34m512\u001b[0m)            │        \u001b[38;5;34m33,280\u001b[0m │\n",
       "├─────────────────────────────────┼────────────────────────┼───────────────┤\n",
       "│ dropout_1 (\u001b[38;5;33mDropout\u001b[0m)             │ (\u001b[38;5;45mNone\u001b[0m, \u001b[38;5;34m512\u001b[0m)            │             \u001b[38;5;34m0\u001b[0m │\n",
       "├─────────────────────────────────┼────────────────────────┼───────────────┤\n",
       "│ dense_1 (\u001b[38;5;33mDense\u001b[0m)                 │ (\u001b[38;5;45mNone\u001b[0m, \u001b[38;5;34m1\u001b[0m)              │           \u001b[38;5;34m513\u001b[0m │\n",
       "└─────────────────────────────────┴────────────────────────┴───────────────┘\n"
      ]
     },
     "metadata": {},
     "output_type": "display_data"
    },
    {
     "data": {
      "text/html": [
       "<pre style=\"white-space:pre;overflow-x:auto;line-height:normal;font-family:Menlo,'DejaVu Sans Mono',consolas,'Courier New',monospace\"><span style=\"font-weight: bold\"> Total params: </span><span style=\"color: #00af00; text-decoration-color: #00af00\">63,633</span> (248.57 KB)\n",
       "</pre>\n"
      ],
      "text/plain": [
       "\u001b[1m Total params: \u001b[0m\u001b[38;5;34m63,633\u001b[0m (248.57 KB)\n"
      ]
     },
     "metadata": {},
     "output_type": "display_data"
    },
    {
     "data": {
      "text/html": [
       "<pre style=\"white-space:pre;overflow-x:auto;line-height:normal;font-family:Menlo,'DejaVu Sans Mono',consolas,'Courier New',monospace\"><span style=\"font-weight: bold\"> Trainable params: </span><span style=\"color: #00af00; text-decoration-color: #00af00\">63,533</span> (248.18 KB)\n",
       "</pre>\n"
      ],
      "text/plain": [
       "\u001b[1m Trainable params: \u001b[0m\u001b[38;5;34m63,533\u001b[0m (248.18 KB)\n"
      ]
     },
     "metadata": {},
     "output_type": "display_data"
    },
    {
     "data": {
      "text/html": [
       "<pre style=\"white-space:pre;overflow-x:auto;line-height:normal;font-family:Menlo,'DejaVu Sans Mono',consolas,'Courier New',monospace\"><span style=\"font-weight: bold\"> Non-trainable params: </span><span style=\"color: #00af00; text-decoration-color: #00af00\">100</span> (400.00 B)\n",
       "</pre>\n"
      ],
      "text/plain": [
       "\u001b[1m Non-trainable params: \u001b[0m\u001b[38;5;34m100\u001b[0m (400.00 B)\n"
      ]
     },
     "metadata": {},
     "output_type": "display_data"
    },
    {
     "name": "stdout",
     "output_type": "stream",
     "text": [
      "Epoch 1/70\n",
      "\u001b[1m626/626\u001b[0m \u001b[32m━━━━━━━━━━━━━━━━━━━━\u001b[0m\u001b[37m\u001b[0m \u001b[1m16s\u001b[0m 14ms/step - accuracy: 0.5036 - loss: 0.6932 - val_accuracy: 0.6856 - val_loss: 0.6920\n",
      "Epoch 2/70\n",
      "\u001b[1m626/626\u001b[0m \u001b[32m━━━━━━━━━━━━━━━━━━━━\u001b[0m\u001b[37m\u001b[0m \u001b[1m11s\u001b[0m 6ms/step - accuracy: 0.5060 - loss: 0.6931 - val_accuracy: 0.6175 - val_loss: 0.6911\n",
      "Epoch 3/70\n",
      "\u001b[1m626/626\u001b[0m \u001b[32m━━━━━━━━━━━━━━━━━━━━\u001b[0m\u001b[37m\u001b[0m \u001b[1m5s\u001b[0m 5ms/step - accuracy: 0.5200 - loss: 0.6919 - val_accuracy: 0.6158 - val_loss: 0.6903\n",
      "Epoch 4/70\n",
      "\u001b[1m626/626\u001b[0m \u001b[32m━━━━━━━━━━━━━━━━━━━━\u001b[0m\u001b[37m\u001b[0m \u001b[1m5s\u001b[0m 7ms/step - accuracy: 0.5203 - loss: 0.6919 - val_accuracy: 0.6158 - val_loss: 0.6898\n",
      "Epoch 5/70\n",
      "\u001b[1m626/626\u001b[0m \u001b[32m━━━━━━━━━━━━━━━━━━━━\u001b[0m\u001b[37m\u001b[0m \u001b[1m4s\u001b[0m 6ms/step - accuracy: 0.5220 - loss: 0.6919 - val_accuracy: 0.6158 - val_loss: 0.6893\n",
      "Epoch 6/70\n",
      "\u001b[1m626/626\u001b[0m \u001b[32m━━━━━━━━━━━━━━━━━━━━\u001b[0m\u001b[37m\u001b[0m \u001b[1m5s\u001b[0m 5ms/step - accuracy: 0.5291 - loss: 0.6912 - val_accuracy: 0.6158 - val_loss: 0.6889\n",
      "Epoch 7/70\n",
      "\u001b[1m626/626\u001b[0m \u001b[32m━━━━━━━━━━━━━━━━━━━━\u001b[0m\u001b[37m\u001b[0m \u001b[1m4s\u001b[0m 7ms/step - accuracy: 0.5272 - loss: 0.6913 - val_accuracy: 0.6158 - val_loss: 0.6887\n",
      "Epoch 8/70\n",
      "\u001b[1m626/626\u001b[0m \u001b[32m━━━━━━━━━━━━━━━━━━━━\u001b[0m\u001b[37m\u001b[0m \u001b[1m4s\u001b[0m 6ms/step - accuracy: 0.5283 - loss: 0.6913 - val_accuracy: 0.6471 - val_loss: 0.6884\n",
      "Epoch 9/70\n",
      "\u001b[1m626/626\u001b[0m \u001b[32m━━━━━━━━━━━━━━━━━━━━\u001b[0m\u001b[37m\u001b[0m \u001b[1m3s\u001b[0m 5ms/step - accuracy: 0.5370 - loss: 0.6903 - val_accuracy: 0.6613 - val_loss: 0.6884\n",
      "Epoch 10/70\n",
      "\u001b[1m626/626\u001b[0m \u001b[32m━━━━━━━━━━━━━━━━━━━━\u001b[0m\u001b[37m\u001b[0m \u001b[1m4s\u001b[0m 7ms/step - accuracy: 0.5336 - loss: 0.6908 - val_accuracy: 0.6839 - val_loss: 0.6880\n",
      "Epoch 11/70\n",
      "\u001b[1m626/626\u001b[0m \u001b[32m━━━━━━━━━━━━━━━━━━━━\u001b[0m\u001b[37m\u001b[0m \u001b[1m3s\u001b[0m 5ms/step - accuracy: 0.5442 - loss: 0.6897 - val_accuracy: 0.6979 - val_loss: 0.6879\n",
      "Epoch 12/70\n",
      "\u001b[1m626/626\u001b[0m \u001b[32m━━━━━━━━━━━━━━━━━━━━\u001b[0m\u001b[37m\u001b[0m \u001b[1m4s\u001b[0m 6ms/step - accuracy: 0.5465 - loss: 0.6895 - val_accuracy: 0.7081 - val_loss: 0.6875\n",
      "Epoch 13/70\n",
      "\u001b[1m626/626\u001b[0m \u001b[32m━━━━━━━━━━━━━━━━━━━━\u001b[0m\u001b[37m\u001b[0m \u001b[1m6s\u001b[0m 7ms/step - accuracy: 0.5518 - loss: 0.6891 - val_accuracy: 0.6653 - val_loss: 0.6878\n",
      "Epoch 14/70\n",
      "\u001b[1m626/626\u001b[0m \u001b[32m━━━━━━━━━━━━━━━━━━━━\u001b[0m\u001b[37m\u001b[0m \u001b[1m4s\u001b[0m 6ms/step - accuracy: 0.5456 - loss: 0.6891 - val_accuracy: 0.6483 - val_loss: 0.6876\n",
      "Epoch 15/70\n",
      "\u001b[1m626/626\u001b[0m \u001b[32m━━━━━━━━━━━━━━━━━━━━\u001b[0m\u001b[37m\u001b[0m \u001b[1m6s\u001b[0m 7ms/step - accuracy: 0.5487 - loss: 0.6891 - val_accuracy: 0.6355 - val_loss: 0.6876\n",
      "Epoch 16/70\n",
      "\u001b[1m626/626\u001b[0m \u001b[32m━━━━━━━━━━━━━━━━━━━━\u001b[0m\u001b[37m\u001b[0m \u001b[1m5s\u001b[0m 8ms/step - accuracy: 0.5570 - loss: 0.6882 - val_accuracy: 0.6278 - val_loss: 0.6871\n",
      "Epoch 17/70\n",
      "\u001b[1m626/626\u001b[0m \u001b[32m━━━━━━━━━━━━━━━━━━━━\u001b[0m\u001b[37m\u001b[0m \u001b[1m3s\u001b[0m 5ms/step - accuracy: 0.5594 - loss: 0.6877 - val_accuracy: 0.6155 - val_loss: 0.6873\n",
      "Epoch 18/70\n",
      "\u001b[1m626/626\u001b[0m \u001b[32m━━━━━━━━━━━━━━━━━━━━\u001b[0m\u001b[37m\u001b[0m \u001b[1m3s\u001b[0m 5ms/step - accuracy: 0.5604 - loss: 0.6877 - val_accuracy: 0.6203 - val_loss: 0.6866\n",
      "Epoch 19/70\n",
      "\u001b[1m626/626\u001b[0m \u001b[32m━━━━━━━━━━━━━━━━━━━━\u001b[0m\u001b[37m\u001b[0m \u001b[1m4s\u001b[0m 7ms/step - accuracy: 0.5634 - loss: 0.6876 - val_accuracy: 0.6158 - val_loss: 0.6866\n",
      "Epoch 20/70\n",
      "\u001b[1m626/626\u001b[0m \u001b[32m━━━━━━━━━━━━━━━━━━━━\u001b[0m\u001b[37m\u001b[0m \u001b[1m4s\u001b[0m 6ms/step - accuracy: 0.5714 - loss: 0.6861 - val_accuracy: 0.6073 - val_loss: 0.6867\n",
      "Epoch 21/70\n",
      "\u001b[1m626/626\u001b[0m \u001b[32m━━━━━━━━━━━━━━━━━━━━\u001b[0m\u001b[37m\u001b[0m \u001b[1m5s\u001b[0m 5ms/step - accuracy: 0.5659 - loss: 0.6867 - val_accuracy: 0.6065 - val_loss: 0.6866\n",
      "Epoch 22/70\n",
      "\u001b[1m626/626\u001b[0m \u001b[32m━━━━━━━━━━━━━━━━━━━━\u001b[0m\u001b[37m\u001b[0m \u001b[1m6s\u001b[0m 7ms/step - accuracy: 0.5732 - loss: 0.6855 - val_accuracy: 0.6020 - val_loss: 0.6867\n",
      "Epoch 23/70\n",
      "\u001b[1m626/626\u001b[0m \u001b[32m━━━━━━━━━━━━━━━━━━━━\u001b[0m\u001b[37m\u001b[0m \u001b[1m4s\u001b[0m 5ms/step - accuracy: 0.5778 - loss: 0.6848 - val_accuracy: 0.6025 - val_loss: 0.6865\n",
      "Epoch 24/70\n",
      "\u001b[1m626/626\u001b[0m \u001b[32m━━━━━━━━━━━━━━━━━━━━\u001b[0m\u001b[37m\u001b[0m \u001b[1m6s\u001b[0m 6ms/step - accuracy: 0.5753 - loss: 0.6843 - val_accuracy: 0.6038 - val_loss: 0.6863\n",
      "Epoch 25/70\n",
      "\u001b[1m626/626\u001b[0m \u001b[32m━━━━━━━━━━━━━━━━━━━━\u001b[0m\u001b[37m\u001b[0m \u001b[1m5s\u001b[0m 6ms/step - accuracy: 0.5797 - loss: 0.6840 - val_accuracy: 0.6040 - val_loss: 0.6858\n",
      "Epoch 26/70\n",
      "\u001b[1m626/626\u001b[0m \u001b[32m━━━━━━━━━━━━━━━━━━━━\u001b[0m\u001b[37m\u001b[0m \u001b[1m5s\u001b[0m 5ms/step - accuracy: 0.5903 - loss: 0.6829 - val_accuracy: 0.6055 - val_loss: 0.6854\n",
      "Epoch 27/70\n",
      "\u001b[1m626/626\u001b[0m \u001b[32m━━━━━━━━━━━━━━━━━━━━\u001b[0m\u001b[37m\u001b[0m \u001b[1m7s\u001b[0m 11ms/step - accuracy: 0.5886 - loss: 0.6821 - val_accuracy: 0.6048 - val_loss: 0.6851\n",
      "Epoch 28/70\n",
      "\u001b[1m626/626\u001b[0m \u001b[32m━━━━━━━━━━━━━━━━━━━━\u001b[0m\u001b[37m\u001b[0m \u001b[1m6s\u001b[0m 10ms/step - accuracy: 0.5851 - loss: 0.6824 - val_accuracy: 0.6033 - val_loss: 0.6855\n",
      "Epoch 29/70\n",
      "\u001b[1m626/626\u001b[0m \u001b[32m━━━━━━━━━━━━━━━━━━━━\u001b[0m\u001b[37m\u001b[0m \u001b[1m8s\u001b[0m 13ms/step - accuracy: 0.5938 - loss: 0.6810 - val_accuracy: 0.6020 - val_loss: 0.6853\n",
      "Epoch 30/70\n",
      "\u001b[1m626/626\u001b[0m \u001b[32m━━━━━━━━━━━━━━━━━━━━\u001b[0m\u001b[37m\u001b[0m \u001b[1m4s\u001b[0m 7ms/step - accuracy: 0.5880 - loss: 0.6812 - val_accuracy: 0.5990 - val_loss: 0.6858\n",
      "Epoch 31/70\n",
      "\u001b[1m626/626\u001b[0m \u001b[32m━━━━━━━━━━━━━━━━━━━━\u001b[0m\u001b[37m\u001b[0m \u001b[1m4s\u001b[0m 6ms/step - accuracy: 0.6061 - loss: 0.6784 - val_accuracy: 0.5990 - val_loss: 0.6853\n",
      "Epoch 32/70\n",
      "\u001b[1m626/626\u001b[0m \u001b[32m━━━━━━━━━━━━━━━━━━━━\u001b[0m\u001b[37m\u001b[0m \u001b[1m5s\u001b[0m 7ms/step - accuracy: 0.6015 - loss: 0.6787 - val_accuracy: 0.5990 - val_loss: 0.6849\n",
      "Epoch 33/70\n",
      "\u001b[1m626/626\u001b[0m \u001b[32m━━━━━━━━━━━━━━━━━━━━\u001b[0m\u001b[37m\u001b[0m \u001b[1m3s\u001b[0m 5ms/step - accuracy: 0.5977 - loss: 0.6781 - val_accuracy: 0.5990 - val_loss: 0.6846\n",
      "Epoch 34/70\n",
      "\u001b[1m626/626\u001b[0m \u001b[32m━━━━━━━━━━━━━━━━━━━━\u001b[0m\u001b[37m\u001b[0m \u001b[1m3s\u001b[0m 6ms/step - accuracy: 0.5986 - loss: 0.6773 - val_accuracy: 0.5915 - val_loss: 0.6852\n",
      "Epoch 35/70\n",
      "\u001b[1m626/626\u001b[0m \u001b[32m━━━━━━━━━━━━━━━━━━━━\u001b[0m\u001b[37m\u001b[0m \u001b[1m4s\u001b[0m 7ms/step - accuracy: 0.6077 - loss: 0.6757 - val_accuracy: 0.5892 - val_loss: 0.6850\n",
      "Epoch 36/70\n",
      "\u001b[1m626/626\u001b[0m \u001b[32m━━━━━━━━━━━━━━━━━━━━\u001b[0m\u001b[37m\u001b[0m \u001b[1m4s\u001b[0m 6ms/step - accuracy: 0.6095 - loss: 0.6742 - val_accuracy: 0.5817 - val_loss: 0.6854\n",
      "Epoch 37/70\n",
      "\u001b[1m626/626\u001b[0m \u001b[32m━━━━━━━━━━━━━━━━━━━━\u001b[0m\u001b[37m\u001b[0m \u001b[1m3s\u001b[0m 5ms/step - accuracy: 0.6125 - loss: 0.6737 - val_accuracy: 0.5847 - val_loss: 0.6847\n",
      "Epoch 38/70\n",
      "\u001b[1m626/626\u001b[0m \u001b[32m━━━━━━━━━━━━━━━━━━━━\u001b[0m\u001b[37m\u001b[0m \u001b[1m4s\u001b[0m 6ms/step - accuracy: 0.6095 - loss: 0.6731 - val_accuracy: 0.5800 - val_loss: 0.6847\n",
      "Epoch 39/70\n",
      "\u001b[1m626/626\u001b[0m \u001b[32m━━━━━━━━━━━━━━━━━━━━\u001b[0m\u001b[37m\u001b[0m \u001b[1m4s\u001b[0m 7ms/step - accuracy: 0.6160 - loss: 0.6709 - val_accuracy: 0.5650 - val_loss: 0.6854\n",
      "Epoch 40/70\n",
      "\u001b[1m626/626\u001b[0m \u001b[32m━━━━━━━━━━━━━━━━━━━━\u001b[0m\u001b[37m\u001b[0m \u001b[1m3s\u001b[0m 6ms/step - accuracy: 0.6186 - loss: 0.6693 - val_accuracy: 0.5780 - val_loss: 0.6839\n",
      "Epoch 41/70\n",
      "\u001b[1m626/626\u001b[0m \u001b[32m━━━━━━━━━━━━━━━━━━━━\u001b[0m\u001b[37m\u001b[0m \u001b[1m3s\u001b[0m 5ms/step - accuracy: 0.6245 - loss: 0.6676 - val_accuracy: 0.5630 - val_loss: 0.6848\n",
      "Epoch 42/70\n",
      "\u001b[1m626/626\u001b[0m \u001b[32m━━━━━━━━━━━━━━━━━━━━\u001b[0m\u001b[37m\u001b[0m \u001b[1m5s\u001b[0m 7ms/step - accuracy: 0.6294 - loss: 0.6658 - val_accuracy: 0.5635 - val_loss: 0.6842\n",
      "Epoch 43/70\n",
      "\u001b[1m626/626\u001b[0m \u001b[32m━━━━━━━━━━━━━━━━━━━━\u001b[0m\u001b[37m\u001b[0m \u001b[1m4s\u001b[0m 5ms/step - accuracy: 0.6347 - loss: 0.6637 - val_accuracy: 0.5599 - val_loss: 0.6843\n",
      "Epoch 44/70\n",
      "\u001b[1m626/626\u001b[0m \u001b[32m━━━━━━━━━━━━━━━━━━━━\u001b[0m\u001b[37m\u001b[0m \u001b[1m3s\u001b[0m 5ms/step - accuracy: 0.6334 - loss: 0.6623 - val_accuracy: 0.5534 - val_loss: 0.6848\n",
      "Epoch 45/70\n",
      "\u001b[1m626/626\u001b[0m \u001b[32m━━━━━━━━━━━━━━━━━━━━\u001b[0m\u001b[37m\u001b[0m \u001b[1m6s\u001b[0m 7ms/step - accuracy: 0.6392 - loss: 0.6577 - val_accuracy: 0.5474 - val_loss: 0.6850\n",
      "Epoch 46/70\n",
      "\u001b[1m626/626\u001b[0m \u001b[32m━━━━━━━━━━━━━━━━━━━━\u001b[0m\u001b[37m\u001b[0m \u001b[1m4s\u001b[0m 6ms/step - accuracy: 0.6364 - loss: 0.6579 - val_accuracy: 0.5397 - val_loss: 0.6857\n",
      "Epoch 47/70\n",
      "\u001b[1m626/626\u001b[0m \u001b[32m━━━━━━━━━━━━━━━━━━━━\u001b[0m\u001b[37m\u001b[0m \u001b[1m3s\u001b[0m 6ms/step - accuracy: 0.6405 - loss: 0.6541 - val_accuracy: 0.5447 - val_loss: 0.6848\n",
      "Epoch 48/70\n",
      "\u001b[1m626/626\u001b[0m \u001b[32m━━━━━━━━━━━━━━━━━━━━\u001b[0m\u001b[37m\u001b[0m \u001b[1m6s\u001b[0m 7ms/step - accuracy: 0.6487 - loss: 0.6521 - val_accuracy: 0.5407 - val_loss: 0.6849\n",
      "Epoch 49/70\n",
      "\u001b[1m626/626\u001b[0m \u001b[32m━━━━━━━━━━━━━━━━━━━━\u001b[0m\u001b[37m\u001b[0m \u001b[1m4s\u001b[0m 5ms/step - accuracy: 0.6482 - loss: 0.6503 - val_accuracy: 0.5377 - val_loss: 0.6854\n",
      "Epoch 50/70\n",
      "\u001b[1m626/626\u001b[0m \u001b[32m━━━━━━━━━━━━━━━━━━━━\u001b[0m\u001b[37m\u001b[0m \u001b[1m4s\u001b[0m 7ms/step - accuracy: 0.6611 - loss: 0.6444 - val_accuracy: 0.5339 - val_loss: 0.6859\n",
      "Epoch 51/70\n",
      "\u001b[1m626/626\u001b[0m \u001b[32m━━━━━━━━━━━━━━━━━━━━\u001b[0m\u001b[37m\u001b[0m \u001b[1m5s\u001b[0m 7ms/step - accuracy: 0.6534 - loss: 0.6439 - val_accuracy: 0.5324 - val_loss: 0.6881\n",
      "Epoch 52/70\n",
      "\u001b[1m626/626\u001b[0m \u001b[32m━━━━━━━━━━━━━━━━━━━━\u001b[0m\u001b[37m\u001b[0m \u001b[1m4s\u001b[0m 5ms/step - accuracy: 0.6545 - loss: 0.6410 - val_accuracy: 0.5327 - val_loss: 0.6877\n",
      "Epoch 53/70\n",
      "\u001b[1m626/626\u001b[0m \u001b[32m━━━━━━━━━━━━━━━━━━━━\u001b[0m\u001b[37m\u001b[0m \u001b[1m3s\u001b[0m 5ms/step - accuracy: 0.6562 - loss: 0.6375 - val_accuracy: 0.5304 - val_loss: 0.6894\n",
      "Epoch 54/70\n",
      "\u001b[1m626/626\u001b[0m \u001b[32m━━━━━━━━━━━━━━━━━━━━\u001b[0m\u001b[37m\u001b[0m \u001b[1m5s\u001b[0m 7ms/step - accuracy: 0.6625 - loss: 0.6327 - val_accuracy: 0.5302 - val_loss: 0.6890\n",
      "Epoch 55/70\n",
      "\u001b[1m626/626\u001b[0m \u001b[32m━━━━━━━━━━━━━━━━━━━━\u001b[0m\u001b[37m\u001b[0m \u001b[1m4s\u001b[0m 5ms/step - accuracy: 0.6676 - loss: 0.6298 - val_accuracy: 0.5239 - val_loss: 0.6921\n",
      "Epoch 56/70\n",
      "\u001b[1m626/626\u001b[0m \u001b[32m━━━━━━━━━━━━━━━━━━━━\u001b[0m\u001b[37m\u001b[0m \u001b[1m5s\u001b[0m 5ms/step - accuracy: 0.6695 - loss: 0.6266 - val_accuracy: 0.5244 - val_loss: 0.6927\n",
      "Epoch 57/70\n",
      "\u001b[1m626/626\u001b[0m \u001b[32m━━━━━━━━━━━━━━━━━━━━\u001b[0m\u001b[37m\u001b[0m \u001b[1m5s\u001b[0m 7ms/step - accuracy: 0.6757 - loss: 0.6228 - val_accuracy: 0.5247 - val_loss: 0.6935\n",
      "Epoch 58/70\n",
      "\u001b[1m626/626\u001b[0m \u001b[32m━━━━━━━━━━━━━━━━━━━━\u001b[0m\u001b[37m\u001b[0m \u001b[1m4s\u001b[0m 5ms/step - accuracy: 0.6711 - loss: 0.6211 - val_accuracy: 0.5176 - val_loss: 0.6970\n",
      "Epoch 59/70\n",
      "\u001b[1m626/626\u001b[0m \u001b[32m━━━━━━━━━━━━━━━━━━━━\u001b[0m\u001b[37m\u001b[0m \u001b[1m5s\u001b[0m 6ms/step - accuracy: 0.6792 - loss: 0.6138 - val_accuracy: 0.5089 - val_loss: 0.7009\n",
      "Epoch 60/70\n",
      "\u001b[1m626/626\u001b[0m \u001b[32m━━━━━━━━━━━━━━━━━━━━\u001b[0m\u001b[37m\u001b[0m \u001b[1m5s\u001b[0m 7ms/step - accuracy: 0.6839 - loss: 0.6081 - val_accuracy: 0.5094 - val_loss: 0.7030\n",
      "Epoch 61/70\n",
      "\u001b[1m626/626\u001b[0m \u001b[32m━━━━━━━━━━━━━━━━━━━━\u001b[0m\u001b[37m\u001b[0m \u001b[1m4s\u001b[0m 6ms/step - accuracy: 0.6832 - loss: 0.6076 - val_accuracy: 0.5134 - val_loss: 0.7039\n",
      "Epoch 62/70\n",
      "\u001b[1m626/626\u001b[0m \u001b[32m━━━━━━━━━━━━━━━━━━━━\u001b[0m\u001b[37m\u001b[0m \u001b[1m3s\u001b[0m 5ms/step - accuracy: 0.6852 - loss: 0.6018 - val_accuracy: 0.5019 - val_loss: 0.7095\n",
      "Epoch 63/70\n",
      "\u001b[1m626/626\u001b[0m \u001b[32m━━━━━━━━━━━━━━━━━━━━\u001b[0m\u001b[37m\u001b[0m \u001b[1m4s\u001b[0m 7ms/step - accuracy: 0.6895 - loss: 0.5972 - val_accuracy: 0.5084 - val_loss: 0.7104\n",
      "Epoch 64/70\n",
      "\u001b[1m626/626\u001b[0m \u001b[32m━━━━━━━━━━━━━━━━━━━━\u001b[0m\u001b[37m\u001b[0m \u001b[1m4s\u001b[0m 5ms/step - accuracy: 0.6923 - loss: 0.5938 - val_accuracy: 0.5051 - val_loss: 0.7143\n",
      "Epoch 65/70\n",
      "\u001b[1m626/626\u001b[0m \u001b[32m━━━━━━━━━━━━━━━━━━━━\u001b[0m\u001b[37m\u001b[0m \u001b[1m4s\u001b[0m 6ms/step - accuracy: 0.6920 - loss: 0.5890 - val_accuracy: 0.4981 - val_loss: 0.7194\n",
      "Epoch 66/70\n",
      "\u001b[1m626/626\u001b[0m \u001b[32m━━━━━━━━━━━━━━━━━━━━\u001b[0m\u001b[37m\u001b[0m \u001b[1m6s\u001b[0m 7ms/step - accuracy: 0.7029 - loss: 0.5824 - val_accuracy: 0.4824 - val_loss: 0.7294\n",
      "Epoch 67/70\n",
      "\u001b[1m626/626\u001b[0m \u001b[32m━━━━━━━━━━━━━━━━━━━━\u001b[0m\u001b[37m\u001b[0m \u001b[1m3s\u001b[0m 5ms/step - accuracy: 0.6985 - loss: 0.5786 - val_accuracy: 0.4841 - val_loss: 0.7331\n",
      "Epoch 68/70\n",
      "\u001b[1m626/626\u001b[0m \u001b[32m━━━━━━━━━━━━━━━━━━━━\u001b[0m\u001b[37m\u001b[0m \u001b[1m3s\u001b[0m 5ms/step - accuracy: 0.7065 - loss: 0.5748 - val_accuracy: 0.4881 - val_loss: 0.7359\n",
      "Epoch 69/70\n",
      "\u001b[1m626/626\u001b[0m \u001b[32m━━━━━━━━━━━━━━━━━━━━\u001b[0m\u001b[37m\u001b[0m \u001b[1m6s\u001b[0m 7ms/step - accuracy: 0.7068 - loss: 0.5705 - val_accuracy: 0.4884 - val_loss: 0.7402\n",
      "Epoch 70/70\n",
      "\u001b[1m626/626\u001b[0m \u001b[32m━━━━━━━━━━━━━━━━━━━━\u001b[0m\u001b[37m\u001b[0m \u001b[1m4s\u001b[0m 6ms/step - accuracy: 0.7081 - loss: 0.5676 - val_accuracy: 0.4906 - val_loss: 0.7421\n",
      "\u001b[1m125/125\u001b[0m \u001b[32m━━━━━━━━━━━━━━━━━━━━\u001b[0m\u001b[37m\u001b[0m \u001b[1m0s\u001b[0m 3ms/step - accuracy: 0.4960 - loss: 0.7380\n",
      "\u001b[1m125/125\u001b[0m \u001b[32m━━━━━━━━━━━━━━━━━━━━\u001b[0m\u001b[37m\u001b[0m \u001b[1m1s\u001b[0m 3ms/step\n",
      "[[0.2084766 ]\n",
      " [0.6046083 ]\n",
      " [0.44063523]\n",
      " ...\n",
      " [0.28321233]\n",
      " [0.29380473]\n",
      " [0.33661097]]\n",
      "[[0]\n",
      " [1]\n",
      " [0]\n",
      " ...\n",
      " [0]\n",
      " [0]\n",
      " [0]]\n",
      "0       0\n",
      "1       1\n",
      "2       1\n",
      "3       1\n",
      "4       0\n",
      "       ..\n",
      "3989    0\n",
      "3990    1\n",
      "3991    1\n",
      "3992    0\n",
      "3993    1\n",
      "Name: label, Length: 3994, dtype: int64\n",
      "Test Loss: 0.7436404228210449, Test Accuracy: 0.49073609709739685\n",
      "\n"
     ]
    },
    {
     "data": {
      "image/png": "[encoded data removed]",
      "text/plain": [
       "<Figure size 640x480 with 1 Axes>"
      ]
     },
     "metadata": {},
     "output_type": "display_data"
    },
    {
     "name": "stdout",
     "output_type": "stream",
     "text": [
      "\n",
      "\n"
     ]
    },
    {
     "data": {
      "image/png": "[encoded data removed]",
      "text/plain": [
       "<Figure size 640x480 with 1 Axes>"
      ]
     },
     "metadata": {},
     "output_type": "display_data"
    },
    {
     "name": "stdout",
     "output_type": "stream",
     "text": [
      "\n",
      "Classification Report\n",
      "              precision    recall  f1-score   support\n",
      "\n",
      "           0       0.41      0.79      0.54      1518\n",
      "           1       0.71      0.31      0.43      2476\n",
      "\n",
      "    accuracy                           0.49      3994\n",
      "   macro avg       0.56      0.55      0.48      3994\n",
      "weighted avg       0.59      0.49      0.47      3994\n",
      "\n",
      "\n",
      "Confusion Matrix\n",
      "[[1202  316]\n",
      " [1718  758]]\n"
     ]
    },
    {
     "data": {
      "image/png": "[encoded data removed]",
      "text/plain": [
       "<Figure size 640x480 with 2 Axes>"
      ]
     },
     "metadata": {},
     "output_type": "display_data"
    },
    {
     "name": "stdout",
     "output_type": "stream",
     "text": [
      "Time taken: 335.6792 seconds\n"
     ]
    }
   ],
   "source": [
    "start_time_1 = time.perf_counter()\n",
    "with tensorflow.device('/device:GPU:0'):\n",
    "  # CNN model detection\n",
    "  # https://keras.io/api/layers/activations/#softmax-function\n",
    "  detection_model = tensorflow.keras.Sequential([\n",
    "      tensorflow.keras.layers.Input(shape=(X_rebalance.shape[1],X_rebalance.shape[2])),\n",
    "      tensorflow.keras.layers.Conv1D(filters=50, kernel_size=3, activation='sigmoid'),\n",
    "      tensorflow.keras.layers.MaxPooling1D(pool_size=2),\n",
    "      tensorflow.keras.layers.Dropout(0.3),\n",
    "      tensorflow.keras.layers.BatchNormalization(),\n",
    "      tensorflow.keras.layers.LSTM(64),\n",
    "      tensorflow.keras.layers.Flatten(),\n",
    "      # 1 layer\n",
    "      tensorflow.keras.layers.Dense(512, activation='relu'),\n",
    "      tensorflow.keras.layers.Dropout(0.5),\n",
    "      # either attack or normal\n",
    "      tensorflow.keras.layers.Dense(1, activation='sigmoid')\n",
    "  ])\n",
    "\n",
    "  detection_model.summary()\n",
    "  # https://keras.io/api/losses/probabilistic_losses/#probabilistic-losses\n",
    "  sgd = tensorflow.keras.optimizers.SGD(learning_rate=0.001)\n",
    "  detection_model.compile(optimizer=sgd,\n",
    "                loss=tensorflow.keras.losses.BinaryCrossentropy(from_logits=False),\n",
    "                metrics=['accuracy'])\n",
    "\n",
    "  history = detection_model.fit(X_rebalance, y_rebalance, batch_size=64, epochs=70, validation_data=(X_validation_encode, y_validation_encode))\n",
    "  test_loss, test_acc = detection_model.evaluate(X_test_encode, y_test_encode)\n",
    "\n",
    "  # Make predictions\n",
    "  prediction = detection_model.predict(X_test_encode)\n",
    "  print(prediction)\n",
    "  attack_prediction = numpy.where(prediction > 0.5, 1, 0)\n",
    "  print(attack_prediction)\n",
    "  print(y_test)\n",
    "\n",
    "  # Evaluate the model\n",
    "  print(f\"Test Loss: {test_loss}, Test Accuracy: {test_acc}\\n\")\n",
    "  # https://www.tensorflow.org/tutorials/keras/text_classification for training and validation loss and accuracy\n",
    "  history_dict = history.history\n",
    "  # print(history_dict.keys())\n",
    "  acc = history_dict['accuracy']\n",
    "  val_acc = history_dict['val_accuracy']\n",
    "  loss = history_dict['loss']\n",
    "  val_loss = history_dict['val_loss']\n",
    "\n",
    "  epochs = range(1, len(acc) + 1)\n",
    "\n",
    "  # \"bo\" is for \"blue dot\"\n",
    "  plt.plot(epochs, loss, 'bo', label='Training loss')\n",
    "  # b is for \"solid blue line\"\n",
    "  plt.plot(epochs, val_loss, 'b', label='Validation loss')\n",
    "  plt.title('Training and validation loss')\n",
    "  plt.xlabel('Epochs')\n",
    "  plt.ylabel('Loss')\n",
    "  plt.legend()\n",
    "  plt.show()\n",
    "  print(\"\\n\")\n",
    "\n",
    "  plt.plot(epochs, acc, 'bo', label='Training acc')\n",
    "  plt.plot(epochs, val_acc, 'b', label='Validation acc')\n",
    "  plt.title('Training and validation accuracy')\n",
    "  plt.xlabel('Epochs')\n",
    "  plt.ylabel('Accuracy')\n",
    "  plt.legend(loc='lower right')\n",
    "  plt.show()\n",
    "\n",
    "  print(\"\\nClassification Report\")\n",
    "  print(classification_report(y_test, attack_prediction))\n",
    "\n",
    "  print(\"\\nConfusion Matrix\")\n",
    "  print(confusion_matrix(y_test, attack_prediction))\n",
    "  ConfusionMatrixDisplay.from_predictions(y_test, attack_prediction)\n",
    "  plt.show()\n",
    "\n",
    "end_time1 = time.perf_counter()\n",
    "print(f\"Time taken: {end_time1 - start_time_1:0.4f} seconds\")"
   ]
  },
  {
   "cell_type": "markdown",
   "metadata": {
    "id": "uYXJh6CdfRuI"
   },
   "source": [
    "# Optimizing the model\n",
    "Instead of looking at random number ranges for learning rates, filters, and hidden units, we have encoded specific values.\n",
    "\n",
    "The hyper parameters we are attempting to optimize are:\n",
    "\n",
    "*   Batch Size\n",
    "*   Activation Functions\n",
    "*   Learning Rates\n",
    "*   Filters\n",
    "*   Hidden Units\n",
    "\n",
    "\n",
    "\n",
    "The base CNN model we made is ingested into *objective_function*.\n",
    "  This is where our hyper parameters are being considered.\n",
    "  It returns the Accuracy of that particular iteration.\n",
    "**LB** and **UB** is set according to the list given above.\n",
    "\n"
   ]
  },
  {
   "cell_type": "code",
   "execution_count": null,
   "metadata": {
    "colab": {
     "base_uri": "https://localhost:8080/"
    },
    "executionInfo": {
     "elapsed": 25858806,
     "status": "ok",
     "timestamp": 1744408712282,
     "user": {
      "displayName": "William Eng",
      "userId": "04561525569195545948"
     },
     "user_tz": 240
    },
    "id": "-nP_T-jq4-IO",
    "outputId": "2d8b80ab-714c-49c5-96c4-09c34fafaa15"
   },
   "outputs": [
    {
     "name": "stderr",
     "output_type": "stream",
     "text": [
      "INFO:mealpy.bio_based.SOA.OriginalSOA:Solving single objective optimization problem.\n"
     ]
    },
    {
     "name": "stdout",
     "output_type": "stream",
     "text": [
      "Accuracy 0.2525656819343567\n",
      "Accuracy 0.1226533055305481\n",
      "Accuracy 0.30387985706329346\n",
      "Accuracy 0.19474345445632935\n",
      "Accuracy 0.6157697141170502\n",
      "Accuracy 0.5709637105464935\n",
      "Accuracy 0.46157699823379517\n",
      "Accuracy 0.1499374508857727\n",
      "Accuracy 0.2255319356918335\n",
      "Accuracy 0.5677096247673035\n",
      "Accuracy 0.3229036331176758\n",
      "Accuracy 0.49336671829223633\n",
      "Accuracy 0.3694618344306946\n",
      "Accuracy 0.2653316855430603\n",
      "Accuracy 0.54242804646492\n",
      "Accuracy 0.6297872364521027\n",
      "Accuracy 0.23604506254196167\n",
      "Accuracy 0.6020025014877319\n",
      "Accuracy 0.09762203693389893\n",
      "Accuracy 0.03078848123550415\n",
      "Accuracy 0.5118898749351501\n",
      "Accuracy 0.29612016677856445\n",
      "Accuracy 0.30688363313674927\n",
      "Accuracy 0.6157697141170502\n",
      "Accuracy 0.31739675998687744\n",
      "Accuracy 0.2690863609313965\n",
      "Accuracy 0.3842303156852722\n",
      "Accuracy 0.6157697141170502\n",
      "Accuracy 0.6157697141170502\n",
      "Accuracy 0.6157697141170502\n",
      "Accuracy 0.5952440500259399\n",
      "Accuracy 0.2623279094696045\n",
      "Accuracy 0.3842303156852722\n",
      "Accuracy 0.3842303156852722\n",
      "Accuracy 0.3842303156852722\n",
      "Accuracy 0.2978723645210266\n",
      "Accuracy 0.3842303156852722\n",
      "Accuracy 0.6157697141170502\n",
      "Accuracy 0.6157697141170502\n",
      "Accuracy 0.3842303156852722\n"
     ]
    },
    {
     "name": "stderr",
     "output_type": "stream",
     "text": [
      "INFO:mealpy.bio_based.SOA.OriginalSOA:>>>Problem: P, Epoch: 1, Current best: 0.2623279094696045, Global best: 0.03078848123550415, Runtime: 2147.33047 seconds\n"
     ]
    },
    {
     "name": "stdout",
     "output_type": "stream",
     "text": [
      "Accuracy 0.29662078619003296\n",
      "Accuracy 0.6157697141170502\n",
      "Accuracy 0.6157697141170502\n",
      "Accuracy 0.6157697141170502\n",
      "Accuracy 0.6157697141170502\n",
      "Accuracy 0.6157697141170502\n",
      "Accuracy 0.34392988681793213\n",
      "Accuracy 0.313141405582428\n",
      "Accuracy 0.3842303156852722\n",
      "Accuracy 0.2803504467010498\n",
      "Accuracy 0.3842303156852722\n",
      "Accuracy 0.6157697141170502\n",
      "Accuracy 0.30963706970214844\n",
      "Accuracy 0.3036295175552368\n",
      "Accuracy 0.29361701011657715\n",
      "Accuracy 0.6157697141170502\n",
      "Accuracy 0.3842303156852722\n",
      "Accuracy 0.6157697141170502\n",
      "Accuracy 0.6157697141170502\n",
      "Accuracy 0.6157697141170502\n"
     ]
    },
    {
     "name": "stderr",
     "output_type": "stream",
     "text": [
      "INFO:mealpy.bio_based.SOA.OriginalSOA:>>>Problem: P, Epoch: 2, Current best: 0.2803504467010498, Global best: 0.03078848123550415, Runtime: 2025.10623 seconds\n"
     ]
    },
    {
     "name": "stdout",
     "output_type": "stream",
     "text": [
      "Accuracy 0.3021276593208313\n",
      "Accuracy 0.3842303156852722\n",
      "Accuracy 0.3138923645019531\n",
      "Accuracy 0.3702127933502197\n",
      "Accuracy 0.2565706968307495\n",
      "Accuracy 0.3842303156852722\n",
      "Accuracy 0.6157697141170502\n",
      "Accuracy 0.29361701011657715\n",
      "Accuracy 0.6157697141170502\n",
      "Accuracy 0.2938673496246338\n",
      "Accuracy 0.2963704466819763\n",
      "Accuracy 0.6157697141170502\n",
      "Accuracy 0.26783478260040283\n",
      "Accuracy 0.3098873496055603\n",
      "Accuracy 0.6157697141170502\n",
      "Accuracy 0.3051314353942871\n",
      "Accuracy 0.26558196544647217\n",
      "Accuracy 0.3304130434989929\n",
      "Accuracy 0.31113892793655396\n",
      "Accuracy 0.6157697141170502\n"
     ]
    },
    {
     "name": "stderr",
     "output_type": "stream",
     "text": [
      "INFO:mealpy.bio_based.SOA.OriginalSOA:>>>Problem: P, Epoch: 3, Current best: 0.2565706968307495, Global best: 0.03078848123550415, Runtime: 1516.32115 seconds\n"
     ]
    },
    {
     "name": "stdout",
     "output_type": "stream",
     "text": [
      "Accuracy 0.3842303156852722\n",
      "Accuracy 0.009261548519134521\n",
      "Accuracy 0.6157697141170502\n",
      "Accuracy 0.2923654317855835\n",
      "Accuracy 0.6157697141170502\n",
      "Accuracy 0.3196495771408081\n",
      "Accuracy 0.3842303156852722\n",
      "Accuracy 0.27609509229660034\n",
      "Accuracy 0.30137670040130615\n",
      "Accuracy 0.6157697141170502\n",
      "Accuracy 0.29411762952804565\n",
      "Accuracy 0.6157697141170502\n",
      "Accuracy 0.6157697141170502\n",
      "Accuracy 0.28685855865478516\n",
      "Accuracy 0.3842303156852722\n",
      "Accuracy 0.0042552947998046875\n",
      "Accuracy 0.2525656819343567\n",
      "Accuracy 0.27859824895858765\n",
      "Accuracy 0.2953692078590393\n",
      "Accuracy 0.3083854913711548\n"
     ]
    },
    {
     "name": "stderr",
     "output_type": "stream",
     "text": [
      "INFO:mealpy.bio_based.SOA.OriginalSOA:>>>Problem: P, Epoch: 4, Current best: 0.0042552947998046875, Global best: 0.0042552947998046875, Runtime: 1498.63583 seconds\n"
     ]
    },
    {
     "name": "stdout",
     "output_type": "stream",
     "text": [
      "Accuracy 0.3842303156852722\n",
      "Accuracy 0.6157697141170502\n",
      "Accuracy 0.33541929721832275\n",
      "Accuracy 0.3842303156852722\n",
      "Accuracy 0.3842303156852722\n",
      "Accuracy 0.6157697141170502\n",
      "Accuracy 0.3066332936286926\n",
      "Accuracy 0.3186483383178711\n",
      "Accuracy 0.2911139130592346\n",
      "Accuracy 0.298623263835907\n",
      "Accuracy 0.2838548421859741\n",
      "Accuracy 0.33692115545272827\n",
      "Accuracy 0.5684605836868286\n",
      "Accuracy 0.3842303156852722\n",
      "Accuracy 0.3103879690170288\n",
      "Accuracy 0.3136420249938965\n",
      "Accuracy 0.6157697141170502\n",
      "Accuracy 0.28635793924331665\n",
      "Accuracy 0.291864812374115\n",
      "Accuracy 0.02327907085418701\n"
     ]
    },
    {
     "name": "stderr",
     "output_type": "stream",
     "text": [
      "INFO:mealpy.bio_based.SOA.OriginalSOA:>>>Problem: P, Epoch: 5, Current best: 0.02327907085418701, Global best: 0.0042552947998046875, Runtime: 1430.26244 seconds\n"
     ]
    },
    {
     "name": "stdout",
     "output_type": "stream",
     "text": [
      "Accuracy 0.2793492078781128\n",
      "Accuracy 0.3842303156852722\n",
      "Accuracy 0.3842303156852722\n",
      "Accuracy 0.3842303156852722\n",
      "Accuracy 0.277346670627594\n",
      "Accuracy 0.6157697141170502\n",
      "Accuracy 0.5249061286449432\n",
      "Accuracy 0.29612016677856445\n",
      "Accuracy 0.2963704466819763\n",
      "Accuracy 0.6157697141170502\n",
      "Accuracy 0.6157697141170502\n",
      "Accuracy 0.6157697141170502\n",
      "Accuracy 0.6157697141170502\n",
      "Accuracy 0.31839799880981445\n",
      "Accuracy 0.3113892078399658\n",
      "Accuracy 0.3842303156852722\n",
      "Accuracy 0.6157697141170502\n",
      "Accuracy 0.3351689577102661\n",
      "Accuracy 0.32265329360961914\n",
      "Accuracy 0.3842303156852722\n"
     ]
    },
    {
     "name": "stderr",
     "output_type": "stream",
     "text": [
      "INFO:mealpy.bio_based.SOA.OriginalSOA:>>>Problem: P, Epoch: 6, Current best: 0.277346670627594, Global best: 0.0042552947998046875, Runtime: 2037.34561 seconds\n"
     ]
    },
    {
     "name": "stdout",
     "output_type": "stream",
     "text": [
      "Accuracy 0.3842303156852722\n",
      "Accuracy 0.3041301369667053\n",
      "Accuracy 0.28210264444351196\n",
      "Accuracy 0.260826051235199\n",
      "Accuracy 0.3842303156852722\n",
      "Accuracy 0.06708383560180664\n",
      "Accuracy 0.27534419298171997\n",
      "Accuracy 0.29987484216690063\n",
      "Accuracy 0.306382954120636\n",
      "Accuracy 0.3249061107635498\n",
      "Accuracy 0.6157697141170502\n",
      "Accuracy 0.6157697141170502\n",
      "Accuracy 0.3947434425354004\n",
      "Accuracy 0.3842303156852722\n",
      "Accuracy 0.6157697141170502\n",
      "Accuracy 0.299624502658844\n",
      "Accuracy 0.2916145324707031\n",
      "Accuracy 0.3842303156852722\n",
      "Accuracy 0.26257824897766113\n",
      "Accuracy 0.27183979749679565\n"
     ]
    },
    {
     "name": "stderr",
     "output_type": "stream",
     "text": [
      "INFO:mealpy.bio_based.SOA.OriginalSOA:>>>Problem: P, Epoch: 7, Current best: 0.06708383560180664, Global best: 0.0042552947998046875, Runtime: 1506.83629 seconds\n"
     ]
    },
    {
     "name": "stdout",
     "output_type": "stream",
     "text": [
      "Accuracy 0.3842303156852722\n",
      "Accuracy 0.3842303156852722\n",
      "Accuracy 0.32615768909454346\n",
      "Accuracy 0.3842303156852722\n",
      "Accuracy 0.29712140560150146\n",
      "Accuracy 0.6157697141170502\n",
      "Accuracy 0.2948685884475708\n",
      "Accuracy 0.29461824893951416\n",
      "Accuracy 0.3842303156852722\n",
      "Accuracy 0.3204004764556885\n",
      "Accuracy 0.6157697141170502\n",
      "Accuracy 0.10362952947616577\n",
      "Accuracy 0.2923654317855835\n",
      "Accuracy 0.6157697141170502\n",
      "Accuracy 0.3652064800262451\n",
      "Accuracy 0.285106360912323\n",
      "Accuracy 0.2793492078781128\n",
      "Accuracy 0.6157697141170502\n",
      "Accuracy 0.6157697141170502\n",
      "Accuracy 0.2923654317855835\n"
     ]
    },
    {
     "name": "stderr",
     "output_type": "stream",
     "text": [
      "INFO:mealpy.bio_based.SOA.OriginalSOA:>>>Problem: P, Epoch: 8, Current best: 0.10362952947616577, Global best: 0.0042552947998046875, Runtime: 1518.66624 seconds\n"
     ]
    },
    {
     "name": "stdout",
     "output_type": "stream",
     "text": [
      "Accuracy 0.3274092674255371\n",
      "Accuracy 0.32665830850601196\n",
      "Accuracy 0.28836047649383545\n",
      "Accuracy 0.3066332936286926\n",
      "Accuracy 0.28485608100891113\n",
      "Accuracy 0.12740927934646606\n",
      "Accuracy 0.6157697141170502\n",
      "Accuracy 0.025782227516174316\n",
      "Accuracy 0.28285354375839233\n",
      "Accuracy 0.29937422275543213\n",
      "Accuracy 0.3133917450904846\n",
      "Accuracy 0.27959948778152466\n",
      "Accuracy 0.2765957713127136\n",
      "Accuracy 0.13216519355773926\n",
      "Accuracy 0.3842303156852722\n",
      "Accuracy 0.2665832042694092\n",
      "Accuracy 0.24430537223815918\n",
      "Accuracy 0.30037546157836914\n",
      "Accuracy 0.3842303156852722\n",
      "Accuracy 0.3166458010673523\n"
     ]
    },
    {
     "name": "stderr",
     "output_type": "stream",
     "text": [
      "INFO:mealpy.bio_based.SOA.OriginalSOA:>>>Problem: P, Epoch: 9, Current best: 0.025782227516174316, Global best: 0.0042552947998046875, Runtime: 995.90832 seconds\n"
     ]
    },
    {
     "name": "stdout",
     "output_type": "stream",
     "text": [
      "Accuracy 0.31414270401000977\n",
      "Accuracy 0.3842303156852722\n",
      "Accuracy 0.15644556283950806\n",
      "Accuracy 0.6157697141170502\n",
      "Accuracy 0.2886107563972473\n",
      "Accuracy 0.29737168550491333\n",
      "Accuracy 0.31163954734802246\n",
      "Accuracy 0.28986233472824097\n",
      "Accuracy 0.2896119952201843\n",
      "Accuracy 0.313141405582428\n",
      "Accuracy 0.3842303156852722\n",
      "Accuracy 0.3842303156852722\n",
      "Accuracy 0.30488109588623047\n",
      "Accuracy 0.3842303156852722\n",
      "Accuracy 0.6157697141170502\n",
      "Accuracy 0.3166458010673523\n",
      "Accuracy 0.6157697141170502\n",
      "Accuracy 0.3031288981437683\n",
      "Accuracy 0.27183979749679565\n",
      "Accuracy 0.24806004762649536\n"
     ]
    },
    {
     "name": "stderr",
     "output_type": "stream",
     "text": [
      "INFO:mealpy.bio_based.SOA.OriginalSOA:>>>Problem: P, Epoch: 10, Current best: 0.15644556283950806, Global best: 0.0042552947998046875, Runtime: 1496.06683 seconds\n"
     ]
    },
    {
     "name": "stdout",
     "output_type": "stream",
     "text": [
      "Accuracy 0.6157697141170502\n",
      "Accuracy 0.3842303156852722\n",
      "Accuracy 0.3842303156852722\n",
      "Accuracy 0.2856069803237915\n",
      "Accuracy 0.3204004764556885\n",
      "Accuracy 0.3842303156852722\n",
      "Accuracy 0.28285354375839233\n",
      "Accuracy 0.3842303156852722\n",
      "Accuracy 0.6157697141170502\n",
      "Accuracy 0.29762202501296997\n",
      "Accuracy 0.5757196545600891\n",
      "Accuracy 0.2981226444244385\n",
      "Accuracy 0.3128911256790161\n",
      "Accuracy 0.29211515188217163\n",
      "Accuracy 0.3842303156852722\n",
      "Accuracy 0.29361701011657715\n",
      "Accuracy 0.2963704466819763\n",
      "Accuracy 0.24280351400375366\n",
      "Accuracy 0.10362952947616577\n",
      "Accuracy 0.3842303156852722\n"
     ]
    },
    {
     "name": "stderr",
     "output_type": "stream",
     "text": [
      "INFO:mealpy.bio_based.SOA.OriginalSOA:>>>Problem: P, Epoch: 11, Current best: 0.10362952947616577, Global best: 0.0042552947998046875, Runtime: 1641.75031 seconds\n"
     ]
    },
    {
     "name": "stdout",
     "output_type": "stream",
     "text": [
      "Accuracy 0.6157697141170502\n",
      "Accuracy 0.6157697141170502\n",
      "Accuracy 0.3842303156852722\n",
      "Accuracy 0.278347909450531\n",
      "Accuracy 0.6157697141170502\n",
      "Accuracy 0.3842303156852722\n",
      "Accuracy 0.2643303871154785\n",
      "Accuracy 0.3842303156852722\n",
      "Accuracy 0.3051314353942871\n",
      "Accuracy 0.6157697141170502\n",
      "Accuracy 0.28836047649383545\n",
      "Accuracy 0.6157697141170502\n",
      "Accuracy 0.6157697141170502\n",
      "Accuracy 0.278347909450531\n",
      "Accuracy 0.6157697141170502\n",
      "Accuracy 0.28735917806625366\n",
      "Accuracy 0.6157697141170502\n",
      "Accuracy 0.3842303156852722\n",
      "Accuracy 0.27859824895858765\n",
      "Accuracy 0.28685855865478516\n"
     ]
    },
    {
     "name": "stderr",
     "output_type": "stream",
     "text": [
      "INFO:mealpy.bio_based.SOA.OriginalSOA:>>>Problem: P, Epoch: 12, Current best: 0.2643303871154785, Global best: 0.0042552947998046875, Runtime: 1844.21339 seconds\n"
     ]
    },
    {
     "name": "stdout",
     "output_type": "stream",
     "text": [
      "Accuracy 0.2963704466819763\n",
      "Accuracy 0.6157697141170502\n",
      "Accuracy 0.32665830850601196\n",
      "Accuracy 0.3842303156852722\n",
      "Accuracy 0.3842303156852722\n",
      "Accuracy 0.6157697141170502\n",
      "Accuracy 0.30713391304016113\n",
      "Accuracy 0.6157697141170502\n",
      "Accuracy 0.6157697141170502\n",
      "Accuracy 0.3842303156852722\n",
      "Accuracy 0.3128911256790161\n",
      "Accuracy 0.3842303156852722\n",
      "Accuracy 0.20625782012939453\n",
      "Accuracy 0.6157697141170502\n",
      "Accuracy 0.6157697141170502\n",
      "Accuracy 0.3842303156852722\n",
      "Accuracy 0.6157697141170502\n",
      "Accuracy 0.3842303156852722\n",
      "Accuracy 0.3842303156852722\n",
      "Accuracy 0.26207756996154785\n"
     ]
    },
    {
     "name": "stderr",
     "output_type": "stream",
     "text": [
      "INFO:mealpy.bio_based.SOA.OriginalSOA:>>>Problem: P, Epoch: 13, Current best: 0.20625782012939453, Global best: 0.0042552947998046875, Runtime: 2131.79650 seconds\n"
     ]
    },
    {
     "name": "stdout",
     "output_type": "stream",
     "text": [
      "Accuracy 0.31163954734802246\n",
      "Accuracy 0.27709639072418213\n",
      "Accuracy 0.6157697141170502\n",
      "Accuracy 0.10938674211502075\n",
      "Accuracy 0.6157697141170502\n",
      "Accuracy 0.6157697141170502\n",
      "Accuracy 0.284105122089386\n",
      "Accuracy 0.0030037760734558105\n",
      "Accuracy 0.058573246002197266\n",
      "Accuracy 0.6157697141170502\n",
      "Accuracy 0.29737168550491333\n",
      "Accuracy 0.6157697141170502\n",
      "Accuracy 0.6157697141170502\n",
      "Accuracy 0.30763453245162964\n",
      "Accuracy 0.2938673496246338\n",
      "Accuracy 0.3429286479949951\n",
      "Accuracy 0.28986233472824097\n",
      "Accuracy 0.30337923765182495\n",
      "Accuracy 0.6157697141170502\n",
      "Accuracy 0.3842303156852722\n"
     ]
    },
    {
     "name": "stderr",
     "output_type": "stream",
     "text": [
      "INFO:mealpy.bio_based.SOA.OriginalSOA:>>>Problem: P, Epoch: 14, Current best: 0.0030037760734558105, Global best: 0.0030037760734558105, Runtime: 1527.80078 seconds\n"
     ]
    },
    {
     "name": "stdout",
     "output_type": "stream",
     "text": [
      "Accuracy 0.260826051235199\n",
      "Accuracy 0.09586983919143677\n",
      "Accuracy 0.10262829065322876\n",
      "Accuracy 0.12740927934646606\n",
      "Accuracy 0.08285355567932129\n",
      "Accuracy 0.07158946990966797\n",
      "Accuracy 0.1173967719078064\n",
      "Accuracy 0.07534420490264893\n",
      "Accuracy 0.058322906494140625\n",
      "Accuracy 0.09086358547210693\n",
      "Accuracy 0.02327907085418701\n",
      "Accuracy 0.08360451459884644\n",
      "Accuracy 0.13366711139678955\n",
      "Accuracy 0.12290364503860474\n",
      "Accuracy 0.02703380584716797\n",
      "Accuracy 0.13516896963119507\n",
      "Accuracy 0.12290364503860474\n",
      "Accuracy 0.19524407386779785\n",
      "Accuracy 0.010763466358184814\n",
      "Accuracy 0.02703380584716797\n"
     ]
    },
    {
     "name": "stderr",
     "output_type": "stream",
     "text": [
      "INFO:mealpy.bio_based.SOA.OriginalSOA:>>>Problem: P, Epoch: 15, Current best: 0.010763466358184814, Global best: 0.0030037760734558105, Runtime: 700.17957 seconds\n"
     ]
    },
    {
     "name": "stdout",
     "output_type": "stream",
     "text": [
      "Accuracy 0.12715893983840942\n",
      "Solution: [2.29882422 5.56406119 5.21991897 1.72729706 0.74742709], Fitness: 0.0030037760734558105\n",
      "Solution: [2.29882422 5.56406119 5.21991897 1.72729706 0.74742709], Fitness: 0.0030037760734558105\n"
     ]
    }
   ],
   "source": [
    "BATCH_ENCODER = LabelEncoder()\n",
    "BATCH_ENCODER.fit([32, 64, 128])\n",
    "\n",
    "#act encoder --> Which activation function should be used?\n",
    "ACT_ENCODER = LabelEncoder()\n",
    "ACT_ENCODER.fit(['softmax', 'softplus', 'relu', 'tanh', 'sigmoid', 'hard_sigmoid', 'linear'])\n",
    "\n",
    "#Learning Rate encoder\n",
    "LR_ENCODER = LabelEncoder()\n",
    "LR_ENCODER.fit([0.0005, 0.001, 0.005, 0.01, 0.05, 0.1])\n",
    "\n",
    "\n",
    "#Filter encoder\n",
    "FILTER_ENCODER = LabelEncoder()\n",
    "FILTER_ENCODER.fit([25, 50, 75])\n",
    "\n",
    "#Hidden Units encoder\n",
    "HIDDEN_ENCODER = LabelEncoder()\n",
    "HIDDEN_ENCODER.fit([400, 512, 640])\n",
    "\n",
    "#Dense Layer encoder\n",
    "DENSE_ENCODER = LabelEncoder()\n",
    "DENSE_ENCODER.fit([5, 8, 10])\n",
    "\n",
    "def objective_function(params):\n",
    "  '''RULES:\n",
    "      Batch Size - 32, 64, 128\n",
    "      Activation - softmax, softplus, relu, tanh, sigmoid, hard_sigmoid, linear\n",
    "      Learning Rate - 0.0005, 0.001, 0.005, 0.01, 0.05, 0.1\n",
    "      Filters - 25, 50, 75\n",
    "      Hidden Units - 400, 512, 640\n",
    "      Dense Layers - 5, 8, 10\n",
    "  '''\n",
    "  batch_size = BATCH_ENCODER.inverse_transform([int(params[0])])[0]\n",
    "  activation = ACT_ENCODER.inverse_transform([int(params[1])])[0]\n",
    "  learning_rate = LR_ENCODER.inverse_transform([int(params[2])])[0]\n",
    "  filter = FILTER_ENCODER.inverse_transform([int(params[3])])[0]\n",
    "  hidden_units = HIDDEN_ENCODER.inverse_transform([int(params[4])])[0]\n",
    "  #dense_layers = DENSE_ENCODER.inverse_transform([int(params[5])])[0]\n",
    "  model = tensorflow.keras.Sequential()\n",
    "  model.add(tensorflow.keras.layers.Input(shape=(X_rebalance.shape[1], X_rebalance.shape[2]))),\n",
    "  model.add(tensorflow.keras.layers.Conv1D(filters=filter, kernel_size=3, activation='sigmoid')),\n",
    "  model.add(tensorflow.keras.layers.MaxPooling1D(pool_size=2)),\n",
    "  model.add(tensorflow.keras.layers.Dropout(0.3)),\n",
    "  model.add(tensorflow.keras.layers.BatchNormalization()),\n",
    "  model.add(tensorflow.keras.layers.LSTM(64)),\n",
    "  model.add(tensorflow.keras.layers.Flatten()),\n",
    "  model.add(tensorflow.keras.layers.Dense(int(hidden_units), activation=activation)),\n",
    "  model.add(tensorflow.keras.layers.Dropout(0.5)),\n",
    "  model.add(tensorflow.keras.layers.Dense(1, activation='sigmoid'))\n",
    "\n",
    "  #for i in range(int(dense_layers)):\n",
    "  #    model.add(tensorflow.keras.layers.Dense(1, activation='sigmoid'))\n",
    "\n",
    "  optimizer = tensorflow.keras.optimizers.SGD(learning_rate=learning_rate)\n",
    "  model.compile(optimizer=optimizer, loss='binary_crossentropy', metrics=['accuracy'])\n",
    "\n",
    "  history = model.fit(X_rebalance, y_rebalance, batch_size=batch_size, epochs=15, validation_data=(X_validation_encode, y_validation_encode), verbose=0)\n",
    "  min_validation_accuracy = 1-history.history['val_accuracy'][-1]\n",
    "  print(f\"Accuracy {min_validation_accuracy}\")\n",
    "  return min_validation_accuracy\n",
    "\n",
    "LB = [0, 0, 0, 0, 0]\n",
    "#LB = [0, 0, 0, 0, 0, 0]\n",
    "#UB = [2.99, 6.99, 2.99, 2.99, 2.99, 2.99]\n",
    "UB = [2.99, 6.99, 5.99, 2.99, 2.99]\n",
    "\n",
    "problem_dict = {\n",
    "    \"obj_func\": objective_function,\n",
    "    \"bounds\": FloatVar(lb=LB, ub=UB),\n",
    "    \"minmax\": \"min\",\n",
    "    \"verbose\": True\n",
    "}\n",
    "\n",
    "model = SOA.OriginalSOA(epoch=15, pop_size=20, fc=2)\n",
    "g_best = model.solve(problem_dict)\n",
    "print(f\"Solution: {g_best.solution}, Fitness: {g_best.target.fitness}\")\n",
    "print(f\"Solution: {model.g_best.solution}, Fitness: {model.g_best.target.fitness}\")\n",
    "model.history.save_global_objectives_chart(filename=\"hello/goc\")\n",
    "model.history.save_local_objectives_chart(filename=\"hello/loc\")\n",
    "\n",
    "model.history.save_global_best_fitness_chart(filename=\"hello/gbfc\")\n",
    "model.history.save_local_best_fitness_chart(filename=\"hello/lbfc\")\n",
    "\n",
    "model.history.save_runtime_chart(filename=\"hello/rtc\")\n",
    "\n",
    "model.history.save_exploration_exploitation_chart(filename=\"hello/eec\")\n",
    "\n",
    "model.history.save_diversity_chart(filename=\"hello/dc\")\n",
    "\n",
    "#model.history.save_trajectory_chart(list_agent_idx=[3, 5, 6, 7,], selected_dimensions=[3, 4], filename=\"hello/tc\")\n",
    "# print(f\"Solution: {g_best.solution}, Fitness: {g_best.target.fitness}\")\n",
    "# print(f\"Solution: {model.g_best.solution}, Fitness: {model.g_best.target.fitness}\")\n",
    "\n",
    "#print(\"\\nConfusion Matrix\")\n",
    "#CHANGE ATTACK PREDICTION?\n",
    "#print(confusion_matrix(y_test, attack_prediction))\n",
    "#ConfusionMatrixDisplay.from_predictions(y_test, attack_prediction)\n",
    "#plt.show()"
   ]
  },
  {
   "cell_type": "markdown",
   "metadata": {
    "id": "WEzB4Lg810L_"
   },
   "source": [
    "Solution: [2.29882422 5.56406119 5.21991897 1.72729706 0.74742709], Fitness: 0.0030037760734558105\n",
    "\n",
    "\n",
    "Batch Size - 32, 64, **128**\n",
    "\n",
    "Activation - softmax, softplus, relu, tanh, sigmoid, **hard_sigmoid**, linear\n",
    "\n",
    "Learning Rate - 0.0005, 0.001, 0.005, 0.01, 0.05, **0.1**\n",
    "\n",
    "Filters - 25, **50**, 75\n",
    "\n",
    "Hidden Units - **400**, 512, 640"
   ]
  },
  {
   "cell_type": "code",
   "execution_count": null,
   "metadata": {
    "colab": {
     "base_uri": "https://localhost:8080/",
     "height": 1000
    },
    "executionInfo": {
     "elapsed": 120324,
     "status": "ok",
     "timestamp": 1744672657266,
     "user": {
      "displayName": "William Eng",
      "userId": "04561525569195545948"
     },
     "user_tz": 240
    },
    "id": "DcO8RPRf6zE5",
    "outputId": "cf7d90f6-61f7-4bf6-df0b-7d2efa50a36f"
   },
   "outputs": [
    {
     "data": {
      "text/html": [
       "<pre style=\"white-space:pre;overflow-x:auto;line-height:normal;font-family:Menlo,'DejaVu Sans Mono',consolas,'Courier New',monospace\"><span style=\"font-weight: bold\">Model: \"sequential\"</span>\n",
       "</pre>\n"
      ],
      "text/plain": [
       "\u001b[1mModel: \"sequential\"\u001b[0m\n"
      ]
     },
     "metadata": {},
     "output_type": "display_data"
    },
    {
     "data": {
      "text/html": [
       "<pre style=\"white-space:pre;overflow-x:auto;line-height:normal;font-family:Menlo,'DejaVu Sans Mono',consolas,'Courier New',monospace\">┏━━━━━━━━━━━━━━━━━━━━━━━━━━━━━━━━━┳━━━━━━━━━━━━━━━━━━━━━━━━┳━━━━━━━━━━━━━━━┓\n",
       "┃<span style=\"font-weight: bold\"> Layer (type)                    </span>┃<span style=\"font-weight: bold\"> Output Shape           </span>┃<span style=\"font-weight: bold\">       Param # </span>┃\n",
       "┡━━━━━━━━━━━━━━━━━━━━━━━━━━━━━━━━━╇━━━━━━━━━━━━━━━━━━━━━━━━╇━━━━━━━━━━━━━━━┩\n",
       "│ conv1d (<span style=\"color: #0087ff; text-decoration-color: #0087ff\">Conv1D</span>)                 │ (<span style=\"color: #00d7ff; text-decoration-color: #00d7ff\">None</span>, <span style=\"color: #00af00; text-decoration-color: #00af00\">2</span>, <span style=\"color: #00af00; text-decoration-color: #00af00\">50</span>)          │           <span style=\"color: #00af00; text-decoration-color: #00af00\">200</span> │\n",
       "├─────────────────────────────────┼────────────────────────┼───────────────┤\n",
       "│ max_pooling1d (<span style=\"color: #0087ff; text-decoration-color: #0087ff\">MaxPooling1D</span>)    │ (<span style=\"color: #00d7ff; text-decoration-color: #00d7ff\">None</span>, <span style=\"color: #00af00; text-decoration-color: #00af00\">1</span>, <span style=\"color: #00af00; text-decoration-color: #00af00\">50</span>)          │             <span style=\"color: #00af00; text-decoration-color: #00af00\">0</span> │\n",
       "├─────────────────────────────────┼────────────────────────┼───────────────┤\n",
       "│ dropout (<span style=\"color: #0087ff; text-decoration-color: #0087ff\">Dropout</span>)               │ (<span style=\"color: #00d7ff; text-decoration-color: #00d7ff\">None</span>, <span style=\"color: #00af00; text-decoration-color: #00af00\">1</span>, <span style=\"color: #00af00; text-decoration-color: #00af00\">50</span>)          │             <span style=\"color: #00af00; text-decoration-color: #00af00\">0</span> │\n",
       "├─────────────────────────────────┼────────────────────────┼───────────────┤\n",
       "│ batch_normalization             │ (<span style=\"color: #00d7ff; text-decoration-color: #00d7ff\">None</span>, <span style=\"color: #00af00; text-decoration-color: #00af00\">1</span>, <span style=\"color: #00af00; text-decoration-color: #00af00\">50</span>)          │           <span style=\"color: #00af00; text-decoration-color: #00af00\">200</span> │\n",
       "│ (<span style=\"color: #0087ff; text-decoration-color: #0087ff\">BatchNormalization</span>)            │                        │               │\n",
       "├─────────────────────────────────┼────────────────────────┼───────────────┤\n",
       "│ lstm (<span style=\"color: #0087ff; text-decoration-color: #0087ff\">LSTM</span>)                     │ (<span style=\"color: #00d7ff; text-decoration-color: #00d7ff\">None</span>, <span style=\"color: #00af00; text-decoration-color: #00af00\">64</span>)             │        <span style=\"color: #00af00; text-decoration-color: #00af00\">29,440</span> │\n",
       "├─────────────────────────────────┼────────────────────────┼───────────────┤\n",
       "│ flatten (<span style=\"color: #0087ff; text-decoration-color: #0087ff\">Flatten</span>)               │ (<span style=\"color: #00d7ff; text-decoration-color: #00d7ff\">None</span>, <span style=\"color: #00af00; text-decoration-color: #00af00\">64</span>)             │             <span style=\"color: #00af00; text-decoration-color: #00af00\">0</span> │\n",
       "├─────────────────────────────────┼────────────────────────┼───────────────┤\n",
       "│ dense (<span style=\"color: #0087ff; text-decoration-color: #0087ff\">Dense</span>)                   │ (<span style=\"color: #00d7ff; text-decoration-color: #00d7ff\">None</span>, <span style=\"color: #00af00; text-decoration-color: #00af00\">400</span>)            │        <span style=\"color: #00af00; text-decoration-color: #00af00\">26,000</span> │\n",
       "├─────────────────────────────────┼────────────────────────┼───────────────┤\n",
       "│ dropout_1 (<span style=\"color: #0087ff; text-decoration-color: #0087ff\">Dropout</span>)             │ (<span style=\"color: #00d7ff; text-decoration-color: #00d7ff\">None</span>, <span style=\"color: #00af00; text-decoration-color: #00af00\">400</span>)            │             <span style=\"color: #00af00; text-decoration-color: #00af00\">0</span> │\n",
       "├─────────────────────────────────┼────────────────────────┼───────────────┤\n",
       "│ dense_1 (<span style=\"color: #0087ff; text-decoration-color: #0087ff\">Dense</span>)                 │ (<span style=\"color: #00d7ff; text-decoration-color: #00d7ff\">None</span>, <span style=\"color: #00af00; text-decoration-color: #00af00\">1</span>)              │           <span style=\"color: #00af00; text-decoration-color: #00af00\">401</span> │\n",
       "└─────────────────────────────────┴────────────────────────┴───────────────┘\n",
       "</pre>\n"
      ],
      "text/plain": [
       "┏━━━━━━━━━━━━━━━━━━━━━━━━━━━━━━━━━┳━━━━━━━━━━━━━━━━━━━━━━━━┳━━━━━━━━━━━━━━━┓\n",
       "┃\u001b[1m \u001b[0m\u001b[1mLayer (type)                   \u001b[0m\u001b[1m \u001b[0m┃\u001b[1m \u001b[0m\u001b[1mOutput Shape          \u001b[0m\u001b[1m \u001b[0m┃\u001b[1m \u001b[0m\u001b[1m      Param #\u001b[0m\u001b[1m \u001b[0m┃\n",
       "┡━━━━━━━━━━━━━━━━━━━━━━━━━━━━━━━━━╇━━━━━━━━━━━━━━━━━━━━━━━━╇━━━━━━━━━━━━━━━┩\n",
       "│ conv1d (\u001b[38;5;33mConv1D\u001b[0m)                 │ (\u001b[38;5;45mNone\u001b[0m, \u001b[38;5;34m2\u001b[0m, \u001b[38;5;34m50\u001b[0m)          │           \u001b[38;5;34m200\u001b[0m │\n",
       "├─────────────────────────────────┼────────────────────────┼───────────────┤\n",
       "│ max_pooling1d (\u001b[38;5;33mMaxPooling1D\u001b[0m)    │ (\u001b[38;5;45mNone\u001b[0m, \u001b[38;5;34m1\u001b[0m, \u001b[38;5;34m50\u001b[0m)          │             \u001b[38;5;34m0\u001b[0m │\n",
       "├─────────────────────────────────┼────────────────────────┼───────────────┤\n",
       "│ dropout (\u001b[38;5;33mDropout\u001b[0m)               │ (\u001b[38;5;45mNone\u001b[0m, \u001b[38;5;34m1\u001b[0m, \u001b[38;5;34m50\u001b[0m)          │             \u001b[38;5;34m0\u001b[0m │\n",
       "├─────────────────────────────────┼────────────────────────┼───────────────┤\n",
       "│ batch_normalization             │ (\u001b[38;5;45mNone\u001b[0m, \u001b[38;5;34m1\u001b[0m, \u001b[38;5;34m50\u001b[0m)          │           \u001b[38;5;34m200\u001b[0m │\n",
       "│ (\u001b[38;5;33mBatchNormalization\u001b[0m)            │                        │               │\n",
       "├─────────────────────────────────┼────────────────────────┼───────────────┤\n",
       "│ lstm (\u001b[38;5;33mLSTM\u001b[0m)                     │ (\u001b[38;5;45mNone\u001b[0m, \u001b[38;5;34m64\u001b[0m)             │        \u001b[38;5;34m29,440\u001b[0m │\n",
       "├─────────────────────────────────┼────────────────────────┼───────────────┤\n",
       "│ flatten (\u001b[38;5;33mFlatten\u001b[0m)               │ (\u001b[38;5;45mNone\u001b[0m, \u001b[38;5;34m64\u001b[0m)             │             \u001b[38;5;34m0\u001b[0m │\n",
       "├─────────────────────────────────┼────────────────────────┼───────────────┤\n",
       "│ dense (\u001b[38;5;33mDense\u001b[0m)                   │ (\u001b[38;5;45mNone\u001b[0m, \u001b[38;5;34m400\u001b[0m)            │        \u001b[38;5;34m26,000\u001b[0m │\n",
       "├─────────────────────────────────┼────────────────────────┼───────────────┤\n",
       "│ dropout_1 (\u001b[38;5;33mDropout\u001b[0m)             │ (\u001b[38;5;45mNone\u001b[0m, \u001b[38;5;34m400\u001b[0m)            │             \u001b[38;5;34m0\u001b[0m │\n",
       "├─────────────────────────────────┼────────────────────────┼───────────────┤\n",
       "│ dense_1 (\u001b[38;5;33mDense\u001b[0m)                 │ (\u001b[38;5;45mNone\u001b[0m, \u001b[38;5;34m1\u001b[0m)              │           \u001b[38;5;34m401\u001b[0m │\n",
       "└─────────────────────────────────┴────────────────────────┴───────────────┘\n"
      ]
     },
     "metadata": {},
     "output_type": "display_data"
    },
    {
     "data": {
      "text/html": [
       "<pre style=\"white-space:pre;overflow-x:auto;line-height:normal;font-family:Menlo,'DejaVu Sans Mono',consolas,'Courier New',monospace\"><span style=\"font-weight: bold\"> Total params: </span><span style=\"color: #00af00; text-decoration-color: #00af00\">56,241</span> (219.69 KB)\n",
       "</pre>\n"
      ],
      "text/plain": [
       "\u001b[1m Total params: \u001b[0m\u001b[38;5;34m56,241\u001b[0m (219.69 KB)\n"
      ]
     },
     "metadata": {},
     "output_type": "display_data"
    },
    {
     "data": {
      "text/html": [
       "<pre style=\"white-space:pre;overflow-x:auto;line-height:normal;font-family:Menlo,'DejaVu Sans Mono',consolas,'Courier New',monospace\"><span style=\"font-weight: bold\"> Trainable params: </span><span style=\"color: #00af00; text-decoration-color: #00af00\">56,141</span> (219.30 KB)\n",
       "</pre>\n"
      ],
      "text/plain": [
       "\u001b[1m Trainable params: \u001b[0m\u001b[38;5;34m56,141\u001b[0m (219.30 KB)\n"
      ]
     },
     "metadata": {},
     "output_type": "display_data"
    },
    {
     "data": {
      "text/html": [
       "<pre style=\"white-space:pre;overflow-x:auto;line-height:normal;font-family:Menlo,'DejaVu Sans Mono',consolas,'Courier New',monospace\"><span style=\"font-weight: bold\"> Non-trainable params: </span><span style=\"color: #00af00; text-decoration-color: #00af00\">100</span> (400.00 B)\n",
       "</pre>\n"
      ],
      "text/plain": [
       "\u001b[1m Non-trainable params: \u001b[0m\u001b[38;5;34m100\u001b[0m (400.00 B)\n"
      ]
     },
     "metadata": {},
     "output_type": "display_data"
    },
    {
     "name": "stdout",
     "output_type": "stream",
     "text": [
      "Epoch 1/70\n",
      "\u001b[1m313/313\u001b[0m \u001b[32m━━━━━━━━━━━━━━━━━━━━\u001b[0m\u001b[37m\u001b[0m \u001b[1m6s\u001b[0m 6ms/step - accuracy: 0.5026 - loss: 0.9352 - val_accuracy: 0.3842 - val_loss: 1.0431\n",
      "Epoch 2/70\n",
      "\u001b[1m313/313\u001b[0m \u001b[32m━━━━━━━━━━━━━━━━━━━━\u001b[0m\u001b[37m\u001b[0m \u001b[1m2s\u001b[0m 5ms/step - accuracy: 0.4975 - loss: 0.9923 - val_accuracy: 0.3842 - val_loss: 1.3686\n",
      "Epoch 3/70\n",
      "\u001b[1m313/313\u001b[0m \u001b[32m━━━━━━━━━━━━━━━━━━━━\u001b[0m\u001b[37m\u001b[0m \u001b[1m2s\u001b[0m 5ms/step - accuracy: 0.4964 - loss: 1.0021 - val_accuracy: 0.3842 - val_loss: 0.8795\n",
      "Epoch 4/70\n",
      "\u001b[1m313/313\u001b[0m \u001b[32m━━━━━━━━━━━━━━━━━━━━\u001b[0m\u001b[37m\u001b[0m \u001b[1m2s\u001b[0m 5ms/step - accuracy: 0.5005 - loss: 0.9495 - val_accuracy: 0.6158 - val_loss: 0.7380\n",
      "Epoch 5/70\n",
      "\u001b[1m313/313\u001b[0m \u001b[32m━━━━━━━━━━━━━━━━━━━━\u001b[0m\u001b[37m\u001b[0m \u001b[1m2s\u001b[0m 5ms/step - accuracy: 0.4933 - loss: 0.9865 - val_accuracy: 0.3842 - val_loss: 1.6315\n",
      "Epoch 6/70\n",
      "\u001b[1m313/313\u001b[0m \u001b[32m━━━━━━━━━━━━━━━━━━━━\u001b[0m\u001b[37m\u001b[0m \u001b[1m2s\u001b[0m 5ms/step - accuracy: 0.5025 - loss: 0.9100 - val_accuracy: 0.6158 - val_loss: 0.9009\n",
      "Epoch 7/70\n",
      "\u001b[1m313/313\u001b[0m \u001b[32m━━━━━━━━━━━━━━━━━━━━\u001b[0m\u001b[37m\u001b[0m \u001b[1m2s\u001b[0m 5ms/step - accuracy: 0.4998 - loss: 0.9346 - val_accuracy: 0.3842 - val_loss: 1.2524\n",
      "Epoch 8/70\n",
      "\u001b[1m313/313\u001b[0m \u001b[32m━━━━━━━━━━━━━━━━━━━━\u001b[0m\u001b[37m\u001b[0m \u001b[1m2s\u001b[0m 5ms/step - accuracy: 0.4976 - loss: 0.9312 - val_accuracy: 0.3842 - val_loss: 0.7560\n",
      "Epoch 9/70\n",
      "\u001b[1m313/313\u001b[0m \u001b[32m━━━━━━━━━━━━━━━━━━━━\u001b[0m\u001b[37m\u001b[0m \u001b[1m2s\u001b[0m 5ms/step - accuracy: 0.4976 - loss: 0.9020 - val_accuracy: 0.3842 - val_loss: 0.8996\n",
      "Epoch 10/70\n",
      "\u001b[1m313/313\u001b[0m \u001b[32m━━━━━━━━━━━━━━━━━━━━\u001b[0m\u001b[37m\u001b[0m \u001b[1m2s\u001b[0m 5ms/step - accuracy: 0.5022 - loss: 0.8674 - val_accuracy: 0.3842 - val_loss: 1.5205\n",
      "Epoch 11/70\n",
      "\u001b[1m313/313\u001b[0m \u001b[32m━━━━━━━━━━━━━━━━━━━━\u001b[0m\u001b[37m\u001b[0m \u001b[1m2s\u001b[0m 5ms/step - accuracy: 0.5063 - loss: 0.8464 - val_accuracy: 0.3842 - val_loss: 0.7899\n",
      "Epoch 12/70\n",
      "\u001b[1m313/313\u001b[0m \u001b[32m━━━━━━━━━━━━━━━━━━━━\u001b[0m\u001b[37m\u001b[0m \u001b[1m2s\u001b[0m 5ms/step - accuracy: 0.5058 - loss: 0.8526 - val_accuracy: 0.3842 - val_loss: 0.9970\n",
      "Epoch 13/70\n",
      "\u001b[1m313/313\u001b[0m \u001b[32m━━━━━━━━━━━━━━━━━━━━\u001b[0m\u001b[37m\u001b[0m \u001b[1m2s\u001b[0m 5ms/step - accuracy: 0.5139 - loss: 0.8219 - val_accuracy: 0.6158 - val_loss: 0.6614\n",
      "Epoch 14/70\n",
      "\u001b[1m313/313\u001b[0m \u001b[32m━━━━━━━━━━━━━━━━━━━━\u001b[0m\u001b[37m\u001b[0m \u001b[1m2s\u001b[0m 5ms/step - accuracy: 0.5812 - loss: 0.7061 - val_accuracy: 0.5146 - val_loss: 0.7086\n",
      "Epoch 15/70\n",
      "\u001b[1m313/313\u001b[0m \u001b[32m━━━━━━━━━━━━━━━━━━━━\u001b[0m\u001b[37m\u001b[0m \u001b[1m2s\u001b[0m 5ms/step - accuracy: 0.6914 - loss: 0.5920 - val_accuracy: 0.4173 - val_loss: 1.0712\n",
      "Epoch 16/70\n",
      "\u001b[1m313/313\u001b[0m \u001b[32m━━━━━━━━━━━━━━━━━━━━\u001b[0m\u001b[37m\u001b[0m \u001b[1m2s\u001b[0m 5ms/step - accuracy: 0.7507 - loss: 0.5253 - val_accuracy: 0.5006 - val_loss: 0.8424\n",
      "Epoch 17/70\n",
      "\u001b[1m313/313\u001b[0m \u001b[32m━━━━━━━━━━━━━━━━━━━━\u001b[0m\u001b[37m\u001b[0m \u001b[1m2s\u001b[0m 5ms/step - accuracy: 0.7779 - loss: 0.4809 - val_accuracy: 0.5191 - val_loss: 0.8260\n",
      "Epoch 18/70\n",
      "\u001b[1m313/313\u001b[0m \u001b[32m━━━━━━━━━━━━━━━━━━━━\u001b[0m\u001b[37m\u001b[0m \u001b[1m2s\u001b[0m 5ms/step - accuracy: 0.7988 - loss: 0.4382 - val_accuracy: 0.5422 - val_loss: 0.8620\n",
      "Epoch 19/70\n",
      "\u001b[1m313/313\u001b[0m \u001b[32m━━━━━━━━━━━━━━━━━━━━\u001b[0m\u001b[37m\u001b[0m \u001b[1m2s\u001b[0m 5ms/step - accuracy: 0.8231 - loss: 0.3993 - val_accuracy: 0.5822 - val_loss: 0.7324\n",
      "Epoch 20/70\n",
      "\u001b[1m313/313\u001b[0m \u001b[32m━━━━━━━━━━━━━━━━━━━━\u001b[0m\u001b[37m\u001b[0m \u001b[1m2s\u001b[0m 5ms/step - accuracy: 0.8379 - loss: 0.3619 - val_accuracy: 0.6180 - val_loss: 0.7715\n",
      "Epoch 21/70\n",
      "\u001b[1m313/313\u001b[0m \u001b[32m━━━━━━━━━━━━━━━━━━━━\u001b[0m\u001b[37m\u001b[0m \u001b[1m2s\u001b[0m 5ms/step - accuracy: 0.8483 - loss: 0.3415 - val_accuracy: 0.6380 - val_loss: 0.8089\n",
      "Epoch 22/70\n",
      "\u001b[1m313/313\u001b[0m \u001b[32m━━━━━━━━━━━━━━━━━━━━\u001b[0m\u001b[37m\u001b[0m \u001b[1m2s\u001b[0m 5ms/step - accuracy: 0.8578 - loss: 0.3270 - val_accuracy: 0.7011 - val_loss: 0.6066\n",
      "Epoch 23/70\n",
      "\u001b[1m313/313\u001b[0m \u001b[32m━━━━━━━━━━━━━━━━━━━━\u001b[0m\u001b[37m\u001b[0m \u001b[1m2s\u001b[0m 5ms/step - accuracy: 0.8732 - loss: 0.2960 - val_accuracy: 0.6919 - val_loss: 0.6572\n",
      "Epoch 24/70\n",
      "\u001b[1m313/313\u001b[0m \u001b[32m━━━━━━━━━━━━━━━━━━━━\u001b[0m\u001b[37m\u001b[0m \u001b[1m2s\u001b[0m 5ms/step - accuracy: 0.8752 - loss: 0.2857 - val_accuracy: 0.7139 - val_loss: 0.6412\n",
      "Epoch 25/70\n",
      "\u001b[1m313/313\u001b[0m \u001b[32m━━━━━━━━━━━━━━━━━━━━\u001b[0m\u001b[37m\u001b[0m \u001b[1m2s\u001b[0m 5ms/step - accuracy: 0.8856 - loss: 0.2684 - val_accuracy: 0.7840 - val_loss: 0.3823\n",
      "Epoch 26/70\n",
      "\u001b[1m313/313\u001b[0m \u001b[32m━━━━━━━━━━━━━━━━━━━━\u001b[0m\u001b[37m\u001b[0m \u001b[1m2s\u001b[0m 5ms/step - accuracy: 0.8962 - loss: 0.2487 - val_accuracy: 0.8073 - val_loss: 0.3368\n",
      "Epoch 27/70\n",
      "\u001b[1m313/313\u001b[0m \u001b[32m━━━━━━━━━━━━━━━━━━━━\u001b[0m\u001b[37m\u001b[0m \u001b[1m2s\u001b[0m 5ms/step - accuracy: 0.8985 - loss: 0.2351 - val_accuracy: 0.7775 - val_loss: 0.5198\n",
      "Epoch 28/70\n",
      "\u001b[1m313/313\u001b[0m \u001b[32m━━━━━━━━━━━━━━━━━━━━\u001b[0m\u001b[37m\u001b[0m \u001b[1m2s\u001b[0m 5ms/step - accuracy: 0.9101 - loss: 0.2151 - val_accuracy: 0.8573 - val_loss: 0.2661\n",
      "Epoch 29/70\n",
      "\u001b[1m313/313\u001b[0m \u001b[32m━━━━━━━━━━━━━━━━━━━━\u001b[0m\u001b[37m\u001b[0m \u001b[1m2s\u001b[0m 5ms/step - accuracy: 0.9173 - loss: 0.1984 - val_accuracy: 0.8686 - val_loss: 0.2543\n",
      "Epoch 30/70\n",
      "\u001b[1m313/313\u001b[0m \u001b[32m━━━━━━━━━━━━━━━━━━━━\u001b[0m\u001b[37m\u001b[0m \u001b[1m2s\u001b[0m 5ms/step - accuracy: 0.9221 - loss: 0.1887 - val_accuracy: 0.9337 - val_loss: 0.1796\n",
      "Epoch 31/70\n",
      "\u001b[1m313/313\u001b[0m \u001b[32m━━━━━━━━━━━━━━━━━━━━\u001b[0m\u001b[37m\u001b[0m \u001b[1m2s\u001b[0m 5ms/step - accuracy: 0.9344 - loss: 0.1611 - val_accuracy: 0.9156 - val_loss: 0.1884\n",
      "Epoch 32/70\n",
      "\u001b[1m313/313\u001b[0m \u001b[32m━━━━━━━━━━━━━━━━━━━━\u001b[0m\u001b[37m\u001b[0m \u001b[1m2s\u001b[0m 5ms/step - accuracy: 0.9365 - loss: 0.1555 - val_accuracy: 0.9009 - val_loss: 0.2002\n",
      "Epoch 33/70\n",
      "\u001b[1m313/313\u001b[0m \u001b[32m━━━━━━━━━━━━━━━━━━━━\u001b[0m\u001b[37m\u001b[0m \u001b[1m2s\u001b[0m 5ms/step - accuracy: 0.9446 - loss: 0.1338 - val_accuracy: 0.9247 - val_loss: 0.1704\n",
      "Epoch 34/70\n",
      "\u001b[1m313/313\u001b[0m \u001b[32m━━━━━━━━━━━━━━━━━━━━\u001b[0m\u001b[37m\u001b[0m \u001b[1m2s\u001b[0m 5ms/step - accuracy: 0.9511 - loss: 0.1208 - val_accuracy: 0.8934 - val_loss: 0.2152\n",
      "Epoch 35/70\n",
      "\u001b[1m313/313\u001b[0m \u001b[32m━━━━━━━━━━━━━━━━━━━━\u001b[0m\u001b[37m\u001b[0m \u001b[1m2s\u001b[0m 5ms/step - accuracy: 0.9565 - loss: 0.1116 - val_accuracy: 0.9004 - val_loss: 0.2347\n",
      "Epoch 36/70\n",
      "\u001b[1m313/313\u001b[0m \u001b[32m━━━━━━━━━━━━━━━━━━━━\u001b[0m\u001b[37m\u001b[0m \u001b[1m2s\u001b[0m 5ms/step - accuracy: 0.9570 - loss: 0.1076 - val_accuracy: 0.9011 - val_loss: 0.2437\n",
      "Epoch 37/70\n",
      "\u001b[1m313/313\u001b[0m \u001b[32m━━━━━━━━━━━━━━━━━━━━\u001b[0m\u001b[37m\u001b[0m \u001b[1m2s\u001b[0m 5ms/step - accuracy: 0.9626 - loss: 0.0957 - val_accuracy: 0.8979 - val_loss: 0.2679\n",
      "Epoch 38/70\n",
      "\u001b[1m313/313\u001b[0m \u001b[32m━━━━━━━━━━━━━━━━━━━━\u001b[0m\u001b[37m\u001b[0m \u001b[1m2s\u001b[0m 5ms/step - accuracy: 0.9648 - loss: 0.0895 - val_accuracy: 0.8798 - val_loss: 0.2927\n",
      "Epoch 39/70\n",
      "\u001b[1m313/313\u001b[0m \u001b[32m━━━━━━━━━━━━━━━━━━━━\u001b[0m\u001b[37m\u001b[0m \u001b[1m2s\u001b[0m 5ms/step - accuracy: 0.9667 - loss: 0.0892 - val_accuracy: 0.8951 - val_loss: 0.2635\n",
      "Epoch 40/70\n",
      "\u001b[1m313/313\u001b[0m \u001b[32m━━━━━━━━━━━━━━━━━━━━\u001b[0m\u001b[37m\u001b[0m \u001b[1m2s\u001b[0m 5ms/step - accuracy: 0.9692 - loss: 0.0813 - val_accuracy: 0.8696 - val_loss: 0.3587\n",
      "Epoch 41/70\n",
      "\u001b[1m313/313\u001b[0m \u001b[32m━━━━━━━━━━━━━━━━━━━━\u001b[0m\u001b[37m\u001b[0m \u001b[1m2s\u001b[0m 5ms/step - accuracy: 0.9736 - loss: 0.0706 - val_accuracy: 0.8693 - val_loss: 0.3803\n",
      "Epoch 42/70\n",
      "\u001b[1m313/313\u001b[0m \u001b[32m━━━━━━━━━━━━━━━━━━━━\u001b[0m\u001b[37m\u001b[0m \u001b[1m2s\u001b[0m 5ms/step - accuracy: 0.9757 - loss: 0.0627 - val_accuracy: 0.8703 - val_loss: 0.3897\n",
      "Epoch 43/70\n",
      "\u001b[1m313/313\u001b[0m \u001b[32m━━━━━━━━━━━━━━━━━━━━\u001b[0m\u001b[37m\u001b[0m \u001b[1m2s\u001b[0m 5ms/step - accuracy: 0.9780 - loss: 0.0603 - val_accuracy: 0.8666 - val_loss: 0.4335\n",
      "Epoch 44/70\n",
      "\u001b[1m313/313\u001b[0m \u001b[32m━━━━━━━━━━━━━━━━━━━━\u001b[0m\u001b[37m\u001b[0m \u001b[1m2s\u001b[0m 5ms/step - accuracy: 0.9788 - loss: 0.0567 - val_accuracy: 0.8743 - val_loss: 0.3751\n",
      "Epoch 45/70\n",
      "\u001b[1m313/313\u001b[0m \u001b[32m━━━━━━━━━━━━━━━━━━━━\u001b[0m\u001b[37m\u001b[0m \u001b[1m2s\u001b[0m 5ms/step - accuracy: 0.9799 - loss: 0.0550 - val_accuracy: 0.8686 - val_loss: 0.4279\n",
      "Epoch 46/70\n",
      "\u001b[1m313/313\u001b[0m \u001b[32m━━━━━━━━━━━━━━━━━━━━\u001b[0m\u001b[37m\u001b[0m \u001b[1m2s\u001b[0m 5ms/step - accuracy: 0.9827 - loss: 0.0481 - val_accuracy: 0.8666 - val_loss: 0.4335\n",
      "Epoch 47/70\n",
      "\u001b[1m313/313\u001b[0m \u001b[32m━━━━━━━━━━━━━━━━━━━━\u001b[0m\u001b[37m\u001b[0m \u001b[1m2s\u001b[0m 5ms/step - accuracy: 0.9833 - loss: 0.0456 - val_accuracy: 0.8806 - val_loss: 0.3179\n",
      "Epoch 48/70\n",
      "\u001b[1m313/313\u001b[0m \u001b[32m━━━━━━━━━━━━━━━━━━━━\u001b[0m\u001b[37m\u001b[0m \u001b[1m2s\u001b[0m 5ms/step - accuracy: 0.9841 - loss: 0.0437 - val_accuracy: 0.8766 - val_loss: 0.3307\n",
      "Epoch 49/70\n",
      "\u001b[1m313/313\u001b[0m \u001b[32m━━━━━━━━━━━━━━━━━━━━\u001b[0m\u001b[37m\u001b[0m \u001b[1m2s\u001b[0m 5ms/step - accuracy: 0.9838 - loss: 0.0419 - val_accuracy: 0.8708 - val_loss: 0.4367\n",
      "Epoch 50/70\n",
      "\u001b[1m313/313\u001b[0m \u001b[32m━━━━━━━━━━━━━━━━━━━━\u001b[0m\u001b[37m\u001b[0m \u001b[1m2s\u001b[0m 5ms/step - accuracy: 0.9870 - loss: 0.0368 - val_accuracy: 0.8763 - val_loss: 0.3370\n",
      "Epoch 51/70\n",
      "\u001b[1m313/313\u001b[0m \u001b[32m━━━━━━━━━━━━━━━━━━━━\u001b[0m\u001b[37m\u001b[0m \u001b[1m2s\u001b[0m 5ms/step - accuracy: 0.9876 - loss: 0.0356 - val_accuracy: 0.8854 - val_loss: 0.3269\n",
      "Epoch 52/70\n",
      "\u001b[1m313/313\u001b[0m \u001b[32m━━━━━━━━━━━━━━━━━━━━\u001b[0m\u001b[37m\u001b[0m \u001b[1m2s\u001b[0m 5ms/step - accuracy: 0.9872 - loss: 0.0335 - val_accuracy: 0.8716 - val_loss: 0.4019\n",
      "Epoch 53/70\n",
      "\u001b[1m313/313\u001b[0m \u001b[32m━━━━━━━━━━━━━━━━━━━━\u001b[0m\u001b[37m\u001b[0m \u001b[1m2s\u001b[0m 5ms/step - accuracy: 0.9888 - loss: 0.0330 - val_accuracy: 0.8663 - val_loss: 0.5092\n",
      "Epoch 54/70\n",
      "\u001b[1m313/313\u001b[0m \u001b[32m━━━━━━━━━━━━━━━━━━━━\u001b[0m\u001b[37m\u001b[0m \u001b[1m2s\u001b[0m 5ms/step - accuracy: 0.9878 - loss: 0.0322 - val_accuracy: 0.8748 - val_loss: 0.4066\n",
      "Epoch 55/70\n",
      "\u001b[1m313/313\u001b[0m \u001b[32m━━━━━━━━━━━━━━━━━━━━\u001b[0m\u001b[37m\u001b[0m \u001b[1m2s\u001b[0m 5ms/step - accuracy: 0.9890 - loss: 0.0323 - val_accuracy: 0.8741 - val_loss: 0.4165\n",
      "Epoch 56/70\n",
      "\u001b[1m313/313\u001b[0m \u001b[32m━━━━━━━━━━━━━━━━━━━━\u001b[0m\u001b[37m\u001b[0m \u001b[1m2s\u001b[0m 5ms/step - accuracy: 0.9900 - loss: 0.0273 - val_accuracy: 0.8711 - val_loss: 0.4465\n",
      "Epoch 57/70\n",
      "\u001b[1m313/313\u001b[0m \u001b[32m━━━━━━━━━━━━━━━━━━━━\u001b[0m\u001b[37m\u001b[0m \u001b[1m2s\u001b[0m 5ms/step - accuracy: 0.9887 - loss: 0.0311 - val_accuracy: 0.8763 - val_loss: 0.3967\n",
      "Epoch 58/70\n",
      "\u001b[1m313/313\u001b[0m \u001b[32m━━━━━━━━━━━━━━━━━━━━\u001b[0m\u001b[37m\u001b[0m \u001b[1m2s\u001b[0m 5ms/step - accuracy: 0.9901 - loss: 0.0270 - val_accuracy: 0.8736 - val_loss: 0.4271\n",
      "Epoch 59/70\n",
      "\u001b[1m313/313\u001b[0m \u001b[32m━━━━━━━━━━━━━━━━━━━━\u001b[0m\u001b[37m\u001b[0m \u001b[1m2s\u001b[0m 5ms/step - accuracy: 0.9905 - loss: 0.0269 - val_accuracy: 0.8786 - val_loss: 0.4068\n",
      "Epoch 60/70\n",
      "\u001b[1m313/313\u001b[0m \u001b[32m━━━━━━━━━━━━━━━━━━━━\u001b[0m\u001b[37m\u001b[0m \u001b[1m2s\u001b[0m 5ms/step - accuracy: 0.9906 - loss: 0.0276 - val_accuracy: 0.8693 - val_loss: 0.5075\n",
      "Epoch 61/70\n",
      "\u001b[1m313/313\u001b[0m \u001b[32m━━━━━━━━━━━━━━━━━━━━\u001b[0m\u001b[37m\u001b[0m \u001b[1m2s\u001b[0m 5ms/step - accuracy: 0.9907 - loss: 0.0256 - val_accuracy: 0.8806 - val_loss: 0.4196\n",
      "Epoch 62/70\n",
      "\u001b[1m313/313\u001b[0m \u001b[32m━━━━━━━━━━━━━━━━━━━━\u001b[0m\u001b[37m\u001b[0m \u001b[1m2s\u001b[0m 5ms/step - accuracy: 0.9918 - loss: 0.0249 - val_accuracy: 0.8846 - val_loss: 0.3914\n",
      "Epoch 63/70\n",
      "\u001b[1m313/313\u001b[0m \u001b[32m━━━━━━━━━━━━━━━━━━━━\u001b[0m\u001b[37m\u001b[0m \u001b[1m2s\u001b[0m 5ms/step - accuracy: 0.9934 - loss: 0.0207 - val_accuracy: 0.8776 - val_loss: 0.4528\n",
      "Epoch 64/70\n",
      "\u001b[1m313/313\u001b[0m \u001b[32m━━━━━━━━━━━━━━━━━━━━\u001b[0m\u001b[37m\u001b[0m \u001b[1m2s\u001b[0m 5ms/step - accuracy: 0.9920 - loss: 0.0232 - val_accuracy: 0.8916 - val_loss: 0.3597\n",
      "Epoch 65/70\n",
      "\u001b[1m313/313\u001b[0m \u001b[32m━━━━━━━━━━━━━━━━━━━━\u001b[0m\u001b[37m\u001b[0m \u001b[1m2s\u001b[0m 5ms/step - accuracy: 0.9917 - loss: 0.0225 - val_accuracy: 0.8791 - val_loss: 0.4331\n",
      "Epoch 66/70\n",
      "\u001b[1m313/313\u001b[0m \u001b[32m━━━━━━━━━━━━━━━━━━━━\u001b[0m\u001b[37m\u001b[0m \u001b[1m2s\u001b[0m 5ms/step - accuracy: 0.9918 - loss: 0.0227 - val_accuracy: 0.8819 - val_loss: 0.4235\n",
      "Epoch 67/70\n",
      "\u001b[1m313/313\u001b[0m \u001b[32m━━━━━━━━━━━━━━━━━━━━\u001b[0m\u001b[37m\u001b[0m \u001b[1m2s\u001b[0m 5ms/step - accuracy: 0.9934 - loss: 0.0188 - val_accuracy: 0.8786 - val_loss: 0.4595\n",
      "Epoch 68/70\n",
      "\u001b[1m313/313\u001b[0m \u001b[32m━━━━━━━━━━━━━━━━━━━━\u001b[0m\u001b[37m\u001b[0m \u001b[1m2s\u001b[0m 5ms/step - accuracy: 0.9938 - loss: 0.0186 - val_accuracy: 0.8781 - val_loss: 0.4630\n",
      "Epoch 69/70\n",
      "\u001b[1m313/313\u001b[0m \u001b[32m━━━━━━━━━━━━━━━━━━━━\u001b[0m\u001b[37m\u001b[0m \u001b[1m2s\u001b[0m 5ms/step - accuracy: 0.9938 - loss: 0.0184 - val_accuracy: 0.8788 - val_loss: 0.4451\n",
      "Epoch 70/70\n",
      "\u001b[1m313/313\u001b[0m \u001b[32m━━━━━━━━━━━━━━━━━━━━\u001b[0m\u001b[37m\u001b[0m \u001b[1m2s\u001b[0m 5ms/step - accuracy: 0.9941 - loss: 0.0168 - val_accuracy: 0.8753 - val_loss: 0.4770\n",
      "\u001b[1m125/125\u001b[0m \u001b[32m━━━━━━━━━━━━━━━━━━━━\u001b[0m\u001b[37m\u001b[0m \u001b[1m0s\u001b[0m 3ms/step - accuracy: 0.8828 - loss: 0.4175\n",
      "\u001b[1m125/125\u001b[0m \u001b[32m━━━━━━━━━━━━━━━━━━━━\u001b[0m\u001b[37m\u001b[0m \u001b[1m0s\u001b[0m 3ms/step\n",
      "[[4.3315581e-06]\n",
      " [9.9991477e-01]\n",
      " [9.9931264e-01]\n",
      " ...\n",
      " [9.9475741e-01]\n",
      " [3.6347417e-05]\n",
      " [9.9989057e-01]]\n",
      "[[0]\n",
      " [1]\n",
      " [1]\n",
      " ...\n",
      " [1]\n",
      " [0]\n",
      " [1]]\n",
      "0       0\n",
      "1       1\n",
      "2       1\n",
      "3       1\n",
      "4       0\n",
      "       ..\n",
      "3989    0\n",
      "3990    1\n",
      "3991    1\n",
      "3992    0\n",
      "3993    1\n",
      "Name: label, Length: 3994, dtype: int64\n",
      "Test Loss: 0.4379678964614868, Test Accuracy: 0.8830746412277222\n",
      "\n"
     ]
    },
    {
     "data": {
      "image/png": "[encoded data removed]",
      "text/plain": [
       "<Figure size 640x480 with 1 Axes>"
      ]
     },
     "metadata": {},
     "output_type": "display_data"
    },
    {
     "name": "stdout",
     "output_type": "stream",
     "text": [
      "\n",
      "\n"
     ]
    },
    {
     "data": {
      "image/png": "[encoded data removed]",
      "text/plain": [
       "<Figure size 640x480 with 1 Axes>"
      ]
     },
     "metadata": {},
     "output_type": "display_data"
    },
    {
     "name": "stdout",
     "output_type": "stream",
     "text": [
      "\n",
      "Classification Report\n",
      "              precision    recall  f1-score   support\n",
      "\n",
      "           0       1.00      0.69      0.82      1518\n",
      "           1       0.84      1.00      0.91      2476\n",
      "\n",
      "    accuracy                           0.88      3994\n",
      "   macro avg       0.92      0.85      0.87      3994\n",
      "weighted avg       0.90      0.88      0.88      3994\n",
      "\n",
      "\n",
      "Confusion Matrix\n",
      "[[1051  467]\n",
      " [   0 2476]]\n"
     ]
    },
    {
     "data": {
      "image/png": "[encoded data removed]",
      "text/plain": [
       "<Figure size 640x480 with 2 Axes>"
      ]
     },
     "metadata": {},
     "output_type": "display_data"
    },
    {
     "name": "stdout",
     "output_type": "stream",
     "text": [
      "Time taken: 121.4266 seconds\n"
     ]
    }
   ],
   "source": [
    "start_time_2 = time.perf_counter()\n",
    "with tensorflow.device('/device:GPU:0'):\n",
    "  # CNN model detection\n",
    "  # https://keras.io/api/layers/activations/#softmax-function\n",
    "  detection_model = tensorflow.keras.Sequential([\n",
    "      tensorflow.keras.layers.Input(shape=(X_rebalance.shape[1],X_rebalance.shape[2])),\n",
    "      tensorflow.keras.layers.Conv1D(filters=50, kernel_size=3, activation='sigmoid'),\n",
    "      tensorflow.keras.layers.MaxPooling1D(pool_size=2),\n",
    "      tensorflow.keras.layers.Dropout(0.3),\n",
    "      tensorflow.keras.layers.BatchNormalization(),\n",
    "      tensorflow.keras.layers.LSTM(64),\n",
    "      tensorflow.keras.layers.Flatten(),\n",
    "      # 1 layer\n",
    "      tensorflow.keras.layers.Dense(400, activation='hard_sigmoid'),\n",
    "      tensorflow.keras.layers.Dropout(0.5),\n",
    "      # either attack or normal\n",
    "      tensorflow.keras.layers.Dense(1, activation='sigmoid')\n",
    "  ])\n",
    "\n",
    "  detection_model.summary()\n",
    "  # https://keras.io/api/losses/probabilistic_losses/#probabilistic-losses\n",
    "  sgd = tensorflow.keras.optimizers.SGD(learning_rate=0.1)\n",
    "  detection_model.compile(optimizer=sgd,\n",
    "                loss=tensorflow.keras.losses.BinaryCrossentropy(from_logits=False),\n",
    "                metrics=['accuracy'])\n",
    "\n",
    "  history = detection_model.fit(X_rebalance, y_rebalance, batch_size=128, epochs=70, validation_data=(X_validation_encode, y_validation_encode))\n",
    "  test_loss, test_acc = detection_model.evaluate(X_test_encode, y_test_encode)\n",
    "\n",
    "  # Make predictions\n",
    "  prediction = detection_model.predict(X_test_encode)\n",
    "  print(prediction)\n",
    "  attack_prediction = numpy.where(prediction > 0.5, 1, 0)\n",
    "  print(attack_prediction)\n",
    "  print(y_test)\n",
    "\n",
    "  # Evaluate the model\n",
    "  print(f\"Test Loss: {test_loss}, Test Accuracy: {test_acc}\\n\")\n",
    "  # https://www.tensorflow.org/tutorials/keras/text_classification for training and validation loss and accuracy\n",
    "  history_dict = history.history\n",
    "  # print(history_dict.keys())\n",
    "  acc = history_dict['accuracy']\n",
    "  val_acc = history_dict['val_accuracy']\n",
    "  loss = history_dict['loss']\n",
    "  val_loss = history_dict['val_loss']\n",
    "\n",
    "  epochs = range(1, len(acc) + 1)\n",
    "\n",
    "  # \"bo\" is for \"blue dot\"\n",
    "  plt.plot(epochs, loss, 'bo', label='Training loss')\n",
    "  # b is for \"solid blue line\"\n",
    "  plt.plot(epochs, val_loss, 'b', label='Validation loss')\n",
    "  plt.title('Training and validation loss')\n",
    "  plt.xlabel('Epochs')\n",
    "  plt.ylabel('Loss')\n",
    "  plt.legend()\n",
    "  plt.show()\n",
    "  print(\"\\n\")\n",
    "\n",
    "  plt.plot(epochs, acc, 'bo', label='Training acc')\n",
    "  plt.plot(epochs, val_acc, 'b', label='Validation acc')\n",
    "  plt.title('Training and validation accuracy')\n",
    "  plt.xlabel('Epochs')\n",
    "  plt.ylabel('Accuracy')\n",
    "  plt.legend(loc='lower right')\n",
    "  plt.show()\n",
    "\n",
    "  print(\"\\nClassification Report\")\n",
    "  print(classification_report(y_test, attack_prediction))\n",
    "\n",
    "  print(\"\\nConfusion Matrix\")\n",
    "  print(confusion_matrix(y_test, attack_prediction))\n",
    "  ConfusionMatrixDisplay.from_predictions(y_test, attack_prediction)\n",
    "  plt.show()\n",
    "\n",
    "end_time2 = time.perf_counter()\n",
    "print(f\"Time taken: {end_time2 - start_time_2:0.4f} seconds\")"
   ]
  }
 ],
 "metadata": {
  "accelerator": "GPU",
  "colab": {
   "gpuType": "T4",
   "machine_shape": "hm",
   "provenance": [
    {
     "file_id": "1k5OonXS07WRQJuNbu1wRNrofEmDjbXNQ",
     "timestamp": 1744409928464
    },
    {
     "file_id": "1EKz60Tb5TLU_tk3JLCK-jEhZU-ljHSBH",
     "timestamp": 1744380497293
    },
    {
     "file_id": "1Y2BbSla7l1U1Mos9HmWELfNFI-YrmpYX",
     "timestamp": 1744296837793
    },
    {
     "file_id": "1GwyENaVoX3ULft3fEvbu7J_z3owiYbp3",
     "timestamp": 1742261233461
    },
    {
     "file_id": "1DbzWEllKOvC1R_XZ_m50doDeJffvMW97",
     "timestamp": 1742259639780
    },
    {
     "file_id": "1YCp9O_gAsESoVVNXfgI7L5puj0HvzkTd",
     "timestamp": 1742258990178
    },
    {
     "file_id": "1bPbom9h65p6kThxmQnO6EDmwYfvH2les",
     "timestamp": 1742251162970
    }
   ]
  },
  "kernelspec": {
   "display_name": "Python 3",
   "name": "python3"
  },
  "language_info": {
   "name": "python"
  }
 },
 "nbformat": 4,
 "nbformat_minor": 0
}
