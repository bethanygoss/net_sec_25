{
 "cells": [
  {
   "cell_type": "markdown",
   "metadata": {
    "id": "1OMfD3CbNAt3"
   },
   "source": [
    "# Finding optimal hyper parameters for a CNN model\n",
    "\n",
    "The point of this notebook is to obtain an optimal set of parameters for our CNN model to process time based series data. Specifically, we are processing IoT data from TON a well-kept dataset from The UNSW Group in Canberra, Australia.\n",
    "\n",
    "The specific dataset being discussed here is the IoT Garage Door dataset.\n",
    "\n"
   ]
  },
  {
   "cell_type": "code",
   "execution_count": null,
   "metadata": {
    "colab": {
     "base_uri": "https://localhost:8080/"
    },
    "executionInfo": {
     "elapsed": 18734,
     "status": "ok",
     "timestamp": 1745010028067,
     "user": {
      "displayName": "Bethany Goss",
      "userId": "10125623664246589214"
     },
     "user_tz": 240
    },
    "id": "eaatdv7dcSE8",
    "outputId": "19e272cc-a588-4fa1-8acd-904a90ef59a8"
   },
   "outputs": [
    {
     "name": "stdout",
     "output_type": "stream",
     "text": [
      "Collecting mealpy==3.0.1\n",
      "  Downloading mealpy-3.0.1-py3-none-any.whl.metadata (104 kB)\n",
      "\u001b[?25l     \u001b[90m━━━━━━━━━━━━━━━━━━━━━━━━━━━━━━━━━━━━━━━━\u001b[0m \u001b[32m0.0/104.9 kB\u001b[0m \u001b[31m?\u001b[0m eta \u001b[36m-:--:--\u001b[0m\r\u001b[2K     \u001b[90m━━━━━━━━━━━━━━━━━━━━━━━━━━━━━━━━━━━━━━━\u001b[0m \u001b[32m104.9/104.9 kB\u001b[0m \u001b[31m4.4 MB/s\u001b[0m eta \u001b[36m0:00:00\u001b[0m\n",
      "\u001b[?25hRequirement already satisfied: numpy>=1.17.5 in /usr/local/lib/python3.11/dist-packages (from mealpy==3.0.1) (2.0.2)\n",
      "Requirement already satisfied: matplotlib>=3.3.0 in /usr/local/lib/python3.11/dist-packages (from mealpy==3.0.1) (3.10.0)\n",
      "Requirement already satisfied: scipy>=1.7.1 in /usr/local/lib/python3.11/dist-packages (from mealpy==3.0.1) (1.14.1)\n",
      "Requirement already satisfied: pandas>=1.2.0 in /usr/local/lib/python3.11/dist-packages (from mealpy==3.0.1) (2.2.2)\n",
      "Collecting opfunu>=1.0.0 (from mealpy==3.0.1)\n",
      "  Downloading opfunu-1.0.4-py3-none-any.whl.metadata (10 kB)\n",
      "Requirement already satisfied: contourpy>=1.0.1 in /usr/local/lib/python3.11/dist-packages (from matplotlib>=3.3.0->mealpy==3.0.1) (1.3.2)\n",
      "Requirement already satisfied: cycler>=0.10 in /usr/local/lib/python3.11/dist-packages (from matplotlib>=3.3.0->mealpy==3.0.1) (0.12.1)\n",
      "Requirement already satisfied: fonttools>=4.22.0 in /usr/local/lib/python3.11/dist-packages (from matplotlib>=3.3.0->mealpy==3.0.1) (4.57.0)\n",
      "Requirement already satisfied: kiwisolver>=1.3.1 in /usr/local/lib/python3.11/dist-packages (from matplotlib>=3.3.0->mealpy==3.0.1) (1.4.8)\n",
      "Requirement already satisfied: packaging>=20.0 in /usr/local/lib/python3.11/dist-packages (from matplotlib>=3.3.0->mealpy==3.0.1) (24.2)\n",
      "Requirement already satisfied: pillow>=8 in /usr/local/lib/python3.11/dist-packages (from matplotlib>=3.3.0->mealpy==3.0.1) (11.1.0)\n",
      "Requirement already satisfied: pyparsing>=2.3.1 in /usr/local/lib/python3.11/dist-packages (from matplotlib>=3.3.0->mealpy==3.0.1) (3.2.3)\n",
      "Requirement already satisfied: python-dateutil>=2.7 in /usr/local/lib/python3.11/dist-packages (from matplotlib>=3.3.0->mealpy==3.0.1) (2.8.2)\n",
      "Requirement already satisfied: requests>=2.27.0 in /usr/local/lib/python3.11/dist-packages (from opfunu>=1.0.0->mealpy==3.0.1) (2.32.3)\n",
      "Requirement already satisfied: pytz>=2020.1 in /usr/local/lib/python3.11/dist-packages (from pandas>=1.2.0->mealpy==3.0.1) (2025.2)\n",
      "Requirement already satisfied: tzdata>=2022.7 in /usr/local/lib/python3.11/dist-packages (from pandas>=1.2.0->mealpy==3.0.1) (2025.2)\n",
      "Requirement already satisfied: six>=1.5 in /usr/local/lib/python3.11/dist-packages (from python-dateutil>=2.7->matplotlib>=3.3.0->mealpy==3.0.1) (1.17.0)\n",
      "Requirement already satisfied: charset-normalizer<4,>=2 in /usr/local/lib/python3.11/dist-packages (from requests>=2.27.0->opfunu>=1.0.0->mealpy==3.0.1) (3.4.1)\n",
      "Requirement already satisfied: idna<4,>=2.5 in /usr/local/lib/python3.11/dist-packages (from requests>=2.27.0->opfunu>=1.0.0->mealpy==3.0.1) (3.10)\n",
      "Requirement already satisfied: urllib3<3,>=1.21.1 in /usr/local/lib/python3.11/dist-packages (from requests>=2.27.0->opfunu>=1.0.0->mealpy==3.0.1) (2.3.0)\n",
      "Requirement already satisfied: certifi>=2017.4.17 in /usr/local/lib/python3.11/dist-packages (from requests>=2.27.0->opfunu>=1.0.0->mealpy==3.0.1) (2025.1.31)\n",
      "Downloading mealpy-3.0.1-py3-none-any.whl (386 kB)\n",
      "\u001b[2K   \u001b[90m━━━━━━━━━━━━━━━━━━━━━━━━━━━━━━━━━━━━━━━━\u001b[0m \u001b[32m386.3/386.3 kB\u001b[0m \u001b[31m14.3 MB/s\u001b[0m eta \u001b[36m0:00:00\u001b[0m\n",
      "\u001b[?25hDownloading opfunu-1.0.4-py3-none-any.whl (13.0 MB)\n",
      "\u001b[2K   \u001b[90m━━━━━━━━━━━━━━━━━━━━━━━━━━━━━━━━━━━━━━━━\u001b[0m \u001b[32m13.0/13.0 MB\u001b[0m \u001b[31m25.9 MB/s\u001b[0m eta \u001b[36m0:00:00\u001b[0m\n",
      "\u001b[?25hInstalling collected packages: opfunu, mealpy\n",
      "Successfully installed mealpy-3.0.1 opfunu-1.0.4\n"
     ]
    }
   ],
   "source": [
    "%pip install mealpy==3.0.1\n",
    "%pip install -U scikit-learn\n",
    "%pip install imbalanced-learn\n",
    "%pip install matplotlib\n",
    "%pip install tensorflow"
   ]
  },
  {
   "cell_type": "markdown",
   "metadata": {
    "id": "tExzDMEJuKWi"
   },
   "source": [
    "# New Section"
   ]
  },
  {
   "cell_type": "code",
   "execution_count": null,
   "metadata": {
    "id": "gZcj3IP1clhJ"
   },
   "outputs": [],
   "source": [
    "import pandas\n",
    "from sklearn.model_selection import train_test_split\n",
    "from sklearn.preprocessing import OrdinalEncoder, LabelEncoder, StandardScaler\n",
    "from imblearn.combine import SMOTETomek\n",
    "import numpy\n",
    "from sklearn.metrics import classification_report, confusion_matrix,ConfusionMatrixDisplay\n",
    "import tensorflow\n",
    "from tensorflow import keras\n",
    "import matplotlib.pyplot as plt\n",
    "from mealpy import FloatVar, SOA\n",
    "import time"
   ]
  },
  {
   "cell_type": "markdown",
   "metadata": {
    "id": "mJHVRPL0NIBN"
   },
   "source": [
    "# Preparing the Datasets for the CNN Model\n",
    "\n",
    "We split off the information that indicates whether or not an attack has occured (*label*) and the types of attacks (*type*).\n",
    "Now there are three dataframes:\n",
    "  X - all features\n",
    "  y - attack or not\n",
    "  y_type - type of attack\n",
    "\n",
    "We split again into test and train data sets and include some randomness.\n",
    "**Reset_index** drops the indexes from these new dataframes.\n",
    "Next, we encode the text data, add another randomness, and scale all dataframes. The X dataframe is reshaped."
   ]
  },
  {
   "cell_type": "code",
   "execution_count": null,
   "metadata": {
    "id": "MfA0PtJ6cy23"
   },
   "outputs": [],
   "source": [
    "#Uncomment for local use\n",
    "#raw_data = pandas.read_csv('../../Train_Test_IoT_dataset/Train_Test_IoT_Garage_Door.csv')\n",
    "#Uncomment for Google Colab\n",
    "raw_data = pandas.read_csv('Train_Test_IoT_Garage_Door.csv')\n",
    "X = raw_data.drop(columns=['label','type'])\n",
    "y = raw_data['label']\n",
    "y_type = raw_data['type']"
   ]
  },
  {
   "cell_type": "code",
   "execution_count": null,
   "metadata": {
    "id": "OfiR5O0dc1t4"
   },
   "outputs": [],
   "source": [
    "# Binary\n",
    "X_train, X_testsplit, y_train, y_testsplit = train_test_split(X, y, test_size=0.2, random_state=777)\n",
    "# Binary validation\n",
    "X_test, X_validation, y_test, y_validation = train_test_split(X_testsplit, y_testsplit, test_size=0.5, random_state=777)\n",
    "\n",
    "#drop index\n",
    "X_train = X_train.reset_index(drop=True)\n",
    "X_test = X_test.reset_index(drop=True)\n",
    "y_train = y_train.reset_index(drop=True)\n",
    "y_test = y_test.reset_index(drop=True)\n",
    "X_validation = X_validation.reset_index(drop=True)\n",
    "y_validation = y_validation.reset_index(drop=True)"
   ]
  },
  {
   "cell_type": "code",
   "execution_count": null,
   "metadata": {
    "id": "w_WVHcgFc4u6"
   },
   "outputs": [],
   "source": [
    "encoder = OrdinalEncoder()\n",
    "label_encoder = LabelEncoder()\n",
    "X_train_encode = encoder.fit_transform(X_train)\n",
    "X_test_encode = encoder.fit_transform(X_test)\n",
    "y_train_encode = label_encoder.fit_transform(y_train)\n",
    "y_test_encode = label_encoder.fit_transform(y_test)\n",
    "X_validation_encode = encoder.fit_transform(X_validation)\n",
    "y_validation_encode = label_encoder.fit_transform(y_validation)"
   ]
  },
  {
   "cell_type": "code",
   "execution_count": null,
   "metadata": {
    "id": "-HCldEjoc7m_"
   },
   "outputs": [],
   "source": [
    "smotetomek = SMOTETomek(random_state=777)\n",
    "X_rebalance, y_rebalance = smotetomek.fit_resample(X_train_encode, y_train_encode)"
   ]
  },
  {
   "cell_type": "code",
   "execution_count": null,
   "metadata": {
    "id": "iO5sqI4Vc988"
   },
   "outputs": [],
   "source": [
    "scaler = StandardScaler()\n",
    "X_rebalance = scaler.fit_transform(X_rebalance)\n",
    "X_test_encode = scaler.transform(X_test_encode)\n",
    "\n",
    "X_validation_encode = scaler.transform(X_validation_encode)"
   ]
  },
  {
   "cell_type": "code",
   "execution_count": null,
   "metadata": {
    "id": "bUOU325SdAfq"
   },
   "outputs": [],
   "source": [
    "X_rebalance = X_rebalance.reshape(X_rebalance.shape[0], X_rebalance.shape[1], 1)\n",
    "X_test_encode = X_test_encode.reshape(X_test_encode.shape[0], X_test_encode.shape[1], 1)\n",
    "\n",
    "X_validation_encode = X_validation_encode.reshape(X_validation_encode.shape[0], X_validation_encode.shape[1], 1)"
   ]
  },
  {
   "cell_type": "code",
   "execution_count": null,
   "metadata": {
    "colab": {
     "base_uri": "https://localhost:8080/",
     "height": 1000
    },
    "executionInfo": {
     "elapsed": 325622,
     "status": "ok",
     "timestamp": 1744815944394,
     "user": {
      "displayName": "Joshua Quintano",
      "userId": "07848862957768359236"
     },
     "user_tz": 240
    },
    "id": "e-uQM6audFNq",
    "outputId": "129cf40d-e844-4ce8-ab83-669526a350ad"
   },
   "outputs": [
    {
     "data": {
      "text/html": [
       "<pre style=\"white-space:pre;overflow-x:auto;line-height:normal;font-family:Menlo,'DejaVu Sans Mono',consolas,'Courier New',monospace\"><span style=\"font-weight: bold\">Model: \"sequential\"</span>\n",
       "</pre>\n"
      ],
      "text/plain": [
       "\u001b[1mModel: \"sequential\"\u001b[0m\n"
      ]
     },
     "metadata": {},
     "output_type": "display_data"
    },
    {
     "data": {
      "text/html": [
       "<pre style=\"white-space:pre;overflow-x:auto;line-height:normal;font-family:Menlo,'DejaVu Sans Mono',consolas,'Courier New',monospace\">┏━━━━━━━━━━━━━━━━━━━━━━━━━━━━━━━━━┳━━━━━━━━━━━━━━━━━━━━━━━━┳━━━━━━━━━━━━━━━┓\n",
       "┃<span style=\"font-weight: bold\"> Layer (type)                    </span>┃<span style=\"font-weight: bold\"> Output Shape           </span>┃<span style=\"font-weight: bold\">       Param # </span>┃\n",
       "┡━━━━━━━━━━━━━━━━━━━━━━━━━━━━━━━━━╇━━━━━━━━━━━━━━━━━━━━━━━━╇━━━━━━━━━━━━━━━┩\n",
       "│ conv1d (<span style=\"color: #0087ff; text-decoration-color: #0087ff\">Conv1D</span>)                 │ (<span style=\"color: #00d7ff; text-decoration-color: #00d7ff\">None</span>, <span style=\"color: #00af00; text-decoration-color: #00af00\">2</span>, <span style=\"color: #00af00; text-decoration-color: #00af00\">50</span>)          │           <span style=\"color: #00af00; text-decoration-color: #00af00\">200</span> │\n",
       "├─────────────────────────────────┼────────────────────────┼───────────────┤\n",
       "│ max_pooling1d (<span style=\"color: #0087ff; text-decoration-color: #0087ff\">MaxPooling1D</span>)    │ (<span style=\"color: #00d7ff; text-decoration-color: #00d7ff\">None</span>, <span style=\"color: #00af00; text-decoration-color: #00af00\">1</span>, <span style=\"color: #00af00; text-decoration-color: #00af00\">50</span>)          │             <span style=\"color: #00af00; text-decoration-color: #00af00\">0</span> │\n",
       "├─────────────────────────────────┼────────────────────────┼───────────────┤\n",
       "│ dropout (<span style=\"color: #0087ff; text-decoration-color: #0087ff\">Dropout</span>)               │ (<span style=\"color: #00d7ff; text-decoration-color: #00d7ff\">None</span>, <span style=\"color: #00af00; text-decoration-color: #00af00\">1</span>, <span style=\"color: #00af00; text-decoration-color: #00af00\">50</span>)          │             <span style=\"color: #00af00; text-decoration-color: #00af00\">0</span> │\n",
       "├─────────────────────────────────┼────────────────────────┼───────────────┤\n",
       "│ batch_normalization             │ (<span style=\"color: #00d7ff; text-decoration-color: #00d7ff\">None</span>, <span style=\"color: #00af00; text-decoration-color: #00af00\">1</span>, <span style=\"color: #00af00; text-decoration-color: #00af00\">50</span>)          │           <span style=\"color: #00af00; text-decoration-color: #00af00\">200</span> │\n",
       "│ (<span style=\"color: #0087ff; text-decoration-color: #0087ff\">BatchNormalization</span>)            │                        │               │\n",
       "├─────────────────────────────────┼────────────────────────┼───────────────┤\n",
       "│ lstm (<span style=\"color: #0087ff; text-decoration-color: #0087ff\">LSTM</span>)                     │ (<span style=\"color: #00d7ff; text-decoration-color: #00d7ff\">None</span>, <span style=\"color: #00af00; text-decoration-color: #00af00\">64</span>)             │        <span style=\"color: #00af00; text-decoration-color: #00af00\">29,440</span> │\n",
       "├─────────────────────────────────┼────────────────────────┼───────────────┤\n",
       "│ flatten (<span style=\"color: #0087ff; text-decoration-color: #0087ff\">Flatten</span>)               │ (<span style=\"color: #00d7ff; text-decoration-color: #00d7ff\">None</span>, <span style=\"color: #00af00; text-decoration-color: #00af00\">64</span>)             │             <span style=\"color: #00af00; text-decoration-color: #00af00\">0</span> │\n",
       "├─────────────────────────────────┼────────────────────────┼───────────────┤\n",
       "│ dense (<span style=\"color: #0087ff; text-decoration-color: #0087ff\">Dense</span>)                   │ (<span style=\"color: #00d7ff; text-decoration-color: #00d7ff\">None</span>, <span style=\"color: #00af00; text-decoration-color: #00af00\">512</span>)            │        <span style=\"color: #00af00; text-decoration-color: #00af00\">33,280</span> │\n",
       "├─────────────────────────────────┼────────────────────────┼───────────────┤\n",
       "│ dropout_1 (<span style=\"color: #0087ff; text-decoration-color: #0087ff\">Dropout</span>)             │ (<span style=\"color: #00d7ff; text-decoration-color: #00d7ff\">None</span>, <span style=\"color: #00af00; text-decoration-color: #00af00\">512</span>)            │             <span style=\"color: #00af00; text-decoration-color: #00af00\">0</span> │\n",
       "├─────────────────────────────────┼────────────────────────┼───────────────┤\n",
       "│ dense_1 (<span style=\"color: #0087ff; text-decoration-color: #0087ff\">Dense</span>)                 │ (<span style=\"color: #00d7ff; text-decoration-color: #00d7ff\">None</span>, <span style=\"color: #00af00; text-decoration-color: #00af00\">1</span>)              │           <span style=\"color: #00af00; text-decoration-color: #00af00\">513</span> │\n",
       "└─────────────────────────────────┴────────────────────────┴───────────────┘\n",
       "</pre>\n"
      ],
      "text/plain": [
       "┏━━━━━━━━━━━━━━━━━━━━━━━━━━━━━━━━━┳━━━━━━━━━━━━━━━━━━━━━━━━┳━━━━━━━━━━━━━━━┓\n",
       "┃\u001b[1m \u001b[0m\u001b[1mLayer (type)                   \u001b[0m\u001b[1m \u001b[0m┃\u001b[1m \u001b[0m\u001b[1mOutput Shape          \u001b[0m\u001b[1m \u001b[0m┃\u001b[1m \u001b[0m\u001b[1m      Param #\u001b[0m\u001b[1m \u001b[0m┃\n",
       "┡━━━━━━━━━━━━━━━━━━━━━━━━━━━━━━━━━╇━━━━━━━━━━━━━━━━━━━━━━━━╇━━━━━━━━━━━━━━━┩\n",
       "│ conv1d (\u001b[38;5;33mConv1D\u001b[0m)                 │ (\u001b[38;5;45mNone\u001b[0m, \u001b[38;5;34m2\u001b[0m, \u001b[38;5;34m50\u001b[0m)          │           \u001b[38;5;34m200\u001b[0m │\n",
       "├─────────────────────────────────┼────────────────────────┼───────────────┤\n",
       "│ max_pooling1d (\u001b[38;5;33mMaxPooling1D\u001b[0m)    │ (\u001b[38;5;45mNone\u001b[0m, \u001b[38;5;34m1\u001b[0m, \u001b[38;5;34m50\u001b[0m)          │             \u001b[38;5;34m0\u001b[0m │\n",
       "├─────────────────────────────────┼────────────────────────┼───────────────┤\n",
       "│ dropout (\u001b[38;5;33mDropout\u001b[0m)               │ (\u001b[38;5;45mNone\u001b[0m, \u001b[38;5;34m1\u001b[0m, \u001b[38;5;34m50\u001b[0m)          │             \u001b[38;5;34m0\u001b[0m │\n",
       "├─────────────────────────────────┼────────────────────────┼───────────────┤\n",
       "│ batch_normalization             │ (\u001b[38;5;45mNone\u001b[0m, \u001b[38;5;34m1\u001b[0m, \u001b[38;5;34m50\u001b[0m)          │           \u001b[38;5;34m200\u001b[0m │\n",
       "│ (\u001b[38;5;33mBatchNormalization\u001b[0m)            │                        │               │\n",
       "├─────────────────────────────────┼────────────────────────┼───────────────┤\n",
       "│ lstm (\u001b[38;5;33mLSTM\u001b[0m)                     │ (\u001b[38;5;45mNone\u001b[0m, \u001b[38;5;34m64\u001b[0m)             │        \u001b[38;5;34m29,440\u001b[0m │\n",
       "├─────────────────────────────────┼────────────────────────┼───────────────┤\n",
       "│ flatten (\u001b[38;5;33mFlatten\u001b[0m)               │ (\u001b[38;5;45mNone\u001b[0m, \u001b[38;5;34m64\u001b[0m)             │             \u001b[38;5;34m0\u001b[0m │\n",
       "├─────────────────────────────────┼────────────────────────┼───────────────┤\n",
       "│ dense (\u001b[38;5;33mDense\u001b[0m)                   │ (\u001b[38;5;45mNone\u001b[0m, \u001b[38;5;34m512\u001b[0m)            │        \u001b[38;5;34m33,280\u001b[0m │\n",
       "├─────────────────────────────────┼────────────────────────┼───────────────┤\n",
       "│ dropout_1 (\u001b[38;5;33mDropout\u001b[0m)             │ (\u001b[38;5;45mNone\u001b[0m, \u001b[38;5;34m512\u001b[0m)            │             \u001b[38;5;34m0\u001b[0m │\n",
       "├─────────────────────────────────┼────────────────────────┼───────────────┤\n",
       "│ dense_1 (\u001b[38;5;33mDense\u001b[0m)                 │ (\u001b[38;5;45mNone\u001b[0m, \u001b[38;5;34m1\u001b[0m)              │           \u001b[38;5;34m513\u001b[0m │\n",
       "└─────────────────────────────────┴────────────────────────┴───────────────┘\n"
      ]
     },
     "metadata": {},
     "output_type": "display_data"
    },
    {
     "data": {
      "text/html": [
       "<pre style=\"white-space:pre;overflow-x:auto;line-height:normal;font-family:Menlo,'DejaVu Sans Mono',consolas,'Courier New',monospace\"><span style=\"font-weight: bold\"> Total params: </span><span style=\"color: #00af00; text-decoration-color: #00af00\">63,633</span> (248.57 KB)\n",
       "</pre>\n"
      ],
      "text/plain": [
       "\u001b[1m Total params: \u001b[0m\u001b[38;5;34m63,633\u001b[0m (248.57 KB)\n"
      ]
     },
     "metadata": {},
     "output_type": "display_data"
    },
    {
     "data": {
      "text/html": [
       "<pre style=\"white-space:pre;overflow-x:auto;line-height:normal;font-family:Menlo,'DejaVu Sans Mono',consolas,'Courier New',monospace\"><span style=\"font-weight: bold\"> Trainable params: </span><span style=\"color: #00af00; text-decoration-color: #00af00\">63,533</span> (248.18 KB)\n",
       "</pre>\n"
      ],
      "text/plain": [
       "\u001b[1m Trainable params: \u001b[0m\u001b[38;5;34m63,533\u001b[0m (248.18 KB)\n"
      ]
     },
     "metadata": {},
     "output_type": "display_data"
    },
    {
     "data": {
      "text/html": [
       "<pre style=\"white-space:pre;overflow-x:auto;line-height:normal;font-family:Menlo,'DejaVu Sans Mono',consolas,'Courier New',monospace\"><span style=\"font-weight: bold\"> Non-trainable params: </span><span style=\"color: #00af00; text-decoration-color: #00af00\">100</span> (400.00 B)\n",
       "</pre>\n"
      ],
      "text/plain": [
       "\u001b[1m Non-trainable params: \u001b[0m\u001b[38;5;34m100\u001b[0m (400.00 B)\n"
      ]
     },
     "metadata": {},
     "output_type": "display_data"
    },
    {
     "name": "stdout",
     "output_type": "stream",
     "text": [
      "Epoch 1/70\n",
      "\u001b[1m617/617\u001b[0m \u001b[32m━━━━━━━━━━━━━━━━━━━━\u001b[0m\u001b[37m\u001b[0m \u001b[1m8s\u001b[0m 7ms/step - accuracy: 0.4952 - loss: 0.6940 - val_accuracy: 0.3925 - val_loss: 0.6934\n",
      "Epoch 2/70\n",
      "\u001b[1m617/617\u001b[0m \u001b[32m━━━━━━━━━━━━━━━━━━━━\u001b[0m\u001b[37m\u001b[0m \u001b[1m4s\u001b[0m 5ms/step - accuracy: 0.4976 - loss: 0.6939 - val_accuracy: 0.3849 - val_loss: 0.6929\n",
      "Epoch 3/70\n",
      "\u001b[1m617/617\u001b[0m \u001b[32m━━━━━━━━━━━━━━━━━━━━\u001b[0m\u001b[37m\u001b[0m \u001b[1m3s\u001b[0m 6ms/step - accuracy: 0.5128 - loss: 0.6927 - val_accuracy: 0.3849 - val_loss: 0.6923\n",
      "Epoch 4/70\n",
      "\u001b[1m617/617\u001b[0m \u001b[32m━━━━━━━━━━━━━━━━━━━━\u001b[0m\u001b[37m\u001b[0m \u001b[1m5s\u001b[0m 6ms/step - accuracy: 0.5251 - loss: 0.6918 - val_accuracy: 0.5524 - val_loss: 0.6912\n",
      "Epoch 5/70\n",
      "\u001b[1m617/617\u001b[0m \u001b[32m━━━━━━━━━━━━━━━━━━━━\u001b[0m\u001b[37m\u001b[0m \u001b[1m3s\u001b[0m 5ms/step - accuracy: 0.5259 - loss: 0.6914 - val_accuracy: 0.5653 - val_loss: 0.6904\n",
      "Epoch 6/70\n",
      "\u001b[1m617/617\u001b[0m \u001b[32m━━━━━━━━━━━━━━━━━━━━\u001b[0m\u001b[37m\u001b[0m \u001b[1m4s\u001b[0m 6ms/step - accuracy: 0.5322 - loss: 0.6909 - val_accuracy: 0.5653 - val_loss: 0.6897\n",
      "Epoch 7/70\n",
      "\u001b[1m617/617\u001b[0m \u001b[32m━━━━━━━━━━━━━━━━━━━━\u001b[0m\u001b[37m\u001b[0m \u001b[1m5s\u001b[0m 8ms/step - accuracy: 0.5412 - loss: 0.6900 - val_accuracy: 0.5653 - val_loss: 0.6888\n",
      "Epoch 8/70\n",
      "\u001b[1m617/617\u001b[0m \u001b[32m━━━━━━━━━━━━━━━━━━━━\u001b[0m\u001b[37m\u001b[0m \u001b[1m3s\u001b[0m 6ms/step - accuracy: 0.5515 - loss: 0.6892 - val_accuracy: 0.6901 - val_loss: 0.6878\n",
      "Epoch 9/70\n",
      "\u001b[1m617/617\u001b[0m \u001b[32m━━━━━━━━━━━━━━━━━━━━\u001b[0m\u001b[37m\u001b[0m \u001b[1m3s\u001b[0m 5ms/step - accuracy: 0.5531 - loss: 0.6887 - val_accuracy: 0.7042 - val_loss: 0.6866\n",
      "Epoch 10/70\n",
      "\u001b[1m617/617\u001b[0m \u001b[32m━━━━━━━━━━━━━━━━━━━━\u001b[0m\u001b[37m\u001b[0m \u001b[1m4s\u001b[0m 6ms/step - accuracy: 0.5620 - loss: 0.6881 - val_accuracy: 0.7042 - val_loss: 0.6861\n",
      "Epoch 11/70\n",
      "\u001b[1m617/617\u001b[0m \u001b[32m━━━━━━━━━━━━━━━━━━━━\u001b[0m\u001b[37m\u001b[0m \u001b[1m5s\u001b[0m 7ms/step - accuracy: 0.5519 - loss: 0.6885 - val_accuracy: 0.7042 - val_loss: 0.6849\n",
      "Epoch 12/70\n",
      "\u001b[1m617/617\u001b[0m \u001b[32m━━━━━━━━━━━━━━━━━━━━\u001b[0m\u001b[37m\u001b[0m \u001b[1m4s\u001b[0m 5ms/step - accuracy: 0.5657 - loss: 0.6874 - val_accuracy: 0.7042 - val_loss: 0.6843\n",
      "Epoch 13/70\n",
      "\u001b[1m617/617\u001b[0m \u001b[32m━━━━━━━━━━━━━━━━━━━━\u001b[0m\u001b[37m\u001b[0m \u001b[1m6s\u001b[0m 6ms/step - accuracy: 0.5725 - loss: 0.6862 - val_accuracy: 0.7042 - val_loss: 0.6837\n",
      "Epoch 14/70\n",
      "\u001b[1m617/617\u001b[0m \u001b[32m━━━━━━━━━━━━━━━━━━━━\u001b[0m\u001b[37m\u001b[0m \u001b[1m4s\u001b[0m 7ms/step - accuracy: 0.5833 - loss: 0.6847 - val_accuracy: 0.7042 - val_loss: 0.6827\n",
      "Epoch 15/70\n",
      "\u001b[1m617/617\u001b[0m \u001b[32m━━━━━━━━━━━━━━━━━━━━\u001b[0m\u001b[37m\u001b[0m \u001b[1m3s\u001b[0m 5ms/step - accuracy: 0.5841 - loss: 0.6843 - val_accuracy: 0.7042 - val_loss: 0.6814\n",
      "Epoch 16/70\n",
      "\u001b[1m617/617\u001b[0m \u001b[32m━━━━━━━━━━━━━━━━━━━━\u001b[0m\u001b[37m\u001b[0m \u001b[1m3s\u001b[0m 5ms/step - accuracy: 0.5934 - loss: 0.6829 - val_accuracy: 0.7042 - val_loss: 0.6804\n",
      "Epoch 17/70\n",
      "\u001b[1m617/617\u001b[0m \u001b[32m━━━━━━━━━━━━━━━━━━━━\u001b[0m\u001b[37m\u001b[0m \u001b[1m7s\u001b[0m 8ms/step - accuracy: 0.5999 - loss: 0.6821 - val_accuracy: 0.7042 - val_loss: 0.6795\n",
      "Epoch 18/70\n",
      "\u001b[1m617/617\u001b[0m \u001b[32m━━━━━━━━━━━━━━━━━━━━\u001b[0m\u001b[37m\u001b[0m \u001b[1m3s\u001b[0m 5ms/step - accuracy: 0.6008 - loss: 0.6811 - val_accuracy: 0.7042 - val_loss: 0.6784\n",
      "Epoch 19/70\n",
      "\u001b[1m617/617\u001b[0m \u001b[32m━━━━━━━━━━━━━━━━━━━━\u001b[0m\u001b[37m\u001b[0m \u001b[1m5s\u001b[0m 5ms/step - accuracy: 0.6088 - loss: 0.6795 - val_accuracy: 0.7042 - val_loss: 0.6766\n",
      "Epoch 20/70\n",
      "\u001b[1m617/617\u001b[0m \u001b[32m━━━━━━━━━━━━━━━━━━━━\u001b[0m\u001b[37m\u001b[0m \u001b[1m5s\u001b[0m 8ms/step - accuracy: 0.6175 - loss: 0.6781 - val_accuracy: 0.7163 - val_loss: 0.6752\n",
      "Epoch 21/70\n",
      "\u001b[1m617/617\u001b[0m \u001b[32m━━━━━━━━━━━━━━━━━━━━\u001b[0m\u001b[37m\u001b[0m \u001b[1m4s\u001b[0m 6ms/step - accuracy: 0.6223 - loss: 0.6763 - val_accuracy: 0.7042 - val_loss: 0.6742\n",
      "Epoch 22/70\n",
      "\u001b[1m617/617\u001b[0m \u001b[32m━━━━━━━━━━━━━━━━━━━━\u001b[0m\u001b[37m\u001b[0m \u001b[1m5s\u001b[0m 5ms/step - accuracy: 0.6286 - loss: 0.6749 - val_accuracy: 0.7138 - val_loss: 0.6720\n",
      "Epoch 23/70\n",
      "\u001b[1m617/617\u001b[0m \u001b[32m━━━━━━━━━━━━━━━━━━━━\u001b[0m\u001b[37m\u001b[0m \u001b[1m6s\u001b[0m 7ms/step - accuracy: 0.6341 - loss: 0.6734 - val_accuracy: 0.7126 - val_loss: 0.6705\n",
      "Epoch 24/70\n",
      "\u001b[1m617/617\u001b[0m \u001b[32m━━━━━━━━━━━━━━━━━━━━\u001b[0m\u001b[37m\u001b[0m \u001b[1m4s\u001b[0m 5ms/step - accuracy: 0.6463 - loss: 0.6704 - val_accuracy: 0.7042 - val_loss: 0.6689\n",
      "Epoch 25/70\n",
      "\u001b[1m617/617\u001b[0m \u001b[32m━━━━━━━━━━━━━━━━━━━━\u001b[0m\u001b[37m\u001b[0m \u001b[1m6s\u001b[0m 6ms/step - accuracy: 0.6485 - loss: 0.6680 - val_accuracy: 0.7042 - val_loss: 0.6676\n",
      "Epoch 26/70\n",
      "\u001b[1m617/617\u001b[0m \u001b[32m━━━━━━━━━━━━━━━━━━━━\u001b[0m\u001b[37m\u001b[0m \u001b[1m5s\u001b[0m 6ms/step - accuracy: 0.6516 - loss: 0.6654 - val_accuracy: 0.7042 - val_loss: 0.6645\n",
      "Epoch 27/70\n",
      "\u001b[1m617/617\u001b[0m \u001b[32m━━━━━━━━━━━━━━━━━━━━\u001b[0m\u001b[37m\u001b[0m \u001b[1m3s\u001b[0m 5ms/step - accuracy: 0.6604 - loss: 0.6621 - val_accuracy: 0.7042 - val_loss: 0.6626\n",
      "Epoch 28/70\n",
      "\u001b[1m617/617\u001b[0m \u001b[32m━━━━━━━━━━━━━━━━━━━━\u001b[0m\u001b[37m\u001b[0m \u001b[1m6s\u001b[0m 7ms/step - accuracy: 0.6663 - loss: 0.6588 - val_accuracy: 0.7042 - val_loss: 0.6601\n",
      "Epoch 29/70\n",
      "\u001b[1m617/617\u001b[0m \u001b[32m━━━━━━━━━━━━━━━━━━━━\u001b[0m\u001b[37m\u001b[0m \u001b[1m4s\u001b[0m 5ms/step - accuracy: 0.6735 - loss: 0.6554 - val_accuracy: 0.7042 - val_loss: 0.6565\n",
      "Epoch 30/70\n",
      "\u001b[1m617/617\u001b[0m \u001b[32m━━━━━━━━━━━━━━━━━━━━\u001b[0m\u001b[37m\u001b[0m \u001b[1m3s\u001b[0m 5ms/step - accuracy: 0.6766 - loss: 0.6510 - val_accuracy: 0.7042 - val_loss: 0.6526\n",
      "Epoch 31/70\n",
      "\u001b[1m617/617\u001b[0m \u001b[32m━━━━━━━━━━━━━━━━━━━━\u001b[0m\u001b[37m\u001b[0m \u001b[1m6s\u001b[0m 7ms/step - accuracy: 0.6879 - loss: 0.6456 - val_accuracy: 0.7042 - val_loss: 0.6483\n",
      "Epoch 32/70\n",
      "\u001b[1m617/617\u001b[0m \u001b[32m━━━━━━━━━━━━━━━━━━━━\u001b[0m\u001b[37m\u001b[0m \u001b[1m4s\u001b[0m 6ms/step - accuracy: 0.6930 - loss: 0.6412 - val_accuracy: 0.7042 - val_loss: 0.6456\n",
      "Epoch 33/70\n",
      "\u001b[1m617/617\u001b[0m \u001b[32m━━━━━━━━━━━━━━━━━━━━\u001b[0m\u001b[37m\u001b[0m \u001b[1m3s\u001b[0m 5ms/step - accuracy: 0.6971 - loss: 0.6348 - val_accuracy: 0.7042 - val_loss: 0.6402\n",
      "Epoch 34/70\n",
      "\u001b[1m617/617\u001b[0m \u001b[32m━━━━━━━━━━━━━━━━━━━━\u001b[0m\u001b[37m\u001b[0m \u001b[1m7s\u001b[0m 8ms/step - accuracy: 0.7116 - loss: 0.6269 - val_accuracy: 0.7042 - val_loss: 0.6337\n",
      "Epoch 35/70\n",
      "\u001b[1m617/617\u001b[0m \u001b[32m━━━━━━━━━━━━━━━━━━━━\u001b[0m\u001b[37m\u001b[0m \u001b[1m4s\u001b[0m 5ms/step - accuracy: 0.7150 - loss: 0.6207 - val_accuracy: 0.7042 - val_loss: 0.6277\n",
      "Epoch 36/70\n",
      "\u001b[1m617/617\u001b[0m \u001b[32m━━━━━━━━━━━━━━━━━━━━\u001b[0m\u001b[37m\u001b[0m \u001b[1m5s\u001b[0m 5ms/step - accuracy: 0.7292 - loss: 0.6095 - val_accuracy: 0.7042 - val_loss: 0.6225\n",
      "Epoch 37/70\n",
      "\u001b[1m617/617\u001b[0m \u001b[32m━━━━━━━━━━━━━━━━━━━━\u001b[0m\u001b[37m\u001b[0m \u001b[1m4s\u001b[0m 7ms/step - accuracy: 0.7297 - loss: 0.6019 - val_accuracy: 0.7042 - val_loss: 0.6126\n",
      "Epoch 38/70\n",
      "\u001b[1m617/617\u001b[0m \u001b[32m━━━━━━━━━━━━━━━━━━━━\u001b[0m\u001b[37m\u001b[0m \u001b[1m4s\u001b[0m 5ms/step - accuracy: 0.7357 - loss: 0.5920 - val_accuracy: 0.7042 - val_loss: 0.6088\n",
      "Epoch 39/70\n",
      "\u001b[1m617/617\u001b[0m \u001b[32m━━━━━━━━━━━━━━━━━━━━\u001b[0m\u001b[37m\u001b[0m \u001b[1m5s\u001b[0m 5ms/step - accuracy: 0.7448 - loss: 0.5811 - val_accuracy: 0.7042 - val_loss: 0.5989\n",
      "Epoch 40/70\n",
      "\u001b[1m617/617\u001b[0m \u001b[32m━━━━━━━━━━━━━━━━━━━━\u001b[0m\u001b[37m\u001b[0m \u001b[1m4s\u001b[0m 7ms/step - accuracy: 0.7517 - loss: 0.5704 - val_accuracy: 0.7042 - val_loss: 0.5893\n",
      "Epoch 41/70\n",
      "\u001b[1m617/617\u001b[0m \u001b[32m━━━━━━━━━━━━━━━━━━━━\u001b[0m\u001b[37m\u001b[0m \u001b[1m4s\u001b[0m 5ms/step - accuracy: 0.7616 - loss: 0.5555 - val_accuracy: 0.7042 - val_loss: 0.5805\n",
      "Epoch 42/70\n",
      "\u001b[1m617/617\u001b[0m \u001b[32m━━━━━━━━━━━━━━━━━━━━\u001b[0m\u001b[37m\u001b[0m \u001b[1m5s\u001b[0m 5ms/step - accuracy: 0.7710 - loss: 0.5416 - val_accuracy: 0.7042 - val_loss: 0.5669\n",
      "Epoch 43/70\n",
      "\u001b[1m617/617\u001b[0m \u001b[32m━━━━━━━━━━━━━━━━━━━━\u001b[0m\u001b[37m\u001b[0m \u001b[1m5s\u001b[0m 7ms/step - accuracy: 0.7805 - loss: 0.5255 - val_accuracy: 0.7042 - val_loss: 0.5603\n",
      "Epoch 44/70\n",
      "\u001b[1m617/617\u001b[0m \u001b[32m━━━━━━━━━━━━━━━━━━━━\u001b[0m\u001b[37m\u001b[0m \u001b[1m4s\u001b[0m 6ms/step - accuracy: 0.7805 - loss: 0.5142 - val_accuracy: 0.7042 - val_loss: 0.5482\n",
      "Epoch 45/70\n",
      "\u001b[1m617/617\u001b[0m \u001b[32m━━━━━━━━━━━━━━━━━━━━\u001b[0m\u001b[37m\u001b[0m \u001b[1m3s\u001b[0m 6ms/step - accuracy: 0.7858 - loss: 0.5035 - val_accuracy: 0.7042 - val_loss: 0.5383\n",
      "Epoch 46/70\n",
      "\u001b[1m617/617\u001b[0m \u001b[32m━━━━━━━━━━━━━━━━━━━━\u001b[0m\u001b[37m\u001b[0m \u001b[1m3s\u001b[0m 5ms/step - accuracy: 0.7957 - loss: 0.4847 - val_accuracy: 0.7042 - val_loss: 0.5215\n",
      "Epoch 47/70\n",
      "\u001b[1m617/617\u001b[0m \u001b[32m━━━━━━━━━━━━━━━━━━━━\u001b[0m\u001b[37m\u001b[0m \u001b[1m6s\u001b[0m 6ms/step - accuracy: 0.7981 - loss: 0.4727 - val_accuracy: 0.7257 - val_loss: 0.5063\n",
      "Epoch 48/70\n",
      "\u001b[1m617/617\u001b[0m \u001b[32m━━━━━━━━━━━━━━━━━━━━\u001b[0m\u001b[37m\u001b[0m \u001b[1m3s\u001b[0m 6ms/step - accuracy: 0.8082 - loss: 0.4555 - val_accuracy: 0.7090 - val_loss: 0.5001\n",
      "Epoch 49/70\n",
      "\u001b[1m617/617\u001b[0m \u001b[32m━━━━━━━━━━━━━━━━━━━━\u001b[0m\u001b[37m\u001b[0m \u001b[1m6s\u001b[0m 6ms/step - accuracy: 0.8135 - loss: 0.4393 - val_accuracy: 0.7088 - val_loss: 0.4907\n",
      "Epoch 50/70\n",
      "\u001b[1m617/617\u001b[0m \u001b[32m━━━━━━━━━━━━━━━━━━━━\u001b[0m\u001b[37m\u001b[0m \u001b[1m5s\u001b[0m 6ms/step - accuracy: 0.8212 - loss: 0.4236 - val_accuracy: 0.7153 - val_loss: 0.4806\n",
      "Epoch 51/70\n",
      "\u001b[1m617/617\u001b[0m \u001b[32m━━━━━━━━━━━━━━━━━━━━\u001b[0m\u001b[37m\u001b[0m \u001b[1m5s\u001b[0m 6ms/step - accuracy: 0.8260 - loss: 0.4163 - val_accuracy: 0.7085 - val_loss: 0.4747\n",
      "Epoch 52/70\n",
      "\u001b[1m617/617\u001b[0m \u001b[32m━━━━━━━━━━━━━━━━━━━━\u001b[0m\u001b[37m\u001b[0m \u001b[1m4s\u001b[0m 7ms/step - accuracy: 0.8301 - loss: 0.4032 - val_accuracy: 0.7482 - val_loss: 0.4531\n",
      "Epoch 53/70\n",
      "\u001b[1m617/617\u001b[0m \u001b[32m━━━━━━━━━━━━━━━━━━━━\u001b[0m\u001b[37m\u001b[0m \u001b[1m4s\u001b[0m 6ms/step - accuracy: 0.8350 - loss: 0.3901 - val_accuracy: 0.7419 - val_loss: 0.4512\n",
      "Epoch 54/70\n",
      "\u001b[1m617/617\u001b[0m \u001b[32m━━━━━━━━━━━━━━━━━━━━\u001b[0m\u001b[37m\u001b[0m \u001b[1m5s\u001b[0m 5ms/step - accuracy: 0.8375 - loss: 0.3802 - val_accuracy: 0.7497 - val_loss: 0.4388\n",
      "Epoch 55/70\n",
      "\u001b[1m617/617\u001b[0m \u001b[32m━━━━━━━━━━━━━━━━━━━━\u001b[0m\u001b[37m\u001b[0m \u001b[1m7s\u001b[0m 9ms/step - accuracy: 0.8464 - loss: 0.3672 - val_accuracy: 0.7560 - val_loss: 0.4290\n",
      "Epoch 56/70\n",
      "\u001b[1m617/617\u001b[0m \u001b[32m━━━━━━━━━━━━━━━━━━━━\u001b[0m\u001b[37m\u001b[0m \u001b[1m8s\u001b[0m 5ms/step - accuracy: 0.8486 - loss: 0.3597 - val_accuracy: 0.7661 - val_loss: 0.4155\n",
      "Epoch 57/70\n",
      "\u001b[1m617/617\u001b[0m \u001b[32m━━━━━━━━━━━━━━━━━━━━\u001b[0m\u001b[37m\u001b[0m \u001b[1m6s\u001b[0m 7ms/step - accuracy: 0.8458 - loss: 0.3593 - val_accuracy: 0.7706 - val_loss: 0.4058\n",
      "Epoch 58/70\n",
      "\u001b[1m617/617\u001b[0m \u001b[32m━━━━━━━━━━━━━━━━━━━━\u001b[0m\u001b[37m\u001b[0m \u001b[1m4s\u001b[0m 5ms/step - accuracy: 0.8549 - loss: 0.3446 - val_accuracy: 0.7696 - val_loss: 0.4022\n",
      "Epoch 59/70\n",
      "\u001b[1m617/617\u001b[0m \u001b[32m━━━━━━━━━━━━━━━━━━━━\u001b[0m\u001b[37m\u001b[0m \u001b[1m6s\u001b[0m 7ms/step - accuracy: 0.8602 - loss: 0.3344 - val_accuracy: 0.7623 - val_loss: 0.4047\n",
      "Epoch 60/70\n",
      "\u001b[1m617/617\u001b[0m \u001b[32m━━━━━━━━━━━━━━━━━━━━\u001b[0m\u001b[37m\u001b[0m \u001b[1m4s\u001b[0m 7ms/step - accuracy: 0.8631 - loss: 0.3292 - val_accuracy: 0.7712 - val_loss: 0.3914\n",
      "Epoch 61/70\n",
      "\u001b[1m617/617\u001b[0m \u001b[32m━━━━━━━━━━━━━━━━━━━━\u001b[0m\u001b[37m\u001b[0m \u001b[1m5s\u001b[0m 6ms/step - accuracy: 0.8647 - loss: 0.3228 - val_accuracy: 0.8181 - val_loss: 0.3695\n",
      "Epoch 62/70\n",
      "\u001b[1m617/617\u001b[0m \u001b[32m━━━━━━━━━━━━━━━━━━━━\u001b[0m\u001b[37m\u001b[0m \u001b[1m4s\u001b[0m 6ms/step - accuracy: 0.8769 - loss: 0.3053 - val_accuracy: 0.7946 - val_loss: 0.3745\n",
      "Epoch 63/70\n",
      "\u001b[1m617/617\u001b[0m \u001b[32m━━━━━━━━━━━━━━━━━━━━\u001b[0m\u001b[37m\u001b[0m \u001b[1m5s\u001b[0m 8ms/step - accuracy: 0.8750 - loss: 0.3030 - val_accuracy: 0.8366 - val_loss: 0.3547\n",
      "Epoch 64/70\n",
      "\u001b[1m617/617\u001b[0m \u001b[32m━━━━━━━━━━━━━━━━━━━━\u001b[0m\u001b[37m\u001b[0m \u001b[1m3s\u001b[0m 6ms/step - accuracy: 0.8760 - loss: 0.2992 - val_accuracy: 0.8371 - val_loss: 0.3506\n",
      "Epoch 65/70\n",
      "\u001b[1m617/617\u001b[0m \u001b[32m━━━━━━━━━━━━━━━━━━━━\u001b[0m\u001b[37m\u001b[0m \u001b[1m3s\u001b[0m 6ms/step - accuracy: 0.8812 - loss: 0.2888 - val_accuracy: 0.8229 - val_loss: 0.3536\n",
      "Epoch 66/70\n",
      "\u001b[1m617/617\u001b[0m \u001b[32m━━━━━━━━━━━━━━━━━━━━\u001b[0m\u001b[37m\u001b[0m \u001b[1m5s\u001b[0m 8ms/step - accuracy: 0.8839 - loss: 0.2833 - val_accuracy: 0.8732 - val_loss: 0.3284\n",
      "Epoch 67/70\n",
      "\u001b[1m617/617\u001b[0m \u001b[32m━━━━━━━━━━━━━━━━━━━━\u001b[0m\u001b[37m\u001b[0m \u001b[1m4s\u001b[0m 6ms/step - accuracy: 0.8872 - loss: 0.2762 - val_accuracy: 0.8719 - val_loss: 0.3266\n",
      "Epoch 68/70\n",
      "\u001b[1m617/617\u001b[0m \u001b[32m━━━━━━━━━━━━━━━━━━━━\u001b[0m\u001b[37m\u001b[0m \u001b[1m5s\u001b[0m 6ms/step - accuracy: 0.8917 - loss: 0.2699 - val_accuracy: 0.8454 - val_loss: 0.3353\n",
      "Epoch 69/70\n",
      "\u001b[1m617/617\u001b[0m \u001b[32m━━━━━━━━━━━━━━━━━━━━\u001b[0m\u001b[37m\u001b[0m \u001b[1m4s\u001b[0m 7ms/step - accuracy: 0.8938 - loss: 0.2646 - val_accuracy: 0.9103 - val_loss: 0.3046\n",
      "Epoch 70/70\n",
      "\u001b[1m617/617\u001b[0m \u001b[32m━━━━━━━━━━━━━━━━━━━━\u001b[0m\u001b[37m\u001b[0m \u001b[1m4s\u001b[0m 7ms/step - accuracy: 0.8952 - loss: 0.2599 - val_accuracy: 0.9070 - val_loss: 0.3028\n",
      "\u001b[1m124/124\u001b[0m \u001b[32m━━━━━━━━━━━━━━━━━━━━\u001b[0m\u001b[37m\u001b[0m \u001b[1m0s\u001b[0m 3ms/step - accuracy: 0.8911 - loss: 0.3160\n",
      "\u001b[1m124/124\u001b[0m \u001b[32m━━━━━━━━━━━━━━━━━━━━\u001b[0m\u001b[37m\u001b[0m \u001b[1m1s\u001b[0m 4ms/step\n",
      "[[0.03862051]\n",
      " [0.5225624 ]\n",
      " [0.12627916]\n",
      " ...\n",
      " [0.49449202]\n",
      " [0.06414668]\n",
      " [0.03833076]]\n",
      "[[0]\n",
      " [1]\n",
      " [0]\n",
      " ...\n",
      " [0]\n",
      " [0]\n",
      " [0]]\n",
      "0       0\n",
      "1       1\n",
      "2       0\n",
      "3       0\n",
      "4       1\n",
      "       ..\n",
      "3954    0\n",
      "3955    0\n",
      "3956    1\n",
      "3957    0\n",
      "3958    0\n",
      "Name: label, Length: 3959, dtype: int64\n",
      "Test Loss: 0.31948304176330566, Test Accuracy: 0.8878504633903503\n",
      "\n"
     ]
    },
    {
     "data": {
      "image/png": "[encoded data removed]",
      "text/plain": [
       "<Figure size 640x480 with 1 Axes>"
      ]
     },
     "metadata": {},
     "output_type": "display_data"
    },
    {
     "name": "stdout",
     "output_type": "stream",
     "text": [
      "\n",
      "\n"
     ]
    },
    {
     "data": {
      "image/png": "[encoded data removed]",
      "text/plain": [
       "<Figure size 640x480 with 1 Axes>"
      ]
     },
     "metadata": {},
     "output_type": "display_data"
    },
    {
     "name": "stdout",
     "output_type": "stream",
     "text": [
      "\n",
      "Classification Report\n",
      "              precision    recall  f1-score   support\n",
      "\n",
      "           0       0.77      1.00      0.87      1527\n",
      "           1       1.00      0.82      0.90      2432\n",
      "\n",
      "    accuracy                           0.89      3959\n",
      "   macro avg       0.89      0.91      0.89      3959\n",
      "weighted avg       0.91      0.89      0.89      3959\n",
      "\n",
      "\n",
      "Confusion Matrix\n",
      "[[1527    0]\n",
      " [ 444 1988]]\n"
     ]
    },
    {
     "data": {
      "image/png": "[encoded data removed]",
      "text/plain": [
       "<Figure size 640x480 with 2 Axes>"
      ]
     },
     "metadata": {},
     "output_type": "display_data"
    },
    {
     "name": "stdout",
     "output_type": "stream",
     "text": [
      "Time taken: 325.5905 seconds\n"
     ]
    }
   ],
   "source": [
    "start_time_1 = time.perf_counter()\n",
    "with tensorflow.device('/device:GPU:0'):\n",
    "  # CNN model detection\n",
    "  # https://keras.io/api/layers/activations/#softmax-function\n",
    "  detection_model = tensorflow.keras.Sequential([\n",
    "      tensorflow.keras.layers.Input(shape=(X_rebalance.shape[1],X_rebalance.shape[2])),\n",
    "      tensorflow.keras.layers.Conv1D(filters=50, kernel_size=3, activation='sigmoid'),\n",
    "      tensorflow.keras.layers.MaxPooling1D(pool_size=2),\n",
    "      tensorflow.keras.layers.Dropout(0.3),\n",
    "      tensorflow.keras.layers.BatchNormalization(),\n",
    "      tensorflow.keras.layers.LSTM(64),\n",
    "      tensorflow.keras.layers.Flatten(),\n",
    "      # 1 layer\n",
    "      tensorflow.keras.layers.Dense(512, activation='relu'),\n",
    "      tensorflow.keras.layers.Dropout(0.5),\n",
    "      # either attack or normal\n",
    "      tensorflow.keras.layers.Dense(1, activation='sigmoid')\n",
    "  ])\n",
    "\n",
    "  detection_model.summary()\n",
    "  # https://keras.io/api/losses/probabilistic_losses/#probabilistic-losses\n",
    "  sgd = tensorflow.keras.optimizers.SGD(learning_rate=0.001)\n",
    "  detection_model.compile(optimizer=sgd,\n",
    "                loss=tensorflow.keras.losses.BinaryCrossentropy(from_logits=False),\n",
    "                metrics=['accuracy'])\n",
    "\n",
    "  history = detection_model.fit(X_rebalance, y_rebalance, batch_size=64, epochs=70, validation_data=(X_validation_encode, y_validation_encode))\n",
    "  test_loss, test_acc = detection_model.evaluate(X_test_encode, y_test_encode)\n",
    "\n",
    "  # Make predictions\n",
    "  prediction = detection_model.predict(X_test_encode)\n",
    "  print(prediction)\n",
    "  attack_prediction = numpy.where(prediction > 0.5, 1, 0)\n",
    "  print(attack_prediction)\n",
    "  print(y_test)\n",
    "\n",
    "  # Evaluate the model\n",
    "  print(f\"Test Loss: {test_loss}, Test Accuracy: {test_acc}\\n\")\n",
    "  # https://www.tensorflow.org/tutorials/keras/text_classification for training and validation loss and accuracy\n",
    "  history_dict = history.history\n",
    "  # print(history_dict.keys())\n",
    "  acc = history_dict['accuracy']\n",
    "  val_acc = history_dict['val_accuracy']\n",
    "  loss = history_dict['loss']\n",
    "  val_loss = history_dict['val_loss']\n",
    "\n",
    "  epochs = range(1, len(acc) + 1)\n",
    "\n",
    "  # \"bo\" is for \"blue dot\"\n",
    "  plt.plot(epochs, loss, 'bo', label='Training loss')\n",
    "  # b is for \"solid blue line\"\n",
    "  plt.plot(epochs, val_loss, 'b', label='Validation loss')\n",
    "  plt.title('Training and validation loss')\n",
    "  plt.xlabel('Epochs')\n",
    "  plt.ylabel('Loss')\n",
    "  plt.legend()\n",
    "  plt.show()\n",
    "  print(\"\\n\")\n",
    "\n",
    "  plt.plot(epochs, acc, 'bo', label='Training acc')\n",
    "  plt.plot(epochs, val_acc, 'b', label='Validation acc')\n",
    "  plt.title('Training and validation accuracy')\n",
    "  plt.xlabel('Epochs')\n",
    "  plt.ylabel('Accuracy')\n",
    "  plt.legend(loc='lower right')\n",
    "  plt.show()\n",
    "\n",
    "  print(\"\\nClassification Report\")\n",
    "  print(classification_report(y_test, attack_prediction))\n",
    "\n",
    "  print(\"\\nConfusion Matrix\")\n",
    "  print(confusion_matrix(y_test, attack_prediction))\n",
    "  ConfusionMatrixDisplay.from_predictions(y_test, attack_prediction)\n",
    "  plt.show()\n",
    "\n",
    "end_time1 = time.perf_counter()\n",
    "print(f\"Time taken: {end_time1 - start_time_1:0.4f} seconds\")"
   ]
  },
  {
   "cell_type": "markdown",
   "metadata": {
    "id": "pHCPpo3BNMGs"
   },
   "source": [
    "# Optimizing the model\n",
    "Instead of looking at random number ranges for learning rates, filters, and hidden units, we have encoded specific values.\n",
    "\n",
    "The hyper parameters we are attempting to optimize are:\n",
    "\n",
    "*   Batch Size\n",
    "*   Activation Functions\n",
    "*   Learning Rates\n",
    "*   Filters\n",
    "*   Hidden Units\n",
    "\n",
    "\n",
    "The base CNN model we made is ingested into *objective_function*.\n",
    "  This is where our hyper parameters are being considered.\n",
    "  It returns the Accuracy of that particular iteration.\n",
    "**LB** and **UB** is set according to the list given above.\n",
    "\n"
   ]
  },
  {
   "cell_type": "code",
   "execution_count": null,
   "metadata": {
    "colab": {
     "base_uri": "https://localhost:8080/"
    },
    "id": "7F_c1wjhgXlb",
    "outputId": "1745b3ed-9d3c-433f-c735-2ebde527432c"
   },
   "outputs": [
    {
     "name": "stderr",
     "output_type": "stream",
     "text": [
      "INFO:mealpy.bio_based.SOA.OriginalSOA:Solving single objective optimization problem.\n"
     ]
    },
    {
     "name": "stdout",
     "output_type": "stream",
     "text": [
      "Accuracy 0.38494569063186646\n",
      "Accuracy 0.0\n",
      "Accuracy 0.0\n",
      "Accuracy 0.4008588194847107\n",
      "Accuracy 0.057842910289764404\n",
      "Accuracy 0.6150543093681335\n",
      "Accuracy 0.6150543093681335\n",
      "Accuracy 0.6150543093681335\n",
      "Accuracy 0.0\n",
      "Accuracy 0.0\n",
      "Accuracy 0.6150543093681335\n",
      "Accuracy 0.0\n",
      "Accuracy 0.0\n",
      "Accuracy 0.3430159091949463\n",
      "Accuracy 0.0\n",
      "Accuracy 0.38494569063186646\n",
      "Accuracy 0.6150543093681335\n",
      "Accuracy 0.6150543093681335\n",
      "Accuracy 0.0\n",
      "Accuracy 0.38494569063186646\n",
      "Accuracy 0.0\n",
      "Accuracy 0.6150543093681335\n",
      "Accuracy 0.38494569063186646\n",
      "Accuracy 0.0\n",
      "Accuracy 0.6150543093681335\n",
      "Accuracy 0.38494569063186646\n",
      "Accuracy 0.38494569063186646\n",
      "Accuracy 0.0\n",
      "Accuracy 0.0\n",
      "Accuracy 0.0\n",
      "Accuracy 0.6150543093681335\n",
      "Accuracy 0.19045215845108032\n",
      "Accuracy 0.5991412103176117\n",
      "Accuracy 0.6150543093681335\n",
      "Accuracy 0.0\n",
      "Accuracy 0.20636522769927979\n",
      "Accuracy 0.0\n",
      "Accuracy 0.0\n",
      "Accuracy 0.0\n",
      "Accuracy 0.6150543093681335\n"
     ]
    },
    {
     "name": "stderr",
     "output_type": "stream",
     "text": [
      "INFO:mealpy.bio_based.SOA.OriginalSOA:>>>Problem: P, Epoch: 1, Current best: 0.0, Global best: 0.0, Runtime: 1571.88289 seconds\n"
     ]
    },
    {
     "name": "stdout",
     "output_type": "stream",
     "text": [
      "Accuracy 0.3427633047103882\n",
      "Accuracy 0.0\n",
      "Accuracy 0.6150543093681335\n",
      "Accuracy 0.6150543093681335\n",
      "Accuracy 0.38494569063186646\n",
      "Accuracy 0.6150543093681335\n",
      "Accuracy 0.0\n",
      "Accuracy 0.38494569063186646\n",
      "Accuracy 0.0\n",
      "Accuracy 0.0\n",
      "Accuracy 0.6150543093681335\n",
      "Accuracy 0.38494569063186646\n",
      "Accuracy 0.0\n",
      "Accuracy 0.0\n",
      "Accuracy 0.0\n",
      "Accuracy 0.0\n",
      "Accuracy 0.0\n",
      "Accuracy 0.38494569063186646\n",
      "Accuracy 0.0\n",
      "Accuracy 0.38494569063186646\n"
     ]
    },
    {
     "name": "stderr",
     "output_type": "stream",
     "text": [
      "INFO:mealpy.bio_based.SOA.OriginalSOA:>>>Problem: P, Epoch: 2, Current best: 0.0, Global best: 0.0, Runtime: 1270.44059 seconds\n"
     ]
    },
    {
     "name": "stdout",
     "output_type": "stream",
     "text": [
      "Accuracy 0.0\n",
      "Accuracy 0.14852237701416016\n",
      "Accuracy 0.0\n",
      "Accuracy 0.0\n",
      "Accuracy 0.0\n",
      "Accuracy 0.38494569063186646\n",
      "Accuracy 0.41879260540008545\n",
      "Accuracy 0.6150543093681335\n",
      "Accuracy 0.0\n",
      "Accuracy 0.0\n",
      "Accuracy 0.6150543093681335\n",
      "Accuracy 0.0\n",
      "Accuracy 0.0\n",
      "Accuracy 0.38494569063186646\n",
      "Accuracy 0.6150543093681335\n",
      "Accuracy 0.38494569063186646\n",
      "Accuracy 0.0\n",
      "Accuracy 0.0\n",
      "Accuracy 0.6150543093681335\n",
      "Accuracy 0.0\n"
     ]
    },
    {
     "name": "stderr",
     "output_type": "stream",
     "text": [
      "INFO:mealpy.bio_based.SOA.OriginalSOA:>>>Problem: P, Epoch: 3, Current best: 0.0, Global best: 0.0, Runtime: 1270.09985 seconds\n"
     ]
    },
    {
     "name": "stdout",
     "output_type": "stream",
     "text": [
      "Accuracy 0.0\n",
      "Accuracy 0.38494569063186646\n",
      "Accuracy 0.0\n",
      "Accuracy 0.0\n",
      "Accuracy 0.38494569063186646\n",
      "Accuracy 0.6150543093681335\n",
      "Accuracy 0.0\n",
      "Accuracy 0.0\n",
      "Accuracy 0.0\n",
      "Accuracy 0.0\n",
      "Accuracy 0.0\n",
      "Accuracy 0.6150543093681335\n",
      "Accuracy 0.0\n",
      "Accuracy 0.38494569063186646\n",
      "Accuracy 0.38494569063186646\n",
      "Accuracy 0.6150543093681335\n",
      "Accuracy 0.6150543093681335\n",
      "Accuracy 0.6150543093681335\n",
      "Accuracy 0.6150543093681335\n",
      "Accuracy 0.6150543093681335\n"
     ]
    },
    {
     "name": "stderr",
     "output_type": "stream",
     "text": [
      "INFO:mealpy.bio_based.SOA.OriginalSOA:>>>Problem: P, Epoch: 4, Current best: 0.0, Global best: 0.0, Runtime: 1556.76731 seconds\n"
     ]
    },
    {
     "name": "stdout",
     "output_type": "stream",
     "text": [
      "Accuracy 0.38494569063186646\n",
      "Accuracy 0.6150543093681335\n",
      "Accuracy 0.0\n",
      "Accuracy 0.0\n",
      "Accuracy 0.0\n",
      "Accuracy 0.0\n",
      "Accuracy 0.38494569063186646\n",
      "Accuracy 0.38494569063186646\n",
      "Accuracy 0.38494569063186646\n",
      "Accuracy 0.0\n",
      "Accuracy 0.38494569063186646\n",
      "Accuracy 0.0\n",
      "Accuracy 0.38494569063186646\n",
      "Accuracy 0.6150543093681335\n",
      "Accuracy 0.6150543093681335\n",
      "Accuracy 0.38494569063186646\n",
      "Accuracy 0.6150543093681335\n",
      "Accuracy 0.0\n",
      "Accuracy 0.6150543093681335\n",
      "Accuracy 0.0\n"
     ]
    },
    {
     "name": "stderr",
     "output_type": "stream",
     "text": [
      "INFO:mealpy.bio_based.SOA.OriginalSOA:>>>Problem: P, Epoch: 5, Current best: 0.0, Global best: 0.0, Runtime: 1460.99015 seconds\n"
     ]
    },
    {
     "name": "stdout",
     "output_type": "stream",
     "text": [
      "Accuracy 0.0\n",
      "Accuracy 0.0\n",
      "Accuracy 0.0\n",
      "Accuracy 0.38494569063186646\n",
      "Accuracy 0.0\n",
      "Accuracy 0.6150543093681335\n",
      "Accuracy 0.6150543093681335\n",
      "Accuracy 0.0\n",
      "Accuracy 0.38494569063186646\n",
      "Accuracy 0.0\n",
      "Accuracy 0.0\n",
      "Accuracy 0.6150543093681335\n",
      "Accuracy 0.38494569063186646\n",
      "Accuracy 0.38494569063186646\n",
      "Accuracy 0.0\n",
      "Accuracy 0.6150543093681335\n",
      "Accuracy 0.0\n",
      "Accuracy 0.0\n",
      "Accuracy 0.19045215845108032\n",
      "Accuracy 0.6150543093681335\n"
     ]
    },
    {
     "name": "stderr",
     "output_type": "stream",
     "text": [
      "INFO:mealpy.bio_based.SOA.OriginalSOA:>>>Problem: P, Epoch: 6, Current best: 0.0, Global best: 0.0, Runtime: 1583.07552 seconds\n"
     ]
    },
    {
     "name": "stdout",
     "output_type": "stream",
     "text": [
      "Accuracy 0.598130851984024\n",
      "Accuracy 0.0\n",
      "Accuracy 0.6150543093681335\n",
      "Accuracy 0.6150543093681335\n",
      "Accuracy 0.04849708080291748\n",
      "Accuracy 0.6150543093681335\n",
      "Accuracy 0.0\n",
      "Accuracy 0.38494569063186646\n",
      "Accuracy 0.6150543093681335\n",
      "Accuracy 0.6150543093681335\n",
      "Accuracy 0.6150543093681335\n",
      "Accuracy 0.0\n",
      "Accuracy 0.38494569063186646\n",
      "Accuracy 0.6150543093681335\n",
      "Accuracy 0.6150543093681335\n",
      "Accuracy 0.0\n",
      "Accuracy 0.0\n",
      "Accuracy 0.0\n",
      "Accuracy 0.6150543093681335\n",
      "Accuracy 0.38494569063186646\n"
     ]
    },
    {
     "name": "stderr",
     "output_type": "stream",
     "text": [
      "INFO:mealpy.bio_based.SOA.OriginalSOA:>>>Problem: P, Epoch: 7, Current best: 0.0, Global best: 0.0, Runtime: 1585.71689 seconds\n"
     ]
    },
    {
     "name": "stdout",
     "output_type": "stream",
     "text": [
      "Accuracy 0.6150543093681335\n",
      "Accuracy 0.6150543093681335\n",
      "Accuracy 0.0\n",
      "Accuracy 0.6150543093681335\n",
      "Accuracy 0.0\n",
      "Accuracy 0.0\n",
      "Accuracy 0.0\n",
      "Accuracy 0.0\n",
      "Accuracy 0.38494569063186646\n",
      "Accuracy 0.6150543093681335\n",
      "Accuracy 0.0\n",
      "Accuracy 0.0\n",
      "Accuracy 0.0\n",
      "Accuracy 0.2048497200012207\n",
      "Accuracy 0.6150543093681335\n",
      "Accuracy 0.6150543093681335\n",
      "Accuracy 0.0\n",
      "Accuracy 0.0\n",
      "Accuracy 0.38494569063186646\n",
      "Accuracy 0.0\n"
     ]
    },
    {
     "name": "stderr",
     "output_type": "stream",
     "text": [
      "INFO:mealpy.bio_based.SOA.OriginalSOA:>>>Problem: P, Epoch: 8, Current best: 0.0, Global best: 0.0, Runtime: 1374.88073 seconds\n"
     ]
    },
    {
     "name": "stdout",
     "output_type": "stream",
     "text": [
      "Accuracy 0.38494569063186646\n",
      "Accuracy 0.6150543093681335\n",
      "Accuracy 0.0\n",
      "Accuracy 0.6150543093681335\n",
      "Accuracy 0.0\n",
      "Accuracy 0.0\n",
      "Accuracy 0.0\n",
      "Accuracy 0.6150543093681335\n",
      "Accuracy 0.38494569063186646\n",
      "Accuracy 0.38494569063186646\n",
      "Accuracy 0.38494569063186646\n",
      "Accuracy 0.38494569063186646\n",
      "Accuracy 0.6150543093681335\n",
      "Accuracy 0.0\n",
      "Accuracy 0.38494569063186646\n",
      "Accuracy 0.0\n",
      "Accuracy 0.0\n",
      "Accuracy 0.4885072112083435\n",
      "Accuracy 0.0\n",
      "Accuracy 0.2194998860359192\n"
     ]
    },
    {
     "name": "stderr",
     "output_type": "stream",
     "text": [
      "INFO:mealpy.bio_based.SOA.OriginalSOA:>>>Problem: P, Epoch: 9, Current best: 0.0, Global best: 0.0, Runtime: 1588.44794 seconds\n"
     ]
    },
    {
     "name": "stdout",
     "output_type": "stream",
     "text": [
      "Accuracy 0.05354887247085571\n",
      "Accuracy 0.0\n",
      "Accuracy 0.0\n",
      "Accuracy 0.0\n",
      "Accuracy 0.38494569063186646\n",
      "Accuracy 0.38494569063186646\n",
      "Accuracy 0.0\n",
      "Accuracy 0.0\n",
      "Accuracy 0.0\n",
      "Accuracy 0.6150543093681335\n",
      "Accuracy 0.6150543093681335\n",
      "Accuracy 0.0\n",
      "Accuracy 0.38494569063186646\n",
      "Accuracy 0.38494569063186646\n",
      "Accuracy 0.0\n",
      "Accuracy 0.0\n",
      "Accuracy 0.0\n",
      "Accuracy 0.38494569063186646\n",
      "Accuracy 0.6150543093681335\n",
      "Accuracy 0.0\n"
     ]
    },
    {
     "name": "stderr",
     "output_type": "stream",
     "text": [
      "INFO:mealpy.bio_based.SOA.OriginalSOA:>>>Problem: P, Epoch: 10, Current best: 0.0, Global best: 0.0, Runtime: 1489.07320 seconds\n"
     ]
    },
    {
     "name": "stdout",
     "output_type": "stream",
     "text": [
      "Accuracy 0.6150543093681335\n",
      "Accuracy 0.6150543093681335\n",
      "Accuracy 0.0\n",
      "Accuracy 0.0\n",
      "Accuracy 0.0\n",
      "Accuracy 0.38494569063186646\n",
      "Accuracy 0.0\n",
      "Accuracy 0.38494569063186646\n",
      "Accuracy 0.0\n",
      "Accuracy 0.38494569063186646\n",
      "Accuracy 0.0\n",
      "Accuracy 0.6150543093681335\n",
      "Accuracy 0.38494569063186646\n",
      "Accuracy 0.38494569063186646\n",
      "Accuracy 0.6150543093681335\n",
      "Accuracy 0.38494569063186646\n",
      "Accuracy 0.0\n",
      "Accuracy 0.3604445457458496\n",
      "Accuracy 0.38494569063186646\n",
      "Accuracy 0.0\n"
     ]
    }
   ],
   "source": [
    "BATCH_ENCODER = LabelEncoder()\n",
    "BATCH_ENCODER.fit([32, 64, 128])\n",
    "\n",
    "#act encoder --> Which activation function should be used?\n",
    "ACT_ENCODER = LabelEncoder()\n",
    "ACT_ENCODER.fit(['softmax', 'softplus', 'relu', 'tanh', 'sigmoid', 'hard_sigmoid', 'linear'])\n",
    "\n",
    "#Learning Rate encoder\n",
    "LR_ENCODER = LabelEncoder()\n",
    "LR_ENCODER.fit([0.0005, 0.001, 0.005, 0.01, 0.05, 0.1])\n",
    "\n",
    "#Filter encoder\n",
    "FILTER_ENCODER = LabelEncoder()\n",
    "FILTER_ENCODER.fit([25, 50, 75])\n",
    "\n",
    "#Hidden Units encoder\n",
    "HIDDEN_ENCODER = LabelEncoder()\n",
    "HIDDEN_ENCODER.fit([400, 512, 640])\n",
    "\n",
    "def objective_function(params):\n",
    "  '''RULES:\n",
    "      Batch Size - 32, 64, 128\n",
    "      Activation - softmax, softplus, relu, tanh, sigmoid, hard_sigmoid, linear\n",
    "      Learning Rate - 0.0005, 0.001, 0.005, 0.01, 0.05, 0.1\n",
    "      Filters - 25, 50, 75\n",
    "      Hidden Units - 400, 512, 640\n",
    "      Dense Layers - 5, 8, 10\n",
    "  '''\n",
    "  batch_size = BATCH_ENCODER.inverse_transform([int(params[0])])[0]\n",
    "  activation = ACT_ENCODER.inverse_transform([int(params[1])])[0]\n",
    "  learning_rate = LR_ENCODER.inverse_transform([int(params[2])])[0]\n",
    "  filter = FILTER_ENCODER.inverse_transform([int(params[3])])[0]\n",
    "  hidden_units = HIDDEN_ENCODER.inverse_transform([int(params[4])])[0]\n",
    "\n",
    "  model = tensorflow.keras.Sequential()\n",
    "  model.add(tensorflow.keras.layers.Input(shape=(X_rebalance.shape[1], X_rebalance.shape[2]))),\n",
    "  model.add(tensorflow.keras.layers.Conv1D(filters=filter, kernel_size=3, activation='sigmoid')),\n",
    "  model.add(tensorflow.keras.layers.MaxPooling1D(pool_size=2)),\n",
    "  model.add(tensorflow.keras.layers.Dropout(0.3)),\n",
    "  model.add(tensorflow.keras.layers.BatchNormalization()),\n",
    "  model.add(tensorflow.keras.layers.LSTM(64)),\n",
    "  model.add(tensorflow.keras.layers.Flatten()),\n",
    "  model.add(tensorflow.keras.layers.Dense(int(hidden_units), activation=activation)),\n",
    "  model.add(tensorflow.keras.layers.Dropout(0.5)),\n",
    "  model.add(tensorflow.keras.layers.Dense(1, activation='sigmoid'))\n",
    "\n",
    "\n",
    "  optimizer = tensorflow.keras.optimizers.SGD(learning_rate=learning_rate)\n",
    "  model.compile(optimizer=optimizer, loss='binary_crossentropy', metrics=['accuracy'])\n",
    "\n",
    "  history = model.fit(X_rebalance, y_rebalance, batch_size=batch_size, epochs=15, validation_data=(X_validation_encode, y_validation_encode), verbose=0)\n",
    "  min_validation_accuracy = 1-history.history['val_accuracy'][-1]\n",
    "  print(f\"Accuracy {min_validation_accuracy}\")\n",
    "  return min_validation_accuracy\n",
    "\n",
    "LB = [0, 0, 0, 0, 0]\n",
    "UB = [2.99, 6.99, 5.99, 2.99, 2.99]\n",
    "\n",
    "problem_dict = {\n",
    "    \"obj_func\": objective_function,\n",
    "    \"bounds\": FloatVar(lb=LB, ub=UB),\n",
    "    \"minmax\": \"min\",\n",
    "    \"verbose\": True\n",
    "}\n",
    "\n",
    "model = SOA.OriginalSOA(epoch=15, pop_size=20, fc=2)\n",
    "g_best = model.solve(problem_dict)\n",
    "print(f\"Solution: {g_best.solution}, Fitness: {g_best.target.fitness}\")\n",
    "print(f\"Solution: {model.g_best.solution}, Fitness: {model.g_best.target.fitness}\")\n",
    "model.history.save_global_objectives_chart(filename=\"hello/goc\")\n",
    "model.history.save_local_objectives_chart(filename=\"hello/loc\")\n",
    "\n",
    "model.history.save_global_best_fitness_chart(filename=\"hello/gbfc\")\n",
    "model.history.save_local_best_fitness_chart(filename=\"hello/lbfc\")\n",
    "\n",
    "model.history.save_runtime_chart(filename=\"hello/rtc\")\n",
    "\n",
    "model.history.save_exploration_exploitation_chart(filename=\"hello/eec\")\n",
    "\n",
    "model.history.save_diversity_chart(filename=\"hello/dc\")"
   ]
  },
  {
   "cell_type": "markdown",
   "metadata": {
    "id": "2KHdtYexDP9e"
   },
   "source": [
    "Solution: Solution: [2.99       1.8882204  2.05132718 2.99       2.99      ], Fitness: 0.09548252820968628\n",
    "\n",
    "\n",
    "Batch Size - 32, 64, **128**\n",
    "\n",
    "Activation - softmax, **softplus**, relu, tanh, sigmoid, hard_sigmoid, linear\n",
    "\n",
    "Learning Rate - 0.0005, 0.001, **0.005**, 0.01, 0.05, 0.1\n",
    "\n",
    "Filters - 25, 50, **75**\n",
    "\n",
    "Hidden Units - 400, 512, **640**"
   ]
  },
  {
   "cell_type": "code",
   "execution_count": null,
   "metadata": {
    "colab": {
     "base_uri": "https://localhost:8080/",
     "height": 1000
    },
    "executionInfo": {
     "elapsed": 312129,
     "status": "ok",
     "timestamp": 1745010376968,
     "user": {
      "displayName": "Bethany Goss",
      "userId": "10125623664246589214"
     },
     "user_tz": 240
    },
    "id": "aklPE8P-Ddox",
    "outputId": "4c873f36-53a1-4e37-f6e6-87c08dc9c497"
   },
   "outputs": [
    {
     "data": {
      "text/html": [
       "<pre style=\"white-space:pre;overflow-x:auto;line-height:normal;font-family:Menlo,'DejaVu Sans Mono',consolas,'Courier New',monospace\"><span style=\"font-weight: bold\">Model: \"sequential\"</span>\n",
       "</pre>\n"
      ],
      "text/plain": [
       "\u001b[1mModel: \"sequential\"\u001b[0m\n"
      ]
     },
     "metadata": {},
     "output_type": "display_data"
    },
    {
     "data": {
      "text/html": [
       "<pre style=\"white-space:pre;overflow-x:auto;line-height:normal;font-family:Menlo,'DejaVu Sans Mono',consolas,'Courier New',monospace\">┏━━━━━━━━━━━━━━━━━━━━━━━━━━━━━━━━━┳━━━━━━━━━━━━━━━━━━━━━━━━┳━━━━━━━━━━━━━━━┓\n",
       "┃<span style=\"font-weight: bold\"> Layer (type)                    </span>┃<span style=\"font-weight: bold\"> Output Shape           </span>┃<span style=\"font-weight: bold\">       Param # </span>┃\n",
       "┡━━━━━━━━━━━━━━━━━━━━━━━━━━━━━━━━━╇━━━━━━━━━━━━━━━━━━━━━━━━╇━━━━━━━━━━━━━━━┩\n",
       "│ conv1d (<span style=\"color: #0087ff; text-decoration-color: #0087ff\">Conv1D</span>)                 │ (<span style=\"color: #00d7ff; text-decoration-color: #00d7ff\">None</span>, <span style=\"color: #00af00; text-decoration-color: #00af00\">2</span>, <span style=\"color: #00af00; text-decoration-color: #00af00\">75</span>)          │           <span style=\"color: #00af00; text-decoration-color: #00af00\">300</span> │\n",
       "├─────────────────────────────────┼────────────────────────┼───────────────┤\n",
       "│ max_pooling1d (<span style=\"color: #0087ff; text-decoration-color: #0087ff\">MaxPooling1D</span>)    │ (<span style=\"color: #00d7ff; text-decoration-color: #00d7ff\">None</span>, <span style=\"color: #00af00; text-decoration-color: #00af00\">1</span>, <span style=\"color: #00af00; text-decoration-color: #00af00\">75</span>)          │             <span style=\"color: #00af00; text-decoration-color: #00af00\">0</span> │\n",
       "├─────────────────────────────────┼────────────────────────┼───────────────┤\n",
       "│ dropout (<span style=\"color: #0087ff; text-decoration-color: #0087ff\">Dropout</span>)               │ (<span style=\"color: #00d7ff; text-decoration-color: #00d7ff\">None</span>, <span style=\"color: #00af00; text-decoration-color: #00af00\">1</span>, <span style=\"color: #00af00; text-decoration-color: #00af00\">75</span>)          │             <span style=\"color: #00af00; text-decoration-color: #00af00\">0</span> │\n",
       "├─────────────────────────────────┼────────────────────────┼───────────────┤\n",
       "│ batch_normalization             │ (<span style=\"color: #00d7ff; text-decoration-color: #00d7ff\">None</span>, <span style=\"color: #00af00; text-decoration-color: #00af00\">1</span>, <span style=\"color: #00af00; text-decoration-color: #00af00\">75</span>)          │           <span style=\"color: #00af00; text-decoration-color: #00af00\">300</span> │\n",
       "│ (<span style=\"color: #0087ff; text-decoration-color: #0087ff\">BatchNormalization</span>)            │                        │               │\n",
       "├─────────────────────────────────┼────────────────────────┼───────────────┤\n",
       "│ lstm (<span style=\"color: #0087ff; text-decoration-color: #0087ff\">LSTM</span>)                     │ (<span style=\"color: #00d7ff; text-decoration-color: #00d7ff\">None</span>, <span style=\"color: #00af00; text-decoration-color: #00af00\">64</span>)             │        <span style=\"color: #00af00; text-decoration-color: #00af00\">35,840</span> │\n",
       "├─────────────────────────────────┼────────────────────────┼───────────────┤\n",
       "│ flatten (<span style=\"color: #0087ff; text-decoration-color: #0087ff\">Flatten</span>)               │ (<span style=\"color: #00d7ff; text-decoration-color: #00d7ff\">None</span>, <span style=\"color: #00af00; text-decoration-color: #00af00\">64</span>)             │             <span style=\"color: #00af00; text-decoration-color: #00af00\">0</span> │\n",
       "├─────────────────────────────────┼────────────────────────┼───────────────┤\n",
       "│ dense (<span style=\"color: #0087ff; text-decoration-color: #0087ff\">Dense</span>)                   │ (<span style=\"color: #00d7ff; text-decoration-color: #00d7ff\">None</span>, <span style=\"color: #00af00; text-decoration-color: #00af00\">640</span>)            │        <span style=\"color: #00af00; text-decoration-color: #00af00\">41,600</span> │\n",
       "├─────────────────────────────────┼────────────────────────┼───────────────┤\n",
       "│ dropout_1 (<span style=\"color: #0087ff; text-decoration-color: #0087ff\">Dropout</span>)             │ (<span style=\"color: #00d7ff; text-decoration-color: #00d7ff\">None</span>, <span style=\"color: #00af00; text-decoration-color: #00af00\">640</span>)            │             <span style=\"color: #00af00; text-decoration-color: #00af00\">0</span> │\n",
       "├─────────────────────────────────┼────────────────────────┼───────────────┤\n",
       "│ dense_1 (<span style=\"color: #0087ff; text-decoration-color: #0087ff\">Dense</span>)                 │ (<span style=\"color: #00d7ff; text-decoration-color: #00d7ff\">None</span>, <span style=\"color: #00af00; text-decoration-color: #00af00\">1</span>)              │           <span style=\"color: #00af00; text-decoration-color: #00af00\">641</span> │\n",
       "└─────────────────────────────────┴────────────────────────┴───────────────┘\n",
       "</pre>\n"
      ],
      "text/plain": [
       "┏━━━━━━━━━━━━━━━━━━━━━━━━━━━━━━━━━┳━━━━━━━━━━━━━━━━━━━━━━━━┳━━━━━━━━━━━━━━━┓\n",
       "┃\u001b[1m \u001b[0m\u001b[1mLayer (type)                   \u001b[0m\u001b[1m \u001b[0m┃\u001b[1m \u001b[0m\u001b[1mOutput Shape          \u001b[0m\u001b[1m \u001b[0m┃\u001b[1m \u001b[0m\u001b[1m      Param #\u001b[0m\u001b[1m \u001b[0m┃\n",
       "┡━━━━━━━━━━━━━━━━━━━━━━━━━━━━━━━━━╇━━━━━━━━━━━━━━━━━━━━━━━━╇━━━━━━━━━━━━━━━┩\n",
       "│ conv1d (\u001b[38;5;33mConv1D\u001b[0m)                 │ (\u001b[38;5;45mNone\u001b[0m, \u001b[38;5;34m2\u001b[0m, \u001b[38;5;34m75\u001b[0m)          │           \u001b[38;5;34m300\u001b[0m │\n",
       "├─────────────────────────────────┼────────────────────────┼───────────────┤\n",
       "│ max_pooling1d (\u001b[38;5;33mMaxPooling1D\u001b[0m)    │ (\u001b[38;5;45mNone\u001b[0m, \u001b[38;5;34m1\u001b[0m, \u001b[38;5;34m75\u001b[0m)          │             \u001b[38;5;34m0\u001b[0m │\n",
       "├─────────────────────────────────┼────────────────────────┼───────────────┤\n",
       "│ dropout (\u001b[38;5;33mDropout\u001b[0m)               │ (\u001b[38;5;45mNone\u001b[0m, \u001b[38;5;34m1\u001b[0m, \u001b[38;5;34m75\u001b[0m)          │             \u001b[38;5;34m0\u001b[0m │\n",
       "├─────────────────────────────────┼────────────────────────┼───────────────┤\n",
       "│ batch_normalization             │ (\u001b[38;5;45mNone\u001b[0m, \u001b[38;5;34m1\u001b[0m, \u001b[38;5;34m75\u001b[0m)          │           \u001b[38;5;34m300\u001b[0m │\n",
       "│ (\u001b[38;5;33mBatchNormalization\u001b[0m)            │                        │               │\n",
       "├─────────────────────────────────┼────────────────────────┼───────────────┤\n",
       "│ lstm (\u001b[38;5;33mLSTM\u001b[0m)                     │ (\u001b[38;5;45mNone\u001b[0m, \u001b[38;5;34m64\u001b[0m)             │        \u001b[38;5;34m35,840\u001b[0m │\n",
       "├─────────────────────────────────┼────────────────────────┼───────────────┤\n",
       "│ flatten (\u001b[38;5;33mFlatten\u001b[0m)               │ (\u001b[38;5;45mNone\u001b[0m, \u001b[38;5;34m64\u001b[0m)             │             \u001b[38;5;34m0\u001b[0m │\n",
       "├─────────────────────────────────┼────────────────────────┼───────────────┤\n",
       "│ dense (\u001b[38;5;33mDense\u001b[0m)                   │ (\u001b[38;5;45mNone\u001b[0m, \u001b[38;5;34m640\u001b[0m)            │        \u001b[38;5;34m41,600\u001b[0m │\n",
       "├─────────────────────────────────┼────────────────────────┼───────────────┤\n",
       "│ dropout_1 (\u001b[38;5;33mDropout\u001b[0m)             │ (\u001b[38;5;45mNone\u001b[0m, \u001b[38;5;34m640\u001b[0m)            │             \u001b[38;5;34m0\u001b[0m │\n",
       "├─────────────────────────────────┼────────────────────────┼───────────────┤\n",
       "│ dense_1 (\u001b[38;5;33mDense\u001b[0m)                 │ (\u001b[38;5;45mNone\u001b[0m, \u001b[38;5;34m1\u001b[0m)              │           \u001b[38;5;34m641\u001b[0m │\n",
       "└─────────────────────────────────┴────────────────────────┴───────────────┘\n"
      ]
     },
     "metadata": {},
     "output_type": "display_data"
    },
    {
     "data": {
      "text/html": [
       "<pre style=\"white-space:pre;overflow-x:auto;line-height:normal;font-family:Menlo,'DejaVu Sans Mono',consolas,'Courier New',monospace\"><span style=\"font-weight: bold\"> Total params: </span><span style=\"color: #00af00; text-decoration-color: #00af00\">78,681</span> (307.35 KB)\n",
       "</pre>\n"
      ],
      "text/plain": [
       "\u001b[1m Total params: \u001b[0m\u001b[38;5;34m78,681\u001b[0m (307.35 KB)\n"
      ]
     },
     "metadata": {},
     "output_type": "display_data"
    },
    {
     "data": {
      "text/html": [
       "<pre style=\"white-space:pre;overflow-x:auto;line-height:normal;font-family:Menlo,'DejaVu Sans Mono',consolas,'Courier New',monospace\"><span style=\"font-weight: bold\"> Trainable params: </span><span style=\"color: #00af00; text-decoration-color: #00af00\">78,531</span> (306.76 KB)\n",
       "</pre>\n"
      ],
      "text/plain": [
       "\u001b[1m Trainable params: \u001b[0m\u001b[38;5;34m78,531\u001b[0m (306.76 KB)\n"
      ]
     },
     "metadata": {},
     "output_type": "display_data"
    },
    {
     "data": {
      "text/html": [
       "<pre style=\"white-space:pre;overflow-x:auto;line-height:normal;font-family:Menlo,'DejaVu Sans Mono',consolas,'Courier New',monospace\"><span style=\"font-weight: bold\"> Non-trainable params: </span><span style=\"color: #00af00; text-decoration-color: #00af00\">150</span> (600.00 B)\n",
       "</pre>\n"
      ],
      "text/plain": [
       "\u001b[1m Non-trainable params: \u001b[0m\u001b[38;5;34m150\u001b[0m (600.00 B)\n"
      ]
     },
     "metadata": {},
     "output_type": "display_data"
    },
    {
     "name": "stdout",
     "output_type": "stream",
     "text": [
      "Epoch 1/70\n",
      "\u001b[1m309/309\u001b[0m \u001b[32m━━━━━━━━━━━━━━━━━━━━\u001b[0m\u001b[37m\u001b[0m \u001b[1m18s\u001b[0m 23ms/step - accuracy: 0.4957 - loss: 0.8008 - val_accuracy: 0.6151 - val_loss: 0.6783\n",
      "Epoch 2/70\n",
      "\u001b[1m309/309\u001b[0m \u001b[32m━━━━━━━━━━━━━━━━━━━━\u001b[0m\u001b[37m\u001b[0m \u001b[1m3s\u001b[0m 9ms/step - accuracy: 0.5074 - loss: 0.7699 - val_accuracy: 0.3849 - val_loss: 0.7036\n",
      "Epoch 3/70\n",
      "\u001b[1m309/309\u001b[0m \u001b[32m━━━━━━━━━━━━━━━━━━━━\u001b[0m\u001b[37m\u001b[0m \u001b[1m4s\u001b[0m 12ms/step - accuracy: 0.5028 - loss: 0.7458 - val_accuracy: 0.3849 - val_loss: 0.7266\n",
      "Epoch 4/70\n",
      "\u001b[1m309/309\u001b[0m \u001b[32m━━━━━━━━━━━━━━━━━━━━\u001b[0m\u001b[37m\u001b[0m \u001b[1m4s\u001b[0m 9ms/step - accuracy: 0.5005 - loss: 0.7375 - val_accuracy: 0.6151 - val_loss: 0.6776\n",
      "Epoch 5/70\n",
      "\u001b[1m309/309\u001b[0m \u001b[32m━━━━━━━━━━━━━━━━━━━━\u001b[0m\u001b[37m\u001b[0m \u001b[1m5s\u001b[0m 9ms/step - accuracy: 0.5076 - loss: 0.7211 - val_accuracy: 0.3849 - val_loss: 0.6928\n",
      "Epoch 6/70\n",
      "\u001b[1m309/309\u001b[0m \u001b[32m━━━━━━━━━━━━━━━━━━━━\u001b[0m\u001b[37m\u001b[0m \u001b[1m6s\u001b[0m 13ms/step - accuracy: 0.5061 - loss: 0.7134 - val_accuracy: 0.3849 - val_loss: 0.7115\n",
      "Epoch 7/70\n",
      "\u001b[1m309/309\u001b[0m \u001b[32m━━━━━━━━━━━━━━━━━━━━\u001b[0m\u001b[37m\u001b[0m \u001b[1m4s\u001b[0m 9ms/step - accuracy: 0.5063 - loss: 0.7076 - val_accuracy: 0.3849 - val_loss: 0.6959\n",
      "Epoch 8/70\n",
      "\u001b[1m309/309\u001b[0m \u001b[32m━━━━━━━━━━━━━━━━━━━━\u001b[0m\u001b[37m\u001b[0m \u001b[1m5s\u001b[0m 9ms/step - accuracy: 0.5106 - loss: 0.7018 - val_accuracy: 0.6151 - val_loss: 0.6773\n",
      "Epoch 9/70\n",
      "\u001b[1m309/309\u001b[0m \u001b[32m━━━━━━━━━━━━━━━━━━━━\u001b[0m\u001b[37m\u001b[0m \u001b[1m5s\u001b[0m 9ms/step - accuracy: 0.5079 - loss: 0.7021 - val_accuracy: 0.3849 - val_loss: 0.6985\n",
      "Epoch 10/70\n",
      "\u001b[1m309/309\u001b[0m \u001b[32m━━━━━━━━━━━━━━━━━━━━\u001b[0m\u001b[37m\u001b[0m \u001b[1m3s\u001b[0m 9ms/step - accuracy: 0.5093 - loss: 0.6987 - val_accuracy: 0.3849 - val_loss: 0.6991\n",
      "Epoch 11/70\n",
      "\u001b[1m309/309\u001b[0m \u001b[32m━━━━━━━━━━━━━━━━━━━━\u001b[0m\u001b[37m\u001b[0m \u001b[1m6s\u001b[0m 10ms/step - accuracy: 0.5125 - loss: 0.6960 - val_accuracy: 0.6151 - val_loss: 0.6731\n",
      "Epoch 12/70\n",
      "\u001b[1m309/309\u001b[0m \u001b[32m━━━━━━━━━━━━━━━━━━━━\u001b[0m\u001b[37m\u001b[0m \u001b[1m5s\u001b[0m 9ms/step - accuracy: 0.5153 - loss: 0.6949 - val_accuracy: 0.6151 - val_loss: 0.6650\n",
      "Epoch 13/70\n",
      "\u001b[1m309/309\u001b[0m \u001b[32m━━━━━━━━━━━━━━━━━━━━\u001b[0m\u001b[37m\u001b[0m \u001b[1m5s\u001b[0m 9ms/step - accuracy: 0.5175 - loss: 0.6941 - val_accuracy: 0.6151 - val_loss: 0.6648\n",
      "Epoch 14/70\n",
      "\u001b[1m309/309\u001b[0m \u001b[32m━━━━━━━━━━━━━━━━━━━━\u001b[0m\u001b[37m\u001b[0m \u001b[1m3s\u001b[0m 10ms/step - accuracy: 0.5189 - loss: 0.6945 - val_accuracy: 0.6151 - val_loss: 0.6664\n",
      "Epoch 15/70\n",
      "\u001b[1m309/309\u001b[0m \u001b[32m━━━━━━━━━━━━━━━━━━━━\u001b[0m\u001b[37m\u001b[0m \u001b[1m5s\u001b[0m 9ms/step - accuracy: 0.5211 - loss: 0.6932 - val_accuracy: 0.6151 - val_loss: 0.6811\n",
      "Epoch 16/70\n",
      "\u001b[1m309/309\u001b[0m \u001b[32m━━━━━━━━━━━━━━━━━━━━\u001b[0m\u001b[37m\u001b[0m \u001b[1m5s\u001b[0m 10ms/step - accuracy: 0.5221 - loss: 0.6922 - val_accuracy: 0.3849 - val_loss: 0.7038\n",
      "Epoch 17/70\n",
      "\u001b[1m309/309\u001b[0m \u001b[32m━━━━━━━━━━━━━━━━━━━━\u001b[0m\u001b[37m\u001b[0m \u001b[1m4s\u001b[0m 12ms/step - accuracy: 0.5162 - loss: 0.6931 - val_accuracy: 0.8651 - val_loss: 0.6896\n",
      "Epoch 18/70\n",
      "\u001b[1m309/309\u001b[0m \u001b[32m━━━━━━━━━━━━━━━━━━━━\u001b[0m\u001b[37m\u001b[0m \u001b[1m4s\u001b[0m 9ms/step - accuracy: 0.5210 - loss: 0.6921 - val_accuracy: 0.3849 - val_loss: 0.6910\n",
      "Epoch 19/70\n",
      "\u001b[1m309/309\u001b[0m \u001b[32m━━━━━━━━━━━━━━━━━━━━\u001b[0m\u001b[37m\u001b[0m \u001b[1m3s\u001b[0m 9ms/step - accuracy: 0.5176 - loss: 0.6933 - val_accuracy: 0.3849 - val_loss: 0.7141\n",
      "Epoch 20/70\n",
      "\u001b[1m309/309\u001b[0m \u001b[32m━━━━━━━━━━━━━━━━━━━━\u001b[0m\u001b[37m\u001b[0m \u001b[1m3s\u001b[0m 10ms/step - accuracy: 0.5228 - loss: 0.6914 - val_accuracy: 0.8199 - val_loss: 0.6892\n",
      "Epoch 21/70\n",
      "\u001b[1m309/309\u001b[0m \u001b[32m━━━━━━━━━━━━━━━━━━━━\u001b[0m\u001b[37m\u001b[0m \u001b[1m6s\u001b[0m 13ms/step - accuracy: 0.5256 - loss: 0.6918 - val_accuracy: 0.3849 - val_loss: 0.7092\n",
      "Epoch 22/70\n",
      "\u001b[1m309/309\u001b[0m \u001b[32m━━━━━━━━━━━━━━━━━━━━\u001b[0m\u001b[37m\u001b[0m \u001b[1m3s\u001b[0m 10ms/step - accuracy: 0.5269 - loss: 0.6904 - val_accuracy: 0.6151 - val_loss: 0.6717\n",
      "Epoch 23/70\n",
      "\u001b[1m309/309\u001b[0m \u001b[32m━━━━━━━━━━━━━━━━━━━━\u001b[0m\u001b[37m\u001b[0m \u001b[1m3s\u001b[0m 9ms/step - accuracy: 0.5271 - loss: 0.6919 - val_accuracy: 0.3849 - val_loss: 0.7299\n",
      "Epoch 24/70\n",
      "\u001b[1m309/309\u001b[0m \u001b[32m━━━━━━━━━━━━━━━━━━━━\u001b[0m\u001b[37m\u001b[0m \u001b[1m7s\u001b[0m 15ms/step - accuracy: 0.5284 - loss: 0.6910 - val_accuracy: 0.3849 - val_loss: 0.7448\n",
      "Epoch 25/70\n",
      "\u001b[1m309/309\u001b[0m \u001b[32m━━━━━━━━━━━━━━━━━━━━\u001b[0m\u001b[37m\u001b[0m \u001b[1m3s\u001b[0m 9ms/step - accuracy: 0.5328 - loss: 0.6898 - val_accuracy: 0.6151 - val_loss: 0.6644\n",
      "Epoch 26/70\n",
      "\u001b[1m309/309\u001b[0m \u001b[32m━━━━━━━━━━━━━━━━━━━━\u001b[0m\u001b[37m\u001b[0m \u001b[1m3s\u001b[0m 9ms/step - accuracy: 0.5373 - loss: 0.6902 - val_accuracy: 0.9422 - val_loss: 0.6867\n",
      "Epoch 27/70\n",
      "\u001b[1m309/309\u001b[0m \u001b[32m━━━━━━━━━━━━━━━━━━━━\u001b[0m\u001b[37m\u001b[0m \u001b[1m6s\u001b[0m 12ms/step - accuracy: 0.5362 - loss: 0.6891 - val_accuracy: 0.6151 - val_loss: 0.6658\n",
      "Epoch 28/70\n",
      "\u001b[1m309/309\u001b[0m \u001b[32m━━━━━━━━━━━━━━━━━━━━\u001b[0m\u001b[37m\u001b[0m \u001b[1m4s\u001b[0m 9ms/step - accuracy: 0.5374 - loss: 0.6889 - val_accuracy: 0.3849 - val_loss: 0.6938\n",
      "Epoch 29/70\n",
      "\u001b[1m309/309\u001b[0m \u001b[32m━━━━━━━━━━━━━━━━━━━━\u001b[0m\u001b[37m\u001b[0m \u001b[1m5s\u001b[0m 9ms/step - accuracy: 0.5355 - loss: 0.6893 - val_accuracy: 0.6151 - val_loss: 0.6735\n",
      "Epoch 30/70\n",
      "\u001b[1m309/309\u001b[0m \u001b[32m━━━━━━━━━━━━━━━━━━━━\u001b[0m\u001b[37m\u001b[0m \u001b[1m3s\u001b[0m 11ms/step - accuracy: 0.5474 - loss: 0.6865 - val_accuracy: 0.6151 - val_loss: 0.6616\n",
      "Epoch 31/70\n",
      "\u001b[1m309/309\u001b[0m \u001b[32m━━━━━━━━━━━━━━━━━━━━\u001b[0m\u001b[37m\u001b[0m \u001b[1m4s\u001b[0m 12ms/step - accuracy: 0.5439 - loss: 0.6880 - val_accuracy: 0.6484 - val_loss: 0.6781\n",
      "Epoch 32/70\n",
      "\u001b[1m309/309\u001b[0m \u001b[32m━━━━━━━━━━━━━━━━━━━━\u001b[0m\u001b[37m\u001b[0m \u001b[1m4s\u001b[0m 9ms/step - accuracy: 0.5462 - loss: 0.6862 - val_accuracy: 0.9422 - val_loss: 0.6810\n",
      "Epoch 33/70\n",
      "\u001b[1m309/309\u001b[0m \u001b[32m━━━━━━━━━━━━━━━━━━━━\u001b[0m\u001b[37m\u001b[0m \u001b[1m3s\u001b[0m 9ms/step - accuracy: 0.5523 - loss: 0.6847 - val_accuracy: 0.3849 - val_loss: 0.6919\n",
      "Epoch 34/70\n",
      "\u001b[1m309/309\u001b[0m \u001b[32m━━━━━━━━━━━━━━━━━━━━\u001b[0m\u001b[37m\u001b[0m \u001b[1m4s\u001b[0m 12ms/step - accuracy: 0.5510 - loss: 0.6840 - val_accuracy: 0.6151 - val_loss: 0.6672\n",
      "Epoch 35/70\n",
      "\u001b[1m309/309\u001b[0m \u001b[32m━━━━━━━━━━━━━━━━━━━━\u001b[0m\u001b[37m\u001b[0m \u001b[1m4s\u001b[0m 9ms/step - accuracy: 0.5554 - loss: 0.6840 - val_accuracy: 0.6151 - val_loss: 0.6585\n",
      "Epoch 36/70\n",
      "\u001b[1m309/309\u001b[0m \u001b[32m━━━━━━━━━━━━━━━━━━━━\u001b[0m\u001b[37m\u001b[0m \u001b[1m3s\u001b[0m 9ms/step - accuracy: 0.5561 - loss: 0.6838 - val_accuracy: 0.3849 - val_loss: 0.7110\n",
      "Epoch 37/70\n",
      "\u001b[1m309/309\u001b[0m \u001b[32m━━━━━━━━━━━━━━━━━━━━\u001b[0m\u001b[37m\u001b[0m \u001b[1m3s\u001b[0m 9ms/step - accuracy: 0.5641 - loss: 0.6805 - val_accuracy: 0.3849 - val_loss: 0.7431\n",
      "Epoch 38/70\n",
      "\u001b[1m309/309\u001b[0m \u001b[32m━━━━━━━━━━━━━━━━━━━━\u001b[0m\u001b[37m\u001b[0m \u001b[1m4s\u001b[0m 12ms/step - accuracy: 0.5615 - loss: 0.6803 - val_accuracy: 0.3849 - val_loss: 0.7182\n",
      "Epoch 39/70\n",
      "\u001b[1m309/309\u001b[0m \u001b[32m━━━━━━━━━━━━━━━━━━━━\u001b[0m\u001b[37m\u001b[0m \u001b[1m4s\u001b[0m 9ms/step - accuracy: 0.5717 - loss: 0.6771 - val_accuracy: 0.4718 - val_loss: 0.6790\n",
      "Epoch 40/70\n",
      "\u001b[1m309/309\u001b[0m \u001b[32m━━━━━━━━━━━━━━━━━━━━\u001b[0m\u001b[37m\u001b[0m \u001b[1m3s\u001b[0m 9ms/step - accuracy: 0.5760 - loss: 0.6748 - val_accuracy: 0.8055 - val_loss: 0.6619\n",
      "Epoch 41/70\n",
      "\u001b[1m309/309\u001b[0m \u001b[32m━━━━━━━━━━━━━━━━━━━━\u001b[0m\u001b[37m\u001b[0m \u001b[1m6s\u001b[0m 11ms/step - accuracy: 0.5835 - loss: 0.6724 - val_accuracy: 0.3849 - val_loss: 0.7029\n",
      "Epoch 42/70\n",
      "\u001b[1m309/309\u001b[0m \u001b[32m━━━━━━━━━━━━━━━━━━━━\u001b[0m\u001b[37m\u001b[0m \u001b[1m4s\u001b[0m 13ms/step - accuracy: 0.5871 - loss: 0.6699 - val_accuracy: 0.5653 - val_loss: 0.6702\n",
      "Epoch 43/70\n",
      "\u001b[1m309/309\u001b[0m \u001b[32m━━━━━━━━━━━━━━━━━━━━\u001b[0m\u001b[37m\u001b[0m \u001b[1m3s\u001b[0m 11ms/step - accuracy: 0.5985 - loss: 0.6641 - val_accuracy: 0.4395 - val_loss: 0.6714\n",
      "Epoch 44/70\n",
      "\u001b[1m309/309\u001b[0m \u001b[32m━━━━━━━━━━━━━━━━━━━━\u001b[0m\u001b[37m\u001b[0m \u001b[1m7s\u001b[0m 17ms/step - accuracy: 0.6044 - loss: 0.6600 - val_accuracy: 0.9422 - val_loss: 0.6448\n",
      "Epoch 45/70\n",
      "\u001b[1m309/309\u001b[0m \u001b[32m━━━━━━━━━━━━━━━━━━━━\u001b[0m\u001b[37m\u001b[0m \u001b[1m8s\u001b[0m 10ms/step - accuracy: 0.6154 - loss: 0.6539 - val_accuracy: 0.3849 - val_loss: 0.6826\n",
      "Epoch 46/70\n",
      "\u001b[1m309/309\u001b[0m \u001b[32m━━━━━━━━━━━━━━━━━━━━\u001b[0m\u001b[37m\u001b[0m \u001b[1m3s\u001b[0m 9ms/step - accuracy: 0.6270 - loss: 0.6449 - val_accuracy: 0.3849 - val_loss: 0.8041\n",
      "Epoch 47/70\n",
      "\u001b[1m309/309\u001b[0m \u001b[32m━━━━━━━━━━━━━━━━━━━━\u001b[0m\u001b[37m\u001b[0m \u001b[1m4s\u001b[0m 13ms/step - accuracy: 0.6398 - loss: 0.6368 - val_accuracy: 0.4395 - val_loss: 0.6584\n",
      "Epoch 48/70\n",
      "\u001b[1m309/309\u001b[0m \u001b[32m━━━━━━━━━━━━━━━━━━━━\u001b[0m\u001b[37m\u001b[0m \u001b[1m4s\u001b[0m 9ms/step - accuracy: 0.6563 - loss: 0.6257 - val_accuracy: 0.7042 - val_loss: 0.6281\n",
      "Epoch 49/70\n",
      "\u001b[1m309/309\u001b[0m \u001b[32m━━━━━━━━━━━━━━━━━━━━\u001b[0m\u001b[37m\u001b[0m \u001b[1m5s\u001b[0m 9ms/step - accuracy: 0.6646 - loss: 0.6148 - val_accuracy: 0.9422 - val_loss: 0.5843\n",
      "Epoch 50/70\n",
      "\u001b[1m309/309\u001b[0m \u001b[32m━━━━━━━━━━━━━━━━━━━━\u001b[0m\u001b[37m\u001b[0m \u001b[1m6s\u001b[0m 13ms/step - accuracy: 0.6837 - loss: 0.5974 - val_accuracy: 0.7565 - val_loss: 0.5875\n",
      "Epoch 51/70\n",
      "\u001b[1m309/309\u001b[0m \u001b[32m━━━━━━━━━━━━━━━━━━━━\u001b[0m\u001b[37m\u001b[0m \u001b[1m3s\u001b[0m 9ms/step - accuracy: 0.6989 - loss: 0.5810 - val_accuracy: 0.7042 - val_loss: 0.5892\n",
      "Epoch 52/70\n",
      "\u001b[1m309/309\u001b[0m \u001b[32m━━━━━━━━━━━━━━━━━━━━\u001b[0m\u001b[37m\u001b[0m \u001b[1m3s\u001b[0m 9ms/step - accuracy: 0.7186 - loss: 0.5578 - val_accuracy: 0.6951 - val_loss: 0.5910\n",
      "Epoch 53/70\n",
      "\u001b[1m309/309\u001b[0m \u001b[32m━━━━━━━━━━━━━━━━━━━━\u001b[0m\u001b[37m\u001b[0m \u001b[1m3s\u001b[0m 9ms/step - accuracy: 0.7337 - loss: 0.5393 - val_accuracy: 0.7042 - val_loss: 0.5633\n",
      "Epoch 54/70\n",
      "\u001b[1m309/309\u001b[0m \u001b[32m━━━━━━━━━━━━━━━━━━━━\u001b[0m\u001b[37m\u001b[0m \u001b[1m6s\u001b[0m 11ms/step - accuracy: 0.7541 - loss: 0.5155 - val_accuracy: 0.7856 - val_loss: 0.5012\n",
      "Epoch 55/70\n",
      "\u001b[1m309/309\u001b[0m \u001b[32m━━━━━━━━━━━━━━━━━━━━\u001b[0m\u001b[37m\u001b[0m \u001b[1m3s\u001b[0m 9ms/step - accuracy: 0.7808 - loss: 0.4790 - val_accuracy: 0.7042 - val_loss: 0.5403\n",
      "Epoch 56/70\n",
      "\u001b[1m309/309\u001b[0m \u001b[32m━━━━━━━━━━━━━━━━━━━━\u001b[0m\u001b[37m\u001b[0m \u001b[1m5s\u001b[0m 9ms/step - accuracy: 0.7962 - loss: 0.4540 - val_accuracy: 0.8628 - val_loss: 0.4432\n",
      "Epoch 57/70\n",
      "\u001b[1m309/309\u001b[0m \u001b[32m━━━━━━━━━━━━━━━━━━━━\u001b[0m\u001b[37m\u001b[0m \u001b[1m4s\u001b[0m 14ms/step - accuracy: 0.8135 - loss: 0.4285 - val_accuracy: 0.7042 - val_loss: 0.5014\n",
      "Epoch 58/70\n",
      "\u001b[1m309/309\u001b[0m \u001b[32m━━━━━━━━━━━━━━━━━━━━\u001b[0m\u001b[37m\u001b[0m \u001b[1m3s\u001b[0m 9ms/step - accuracy: 0.8239 - loss: 0.4067 - val_accuracy: 0.8275 - val_loss: 0.4108\n",
      "Epoch 59/70\n",
      "\u001b[1m309/309\u001b[0m \u001b[32m━━━━━━━━━━━━━━━━━━━━\u001b[0m\u001b[37m\u001b[0m \u001b[1m3s\u001b[0m 9ms/step - accuracy: 0.8372 - loss: 0.3828 - val_accuracy: 0.7239 - val_loss: 0.4445\n",
      "Epoch 60/70\n",
      "\u001b[1m309/309\u001b[0m \u001b[32m━━━━━━━━━━━━━━━━━━━━\u001b[0m\u001b[37m\u001b[0m \u001b[1m6s\u001b[0m 13ms/step - accuracy: 0.8506 - loss: 0.3604 - val_accuracy: 0.8636 - val_loss: 0.3706\n",
      "Epoch 61/70\n",
      "\u001b[1m309/309\u001b[0m \u001b[32m━━━━━━━━━━━━━━━━━━━━\u001b[0m\u001b[37m\u001b[0m \u001b[1m4s\u001b[0m 9ms/step - accuracy: 0.8564 - loss: 0.3391 - val_accuracy: 0.9404 - val_loss: 0.3247\n",
      "Epoch 62/70\n",
      "\u001b[1m309/309\u001b[0m \u001b[32m━━━━━━━━━━━━━━━━━━━━\u001b[0m\u001b[37m\u001b[0m \u001b[1m5s\u001b[0m 9ms/step - accuracy: 0.8719 - loss: 0.3127 - val_accuracy: 0.8257 - val_loss: 0.3634\n",
      "Epoch 63/70\n",
      "\u001b[1m309/309\u001b[0m \u001b[32m━━━━━━━━━━━━━━━━━━━━\u001b[0m\u001b[37m\u001b[0m \u001b[1m3s\u001b[0m 10ms/step - accuracy: 0.8769 - loss: 0.3049 - val_accuracy: 0.8462 - val_loss: 0.3483\n",
      "Epoch 64/70\n",
      "\u001b[1m309/309\u001b[0m \u001b[32m━━━━━━━━━━━━━━━━━━━━\u001b[0m\u001b[37m\u001b[0m \u001b[1m5s\u001b[0m 9ms/step - accuracy: 0.8826 - loss: 0.2961 - val_accuracy: 0.9313 - val_loss: 0.2983\n",
      "Epoch 65/70\n",
      "\u001b[1m309/309\u001b[0m \u001b[32m━━━━━━━━━━━━━━━━━━━━\u001b[0m\u001b[37m\u001b[0m \u001b[1m5s\u001b[0m 9ms/step - accuracy: 0.8915 - loss: 0.2724 - val_accuracy: 0.9323 - val_loss: 0.2846\n",
      "Epoch 66/70\n",
      "\u001b[1m309/309\u001b[0m \u001b[32m━━━━━━━━━━━━━━━━━━━━\u001b[0m\u001b[37m\u001b[0m \u001b[1m6s\u001b[0m 13ms/step - accuracy: 0.8991 - loss: 0.2584 - val_accuracy: 0.9010 - val_loss: 0.3020\n",
      "Epoch 67/70\n",
      "\u001b[1m309/309\u001b[0m \u001b[32m━━━━━━━━━━━━━━━━━━━━\u001b[0m\u001b[37m\u001b[0m \u001b[1m3s\u001b[0m 9ms/step - accuracy: 0.9036 - loss: 0.2448 - val_accuracy: 0.8929 - val_loss: 0.2989\n",
      "Epoch 68/70\n",
      "\u001b[1m309/309\u001b[0m \u001b[32m━━━━━━━━━━━━━━━━━━━━\u001b[0m\u001b[37m\u001b[0m \u001b[1m3s\u001b[0m 9ms/step - accuracy: 0.9103 - loss: 0.2351 - val_accuracy: 0.9149 - val_loss: 0.2823\n",
      "Epoch 69/70\n",
      "\u001b[1m309/309\u001b[0m \u001b[32m━━━━━━━━━━━━━━━━━━━━\u001b[0m\u001b[37m\u001b[0m \u001b[1m3s\u001b[0m 10ms/step - accuracy: 0.9147 - loss: 0.2210 - val_accuracy: 0.9323 - val_loss: 0.2515\n",
      "Epoch 70/70\n",
      "\u001b[1m309/309\u001b[0m \u001b[32m━━━━━━━━━━━━━━━━━━━━\u001b[0m\u001b[37m\u001b[0m \u001b[1m5s\u001b[0m 15ms/step - accuracy: 0.9182 - loss: 0.2162 - val_accuracy: 0.9422 - val_loss: 0.2274\n",
      "\u001b[1m124/124\u001b[0m \u001b[32m━━━━━━━━━━━━━━━━━━━━\u001b[0m\u001b[37m\u001b[0m \u001b[1m0s\u001b[0m 3ms/step - accuracy: 0.9319 - loss: 0.2418\n",
      "\u001b[1m124/124\u001b[0m \u001b[32m━━━━━━━━━━━━━━━━━━━━\u001b[0m\u001b[37m\u001b[0m \u001b[1m1s\u001b[0m 4ms/step\n",
      "[[0.01351685]\n",
      " [0.6092109 ]\n",
      " [0.06735221]\n",
      " ...\n",
      " [0.57318574]\n",
      " [0.03194597]\n",
      " [0.01338821]]\n",
      "[[0]\n",
      " [1]\n",
      " [0]\n",
      " ...\n",
      " [1]\n",
      " [0]\n",
      " [0]]\n",
      "0       0\n",
      "1       1\n",
      "2       0\n",
      "3       0\n",
      "4       1\n",
      "       ..\n",
      "3954    0\n",
      "3955    0\n",
      "3956    1\n",
      "3957    0\n",
      "3958    0\n",
      "Name: label, Length: 3959, dtype: int64\n",
      "Test Loss: 0.2447364181280136, Test Accuracy: 0.9330639243125916\n",
      "\n"
     ]
    },
    {
     "data": {
      "image/png": "[encoded data removed]",
      "text/plain": [
       "<Figure size 640x480 with 1 Axes>"
      ]
     },
     "metadata": {},
     "output_type": "display_data"
    },
    {
     "name": "stdout",
     "output_type": "stream",
     "text": [
      "\n",
      "\n"
     ]
    },
    {
     "data": {
      "image/png": "[encoded data removed]",
      "text/plain": [
       "<Figure size 640x480 with 1 Axes>"
      ]
     },
     "metadata": {},
     "output_type": "display_data"
    },
    {
     "name": "stdout",
     "output_type": "stream",
     "text": [
      "\n",
      "Classification Report\n",
      "              precision    recall  f1-score   support\n",
      "\n",
      "           0       0.85      1.00      0.92      1527\n",
      "           1       1.00      0.89      0.94      2432\n",
      "\n",
      "    accuracy                           0.93      3959\n",
      "   macro avg       0.93      0.95      0.93      3959\n",
      "weighted avg       0.94      0.93      0.93      3959\n",
      "\n",
      "\n",
      "Confusion Matrix\n",
      "[[1527    0]\n",
      " [ 265 2167]]\n"
     ]
    },
    {
     "data": {
      "image/png": "[encoded data removed]",
      "text/plain": [
       "<Figure size 640x480 with 2 Axes>"
      ]
     },
     "metadata": {},
     "output_type": "display_data"
    },
    {
     "name": "stdout",
     "output_type": "stream",
     "text": [
      "Time taken: 312.1350 seconds\n"
     ]
    }
   ],
   "source": [
    "\n",
    "start_time_2 = time.perf_counter()\n",
    "with tensorflow.device('/device:GPU:0'):\n",
    "  # CNN model detection\n",
    "  # https://keras.io/api/layers/activations/#softmax-function\n",
    "  detection_model = tensorflow.keras.Sequential([\n",
    "      tensorflow.keras.layers.Input(shape=(X_rebalance.shape[1],X_rebalance.shape[2])),\n",
    "      tensorflow.keras.layers.Conv1D(filters=75, kernel_size=3, activation='sigmoid'),\n",
    "      tensorflow.keras.layers.MaxPooling1D(pool_size=2),\n",
    "      tensorflow.keras.layers.Dropout(0.3),\n",
    "      tensorflow.keras.layers.BatchNormalization(),\n",
    "      tensorflow.keras.layers.LSTM(64),\n",
    "      tensorflow.keras.layers.Flatten(),\n",
    "      # 1 layer\n",
    "      tensorflow.keras.layers.Dense(640, activation='softplus'),\n",
    "      tensorflow.keras.layers.Dropout(0.5),\n",
    "      # either attack or normal\n",
    "      tensorflow.keras.layers.Dense(1, activation='sigmoid')\n",
    "  ])\n",
    "\n",
    "  detection_model.summary()\n",
    "  # https://keras.io/api/losses/probabilistic_losses/#probabilistic-losses\n",
    "  sgd = tensorflow.keras.optimizers.SGD(learning_rate=0.005)\n",
    "  detection_model.compile(optimizer=sgd,\n",
    "                loss=tensorflow.keras.losses.BinaryCrossentropy(from_logits=False),\n",
    "                metrics=['accuracy'])\n",
    "\n",
    "  history = detection_model.fit(X_rebalance, y_rebalance, batch_size=128, epochs=70, validation_data=(X_validation_encode, y_validation_encode))\n",
    "  test_loss, test_acc = detection_model.evaluate(X_test_encode, y_test_encode)\n",
    "\n",
    "  # Make predictions\n",
    "  prediction = detection_model.predict(X_test_encode)\n",
    "  print(prediction)\n",
    "  attack_prediction = numpy.where(prediction > 0.5, 1, 0)\n",
    "  print(attack_prediction)\n",
    "  print(y_test)\n",
    "\n",
    "  # Evaluate the model\n",
    "  print(f\"Test Loss: {test_loss}, Test Accuracy: {test_acc}\\n\")\n",
    "  # https://www.tensorflow.org/tutorials/keras/text_classification for training and validation loss and accuracy\n",
    "  history_dict = history.history\n",
    "  # print(history_dict.keys())\n",
    "  acc = history_dict['accuracy']\n",
    "  val_acc = history_dict['val_accuracy']\n",
    "  loss = history_dict['loss']\n",
    "  val_loss = history_dict['val_loss']\n",
    "\n",
    "  epochs = range(1, len(acc) + 1)\n",
    "\n",
    "  # \"bo\" is for \"blue dot\"\n",
    "  plt.plot(epochs, loss, 'bo', label='Training loss')\n",
    "  # b is for \"solid blue line\"\n",
    "  plt.plot(epochs, val_loss, 'b', label='Validation loss')\n",
    "  plt.title('Training and validation loss')\n",
    "  plt.xlabel('Epochs')\n",
    "  plt.ylabel('Loss')\n",
    "  plt.legend()\n",
    "  plt.show()\n",
    "  print(\"\\n\")\n",
    "\n",
    "  plt.plot(epochs, acc, 'bo', label='Training acc')\n",
    "  plt.plot(epochs, val_acc, 'b', label='Validation acc')\n",
    "  plt.title('Training and validation accuracy')\n",
    "  plt.xlabel('Epochs')\n",
    "  plt.ylabel('Accuracy')\n",
    "  plt.legend(loc='lower right')\n",
    "  plt.show()\n",
    "\n",
    "  print(\"\\nClassification Report\")\n",
    "  print(classification_report(y_test, attack_prediction))\n",
    "\n",
    "  print(\"\\nConfusion Matrix\")\n",
    "  print(confusion_matrix(y_test, attack_prediction))\n",
    "  ConfusionMatrixDisplay.from_predictions(y_test, attack_prediction)\n",
    "  plt.show()\n",
    "\n",
    "end_time2 = time.perf_counter()\n",
    "print(f\"Time taken: {end_time2 - start_time_2:0.4f} seconds\")"
   ]
  }
 ],
 "metadata": {
  "colab": {
   "provenance": [
    {
     "file_id": "173h_gQ5A2isSREs2YEYCTDPjM-OWRe-Z",
     "timestamp": 1744664296294
    }
   ]
  },
  "kernelspec": {
   "display_name": "Python 3",
   "name": "python3"
  },
  "language_info": {
   "name": "python"
  }
 },
 "nbformat": 4,
 "nbformat_minor": 0
}
