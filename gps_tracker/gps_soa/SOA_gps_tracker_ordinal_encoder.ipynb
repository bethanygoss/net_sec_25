{
 "cells": [
  {
   "cell_type": "markdown",
   "metadata": {
    "id": "HxSTJX7_9xHh"
   },
   "source": [
    "# Finding optimal hyper parameters for a CNN model\n",
    "\n",
    "The point of this notebook is to obtain an optimal set of parameters for our CNN model to process time based series data. Specifically, we are processing IoT data from TON a well-kept dataset from The UNSW Group in Canberra, Australia.\n",
    "\n",
    "The specific dataset being discussed here is the IoT GPS Tracker dataset.\n",
    "\n"
   ]
  },
  {
   "cell_type": "code",
   "execution_count": null,
   "metadata": {
    "colab": {
     "base_uri": "https://localhost:8080/"
    },
    "executionInfo": {
     "elapsed": 25059,
     "status": "ok",
     "timestamp": 1744825621394,
     "user": {
      "displayName": "Bethany Goss",
      "userId": "10125623664246589214"
     },
     "user_tz": 240
    },
    "id": "eaatdv7dcSE8",
    "outputId": "8b30b338-ed55-4f7d-c788-db888ee613b9"
   },
   "outputs": [
    {
     "name": "stdout",
     "output_type": "stream",
     "text": [
      "Collecting mealpy==3.0.1\n",
      "  Downloading mealpy-3.0.1-py3-none-any.whl.metadata (104 kB)\n",
      "\u001b[2K     \u001b[90m━━━━━━━━━━━━━━━━━━━━━━━━━━━━━━━━━━━━━\u001b[0m \u001b[32m104.9/104.9 kB\u001b[0m \u001b[31m641.8 kB/s\u001b[0m eta \u001b[36m0:00:00\u001b[0m\n",
      "\u001b[?25hRequirement already satisfied: numpy>=1.17.5 in /usr/local/lib/python3.11/dist-packages (from mealpy==3.0.1) (2.0.2)\n",
      "Requirement already satisfied: matplotlib>=3.3.0 in /usr/local/lib/python3.11/dist-packages (from mealpy==3.0.1) (3.10.0)\n",
      "Requirement already satisfied: scipy>=1.7.1 in /usr/local/lib/python3.11/dist-packages (from mealpy==3.0.1) (1.14.1)\n",
      "Requirement already satisfied: pandas>=1.2.0 in /usr/local/lib/python3.11/dist-packages (from mealpy==3.0.1) (2.2.2)\n",
      "Collecting opfunu>=1.0.0 (from mealpy==3.0.1)\n",
      "  Downloading opfunu-1.0.4-py3-none-any.whl.metadata (10 kB)\n",
      "Requirement already satisfied: contourpy>=1.0.1 in /usr/local/lib/python3.11/dist-packages (from matplotlib>=3.3.0->mealpy==3.0.1) (1.3.1)\n",
      "Requirement already satisfied: cycler>=0.10 in /usr/local/lib/python3.11/dist-packages (from matplotlib>=3.3.0->mealpy==3.0.1) (0.12.1)\n",
      "Requirement already satisfied: fonttools>=4.22.0 in /usr/local/lib/python3.11/dist-packages (from matplotlib>=3.3.0->mealpy==3.0.1) (4.57.0)\n",
      "Requirement already satisfied: kiwisolver>=1.3.1 in /usr/local/lib/python3.11/dist-packages (from matplotlib>=3.3.0->mealpy==3.0.1) (1.4.8)\n",
      "Requirement already satisfied: packaging>=20.0 in /usr/local/lib/python3.11/dist-packages (from matplotlib>=3.3.0->mealpy==3.0.1) (24.2)\n",
      "Requirement already satisfied: pillow>=8 in /usr/local/lib/python3.11/dist-packages (from matplotlib>=3.3.0->mealpy==3.0.1) (11.1.0)\n",
      "Requirement already satisfied: pyparsing>=2.3.1 in /usr/local/lib/python3.11/dist-packages (from matplotlib>=3.3.0->mealpy==3.0.1) (3.2.3)\n",
      "Requirement already satisfied: python-dateutil>=2.7 in /usr/local/lib/python3.11/dist-packages (from matplotlib>=3.3.0->mealpy==3.0.1) (2.8.2)\n",
      "Requirement already satisfied: requests>=2.27.0 in /usr/local/lib/python3.11/dist-packages (from opfunu>=1.0.0->mealpy==3.0.1) (2.32.3)\n",
      "Requirement already satisfied: pytz>=2020.1 in /usr/local/lib/python3.11/dist-packages (from pandas>=1.2.0->mealpy==3.0.1) (2025.2)\n",
      "Requirement already satisfied: tzdata>=2022.7 in /usr/local/lib/python3.11/dist-packages (from pandas>=1.2.0->mealpy==3.0.1) (2025.2)\n",
      "Requirement already satisfied: six>=1.5 in /usr/local/lib/python3.11/dist-packages (from python-dateutil>=2.7->matplotlib>=3.3.0->mealpy==3.0.1) (1.17.0)\n",
      "Requirement already satisfied: charset-normalizer<4,>=2 in /usr/local/lib/python3.11/dist-packages (from requests>=2.27.0->opfunu>=1.0.0->mealpy==3.0.1) (3.4.1)\n",
      "Requirement already satisfied: idna<4,>=2.5 in /usr/local/lib/python3.11/dist-packages (from requests>=2.27.0->opfunu>=1.0.0->mealpy==3.0.1) (3.10)\n",
      "Requirement already satisfied: urllib3<3,>=1.21.1 in /usr/local/lib/python3.11/dist-packages (from requests>=2.27.0->opfunu>=1.0.0->mealpy==3.0.1) (2.3.0)\n",
      "Requirement already satisfied: certifi>=2017.4.17 in /usr/local/lib/python3.11/dist-packages (from requests>=2.27.0->opfunu>=1.0.0->mealpy==3.0.1) (2025.1.31)\n",
      "Downloading mealpy-3.0.1-py3-none-any.whl (386 kB)\n",
      "\u001b[2K   \u001b[90m━━━━━━━━━━━━━━━━━━━━━━━━━━━━━━━━━━━━━━━━\u001b[0m \u001b[32m386.3/386.3 kB\u001b[0m \u001b[31m2.7 MB/s\u001b[0m eta \u001b[36m0:00:00\u001b[0m\n",
      "\u001b[?25hDownloading opfunu-1.0.4-py3-none-any.whl (13.0 MB)\n",
      "\u001b[2K   \u001b[90m━━━━━━━━━━━━━━━━━━━━━━━━━━━━━━━━━━━━━━━━\u001b[0m \u001b[32m13.0/13.0 MB\u001b[0m \u001b[31m13.1 MB/s\u001b[0m eta \u001b[36m0:00:00\u001b[0m\n",
      "\u001b[?25hInstalling collected packages: opfunu, mealpy\n",
      "Successfully installed mealpy-3.0.1 opfunu-1.0.4\n"
     ]
    }
   ],
   "source": [
    "%pip install mealpy==3.0.1\n",
    "%pip install -U scikit-learn\n",
    "%pip install imbalanced-learn\n",
    "%pip install matplotlib\n",
    "%pip install tensorflow"
   ]
  },
  {
   "cell_type": "code",
   "execution_count": null,
   "metadata": {
    "id": "gZcj3IP1clhJ"
   },
   "outputs": [],
   "source": [
    "import pandas\n",
    "from sklearn.model_selection import train_test_split\n",
    "from sklearn.preprocessing import OrdinalEncoder, LabelEncoder, StandardScaler\n",
    "from imblearn.combine import SMOTETomek\n",
    "import numpy\n",
    "from sklearn.metrics import classification_report, confusion_matrix,ConfusionMatrixDisplay\n",
    "import tensorflow\n",
    "from tensorflow import keras\n",
    "import matplotlib.pyplot as plt\n",
    "from mealpy import FloatVar, SOA\n",
    "import time"
   ]
  },
  {
   "cell_type": "markdown",
   "metadata": {
    "id": "OEzrM0XR99QG"
   },
   "source": [
    "# Preparing the Datasets for the CNN Model\n",
    "\n",
    "We split off the information that indicates whether or not an attack has occured (*label*) and the types of attacks (*type*).\n",
    "Now there are three dataframes:\n",
    "  X - all features\n",
    "  y - attack or not\n",
    "  y_type - type of attack\n",
    "\n",
    "We split again into test and train data sets and include some randomness.\n",
    "**Reset_index** drops the indexes from these new dataframes.\n",
    "Next, we encode the text data, add another randomness, and scale all dataframes. The X dataframe is reshaped."
   ]
  },
  {
   "cell_type": "code",
   "execution_count": null,
   "metadata": {
    "id": "MfA0PtJ6cy23"
   },
   "outputs": [],
   "source": [
    "#Uncomment for local use\n",
    "#raw_data = pandas.read_csv('../../Train_Test_IoT_dataset/Train_Test_IoT_GPS_Tracker.csv')\n",
    "#Uncomment for Google Colab\n",
    "raw_data = pandas.read_csv('Train_Test_IoT_GPS_Tracker.csv')\n",
    "X = raw_data.drop(columns=['label','type'])\n",
    "y = raw_data['label']\n",
    "y_type = raw_data['type']"
   ]
  },
  {
   "cell_type": "code",
   "execution_count": null,
   "metadata": {
    "id": "OfiR5O0dc1t4"
   },
   "outputs": [],
   "source": [
    "# Binary\n",
    "X_train, X_testsplit, y_train, y_testsplit = train_test_split(X, y, test_size=0.2, random_state=777)\n",
    "# Binary validation\n",
    "X_test, X_validation, y_test, y_validation = train_test_split(X_testsplit, y_testsplit, test_size=0.5, random_state=777)\n",
    "\n",
    "#drop index\n",
    "X_train = X_train.reset_index(drop=True)\n",
    "X_test = X_test.reset_index(drop=True)\n",
    "y_train = y_train.reset_index(drop=True)\n",
    "y_test = y_test.reset_index(drop=True)\n",
    "X_validation = X_validation.reset_index(drop=True)\n",
    "y_validation = y_validation.reset_index(drop=True)"
   ]
  },
  {
   "cell_type": "code",
   "execution_count": null,
   "metadata": {
    "id": "w_WVHcgFc4u6"
   },
   "outputs": [],
   "source": [
    "encoder = OrdinalEncoder()\n",
    "label_encoder = LabelEncoder()\n",
    "X_train_encode = encoder.fit_transform(X_train)\n",
    "X_test_encode = encoder.fit_transform(X_test)\n",
    "y_train_encode = label_encoder.fit_transform(y_train)\n",
    "y_test_encode = label_encoder.fit_transform(y_test)\n",
    "X_validation_encode = encoder.fit_transform(X_validation)\n",
    "y_validation_encode = label_encoder.fit_transform(y_validation)"
   ]
  },
  {
   "cell_type": "code",
   "execution_count": null,
   "metadata": {
    "id": "-HCldEjoc7m_"
   },
   "outputs": [],
   "source": [
    "smotetomek = SMOTETomek(random_state=777)\n",
    "X_rebalance, y_rebalance = smotetomek.fit_resample(X_train_encode, y_train_encode)"
   ]
  },
  {
   "cell_type": "code",
   "execution_count": null,
   "metadata": {
    "id": "iO5sqI4Vc988"
   },
   "outputs": [],
   "source": [
    "scaler = StandardScaler()\n",
    "X_rebalance = scaler.fit_transform(X_rebalance)\n",
    "X_test_encode = scaler.transform(X_test_encode)\n",
    "\n",
    "X_validation_encode = scaler.transform(X_validation_encode)"
   ]
  },
  {
   "cell_type": "code",
   "execution_count": null,
   "metadata": {
    "id": "bUOU325SdAfq"
   },
   "outputs": [],
   "source": [
    "X_rebalance = X_rebalance.reshape(X_rebalance.shape[0], X_rebalance.shape[1], 1)\n",
    "X_test_encode = X_test_encode.reshape(X_test_encode.shape[0], X_test_encode.shape[1], 1)\n",
    "\n",
    "X_validation_encode = X_validation_encode.reshape(X_validation_encode.shape[0], X_validation_encode.shape[1], 1)"
   ]
  },
  {
   "cell_type": "code",
   "execution_count": null,
   "metadata": {
    "colab": {
     "base_uri": "https://localhost:8080/",
     "height": 1000
    },
    "executionInfo": {
     "elapsed": 387495,
     "status": "ok",
     "timestamp": 1744826050744,
     "user": {
      "displayName": "Bethany Goss",
      "userId": "10125623664246589214"
     },
     "user_tz": 240
    },
    "id": "e-uQM6audFNq",
    "outputId": "e1e28b88-3510-40c8-cebe-671d44f9b58c"
   },
   "outputs": [
    {
     "data": {
      "text/html": [
       "<pre style=\"white-space:pre;overflow-x:auto;line-height:normal;font-family:Menlo,'DejaVu Sans Mono',consolas,'Courier New',monospace\"><span style=\"font-weight: bold\">Model: \"sequential\"</span>\n",
       "</pre>\n"
      ],
      "text/plain": [
       "\u001b[1mModel: \"sequential\"\u001b[0m\n"
      ]
     },
     "metadata": {},
     "output_type": "display_data"
    },
    {
     "data": {
      "text/html": [
       "<pre style=\"white-space:pre;overflow-x:auto;line-height:normal;font-family:Menlo,'DejaVu Sans Mono',consolas,'Courier New',monospace\">┏━━━━━━━━━━━━━━━━━━━━━━━━━━━━━━━━━┳━━━━━━━━━━━━━━━━━━━━━━━━┳━━━━━━━━━━━━━━━┓\n",
       "┃<span style=\"font-weight: bold\"> Layer (type)                    </span>┃<span style=\"font-weight: bold\"> Output Shape           </span>┃<span style=\"font-weight: bold\">       Param # </span>┃\n",
       "┡━━━━━━━━━━━━━━━━━━━━━━━━━━━━━━━━━╇━━━━━━━━━━━━━━━━━━━━━━━━╇━━━━━━━━━━━━━━━┩\n",
       "│ conv1d (<span style=\"color: #0087ff; text-decoration-color: #0087ff\">Conv1D</span>)                 │ (<span style=\"color: #00d7ff; text-decoration-color: #00d7ff\">None</span>, <span style=\"color: #00af00; text-decoration-color: #00af00\">2</span>, <span style=\"color: #00af00; text-decoration-color: #00af00\">50</span>)          │           <span style=\"color: #00af00; text-decoration-color: #00af00\">200</span> │\n",
       "├─────────────────────────────────┼────────────────────────┼───────────────┤\n",
       "│ max_pooling1d (<span style=\"color: #0087ff; text-decoration-color: #0087ff\">MaxPooling1D</span>)    │ (<span style=\"color: #00d7ff; text-decoration-color: #00d7ff\">None</span>, <span style=\"color: #00af00; text-decoration-color: #00af00\">1</span>, <span style=\"color: #00af00; text-decoration-color: #00af00\">50</span>)          │             <span style=\"color: #00af00; text-decoration-color: #00af00\">0</span> │\n",
       "├─────────────────────────────────┼────────────────────────┼───────────────┤\n",
       "│ dropout (<span style=\"color: #0087ff; text-decoration-color: #0087ff\">Dropout</span>)               │ (<span style=\"color: #00d7ff; text-decoration-color: #00d7ff\">None</span>, <span style=\"color: #00af00; text-decoration-color: #00af00\">1</span>, <span style=\"color: #00af00; text-decoration-color: #00af00\">50</span>)          │             <span style=\"color: #00af00; text-decoration-color: #00af00\">0</span> │\n",
       "├─────────────────────────────────┼────────────────────────┼───────────────┤\n",
       "│ batch_normalization             │ (<span style=\"color: #00d7ff; text-decoration-color: #00d7ff\">None</span>, <span style=\"color: #00af00; text-decoration-color: #00af00\">1</span>, <span style=\"color: #00af00; text-decoration-color: #00af00\">50</span>)          │           <span style=\"color: #00af00; text-decoration-color: #00af00\">200</span> │\n",
       "│ (<span style=\"color: #0087ff; text-decoration-color: #0087ff\">BatchNormalization</span>)            │                        │               │\n",
       "├─────────────────────────────────┼────────────────────────┼───────────────┤\n",
       "│ lstm (<span style=\"color: #0087ff; text-decoration-color: #0087ff\">LSTM</span>)                     │ (<span style=\"color: #00d7ff; text-decoration-color: #00d7ff\">None</span>, <span style=\"color: #00af00; text-decoration-color: #00af00\">64</span>)             │        <span style=\"color: #00af00; text-decoration-color: #00af00\">29,440</span> │\n",
       "├─────────────────────────────────┼────────────────────────┼───────────────┤\n",
       "│ flatten (<span style=\"color: #0087ff; text-decoration-color: #0087ff\">Flatten</span>)               │ (<span style=\"color: #00d7ff; text-decoration-color: #00d7ff\">None</span>, <span style=\"color: #00af00; text-decoration-color: #00af00\">64</span>)             │             <span style=\"color: #00af00; text-decoration-color: #00af00\">0</span> │\n",
       "├─────────────────────────────────┼────────────────────────┼───────────────┤\n",
       "│ dense (<span style=\"color: #0087ff; text-decoration-color: #0087ff\">Dense</span>)                   │ (<span style=\"color: #00d7ff; text-decoration-color: #00d7ff\">None</span>, <span style=\"color: #00af00; text-decoration-color: #00af00\">512</span>)            │        <span style=\"color: #00af00; text-decoration-color: #00af00\">33,280</span> │\n",
       "├─────────────────────────────────┼────────────────────────┼───────────────┤\n",
       "│ dropout_1 (<span style=\"color: #0087ff; text-decoration-color: #0087ff\">Dropout</span>)             │ (<span style=\"color: #00d7ff; text-decoration-color: #00d7ff\">None</span>, <span style=\"color: #00af00; text-decoration-color: #00af00\">512</span>)            │             <span style=\"color: #00af00; text-decoration-color: #00af00\">0</span> │\n",
       "├─────────────────────────────────┼────────────────────────┼───────────────┤\n",
       "│ dense_1 (<span style=\"color: #0087ff; text-decoration-color: #0087ff\">Dense</span>)                 │ (<span style=\"color: #00d7ff; text-decoration-color: #00d7ff\">None</span>, <span style=\"color: #00af00; text-decoration-color: #00af00\">1</span>)              │           <span style=\"color: #00af00; text-decoration-color: #00af00\">513</span> │\n",
       "└─────────────────────────────────┴────────────────────────┴───────────────┘\n",
       "</pre>\n"
      ],
      "text/plain": [
       "┏━━━━━━━━━━━━━━━━━━━━━━━━━━━━━━━━━┳━━━━━━━━━━━━━━━━━━━━━━━━┳━━━━━━━━━━━━━━━┓\n",
       "┃\u001b[1m \u001b[0m\u001b[1mLayer (type)                   \u001b[0m\u001b[1m \u001b[0m┃\u001b[1m \u001b[0m\u001b[1mOutput Shape          \u001b[0m\u001b[1m \u001b[0m┃\u001b[1m \u001b[0m\u001b[1m      Param #\u001b[0m\u001b[1m \u001b[0m┃\n",
       "┡━━━━━━━━━━━━━━━━━━━━━━━━━━━━━━━━━╇━━━━━━━━━━━━━━━━━━━━━━━━╇━━━━━━━━━━━━━━━┩\n",
       "│ conv1d (\u001b[38;5;33mConv1D\u001b[0m)                 │ (\u001b[38;5;45mNone\u001b[0m, \u001b[38;5;34m2\u001b[0m, \u001b[38;5;34m50\u001b[0m)          │           \u001b[38;5;34m200\u001b[0m │\n",
       "├─────────────────────────────────┼────────────────────────┼───────────────┤\n",
       "│ max_pooling1d (\u001b[38;5;33mMaxPooling1D\u001b[0m)    │ (\u001b[38;5;45mNone\u001b[0m, \u001b[38;5;34m1\u001b[0m, \u001b[38;5;34m50\u001b[0m)          │             \u001b[38;5;34m0\u001b[0m │\n",
       "├─────────────────────────────────┼────────────────────────┼───────────────┤\n",
       "│ dropout (\u001b[38;5;33mDropout\u001b[0m)               │ (\u001b[38;5;45mNone\u001b[0m, \u001b[38;5;34m1\u001b[0m, \u001b[38;5;34m50\u001b[0m)          │             \u001b[38;5;34m0\u001b[0m │\n",
       "├─────────────────────────────────┼────────────────────────┼───────────────┤\n",
       "│ batch_normalization             │ (\u001b[38;5;45mNone\u001b[0m, \u001b[38;5;34m1\u001b[0m, \u001b[38;5;34m50\u001b[0m)          │           \u001b[38;5;34m200\u001b[0m │\n",
       "│ (\u001b[38;5;33mBatchNormalization\u001b[0m)            │                        │               │\n",
       "├─────────────────────────────────┼────────────────────────┼───────────────┤\n",
       "│ lstm (\u001b[38;5;33mLSTM\u001b[0m)                     │ (\u001b[38;5;45mNone\u001b[0m, \u001b[38;5;34m64\u001b[0m)             │        \u001b[38;5;34m29,440\u001b[0m │\n",
       "├─────────────────────────────────┼────────────────────────┼───────────────┤\n",
       "│ flatten (\u001b[38;5;33mFlatten\u001b[0m)               │ (\u001b[38;5;45mNone\u001b[0m, \u001b[38;5;34m64\u001b[0m)             │             \u001b[38;5;34m0\u001b[0m │\n",
       "├─────────────────────────────────┼────────────────────────┼───────────────┤\n",
       "│ dense (\u001b[38;5;33mDense\u001b[0m)                   │ (\u001b[38;5;45mNone\u001b[0m, \u001b[38;5;34m512\u001b[0m)            │        \u001b[38;5;34m33,280\u001b[0m │\n",
       "├─────────────────────────────────┼────────────────────────┼───────────────┤\n",
       "│ dropout_1 (\u001b[38;5;33mDropout\u001b[0m)             │ (\u001b[38;5;45mNone\u001b[0m, \u001b[38;5;34m512\u001b[0m)            │             \u001b[38;5;34m0\u001b[0m │\n",
       "├─────────────────────────────────┼────────────────────────┼───────────────┤\n",
       "│ dense_1 (\u001b[38;5;33mDense\u001b[0m)                 │ (\u001b[38;5;45mNone\u001b[0m, \u001b[38;5;34m1\u001b[0m)              │           \u001b[38;5;34m513\u001b[0m │\n",
       "└─────────────────────────────────┴────────────────────────┴───────────────┘\n"
      ]
     },
     "metadata": {},
     "output_type": "display_data"
    },
    {
     "data": {
      "text/html": [
       "<pre style=\"white-space:pre;overflow-x:auto;line-height:normal;font-family:Menlo,'DejaVu Sans Mono',consolas,'Courier New',monospace\"><span style=\"font-weight: bold\"> Total params: </span><span style=\"color: #00af00; text-decoration-color: #00af00\">63,633</span> (248.57 KB)\n",
       "</pre>\n"
      ],
      "text/plain": [
       "\u001b[1m Total params: \u001b[0m\u001b[38;5;34m63,633\u001b[0m (248.57 KB)\n"
      ]
     },
     "metadata": {},
     "output_type": "display_data"
    },
    {
     "data": {
      "text/html": [
       "<pre style=\"white-space:pre;overflow-x:auto;line-height:normal;font-family:Menlo,'DejaVu Sans Mono',consolas,'Courier New',monospace\"><span style=\"font-weight: bold\"> Trainable params: </span><span style=\"color: #00af00; text-decoration-color: #00af00\">63,533</span> (248.18 KB)\n",
       "</pre>\n"
      ],
      "text/plain": [
       "\u001b[1m Trainable params: \u001b[0m\u001b[38;5;34m63,533\u001b[0m (248.18 KB)\n"
      ]
     },
     "metadata": {},
     "output_type": "display_data"
    },
    {
     "data": {
      "text/html": [
       "<pre style=\"white-space:pre;overflow-x:auto;line-height:normal;font-family:Menlo,'DejaVu Sans Mono',consolas,'Courier New',monospace\"><span style=\"font-weight: bold\"> Non-trainable params: </span><span style=\"color: #00af00; text-decoration-color: #00af00\">100</span> (400.00 B)\n",
       "</pre>\n"
      ],
      "text/plain": [
       "\u001b[1m Non-trainable params: \u001b[0m\u001b[38;5;34m100\u001b[0m (400.00 B)\n"
      ]
     },
     "metadata": {},
     "output_type": "display_data"
    },
    {
     "name": "stdout",
     "output_type": "stream",
     "text": [
      "Epoch 1/70\n",
      "\u001b[1m600/600\u001b[0m \u001b[32m━━━━━━━━━━━━━━━━━━━━\u001b[0m\u001b[37m\u001b[0m \u001b[1m6s\u001b[0m 6ms/step - accuracy: 0.5212 - loss: 0.6922 - val_accuracy: 0.6096 - val_loss: 0.6911\n",
      "Epoch 2/70\n",
      "\u001b[1m600/600\u001b[0m \u001b[32m━━━━━━━━━━━━━━━━━━━━\u001b[0m\u001b[37m\u001b[0m \u001b[1m3s\u001b[0m 6ms/step - accuracy: 0.5232 - loss: 0.6916 - val_accuracy: 0.6096 - val_loss: 0.6909\n",
      "Epoch 3/70\n",
      "\u001b[1m600/600\u001b[0m \u001b[32m━━━━━━━━━━━━━━━━━━━━\u001b[0m\u001b[37m\u001b[0m \u001b[1m6s\u001b[0m 8ms/step - accuracy: 0.5381 - loss: 0.6906 - val_accuracy: 0.6096 - val_loss: 0.6903\n",
      "Epoch 4/70\n",
      "\u001b[1m600/600\u001b[0m \u001b[32m━━━━━━━━━━━━━━━━━━━━\u001b[0m\u001b[37m\u001b[0m \u001b[1m4s\u001b[0m 6ms/step - accuracy: 0.5427 - loss: 0.6902 - val_accuracy: 0.8239 - val_loss: 0.6902\n",
      "Epoch 5/70\n",
      "\u001b[1m600/600\u001b[0m \u001b[32m━━━━━━━━━━━━━━━━━━━━\u001b[0m\u001b[37m\u001b[0m \u001b[1m4s\u001b[0m 6ms/step - accuracy: 0.5529 - loss: 0.6891 - val_accuracy: 0.9045 - val_loss: 0.6896\n",
      "Epoch 6/70\n",
      "\u001b[1m600/600\u001b[0m \u001b[32m━━━━━━━━━━━━━━━━━━━━\u001b[0m\u001b[37m\u001b[0m \u001b[1m5s\u001b[0m 9ms/step - accuracy: 0.5606 - loss: 0.6884 - val_accuracy: 0.9045 - val_loss: 0.6895\n",
      "Epoch 7/70\n",
      "\u001b[1m600/600\u001b[0m \u001b[32m━━━━━━━━━━━━━━━━━━━━\u001b[0m\u001b[37m\u001b[0m \u001b[1m8s\u001b[0m 6ms/step - accuracy: 0.5662 - loss: 0.6873 - val_accuracy: 0.9045 - val_loss: 0.6892\n",
      "Epoch 8/70\n",
      "\u001b[1m600/600\u001b[0m \u001b[32m━━━━━━━━━━━━━━━━━━━━\u001b[0m\u001b[37m\u001b[0m \u001b[1m7s\u001b[0m 8ms/step - accuracy: 0.5661 - loss: 0.6871 - val_accuracy: 0.9045 - val_loss: 0.6890\n",
      "Epoch 9/70\n",
      "\u001b[1m600/600\u001b[0m \u001b[32m━━━━━━━━━━━━━━━━━━━━\u001b[0m\u001b[37m\u001b[0m \u001b[1m3s\u001b[0m 6ms/step - accuracy: 0.5759 - loss: 0.6865 - val_accuracy: 0.9045 - val_loss: 0.6886\n",
      "Epoch 10/70\n",
      "\u001b[1m600/600\u001b[0m \u001b[32m━━━━━━━━━━━━━━━━━━━━\u001b[0m\u001b[37m\u001b[0m \u001b[1m4s\u001b[0m 6ms/step - accuracy: 0.5852 - loss: 0.6849 - val_accuracy: 0.9043 - val_loss: 0.6883\n",
      "Epoch 11/70\n",
      "\u001b[1m600/600\u001b[0m \u001b[32m━━━━━━━━━━━━━━━━━━━━\u001b[0m\u001b[37m\u001b[0m \u001b[1m7s\u001b[0m 9ms/step - accuracy: 0.5860 - loss: 0.6840 - val_accuracy: 0.9007 - val_loss: 0.6879\n",
      "Epoch 12/70\n",
      "\u001b[1m600/600\u001b[0m \u001b[32m━━━━━━━━━━━━━━━━━━━━\u001b[0m\u001b[37m\u001b[0m \u001b[1m8s\u001b[0m 6ms/step - accuracy: 0.5953 - loss: 0.6835 - val_accuracy: 0.9020 - val_loss: 0.6873\n",
      "Epoch 13/70\n",
      "\u001b[1m600/600\u001b[0m \u001b[32m━━━━━━━━━━━━━━━━━━━━\u001b[0m\u001b[37m\u001b[0m \u001b[1m6s\u001b[0m 7ms/step - accuracy: 0.6017 - loss: 0.6818 - val_accuracy: 0.8953 - val_loss: 0.6870\n",
      "Epoch 14/70\n",
      "\u001b[1m600/600\u001b[0m \u001b[32m━━━━━━━━━━━━━━━━━━━━\u001b[0m\u001b[37m\u001b[0m \u001b[1m3s\u001b[0m 6ms/step - accuracy: 0.6093 - loss: 0.6811 - val_accuracy: 0.8316 - val_loss: 0.6866\n",
      "Epoch 15/70\n",
      "\u001b[1m600/600\u001b[0m \u001b[32m━━━━━━━━━━━━━━━━━━━━\u001b[0m\u001b[37m\u001b[0m \u001b[1m5s\u001b[0m 6ms/step - accuracy: 0.6138 - loss: 0.6795 - val_accuracy: 0.7888 - val_loss: 0.6862\n",
      "Epoch 16/70\n",
      "\u001b[1m600/600\u001b[0m \u001b[32m━━━━━━━━━━━━━━━━━━━━\u001b[0m\u001b[37m\u001b[0m \u001b[1m5s\u001b[0m 9ms/step - accuracy: 0.6174 - loss: 0.6781 - val_accuracy: 0.7759 - val_loss: 0.6857\n",
      "Epoch 17/70\n",
      "\u001b[1m600/600\u001b[0m \u001b[32m━━━━━━━━━━━━━━━━━━━━\u001b[0m\u001b[37m\u001b[0m \u001b[1m9s\u001b[0m 6ms/step - accuracy: 0.6254 - loss: 0.6762 - val_accuracy: 0.6807 - val_loss: 0.6853\n",
      "Epoch 18/70\n",
      "\u001b[1m600/600\u001b[0m \u001b[32m━━━━━━━━━━━━━━━━━━━━\u001b[0m\u001b[37m\u001b[0m \u001b[1m6s\u001b[0m 10ms/step - accuracy: 0.6334 - loss: 0.6749 - val_accuracy: 0.6717 - val_loss: 0.6845\n",
      "Epoch 19/70\n",
      "\u001b[1m600/600\u001b[0m \u001b[32m━━━━━━━━━━━━━━━━━━━━\u001b[0m\u001b[37m\u001b[0m \u001b[1m13s\u001b[0m 15ms/step - accuracy: 0.6374 - loss: 0.6731 - val_accuracy: 0.6733 - val_loss: 0.6838\n",
      "Epoch 20/70\n",
      "\u001b[1m600/600\u001b[0m \u001b[32m━━━━━━━━━━━━━━━━━━━━\u001b[0m\u001b[37m\u001b[0m \u001b[1m5s\u001b[0m 6ms/step - accuracy: 0.6407 - loss: 0.6712 - val_accuracy: 0.6263 - val_loss: 0.6831\n",
      "Epoch 21/70\n",
      "\u001b[1m600/600\u001b[0m \u001b[32m━━━━━━━━━━━━━━━━━━━━\u001b[0m\u001b[37m\u001b[0m \u001b[1m5s\u001b[0m 6ms/step - accuracy: 0.6529 - loss: 0.6678 - val_accuracy: 0.6209 - val_loss: 0.6822\n",
      "Epoch 22/70\n",
      "\u001b[1m600/600\u001b[0m \u001b[32m━━━━━━━━━━━━━━━━━━━━\u001b[0m\u001b[37m\u001b[0m \u001b[1m6s\u001b[0m 8ms/step - accuracy: 0.6483 - loss: 0.6670 - val_accuracy: 0.6458 - val_loss: 0.6810\n",
      "Epoch 23/70\n",
      "\u001b[1m600/600\u001b[0m \u001b[32m━━━━━━━━━━━━━━━━━━━━\u001b[0m\u001b[37m\u001b[0m \u001b[1m7s\u001b[0m 11ms/step - accuracy: 0.6609 - loss: 0.6626 - val_accuracy: 0.6953 - val_loss: 0.6793\n",
      "Epoch 24/70\n",
      "\u001b[1m600/600\u001b[0m \u001b[32m━━━━━━━━━━━━━━━━━━━━\u001b[0m\u001b[37m\u001b[0m \u001b[1m7s\u001b[0m 11ms/step - accuracy: 0.6648 - loss: 0.6600 - val_accuracy: 0.5880 - val_loss: 0.6789\n",
      "Epoch 25/70\n",
      "\u001b[1m600/600\u001b[0m \u001b[32m━━━━━━━━━━━━━━━━━━━━\u001b[0m\u001b[37m\u001b[0m \u001b[1m7s\u001b[0m 6ms/step - accuracy: 0.6753 - loss: 0.6548 - val_accuracy: 0.4867 - val_loss: 0.6783\n",
      "Epoch 26/70\n",
      "\u001b[1m600/600\u001b[0m \u001b[32m━━━━━━━━━━━━━━━━━━━━\u001b[0m\u001b[37m\u001b[0m \u001b[1m4s\u001b[0m 6ms/step - accuracy: 0.6789 - loss: 0.6517 - val_accuracy: 0.6173 - val_loss: 0.6757\n",
      "Epoch 27/70\n",
      "\u001b[1m600/600\u001b[0m \u001b[32m━━━━━━━━━━━━━━━━━━━━\u001b[0m\u001b[37m\u001b[0m \u001b[1m5s\u001b[0m 8ms/step - accuracy: 0.6874 - loss: 0.6471 - val_accuracy: 0.5544 - val_loss: 0.6747\n",
      "Epoch 28/70\n",
      "\u001b[1m600/600\u001b[0m \u001b[32m━━━━━━━━━━━━━━━━━━━━\u001b[0m\u001b[37m\u001b[0m \u001b[1m5s\u001b[0m 8ms/step - accuracy: 0.6928 - loss: 0.6428 - val_accuracy: 0.5536 - val_loss: 0.6728\n",
      "Epoch 29/70\n",
      "\u001b[1m600/600\u001b[0m \u001b[32m━━━━━━━━━━━━━━━━━━━━\u001b[0m\u001b[37m\u001b[0m \u001b[1m9s\u001b[0m 15ms/step - accuracy: 0.6978 - loss: 0.6376 - val_accuracy: 0.7125 - val_loss: 0.6684\n",
      "Epoch 30/70\n",
      "\u001b[1m600/600\u001b[0m \u001b[32m━━━━━━━━━━━━━━━━━━━━\u001b[0m\u001b[37m\u001b[0m \u001b[1m4s\u001b[0m 6ms/step - accuracy: 0.7015 - loss: 0.6313 - val_accuracy: 0.6183 - val_loss: 0.6675\n",
      "Epoch 31/70\n",
      "\u001b[1m600/600\u001b[0m \u001b[32m━━━━━━━━━━━━━━━━━━━━\u001b[0m\u001b[37m\u001b[0m \u001b[1m4s\u001b[0m 6ms/step - accuracy: 0.7066 - loss: 0.6263 - val_accuracy: 0.5791 - val_loss: 0.6657\n",
      "Epoch 32/70\n",
      "\u001b[1m600/600\u001b[0m \u001b[32m━━━━━━━━━━━━━━━━━━━━\u001b[0m\u001b[37m\u001b[0m \u001b[1m6s\u001b[0m 8ms/step - accuracy: 0.7097 - loss: 0.6192 - val_accuracy: 0.6242 - val_loss: 0.6620\n",
      "Epoch 33/70\n",
      "\u001b[1m600/600\u001b[0m \u001b[32m━━━━━━━━━━━━━━━━━━━━\u001b[0m\u001b[37m\u001b[0m \u001b[1m4s\u001b[0m 6ms/step - accuracy: 0.7138 - loss: 0.6136 - val_accuracy: 0.6730 - val_loss: 0.6577\n",
      "Epoch 34/70\n",
      "\u001b[1m600/600\u001b[0m \u001b[32m━━━━━━━━━━━━━━━━━━━━\u001b[0m\u001b[37m\u001b[0m \u001b[1m7s\u001b[0m 12ms/step - accuracy: 0.7203 - loss: 0.6038 - val_accuracy: 0.6861 - val_loss: 0.6539\n",
      "Epoch 35/70\n",
      "\u001b[1m600/600\u001b[0m \u001b[32m━━━━━━━━━━━━━━━━━━━━\u001b[0m\u001b[37m\u001b[0m \u001b[1m8s\u001b[0m 13ms/step - accuracy: 0.7295 - loss: 0.5953 - val_accuracy: 0.7213 - val_loss: 0.6494\n",
      "Epoch 36/70\n",
      "\u001b[1m600/600\u001b[0m \u001b[32m━━━━━━━━━━━━━━━━━━━━\u001b[0m\u001b[37m\u001b[0m \u001b[1m4s\u001b[0m 6ms/step - accuracy: 0.7289 - loss: 0.5896 - val_accuracy: 0.7264 - val_loss: 0.6450\n",
      "Epoch 37/70\n",
      "\u001b[1m600/600\u001b[0m \u001b[32m━━━━━━━━━━━━━━━━━━━━\u001b[0m\u001b[37m\u001b[0m \u001b[1m5s\u001b[0m 6ms/step - accuracy: 0.7415 - loss: 0.5772 - val_accuracy: 0.7277 - val_loss: 0.6405\n",
      "Epoch 38/70\n",
      "\u001b[1m600/600\u001b[0m \u001b[32m━━━━━━━━━━━━━━━━━━━━\u001b[0m\u001b[37m\u001b[0m \u001b[1m5s\u001b[0m 9ms/step - accuracy: 0.7449 - loss: 0.5694 - val_accuracy: 0.7785 - val_loss: 0.6341\n",
      "Epoch 39/70\n",
      "\u001b[1m600/600\u001b[0m \u001b[32m━━━━━━━━━━━━━━━━━━━━\u001b[0m\u001b[37m\u001b[0m \u001b[1m4s\u001b[0m 7ms/step - accuracy: 0.7418 - loss: 0.5637 - val_accuracy: 0.7500 - val_loss: 0.6302\n",
      "Epoch 40/70\n",
      "\u001b[1m600/600\u001b[0m \u001b[32m━━━━━━━━━━━━━━━━━━━━\u001b[0m\u001b[37m\u001b[0m \u001b[1m6s\u001b[0m 9ms/step - accuracy: 0.7521 - loss: 0.5531 - val_accuracy: 0.8265 - val_loss: 0.6219\n",
      "Epoch 41/70\n",
      "\u001b[1m600/600\u001b[0m \u001b[32m━━━━━━━━━━━━━━━━━━━━\u001b[0m\u001b[37m\u001b[0m \u001b[1m6s\u001b[0m 11ms/step - accuracy: 0.7586 - loss: 0.5415 - val_accuracy: 0.8506 - val_loss: 0.6146\n",
      "Epoch 42/70\n",
      "\u001b[1m600/600\u001b[0m \u001b[32m━━━━━━━━━━━━━━━━━━━━\u001b[0m\u001b[37m\u001b[0m \u001b[1m6s\u001b[0m 9ms/step - accuracy: 0.7639 - loss: 0.5319 - val_accuracy: 0.8945 - val_loss: 0.6047\n",
      "Epoch 43/70\n",
      "\u001b[1m600/600\u001b[0m \u001b[32m━━━━━━━━━━━━━━━━━━━━\u001b[0m\u001b[37m\u001b[0m \u001b[1m6s\u001b[0m 10ms/step - accuracy: 0.7650 - loss: 0.5254 - val_accuracy: 0.8960 - val_loss: 0.5976\n",
      "Epoch 44/70\n",
      "\u001b[1m600/600\u001b[0m \u001b[32m━━━━━━━━━━━━━━━━━━━━\u001b[0m\u001b[37m\u001b[0m \u001b[1m4s\u001b[0m 7ms/step - accuracy: 0.7702 - loss: 0.5167 - val_accuracy: 0.8976 - val_loss: 0.5903\n",
      "Epoch 45/70\n",
      "\u001b[1m600/600\u001b[0m \u001b[32m━━━━━━━━━━━━━━━━━━━━\u001b[0m\u001b[37m\u001b[0m \u001b[1m4s\u001b[0m 6ms/step - accuracy: 0.7707 - loss: 0.5119 - val_accuracy: 0.8973 - val_loss: 0.5847\n",
      "Epoch 46/70\n",
      "\u001b[1m600/600\u001b[0m \u001b[32m━━━━━━━━━━━━━━━━━━━━\u001b[0m\u001b[37m\u001b[0m \u001b[1m5s\u001b[0m 8ms/step - accuracy: 0.7763 - loss: 0.5036 - val_accuracy: 0.8996 - val_loss: 0.5763\n",
      "Epoch 47/70\n",
      "\u001b[1m600/600\u001b[0m \u001b[32m━━━━━━━━━━━━━━━━━━━━\u001b[0m\u001b[37m\u001b[0m \u001b[1m5s\u001b[0m 9ms/step - accuracy: 0.7820 - loss: 0.4938 - val_accuracy: 0.9014 - val_loss: 0.5669\n",
      "Epoch 48/70\n",
      "\u001b[1m600/600\u001b[0m \u001b[32m━━━━━━━━━━━━━━━━━━━━\u001b[0m\u001b[37m\u001b[0m \u001b[1m9s\u001b[0m 7ms/step - accuracy: 0.7876 - loss: 0.4853 - val_accuracy: 0.9025 - val_loss: 0.5593\n",
      "Epoch 49/70\n",
      "\u001b[1m600/600\u001b[0m \u001b[32m━━━━━━━━━━━━━━━━━━━━\u001b[0m\u001b[37m\u001b[0m \u001b[1m5s\u001b[0m 7ms/step - accuracy: 0.7864 - loss: 0.4825 - val_accuracy: 0.9040 - val_loss: 0.5500\n",
      "Epoch 50/70\n",
      "\u001b[1m600/600\u001b[0m \u001b[32m━━━━━━━━━━━━━━━━━━━━\u001b[0m\u001b[37m\u001b[0m \u001b[1m4s\u001b[0m 6ms/step - accuracy: 0.7871 - loss: 0.4833 - val_accuracy: 0.9045 - val_loss: 0.5421\n",
      "Epoch 51/70\n",
      "\u001b[1m600/600\u001b[0m \u001b[32m━━━━━━━━━━━━━━━━━━━━\u001b[0m\u001b[37m\u001b[0m \u001b[1m6s\u001b[0m 7ms/step - accuracy: 0.7895 - loss: 0.4763 - val_accuracy: 0.9045 - val_loss: 0.5356\n",
      "Epoch 52/70\n",
      "\u001b[1m600/600\u001b[0m \u001b[32m━━━━━━━━━━━━━━━━━━━━\u001b[0m\u001b[37m\u001b[0m \u001b[1m5s\u001b[0m 7ms/step - accuracy: 0.7963 - loss: 0.4684 - val_accuracy: 0.9045 - val_loss: 0.5294\n",
      "Epoch 53/70\n",
      "\u001b[1m600/600\u001b[0m \u001b[32m━━━━━━━━━━━━━━━━━━━━\u001b[0m\u001b[37m\u001b[0m \u001b[1m4s\u001b[0m 6ms/step - accuracy: 0.7986 - loss: 0.4659 - val_accuracy: 0.9040 - val_loss: 0.5277\n",
      "Epoch 54/70\n",
      "\u001b[1m600/600\u001b[0m \u001b[32m━━━━━━━━━━━━━━━━━━━━\u001b[0m\u001b[37m\u001b[0m \u001b[1m4s\u001b[0m 6ms/step - accuracy: 0.8023 - loss: 0.4579 - val_accuracy: 0.9045 - val_loss: 0.5170\n",
      "Epoch 55/70\n",
      "\u001b[1m600/600\u001b[0m \u001b[32m━━━━━━━━━━━━━━━━━━━━\u001b[0m\u001b[37m\u001b[0m \u001b[1m5s\u001b[0m 9ms/step - accuracy: 0.7995 - loss: 0.4590 - val_accuracy: 0.9045 - val_loss: 0.5106\n",
      "Epoch 56/70\n",
      "\u001b[1m600/600\u001b[0m \u001b[32m━━━━━━━━━━━━━━━━━━━━\u001b[0m\u001b[37m\u001b[0m \u001b[1m9s\u001b[0m 6ms/step - accuracy: 0.7997 - loss: 0.4569 - val_accuracy: 0.9045 - val_loss: 0.5062\n",
      "Epoch 57/70\n",
      "\u001b[1m600/600\u001b[0m \u001b[32m━━━━━━━━━━━━━━━━━━━━\u001b[0m\u001b[37m\u001b[0m \u001b[1m6s\u001b[0m 7ms/step - accuracy: 0.8057 - loss: 0.4477 - val_accuracy: 0.9045 - val_loss: 0.5009\n",
      "Epoch 58/70\n",
      "\u001b[1m600/600\u001b[0m \u001b[32m━━━━━━━━━━━━━━━━━━━━\u001b[0m\u001b[37m\u001b[0m \u001b[1m4s\u001b[0m 6ms/step - accuracy: 0.8036 - loss: 0.4507 - val_accuracy: 0.9045 - val_loss: 0.4979\n",
      "Epoch 59/70\n",
      "\u001b[1m600/600\u001b[0m \u001b[32m━━━━━━━━━━━━━━━━━━━━\u001b[0m\u001b[37m\u001b[0m \u001b[1m4s\u001b[0m 6ms/step - accuracy: 0.8056 - loss: 0.4448 - val_accuracy: 0.9045 - val_loss: 0.4931\n",
      "Epoch 60/70\n",
      "\u001b[1m600/600\u001b[0m \u001b[32m━━━━━━━━━━━━━━━━━━━━\u001b[0m\u001b[37m\u001b[0m \u001b[1m5s\u001b[0m 8ms/step - accuracy: 0.8092 - loss: 0.4412 - val_accuracy: 0.9045 - val_loss: 0.4896\n",
      "Epoch 61/70\n",
      "\u001b[1m600/600\u001b[0m \u001b[32m━━━━━━━━━━━━━━━━━━━━\u001b[0m\u001b[37m\u001b[0m \u001b[1m3s\u001b[0m 6ms/step - accuracy: 0.8132 - loss: 0.4361 - val_accuracy: 0.9045 - val_loss: 0.4864\n",
      "Epoch 62/70\n",
      "\u001b[1m600/600\u001b[0m \u001b[32m━━━━━━━━━━━━━━━━━━━━\u001b[0m\u001b[37m\u001b[0m \u001b[1m3s\u001b[0m 6ms/step - accuracy: 0.8209 - loss: 0.4256 - val_accuracy: 0.9045 - val_loss: 0.4845\n",
      "Epoch 63/70\n",
      "\u001b[1m600/600\u001b[0m \u001b[32m━━━━━━━━━━━━━━━━━━━━\u001b[0m\u001b[37m\u001b[0m \u001b[1m7s\u001b[0m 9ms/step - accuracy: 0.8161 - loss: 0.4319 - val_accuracy: 0.9045 - val_loss: 0.4822\n",
      "Epoch 64/70\n",
      "\u001b[1m600/600\u001b[0m \u001b[32m━━━━━━━━━━━━━━━━━━━━\u001b[0m\u001b[37m\u001b[0m \u001b[1m4s\u001b[0m 6ms/step - accuracy: 0.8132 - loss: 0.4328 - val_accuracy: 0.9045 - val_loss: 0.4786\n",
      "Epoch 65/70\n",
      "\u001b[1m600/600\u001b[0m \u001b[32m━━━━━━━━━━━━━━━━━━━━\u001b[0m\u001b[37m\u001b[0m \u001b[1m5s\u001b[0m 6ms/step - accuracy: 0.8204 - loss: 0.4270 - val_accuracy: 0.9045 - val_loss: 0.4807\n",
      "Epoch 66/70\n",
      "\u001b[1m600/600\u001b[0m \u001b[32m━━━━━━━━━━━━━━━━━━━━\u001b[0m\u001b[37m\u001b[0m \u001b[1m5s\u001b[0m 9ms/step - accuracy: 0.8175 - loss: 0.4244 - val_accuracy: 0.9045 - val_loss: 0.4769\n",
      "Epoch 67/70\n",
      "\u001b[1m600/600\u001b[0m \u001b[32m━━━━━━━━━━━━━━━━━━━━\u001b[0m\u001b[37m\u001b[0m \u001b[1m8s\u001b[0m 6ms/step - accuracy: 0.8214 - loss: 0.4207 - val_accuracy: 0.9045 - val_loss: 0.4748\n",
      "Epoch 68/70\n",
      "\u001b[1m600/600\u001b[0m \u001b[32m━━━━━━━━━━━━━━━━━━━━\u001b[0m\u001b[37m\u001b[0m \u001b[1m5s\u001b[0m 8ms/step - accuracy: 0.8229 - loss: 0.4170 - val_accuracy: 0.9045 - val_loss: 0.4762\n",
      "Epoch 69/70\n",
      "\u001b[1m600/600\u001b[0m \u001b[32m━━━━━━━━━━━━━━━━━━━━\u001b[0m\u001b[37m\u001b[0m \u001b[1m4s\u001b[0m 7ms/step - accuracy: 0.8213 - loss: 0.4178 - val_accuracy: 0.9045 - val_loss: 0.4748\n",
      "Epoch 70/70\n",
      "\u001b[1m600/600\u001b[0m \u001b[32m━━━━━━━━━━━━━━━━━━━━\u001b[0m\u001b[37m\u001b[0m \u001b[1m5s\u001b[0m 8ms/step - accuracy: 0.8229 - loss: 0.4132 - val_accuracy: 0.9045 - val_loss: 0.4839\n",
      "\u001b[1m122/122\u001b[0m \u001b[32m━━━━━━━━━━━━━━━━━━━━\u001b[0m\u001b[37m\u001b[0m \u001b[1m0s\u001b[0m 4ms/step - accuracy: 0.8999 - loss: 0.4889\n",
      "\u001b[1m122/122\u001b[0m \u001b[32m━━━━━━━━━━━━━━━━━━━━\u001b[0m\u001b[37m\u001b[0m \u001b[1m1s\u001b[0m 5ms/step\n",
      "[[0.4062787 ]\n",
      " [0.74218047]\n",
      " [0.77263683]\n",
      " ...\n",
      " [0.727702  ]\n",
      " [0.75196594]\n",
      " [0.7520081 ]]\n",
      "[[0]\n",
      " [1]\n",
      " [1]\n",
      " ...\n",
      " [1]\n",
      " [1]\n",
      " [1]]\n",
      "0       0\n",
      "1       1\n",
      "2       0\n",
      "3       0\n",
      "4       0\n",
      "       ..\n",
      "3891    1\n",
      "3892    1\n",
      "3893    1\n",
      "3894    0\n",
      "3895    1\n",
      "Name: label, Length: 3896, dtype: int64\n",
      "Test Loss: 0.4938499331474304, Test Accuracy: 0.8955338597297668\n",
      "\n"
     ]
    },
    {
     "data": {
      "image/png": "[encoded data removed]",
      "text/plain": [
       "<Figure size 640x480 with 1 Axes>"
      ]
     },
     "metadata": {},
     "output_type": "display_data"
    },
    {
     "name": "stdout",
     "output_type": "stream",
     "text": [
      "\n",
      "\n"
     ]
    },
    {
     "data": {
      "image/png": "[encoded data removed]",
      "text/plain": [
       "<Figure size 640x480 with 1 Axes>"
      ]
     },
     "metadata": {},
     "output_type": "display_data"
    },
    {
     "name": "stdout",
     "output_type": "stream",
     "text": [
      "\n",
      "Classification Report\n",
      "              precision    recall  f1-score   support\n",
      "\n",
      "           0       1.00      0.73      0.85      1527\n",
      "           1       0.85      1.00      0.92      2369\n",
      "\n",
      "    accuracy                           0.90      3896\n",
      "   macro avg       0.93      0.87      0.88      3896\n",
      "weighted avg       0.91      0.90      0.89      3896\n",
      "\n",
      "\n",
      "Confusion Matrix\n",
      "[[1120  407]\n",
      " [   0 2369]]\n"
     ]
    },
    {
     "data": {
      "image/png": "[encoded data removed]",
      "text/plain": [
       "<Figure size 640x480 with 2 Axes>"
      ]
     },
     "metadata": {},
     "output_type": "display_data"
    },
    {
     "name": "stdout",
     "output_type": "stream",
     "text": [
      "Time taken: 387.4674 seconds\n"
     ]
    }
   ],
   "source": [
    "start_time_1 = time.perf_counter()\n",
    "with tensorflow.device('/device:GPU:0'):\n",
    "  # CNN model detection\n",
    "  # https://keras.io/api/layers/activations/#softmax-function\n",
    "  detection_model = tensorflow.keras.Sequential([\n",
    "      tensorflow.keras.layers.Input(shape=(X_rebalance.shape[1],X_rebalance.shape[2])),\n",
    "      tensorflow.keras.layers.Conv1D(filters=50, kernel_size=3, activation='sigmoid'),\n",
    "      tensorflow.keras.layers.MaxPooling1D(pool_size=2),\n",
    "      tensorflow.keras.layers.Dropout(0.3),\n",
    "      tensorflow.keras.layers.BatchNormalization(),\n",
    "      tensorflow.keras.layers.LSTM(64),\n",
    "      tensorflow.keras.layers.Flatten(),\n",
    "      # 1 layer\n",
    "      tensorflow.keras.layers.Dense(512, activation='relu'),\n",
    "      tensorflow.keras.layers.Dropout(0.5),\n",
    "      # either attack or normal\n",
    "      tensorflow.keras.layers.Dense(1, activation='sigmoid')\n",
    "  ])\n",
    "\n",
    "  detection_model.summary()\n",
    "  # https://keras.io/api/losses/probabilistic_losses/#probabilistic-losses\n",
    "  sgd = tensorflow.keras.optimizers.SGD(learning_rate=0.001)\n",
    "  detection_model.compile(optimizer=sgd,\n",
    "                loss=tensorflow.keras.losses.BinaryCrossentropy(from_logits=False),\n",
    "                metrics=['accuracy'])\n",
    "\n",
    "  history = detection_model.fit(X_rebalance, y_rebalance, batch_size=64, epochs=70, validation_data=(X_validation_encode, y_validation_encode))\n",
    "  test_loss, test_acc = detection_model.evaluate(X_test_encode, y_test_encode)\n",
    "\n",
    "  # Make predictions\n",
    "  prediction = detection_model.predict(X_test_encode)\n",
    "  print(prediction)\n",
    "  attack_prediction = numpy.where(prediction > 0.5, 1, 0)\n",
    "  print(attack_prediction)\n",
    "  print(y_test)\n",
    "\n",
    "  # Evaluate the model\n",
    "  print(f\"Test Loss: {test_loss}, Test Accuracy: {test_acc}\\n\")\n",
    "  # https://www.tensorflow.org/tutorials/keras/text_classification for training and validation loss and accuracy\n",
    "  history_dict = history.history\n",
    "  # print(history_dict.keys())\n",
    "  acc = history_dict['accuracy']\n",
    "  val_acc = history_dict['val_accuracy']\n",
    "  loss = history_dict['loss']\n",
    "  val_loss = history_dict['val_loss']\n",
    "\n",
    "  epochs = range(1, len(acc) + 1)\n",
    "\n",
    "  # \"bo\" is for \"blue dot\"\n",
    "  plt.plot(epochs, loss, 'bo', label='Training loss')\n",
    "  # b is for \"solid blue line\"\n",
    "  plt.plot(epochs, val_loss, 'b', label='Validation loss')\n",
    "  plt.title('Training and validation loss')\n",
    "  plt.xlabel('Epochs')\n",
    "  plt.ylabel('Loss')\n",
    "  plt.legend()\n",
    "  plt.show()\n",
    "  print(\"\\n\")\n",
    "\n",
    "  plt.plot(epochs, acc, 'bo', label='Training acc')\n",
    "  plt.plot(epochs, val_acc, 'b', label='Validation acc')\n",
    "  plt.title('Training and validation accuracy')\n",
    "  plt.xlabel('Epochs')\n",
    "  plt.ylabel('Accuracy')\n",
    "  plt.legend(loc='lower right')\n",
    "  plt.show()\n",
    "\n",
    "  print(\"\\nClassification Report\")\n",
    "  print(classification_report(y_test, attack_prediction))\n",
    "\n",
    "  print(\"\\nConfusion Matrix\")\n",
    "  print(confusion_matrix(y_test, attack_prediction))\n",
    "  ConfusionMatrixDisplay.from_predictions(y_test, attack_prediction)\n",
    "  plt.show()\n",
    "\n",
    "end_time1 = time.perf_counter()\n",
    "print(f\"Time taken: {end_time1 - start_time_1:0.4f} seconds\")"
   ]
  },
  {
   "cell_type": "markdown",
   "metadata": {
    "id": "CH_imM_o929Y"
   },
   "source": [
    "# Optimizing the model\n",
    "Instead of looking at random number ranges for learning rates, filters, and hidden units, we have encoded specific values.\n",
    "\n",
    "The hyper parameters we are attempting to optimize are:\n",
    "\n",
    "*   Batch Size\n",
    "*   Activation Functions\n",
    "*   Learning Rates\n",
    "*   Filters\n",
    "*   Hidden Units\n",
    "\n",
    "\n",
    "The base CNN model we made is ingested into *objective_function*.\n",
    "  This is where our hyper parameters are being considered.\n",
    "  It returns the Accuracy of that particular iteration.\n",
    "**LB** and **UB** is set according to the list given above.\n"
   ]
  },
  {
   "cell_type": "code",
   "execution_count": null,
   "metadata": {
    "colab": {
     "base_uri": "https://localhost:8080/"
    },
    "executionInfo": {
     "elapsed": 1539102,
     "status": "ok",
     "timestamp": 1744663331676,
     "user": {
      "displayName": "Joshua Quintano",
      "userId": "07848862957768359236"
     },
     "user_tz": 240
    },
    "id": "7F_c1wjhgXlb",
    "outputId": "a85ffc26-4df7-44b1-cd3f-dff5dc7980a4"
   },
   "outputs": [
    {
     "name": "stderr",
     "output_type": "stream",
     "text": [
      "INFO:mealpy.bio_based.SOA.OriginalSOA:Solving single objective optimization problem.\n"
     ]
    },
    {
     "name": "stdout",
     "output_type": "stream",
     "text": [
      "Accuracy 0.39040040969848633\n",
      "Accuracy 0.6095995903015137\n",
      "Accuracy 0.39040040969848633\n",
      "Accuracy 0.5965092480182648\n",
      "Accuracy 0.39040040969848633\n",
      "Accuracy 0.11088293790817261\n",
      "Accuracy 0.39040040969848633\n",
      "Accuracy 0.671201229095459\n",
      "Accuracy 0.6095995903015137\n",
      "Accuracy 0.39040040969848633\n",
      "Accuracy 0.39040040969848633\n",
      "Accuracy 0.17120122909545898\n",
      "Accuracy 0.39040040969848633\n",
      "Accuracy 0.6095995903015137\n",
      "Accuracy 0.6242299675941467\n",
      "Accuracy 0.29491788148880005\n",
      "Accuracy 0.39040040969848633\n",
      "Accuracy 0.39040040969848633\n",
      "Accuracy 0.39040040969848633\n",
      "Accuracy 0.6095995903015137\n",
      "Accuracy 0.29491788148880005\n",
      "Accuracy 0.39040040969848633\n",
      "Accuracy 0.39040040969848633\n",
      "Accuracy 0.39040040969848633\n",
      "Accuracy 0.39040040969848633\n",
      "Accuracy 0.39040040969848633\n",
      "Accuracy 0.6095995903015137\n",
      "Accuracy 0.39040040969848633\n",
      "Accuracy 0.39040040969848633\n",
      "Accuracy 0.29491788148880005\n",
      "Accuracy 0.39040040969848633\n",
      "Accuracy 0.39040040969848633\n",
      "Accuracy 0.6095995903015137\n",
      "Accuracy 0.39040040969848633\n",
      "Accuracy 0.3898870348930359\n",
      "Accuracy 0.39040040969848633\n",
      "Accuracy 0.6095995903015137\n",
      "Accuracy 0.6095995903015137\n",
      "Accuracy 0.39040040969848633\n",
      "Accuracy 0.39040040969848633\n"
     ]
    },
    {
     "name": "stderr",
     "output_type": "stream",
     "text": [
      "INFO:mealpy.bio_based.SOA.OriginalSOA:>>>Problem: P, Epoch: 1, Current best: 0.29491788148880005, Global best: 0.11088293790817261, Runtime: 2157.22818 seconds\n"
     ]
    },
    {
     "name": "stdout",
     "output_type": "stream",
     "text": [
      "Accuracy 0.39040040969848633\n",
      "Accuracy 0.39040040969848633\n",
      "Accuracy 0.6095995903015137\n",
      "Accuracy 0.39040040969848633\n",
      "Accuracy 0.6095995903015137\n",
      "Accuracy 0.29491788148880005\n",
      "Accuracy 0.6095995903015137\n",
      "Accuracy 0.09548252820968628\n",
      "Accuracy 0.39040040969848633\n",
      "Accuracy 0.29491788148880005\n",
      "Accuracy 0.6095995903015137\n",
      "Accuracy 0.39040040969848633\n",
      "Accuracy 0.39040040969848633\n",
      "Accuracy 0.39040040969848633\n",
      "Accuracy 0.29491788148880005\n",
      "Accuracy 0.39040040969848633\n",
      "Accuracy 0.39040040969848633\n",
      "Accuracy 0.39040040969848633\n",
      "Accuracy 0.6095995903015137\n",
      "Accuracy 0.39040040969848633\n"
     ]
    },
    {
     "name": "stderr",
     "output_type": "stream",
     "text": [
      "INFO:mealpy.bio_based.SOA.OriginalSOA:>>>Problem: P, Epoch: 2, Current best: 0.09548252820968628, Global best: 0.09548252820968628, Runtime: 2165.57122 seconds\n"
     ]
    },
    {
     "name": "stdout",
     "output_type": "stream",
     "text": [
      "Accuracy 0.39040040969848633\n",
      "Accuracy 0.39040040969848633\n",
      "Accuracy 0.39040040969848633\n",
      "Accuracy 0.6095995903015137\n",
      "Accuracy 0.29491788148880005\n",
      "Accuracy 0.39040040969848633\n",
      "Accuracy 0.39040040969848633\n",
      "Accuracy 0.39040040969848633\n",
      "Accuracy 0.5903490781784058\n",
      "Accuracy 0.6095995903015137\n",
      "Accuracy 0.29491788148880005\n",
      "Accuracy 0.6095995903015137\n",
      "Accuracy 0.6095995903015137\n",
      "Accuracy 0.39040040969848633\n",
      "Accuracy 0.39040040969848633\n",
      "Accuracy 0.6095995903015137\n",
      "Accuracy 0.6095995903015137\n",
      "Accuracy 0.6095995903015137\n",
      "Accuracy 0.29491788148880005\n",
      "Accuracy 0.6095995903015137\n"
     ]
    },
    {
     "name": "stderr",
     "output_type": "stream",
     "text": [
      "INFO:mealpy.bio_based.SOA.OriginalSOA:>>>Problem: P, Epoch: 3, Current best: 0.29491788148880005, Global best: 0.09548252820968628, Runtime: 2041.88948 seconds\n"
     ]
    },
    {
     "name": "stdout",
     "output_type": "stream",
     "text": [
      "Accuracy 0.39040040969848633\n",
      "Accuracy 0.39040040969848633\n",
      "Accuracy 0.39040040969848633\n",
      "Accuracy 0.39040040969848633\n",
      "Accuracy 0.39040040969848633\n",
      "Accuracy 0.39040040969848633\n",
      "Accuracy 0.39040040969848633\n",
      "Accuracy 0.39040040969848633\n",
      "Accuracy 0.39040040969848633\n",
      "Accuracy 0.6095995903015137\n",
      "Accuracy 0.6095995903015137\n",
      "Accuracy 0.6095995903015137\n",
      "Accuracy 0.39040040969848633\n",
      "Accuracy 0.6095995903015137\n",
      "Accuracy 0.39040040969848633\n",
      "Accuracy 0.39040040969848633\n",
      "Accuracy 0.29491788148880005\n",
      "Accuracy 0.39040040969848633\n",
      "Accuracy 0.39040040969848633\n",
      "Accuracy 0.6095995903015137\n"
     ]
    },
    {
     "name": "stderr",
     "output_type": "stream",
     "text": [
      "INFO:mealpy.bio_based.SOA.OriginalSOA:>>>Problem: P, Epoch: 4, Current best: 0.29491788148880005, Global best: 0.09548252820968628, Runtime: 2053.12459 seconds\n"
     ]
    },
    {
     "name": "stdout",
     "output_type": "stream",
     "text": [
      "Accuracy 0.39040040969848633\n",
      "Accuracy 0.6095995903015137\n",
      "Accuracy 0.39040040969848633\n",
      "Accuracy 0.29491788148880005\n",
      "Accuracy 0.39040040969848633\n",
      "Accuracy 0.39040040969848633\n",
      "Accuracy 0.6095995903015137\n",
      "Accuracy 0.5965092480182648\n",
      "Accuracy 0.39040040969848633\n",
      "Accuracy 0.6095995903015137\n",
      "Accuracy 0.39040040969848633\n",
      "Accuracy 0.09548252820968628\n",
      "Accuracy 0.6095995903015137\n",
      "Accuracy 0.6095995903015137\n",
      "Accuracy 0.39040040969848633\n",
      "Accuracy 0.3003079891204834\n",
      "Accuracy 0.39040040969848633\n",
      "Accuracy 0.39040040969848633\n",
      "Accuracy 0.3146817088127136\n",
      "Accuracy 0.39040040969848633\n"
     ]
    },
    {
     "name": "stderr",
     "output_type": "stream",
     "text": [
      "INFO:mealpy.bio_based.SOA.OriginalSOA:>>>Problem: P, Epoch: 5, Current best: 0.09548252820968628, Global best: 0.09548252820968628, Runtime: 2071.68230 seconds\n"
     ]
    },
    {
     "name": "stdout",
     "output_type": "stream",
     "text": [
      "Accuracy 0.39040040969848633\n",
      "Accuracy 0.6095995903015137\n",
      "Accuracy 0.6095995903015137\n",
      "Accuracy 0.39040040969848633\n",
      "Accuracy 0.29491788148880005\n",
      "Accuracy 0.39040040969848633\n",
      "Accuracy 0.39040040969848633\n",
      "Accuracy 0.3898870348930359\n",
      "Accuracy 0.5785420835018158\n",
      "Accuracy 0.20739221572875977\n",
      "Accuracy 0.6095995903015137\n",
      "Accuracy 0.39040040969848633\n",
      "Accuracy 0.2977412939071655\n",
      "Accuracy 0.39040040969848633\n",
      "Accuracy 0.29491788148880005\n",
      "Accuracy 0.6095995903015137\n",
      "Accuracy 0.39040040969848633\n",
      "Accuracy 0.6095995903015137\n",
      "Accuracy 0.39040040969848633\n",
      "Accuracy 0.39040040969848633\n"
     ]
    },
    {
     "name": "stderr",
     "output_type": "stream",
     "text": [
      "INFO:mealpy.bio_based.SOA.OriginalSOA:>>>Problem: P, Epoch: 6, Current best: 0.20739221572875977, Global best: 0.09548252820968628, Runtime: 1717.93720 seconds\n"
     ]
    },
    {
     "name": "stdout",
     "output_type": "stream",
     "text": [
      "Accuracy 0.39040040969848633\n",
      "Accuracy 0.39040040969848633\n",
      "Accuracy 0.6095995903015137\n",
      "Accuracy 0.6095995903015137\n",
      "Accuracy 0.6095995903015137\n",
      "Accuracy 0.39040040969848633\n",
      "Accuracy 0.6095995903015137\n",
      "Accuracy 0.31211501359939575\n",
      "Accuracy 0.39040040969848633\n",
      "Accuracy 0.39040040969848633\n",
      "Accuracy 0.6095995903015137\n",
      "Accuracy 0.6095995903015137\n",
      "Accuracy 0.39040040969848633\n",
      "Accuracy 0.39040040969848633\n",
      "Accuracy 0.29491788148880005\n",
      "Accuracy 0.39040040969848633\n",
      "Accuracy 0.6095995903015137\n",
      "Accuracy 0.39040040969848633\n",
      "Accuracy 0.6095995903015137\n",
      "Accuracy 0.09548252820968628\n"
     ]
    },
    {
     "name": "stderr",
     "output_type": "stream",
     "text": [
      "INFO:mealpy.bio_based.SOA.OriginalSOA:>>>Problem: P, Epoch: 7, Current best: 0.09548252820968628, Global best: 0.09548252820968628, Runtime: 2054.80880 seconds\n"
     ]
    },
    {
     "name": "stdout",
     "output_type": "stream",
     "text": [
      "Accuracy 0.39040040969848633\n",
      "Accuracy 0.39040040969848633\n",
      "Accuracy 0.5980492830276489\n",
      "Accuracy 0.6095995903015137\n",
      "Accuracy 0.39040040969848633\n",
      "Accuracy 0.39040040969848633\n",
      "Accuracy 0.6095995903015137\n",
      "Accuracy 0.39040040969848633\n",
      "Accuracy 0.29491788148880005\n",
      "Accuracy 0.39040040969848633\n",
      "Accuracy 0.29491788148880005\n",
      "Accuracy 0.39040040969848633\n",
      "Accuracy 0.6095995903015137\n",
      "Accuracy 0.6095995903015137\n",
      "Accuracy 0.39040040969848633\n",
      "Accuracy 0.39040040969848633\n",
      "Accuracy 0.39040040969848633\n",
      "Accuracy 0.39040040969848633\n",
      "Accuracy 0.6095995903015137\n",
      "Accuracy 0.39040040969848633\n"
     ]
    },
    {
     "name": "stderr",
     "output_type": "stream",
     "text": [
      "INFO:mealpy.bio_based.SOA.OriginalSOA:>>>Problem: P, Epoch: 8, Current best: 0.29491788148880005, Global best: 0.09548252820968628, Runtime: 1893.14622 seconds\n"
     ]
    },
    {
     "name": "stdout",
     "output_type": "stream",
     "text": [
      "Accuracy 0.29491788148880005\n",
      "Accuracy 0.39040040969848633\n",
      "Accuracy 0.39040040969848633\n",
      "Accuracy 0.6095995903015137\n",
      "Accuracy 0.6095995903015137\n",
      "Accuracy 0.39040040969848633\n",
      "Accuracy 0.6095995903015137\n",
      "Accuracy 0.39040040969848633\n",
      "Accuracy 0.39040040969848633\n",
      "Accuracy 0.6095995903015137\n",
      "Accuracy 0.39040040969848633\n",
      "Accuracy 0.39040040969848633\n",
      "Accuracy 0.39040040969848633\n",
      "Accuracy 0.5965092480182648\n",
      "Accuracy 0.39040040969848633\n",
      "Accuracy 0.39040040969848633\n",
      "Accuracy 0.6095995903015137\n",
      "Accuracy 0.29491788148880005\n",
      "Accuracy 0.39040040969848633\n",
      "Accuracy 0.39040040969848633\n"
     ]
    },
    {
     "name": "stderr",
     "output_type": "stream",
     "text": [
      "INFO:mealpy.bio_based.SOA.OriginalSOA:>>>Problem: P, Epoch: 9, Current best: 0.09548252820968628, Global best: 0.09548252820968628, Runtime: 1893.33856 seconds\n"
     ]
    },
    {
     "name": "stdout",
     "output_type": "stream",
     "text": [
      "Accuracy 0.09548252820968628\n",
      "Accuracy 0.6095995903015137\n",
      "Accuracy 0.6095995903015137\n",
      "Accuracy 0.39040040969848633\n",
      "Accuracy 0.6095995903015137\n",
      "Accuracy 0.6095995903015137\n",
      "Accuracy 0.6095995903015137\n",
      "Accuracy 0.39040040969848633\n",
      "Accuracy 0.39040040969848633\n",
      "Accuracy 0.6095995903015137\n",
      "Accuracy 0.39040040969848633\n",
      "Accuracy 0.39040040969848633\n",
      "Accuracy 0.39040040969848633\n",
      "Accuracy 0.39040040969848633\n",
      "Accuracy 0.6095995903015137\n",
      "Accuracy 0.39040040969848633\n",
      "Accuracy 0.6095995903015137\n",
      "Accuracy 0.39040040969848633\n",
      "Accuracy 0.6095995903015137\n",
      "Accuracy 0.39040040969848633\n"
     ]
    },
    {
     "name": "stderr",
     "output_type": "stream",
     "text": [
      "INFO:mealpy.bio_based.SOA.OriginalSOA:>>>Problem: P, Epoch: 10, Current best: 0.39040040969848633, Global best: 0.09548252820968628, Runtime: 2239.65361 seconds\n"
     ]
    },
    {
     "name": "stdout",
     "output_type": "stream",
     "text": [
      "Accuracy 0.604722797870636\n",
      "Accuracy 0.39040040969848633\n",
      "Accuracy 0.6206365525722504\n",
      "Accuracy 0.6095995903015137\n",
      "Accuracy 0.6095995903015137\n",
      "Accuracy 0.39040040969848633\n",
      "Accuracy 0.39040040969848633\n",
      "Accuracy 0.6095995903015137\n",
      "Accuracy 0.6095995903015137\n",
      "Accuracy 0.6095995903015137\n",
      "Accuracy 0.6095995903015137\n",
      "Accuracy 0.3380390405654907\n",
      "Accuracy 0.6095995903015137\n",
      "Accuracy 0.6095995903015137\n",
      "Accuracy 0.39040040969848633\n",
      "Accuracy 0.39040040969848633\n",
      "Accuracy 0.39040040969848633\n",
      "Accuracy 0.39040040969848633\n",
      "Accuracy 0.39040040969848633\n",
      "Accuracy 0.6095995903015137\n"
     ]
    },
    {
     "name": "stderr",
     "output_type": "stream",
     "text": [
      "INFO:mealpy.bio_based.SOA.OriginalSOA:>>>Problem: P, Epoch: 11, Current best: 0.3380390405654907, Global best: 0.09548252820968628, Runtime: 1790.07475 seconds\n"
     ]
    },
    {
     "name": "stdout",
     "output_type": "stream",
     "text": [
      "Accuracy 0.39040040969848633\n",
      "Accuracy 0.39040040969848633\n",
      "Accuracy 0.39040040969848633\n",
      "Accuracy 0.39040040969848633\n",
      "Accuracy 0.39040040969848633\n",
      "Accuracy 0.6095995903015137\n",
      "Accuracy 0.38655030727386475\n",
      "Accuracy 0.39040040969848633\n",
      "Accuracy 0.39040040969848633\n",
      "Accuracy 0.39040040969848633\n",
      "Accuracy 0.39040040969848633\n",
      "Accuracy 0.39040040969848633\n",
      "Accuracy 0.6095995903015137\n",
      "Accuracy 0.39040040969848633\n",
      "Accuracy 0.39040040969848633\n",
      "Accuracy 0.6701745390892029\n",
      "Accuracy 0.39040040969848633\n",
      "Accuracy 0.29491788148880005\n",
      "Accuracy 0.6095995903015137\n",
      "Accuracy 0.09727925062179565\n"
     ]
    },
    {
     "name": "stderr",
     "output_type": "stream",
     "text": [
      "INFO:mealpy.bio_based.SOA.OriginalSOA:>>>Problem: P, Epoch: 12, Current best: 0.09727925062179565, Global best: 0.09548252820968628, Runtime: 1786.27585 seconds\n"
     ]
    },
    {
     "name": "stdout",
     "output_type": "stream",
     "text": [
      "Accuracy 0.39040040969848633\n",
      "Accuracy 0.39040040969848633\n",
      "Accuracy 0.6095995903015137\n",
      "Accuracy 0.26848047971725464\n",
      "Accuracy 0.39040040969848633\n",
      "Accuracy 0.39040040969848633\n",
      "Accuracy 0.39040040969848633\n",
      "Accuracy 0.39040040969848633\n",
      "Accuracy 0.6095995903015137\n",
      "Accuracy 0.39040040969848633\n",
      "Accuracy 0.6165297627449036\n",
      "Accuracy 0.39040040969848633\n",
      "Accuracy 0.6095995903015137\n",
      "Accuracy 0.39040040969848633\n",
      "Accuracy 0.6095995903015137\n",
      "Accuracy 0.6095995903015137\n",
      "Accuracy 0.6095995903015137\n",
      "Accuracy 0.39040040969848633\n",
      "Accuracy 0.29491788148880005\n",
      "Accuracy 0.6095995903015137\n"
     ]
    },
    {
     "name": "stderr",
     "output_type": "stream",
     "text": [
      "INFO:mealpy.bio_based.SOA.OriginalSOA:>>>Problem: P, Epoch: 13, Current best: 0.26848047971725464, Global best: 0.09548252820968628, Runtime: 1688.91060 seconds\n"
     ]
    },
    {
     "name": "stdout",
     "output_type": "stream",
     "text": [
      "Accuracy 0.39040040969848633\n",
      "Accuracy 0.39040040969848633\n",
      "Accuracy 0.10138601064682007\n",
      "Accuracy 0.39040040969848633\n",
      "Accuracy 0.39040040969848633\n",
      "Accuracy 0.39040040969848633\n",
      "Accuracy 0.39040040969848633\n",
      "Accuracy 0.2156057357788086\n",
      "Accuracy 0.19815194606781006\n",
      "Accuracy 0.6095995903015137\n",
      "Accuracy 0.39040040969848633\n",
      "Accuracy 0.6095995903015137\n",
      "Accuracy 0.39040040969848633\n",
      "Accuracy 0.6095995903015137\n",
      "Accuracy 0.24512320756912231\n",
      "Accuracy 0.39040040969848633\n",
      "Accuracy 0.09548252820968628\n",
      "Accuracy 0.39040040969848633\n",
      "Accuracy 0.39040040969848633\n",
      "Accuracy 0.6095995903015137\n"
     ]
    },
    {
     "name": "stderr",
     "output_type": "stream",
     "text": [
      "INFO:mealpy.bio_based.SOA.OriginalSOA:>>>Problem: P, Epoch: 14, Current best: 0.09548252820968628, Global best: 0.09548252820968628, Runtime: 1797.02553 seconds\n"
     ]
    },
    {
     "name": "stdout",
     "output_type": "stream",
     "text": [
      "Accuracy 0.459445595741272\n",
      "Accuracy 0.6180698275566101\n",
      "Accuracy 0.36242300271987915\n",
      "Accuracy 0.4614989757537842\n",
      "Accuracy 0.45893222093582153\n",
      "Accuracy 0.4355749487876892\n",
      "Accuracy 0.5225872695446014\n",
      "Accuracy 0.09548252820968628\n",
      "Accuracy 0.35523611307144165\n",
      "Accuracy 0.3557494878768921\n",
      "Accuracy 0.21303904056549072\n",
      "Accuracy 0.5487679541110992\n",
      "Accuracy 0.11088293790817261\n",
      "Accuracy 0.4065708518028259\n",
      "Accuracy 0.5823921859264374\n",
      "Accuracy 0.09548252820968628\n",
      "Accuracy 0.10523611307144165\n",
      "Accuracy 0.6350102722644806\n",
      "Accuracy 0.610882967710495\n",
      "Accuracy 0.2648870348930359\n"
     ]
    },
    {
     "name": "stderr",
     "output_type": "stream",
     "text": [
      "INFO:mealpy.bio_based.SOA.OriginalSOA:>>>Problem: P, Epoch: 15, Current best: 0.09548252820968628, Global best: 0.09548252820968628, Runtime: 1282.30284 seconds\n"
     ]
    },
    {
     "name": "stdout",
     "output_type": "stream",
     "text": [
      "Accuracy 0.09599590301513672\n",
      "Solution: [2.99       1.8882204  2.05132718 2.99       2.99      ], Fitness: 0.09548252820968628\n",
      "Solution: [2.99       1.8882204  2.05132718 2.99       2.99      ], Fitness: 0.09548252820968628\n"
     ]
    }
   ],
   "source": [
    "BATCH_ENCODER = LabelEncoder()\n",
    "BATCH_ENCODER.fit([32, 64, 128])\n",
    "\n",
    "#act encoder --> Which activation function should be used?\n",
    "ACT_ENCODER = LabelEncoder()\n",
    "ACT_ENCODER.fit(['softmax', 'softplus', 'relu', 'tanh', 'sigmoid', 'hard_sigmoid', 'linear'])\n",
    "\n",
    "#Learning Rate encoder\n",
    "LR_ENCODER = LabelEncoder()\n",
    "LR_ENCODER.fit([0.0005, 0.001, 0.005, 0.01, 0.05, 0.1])\n",
    "\n",
    "#Filter encoder\n",
    "FILTER_ENCODER = LabelEncoder()\n",
    "FILTER_ENCODER.fit([25, 50, 75])\n",
    "\n",
    "#Hidden Units encoder\n",
    "HIDDEN_ENCODER = LabelEncoder()\n",
    "HIDDEN_ENCODER.fit([400, 512, 640])\n",
    "\n",
    "def objective_function(params):\n",
    "  '''RULES:\n",
    "      Batch Size - 32, 64, 128\n",
    "      Activation - softmax, softplus, relu, tanh, sigmoid, hard_sigmoid, linear\n",
    "      Learning Rate - 0.0005, 0.001, 0.005, 0.01, 0.05, 0.1\n",
    "      Filters - 25, 50, 75\n",
    "      Hidden Units - 400, 512, 640\n",
    "      Dense Layers - 5, 8, 10\n",
    "  '''\n",
    "  batch_size = BATCH_ENCODER.inverse_transform([int(params[0])])[0]\n",
    "  activation = ACT_ENCODER.inverse_transform([int(params[1])])[0]\n",
    "  learning_rate = LR_ENCODER.inverse_transform([int(params[2])])[0]\n",
    "  filter = FILTER_ENCODER.inverse_transform([int(params[3])])[0]\n",
    "  hidden_units = HIDDEN_ENCODER.inverse_transform([int(params[4])])[0]\n",
    "\n",
    "  model = tensorflow.keras.Sequential()\n",
    "  model.add(tensorflow.keras.layers.Input(shape=(X_rebalance.shape[1], X_rebalance.shape[2]))),\n",
    "  model.add(tensorflow.keras.layers.Conv1D(filters=filter, kernel_size=3, activation='sigmoid')),\n",
    "  model.add(tensorflow.keras.layers.MaxPooling1D(pool_size=2)),\n",
    "  model.add(tensorflow.keras.layers.Dropout(0.3)),\n",
    "  model.add(tensorflow.keras.layers.BatchNormalization()),\n",
    "  model.add(tensorflow.keras.layers.LSTM(64)),\n",
    "  model.add(tensorflow.keras.layers.Flatten()),\n",
    "  model.add(tensorflow.keras.layers.Dense(int(hidden_units), activation=activation)),\n",
    "  model.add(tensorflow.keras.layers.Dropout(0.5)),\n",
    "  model.add(tensorflow.keras.layers.Dense(1, activation='sigmoid'))\n",
    "\n",
    "\n",
    "  optimizer = tensorflow.keras.optimizers.SGD(learning_rate=learning_rate)\n",
    "  model.compile(optimizer=optimizer, loss='binary_crossentropy', metrics=['accuracy'])\n",
    "\n",
    "  history = model.fit(X_rebalance, y_rebalance, batch_size=batch_size, epochs=15, validation_data=(X_validation_encode, y_validation_encode), verbose=0)\n",
    "  min_validation_accuracy = 1-history.history['val_accuracy'][-1]\n",
    "  print(f\"Accuracy {min_validation_accuracy}\")\n",
    "  return min_validation_accuracy\n",
    "\n",
    "LB = [0, 0, 0, 0, 0]\n",
    "UB = [2.99, 6.99, 5.99, 2.99, 2.99]\n",
    "\n",
    "problem_dict = {\n",
    "    \"obj_func\": objective_function,\n",
    "    \"bounds\": FloatVar(lb=LB, ub=UB),\n",
    "    \"minmax\": \"min\",\n",
    "    \"verbose\": True\n",
    "}\n",
    "\n",
    "model = SOA.OriginalSOA(epoch=15, pop_size=20, fc=2)\n",
    "g_best = model.solve(problem_dict)\n",
    "print(f\"Solution: {g_best.solution}, Fitness: {g_best.target.fitness}\")\n",
    "print(f\"Solution: {model.g_best.solution}, Fitness: {model.g_best.target.fitness}\")\n",
    "model.history.save_global_objectives_chart(filename=\"hello/goc\")\n",
    "model.history.save_local_objectives_chart(filename=\"hello/loc\")\n",
    "\n",
    "model.history.save_global_best_fitness_chart(filename=\"hello/gbfc\")\n",
    "model.history.save_local_best_fitness_chart(filename=\"hello/lbfc\")\n",
    "\n",
    "model.history.save_runtime_chart(filename=\"hello/rtc\")\n",
    "\n",
    "model.history.save_exploration_exploitation_chart(filename=\"hello/eec\")\n",
    "\n",
    "model.history.save_diversity_chart(filename=\"hello/dc\")"
   ]
  },
  {
   "cell_type": "markdown",
   "metadata": {
    "id": "2KHdtYexDP9e"
   },
   "source": [
    "Solution: Solution: [2.99       1.8882204  2.05132718 2.99       2.99      ], Fitness: 0.09548252820968628\n",
    "\n",
    "\n",
    "Batch Size - 32, 64, **128**\n",
    "\n",
    "Activation - softmax, **softplus**, relu, tanh, sigmoid, hard_sigmoid, linear\n",
    "\n",
    "Learning Rate - 0.0005, 0.001, **0.005**, 0.01, 0.05, 0.1\n",
    "\n",
    "Filters - 25, 50, **75**\n",
    "\n",
    "Hidden Units - 400, 512, **640**"
   ]
  },
  {
   "cell_type": "code",
   "execution_count": null,
   "metadata": {
    "colab": {
     "base_uri": "https://localhost:8080/",
     "height": 1000
    },
    "executionInfo": {
     "elapsed": 285921,
     "status": "ok",
     "timestamp": 1744826336818,
     "user": {
      "displayName": "Bethany Goss",
      "userId": "10125623664246589214"
     },
     "user_tz": 240
    },
    "id": "aklPE8P-Ddox",
    "outputId": "84f030a4-93ac-491e-bf49-3abcd61ff081"
   },
   "outputs": [
    {
     "data": {
      "text/html": [
       "<pre style=\"white-space:pre;overflow-x:auto;line-height:normal;font-family:Menlo,'DejaVu Sans Mono',consolas,'Courier New',monospace\"><span style=\"font-weight: bold\">Model: \"sequential_1\"</span>\n",
       "</pre>\n"
      ],
      "text/plain": [
       "\u001b[1mModel: \"sequential_1\"\u001b[0m\n"
      ]
     },
     "metadata": {},
     "output_type": "display_data"
    },
    {
     "data": {
      "text/html": [
       "<pre style=\"white-space:pre;overflow-x:auto;line-height:normal;font-family:Menlo,'DejaVu Sans Mono',consolas,'Courier New',monospace\">┏━━━━━━━━━━━━━━━━━━━━━━━━━━━━━━━━━┳━━━━━━━━━━━━━━━━━━━━━━━━┳━━━━━━━━━━━━━━━┓\n",
       "┃<span style=\"font-weight: bold\"> Layer (type)                    </span>┃<span style=\"font-weight: bold\"> Output Shape           </span>┃<span style=\"font-weight: bold\">       Param # </span>┃\n",
       "┡━━━━━━━━━━━━━━━━━━━━━━━━━━━━━━━━━╇━━━━━━━━━━━━━━━━━━━━━━━━╇━━━━━━━━━━━━━━━┩\n",
       "│ conv1d_1 (<span style=\"color: #0087ff; text-decoration-color: #0087ff\">Conv1D</span>)               │ (<span style=\"color: #00d7ff; text-decoration-color: #00d7ff\">None</span>, <span style=\"color: #00af00; text-decoration-color: #00af00\">2</span>, <span style=\"color: #00af00; text-decoration-color: #00af00\">75</span>)          │           <span style=\"color: #00af00; text-decoration-color: #00af00\">300</span> │\n",
       "├─────────────────────────────────┼────────────────────────┼───────────────┤\n",
       "│ max_pooling1d_1 (<span style=\"color: #0087ff; text-decoration-color: #0087ff\">MaxPooling1D</span>)  │ (<span style=\"color: #00d7ff; text-decoration-color: #00d7ff\">None</span>, <span style=\"color: #00af00; text-decoration-color: #00af00\">1</span>, <span style=\"color: #00af00; text-decoration-color: #00af00\">75</span>)          │             <span style=\"color: #00af00; text-decoration-color: #00af00\">0</span> │\n",
       "├─────────────────────────────────┼────────────────────────┼───────────────┤\n",
       "│ dropout_2 (<span style=\"color: #0087ff; text-decoration-color: #0087ff\">Dropout</span>)             │ (<span style=\"color: #00d7ff; text-decoration-color: #00d7ff\">None</span>, <span style=\"color: #00af00; text-decoration-color: #00af00\">1</span>, <span style=\"color: #00af00; text-decoration-color: #00af00\">75</span>)          │             <span style=\"color: #00af00; text-decoration-color: #00af00\">0</span> │\n",
       "├─────────────────────────────────┼────────────────────────┼───────────────┤\n",
       "│ batch_normalization_1           │ (<span style=\"color: #00d7ff; text-decoration-color: #00d7ff\">None</span>, <span style=\"color: #00af00; text-decoration-color: #00af00\">1</span>, <span style=\"color: #00af00; text-decoration-color: #00af00\">75</span>)          │           <span style=\"color: #00af00; text-decoration-color: #00af00\">300</span> │\n",
       "│ (<span style=\"color: #0087ff; text-decoration-color: #0087ff\">BatchNormalization</span>)            │                        │               │\n",
       "├─────────────────────────────────┼────────────────────────┼───────────────┤\n",
       "│ lstm_1 (<span style=\"color: #0087ff; text-decoration-color: #0087ff\">LSTM</span>)                   │ (<span style=\"color: #00d7ff; text-decoration-color: #00d7ff\">None</span>, <span style=\"color: #00af00; text-decoration-color: #00af00\">64</span>)             │        <span style=\"color: #00af00; text-decoration-color: #00af00\">35,840</span> │\n",
       "├─────────────────────────────────┼────────────────────────┼───────────────┤\n",
       "│ flatten_1 (<span style=\"color: #0087ff; text-decoration-color: #0087ff\">Flatten</span>)             │ (<span style=\"color: #00d7ff; text-decoration-color: #00d7ff\">None</span>, <span style=\"color: #00af00; text-decoration-color: #00af00\">64</span>)             │             <span style=\"color: #00af00; text-decoration-color: #00af00\">0</span> │\n",
       "├─────────────────────────────────┼────────────────────────┼───────────────┤\n",
       "│ dense_2 (<span style=\"color: #0087ff; text-decoration-color: #0087ff\">Dense</span>)                 │ (<span style=\"color: #00d7ff; text-decoration-color: #00d7ff\">None</span>, <span style=\"color: #00af00; text-decoration-color: #00af00\">640</span>)            │        <span style=\"color: #00af00; text-decoration-color: #00af00\">41,600</span> │\n",
       "├─────────────────────────────────┼────────────────────────┼───────────────┤\n",
       "│ dropout_3 (<span style=\"color: #0087ff; text-decoration-color: #0087ff\">Dropout</span>)             │ (<span style=\"color: #00d7ff; text-decoration-color: #00d7ff\">None</span>, <span style=\"color: #00af00; text-decoration-color: #00af00\">640</span>)            │             <span style=\"color: #00af00; text-decoration-color: #00af00\">0</span> │\n",
       "├─────────────────────────────────┼────────────────────────┼───────────────┤\n",
       "│ dense_3 (<span style=\"color: #0087ff; text-decoration-color: #0087ff\">Dense</span>)                 │ (<span style=\"color: #00d7ff; text-decoration-color: #00d7ff\">None</span>, <span style=\"color: #00af00; text-decoration-color: #00af00\">1</span>)              │           <span style=\"color: #00af00; text-decoration-color: #00af00\">641</span> │\n",
       "└─────────────────────────────────┴────────────────────────┴───────────────┘\n",
       "</pre>\n"
      ],
      "text/plain": [
       "┏━━━━━━━━━━━━━━━━━━━━━━━━━━━━━━━━━┳━━━━━━━━━━━━━━━━━━━━━━━━┳━━━━━━━━━━━━━━━┓\n",
       "┃\u001b[1m \u001b[0m\u001b[1mLayer (type)                   \u001b[0m\u001b[1m \u001b[0m┃\u001b[1m \u001b[0m\u001b[1mOutput Shape          \u001b[0m\u001b[1m \u001b[0m┃\u001b[1m \u001b[0m\u001b[1m      Param #\u001b[0m\u001b[1m \u001b[0m┃\n",
       "┡━━━━━━━━━━━━━━━━━━━━━━━━━━━━━━━━━╇━━━━━━━━━━━━━━━━━━━━━━━━╇━━━━━━━━━━━━━━━┩\n",
       "│ conv1d_1 (\u001b[38;5;33mConv1D\u001b[0m)               │ (\u001b[38;5;45mNone\u001b[0m, \u001b[38;5;34m2\u001b[0m, \u001b[38;5;34m75\u001b[0m)          │           \u001b[38;5;34m300\u001b[0m │\n",
       "├─────────────────────────────────┼────────────────────────┼───────────────┤\n",
       "│ max_pooling1d_1 (\u001b[38;5;33mMaxPooling1D\u001b[0m)  │ (\u001b[38;5;45mNone\u001b[0m, \u001b[38;5;34m1\u001b[0m, \u001b[38;5;34m75\u001b[0m)          │             \u001b[38;5;34m0\u001b[0m │\n",
       "├─────────────────────────────────┼────────────────────────┼───────────────┤\n",
       "│ dropout_2 (\u001b[38;5;33mDropout\u001b[0m)             │ (\u001b[38;5;45mNone\u001b[0m, \u001b[38;5;34m1\u001b[0m, \u001b[38;5;34m75\u001b[0m)          │             \u001b[38;5;34m0\u001b[0m │\n",
       "├─────────────────────────────────┼────────────────────────┼───────────────┤\n",
       "│ batch_normalization_1           │ (\u001b[38;5;45mNone\u001b[0m, \u001b[38;5;34m1\u001b[0m, \u001b[38;5;34m75\u001b[0m)          │           \u001b[38;5;34m300\u001b[0m │\n",
       "│ (\u001b[38;5;33mBatchNormalization\u001b[0m)            │                        │               │\n",
       "├─────────────────────────────────┼────────────────────────┼───────────────┤\n",
       "│ lstm_1 (\u001b[38;5;33mLSTM\u001b[0m)                   │ (\u001b[38;5;45mNone\u001b[0m, \u001b[38;5;34m64\u001b[0m)             │        \u001b[38;5;34m35,840\u001b[0m │\n",
       "├─────────────────────────────────┼────────────────────────┼───────────────┤\n",
       "│ flatten_1 (\u001b[38;5;33mFlatten\u001b[0m)             │ (\u001b[38;5;45mNone\u001b[0m, \u001b[38;5;34m64\u001b[0m)             │             \u001b[38;5;34m0\u001b[0m │\n",
       "├─────────────────────────────────┼────────────────────────┼───────────────┤\n",
       "│ dense_2 (\u001b[38;5;33mDense\u001b[0m)                 │ (\u001b[38;5;45mNone\u001b[0m, \u001b[38;5;34m640\u001b[0m)            │        \u001b[38;5;34m41,600\u001b[0m │\n",
       "├─────────────────────────────────┼────────────────────────┼───────────────┤\n",
       "│ dropout_3 (\u001b[38;5;33mDropout\u001b[0m)             │ (\u001b[38;5;45mNone\u001b[0m, \u001b[38;5;34m640\u001b[0m)            │             \u001b[38;5;34m0\u001b[0m │\n",
       "├─────────────────────────────────┼────────────────────────┼───────────────┤\n",
       "│ dense_3 (\u001b[38;5;33mDense\u001b[0m)                 │ (\u001b[38;5;45mNone\u001b[0m, \u001b[38;5;34m1\u001b[0m)              │           \u001b[38;5;34m641\u001b[0m │\n",
       "└─────────────────────────────────┴────────────────────────┴───────────────┘\n"
      ]
     },
     "metadata": {},
     "output_type": "display_data"
    },
    {
     "data": {
      "text/html": [
       "<pre style=\"white-space:pre;overflow-x:auto;line-height:normal;font-family:Menlo,'DejaVu Sans Mono',consolas,'Courier New',monospace\"><span style=\"font-weight: bold\"> Total params: </span><span style=\"color: #00af00; text-decoration-color: #00af00\">78,681</span> (307.35 KB)\n",
       "</pre>\n"
      ],
      "text/plain": [
       "\u001b[1m Total params: \u001b[0m\u001b[38;5;34m78,681\u001b[0m (307.35 KB)\n"
      ]
     },
     "metadata": {},
     "output_type": "display_data"
    },
    {
     "data": {
      "text/html": [
       "<pre style=\"white-space:pre;overflow-x:auto;line-height:normal;font-family:Menlo,'DejaVu Sans Mono',consolas,'Courier New',monospace\"><span style=\"font-weight: bold\"> Trainable params: </span><span style=\"color: #00af00; text-decoration-color: #00af00\">78,531</span> (306.76 KB)\n",
       "</pre>\n"
      ],
      "text/plain": [
       "\u001b[1m Trainable params: \u001b[0m\u001b[38;5;34m78,531\u001b[0m (306.76 KB)\n"
      ]
     },
     "metadata": {},
     "output_type": "display_data"
    },
    {
     "data": {
      "text/html": [
       "<pre style=\"white-space:pre;overflow-x:auto;line-height:normal;font-family:Menlo,'DejaVu Sans Mono',consolas,'Courier New',monospace\"><span style=\"font-weight: bold\"> Non-trainable params: </span><span style=\"color: #00af00; text-decoration-color: #00af00\">150</span> (600.00 B)\n",
       "</pre>\n"
      ],
      "text/plain": [
       "\u001b[1m Non-trainable params: \u001b[0m\u001b[38;5;34m150\u001b[0m (600.00 B)\n"
      ]
     },
     "metadata": {},
     "output_type": "display_data"
    },
    {
     "name": "stdout",
     "output_type": "stream",
     "text": [
      "Epoch 1/70\n",
      "\u001b[1m300/300\u001b[0m \u001b[32m━━━━━━━━━━━━━━━━━━━━\u001b[0m\u001b[37m\u001b[0m \u001b[1m6s\u001b[0m 10ms/step - accuracy: 0.4964 - loss: 0.8013 - val_accuracy: 0.3904 - val_loss: 0.6991\n",
      "Epoch 2/70\n",
      "\u001b[1m300/300\u001b[0m \u001b[32m━━━━━━━━━━━━━━━━━━━━\u001b[0m\u001b[37m\u001b[0m \u001b[1m5s\u001b[0m 9ms/step - accuracy: 0.5031 - loss: 0.7685 - val_accuracy: 0.6096 - val_loss: 0.6888\n",
      "Epoch 3/70\n",
      "\u001b[1m300/300\u001b[0m \u001b[32m━━━━━━━━━━━━━━━━━━━━\u001b[0m\u001b[37m\u001b[0m \u001b[1m4s\u001b[0m 13ms/step - accuracy: 0.5006 - loss: 0.7533 - val_accuracy: 0.6096 - val_loss: 0.6796\n",
      "Epoch 4/70\n",
      "\u001b[1m300/300\u001b[0m \u001b[32m━━━━━━━━━━━━━━━━━━━━\u001b[0m\u001b[37m\u001b[0m \u001b[1m4s\u001b[0m 12ms/step - accuracy: 0.5078 - loss: 0.7331 - val_accuracy: 0.6096 - val_loss: 0.6841\n",
      "Epoch 5/70\n",
      "\u001b[1m300/300\u001b[0m \u001b[32m━━━━━━━━━━━━━━━━━━━━\u001b[0m\u001b[37m\u001b[0m \u001b[1m3s\u001b[0m 10ms/step - accuracy: 0.5049 - loss: 0.7226 - val_accuracy: 0.3904 - val_loss: 0.7028\n",
      "Epoch 6/70\n",
      "\u001b[1m300/300\u001b[0m \u001b[32m━━━━━━━━━━━━━━━━━━━━\u001b[0m\u001b[37m\u001b[0m \u001b[1m3s\u001b[0m 10ms/step - accuracy: 0.5042 - loss: 0.7148 - val_accuracy: 0.3904 - val_loss: 0.7029\n",
      "Epoch 7/70\n",
      "\u001b[1m300/300\u001b[0m \u001b[32m━━━━━━━━━━━━━━━━━━━━\u001b[0m\u001b[37m\u001b[0m \u001b[1m3s\u001b[0m 11ms/step - accuracy: 0.5102 - loss: 0.7075 - val_accuracy: 0.6096 - val_loss: 0.6846\n",
      "Epoch 8/70\n",
      "\u001b[1m300/300\u001b[0m \u001b[32m━━━━━━━━━━━━━━━━━━━━\u001b[0m\u001b[37m\u001b[0m \u001b[1m5s\u001b[0m 9ms/step - accuracy: 0.4989 - loss: 0.7059 - val_accuracy: 0.3904 - val_loss: 0.7096\n",
      "Epoch 9/70\n",
      "\u001b[1m300/300\u001b[0m \u001b[32m━━━━━━━━━━━━━━━━━━━━\u001b[0m\u001b[37m\u001b[0m \u001b[1m3s\u001b[0m 9ms/step - accuracy: 0.5109 - loss: 0.7009 - val_accuracy: 0.3904 - val_loss: 0.7176\n",
      "Epoch 10/70\n",
      "\u001b[1m300/300\u001b[0m \u001b[32m━━━━━━━━━━━━━━━━━━━━\u001b[0m\u001b[37m\u001b[0m \u001b[1m3s\u001b[0m 9ms/step - accuracy: 0.5130 - loss: 0.6987 - val_accuracy: 0.3904 - val_loss: 0.7062\n",
      "Epoch 11/70\n",
      "\u001b[1m300/300\u001b[0m \u001b[32m━━━━━━━━━━━━━━━━━━━━\u001b[0m\u001b[37m\u001b[0m \u001b[1m4s\u001b[0m 12ms/step - accuracy: 0.5137 - loss: 0.6965 - val_accuracy: 0.6489 - val_loss: 0.6922\n",
      "Epoch 12/70\n",
      "\u001b[1m300/300\u001b[0m \u001b[32m━━━━━━━━━━━━━━━━━━━━\u001b[0m\u001b[37m\u001b[0m \u001b[1m4s\u001b[0m 9ms/step - accuracy: 0.5120 - loss: 0.6959 - val_accuracy: 0.6096 - val_loss: 0.6800\n",
      "Epoch 13/70\n",
      "\u001b[1m300/300\u001b[0m \u001b[32m━━━━━━━━━━━━━━━━━━━━\u001b[0m\u001b[37m\u001b[0m \u001b[1m5s\u001b[0m 9ms/step - accuracy: 0.5198 - loss: 0.6941 - val_accuracy: 0.3904 - val_loss: 0.6972\n",
      "Epoch 14/70\n",
      "\u001b[1m300/300\u001b[0m \u001b[32m━━━━━━━━━━━━━━━━━━━━\u001b[0m\u001b[37m\u001b[0m \u001b[1m3s\u001b[0m 11ms/step - accuracy: 0.5187 - loss: 0.6938 - val_accuracy: 0.3904 - val_loss: 0.7003\n",
      "Epoch 15/70\n",
      "\u001b[1m300/300\u001b[0m \u001b[32m━━━━━━━━━━━━━━━━━━━━\u001b[0m\u001b[37m\u001b[0m \u001b[1m4s\u001b[0m 13ms/step - accuracy: 0.5149 - loss: 0.6941 - val_accuracy: 0.3904 - val_loss: 0.6951\n",
      "Epoch 16/70\n",
      "\u001b[1m300/300\u001b[0m \u001b[32m━━━━━━━━━━━━━━━━━━━━\u001b[0m\u001b[37m\u001b[0m \u001b[1m3s\u001b[0m 9ms/step - accuracy: 0.5182 - loss: 0.6932 - val_accuracy: 0.6096 - val_loss: 0.6855\n",
      "Epoch 17/70\n",
      "\u001b[1m300/300\u001b[0m \u001b[32m━━━━━━━━━━━━━━━━━━━━\u001b[0m\u001b[37m\u001b[0m \u001b[1m3s\u001b[0m 9ms/step - accuracy: 0.5200 - loss: 0.6928 - val_accuracy: 0.3904 - val_loss: 0.7101\n",
      "Epoch 18/70\n",
      "\u001b[1m300/300\u001b[0m \u001b[32m━━━━━━━━━━━━━━━━━━━━\u001b[0m\u001b[37m\u001b[0m \u001b[1m7s\u001b[0m 14ms/step - accuracy: 0.5174 - loss: 0.6917 - val_accuracy: 0.3904 - val_loss: 0.7051\n",
      "Epoch 19/70\n",
      "\u001b[1m300/300\u001b[0m \u001b[32m━━━━━━━━━━━━━━━━━━━━\u001b[0m\u001b[37m\u001b[0m \u001b[1m3s\u001b[0m 10ms/step - accuracy: 0.5248 - loss: 0.6922 - val_accuracy: 0.6096 - val_loss: 0.6861\n",
      "Epoch 20/70\n",
      "\u001b[1m300/300\u001b[0m \u001b[32m━━━━━━━━━━━━━━━━━━━━\u001b[0m\u001b[37m\u001b[0m \u001b[1m3s\u001b[0m 9ms/step - accuracy: 0.5169 - loss: 0.6930 - val_accuracy: 0.5631 - val_loss: 0.6918\n",
      "Epoch 21/70\n",
      "\u001b[1m300/300\u001b[0m \u001b[32m━━━━━━━━━━━━━━━━━━━━\u001b[0m\u001b[37m\u001b[0m \u001b[1m5s\u001b[0m 10ms/step - accuracy: 0.5221 - loss: 0.6924 - val_accuracy: 0.3904 - val_loss: 0.6971\n",
      "Epoch 22/70\n",
      "\u001b[1m300/300\u001b[0m \u001b[32m━━━━━━━━━━━━━━━━━━━━\u001b[0m\u001b[37m\u001b[0m \u001b[1m5s\u001b[0m 9ms/step - accuracy: 0.5231 - loss: 0.6927 - val_accuracy: 0.6096 - val_loss: 0.6868\n",
      "Epoch 23/70\n",
      "\u001b[1m300/300\u001b[0m \u001b[32m━━━━━━━━━━━━━━━━━━━━\u001b[0m\u001b[37m\u001b[0m \u001b[1m5s\u001b[0m 9ms/step - accuracy: 0.5251 - loss: 0.6925 - val_accuracy: 0.3904 - val_loss: 0.7081\n",
      "Epoch 24/70\n",
      "\u001b[1m300/300\u001b[0m \u001b[32m━━━━━━━━━━━━━━━━━━━━\u001b[0m\u001b[37m\u001b[0m \u001b[1m3s\u001b[0m 11ms/step - accuracy: 0.5306 - loss: 0.6902 - val_accuracy: 0.3904 - val_loss: 0.6998\n",
      "Epoch 25/70\n",
      "\u001b[1m300/300\u001b[0m \u001b[32m━━━━━━━━━━━━━━━━━━━━\u001b[0m\u001b[37m\u001b[0m \u001b[1m5s\u001b[0m 10ms/step - accuracy: 0.5275 - loss: 0.6907 - val_accuracy: 0.9045 - val_loss: 0.6898\n",
      "Epoch 26/70\n",
      "\u001b[1m300/300\u001b[0m \u001b[32m━━━━━━━━━━━━━━━━━━━━\u001b[0m\u001b[37m\u001b[0m \u001b[1m3s\u001b[0m 9ms/step - accuracy: 0.5299 - loss: 0.6903 - val_accuracy: 0.6096 - val_loss: 0.6793\n",
      "Epoch 27/70\n",
      "\u001b[1m300/300\u001b[0m \u001b[32m━━━━━━━━━━━━━━━━━━━━\u001b[0m\u001b[37m\u001b[0m \u001b[1m6s\u001b[0m 11ms/step - accuracy: 0.5309 - loss: 0.6909 - val_accuracy: 0.6096 - val_loss: 0.6803\n",
      "Epoch 28/70\n",
      "\u001b[1m300/300\u001b[0m \u001b[32m━━━━━━━━━━━━━━━━━━━━\u001b[0m\u001b[37m\u001b[0m \u001b[1m4s\u001b[0m 13ms/step - accuracy: 0.5328 - loss: 0.6898 - val_accuracy: 0.3901 - val_loss: 0.6921\n",
      "Epoch 29/70\n",
      "\u001b[1m300/300\u001b[0m \u001b[32m━━━━━━━━━━━━━━━━━━━━\u001b[0m\u001b[37m\u001b[0m \u001b[1m4s\u001b[0m 9ms/step - accuracy: 0.5349 - loss: 0.6894 - val_accuracy: 0.3904 - val_loss: 0.7078\n",
      "Epoch 30/70\n",
      "\u001b[1m300/300\u001b[0m \u001b[32m━━━━━━━━━━━━━━━━━━━━\u001b[0m\u001b[37m\u001b[0m \u001b[1m3s\u001b[0m 9ms/step - accuracy: 0.5411 - loss: 0.6876 - val_accuracy: 0.6096 - val_loss: 0.6831\n",
      "Epoch 31/70\n",
      "\u001b[1m300/300\u001b[0m \u001b[32m━━━━━━━━━━━━━━━━━━━━\u001b[0m\u001b[37m\u001b[0m \u001b[1m3s\u001b[0m 11ms/step - accuracy: 0.5434 - loss: 0.6878 - val_accuracy: 0.3904 - val_loss: 0.6939\n",
      "Epoch 32/70\n",
      "\u001b[1m300/300\u001b[0m \u001b[32m━━━━━━━━━━━━━━━━━━━━\u001b[0m\u001b[37m\u001b[0m \u001b[1m4s\u001b[0m 14ms/step - accuracy: 0.5350 - loss: 0.6892 - val_accuracy: 0.3904 - val_loss: 0.7012\n",
      "Epoch 33/70\n",
      "\u001b[1m300/300\u001b[0m \u001b[32m━━━━━━━━━━━━━━━━━━━━\u001b[0m\u001b[37m\u001b[0m \u001b[1m3s\u001b[0m 9ms/step - accuracy: 0.5422 - loss: 0.6878 - val_accuracy: 0.3904 - val_loss: 0.7030\n",
      "Epoch 34/70\n",
      "\u001b[1m300/300\u001b[0m \u001b[32m━━━━━━━━━━━━━━━━━━━━\u001b[0m\u001b[37m\u001b[0m \u001b[1m5s\u001b[0m 10ms/step - accuracy: 0.5418 - loss: 0.6879 - val_accuracy: 0.6096 - val_loss: 0.6820\n",
      "Epoch 35/70\n",
      "\u001b[1m300/300\u001b[0m \u001b[32m━━━━━━━━━━━━━━━━━━━━\u001b[0m\u001b[37m\u001b[0m \u001b[1m6s\u001b[0m 12ms/step - accuracy: 0.5432 - loss: 0.6862 - val_accuracy: 0.8540 - val_loss: 0.6882\n",
      "Epoch 36/70\n",
      "\u001b[1m300/300\u001b[0m \u001b[32m━━━━━━━━━━━━━━━━━━━━\u001b[0m\u001b[37m\u001b[0m \u001b[1m3s\u001b[0m 9ms/step - accuracy: 0.5493 - loss: 0.6863 - val_accuracy: 0.6096 - val_loss: 0.6793\n",
      "Epoch 37/70\n",
      "\u001b[1m300/300\u001b[0m \u001b[32m━━━━━━━━━━━━━━━━━━━━\u001b[0m\u001b[37m\u001b[0m \u001b[1m3s\u001b[0m 9ms/step - accuracy: 0.5536 - loss: 0.6850 - val_accuracy: 0.6137 - val_loss: 0.6842\n",
      "Epoch 38/70\n",
      "\u001b[1m300/300\u001b[0m \u001b[32m━━━━━━━━━━━━━━━━━━━━\u001b[0m\u001b[37m\u001b[0m \u001b[1m7s\u001b[0m 15ms/step - accuracy: 0.5540 - loss: 0.6848 - val_accuracy: 0.6845 - val_loss: 0.6876\n",
      "Epoch 39/70\n",
      "\u001b[1m300/300\u001b[0m \u001b[32m━━━━━━━━━━━━━━━━━━━━\u001b[0m\u001b[37m\u001b[0m \u001b[1m3s\u001b[0m 10ms/step - accuracy: 0.5598 - loss: 0.6822 - val_accuracy: 0.3904 - val_loss: 0.6924\n",
      "Epoch 40/70\n",
      "\u001b[1m300/300\u001b[0m \u001b[32m━━━━━━━━━━━━━━━━━━━━\u001b[0m\u001b[37m\u001b[0m \u001b[1m5s\u001b[0m 9ms/step - accuracy: 0.5653 - loss: 0.6805 - val_accuracy: 0.6096 - val_loss: 0.6810\n",
      "Epoch 41/70\n",
      "\u001b[1m300/300\u001b[0m \u001b[32m━━━━━━━━━━━━━━━━━━━━\u001b[0m\u001b[37m\u001b[0m \u001b[1m3s\u001b[0m 11ms/step - accuracy: 0.5685 - loss: 0.6788 - val_accuracy: 0.3904 - val_loss: 0.6907\n",
      "Epoch 42/70\n",
      "\u001b[1m300/300\u001b[0m \u001b[32m━━━━━━━━━━━━━━━━━━━━\u001b[0m\u001b[37m\u001b[0m \u001b[1m4s\u001b[0m 14ms/step - accuracy: 0.5770 - loss: 0.6763 - val_accuracy: 0.3904 - val_loss: 0.6971\n",
      "Epoch 43/70\n",
      "\u001b[1m300/300\u001b[0m \u001b[32m━━━━━━━━━━━━━━━━━━━━\u001b[0m\u001b[37m\u001b[0m \u001b[1m3s\u001b[0m 9ms/step - accuracy: 0.5774 - loss: 0.6758 - val_accuracy: 0.3904 - val_loss: 0.6993\n",
      "Epoch 44/70\n",
      "\u001b[1m300/300\u001b[0m \u001b[32m━━━━━━━━━━━━━━━━━━━━\u001b[0m\u001b[37m\u001b[0m \u001b[1m5s\u001b[0m 9ms/step - accuracy: 0.5799 - loss: 0.6731 - val_accuracy: 0.9043 - val_loss: 0.6794\n",
      "Epoch 45/70\n",
      "\u001b[1m300/300\u001b[0m \u001b[32m━━━━━━━━━━━━━━━━━━━━\u001b[0m\u001b[37m\u001b[0m \u001b[1m4s\u001b[0m 13ms/step - accuracy: 0.5808 - loss: 0.6739 - val_accuracy: 0.6104 - val_loss: 0.6826\n",
      "Epoch 46/70\n",
      "\u001b[1m300/300\u001b[0m \u001b[32m━━━━━━━━━━━━━━━━━━━━\u001b[0m\u001b[37m\u001b[0m \u001b[1m4s\u001b[0m 13ms/step - accuracy: 0.5967 - loss: 0.6666 - val_accuracy: 0.3904 - val_loss: 0.6994\n",
      "Epoch 47/70\n",
      "\u001b[1m300/300\u001b[0m \u001b[32m━━━━━━━━━━━━━━━━━━━━\u001b[0m\u001b[37m\u001b[0m \u001b[1m3s\u001b[0m 9ms/step - accuracy: 0.6012 - loss: 0.6625 - val_accuracy: 0.3429 - val_loss: 0.6849\n",
      "Epoch 48/70\n",
      "\u001b[1m300/300\u001b[0m \u001b[32m━━━━━━━━━━━━━━━━━━━━\u001b[0m\u001b[37m\u001b[0m \u001b[1m5s\u001b[0m 9ms/step - accuracy: 0.5988 - loss: 0.6621 - val_accuracy: 0.3904 - val_loss: 0.6871\n",
      "Epoch 49/70\n",
      "\u001b[1m300/300\u001b[0m \u001b[32m━━━━━━━━━━━━━━━━━━━━\u001b[0m\u001b[37m\u001b[0m \u001b[1m6s\u001b[0m 11ms/step - accuracy: 0.6082 - loss: 0.6571 - val_accuracy: 0.9045 - val_loss: 0.6640\n",
      "Epoch 50/70\n",
      "\u001b[1m300/300\u001b[0m \u001b[32m━━━━━━━━━━━━━━━━━━━━\u001b[0m\u001b[37m\u001b[0m \u001b[1m5s\u001b[0m 9ms/step - accuracy: 0.6249 - loss: 0.6486 - val_accuracy: 0.3755 - val_loss: 0.6785\n",
      "Epoch 51/70\n",
      "\u001b[1m300/300\u001b[0m \u001b[32m━━━━━━━━━━━━━━━━━━━━\u001b[0m\u001b[37m\u001b[0m \u001b[1m6s\u001b[0m 14ms/step - accuracy: 0.6356 - loss: 0.6420 - val_accuracy: 0.3986 - val_loss: 0.6735\n",
      "Epoch 52/70\n",
      "\u001b[1m300/300\u001b[0m \u001b[32m━━━━━━━━━━━━━━━━━━━━\u001b[0m\u001b[37m\u001b[0m \u001b[1m4s\u001b[0m 9ms/step - accuracy: 0.6434 - loss: 0.6353 - val_accuracy: 0.3904 - val_loss: 0.6928\n",
      "Epoch 53/70\n",
      "\u001b[1m300/300\u001b[0m \u001b[32m━━━━━━━━━━━━━━━━━━━━\u001b[0m\u001b[37m\u001b[0m \u001b[1m3s\u001b[0m 10ms/step - accuracy: 0.6575 - loss: 0.6232 - val_accuracy: 0.3904 - val_loss: 0.6794\n",
      "Epoch 54/70\n",
      "\u001b[1m300/300\u001b[0m \u001b[32m━━━━━━━━━━━━━━━━━━━━\u001b[0m\u001b[37m\u001b[0m \u001b[1m3s\u001b[0m 9ms/step - accuracy: 0.6643 - loss: 0.6142 - val_accuracy: 0.7179 - val_loss: 0.6537\n",
      "Epoch 55/70\n",
      "\u001b[1m300/300\u001b[0m \u001b[32m━━━━━━━━━━━━━━━━━━━━\u001b[0m\u001b[37m\u001b[0m \u001b[1m6s\u001b[0m 13ms/step - accuracy: 0.6784 - loss: 0.6061 - val_accuracy: 0.8883 - val_loss: 0.6398\n",
      "Epoch 56/70\n",
      "\u001b[1m300/300\u001b[0m \u001b[32m━━━━━━━━━━━━━━━━━━━━\u001b[0m\u001b[37m\u001b[0m \u001b[1m3s\u001b[0m 9ms/step - accuracy: 0.6955 - loss: 0.5893 - val_accuracy: 0.3794 - val_loss: 0.6558\n",
      "Epoch 57/70\n",
      "\u001b[1m300/300\u001b[0m \u001b[32m━━━━━━━━━━━━━━━━━━━━\u001b[0m\u001b[37m\u001b[0m \u001b[1m3s\u001b[0m 9ms/step - accuracy: 0.7063 - loss: 0.5812 - val_accuracy: 0.5257 - val_loss: 0.6429\n",
      "Epoch 58/70\n",
      "\u001b[1m300/300\u001b[0m \u001b[32m━━━━━━━━━━━━━━━━━━━━\u001b[0m\u001b[37m\u001b[0m \u001b[1m7s\u001b[0m 14ms/step - accuracy: 0.7201 - loss: 0.5661 - val_accuracy: 0.8642 - val_loss: 0.6174\n",
      "Epoch 59/70\n",
      "\u001b[1m300/300\u001b[0m \u001b[32m━━━━━━━━━━━━━━━━━━━━\u001b[0m\u001b[37m\u001b[0m \u001b[1m3s\u001b[0m 11ms/step - accuracy: 0.7289 - loss: 0.5525 - val_accuracy: 0.3768 - val_loss: 0.6494\n",
      "Epoch 60/70\n",
      "\u001b[1m300/300\u001b[0m \u001b[32m━━━━━━━━━━━━━━━━━━━━\u001b[0m\u001b[37m\u001b[0m \u001b[1m3s\u001b[0m 9ms/step - accuracy: 0.7359 - loss: 0.5455 - val_accuracy: 0.3760 - val_loss: 0.6476\n",
      "Epoch 61/70\n",
      "\u001b[1m300/300\u001b[0m \u001b[32m━━━━━━━━━━━━━━━━━━━━\u001b[0m\u001b[37m\u001b[0m \u001b[1m5s\u001b[0m 10ms/step - accuracy: 0.7476 - loss: 0.5302 - val_accuracy: 0.5693 - val_loss: 0.6152\n",
      "Epoch 62/70\n",
      "\u001b[1m300/300\u001b[0m \u001b[32m━━━━━━━━━━━━━━━━━━━━\u001b[0m\u001b[37m\u001b[0m \u001b[1m5s\u001b[0m 15ms/step - accuracy: 0.7606 - loss: 0.5184 - val_accuracy: 0.7572 - val_loss: 0.5973\n",
      "Epoch 63/70\n",
      "\u001b[1m300/300\u001b[0m \u001b[32m━━━━━━━━━━━━━━━━━━━━\u001b[0m\u001b[37m\u001b[0m \u001b[1m3s\u001b[0m 9ms/step - accuracy: 0.7634 - loss: 0.5121 - val_accuracy: 0.7541 - val_loss: 0.5910\n",
      "Epoch 64/70\n",
      "\u001b[1m300/300\u001b[0m \u001b[32m━━━━━━━━━━━━━━━━━━━━\u001b[0m\u001b[37m\u001b[0m \u001b[1m5s\u001b[0m 9ms/step - accuracy: 0.7703 - loss: 0.5044 - val_accuracy: 0.7795 - val_loss: 0.5825\n",
      "Epoch 65/70\n",
      "\u001b[1m300/300\u001b[0m \u001b[32m━━━━━━━━━━━━━━━━━━━━\u001b[0m\u001b[37m\u001b[0m \u001b[1m4s\u001b[0m 12ms/step - accuracy: 0.7845 - loss: 0.4906 - val_accuracy: 0.8978 - val_loss: 0.5571\n",
      "Epoch 66/70\n",
      "\u001b[1m300/300\u001b[0m \u001b[32m━━━━━━━━━━━━━━━━━━━━\u001b[0m\u001b[37m\u001b[0m \u001b[1m4s\u001b[0m 10ms/step - accuracy: 0.7826 - loss: 0.4843 - val_accuracy: 0.9045 - val_loss: 0.5328\n",
      "Epoch 67/70\n",
      "\u001b[1m300/300\u001b[0m \u001b[32m━━━━━━━━━━━━━━━━━━━━\u001b[0m\u001b[37m\u001b[0m \u001b[1m3s\u001b[0m 9ms/step - accuracy: 0.7961 - loss: 0.4717 - val_accuracy: 0.8688 - val_loss: 0.5535\n",
      "Epoch 68/70\n",
      "\u001b[1m300/300\u001b[0m \u001b[32m━━━━━━━━━━━━━━━━━━━━\u001b[0m\u001b[37m\u001b[0m \u001b[1m6s\u001b[0m 12ms/step - accuracy: 0.7942 - loss: 0.4703 - val_accuracy: 0.8996 - val_loss: 0.5372\n",
      "Epoch 69/70\n",
      "\u001b[1m300/300\u001b[0m \u001b[32m━━━━━━━━━━━━━━━━━━━━\u001b[0m\u001b[37m\u001b[0m \u001b[1m4s\u001b[0m 13ms/step - accuracy: 0.7958 - loss: 0.4650 - val_accuracy: 0.9045 - val_loss: 0.5142\n",
      "Epoch 70/70\n",
      "\u001b[1m300/300\u001b[0m \u001b[32m━━━━━━━━━━━━━━━━━━━━\u001b[0m\u001b[37m\u001b[0m \u001b[1m3s\u001b[0m 10ms/step - accuracy: 0.7988 - loss: 0.4588 - val_accuracy: 0.9045 - val_loss: 0.5061\n",
      "\u001b[1m122/122\u001b[0m \u001b[32m━━━━━━━━━━━━━━━━━━━━\u001b[0m\u001b[37m\u001b[0m \u001b[1m0s\u001b[0m 3ms/step - accuracy: 0.8999 - loss: 0.5120\n",
      "\u001b[1m122/122\u001b[0m \u001b[32m━━━━━━━━━━━━━━━━━━━━\u001b[0m\u001b[37m\u001b[0m \u001b[1m1s\u001b[0m 4ms/step\n",
      "[[0.32815862]\n",
      " [0.63020456]\n",
      " [0.72999203]\n",
      " ...\n",
      " [0.62958926]\n",
      " [0.6856488 ]\n",
      " [0.6613582 ]]\n",
      "[[0]\n",
      " [1]\n",
      " [1]\n",
      " ...\n",
      " [1]\n",
      " [1]\n",
      " [1]]\n",
      "0       0\n",
      "1       1\n",
      "2       0\n",
      "3       0\n",
      "4       0\n",
      "       ..\n",
      "3891    1\n",
      "3892    1\n",
      "3893    1\n",
      "3894    0\n",
      "3895    1\n",
      "Name: label, Length: 3896, dtype: int64\n",
      "Test Loss: 0.5151297450065613, Test Accuracy: 0.8955338597297668\n",
      "\n"
     ]
    },
    {
     "data": {
      "image/png": "[encoded data removed]",
      "text/plain": [
       "<Figure size 640x480 with 1 Axes>"
      ]
     },
     "metadata": {},
     "output_type": "display_data"
    },
    {
     "name": "stdout",
     "output_type": "stream",
     "text": [
      "\n",
      "\n"
     ]
    },
    {
     "data": {
      "image/png": "[encoded data removed]",
      "text/plain": [
       "<Figure size 640x480 with 1 Axes>"
      ]
     },
     "metadata": {},
     "output_type": "display_data"
    },
    {
     "name": "stdout",
     "output_type": "stream",
     "text": [
      "\n",
      "Classification Report\n",
      "              precision    recall  f1-score   support\n",
      "\n",
      "           0       1.00      0.73      0.85      1527\n",
      "           1       0.85      1.00      0.92      2369\n",
      "\n",
      "    accuracy                           0.90      3896\n",
      "   macro avg       0.93      0.87      0.88      3896\n",
      "weighted avg       0.91      0.90      0.89      3896\n",
      "\n",
      "\n",
      "Confusion Matrix\n",
      "[[1120  407]\n",
      " [   0 2369]]\n"
     ]
    },
    {
     "data": {
      "image/png": "[encoded data removed]",
      "text/plain": [
       "<Figure size 640x480 with 2 Axes>"
      ]
     },
     "metadata": {},
     "output_type": "display_data"
    },
    {
     "name": "stdout",
     "output_type": "stream",
     "text": [
      "Time taken: 285.9262 seconds\n"
     ]
    }
   ],
   "source": [
    "start_time_2 = time.perf_counter()\n",
    "with tensorflow.device('/device:GPU:0'):\n",
    "  # CNN model detection\n",
    "  # https://keras.io/api/layers/activations/#softmax-function\n",
    "  detection_model = tensorflow.keras.Sequential([\n",
    "      tensorflow.keras.layers.Input(shape=(X_rebalance.shape[1],X_rebalance.shape[2])),\n",
    "      tensorflow.keras.layers.Conv1D(filters=75, kernel_size=3, activation='sigmoid'),\n",
    "      tensorflow.keras.layers.MaxPooling1D(pool_size=2),\n",
    "      tensorflow.keras.layers.Dropout(0.3),\n",
    "      tensorflow.keras.layers.BatchNormalization(),\n",
    "      tensorflow.keras.layers.LSTM(64),\n",
    "      tensorflow.keras.layers.Flatten(),\n",
    "      # 1 layer\n",
    "      tensorflow.keras.layers.Dense(640, activation='softplus'),\n",
    "      tensorflow.keras.layers.Dropout(0.5),\n",
    "      # either attack or normal\n",
    "      tensorflow.keras.layers.Dense(1, activation='sigmoid')\n",
    "  ])\n",
    "\n",
    "  detection_model.summary()\n",
    "  # https://keras.io/api/losses/probabilistic_losses/#probabilistic-losses\n",
    "  sgd = tensorflow.keras.optimizers.SGD(learning_rate=0.005)\n",
    "  detection_model.compile(optimizer=sgd,\n",
    "                loss=tensorflow.keras.losses.BinaryCrossentropy(from_logits=False),\n",
    "                metrics=['accuracy'])\n",
    "\n",
    "  history = detection_model.fit(X_rebalance, y_rebalance, batch_size=128, epochs=70, validation_data=(X_validation_encode, y_validation_encode))\n",
    "  test_loss, test_acc = detection_model.evaluate(X_test_encode, y_test_encode)\n",
    "\n",
    "  # Make predictions\n",
    "  prediction = detection_model.predict(X_test_encode)\n",
    "  print(prediction)\n",
    "  attack_prediction = numpy.where(prediction > 0.5, 1, 0)\n",
    "  print(attack_prediction)\n",
    "  print(y_test)\n",
    "\n",
    "  # Evaluate the model\n",
    "  print(f\"Test Loss: {test_loss}, Test Accuracy: {test_acc}\\n\")\n",
    "  # https://www.tensorflow.org/tutorials/keras/text_classification for training and validation loss and accuracy\n",
    "  history_dict = history.history\n",
    "  # print(history_dict.keys())\n",
    "  acc = history_dict['accuracy']\n",
    "  val_acc = history_dict['val_accuracy']\n",
    "  loss = history_dict['loss']\n",
    "  val_loss = history_dict['val_loss']\n",
    "\n",
    "  epochs = range(1, len(acc) + 1)\n",
    "\n",
    "  # \"bo\" is for \"blue dot\"\n",
    "  plt.plot(epochs, loss, 'bo', label='Training loss')\n",
    "  # b is for \"solid blue line\"\n",
    "  plt.plot(epochs, val_loss, 'b', label='Validation loss')\n",
    "  plt.title('Training and validation loss')\n",
    "  plt.xlabel('Epochs')\n",
    "  plt.ylabel('Loss')\n",
    "  plt.legend()\n",
    "  plt.show()\n",
    "  print(\"\\n\")\n",
    "\n",
    "  plt.plot(epochs, acc, 'bo', label='Training acc')\n",
    "  plt.plot(epochs, val_acc, 'b', label='Validation acc')\n",
    "  plt.title('Training and validation accuracy')\n",
    "  plt.xlabel('Epochs')\n",
    "  plt.ylabel('Accuracy')\n",
    "  plt.legend(loc='lower right')\n",
    "  plt.show()\n",
    "\n",
    "  print(\"\\nClassification Report\")\n",
    "  print(classification_report(y_test, attack_prediction))\n",
    "\n",
    "  print(\"\\nConfusion Matrix\")\n",
    "  print(confusion_matrix(y_test, attack_prediction))\n",
    "  ConfusionMatrixDisplay.from_predictions(y_test, attack_prediction)\n",
    "  plt.show()\n",
    "\n",
    "end_time2 = time.perf_counter()\n",
    "print(f\"Time taken: {end_time2 - start_time_2:0.4f} seconds\")"
   ]
  }
 ],
 "metadata": {
  "colab": {
   "provenance": [
    {
     "file_id": "173h_gQ5A2isSREs2YEYCTDPjM-OWRe-Z",
     "timestamp": 1744664048711
    }
   ]
  },
  "kernelspec": {
   "display_name": "Python 3",
   "name": "python3"
  },
  "language_info": {
   "name": "python"
  }
 },
 "nbformat": 4,
 "nbformat_minor": 0
}
