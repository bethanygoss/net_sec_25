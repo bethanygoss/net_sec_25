{
 "cells": [
  {
   "cell_type": "markdown",
   "metadata": {
    "id": "6SZLaL-7b9Bf"
   },
   "source": [
    "# Finding optimal hyper parameters for a CNN model\n",
    "\n",
    "The point of this notebook is to obtain an optimal set of parameters for our CNN model to process time based series data. Specifically, we are processing IoT data from TON a well-kept dataset from The UNSW Group in Canberra, Australia.\n",
    "\n",
    "The specific dataset being discussed here is the IoT GPS Tracker dataset.\n",
    "\n"
   ]
  },
  {
   "cell_type": "markdown",
   "metadata": {
    "id": "fxpOXiaOdTqo"
   },
   "source": [
    "We have pip install mealpy each time because it is not a default python package ,and every time the runtime refreshes; the package is uninstalled."
   ]
  },
  {
   "cell_type": "code",
   "execution_count": null,
   "metadata": {
    "colab": {
     "base_uri": "https://localhost:8080/"
    },
    "id": "vL2RHCwXGdyK",
    "outputId": "4f136a41-f70f-4f07-b11b-5da9dea08d8a"
   },
   "outputs": [
    {
     "name": "stdout",
     "output_type": "stream",
     "text": [
      "Collecting mealpy==3.0.1\n",
      "  Downloading mealpy-3.0.1-py3-none-any.whl.metadata (104 kB)\n",
      "\u001b[?25l     \u001b[90m━━━━━━━━━━━━━━━━━━━━━━━━━━━━━━━━━━━━━━━━\u001b[0m \u001b[32m0.0/104.9 kB\u001b[0m \u001b[31m?\u001b[0m eta \u001b[36m-:--:--\u001b[0m\r\u001b[2K     \u001b[90m━━━━━━━━━━━━━━━━━━━━━━━━━━━━━━━━━━━━━━━\u001b[0m \u001b[32m104.9/104.9 kB\u001b[0m \u001b[31m3.1 MB/s\u001b[0m eta \u001b[36m0:00:00\u001b[0m\n",
      "\u001b[?25hRequirement already satisfied: numpy>=1.17.5 in /usr/local/lib/python3.11/dist-packages (from mealpy==3.0.1) (2.0.2)\n",
      "Requirement already satisfied: matplotlib>=3.3.0 in /usr/local/lib/python3.11/dist-packages (from mealpy==3.0.1) (3.10.0)\n",
      "Requirement already satisfied: scipy>=1.7.1 in /usr/local/lib/python3.11/dist-packages (from mealpy==3.0.1) (1.14.1)\n",
      "Requirement already satisfied: pandas>=1.2.0 in /usr/local/lib/python3.11/dist-packages (from mealpy==3.0.1) (2.2.2)\n",
      "Collecting opfunu>=1.0.0 (from mealpy==3.0.1)\n",
      "  Downloading opfunu-1.0.4-py3-none-any.whl.metadata (10 kB)\n",
      "Requirement already satisfied: contourpy>=1.0.1 in /usr/local/lib/python3.11/dist-packages (from matplotlib>=3.3.0->mealpy==3.0.1) (1.3.1)\n",
      "Requirement already satisfied: cycler>=0.10 in /usr/local/lib/python3.11/dist-packages (from matplotlib>=3.3.0->mealpy==3.0.1) (0.12.1)\n",
      "Requirement already satisfied: fonttools>=4.22.0 in /usr/local/lib/python3.11/dist-packages (from matplotlib>=3.3.0->mealpy==3.0.1) (4.57.0)\n",
      "Requirement already satisfied: kiwisolver>=1.3.1 in /usr/local/lib/python3.11/dist-packages (from matplotlib>=3.3.0->mealpy==3.0.1) (1.4.8)\n",
      "Requirement already satisfied: packaging>=20.0 in /usr/local/lib/python3.11/dist-packages (from matplotlib>=3.3.0->mealpy==3.0.1) (24.2)\n",
      "Requirement already satisfied: pillow>=8 in /usr/local/lib/python3.11/dist-packages (from matplotlib>=3.3.0->mealpy==3.0.1) (11.1.0)\n",
      "Requirement already satisfied: pyparsing>=2.3.1 in /usr/local/lib/python3.11/dist-packages (from matplotlib>=3.3.0->mealpy==3.0.1) (3.2.3)\n",
      "Requirement already satisfied: python-dateutil>=2.7 in /usr/local/lib/python3.11/dist-packages (from matplotlib>=3.3.0->mealpy==3.0.1) (2.8.2)\n",
      "Requirement already satisfied: requests>=2.27.0 in /usr/local/lib/python3.11/dist-packages (from opfunu>=1.0.0->mealpy==3.0.1) (2.32.3)\n",
      "Requirement already satisfied: pytz>=2020.1 in /usr/local/lib/python3.11/dist-packages (from pandas>=1.2.0->mealpy==3.0.1) (2025.2)\n",
      "Requirement already satisfied: tzdata>=2022.7 in /usr/local/lib/python3.11/dist-packages (from pandas>=1.2.0->mealpy==3.0.1) (2025.2)\n",
      "Requirement already satisfied: six>=1.5 in /usr/local/lib/python3.11/dist-packages (from python-dateutil>=2.7->matplotlib>=3.3.0->mealpy==3.0.1) (1.17.0)\n",
      "Requirement already satisfied: charset-normalizer<4,>=2 in /usr/local/lib/python3.11/dist-packages (from requests>=2.27.0->opfunu>=1.0.0->mealpy==3.0.1) (3.4.1)\n",
      "Requirement already satisfied: idna<4,>=2.5 in /usr/local/lib/python3.11/dist-packages (from requests>=2.27.0->opfunu>=1.0.0->mealpy==3.0.1) (3.10)\n",
      "Requirement already satisfied: urllib3<3,>=1.21.1 in /usr/local/lib/python3.11/dist-packages (from requests>=2.27.0->opfunu>=1.0.0->mealpy==3.0.1) (2.3.0)\n",
      "Requirement already satisfied: certifi>=2017.4.17 in /usr/local/lib/python3.11/dist-packages (from requests>=2.27.0->opfunu>=1.0.0->mealpy==3.0.1) (2025.1.31)\n",
      "Downloading mealpy-3.0.1-py3-none-any.whl (386 kB)\n",
      "\u001b[2K   \u001b[90m━━━━━━━━━━━━━━━━━━━━━━━━━━━━━━━━━━━━━━━━\u001b[0m \u001b[32m386.3/386.3 kB\u001b[0m \u001b[31m13.7 MB/s\u001b[0m eta \u001b[36m0:00:00\u001b[0m\n",
      "\u001b[?25hDownloading opfunu-1.0.4-py3-none-any.whl (13.0 MB)\n",
      "\u001b[2K   \u001b[90m━━━━━━━━━━━━━━━━━━━━━━━━━━━━━━━━━━━━━━━━\u001b[0m \u001b[32m13.0/13.0 MB\u001b[0m \u001b[31m44.9 MB/s\u001b[0m eta \u001b[36m0:00:00\u001b[0m\n",
      "\u001b[?25hInstalling collected packages: opfunu, mealpy\n",
      "Successfully installed mealpy-3.0.1 opfunu-1.0.4\n"
     ]
    }
   ],
   "source": [
    "%pip install mealpy==3.0.1\n",
    "%pip install -U scikit-learn\n",
    "%pip install imbalanced-learn\n",
    "%pip install matplotlib\n",
    "%pip install tensorflow"
   ]
  },
  {
   "cell_type": "markdown",
   "metadata": {
    "id": "nCChAI0ddiLB"
   },
   "source": [
    "Our main libraries used are:\n",
    "\n",
    "*   Imblearn\n",
    "*   Pandas\n",
    "*   Matplot Lib\n",
    "*   MealPy\n",
    "*   Numpy\n",
    "*   SKLearn\n",
    "*   Tensorflow\n",
    "*   Time\n"
   ]
  },
  {
   "cell_type": "code",
   "execution_count": null,
   "metadata": {
    "id": "iw75cAeFj6Zj"
   },
   "outputs": [],
   "source": [
    "import pandas\n",
    "from sklearn.model_selection import train_test_split\n",
    "from sklearn.preprocessing import OrdinalEncoder, LabelEncoder, StandardScaler\n",
    "from imblearn.combine import SMOTETomek\n",
    "import numpy\n",
    "from sklearn.metrics import classification_report, confusion_matrix,ConfusionMatrixDisplay\n",
    "import tensorflow\n",
    "from tensorflow import keras\n",
    "import matplotlib.pyplot as plt\n",
    "from mealpy import FloatVar, FOX\n",
    "import time"
   ]
  },
  {
   "cell_type": "markdown",
   "metadata": {
    "id": "sn-IbsB3eMq_"
   },
   "source": [
    "# Preparing the Datasets for the CNN Model\n",
    "\n",
    "We split off the information that indicates whether or not an attack has occured (*label*) and the types of attacks (*type*).\n",
    "Now there are three dataframes:\n",
    "  X - all features\n",
    "  y - attack or not\n",
    "  y_type - type of attack\n",
    "\n",
    "We split again into test and train data sets and include some randomness.\n",
    "**Reset_index** drops the indexes from these new dataframes.\n",
    "Next, we encode the text data, add another randomness, and scale all dataframes. The X dataframe is reshaped."
   ]
  },
  {
   "cell_type": "code",
   "execution_count": null,
   "metadata": {
    "id": "wbkk6zeGkCvQ"
   },
   "outputs": [],
   "source": [
    "#Uncomment for local use\n",
    "#raw_data = pandas.read_csv('../../Train_Test_IoT_dataset/Train_Test_IoT_GPS_Tracker.csv')\n",
    "#Uncomment for Google Colab\n",
    "raw_data = pandas.read_csv('Train_Test_IoT_GPS_Tracker.csv')\n",
    "X = raw_data.drop(columns=['label','type'])\n",
    "y = raw_data['label']\n",
    "y_type = raw_data['type']"
   ]
  },
  {
   "cell_type": "code",
   "execution_count": null,
   "metadata": {
    "id": "ZFQYeNebtBdL"
   },
   "outputs": [],
   "source": [
    "# Binary\n",
    "X_train, X_testsplit, y_train, y_testsplit = train_test_split(X, y, test_size=0.2, random_state=777)\n",
    "# Binary validation\n",
    "X_test, X_validation, y_test, y_validation = train_test_split(X_testsplit, y_testsplit, test_size=0.5, random_state=777)\n",
    "\n",
    "#drop index\n",
    "X_train = X_train.reset_index(drop=True)\n",
    "X_test = X_test.reset_index(drop=True)\n",
    "y_train = y_train.reset_index(drop=True)\n",
    "y_test = y_test.reset_index(drop=True)\n",
    "X_validation = X_validation.reset_index(drop=True)\n",
    "y_validation = y_validation.reset_index(drop=True)"
   ]
  },
  {
   "cell_type": "code",
   "execution_count": null,
   "metadata": {
    "id": "JMPY814OkMHK"
   },
   "outputs": [],
   "source": [
    "encoder = OrdinalEncoder()\n",
    "label_encoder = LabelEncoder()\n",
    "X_train_encode = encoder.fit_transform(X_train)\n",
    "X_test_encode = encoder.fit_transform(X_test)\n",
    "y_train_encode = label_encoder.fit_transform(y_train)\n",
    "y_test_encode = label_encoder.fit_transform(y_test)\n",
    "X_validation_encode = encoder.fit_transform(X_validation)\n",
    "y_validation_encode = label_encoder.fit_transform(y_validation)"
   ]
  },
  {
   "cell_type": "code",
   "execution_count": null,
   "metadata": {
    "id": "cjOPxFTstjzo"
   },
   "outputs": [],
   "source": [
    "smotetomek = SMOTETomek(random_state=777)\n",
    "X_rebalance, y_rebalance = smotetomek.fit_resample(X_train_encode, y_train_encode)"
   ]
  },
  {
   "cell_type": "code",
   "execution_count": null,
   "metadata": {
    "id": "ofXxVrSHQ-z5"
   },
   "outputs": [],
   "source": [
    "scaler = StandardScaler()\n",
    "X_rebalance = scaler.fit_transform(X_rebalance)\n",
    "X_test_encode = scaler.transform(X_test_encode)\n",
    "\n",
    "X_validation_encode = scaler.transform(X_validation_encode)"
   ]
  },
  {
   "cell_type": "code",
   "execution_count": null,
   "metadata": {
    "id": "Ehu1cF9rv1tu"
   },
   "outputs": [],
   "source": [
    "X_rebalance = X_rebalance.reshape(X_rebalance.shape[0], X_rebalance.shape[1], 1)\n",
    "X_test_encode = X_test_encode.reshape(X_test_encode.shape[0], X_test_encode.shape[1], 1)\n",
    "\n",
    "X_validation_encode = X_validation_encode.reshape(X_validation_encode.shape[0], X_validation_encode.shape[1], 1)\n"
   ]
  },
  {
   "cell_type": "code",
   "execution_count": null,
   "metadata": {
    "colab": {
     "base_uri": "https://localhost:8080/",
     "height": 1000
    },
    "id": "c__xkr4G07iA",
    "outputId": "8282717b-8af7-47f2-f279-352fd1694af5"
   },
   "outputs": [
    {
     "data": {
      "text/html": [
       "<pre style=\"white-space:pre;overflow-x:auto;line-height:normal;font-family:Menlo,'DejaVu Sans Mono',consolas,'Courier New',monospace\"><span style=\"font-weight: bold\">Model: \"sequential\"</span>\n",
       "</pre>\n"
      ],
      "text/plain": [
       "\u001b[1mModel: \"sequential\"\u001b[0m\n"
      ]
     },
     "metadata": {},
     "output_type": "display_data"
    },
    {
     "data": {
      "text/html": [
       "<pre style=\"white-space:pre;overflow-x:auto;line-height:normal;font-family:Menlo,'DejaVu Sans Mono',consolas,'Courier New',monospace\">┏━━━━━━━━━━━━━━━━━━━━━━━━━━━━━━━━━┳━━━━━━━━━━━━━━━━━━━━━━━━┳━━━━━━━━━━━━━━━┓\n",
       "┃<span style=\"font-weight: bold\"> Layer (type)                    </span>┃<span style=\"font-weight: bold\"> Output Shape           </span>┃<span style=\"font-weight: bold\">       Param # </span>┃\n",
       "┡━━━━━━━━━━━━━━━━━━━━━━━━━━━━━━━━━╇━━━━━━━━━━━━━━━━━━━━━━━━╇━━━━━━━━━━━━━━━┩\n",
       "│ conv1d (<span style=\"color: #0087ff; text-decoration-color: #0087ff\">Conv1D</span>)                 │ (<span style=\"color: #00d7ff; text-decoration-color: #00d7ff\">None</span>, <span style=\"color: #00af00; text-decoration-color: #00af00\">2</span>, <span style=\"color: #00af00; text-decoration-color: #00af00\">50</span>)          │           <span style=\"color: #00af00; text-decoration-color: #00af00\">200</span> │\n",
       "├─────────────────────────────────┼────────────────────────┼───────────────┤\n",
       "│ max_pooling1d (<span style=\"color: #0087ff; text-decoration-color: #0087ff\">MaxPooling1D</span>)    │ (<span style=\"color: #00d7ff; text-decoration-color: #00d7ff\">None</span>, <span style=\"color: #00af00; text-decoration-color: #00af00\">1</span>, <span style=\"color: #00af00; text-decoration-color: #00af00\">50</span>)          │             <span style=\"color: #00af00; text-decoration-color: #00af00\">0</span> │\n",
       "├─────────────────────────────────┼────────────────────────┼───────────────┤\n",
       "│ dropout (<span style=\"color: #0087ff; text-decoration-color: #0087ff\">Dropout</span>)               │ (<span style=\"color: #00d7ff; text-decoration-color: #00d7ff\">None</span>, <span style=\"color: #00af00; text-decoration-color: #00af00\">1</span>, <span style=\"color: #00af00; text-decoration-color: #00af00\">50</span>)          │             <span style=\"color: #00af00; text-decoration-color: #00af00\">0</span> │\n",
       "├─────────────────────────────────┼────────────────────────┼───────────────┤\n",
       "│ batch_normalization             │ (<span style=\"color: #00d7ff; text-decoration-color: #00d7ff\">None</span>, <span style=\"color: #00af00; text-decoration-color: #00af00\">1</span>, <span style=\"color: #00af00; text-decoration-color: #00af00\">50</span>)          │           <span style=\"color: #00af00; text-decoration-color: #00af00\">200</span> │\n",
       "│ (<span style=\"color: #0087ff; text-decoration-color: #0087ff\">BatchNormalization</span>)            │                        │               │\n",
       "├─────────────────────────────────┼────────────────────────┼───────────────┤\n",
       "│ lstm (<span style=\"color: #0087ff; text-decoration-color: #0087ff\">LSTM</span>)                     │ (<span style=\"color: #00d7ff; text-decoration-color: #00d7ff\">None</span>, <span style=\"color: #00af00; text-decoration-color: #00af00\">64</span>)             │        <span style=\"color: #00af00; text-decoration-color: #00af00\">29,440</span> │\n",
       "├─────────────────────────────────┼────────────────────────┼───────────────┤\n",
       "│ flatten (<span style=\"color: #0087ff; text-decoration-color: #0087ff\">Flatten</span>)               │ (<span style=\"color: #00d7ff; text-decoration-color: #00d7ff\">None</span>, <span style=\"color: #00af00; text-decoration-color: #00af00\">64</span>)             │             <span style=\"color: #00af00; text-decoration-color: #00af00\">0</span> │\n",
       "├─────────────────────────────────┼────────────────────────┼───────────────┤\n",
       "│ dense (<span style=\"color: #0087ff; text-decoration-color: #0087ff\">Dense</span>)                   │ (<span style=\"color: #00d7ff; text-decoration-color: #00d7ff\">None</span>, <span style=\"color: #00af00; text-decoration-color: #00af00\">512</span>)            │        <span style=\"color: #00af00; text-decoration-color: #00af00\">33,280</span> │\n",
       "├─────────────────────────────────┼────────────────────────┼───────────────┤\n",
       "│ dropout_1 (<span style=\"color: #0087ff; text-decoration-color: #0087ff\">Dropout</span>)             │ (<span style=\"color: #00d7ff; text-decoration-color: #00d7ff\">None</span>, <span style=\"color: #00af00; text-decoration-color: #00af00\">512</span>)            │             <span style=\"color: #00af00; text-decoration-color: #00af00\">0</span> │\n",
       "├─────────────────────────────────┼────────────────────────┼───────────────┤\n",
       "│ dense_1 (<span style=\"color: #0087ff; text-decoration-color: #0087ff\">Dense</span>)                 │ (<span style=\"color: #00d7ff; text-decoration-color: #00d7ff\">None</span>, <span style=\"color: #00af00; text-decoration-color: #00af00\">1</span>)              │           <span style=\"color: #00af00; text-decoration-color: #00af00\">513</span> │\n",
       "└─────────────────────────────────┴────────────────────────┴───────────────┘\n",
       "</pre>\n"
      ],
      "text/plain": [
       "┏━━━━━━━━━━━━━━━━━━━━━━━━━━━━━━━━━┳━━━━━━━━━━━━━━━━━━━━━━━━┳━━━━━━━━━━━━━━━┓\n",
       "┃\u001b[1m \u001b[0m\u001b[1mLayer (type)                   \u001b[0m\u001b[1m \u001b[0m┃\u001b[1m \u001b[0m\u001b[1mOutput Shape          \u001b[0m\u001b[1m \u001b[0m┃\u001b[1m \u001b[0m\u001b[1m      Param #\u001b[0m\u001b[1m \u001b[0m┃\n",
       "┡━━━━━━━━━━━━━━━━━━━━━━━━━━━━━━━━━╇━━━━━━━━━━━━━━━━━━━━━━━━╇━━━━━━━━━━━━━━━┩\n",
       "│ conv1d (\u001b[38;5;33mConv1D\u001b[0m)                 │ (\u001b[38;5;45mNone\u001b[0m, \u001b[38;5;34m2\u001b[0m, \u001b[38;5;34m50\u001b[0m)          │           \u001b[38;5;34m200\u001b[0m │\n",
       "├─────────────────────────────────┼────────────────────────┼───────────────┤\n",
       "│ max_pooling1d (\u001b[38;5;33mMaxPooling1D\u001b[0m)    │ (\u001b[38;5;45mNone\u001b[0m, \u001b[38;5;34m1\u001b[0m, \u001b[38;5;34m50\u001b[0m)          │             \u001b[38;5;34m0\u001b[0m │\n",
       "├─────────────────────────────────┼────────────────────────┼───────────────┤\n",
       "│ dropout (\u001b[38;5;33mDropout\u001b[0m)               │ (\u001b[38;5;45mNone\u001b[0m, \u001b[38;5;34m1\u001b[0m, \u001b[38;5;34m50\u001b[0m)          │             \u001b[38;5;34m0\u001b[0m │\n",
       "├─────────────────────────────────┼────────────────────────┼───────────────┤\n",
       "│ batch_normalization             │ (\u001b[38;5;45mNone\u001b[0m, \u001b[38;5;34m1\u001b[0m, \u001b[38;5;34m50\u001b[0m)          │           \u001b[38;5;34m200\u001b[0m │\n",
       "│ (\u001b[38;5;33mBatchNormalization\u001b[0m)            │                        │               │\n",
       "├─────────────────────────────────┼────────────────────────┼───────────────┤\n",
       "│ lstm (\u001b[38;5;33mLSTM\u001b[0m)                     │ (\u001b[38;5;45mNone\u001b[0m, \u001b[38;5;34m64\u001b[0m)             │        \u001b[38;5;34m29,440\u001b[0m │\n",
       "├─────────────────────────────────┼────────────────────────┼───────────────┤\n",
       "│ flatten (\u001b[38;5;33mFlatten\u001b[0m)               │ (\u001b[38;5;45mNone\u001b[0m, \u001b[38;5;34m64\u001b[0m)             │             \u001b[38;5;34m0\u001b[0m │\n",
       "├─────────────────────────────────┼────────────────────────┼───────────────┤\n",
       "│ dense (\u001b[38;5;33mDense\u001b[0m)                   │ (\u001b[38;5;45mNone\u001b[0m, \u001b[38;5;34m512\u001b[0m)            │        \u001b[38;5;34m33,280\u001b[0m │\n",
       "├─────────────────────────────────┼────────────────────────┼───────────────┤\n",
       "│ dropout_1 (\u001b[38;5;33mDropout\u001b[0m)             │ (\u001b[38;5;45mNone\u001b[0m, \u001b[38;5;34m512\u001b[0m)            │             \u001b[38;5;34m0\u001b[0m │\n",
       "├─────────────────────────────────┼────────────────────────┼───────────────┤\n",
       "│ dense_1 (\u001b[38;5;33mDense\u001b[0m)                 │ (\u001b[38;5;45mNone\u001b[0m, \u001b[38;5;34m1\u001b[0m)              │           \u001b[38;5;34m513\u001b[0m │\n",
       "└─────────────────────────────────┴────────────────────────┴───────────────┘\n"
      ]
     },
     "metadata": {},
     "output_type": "display_data"
    },
    {
     "data": {
      "text/html": [
       "<pre style=\"white-space:pre;overflow-x:auto;line-height:normal;font-family:Menlo,'DejaVu Sans Mono',consolas,'Courier New',monospace\"><span style=\"font-weight: bold\"> Total params: </span><span style=\"color: #00af00; text-decoration-color: #00af00\">63,633</span> (248.57 KB)\n",
       "</pre>\n"
      ],
      "text/plain": [
       "\u001b[1m Total params: \u001b[0m\u001b[38;5;34m63,633\u001b[0m (248.57 KB)\n"
      ]
     },
     "metadata": {},
     "output_type": "display_data"
    },
    {
     "data": {
      "text/html": [
       "<pre style=\"white-space:pre;overflow-x:auto;line-height:normal;font-family:Menlo,'DejaVu Sans Mono',consolas,'Courier New',monospace\"><span style=\"font-weight: bold\"> Trainable params: </span><span style=\"color: #00af00; text-decoration-color: #00af00\">63,533</span> (248.18 KB)\n",
       "</pre>\n"
      ],
      "text/plain": [
       "\u001b[1m Trainable params: \u001b[0m\u001b[38;5;34m63,533\u001b[0m (248.18 KB)\n"
      ]
     },
     "metadata": {},
     "output_type": "display_data"
    },
    {
     "data": {
      "text/html": [
       "<pre style=\"white-space:pre;overflow-x:auto;line-height:normal;font-family:Menlo,'DejaVu Sans Mono',consolas,'Courier New',monospace\"><span style=\"font-weight: bold\"> Non-trainable params: </span><span style=\"color: #00af00; text-decoration-color: #00af00\">100</span> (400.00 B)\n",
       "</pre>\n"
      ],
      "text/plain": [
       "\u001b[1m Non-trainable params: \u001b[0m\u001b[38;5;34m100\u001b[0m (400.00 B)\n"
      ]
     },
     "metadata": {},
     "output_type": "display_data"
    },
    {
     "name": "stdout",
     "output_type": "stream",
     "text": [
      "Epoch 1/70\n",
      "\u001b[1m600/600\u001b[0m \u001b[32m━━━━━━━━━━━━━━━━━━━━\u001b[0m\u001b[37m\u001b[0m \u001b[1m10s\u001b[0m 8ms/step - accuracy: 0.5012 - loss: 0.6939 - val_accuracy: 0.9045 - val_loss: 0.6924\n",
      "Epoch 2/70\n",
      "\u001b[1m600/600\u001b[0m \u001b[32m━━━━━━━━━━━━━━━━━━━━\u001b[0m\u001b[37m\u001b[0m \u001b[1m5s\u001b[0m 5ms/step - accuracy: 0.5056 - loss: 0.6932 - val_accuracy: 0.3904 - val_loss: 0.6931\n",
      "Epoch 3/70\n",
      "\u001b[1m600/600\u001b[0m \u001b[32m━━━━━━━━━━━━━━━━━━━━\u001b[0m\u001b[37m\u001b[0m \u001b[1m5s\u001b[0m 6ms/step - accuracy: 0.5062 - loss: 0.6928 - val_accuracy: 0.3904 - val_loss: 0.6934\n",
      "Epoch 4/70\n",
      "\u001b[1m600/600\u001b[0m \u001b[32m━━━━━━━━━━━━━━━━━━━━\u001b[0m\u001b[37m\u001b[0m \u001b[1m5s\u001b[0m 5ms/step - accuracy: 0.5244 - loss: 0.6913 - val_accuracy: 0.3904 - val_loss: 0.6939\n",
      "Epoch 5/70\n",
      "\u001b[1m600/600\u001b[0m \u001b[32m━━━━━━━━━━━━━━━━━━━━\u001b[0m\u001b[37m\u001b[0m \u001b[1m3s\u001b[0m 6ms/step - accuracy: 0.5378 - loss: 0.6905 - val_accuracy: 0.3904 - val_loss: 0.6940\n",
      "Epoch 6/70\n",
      "\u001b[1m600/600\u001b[0m \u001b[32m━━━━━━━━━━━━━━━━━━━━\u001b[0m\u001b[37m\u001b[0m \u001b[1m3s\u001b[0m 5ms/step - accuracy: 0.5442 - loss: 0.6898 - val_accuracy: 0.3904 - val_loss: 0.6944\n",
      "Epoch 7/70\n",
      "\u001b[1m600/600\u001b[0m \u001b[32m━━━━━━━━━━━━━━━━━━━━\u001b[0m\u001b[37m\u001b[0m \u001b[1m5s\u001b[0m 6ms/step - accuracy: 0.5460 - loss: 0.6893 - val_accuracy: 0.3904 - val_loss: 0.6942\n",
      "Epoch 8/70\n",
      "\u001b[1m600/600\u001b[0m \u001b[32m━━━━━━━━━━━━━━━━━━━━\u001b[0m\u001b[37m\u001b[0m \u001b[1m5s\u001b[0m 6ms/step - accuracy: 0.5608 - loss: 0.6881 - val_accuracy: 0.3904 - val_loss: 0.6942\n",
      "Epoch 9/70\n",
      "\u001b[1m600/600\u001b[0m \u001b[32m━━━━━━━━━━━━━━━━━━━━\u001b[0m\u001b[37m\u001b[0m \u001b[1m6s\u001b[0m 7ms/step - accuracy: 0.5719 - loss: 0.6867 - val_accuracy: 0.3904 - val_loss: 0.6941\n",
      "Epoch 10/70\n",
      "\u001b[1m600/600\u001b[0m \u001b[32m━━━━━━━━━━━━━━━━━━━━\u001b[0m\u001b[37m\u001b[0m \u001b[1m4s\u001b[0m 6ms/step - accuracy: 0.5799 - loss: 0.6860 - val_accuracy: 0.3904 - val_loss: 0.6943\n",
      "Epoch 11/70\n",
      "\u001b[1m600/600\u001b[0m \u001b[32m━━━━━━━━━━━━━━━━━━━━\u001b[0m\u001b[37m\u001b[0m \u001b[1m4s\u001b[0m 5ms/step - accuracy: 0.5841 - loss: 0.6849 - val_accuracy: 0.3904 - val_loss: 0.6941\n",
      "Epoch 12/70\n",
      "\u001b[1m600/600\u001b[0m \u001b[32m━━━━━━━━━━━━━━━━━━━━\u001b[0m\u001b[37m\u001b[0m \u001b[1m4s\u001b[0m 7ms/step - accuracy: 0.5932 - loss: 0.6838 - val_accuracy: 0.3904 - val_loss: 0.6940\n",
      "Epoch 13/70\n",
      "\u001b[1m600/600\u001b[0m \u001b[32m━━━━━━━━━━━━━━━━━━━━\u001b[0m\u001b[37m\u001b[0m \u001b[1m3s\u001b[0m 6ms/step - accuracy: 0.5951 - loss: 0.6830 - val_accuracy: 0.3904 - val_loss: 0.6937\n",
      "Epoch 14/70\n",
      "\u001b[1m600/600\u001b[0m \u001b[32m━━━━━━━━━━━━━━━━━━━━\u001b[0m\u001b[37m\u001b[0m \u001b[1m5s\u001b[0m 6ms/step - accuracy: 0.6066 - loss: 0.6819 - val_accuracy: 0.3904 - val_loss: 0.6938\n",
      "Epoch 15/70\n",
      "\u001b[1m600/600\u001b[0m \u001b[32m━━━━━━━━━━━━━━━━━━━━\u001b[0m\u001b[37m\u001b[0m \u001b[1m5s\u001b[0m 8ms/step - accuracy: 0.6194 - loss: 0.6796 - val_accuracy: 0.3904 - val_loss: 0.6931\n",
      "Epoch 16/70\n",
      "\u001b[1m600/600\u001b[0m \u001b[32m━━━━━━━━━━━━━━━━━━━━\u001b[0m\u001b[37m\u001b[0m \u001b[1m3s\u001b[0m 5ms/step - accuracy: 0.6277 - loss: 0.6780 - val_accuracy: 0.3904 - val_loss: 0.6930\n",
      "Epoch 17/70\n",
      "\u001b[1m600/600\u001b[0m \u001b[32m━━━━━━━━━━━━━━━━━━━━\u001b[0m\u001b[37m\u001b[0m \u001b[1m5s\u001b[0m 6ms/step - accuracy: 0.6236 - loss: 0.6773 - val_accuracy: 0.3904 - val_loss: 0.6929\n",
      "Epoch 18/70\n",
      "\u001b[1m600/600\u001b[0m \u001b[32m━━━━━━━━━━━━━━━━━━━━\u001b[0m\u001b[37m\u001b[0m \u001b[1m6s\u001b[0m 7ms/step - accuracy: 0.6305 - loss: 0.6756 - val_accuracy: 0.3904 - val_loss: 0.6924\n",
      "Epoch 19/70\n",
      "\u001b[1m600/600\u001b[0m \u001b[32m━━━━━━━━━━━━━━━━━━━━\u001b[0m\u001b[37m\u001b[0m \u001b[1m4s\u001b[0m 5ms/step - accuracy: 0.6350 - loss: 0.6738 - val_accuracy: 0.3904 - val_loss: 0.6921\n",
      "Epoch 20/70\n",
      "\u001b[1m600/600\u001b[0m \u001b[32m━━━━━━━━━━━━━━━━━━━━\u001b[0m\u001b[37m\u001b[0m \u001b[1m5s\u001b[0m 6ms/step - accuracy: 0.6418 - loss: 0.6723 - val_accuracy: 0.3904 - val_loss: 0.6913\n",
      "Epoch 21/70\n",
      "\u001b[1m600/600\u001b[0m \u001b[32m━━━━━━━━━━━━━━━━━━━━\u001b[0m\u001b[37m\u001b[0m \u001b[1m5s\u001b[0m 5ms/step - accuracy: 0.6440 - loss: 0.6699 - val_accuracy: 0.3904 - val_loss: 0.6911\n",
      "Epoch 22/70\n",
      "\u001b[1m600/600\u001b[0m \u001b[32m━━━━━━━━━━━━━━━━━━━━\u001b[0m\u001b[37m\u001b[0m \u001b[1m5s\u001b[0m 5ms/step - accuracy: 0.6512 - loss: 0.6674 - val_accuracy: 0.3904 - val_loss: 0.6903\n",
      "Epoch 23/70\n",
      "\u001b[1m600/600\u001b[0m \u001b[32m━━━━━━━━━━━━━━━━━━━━\u001b[0m\u001b[37m\u001b[0m \u001b[1m6s\u001b[0m 7ms/step - accuracy: 0.6544 - loss: 0.6651 - val_accuracy: 0.3904 - val_loss: 0.6896\n",
      "Epoch 24/70\n",
      "\u001b[1m600/600\u001b[0m \u001b[32m━━━━━━━━━━━━━━━━━━━━\u001b[0m\u001b[37m\u001b[0m \u001b[1m4s\u001b[0m 5ms/step - accuracy: 0.6663 - loss: 0.6613 - val_accuracy: 0.3904 - val_loss: 0.6895\n",
      "Epoch 25/70\n",
      "\u001b[1m600/600\u001b[0m \u001b[32m━━━━━━━━━━━━━━━━━━━━\u001b[0m\u001b[37m\u001b[0m \u001b[1m6s\u001b[0m 6ms/step - accuracy: 0.6692 - loss: 0.6581 - val_accuracy: 0.3904 - val_loss: 0.6890\n",
      "Epoch 26/70\n",
      "\u001b[1m600/600\u001b[0m \u001b[32m━━━━━━━━━━━━━━━━━━━━\u001b[0m\u001b[37m\u001b[0m \u001b[1m5s\u001b[0m 5ms/step - accuracy: 0.6761 - loss: 0.6544 - val_accuracy: 0.3904 - val_loss: 0.6879\n",
      "Epoch 27/70\n",
      "\u001b[1m600/600\u001b[0m \u001b[32m━━━━━━━━━━━━━━━━━━━━\u001b[0m\u001b[37m\u001b[0m \u001b[1m3s\u001b[0m 5ms/step - accuracy: 0.6778 - loss: 0.6508 - val_accuracy: 0.3904 - val_loss: 0.6878\n",
      "Epoch 28/70\n",
      "\u001b[1m600/600\u001b[0m \u001b[32m━━━━━━━━━━━━━━━━━━━━\u001b[0m\u001b[37m\u001b[0m \u001b[1m3s\u001b[0m 5ms/step - accuracy: 0.6766 - loss: 0.6473 - val_accuracy: 0.3904 - val_loss: 0.6873\n",
      "Epoch 29/70\n",
      "\u001b[1m600/600\u001b[0m \u001b[32m━━━━━━━━━━━━━━━━━━━━\u001b[0m\u001b[37m\u001b[0m \u001b[1m4s\u001b[0m 7ms/step - accuracy: 0.6896 - loss: 0.6432 - val_accuracy: 0.3904 - val_loss: 0.6861\n",
      "Epoch 30/70\n",
      "\u001b[1m600/600\u001b[0m \u001b[32m━━━━━━━━━━━━━━━━━━━━\u001b[0m\u001b[37m\u001b[0m \u001b[1m4s\u001b[0m 5ms/step - accuracy: 0.6970 - loss: 0.6362 - val_accuracy: 0.3904 - val_loss: 0.6840\n",
      "Epoch 31/70\n",
      "\u001b[1m600/600\u001b[0m \u001b[32m━━━━━━━━━━━━━━━━━━━━\u001b[0m\u001b[37m\u001b[0m \u001b[1m3s\u001b[0m 5ms/step - accuracy: 0.7034 - loss: 0.6305 - val_accuracy: 0.3904 - val_loss: 0.6840\n",
      "Epoch 32/70\n",
      "\u001b[1m600/600\u001b[0m \u001b[32m━━━━━━━━━━━━━━━━━━━━\u001b[0m\u001b[37m\u001b[0m \u001b[1m4s\u001b[0m 7ms/step - accuracy: 0.7072 - loss: 0.6239 - val_accuracy: 0.3904 - val_loss: 0.6816\n",
      "Epoch 33/70\n",
      "\u001b[1m600/600\u001b[0m \u001b[32m━━━━━━━━━━━━━━━━━━━━\u001b[0m\u001b[37m\u001b[0m \u001b[1m4s\u001b[0m 6ms/step - accuracy: 0.7103 - loss: 0.6199 - val_accuracy: 0.3904 - val_loss: 0.6810\n",
      "Epoch 34/70\n",
      "\u001b[1m600/600\u001b[0m \u001b[32m━━━━━━━━━━━━━━━━━━━━\u001b[0m\u001b[37m\u001b[0m \u001b[1m5s\u001b[0m 5ms/step - accuracy: 0.7171 - loss: 0.6113 - val_accuracy: 0.3737 - val_loss: 0.6786\n",
      "Epoch 35/70\n",
      "\u001b[1m600/600\u001b[0m \u001b[32m━━━━━━━━━━━━━━━━━━━━\u001b[0m\u001b[37m\u001b[0m \u001b[1m6s\u001b[0m 7ms/step - accuracy: 0.7267 - loss: 0.6019 - val_accuracy: 0.3860 - val_loss: 0.6790\n",
      "Epoch 36/70\n",
      "\u001b[1m600/600\u001b[0m \u001b[32m━━━━━━━━━━━━━━━━━━━━\u001b[0m\u001b[37m\u001b[0m \u001b[1m3s\u001b[0m 5ms/step - accuracy: 0.7284 - loss: 0.5957 - val_accuracy: 0.3429 - val_loss: 0.6735\n",
      "Epoch 37/70\n",
      "\u001b[1m600/600\u001b[0m \u001b[32m━━━━━━━━━━━━━━━━━━━━\u001b[0m\u001b[37m\u001b[0m \u001b[1m3s\u001b[0m 6ms/step - accuracy: 0.7301 - loss: 0.5884 - val_accuracy: 0.3681 - val_loss: 0.6697\n",
      "Epoch 38/70\n",
      "\u001b[1m600/600\u001b[0m \u001b[32m━━━━━━━━━━━━━━━━━━━━\u001b[0m\u001b[37m\u001b[0m \u001b[1m6s\u001b[0m 8ms/step - accuracy: 0.7371 - loss: 0.5782 - val_accuracy: 0.3676 - val_loss: 0.6686\n",
      "Epoch 39/70\n",
      "\u001b[1m600/600\u001b[0m \u001b[32m━━━━━━━━━━━━━━━━━━━━\u001b[0m\u001b[37m\u001b[0m \u001b[1m4s\u001b[0m 6ms/step - accuracy: 0.7421 - loss: 0.5700 - val_accuracy: 0.3925 - val_loss: 0.6636\n",
      "Epoch 40/70\n",
      "\u001b[1m600/600\u001b[0m \u001b[32m━━━━━━━━━━━━━━━━━━━━\u001b[0m\u001b[37m\u001b[0m \u001b[1m3s\u001b[0m 5ms/step - accuracy: 0.7505 - loss: 0.5601 - val_accuracy: 0.3778 - val_loss: 0.6567\n",
      "Epoch 41/70\n",
      "\u001b[1m600/600\u001b[0m \u001b[32m━━━━━━━━━━━━━━━━━━━━\u001b[0m\u001b[37m\u001b[0m \u001b[1m6s\u001b[0m 7ms/step - accuracy: 0.7497 - loss: 0.5549 - val_accuracy: 0.3778 - val_loss: 0.6551\n",
      "Epoch 42/70\n",
      "\u001b[1m600/600\u001b[0m \u001b[32m━━━━━━━━━━━━━━━━━━━━\u001b[0m\u001b[37m\u001b[0m \u001b[1m3s\u001b[0m 5ms/step - accuracy: 0.7553 - loss: 0.5442 - val_accuracy: 0.3778 - val_loss: 0.6479\n",
      "Epoch 43/70\n",
      "\u001b[1m600/600\u001b[0m \u001b[32m━━━━━━━━━━━━━━━━━━━━\u001b[0m\u001b[37m\u001b[0m \u001b[1m3s\u001b[0m 6ms/step - accuracy: 0.7579 - loss: 0.5385 - val_accuracy: 0.4438 - val_loss: 0.6384\n",
      "Epoch 44/70\n",
      "\u001b[1m600/600\u001b[0m \u001b[32m━━━━━━━━━━━━━━━━━━━━\u001b[0m\u001b[37m\u001b[0m \u001b[1m6s\u001b[0m 7ms/step - accuracy: 0.7653 - loss: 0.5275 - val_accuracy: 0.4671 - val_loss: 0.6335\n",
      "Epoch 45/70\n",
      "\u001b[1m600/600\u001b[0m \u001b[32m━━━━━━━━━━━━━━━━━━━━\u001b[0m\u001b[37m\u001b[0m \u001b[1m3s\u001b[0m 5ms/step - accuracy: 0.7700 - loss: 0.5193 - val_accuracy: 0.5103 - val_loss: 0.6258\n",
      "Epoch 46/70\n",
      "\u001b[1m600/600\u001b[0m \u001b[32m━━━━━━━━━━━━━━━━━━━━\u001b[0m\u001b[37m\u001b[0m \u001b[1m3s\u001b[0m 5ms/step - accuracy: 0.7768 - loss: 0.5121 - val_accuracy: 0.4918 - val_loss: 0.6249\n",
      "Epoch 47/70\n",
      "\u001b[1m600/600\u001b[0m \u001b[32m━━━━━━━━━━━━━━━━━━━━\u001b[0m\u001b[37m\u001b[0m \u001b[1m6s\u001b[0m 7ms/step - accuracy: 0.7791 - loss: 0.5054 - val_accuracy: 0.5626 - val_loss: 0.6124\n",
      "Epoch 48/70\n",
      "\u001b[1m600/600\u001b[0m \u001b[32m━━━━━━━━━━━━━━━━━━━━\u001b[0m\u001b[37m\u001b[0m \u001b[1m3s\u001b[0m 6ms/step - accuracy: 0.7849 - loss: 0.4955 - val_accuracy: 0.5719 - val_loss: 0.6071\n",
      "Epoch 49/70\n",
      "\u001b[1m600/600\u001b[0m \u001b[32m━━━━━━━━━━━━━━━━━━━━\u001b[0m\u001b[37m\u001b[0m \u001b[1m3s\u001b[0m 5ms/step - accuracy: 0.7873 - loss: 0.4899 - val_accuracy: 0.6068 - val_loss: 0.6008\n",
      "Epoch 50/70\n",
      "\u001b[1m600/600\u001b[0m \u001b[32m━━━━━━━━━━━━━━━━━━━━\u001b[0m\u001b[37m\u001b[0m \u001b[1m6s\u001b[0m 6ms/step - accuracy: 0.7852 - loss: 0.4878 - val_accuracy: 0.7220 - val_loss: 0.5877\n",
      "Epoch 51/70\n",
      "\u001b[1m600/600\u001b[0m \u001b[32m━━━━━━━━━━━━━━━━━━━━\u001b[0m\u001b[37m\u001b[0m \u001b[1m4s\u001b[0m 6ms/step - accuracy: 0.7902 - loss: 0.4807 - val_accuracy: 0.7816 - val_loss: 0.5738\n",
      "Epoch 52/70\n",
      "\u001b[1m600/600\u001b[0m \u001b[32m━━━━━━━━━━━━━━━━━━━━\u001b[0m\u001b[37m\u001b[0m \u001b[1m3s\u001b[0m 5ms/step - accuracy: 0.7975 - loss: 0.4688 - val_accuracy: 0.7931 - val_loss: 0.5657\n",
      "Epoch 53/70\n",
      "\u001b[1m600/600\u001b[0m \u001b[32m━━━━━━━━━━━━━━━━━━━━\u001b[0m\u001b[37m\u001b[0m \u001b[1m3s\u001b[0m 6ms/step - accuracy: 0.7923 - loss: 0.4736 - val_accuracy: 0.7882 - val_loss: 0.5631\n",
      "Epoch 54/70\n",
      "\u001b[1m600/600\u001b[0m \u001b[32m━━━━━━━━━━━━━━━━━━━━\u001b[0m\u001b[37m\u001b[0m \u001b[1m6s\u001b[0m 6ms/step - accuracy: 0.7969 - loss: 0.4669 - val_accuracy: 0.8812 - val_loss: 0.5467\n",
      "Epoch 55/70\n",
      "\u001b[1m600/600\u001b[0m \u001b[32m━━━━━━━━━━━━━━━━━━━━\u001b[0m\u001b[37m\u001b[0m \u001b[1m3s\u001b[0m 5ms/step - accuracy: 0.7971 - loss: 0.4628 - val_accuracy: 0.8868 - val_loss: 0.5418\n",
      "Epoch 56/70\n",
      "\u001b[1m600/600\u001b[0m \u001b[32m━━━━━━━━━━━━━━━━━━━━\u001b[0m\u001b[37m\u001b[0m \u001b[1m5s\u001b[0m 6ms/step - accuracy: 0.7980 - loss: 0.4606 - val_accuracy: 0.8894 - val_loss: 0.5370\n",
      "Epoch 57/70\n",
      "\u001b[1m600/600\u001b[0m \u001b[32m━━━━━━━━━━━━━━━━━━━━\u001b[0m\u001b[37m\u001b[0m \u001b[1m4s\u001b[0m 7ms/step - accuracy: 0.8095 - loss: 0.4491 - val_accuracy: 0.8994 - val_loss: 0.5258\n",
      "Epoch 58/70\n",
      "\u001b[1m600/600\u001b[0m \u001b[32m━━━━━━━━━━━━━━━━━━━━\u001b[0m\u001b[37m\u001b[0m \u001b[1m3s\u001b[0m 6ms/step - accuracy: 0.8086 - loss: 0.4504 - val_accuracy: 0.8991 - val_loss: 0.5225\n",
      "Epoch 59/70\n",
      "\u001b[1m600/600\u001b[0m \u001b[32m━━━━━━━━━━━━━━━━━━━━\u001b[0m\u001b[37m\u001b[0m \u001b[1m3s\u001b[0m 6ms/step - accuracy: 0.8066 - loss: 0.4473 - val_accuracy: 0.9022 - val_loss: 0.5126\n",
      "Epoch 60/70\n",
      "\u001b[1m600/600\u001b[0m \u001b[32m━━━━━━━━━━━━━━━━━━━━\u001b[0m\u001b[37m\u001b[0m \u001b[1m6s\u001b[0m 7ms/step - accuracy: 0.8043 - loss: 0.4528 - val_accuracy: 0.9032 - val_loss: 0.5061\n",
      "Epoch 61/70\n",
      "\u001b[1m600/600\u001b[0m \u001b[32m━━━━━━━━━━━━━━━━━━━━\u001b[0m\u001b[37m\u001b[0m \u001b[1m4s\u001b[0m 6ms/step - accuracy: 0.8119 - loss: 0.4394 - val_accuracy: 0.9043 - val_loss: 0.4994\n",
      "Epoch 62/70\n",
      "\u001b[1m600/600\u001b[0m \u001b[32m━━━━━━━━━━━━━━━━━━━━\u001b[0m\u001b[37m\u001b[0m \u001b[1m5s\u001b[0m 6ms/step - accuracy: 0.8135 - loss: 0.4396 - val_accuracy: 0.9045 - val_loss: 0.4929\n",
      "Epoch 63/70\n",
      "\u001b[1m600/600\u001b[0m \u001b[32m━━━━━━━━━━━━━━━━━━━━\u001b[0m\u001b[37m\u001b[0m \u001b[1m4s\u001b[0m 6ms/step - accuracy: 0.8171 - loss: 0.4330 - val_accuracy: 0.9043 - val_loss: 0.4914\n",
      "Epoch 64/70\n",
      "\u001b[1m600/600\u001b[0m \u001b[32m━━━━━━━━━━━━━━━━━━━━\u001b[0m\u001b[37m\u001b[0m \u001b[1m5s\u001b[0m 5ms/step - accuracy: 0.8152 - loss: 0.4329 - val_accuracy: 0.9045 - val_loss: 0.4828\n",
      "Epoch 65/70\n",
      "\u001b[1m600/600\u001b[0m \u001b[32m━━━━━━━━━━━━━━━━━━━━\u001b[0m\u001b[37m\u001b[0m \u001b[1m3s\u001b[0m 6ms/step - accuracy: 0.8201 - loss: 0.4224 - val_accuracy: 0.9045 - val_loss: 0.4790\n",
      "Epoch 66/70\n",
      "\u001b[1m600/600\u001b[0m \u001b[32m━━━━━━━━━━━━━━━━━━━━\u001b[0m\u001b[37m\u001b[0m \u001b[1m4s\u001b[0m 7ms/step - accuracy: 0.8158 - loss: 0.4291 - val_accuracy: 0.9045 - val_loss: 0.4726\n",
      "Epoch 67/70\n",
      "\u001b[1m600/600\u001b[0m \u001b[32m━━━━━━━━━━━━━━━━━━━━\u001b[0m\u001b[37m\u001b[0m \u001b[1m3s\u001b[0m 5ms/step - accuracy: 0.8174 - loss: 0.4276 - val_accuracy: 0.9045 - val_loss: 0.4696\n",
      "Epoch 68/70\n",
      "\u001b[1m600/600\u001b[0m \u001b[32m━━━━━━━━━━━━━━━━━━━━\u001b[0m\u001b[37m\u001b[0m \u001b[1m3s\u001b[0m 6ms/step - accuracy: 0.8212 - loss: 0.4213 - val_accuracy: 0.9045 - val_loss: 0.4662\n",
      "Epoch 69/70\n",
      "\u001b[1m600/600\u001b[0m \u001b[32m━━━━━━━━━━━━━━━━━━━━\u001b[0m\u001b[37m\u001b[0m \u001b[1m6s\u001b[0m 7ms/step - accuracy: 0.8223 - loss: 0.4198 - val_accuracy: 0.9045 - val_loss: 0.4631\n",
      "Epoch 70/70\n",
      "\u001b[1m600/600\u001b[0m \u001b[32m━━━━━━━━━━━━━━━━━━━━\u001b[0m\u001b[37m\u001b[0m \u001b[1m4s\u001b[0m 5ms/step - accuracy: 0.8234 - loss: 0.4207 - val_accuracy: 0.9045 - val_loss: 0.4606\n",
      "\u001b[1m122/122\u001b[0m \u001b[32m━━━━━━━━━━━━━━━━━━━━\u001b[0m\u001b[37m\u001b[0m \u001b[1m0s\u001b[0m 3ms/step - accuracy: 0.8999 - loss: 0.4673\n",
      "\u001b[1m122/122\u001b[0m \u001b[32m━━━━━━━━━━━━━━━━━━━━\u001b[0m\u001b[37m\u001b[0m \u001b[1m1s\u001b[0m 3ms/step\n",
      "[[0.31036073]\n",
      " [0.6927567 ]\n",
      " [0.76286054]\n",
      " ...\n",
      " [0.6962121 ]\n",
      " [0.7329492 ]\n",
      " [0.72329414]]\n",
      "[[0]\n",
      " [1]\n",
      " [1]\n",
      " ...\n",
      " [1]\n",
      " [1]\n",
      " [1]]\n",
      "0       0\n",
      "1       1\n",
      "2       0\n",
      "3       0\n",
      "4       0\n",
      "       ..\n",
      "3891    1\n",
      "3892    1\n",
      "3893    1\n",
      "3894    0\n",
      "3895    1\n",
      "Name: label, Length: 3896, dtype: int64\n",
      "Test Loss: 0.47140437364578247, Test Accuracy: 0.8955338597297668\n",
      "\n"
     ]
    },
    {
     "data": {
      "image/png": "[encoded data removed]",
      "text/plain": [
       "<Figure size 640x480 with 1 Axes>"
      ]
     },
     "metadata": {},
     "output_type": "display_data"
    },
    {
     "name": "stdout",
     "output_type": "stream",
     "text": [
      "\n",
      "\n"
     ]
    },
    {
     "data": {
      "image/png": "[encoded data removed]",
      "text/plain": [
       "<Figure size 640x480 with 1 Axes>"
      ]
     },
     "metadata": {},
     "output_type": "display_data"
    },
    {
     "name": "stdout",
     "output_type": "stream",
     "text": [
      "\n",
      "Classification Report\n",
      "              precision    recall  f1-score   support\n",
      "\n",
      "           0       1.00      0.73      0.85      1527\n",
      "           1       0.85      1.00      0.92      2369\n",
      "\n",
      "    accuracy                           0.90      3896\n",
      "   macro avg       0.93      0.87      0.88      3896\n",
      "weighted avg       0.91      0.90      0.89      3896\n",
      "\n",
      "\n",
      "Confusion Matrix\n",
      "[[1120  407]\n",
      " [   0 2369]]\n"
     ]
    },
    {
     "data": {
      "image/png": "[encoded data removed]",
      "text/plain": [
       "<Figure size 640x480 with 2 Axes>"
      ]
     },
     "metadata": {},
     "output_type": "display_data"
    },
    {
     "name": "stdout",
     "output_type": "stream",
     "text": [
      "Time taken: 317.7899 seconds\n"
     ]
    }
   ],
   "source": [
    "start_time_1 = time.perf_counter()\n",
    "with tensorflow.device('/device:GPU:0'):\n",
    "  # CNN model detection\n",
    "  # https://keras.io/api/layers/activations/#softmax-function\n",
    "  detection_model = tensorflow.keras.Sequential([\n",
    "      tensorflow.keras.layers.Input(shape=(X_rebalance.shape[1],X_rebalance.shape[2])),\n",
    "      tensorflow.keras.layers.Conv1D(filters=50, kernel_size=3, activation='sigmoid'),\n",
    "      tensorflow.keras.layers.MaxPooling1D(pool_size=2),\n",
    "      tensorflow.keras.layers.Dropout(0.3),\n",
    "      tensorflow.keras.layers.BatchNormalization(),\n",
    "      tensorflow.keras.layers.LSTM(64),\n",
    "      tensorflow.keras.layers.Flatten(),\n",
    "      # 1 layer\n",
    "      tensorflow.keras.layers.Dense(512, activation='relu'),\n",
    "      tensorflow.keras.layers.Dropout(0.5),\n",
    "      # either attack or normal\n",
    "      tensorflow.keras.layers.Dense(1, activation='sigmoid')\n",
    "  ])\n",
    "\n",
    "  detection_model.summary()\n",
    "  # https://keras.io/api/losses/probabilistic_losses/#probabilistic-losses\n",
    "  sgd = tensorflow.keras.optimizers.SGD(learning_rate=0.001)\n",
    "  detection_model.compile(optimizer=sgd,\n",
    "                loss=tensorflow.keras.losses.BinaryCrossentropy(from_logits=False),\n",
    "                metrics=['accuracy'])\n",
    "\n",
    "  history = detection_model.fit(X_rebalance, y_rebalance, batch_size=64, epochs=70, validation_data=(X_validation_encode, y_validation_encode))\n",
    "  test_loss, test_acc = detection_model.evaluate(X_test_encode, y_test_encode)\n",
    "\n",
    "  # Make predictions\n",
    "  prediction = detection_model.predict(X_test_encode)\n",
    "  print(prediction)\n",
    "  attack_prediction = numpy.where(prediction > 0.5, 1, 0)\n",
    "  print(attack_prediction)\n",
    "  print(y_test)\n",
    "\n",
    "  # Evaluate the model\n",
    "  print(f\"Test Loss: {test_loss}, Test Accuracy: {test_acc}\\n\")\n",
    "  # https://www.tensorflow.org/tutorials/keras/text_classification for training and validation loss and accuracy\n",
    "  history_dict = history.history\n",
    "  # print(history_dict.keys())\n",
    "  acc = history_dict['accuracy']\n",
    "  val_acc = history_dict['val_accuracy']\n",
    "  loss = history_dict['loss']\n",
    "  val_loss = history_dict['val_loss']\n",
    "\n",
    "  epochs = range(1, len(acc) + 1)\n",
    "\n",
    "  # \"bo\" is for \"blue dot\"\n",
    "  plt.plot(epochs, loss, 'bo', label='Training loss')\n",
    "  # b is for \"solid blue line\"\n",
    "  plt.plot(epochs, val_loss, 'b', label='Validation loss')\n",
    "  plt.title('Training and validation loss')\n",
    "  plt.xlabel('Epochs')\n",
    "  plt.ylabel('Loss')\n",
    "  plt.legend()\n",
    "  plt.show()\n",
    "  print(\"\\n\")\n",
    "\n",
    "  plt.plot(epochs, acc, 'bo', label='Training acc')\n",
    "  plt.plot(epochs, val_acc, 'b', label='Validation acc')\n",
    "  plt.title('Training and validation accuracy')\n",
    "  plt.xlabel('Epochs')\n",
    "  plt.ylabel('Accuracy')\n",
    "  plt.legend(loc='lower right')\n",
    "  plt.show()\n",
    "\n",
    "  print(\"\\nClassification Report\")\n",
    "  print(classification_report(y_test, attack_prediction))\n",
    "\n",
    "  print(\"\\nConfusion Matrix\")\n",
    "  print(confusion_matrix(y_test, attack_prediction))\n",
    "  ConfusionMatrixDisplay.from_predictions(y_test, attack_prediction)\n",
    "  plt.show()\n",
    "\n",
    "end_time1 = time.perf_counter()\n",
    "print(f\"Time taken: {end_time1 - start_time_1:0.4f} seconds\")"
   ]
  },
  {
   "cell_type": "markdown",
   "metadata": {
    "id": "uYXJh6CdfRuI"
   },
   "source": [
    "# Optimizing the model\n",
    "Instead of looking at random number ranges for learning rates, filters, and hidden units, we have encoded specific values.\n",
    "\n",
    "The hyper parameters we are attempting to optimize are:\n",
    "\n",
    "*   Batch Size\n",
    "*   Activation Functions\n",
    "*   Learning Rates\n",
    "*   Filters\n",
    "*   Hidden Units\n",
    "\n",
    "\n",
    "The base CNN model we made is ingested into *objective_function*.\n",
    "  This is where our hyper parameters are being considered.\n",
    "  It returns the Accuracy of that particular iteration.\n",
    "**LB** and **UB** is set according to the list given above.\n",
    "\n"
   ]
  },
  {
   "cell_type": "code",
   "execution_count": null,
   "metadata": {
    "colab": {
     "base_uri": "https://localhost:8080/"
    },
    "id": "-nP_T-jq4-IO",
    "outputId": "499bb551-57df-4fe4-9bea-995c82414d7a"
   },
   "outputs": [
    {
     "name": "stderr",
     "output_type": "stream",
     "text": [
      "INFO:mealpy.swarm_based.FOX.OriginalFOX:Solving single objective optimization problem.\n"
     ]
    },
    {
     "name": "stdout",
     "output_type": "stream",
     "text": [
      "Accuracy 0.39040040969848633\n",
      "Accuracy 0.6095995903015137\n",
      "Accuracy 0.6095995903015137\n",
      "Accuracy 0.39040040969848633\n",
      "Accuracy 0.39040040969848633\n",
      "Accuracy 0.2027720808982849\n",
      "Accuracy 0.39040040969848633\n",
      "Accuracy 0.40092402696609497\n",
      "Accuracy 0.09548252820968628\n",
      "Accuracy 0.39040040969848633\n",
      "Accuracy 0.39040040969848633\n",
      "Accuracy 0.6095995903015137\n",
      "Accuracy 0.39040040969848633\n",
      "Accuracy 0.6095995903015137\n",
      "Accuracy 0.39040040969848633\n",
      "Accuracy 0.29491788148880005\n",
      "Accuracy 0.6095995903015137\n",
      "Accuracy 0.6095995903015137\n",
      "Accuracy 0.29491788148880005\n",
      "Accuracy 0.29491788148880005\n",
      "Accuracy 0.39040040969848633\n",
      "Accuracy 0.39040040969848633\n",
      "Accuracy 0.39040040969848633\n",
      "Accuracy 0.6095995903015137\n",
      "Accuracy 0.6095995903015137\n",
      "Accuracy 0.39040040969848633\n",
      "Accuracy 0.6095995903015137\n",
      "Accuracy 0.39040040969848633\n",
      "Accuracy 0.6095995903015137\n",
      "Accuracy 0.6095995903015137\n",
      "Accuracy 0.39040040969848633\n",
      "Accuracy 0.39040040969848633\n",
      "Accuracy 0.6095995903015137\n",
      "Accuracy 0.39040040969848633\n",
      "Accuracy 0.6095995903015137\n",
      "Accuracy 0.09727925062179565\n",
      "Accuracy 0.6095995903015137\n",
      "Accuracy 0.09548252820968628\n",
      "Accuracy 0.6095995903015137\n",
      "Accuracy 0.6095995903015137\n"
     ]
    },
    {
     "name": "stderr",
     "output_type": "stream",
     "text": [
      "INFO:mealpy.swarm_based.FOX.OriginalFOX:>>>Problem: P, Epoch: 1, Current best: 0.09548252820968628, Global best: 0.09548252820968628, Runtime: 1867.05125 seconds\n"
     ]
    },
    {
     "name": "stdout",
     "output_type": "stream",
     "text": [
      "Accuracy 0.35805952548980713\n",
      "Accuracy 0.39040040969848633\n",
      "Accuracy 0.6095995903015137\n",
      "Accuracy 0.39040040969848633\n",
      "Accuracy 0.6095995903015137\n",
      "Accuracy 0.39040040969848633\n",
      "Accuracy 0.39040040969848633\n",
      "Accuracy 0.6095995903015137\n",
      "Accuracy 0.39040040969848633\n",
      "Accuracy 0.36858314275741577\n",
      "Accuracy 0.37243324518203735\n",
      "Accuracy 0.6095995903015137\n",
      "Accuracy 0.09548252820968628\n",
      "Accuracy 0.31519508361816406\n",
      "Accuracy 0.39040040969848633\n",
      "Accuracy 0.09548252820968628\n",
      "Accuracy 0.09548252820968628\n",
      "Accuracy 0.39964067935943604\n",
      "Accuracy 0.39040040969848633\n",
      "Accuracy 0.09548252820968628\n"
     ]
    },
    {
     "name": "stderr",
     "output_type": "stream",
     "text": [
      "INFO:mealpy.swarm_based.FOX.OriginalFOX:>>>Problem: P, Epoch: 2, Current best: 0.09548252820968628, Global best: 0.09548252820968628, Runtime: 1280.63131 seconds\n"
     ]
    },
    {
     "name": "stdout",
     "output_type": "stream",
     "text": [
      "Accuracy 0.39040040969848633\n",
      "Accuracy 0.39040040969848633\n",
      "Accuracy 0.39040040969848633\n",
      "Accuracy 0.09548252820968628\n",
      "Accuracy 0.39040040969848633\n",
      "Accuracy 0.39040040969848633\n",
      "Accuracy 0.39040040969848633\n",
      "Accuracy 0.09548252820968628\n",
      "Accuracy 0.2992812991142273\n",
      "Accuracy 0.39040040969848633\n",
      "Accuracy 0.39040040969848633\n",
      "Accuracy 0.6095995903015137\n",
      "Accuracy 0.39040040969848633\n",
      "Accuracy 0.09548252820968628\n",
      "Accuracy 0.1573408842086792\n",
      "Accuracy 0.09548252820968628\n",
      "Accuracy 0.39040040969848633\n",
      "Accuracy 0.6095995903015137\n",
      "Accuracy 0.09548252820968628\n",
      "Accuracy 0.6095995903015137\n"
     ]
    },
    {
     "name": "stderr",
     "output_type": "stream",
     "text": [
      "INFO:mealpy.swarm_based.FOX.OriginalFOX:>>>Problem: P, Epoch: 3, Current best: 0.09548252820968628, Global best: 0.09548252820968628, Runtime: 1654.29894 seconds\n"
     ]
    },
    {
     "name": "stdout",
     "output_type": "stream",
     "text": [
      "Accuracy 0.39040040969848633\n",
      "Accuracy 0.09548252820968628\n",
      "Accuracy 0.39040040969848633\n",
      "Accuracy 0.09548252820968628\n",
      "Accuracy 0.39040040969848633\n",
      "Accuracy 0.6095995903015137\n",
      "Accuracy 0.6095995903015137\n",
      "Accuracy 0.6095995903015137\n",
      "Accuracy 0.39040040969848633\n",
      "Accuracy 0.39040040969848633\n",
      "Accuracy 0.09573924541473389\n",
      "Accuracy 0.39040040969848633\n",
      "Accuracy 0.09548252820968628\n",
      "Accuracy 0.6095995903015137\n",
      "Accuracy 0.09548252820968628\n",
      "Accuracy 0.6095995903015137\n",
      "Accuracy 0.6095995903015137\n",
      "Accuracy 0.09548252820968628\n",
      "Accuracy 0.39040040969848633\n",
      "Accuracy 0.09548252820968628\n"
     ]
    },
    {
     "name": "stderr",
     "output_type": "stream",
     "text": [
      "INFO:mealpy.swarm_based.FOX.OriginalFOX:>>>Problem: P, Epoch: 4, Current best: 0.09548252820968628, Global best: 0.09548252820968628, Runtime: 1613.82989 seconds\n"
     ]
    },
    {
     "name": "stdout",
     "output_type": "stream",
     "text": [
      "Accuracy 0.39040040969848633\n",
      "Accuracy 0.39040040969848633\n",
      "Accuracy 0.6095995903015137\n",
      "Accuracy 0.39040040969848633\n",
      "Accuracy 0.39040040969848633\n",
      "Accuracy 0.6095995903015137\n",
      "Accuracy 0.10189938545227051\n",
      "Accuracy 0.39040040969848633\n",
      "Accuracy 0.15862423181533813\n",
      "Accuracy 0.6095995903015137\n",
      "Accuracy 0.39040040969848633\n",
      "Accuracy 0.6095995903015137\n",
      "Accuracy 0.39040040969848633\n",
      "Accuracy 0.30775153636932373\n",
      "Accuracy 0.6095995903015137\n",
      "Accuracy 0.09548252820968628\n",
      "Accuracy 0.6095995903015137\n",
      "Accuracy 0.6095995903015137\n",
      "Accuracy 0.09548252820968628\n",
      "Accuracy 0.39040040969848633\n"
     ]
    },
    {
     "name": "stderr",
     "output_type": "stream",
     "text": [
      "INFO:mealpy.swarm_based.FOX.OriginalFOX:>>>Problem: P, Epoch: 5, Current best: 0.09548252820968628, Global best: 0.09548252820968628, Runtime: 1808.11948 seconds\n"
     ]
    },
    {
     "name": "stdout",
     "output_type": "stream",
     "text": [
      "Accuracy 0.6095995903015137\n",
      "Accuracy 0.09548252820968628\n",
      "Accuracy 0.39040040969848633\n",
      "Accuracy 0.39040040969848633\n",
      "Accuracy 0.39040040969848633\n",
      "Accuracy 0.09548252820968628\n",
      "Accuracy 0.39040040969848633\n",
      "Accuracy 0.09548252820968628\n",
      "Accuracy 0.09548252820968628\n",
      "Accuracy 0.09548252820968628\n",
      "Accuracy 0.39040040969848633\n",
      "Accuracy 0.6095995903015137\n",
      "Accuracy 0.39040040969848633\n",
      "Accuracy 0.18506157398223877\n",
      "Accuracy 0.09548252820968628\n",
      "Accuracy 0.09548252820968628\n",
      "Accuracy 0.09548252820968628\n",
      "Accuracy 0.13039016723632812\n",
      "Accuracy 0.09548252820968628\n",
      "Accuracy 0.39040040969848633\n"
     ]
    },
    {
     "name": "stderr",
     "output_type": "stream",
     "text": [
      "INFO:mealpy.swarm_based.FOX.OriginalFOX:>>>Problem: P, Epoch: 6, Current best: 0.09548252820968628, Global best: 0.09548252820968628, Runtime: 1696.23605 seconds\n"
     ]
    },
    {
     "name": "stdout",
     "output_type": "stream",
     "text": [
      "Accuracy 0.39040040969848633\n",
      "Accuracy 0.09548252820968628\n",
      "Accuracy 0.10574948787689209\n",
      "Accuracy 0.49948662519454956\n",
      "Accuracy 0.29491788148880005\n",
      "Accuracy 0.6095995903015137\n",
      "Accuracy 0.09548252820968628\n",
      "Accuracy 0.09933263063430786\n",
      "Accuracy 0.6095995903015137\n",
      "Accuracy 0.39040040969848633\n",
      "Accuracy 0.39040040969848633\n",
      "Accuracy 0.6095995903015137\n",
      "Accuracy 0.6095995903015137\n",
      "Accuracy 0.09548252820968628\n",
      "Accuracy 0.6095995903015137\n",
      "Accuracy 0.6095995903015137\n",
      "Accuracy 0.09548252820968628\n",
      "Accuracy 0.09548252820968628\n",
      "Accuracy 0.39040040969848633\n",
      "Accuracy 0.09548252820968628\n"
     ]
    },
    {
     "name": "stderr",
     "output_type": "stream",
     "text": [
      "INFO:mealpy.swarm_based.FOX.OriginalFOX:>>>Problem: P, Epoch: 7, Current best: 0.09548252820968628, Global best: 0.09548252820968628, Runtime: 1540.78600 seconds\n"
     ]
    },
    {
     "name": "stdout",
     "output_type": "stream",
     "text": [
      "Accuracy 0.29491788148880005\n",
      "Accuracy 0.09548252820968628\n",
      "Accuracy 0.39040040969848633\n",
      "Accuracy 0.6095995903015137\n",
      "Accuracy 0.39040040969848633\n",
      "Accuracy 0.09548252820968628\n",
      "Accuracy 0.09548252820968628\n",
      "Accuracy 0.39040040969848633\n",
      "Accuracy 0.09548252820968628\n",
      "Accuracy 0.6095995903015137\n",
      "Accuracy 0.6095995903015137\n",
      "Accuracy 0.39040040969848633\n",
      "Accuracy 0.39040040969848633\n",
      "Accuracy 0.39040040969848633\n",
      "Accuracy 0.6095995903015137\n",
      "Accuracy 0.39040040969848633\n",
      "Accuracy 0.6095995903015137\n",
      "Accuracy 0.39040040969848633\n",
      "Accuracy 0.6095995903015137\n",
      "Accuracy 0.6095995903015137\n"
     ]
    },
    {
     "name": "stderr",
     "output_type": "stream",
     "text": [
      "INFO:mealpy.swarm_based.FOX.OriginalFOX:>>>Problem: P, Epoch: 8, Current best: 0.09548252820968628, Global best: 0.09548252820968628, Runtime: 2182.49897 seconds\n"
     ]
    },
    {
     "name": "stdout",
     "output_type": "stream",
     "text": [
      "Accuracy 0.39040040969848633\n",
      "Accuracy 0.39040040969848633\n",
      "Accuracy 0.09548252820968628\n",
      "Accuracy 0.39040040969848633\n",
      "Accuracy 0.39040040969848633\n",
      "Accuracy 0.09548252820968628\n",
      "Accuracy 0.23639631271362305\n",
      "Accuracy 0.09548252820968628\n",
      "Accuracy 0.09548252820968628\n",
      "Accuracy 0.09548252820968628\n",
      "Accuracy 0.14168375730514526\n",
      "Accuracy 0.39040040969848633\n",
      "Accuracy 0.12628334760665894\n",
      "Accuracy 0.39040040969848633\n",
      "Accuracy 0.09548252820968628\n",
      "Accuracy 0.39040040969848633\n",
      "Accuracy 0.39040040969848633\n",
      "Accuracy 0.09548252820968628\n",
      "Accuracy 0.6095995903015137\n",
      "Accuracy 0.6095995903015137\n"
     ]
    },
    {
     "name": "stderr",
     "output_type": "stream",
     "text": [
      "INFO:mealpy.swarm_based.FOX.OriginalFOX:>>>Problem: P, Epoch: 9, Current best: 0.09548252820968628, Global best: 0.09548252820968628, Runtime: 1457.47780 seconds\n"
     ]
    },
    {
     "name": "stdout",
     "output_type": "stream",
     "text": [
      "Accuracy 0.3883470296859741\n",
      "Accuracy 0.6095995903015137\n",
      "Accuracy 0.39040040969848633\n",
      "Accuracy 0.6095995903015137\n",
      "Accuracy 0.1432238221168518\n",
      "Accuracy 0.6095995903015137\n",
      "Accuracy 0.09548252820968628\n",
      "Accuracy 0.09548252820968628\n",
      "Accuracy 0.6095995903015137\n",
      "Accuracy 0.39040040969848633\n",
      "Accuracy 0.6095995903015137\n",
      "Accuracy 0.09548252820968628\n",
      "Accuracy 0.09548252820968628\n",
      "Accuracy 0.39040040969848633\n",
      "Accuracy 0.6095995903015137\n",
      "Accuracy 0.3883470296859741\n",
      "Accuracy 0.39040040969848633\n",
      "Accuracy 0.6095995903015137\n",
      "Accuracy 0.09548252820968628\n",
      "Accuracy 0.39040040969848633\n"
     ]
    },
    {
     "name": "stderr",
     "output_type": "stream",
     "text": [
      "INFO:mealpy.swarm_based.FOX.OriginalFOX:>>>Problem: P, Epoch: 10, Current best: 0.09548252820968628, Global best: 0.09548252820968628, Runtime: 1997.12796 seconds\n"
     ]
    },
    {
     "name": "stdout",
     "output_type": "stream",
     "text": [
      "Accuracy 0.6095995903015137\n",
      "Accuracy 0.39040040969848633\n",
      "Accuracy 0.6095995903015137\n",
      "Accuracy 0.39040040969848633\n",
      "Accuracy 0.39040040969848633\n",
      "Accuracy 0.09548252820968628\n",
      "Accuracy 0.29491788148880005\n",
      "Accuracy 0.39040040969848633\n",
      "Accuracy 0.09548252820968628\n",
      "Accuracy 0.09548252820968628\n",
      "Accuracy 0.6095995903015137\n",
      "Accuracy 0.1765913963317871\n",
      "Accuracy 0.09548252820968628\n",
      "Accuracy 0.0998460054397583\n",
      "Accuracy 0.6095995903015137\n",
      "Accuracy 0.09548252820968628\n",
      "Accuracy 0.09548252820968628\n",
      "Accuracy 0.39040040969848633\n",
      "Accuracy 0.39040040969848633\n",
      "Accuracy 0.09548252820968628\n"
     ]
    },
    {
     "name": "stderr",
     "output_type": "stream",
     "text": [
      "INFO:mealpy.swarm_based.FOX.OriginalFOX:>>>Problem: P, Epoch: 11, Current best: 0.09548252820968628, Global best: 0.09548252820968628, Runtime: 1504.91307 seconds\n"
     ]
    },
    {
     "name": "stdout",
     "output_type": "stream",
     "text": [
      "Accuracy 0.6095995903015137\n",
      "Accuracy 0.6095995903015137\n",
      "Accuracy 0.6095995903015137\n",
      "Accuracy 0.09548252820968628\n",
      "Accuracy 0.09548252820968628\n",
      "Accuracy 0.17094457149505615\n",
      "Accuracy 0.10241276025772095\n",
      "Accuracy 0.09548252820968628\n",
      "Accuracy 0.6095995903015137\n",
      "Accuracy 0.09548252820968628\n",
      "Accuracy 0.6095995903015137\n",
      "Accuracy 0.09548252820968628\n",
      "Accuracy 0.09548252820968628\n",
      "Accuracy 0.09548252820968628\n",
      "Accuracy 0.6095995903015137\n",
      "Accuracy 0.09548252820968628\n",
      "Accuracy 0.6095995903015137\n",
      "Accuracy 0.29491788148880005\n",
      "Accuracy 0.6095995903015137\n",
      "Accuracy 0.6095995903015137\n"
     ]
    },
    {
     "name": "stderr",
     "output_type": "stream",
     "text": [
      "INFO:mealpy.swarm_based.FOX.OriginalFOX:>>>Problem: P, Epoch: 12, Current best: 0.09548252820968628, Global best: 0.09548252820968628, Runtime: 1688.72794 seconds\n"
     ]
    },
    {
     "name": "stdout",
     "output_type": "stream",
     "text": [
      "Accuracy 0.6095995903015137\n",
      "Accuracy 0.09548252820968628\n",
      "Accuracy 0.175564706325531\n",
      "Accuracy 0.6095995903015137\n",
      "Accuracy 0.6095995903015137\n",
      "Accuracy 0.09548252820968628\n",
      "Accuracy 0.09548252820968628\n",
      "Accuracy 0.09548252820968628\n",
      "Accuracy 0.6095995903015137\n",
      "Accuracy 0.39040040969848633\n",
      "Accuracy 0.39040040969848633\n",
      "Accuracy 0.39040040969848633\n",
      "Accuracy 0.39040040969848633\n",
      "Accuracy 0.09548252820968628\n",
      "Accuracy 0.6095995903015137\n",
      "Accuracy 0.11524641513824463\n",
      "Accuracy 0.6095995903015137\n",
      "Accuracy 0.09933263063430786\n",
      "Accuracy 0.39040040969848633\n",
      "Accuracy 0.09548252820968628\n"
     ]
    },
    {
     "name": "stderr",
     "output_type": "stream",
     "text": [
      "INFO:mealpy.swarm_based.FOX.OriginalFOX:>>>Problem: P, Epoch: 13, Current best: 0.09548252820968628, Global best: 0.09548252820968628, Runtime: 1712.06991 seconds\n"
     ]
    },
    {
     "name": "stdout",
     "output_type": "stream",
     "text": [
      "Accuracy 0.39040040969848633\n",
      "Accuracy 0.09548252820968628\n",
      "Accuracy 0.09548252820968628\n",
      "Accuracy 0.09548252820968628\n",
      "Accuracy 0.09548252820968628\n",
      "Accuracy 0.6095995903015137\n",
      "Accuracy 0.39040040969848633\n",
      "Accuracy 0.09548252820968628\n",
      "Accuracy 0.09548252820968628\n",
      "Accuracy 0.29491788148880005\n",
      "Accuracy 0.6095995903015137\n",
      "Accuracy 0.6095995903015137\n",
      "Accuracy 0.39040040969848633\n",
      "Accuracy 0.09548252820968628\n",
      "Accuracy 0.387320339679718\n",
      "Accuracy 0.09548252820968628\n",
      "Accuracy 0.10112935304641724\n",
      "Accuracy 0.31699180603027344\n",
      "Accuracy 0.39040040969848633\n",
      "Accuracy 0.39040040969848633\n"
     ]
    },
    {
     "name": "stderr",
     "output_type": "stream",
     "text": [
      "INFO:mealpy.swarm_based.FOX.OriginalFOX:>>>Problem: P, Epoch: 14, Current best: 0.09548252820968628, Global best: 0.09548252820968628, Runtime: 1250.35597 seconds\n"
     ]
    },
    {
     "name": "stdout",
     "output_type": "stream",
     "text": [
      "Accuracy 0.09548252820968628\n",
      "Accuracy 0.6095995903015137\n",
      "Accuracy 0.09548252820968628\n",
      "Accuracy 0.6095995903015137\n",
      "Accuracy 0.6095995903015137\n",
      "Accuracy 0.6095995903015137\n",
      "Accuracy 0.6095995903015137\n",
      "Accuracy 0.14579057693481445\n",
      "Accuracy 0.09548252820968628\n",
      "Accuracy 0.39040040969848633\n",
      "Accuracy 0.6095995903015137\n",
      "Accuracy 0.6095995903015137\n",
      "Accuracy 0.39040040969848633\n",
      "Accuracy 0.308521568775177\n",
      "Accuracy 0.6095995903015137\n",
      "Accuracy 0.39040040969848633\n",
      "Accuracy 0.09548252820968628\n",
      "Accuracy 0.6095995903015137\n",
      "Accuracy 0.09548252820968628\n",
      "Accuracy 0.6095995903015137\n"
     ]
    },
    {
     "name": "stderr",
     "output_type": "stream",
     "text": [
      "INFO:mealpy.swarm_based.FOX.OriginalFOX:>>>Problem: P, Epoch: 15, Current best: 0.09548252820968628, Global best: 0.09548252820968628, Runtime: 1909.08025 seconds\n"
     ]
    },
    {
     "name": "stdout",
     "output_type": "stream",
     "text": [
      "Accuracy 0.39040040969848633\n",
      "Solution: [2.45535865 2.37747655 3.68406987 2.44430101 2.87378903], Fitness: 0.09548252820968628\n",
      "Solution: [2.45535865 2.37747655 3.68406987 2.44430101 2.87378903], Fitness: 0.09548252820968628\n"
     ]
    }
   ],
   "source": [
    "BATCH_ENCODER = LabelEncoder()\n",
    "BATCH_ENCODER.fit([32, 64, 128])\n",
    "\n",
    "#act encoder --> Which activation function should be used?\n",
    "ACT_ENCODER = LabelEncoder()\n",
    "ACT_ENCODER.fit(['softmax', 'softplus', 'relu', 'tanh', 'sigmoid', 'hard_sigmoid', 'linear'])\n",
    "\n",
    "#Learning Rate encoder\n",
    "LR_ENCODER = LabelEncoder()\n",
    "LR_ENCODER.fit([0.0005, 0.001, 0.005, 0.01, 0.05, 0.1])\n",
    "\n",
    "#Filter encoder\n",
    "FILTER_ENCODER = LabelEncoder()\n",
    "FILTER_ENCODER.fit([25, 50, 75])\n",
    "\n",
    "#Hidden Units encoder\n",
    "HIDDEN_ENCODER = LabelEncoder()\n",
    "HIDDEN_ENCODER.fit([400, 512, 640])\n",
    "\n",
    "def objective_function(params):\n",
    "  '''RULES:\n",
    "      Batch Size - 32, 64, 128\n",
    "      Activation - softmax, softplus, relu, tanh, sigmoid, hard_sigmoid, linear\n",
    "      Learning Rate - 0.0005, 0.001, 0.005, 0.01, 0.05, 0.1\n",
    "      Filters - 25, 50, 75\n",
    "      Hidden Units - 400, 512, 640\n",
    "      Dense Layers - 5, 8, 10\n",
    "  '''\n",
    "  batch_size = BATCH_ENCODER.inverse_transform([int(params[0])])[0]\n",
    "  activation = ACT_ENCODER.inverse_transform([int(params[1])])[0]\n",
    "  learning_rate = LR_ENCODER.inverse_transform([int(params[2])])[0]\n",
    "  filter = FILTER_ENCODER.inverse_transform([int(params[3])])[0]\n",
    "  hidden_units = HIDDEN_ENCODER.inverse_transform([int(params[4])])[0]\n",
    "\n",
    "  model = tensorflow.keras.Sequential()\n",
    "  model.add(tensorflow.keras.layers.Input(shape=(X_rebalance.shape[1], X_rebalance.shape[2]))),\n",
    "  model.add(tensorflow.keras.layers.Conv1D(filters=filter, kernel_size=3, activation='sigmoid')),\n",
    "  model.add(tensorflow.keras.layers.MaxPooling1D(pool_size=2)),\n",
    "  model.add(tensorflow.keras.layers.Dropout(0.3)),\n",
    "  model.add(tensorflow.keras.layers.BatchNormalization()),\n",
    "  model.add(tensorflow.keras.layers.LSTM(64)),\n",
    "  model.add(tensorflow.keras.layers.Flatten()),\n",
    "  model.add(tensorflow.keras.layers.Dense(int(hidden_units), activation=activation)),\n",
    "  model.add(tensorflow.keras.layers.Dropout(0.5)),\n",
    "  model.add(tensorflow.keras.layers.Dense(1, activation='sigmoid'))\n",
    "\n",
    "\n",
    "  optimizer = tensorflow.keras.optimizers.SGD(learning_rate=learning_rate)\n",
    "  model.compile(optimizer=optimizer, loss='binary_crossentropy', metrics=['accuracy'])\n",
    "\n",
    "  history = model.fit(X_rebalance, y_rebalance, batch_size=batch_size, epochs=15, validation_data=(X_validation_encode, y_validation_encode), verbose=0)\n",
    "  min_validation_accuracy = 1-history.history['val_accuracy'][-1]\n",
    "  print(f\"Accuracy {min_validation_accuracy}\")\n",
    "  return min_validation_accuracy\n",
    "\n",
    "LB = [0, 0, 0, 0, 0]\n",
    "UB = [2.99, 6.99, 5.99, 2.99, 2.99]\n",
    "\n",
    "problem_dict = {\n",
    "    \"obj_func\": objective_function,\n",
    "    \"bounds\": FloatVar(lb=LB, ub=UB),\n",
    "    \"minmax\": \"min\",\n",
    "    \"verbose\": True\n",
    "}\n",
    "\n",
    "model = FOX.OriginalFOX(epoch=15, pop_size=20)\n",
    "g_best = model.solve(problem_dict)\n",
    "print(f\"Solution: {g_best.solution}, Fitness: {g_best.target.fitness}\")\n",
    "print(f\"Solution: {model.g_best.solution}, Fitness: {model.g_best.target.fitness}\")\n",
    "model.history.save_global_objectives_chart(filename=\"hello/goc\")\n",
    "model.history.save_local_objectives_chart(filename=\"hello/loc\")\n",
    "\n",
    "model.history.save_global_best_fitness_chart(filename=\"hello/gbfc\")\n",
    "model.history.save_local_best_fitness_chart(filename=\"hello/lbfc\")\n",
    "\n",
    "model.history.save_runtime_chart(filename=\"hello/rtc\")\n",
    "\n",
    "model.history.save_exploration_exploitation_chart(filename=\"hello/eec\")\n",
    "\n",
    "model.history.save_diversity_chart(filename=\"hello/dc\")\n"
   ]
  },
  {
   "cell_type": "markdown",
   "metadata": {
    "id": "WEzB4Lg810L_"
   },
   "source": [
    "Solution: [2.45535865 2.37747655 3.68406987 2.44430101 2.87378903], Fitness: 0.09548252820968628\n",
    "\n",
    "Batch Size - 32, 64, **128**\n",
    "\n",
    "Activation - softmax, softplus, **relu**, tanh, sigmoid, hard_sigmoid, linear\n",
    "\n",
    "Learning Rate - 0.0005, 0.001, 0.005, **0.01**, 0.05, 0.1\n",
    "\n",
    "Filters - 25, 50, **75**\n",
    "\n",
    "Hidden Units - 400, 512, **640**"
   ]
  },
  {
   "cell_type": "code",
   "execution_count": null,
   "metadata": {
    "colab": {
     "base_uri": "https://localhost:8080/",
     "height": 1000
    },
    "id": "DcO8RPRf6zE5",
    "outputId": "ae0181f4-0bbd-46f4-d6df-b1c0488c70b9"
   },
   "outputs": [
    {
     "data": {
      "text/html": [
       "<pre style=\"white-space:pre;overflow-x:auto;line-height:normal;font-family:Menlo,'DejaVu Sans Mono',consolas,'Courier New',monospace\"><span style=\"font-weight: bold\">Model: \"sequential_322\"</span>\n",
       "</pre>\n"
      ],
      "text/plain": [
       "\u001b[1mModel: \"sequential_322\"\u001b[0m\n"
      ]
     },
     "metadata": {},
     "output_type": "display_data"
    },
    {
     "data": {
      "text/html": [
       "<pre style=\"white-space:pre;overflow-x:auto;line-height:normal;font-family:Menlo,'DejaVu Sans Mono',consolas,'Courier New',monospace\">┏━━━━━━━━━━━━━━━━━━━━━━━━━━━━━━━━━┳━━━━━━━━━━━━━━━━━━━━━━━━┳━━━━━━━━━━━━━━━┓\n",
       "┃<span style=\"font-weight: bold\"> Layer (type)                    </span>┃<span style=\"font-weight: bold\"> Output Shape           </span>┃<span style=\"font-weight: bold\">       Param # </span>┃\n",
       "┡━━━━━━━━━━━━━━━━━━━━━━━━━━━━━━━━━╇━━━━━━━━━━━━━━━━━━━━━━━━╇━━━━━━━━━━━━━━━┩\n",
       "│ conv1d_322 (<span style=\"color: #0087ff; text-decoration-color: #0087ff\">Conv1D</span>)             │ (<span style=\"color: #00d7ff; text-decoration-color: #00d7ff\">None</span>, <span style=\"color: #00af00; text-decoration-color: #00af00\">2</span>, <span style=\"color: #00af00; text-decoration-color: #00af00\">75</span>)          │           <span style=\"color: #00af00; text-decoration-color: #00af00\">300</span> │\n",
       "├─────────────────────────────────┼────────────────────────┼───────────────┤\n",
       "│ max_pooling1d_322               │ (<span style=\"color: #00d7ff; text-decoration-color: #00d7ff\">None</span>, <span style=\"color: #00af00; text-decoration-color: #00af00\">1</span>, <span style=\"color: #00af00; text-decoration-color: #00af00\">75</span>)          │             <span style=\"color: #00af00; text-decoration-color: #00af00\">0</span> │\n",
       "│ (<span style=\"color: #0087ff; text-decoration-color: #0087ff\">MaxPooling1D</span>)                  │                        │               │\n",
       "├─────────────────────────────────┼────────────────────────┼───────────────┤\n",
       "│ dropout_644 (<span style=\"color: #0087ff; text-decoration-color: #0087ff\">Dropout</span>)           │ (<span style=\"color: #00d7ff; text-decoration-color: #00d7ff\">None</span>, <span style=\"color: #00af00; text-decoration-color: #00af00\">1</span>, <span style=\"color: #00af00; text-decoration-color: #00af00\">75</span>)          │             <span style=\"color: #00af00; text-decoration-color: #00af00\">0</span> │\n",
       "├─────────────────────────────────┼────────────────────────┼───────────────┤\n",
       "│ batch_normalization_322         │ (<span style=\"color: #00d7ff; text-decoration-color: #00d7ff\">None</span>, <span style=\"color: #00af00; text-decoration-color: #00af00\">1</span>, <span style=\"color: #00af00; text-decoration-color: #00af00\">75</span>)          │           <span style=\"color: #00af00; text-decoration-color: #00af00\">300</span> │\n",
       "│ (<span style=\"color: #0087ff; text-decoration-color: #0087ff\">BatchNormalization</span>)            │                        │               │\n",
       "├─────────────────────────────────┼────────────────────────┼───────────────┤\n",
       "│ lstm_322 (<span style=\"color: #0087ff; text-decoration-color: #0087ff\">LSTM</span>)                 │ (<span style=\"color: #00d7ff; text-decoration-color: #00d7ff\">None</span>, <span style=\"color: #00af00; text-decoration-color: #00af00\">64</span>)             │        <span style=\"color: #00af00; text-decoration-color: #00af00\">35,840</span> │\n",
       "├─────────────────────────────────┼────────────────────────┼───────────────┤\n",
       "│ flatten_322 (<span style=\"color: #0087ff; text-decoration-color: #0087ff\">Flatten</span>)           │ (<span style=\"color: #00d7ff; text-decoration-color: #00d7ff\">None</span>, <span style=\"color: #00af00; text-decoration-color: #00af00\">64</span>)             │             <span style=\"color: #00af00; text-decoration-color: #00af00\">0</span> │\n",
       "├─────────────────────────────────┼────────────────────────┼───────────────┤\n",
       "│ dense_644 (<span style=\"color: #0087ff; text-decoration-color: #0087ff\">Dense</span>)               │ (<span style=\"color: #00d7ff; text-decoration-color: #00d7ff\">None</span>, <span style=\"color: #00af00; text-decoration-color: #00af00\">640</span>)            │        <span style=\"color: #00af00; text-decoration-color: #00af00\">41,600</span> │\n",
       "├─────────────────────────────────┼────────────────────────┼───────────────┤\n",
       "│ dropout_645 (<span style=\"color: #0087ff; text-decoration-color: #0087ff\">Dropout</span>)           │ (<span style=\"color: #00d7ff; text-decoration-color: #00d7ff\">None</span>, <span style=\"color: #00af00; text-decoration-color: #00af00\">640</span>)            │             <span style=\"color: #00af00; text-decoration-color: #00af00\">0</span> │\n",
       "├─────────────────────────────────┼────────────────────────┼───────────────┤\n",
       "│ dense_645 (<span style=\"color: #0087ff; text-decoration-color: #0087ff\">Dense</span>)               │ (<span style=\"color: #00d7ff; text-decoration-color: #00d7ff\">None</span>, <span style=\"color: #00af00; text-decoration-color: #00af00\">1</span>)              │           <span style=\"color: #00af00; text-decoration-color: #00af00\">641</span> │\n",
       "└─────────────────────────────────┴────────────────────────┴───────────────┘\n",
       "</pre>\n"
      ],
      "text/plain": [
       "┏━━━━━━━━━━━━━━━━━━━━━━━━━━━━━━━━━┳━━━━━━━━━━━━━━━━━━━━━━━━┳━━━━━━━━━━━━━━━┓\n",
       "┃\u001b[1m \u001b[0m\u001b[1mLayer (type)                   \u001b[0m\u001b[1m \u001b[0m┃\u001b[1m \u001b[0m\u001b[1mOutput Shape          \u001b[0m\u001b[1m \u001b[0m┃\u001b[1m \u001b[0m\u001b[1m      Param #\u001b[0m\u001b[1m \u001b[0m┃\n",
       "┡━━━━━━━━━━━━━━━━━━━━━━━━━━━━━━━━━╇━━━━━━━━━━━━━━━━━━━━━━━━╇━━━━━━━━━━━━━━━┩\n",
       "│ conv1d_322 (\u001b[38;5;33mConv1D\u001b[0m)             │ (\u001b[38;5;45mNone\u001b[0m, \u001b[38;5;34m2\u001b[0m, \u001b[38;5;34m75\u001b[0m)          │           \u001b[38;5;34m300\u001b[0m │\n",
       "├─────────────────────────────────┼────────────────────────┼───────────────┤\n",
       "│ max_pooling1d_322               │ (\u001b[38;5;45mNone\u001b[0m, \u001b[38;5;34m1\u001b[0m, \u001b[38;5;34m75\u001b[0m)          │             \u001b[38;5;34m0\u001b[0m │\n",
       "│ (\u001b[38;5;33mMaxPooling1D\u001b[0m)                  │                        │               │\n",
       "├─────────────────────────────────┼────────────────────────┼───────────────┤\n",
       "│ dropout_644 (\u001b[38;5;33mDropout\u001b[0m)           │ (\u001b[38;5;45mNone\u001b[0m, \u001b[38;5;34m1\u001b[0m, \u001b[38;5;34m75\u001b[0m)          │             \u001b[38;5;34m0\u001b[0m │\n",
       "├─────────────────────────────────┼────────────────────────┼───────────────┤\n",
       "│ batch_normalization_322         │ (\u001b[38;5;45mNone\u001b[0m, \u001b[38;5;34m1\u001b[0m, \u001b[38;5;34m75\u001b[0m)          │           \u001b[38;5;34m300\u001b[0m │\n",
       "│ (\u001b[38;5;33mBatchNormalization\u001b[0m)            │                        │               │\n",
       "├─────────────────────────────────┼────────────────────────┼───────────────┤\n",
       "│ lstm_322 (\u001b[38;5;33mLSTM\u001b[0m)                 │ (\u001b[38;5;45mNone\u001b[0m, \u001b[38;5;34m64\u001b[0m)             │        \u001b[38;5;34m35,840\u001b[0m │\n",
       "├─────────────────────────────────┼────────────────────────┼───────────────┤\n",
       "│ flatten_322 (\u001b[38;5;33mFlatten\u001b[0m)           │ (\u001b[38;5;45mNone\u001b[0m, \u001b[38;5;34m64\u001b[0m)             │             \u001b[38;5;34m0\u001b[0m │\n",
       "├─────────────────────────────────┼────────────────────────┼───────────────┤\n",
       "│ dense_644 (\u001b[38;5;33mDense\u001b[0m)               │ (\u001b[38;5;45mNone\u001b[0m, \u001b[38;5;34m640\u001b[0m)            │        \u001b[38;5;34m41,600\u001b[0m │\n",
       "├─────────────────────────────────┼────────────────────────┼───────────────┤\n",
       "│ dropout_645 (\u001b[38;5;33mDropout\u001b[0m)           │ (\u001b[38;5;45mNone\u001b[0m, \u001b[38;5;34m640\u001b[0m)            │             \u001b[38;5;34m0\u001b[0m │\n",
       "├─────────────────────────────────┼────────────────────────┼───────────────┤\n",
       "│ dense_645 (\u001b[38;5;33mDense\u001b[0m)               │ (\u001b[38;5;45mNone\u001b[0m, \u001b[38;5;34m1\u001b[0m)              │           \u001b[38;5;34m641\u001b[0m │\n",
       "└─────────────────────────────────┴────────────────────────┴───────────────┘\n"
      ]
     },
     "metadata": {},
     "output_type": "display_data"
    },
    {
     "data": {
      "text/html": [
       "<pre style=\"white-space:pre;overflow-x:auto;line-height:normal;font-family:Menlo,'DejaVu Sans Mono',consolas,'Courier New',monospace\"><span style=\"font-weight: bold\"> Total params: </span><span style=\"color: #00af00; text-decoration-color: #00af00\">78,681</span> (307.35 KB)\n",
       "</pre>\n"
      ],
      "text/plain": [
       "\u001b[1m Total params: \u001b[0m\u001b[38;5;34m78,681\u001b[0m (307.35 KB)\n"
      ]
     },
     "metadata": {},
     "output_type": "display_data"
    },
    {
     "data": {
      "text/html": [
       "<pre style=\"white-space:pre;overflow-x:auto;line-height:normal;font-family:Menlo,'DejaVu Sans Mono',consolas,'Courier New',monospace\"><span style=\"font-weight: bold\"> Trainable params: </span><span style=\"color: #00af00; text-decoration-color: #00af00\">78,531</span> (306.76 KB)\n",
       "</pre>\n"
      ],
      "text/plain": [
       "\u001b[1m Trainable params: \u001b[0m\u001b[38;5;34m78,531\u001b[0m (306.76 KB)\n"
      ]
     },
     "metadata": {},
     "output_type": "display_data"
    },
    {
     "data": {
      "text/html": [
       "<pre style=\"white-space:pre;overflow-x:auto;line-height:normal;font-family:Menlo,'DejaVu Sans Mono',consolas,'Courier New',monospace\"><span style=\"font-weight: bold\"> Non-trainable params: </span><span style=\"color: #00af00; text-decoration-color: #00af00\">150</span> (600.00 B)\n",
       "</pre>\n"
      ],
      "text/plain": [
       "\u001b[1m Non-trainable params: \u001b[0m\u001b[38;5;34m150\u001b[0m (600.00 B)\n"
      ]
     },
     "metadata": {},
     "output_type": "display_data"
    },
    {
     "name": "stdout",
     "output_type": "stream",
     "text": [
      "Epoch 1/70\n",
      "\u001b[1m300/300\u001b[0m \u001b[32m━━━━━━━━━━━━━━━━━━━━\u001b[0m\u001b[37m\u001b[0m \u001b[1m3s\u001b[0m 7ms/step - accuracy: 0.5057 - loss: 0.6933 - val_accuracy: 0.3904 - val_loss: 0.6937\n",
      "Epoch 2/70\n",
      "\u001b[1m300/300\u001b[0m \u001b[32m━━━━━━━━━━━━━━━━━━━━\u001b[0m\u001b[37m\u001b[0m \u001b[1m2s\u001b[0m 8ms/step - accuracy: 0.5238 - loss: 0.6917 - val_accuracy: 0.3904 - val_loss: 0.6928\n",
      "Epoch 3/70\n",
      "\u001b[1m300/300\u001b[0m \u001b[32m━━━━━━━━━━━━━━━━━━━━\u001b[0m\u001b[37m\u001b[0m \u001b[1m2s\u001b[0m 7ms/step - accuracy: 0.5485 - loss: 0.6892 - val_accuracy: 0.3904 - val_loss: 0.6921\n",
      "Epoch 4/70\n",
      "\u001b[1m300/300\u001b[0m \u001b[32m━━━━━━━━━━━━━━━━━━━━\u001b[0m\u001b[37m\u001b[0m \u001b[1m2s\u001b[0m 6ms/step - accuracy: 0.5687 - loss: 0.6869 - val_accuracy: 0.3904 - val_loss: 0.6909\n",
      "Epoch 5/70\n",
      "\u001b[1m300/300\u001b[0m \u001b[32m━━━━━━━━━━━━━━━━━━━━\u001b[0m\u001b[37m\u001b[0m \u001b[1m3s\u001b[0m 6ms/step - accuracy: 0.5827 - loss: 0.6837 - val_accuracy: 0.3429 - val_loss: 0.6889\n",
      "Epoch 6/70\n",
      "\u001b[1m300/300\u001b[0m \u001b[32m━━━━━━━━━━━━━━━━━━━━\u001b[0m\u001b[37m\u001b[0m \u001b[1m2s\u001b[0m 6ms/step - accuracy: 0.6126 - loss: 0.6784 - val_accuracy: 0.3557 - val_loss: 0.6871\n",
      "Epoch 7/70\n",
      "\u001b[1m300/300\u001b[0m \u001b[32m━━━━━━━━━━━━━━━━━━━━\u001b[0m\u001b[37m\u001b[0m \u001b[1m3s\u001b[0m 7ms/step - accuracy: 0.6306 - loss: 0.6712 - val_accuracy: 0.3429 - val_loss: 0.6834\n",
      "Epoch 8/70\n",
      "\u001b[1m300/300\u001b[0m \u001b[32m━━━━━━━━━━━━━━━━━━━━\u001b[0m\u001b[37m\u001b[0m \u001b[1m2s\u001b[0m 8ms/step - accuracy: 0.6628 - loss: 0.6576 - val_accuracy: 0.3771 - val_loss: 0.6770\n",
      "Epoch 9/70\n",
      "\u001b[1m300/300\u001b[0m \u001b[32m━━━━━━━━━━━━━━━━━━━━\u001b[0m\u001b[37m\u001b[0m \u001b[1m2s\u001b[0m 6ms/step - accuracy: 0.6842 - loss: 0.6390 - val_accuracy: 0.3765 - val_loss: 0.6687\n",
      "Epoch 10/70\n",
      "\u001b[1m300/300\u001b[0m \u001b[32m━━━━━━━━━━━━━━━━━━━━\u001b[0m\u001b[37m\u001b[0m \u001b[1m3s\u001b[0m 6ms/step - accuracy: 0.7187 - loss: 0.6080 - val_accuracy: 0.3984 - val_loss: 0.6541\n",
      "Epoch 11/70\n",
      "\u001b[1m300/300\u001b[0m \u001b[32m━━━━━━━━━━━━━━━━━━━━\u001b[0m\u001b[37m\u001b[0m \u001b[1m2s\u001b[0m 5ms/step - accuracy: 0.7400 - loss: 0.5697 - val_accuracy: 0.5126 - val_loss: 0.6300\n",
      "Epoch 12/70\n",
      "\u001b[1m300/300\u001b[0m \u001b[32m━━━━━━━━━━━━━━━━━━━━\u001b[0m\u001b[37m\u001b[0m \u001b[1m2s\u001b[0m 6ms/step - accuracy: 0.7639 - loss: 0.5284 - val_accuracy: 0.6222 - val_loss: 0.5994\n",
      "Epoch 13/70\n",
      "\u001b[1m300/300\u001b[0m \u001b[32m━━━━━━━━━━━━━━━━━━━━\u001b[0m\u001b[37m\u001b[0m \u001b[1m3s\u001b[0m 7ms/step - accuracy: 0.7826 - loss: 0.4923 - val_accuracy: 0.7859 - val_loss: 0.5590\n",
      "Epoch 14/70\n",
      "\u001b[1m300/300\u001b[0m \u001b[32m━━━━━━━━━━━━━━━━━━━━\u001b[0m\u001b[37m\u001b[0m \u001b[1m2s\u001b[0m 8ms/step - accuracy: 0.7912 - loss: 0.4724 - val_accuracy: 0.8958 - val_loss: 0.5204\n",
      "Epoch 15/70\n",
      "\u001b[1m300/300\u001b[0m \u001b[32m━━━━━━━━━━━━━━━━━━━━\u001b[0m\u001b[37m\u001b[0m \u001b[1m2s\u001b[0m 6ms/step - accuracy: 0.8045 - loss: 0.4493 - val_accuracy: 0.9037 - val_loss: 0.4853\n",
      "Epoch 16/70\n",
      "\u001b[1m300/300\u001b[0m \u001b[32m━━━━━━━━━━━━━━━━━━━━\u001b[0m\u001b[37m\u001b[0m \u001b[1m2s\u001b[0m 5ms/step - accuracy: 0.8108 - loss: 0.4355 - val_accuracy: 0.9045 - val_loss: 0.4577\n",
      "Epoch 17/70\n",
      "\u001b[1m300/300\u001b[0m \u001b[32m━━━━━━━━━━━━━━━━━━━━\u001b[0m\u001b[37m\u001b[0m \u001b[1m2s\u001b[0m 6ms/step - accuracy: 0.8203 - loss: 0.4184 - val_accuracy: 0.9045 - val_loss: 0.4443\n",
      "Epoch 18/70\n",
      "\u001b[1m300/300\u001b[0m \u001b[32m━━━━━━━━━━━━━━━━━━━━\u001b[0m\u001b[37m\u001b[0m \u001b[1m2s\u001b[0m 6ms/step - accuracy: 0.8263 - loss: 0.4075 - val_accuracy: 0.9045 - val_loss: 0.4397\n",
      "Epoch 19/70\n",
      "\u001b[1m300/300\u001b[0m \u001b[32m━━━━━━━━━━━━━━━━━━━━\u001b[0m\u001b[37m\u001b[0m \u001b[1m3s\u001b[0m 6ms/step - accuracy: 0.8278 - loss: 0.4034 - val_accuracy: 0.9045 - val_loss: 0.4460\n",
      "Epoch 20/70\n",
      "\u001b[1m300/300\u001b[0m \u001b[32m━━━━━━━━━━━━━━━━━━━━\u001b[0m\u001b[37m\u001b[0m \u001b[1m3s\u001b[0m 8ms/step - accuracy: 0.8355 - loss: 0.3872 - val_accuracy: 0.9045 - val_loss: 0.4495\n",
      "Epoch 21/70\n",
      "\u001b[1m300/300\u001b[0m \u001b[32m━━━━━━━━━━━━━━━━━━━━\u001b[0m\u001b[37m\u001b[0m \u001b[1m4s\u001b[0m 6ms/step - accuracy: 0.8353 - loss: 0.3862 - val_accuracy: 0.9045 - val_loss: 0.4666\n",
      "Epoch 22/70\n",
      "\u001b[1m300/300\u001b[0m \u001b[32m━━━━━━━━━━━━━━━━━━━━\u001b[0m\u001b[37m\u001b[0m \u001b[1m3s\u001b[0m 8ms/step - accuracy: 0.8383 - loss: 0.3834 - val_accuracy: 0.8383 - val_loss: 0.4883\n",
      "Epoch 23/70\n",
      "\u001b[1m300/300\u001b[0m \u001b[32m━━━━━━━━━━━━━━━━━━━━\u001b[0m\u001b[37m\u001b[0m \u001b[1m2s\u001b[0m 6ms/step - accuracy: 0.8438 - loss: 0.3712 - val_accuracy: 0.7903 - val_loss: 0.4975\n",
      "Epoch 24/70\n",
      "\u001b[1m300/300\u001b[0m \u001b[32m━━━━━━━━━━━━━━━━━━━━\u001b[0m\u001b[37m\u001b[0m \u001b[1m4s\u001b[0m 9ms/step - accuracy: 0.8481 - loss: 0.3653 - val_accuracy: 0.6761 - val_loss: 0.5227\n",
      "Epoch 25/70\n",
      "\u001b[1m300/300\u001b[0m \u001b[32m━━━━━━━━━━━━━━━━━━━━\u001b[0m\u001b[37m\u001b[0m \u001b[1m4s\u001b[0m 6ms/step - accuracy: 0.8490 - loss: 0.3608 - val_accuracy: 0.6122 - val_loss: 0.5467\n",
      "Epoch 26/70\n",
      "\u001b[1m300/300\u001b[0m \u001b[32m━━━━━━━━━━━━━━━━━━━━\u001b[0m\u001b[37m\u001b[0m \u001b[1m2s\u001b[0m 5ms/step - accuracy: 0.8488 - loss: 0.3591 - val_accuracy: 0.6096 - val_loss: 0.5701\n",
      "Epoch 27/70\n",
      "\u001b[1m300/300\u001b[0m \u001b[32m━━━━━━━━━━━━━━━━━━━━\u001b[0m\u001b[37m\u001b[0m \u001b[1m3s\u001b[0m 5ms/step - accuracy: 0.8548 - loss: 0.3491 - val_accuracy: 0.6096 - val_loss: 0.6086\n",
      "Epoch 28/70\n",
      "\u001b[1m300/300\u001b[0m \u001b[32m━━━━━━━━━━━━━━━━━━━━\u001b[0m\u001b[37m\u001b[0m \u001b[1m3s\u001b[0m 7ms/step - accuracy: 0.8497 - loss: 0.3515 - val_accuracy: 0.6096 - val_loss: 0.6265\n",
      "Epoch 29/70\n",
      "\u001b[1m300/300\u001b[0m \u001b[32m━━━━━━━━━━━━━━━━━━━━\u001b[0m\u001b[37m\u001b[0m \u001b[1m2s\u001b[0m 7ms/step - accuracy: 0.8552 - loss: 0.3427 - val_accuracy: 0.6096 - val_loss: 0.6445\n",
      "Epoch 30/70\n",
      "\u001b[1m300/300\u001b[0m \u001b[32m━━━━━━━━━━━━━━━━━━━━\u001b[0m\u001b[37m\u001b[0m \u001b[1m2s\u001b[0m 6ms/step - accuracy: 0.8573 - loss: 0.3363 - val_accuracy: 0.6096 - val_loss: 0.6614\n",
      "Epoch 31/70\n",
      "\u001b[1m300/300\u001b[0m \u001b[32m━━━━━━━━━━━━━━━━━━━━\u001b[0m\u001b[37m\u001b[0m \u001b[1m2s\u001b[0m 6ms/step - accuracy: 0.8597 - loss: 0.3310 - val_accuracy: 0.6096 - val_loss: 0.6782\n",
      "Epoch 32/70\n",
      "\u001b[1m300/300\u001b[0m \u001b[32m━━━━━━━━━━━━━━━━━━━━\u001b[0m\u001b[37m\u001b[0m \u001b[1m2s\u001b[0m 5ms/step - accuracy: 0.8593 - loss: 0.3305 - val_accuracy: 0.6096 - val_loss: 0.6972\n",
      "Epoch 33/70\n",
      "\u001b[1m300/300\u001b[0m \u001b[32m━━━━━━━━━━━━━━━━━━━━\u001b[0m\u001b[37m\u001b[0m \u001b[1m2s\u001b[0m 6ms/step - accuracy: 0.8577 - loss: 0.3289 - val_accuracy: 0.6096 - val_loss: 0.7160\n",
      "Epoch 34/70\n",
      "\u001b[1m300/300\u001b[0m \u001b[32m━━━━━━━━━━━━━━━━━━━━\u001b[0m\u001b[37m\u001b[0m \u001b[1m2s\u001b[0m 6ms/step - accuracy: 0.8634 - loss: 0.3182 - val_accuracy: 0.6096 - val_loss: 0.7310\n",
      "Epoch 35/70\n",
      "\u001b[1m300/300\u001b[0m \u001b[32m━━━━━━━━━━━━━━━━━━━━\u001b[0m\u001b[37m\u001b[0m \u001b[1m3s\u001b[0m 9ms/step - accuracy: 0.8667 - loss: 0.3095 - val_accuracy: 0.6096 - val_loss: 0.7525\n",
      "Epoch 36/70\n",
      "\u001b[1m300/300\u001b[0m \u001b[32m━━━━━━━━━━━━━━━━━━━━\u001b[0m\u001b[37m\u001b[0m \u001b[1m2s\u001b[0m 6ms/step - accuracy: 0.8637 - loss: 0.3089 - val_accuracy: 0.6096 - val_loss: 0.7756\n",
      "Epoch 37/70\n",
      "\u001b[1m300/300\u001b[0m \u001b[32m━━━━━━━━━━━━━━━━━━━━\u001b[0m\u001b[37m\u001b[0m \u001b[1m2s\u001b[0m 6ms/step - accuracy: 0.8600 - loss: 0.3089 - val_accuracy: 0.6096 - val_loss: 0.8014\n",
      "Epoch 38/70\n",
      "\u001b[1m300/300\u001b[0m \u001b[32m━━━━━━━━━━━━━━━━━━━━\u001b[0m\u001b[37m\u001b[0m \u001b[1m2s\u001b[0m 6ms/step - accuracy: 0.8624 - loss: 0.3057 - val_accuracy: 0.6096 - val_loss: 0.8212\n",
      "Epoch 39/70\n",
      "\u001b[1m300/300\u001b[0m \u001b[32m━━━━━━━━━━━━━━━━━━━━\u001b[0m\u001b[37m\u001b[0m \u001b[1m2s\u001b[0m 6ms/step - accuracy: 0.8661 - loss: 0.2984 - val_accuracy: 0.6096 - val_loss: 0.8420\n",
      "Epoch 40/70\n",
      "\u001b[1m300/300\u001b[0m \u001b[32m━━━━━━━━━━━━━━━━━━━━\u001b[0m\u001b[37m\u001b[0m \u001b[1m2s\u001b[0m 6ms/step - accuracy: 0.8689 - loss: 0.2929 - val_accuracy: 0.6096 - val_loss: 0.8654\n",
      "Epoch 41/70\n",
      "\u001b[1m300/300\u001b[0m \u001b[32m━━━━━━━━━━━━━━━━━━━━\u001b[0m\u001b[37m\u001b[0m \u001b[1m2s\u001b[0m 6ms/step - accuracy: 0.8689 - loss: 0.2873 - val_accuracy: 0.6096 - val_loss: 0.8880\n",
      "Epoch 42/70\n",
      "\u001b[1m300/300\u001b[0m \u001b[32m━━━━━━━━━━━━━━━━━━━━\u001b[0m\u001b[37m\u001b[0m \u001b[1m3s\u001b[0m 9ms/step - accuracy: 0.8723 - loss: 0.2806 - val_accuracy: 0.6096 - val_loss: 0.9149\n",
      "Epoch 43/70\n",
      "\u001b[1m300/300\u001b[0m \u001b[32m━━━━━━━━━━━━━━━━━━━━\u001b[0m\u001b[37m\u001b[0m \u001b[1m2s\u001b[0m 6ms/step - accuracy: 0.8770 - loss: 0.2705 - val_accuracy: 0.6096 - val_loss: 0.9450\n",
      "Epoch 44/70\n",
      "\u001b[1m300/300\u001b[0m \u001b[32m━━━━━━━━━━━━━━━━━━━━\u001b[0m\u001b[37m\u001b[0m \u001b[1m2s\u001b[0m 5ms/step - accuracy: 0.8808 - loss: 0.2652 - val_accuracy: 0.6096 - val_loss: 0.9584\n",
      "Epoch 45/70\n",
      "\u001b[1m300/300\u001b[0m \u001b[32m━━━━━━━━━━━━━━━━━━━━\u001b[0m\u001b[37m\u001b[0m \u001b[1m2s\u001b[0m 6ms/step - accuracy: 0.8809 - loss: 0.2642 - val_accuracy: 0.6096 - val_loss: 0.9912\n",
      "Epoch 46/70\n",
      "\u001b[1m300/300\u001b[0m \u001b[32m━━━━━━━━━━━━━━━━━━━━\u001b[0m\u001b[37m\u001b[0m \u001b[1m2s\u001b[0m 6ms/step - accuracy: 0.8822 - loss: 0.2603 - val_accuracy: 0.6096 - val_loss: 1.0105\n",
      "Epoch 47/70\n",
      "\u001b[1m300/300\u001b[0m \u001b[32m━━━━━━━━━━━━━━━━━━━━\u001b[0m\u001b[37m\u001b[0m \u001b[1m3s\u001b[0m 6ms/step - accuracy: 0.8866 - loss: 0.2502 - val_accuracy: 0.6096 - val_loss: 1.0284\n",
      "Epoch 48/70\n",
      "\u001b[1m300/300\u001b[0m \u001b[32m━━━━━━━━━━━━━━━━━━━━\u001b[0m\u001b[37m\u001b[0m \u001b[1m3s\u001b[0m 8ms/step - accuracy: 0.8925 - loss: 0.2407 - val_accuracy: 0.6096 - val_loss: 1.0477\n",
      "Epoch 49/70\n",
      "\u001b[1m300/300\u001b[0m \u001b[32m━━━━━━━━━━━━━━━━━━━━\u001b[0m\u001b[37m\u001b[0m \u001b[1m2s\u001b[0m 6ms/step - accuracy: 0.8952 - loss: 0.2344 - val_accuracy: 0.6096 - val_loss: 1.0851\n",
      "Epoch 50/70\n",
      "\u001b[1m300/300\u001b[0m \u001b[32m━━━━━━━━━━━━━━━━━━━━\u001b[0m\u001b[37m\u001b[0m \u001b[1m2s\u001b[0m 6ms/step - accuracy: 0.8973 - loss: 0.2308 - val_accuracy: 0.6096 - val_loss: 1.0937\n",
      "Epoch 51/70\n",
      "\u001b[1m300/300\u001b[0m \u001b[32m━━━━━━━━━━━━━━━━━━━━\u001b[0m\u001b[37m\u001b[0m \u001b[1m3s\u001b[0m 6ms/step - accuracy: 0.9035 - loss: 0.2195 - val_accuracy: 0.6096 - val_loss: 1.1271\n",
      "Epoch 52/70\n",
      "\u001b[1m300/300\u001b[0m \u001b[32m━━━━━━━━━━━━━━━━━━━━\u001b[0m\u001b[37m\u001b[0m \u001b[1m3s\u001b[0m 6ms/step - accuracy: 0.8999 - loss: 0.2217 - val_accuracy: 0.6096 - val_loss: 1.1450\n",
      "Epoch 53/70\n",
      "\u001b[1m300/300\u001b[0m \u001b[32m━━━━━━━━━━━━━━━━━━━━\u001b[0m\u001b[37m\u001b[0m \u001b[1m3s\u001b[0m 7ms/step - accuracy: 0.9029 - loss: 0.2159 - val_accuracy: 0.6096 - val_loss: 1.1728\n",
      "Epoch 54/70\n",
      "\u001b[1m300/300\u001b[0m \u001b[32m━━━━━━━━━━━━━━━━━━━━\u001b[0m\u001b[37m\u001b[0m \u001b[1m2s\u001b[0m 8ms/step - accuracy: 0.9088 - loss: 0.2088 - val_accuracy: 0.6096 - val_loss: 1.1968\n",
      "Epoch 55/70\n",
      "\u001b[1m300/300\u001b[0m \u001b[32m━━━━━━━━━━━━━━━━━━━━\u001b[0m\u001b[37m\u001b[0m \u001b[1m2s\u001b[0m 6ms/step - accuracy: 0.9108 - loss: 0.2011 - val_accuracy: 0.6096 - val_loss: 1.2315\n",
      "Epoch 56/70\n",
      "\u001b[1m300/300\u001b[0m \u001b[32m━━━━━━━━━━━━━━━━━━━━\u001b[0m\u001b[37m\u001b[0m \u001b[1m2s\u001b[0m 5ms/step - accuracy: 0.9157 - loss: 0.1935 - val_accuracy: 0.6096 - val_loss: 1.2429\n",
      "Epoch 57/70\n",
      "\u001b[1m300/300\u001b[0m \u001b[32m━━━━━━━━━━━━━━━━━━━━\u001b[0m\u001b[37m\u001b[0m \u001b[1m3s\u001b[0m 6ms/step - accuracy: 0.9147 - loss: 0.1919 - val_accuracy: 0.6096 - val_loss: 1.2739\n",
      "Epoch 58/70\n",
      "\u001b[1m300/300\u001b[0m \u001b[32m━━━━━━━━━━━━━━━━━━━━\u001b[0m\u001b[37m\u001b[0m \u001b[1m3s\u001b[0m 6ms/step - accuracy: 0.9197 - loss: 0.1840 - val_accuracy: 0.6096 - val_loss: 1.2904\n",
      "Epoch 59/70\n",
      "\u001b[1m300/300\u001b[0m \u001b[32m━━━━━━━━━━━━━━━━━━━━\u001b[0m\u001b[37m\u001b[0m \u001b[1m3s\u001b[0m 8ms/step - accuracy: 0.9252 - loss: 0.1790 - val_accuracy: 0.6096 - val_loss: 1.3367\n",
      "Epoch 60/70\n",
      "\u001b[1m300/300\u001b[0m \u001b[32m━━━━━━━━━━━━━━━━━━━━\u001b[0m\u001b[37m\u001b[0m \u001b[1m2s\u001b[0m 7ms/step - accuracy: 0.9236 - loss: 0.1781 - val_accuracy: 0.6096 - val_loss: 1.3803\n",
      "Epoch 61/70\n",
      "\u001b[1m300/300\u001b[0m \u001b[32m━━━━━━━━━━━━━━━━━━━━\u001b[0m\u001b[37m\u001b[0m \u001b[1m2s\u001b[0m 5ms/step - accuracy: 0.9291 - loss: 0.1698 - val_accuracy: 0.6096 - val_loss: 1.4061\n",
      "Epoch 62/70\n",
      "\u001b[1m300/300\u001b[0m \u001b[32m━━━━━━━━━━━━━━━━━━━━\u001b[0m\u001b[37m\u001b[0m \u001b[1m2s\u001b[0m 6ms/step - accuracy: 0.9247 - loss: 0.1714 - val_accuracy: 0.6096 - val_loss: 1.4469\n",
      "Epoch 63/70\n",
      "\u001b[1m300/300\u001b[0m \u001b[32m━━━━━━━━━━━━━━━━━━━━\u001b[0m\u001b[37m\u001b[0m \u001b[1m2s\u001b[0m 6ms/step - accuracy: 0.9322 - loss: 0.1671 - val_accuracy: 0.6096 - val_loss: 1.4759\n",
      "Epoch 64/70\n",
      "\u001b[1m300/300\u001b[0m \u001b[32m━━━━━━━━━━━━━━━━━━━━\u001b[0m\u001b[37m\u001b[0m \u001b[1m2s\u001b[0m 6ms/step - accuracy: 0.9343 - loss: 0.1568 - val_accuracy: 0.6096 - val_loss: 1.5227\n",
      "Epoch 65/70\n",
      "\u001b[1m300/300\u001b[0m \u001b[32m━━━━━━━━━━━━━━━━━━━━\u001b[0m\u001b[37m\u001b[0m \u001b[1m2s\u001b[0m 6ms/step - accuracy: 0.9320 - loss: 0.1617 - val_accuracy: 0.6096 - val_loss: 1.5522\n",
      "Epoch 66/70\n",
      "\u001b[1m300/300\u001b[0m \u001b[32m━━━━━━━━━━━━━━━━━━━━\u001b[0m\u001b[37m\u001b[0m \u001b[1m3s\u001b[0m 9ms/step - accuracy: 0.9392 - loss: 0.1497 - val_accuracy: 0.6096 - val_loss: 1.5661\n",
      "Epoch 67/70\n",
      "\u001b[1m300/300\u001b[0m \u001b[32m━━━━━━━━━━━━━━━━━━━━\u001b[0m\u001b[37m\u001b[0m \u001b[1m4s\u001b[0m 6ms/step - accuracy: 0.9369 - loss: 0.1503 - val_accuracy: 0.6096 - val_loss: 1.5911\n",
      "Epoch 68/70\n",
      "\u001b[1m300/300\u001b[0m \u001b[32m━━━━━━━━━━━━━━━━━━━━\u001b[0m\u001b[37m\u001b[0m \u001b[1m3s\u001b[0m 6ms/step - accuracy: 0.9368 - loss: 0.1503 - val_accuracy: 0.6096 - val_loss: 1.6149\n",
      "Epoch 69/70\n",
      "\u001b[1m300/300\u001b[0m \u001b[32m━━━━━━━━━━━━━━━━━━━━\u001b[0m\u001b[37m\u001b[0m \u001b[1m2s\u001b[0m 6ms/step - accuracy: 0.9401 - loss: 0.1432 - val_accuracy: 0.6096 - val_loss: 1.6518\n",
      "Epoch 70/70\n",
      "\u001b[1m300/300\u001b[0m \u001b[32m━━━━━━━━━━━━━━━━━━━━\u001b[0m\u001b[37m\u001b[0m \u001b[1m3s\u001b[0m 8ms/step - accuracy: 0.9424 - loss: 0.1376 - val_accuracy: 0.6096 - val_loss: 1.6714\n",
      "\u001b[1m122/122\u001b[0m \u001b[32m━━━━━━━━━━━━━━━━━━━━\u001b[0m\u001b[37m\u001b[0m \u001b[1m1s\u001b[0m 5ms/step - accuracy: 0.6138 - loss: 1.6364\n",
      "\u001b[1m122/122\u001b[0m \u001b[32m━━━━━━━━━━━━━━━━━━━━\u001b[0m\u001b[37m\u001b[0m \u001b[1m1s\u001b[0m 3ms/step\n",
      "[[0.9938857 ]\n",
      " [0.9955166 ]\n",
      " [0.75425875]\n",
      " ...\n",
      " [0.94672817]\n",
      " [0.77325577]\n",
      " [0.98625135]]\n",
      "[[1]\n",
      " [1]\n",
      " [1]\n",
      " ...\n",
      " [1]\n",
      " [1]\n",
      " [1]]\n",
      "0       0\n",
      "1       1\n",
      "2       0\n",
      "3       0\n",
      "4       0\n",
      "       ..\n",
      "3891    1\n",
      "3892    1\n",
      "3893    1\n",
      "3894    0\n",
      "3895    1\n",
      "Name: label, Length: 3896, dtype: int64\n",
      "Test Loss: 1.648385763168335, Test Accuracy: 0.6080595254898071\n",
      "\n"
     ]
    },
    {
     "data": {
      "image/png": "[encoded data removed]",
      "text/plain": [
       "<Figure size 640x480 with 1 Axes>"
      ]
     },
     "metadata": {},
     "output_type": "display_data"
    },
    {
     "name": "stdout",
     "output_type": "stream",
     "text": [
      "\n",
      "\n"
     ]
    },
    {
     "data": {
      "image/png": "[encoded data removed]",
      "text/plain": [
       "<Figure size 640x480 with 1 Axes>"
      ]
     },
     "metadata": {},
     "output_type": "display_data"
    },
    {
     "name": "stdout",
     "output_type": "stream",
     "text": [
      "\n",
      "Classification Report\n",
      "              precision    recall  f1-score   support\n",
      "\n",
      "           0       0.00      0.00      0.00      1527\n",
      "           1       0.61      1.00      0.76      2369\n",
      "\n",
      "    accuracy                           0.61      3896\n",
      "   macro avg       0.30      0.50      0.38      3896\n",
      "weighted avg       0.37      0.61      0.46      3896\n",
      "\n",
      "\n",
      "Confusion Matrix\n",
      "[[   0 1527]\n",
      " [   0 2369]]\n"
     ]
    },
    {
     "name": "stderr",
     "output_type": "stream",
     "text": [
      "/usr/local/lib/python3.11/dist-packages/sklearn/metrics/_classification.py:1565: UndefinedMetricWarning: Precision is ill-defined and being set to 0.0 in labels with no predicted samples. Use `zero_division` parameter to control this behavior.\n",
      "  _warn_prf(average, modifier, f\"{metric.capitalize()} is\", len(result))\n",
      "/usr/local/lib/python3.11/dist-packages/sklearn/metrics/_classification.py:1565: UndefinedMetricWarning: Precision is ill-defined and being set to 0.0 in labels with no predicted samples. Use `zero_division` parameter to control this behavior.\n",
      "  _warn_prf(average, modifier, f\"{metric.capitalize()} is\", len(result))\n",
      "/usr/local/lib/python3.11/dist-packages/sklearn/metrics/_classification.py:1565: UndefinedMetricWarning: Precision is ill-defined and being set to 0.0 in labels with no predicted samples. Use `zero_division` parameter to control this behavior.\n",
      "  _warn_prf(average, modifier, f\"{metric.capitalize()} is\", len(result))\n"
     ]
    },
    {
     "data": {
      "image/png": "[encoded data removed]",
      "text/plain": [
       "<Figure size 640x480 with 2 Axes>"
      ]
     },
     "metadata": {},
     "output_type": "display_data"
    },
    {
     "name": "stdout",
     "output_type": "stream",
     "text": [
      "Time taken: 164.3222 seconds\n"
     ]
    }
   ],
   "source": [
    "start_time_2 = time.perf_counter()\n",
    "with tensorflow.device('/device:GPU:0'):\n",
    "  # CNN model detection\n",
    "  # https://keras.io/api/layers/activations/#softmax-function\n",
    "  detection_model = tensorflow.keras.Sequential([\n",
    "      tensorflow.keras.layers.Input(shape=(X_rebalance.shape[1],X_rebalance.shape[2])),\n",
    "      tensorflow.keras.layers.Conv1D(filters=75, kernel_size=3, activation='sigmoid'),\n",
    "      tensorflow.keras.layers.MaxPooling1D(pool_size=2),\n",
    "      tensorflow.keras.layers.Dropout(0.3),\n",
    "      tensorflow.keras.layers.BatchNormalization(),\n",
    "      tensorflow.keras.layers.LSTM(64),\n",
    "      tensorflow.keras.layers.Flatten(),\n",
    "      # 1 layer\n",
    "      tensorflow.keras.layers.Dense(640, activation='relu'),\n",
    "      tensorflow.keras.layers.Dropout(0.5),\n",
    "      # either attack or normal\n",
    "      tensorflow.keras.layers.Dense(1, activation='sigmoid')\n",
    "  ])\n",
    "\n",
    "  detection_model.summary()\n",
    "  # https://keras.io/api/losses/probabilistic_losses/#probabilistic-losses\n",
    "  sgd = tensorflow.keras.optimizers.SGD(learning_rate=0.01)\n",
    "  detection_model.compile(optimizer=sgd,\n",
    "                loss=tensorflow.keras.losses.BinaryCrossentropy(from_logits=False),\n",
    "                metrics=['accuracy'])\n",
    "\n",
    "  history = detection_model.fit(X_rebalance, y_rebalance, batch_size=128, epochs=70, validation_data=(X_validation_encode, y_validation_encode))\n",
    "  test_loss, test_acc = detection_model.evaluate(X_test_encode, y_test_encode)\n",
    "\n",
    "  # Make predictions\n",
    "  prediction = detection_model.predict(X_test_encode)\n",
    "  print(prediction)\n",
    "  attack_prediction = numpy.where(prediction > 0.5, 1, 0)\n",
    "  print(attack_prediction)\n",
    "  print(y_test)\n",
    "\n",
    "  # Evaluate the model\n",
    "  print(f\"Test Loss: {test_loss}, Test Accuracy: {test_acc}\\n\")\n",
    "  # https://www.tensorflow.org/tutorials/keras/text_classification for training and validation loss and accuracy\n",
    "  history_dict = history.history\n",
    "  # print(history_dict.keys())\n",
    "  acc = history_dict['accuracy']\n",
    "  val_acc = history_dict['val_accuracy']\n",
    "  loss = history_dict['loss']\n",
    "  val_loss = history_dict['val_loss']\n",
    "\n",
    "  epochs = range(1, len(acc) + 1)\n",
    "\n",
    "  # \"bo\" is for \"blue dot\"\n",
    "  plt.plot(epochs, loss, 'bo', label='Training loss')\n",
    "  # b is for \"solid blue line\"\n",
    "  plt.plot(epochs, val_loss, 'b', label='Validation loss')\n",
    "  plt.title('Training and validation loss')\n",
    "  plt.xlabel('Epochs')\n",
    "  plt.ylabel('Loss')\n",
    "  plt.legend()\n",
    "  plt.show()\n",
    "  print(\"\\n\")\n",
    "\n",
    "  plt.plot(epochs, acc, 'bo', label='Training acc')\n",
    "  plt.plot(epochs, val_acc, 'b', label='Validation acc')\n",
    "  plt.title('Training and validation accuracy')\n",
    "  plt.xlabel('Epochs')\n",
    "  plt.ylabel('Accuracy')\n",
    "  plt.legend(loc='lower right')\n",
    "  plt.show()\n",
    "\n",
    "  print(\"\\nClassification Report\")\n",
    "  print(classification_report(y_test, attack_prediction))\n",
    "\n",
    "  print(\"\\nConfusion Matrix\")\n",
    "  print(confusion_matrix(y_test, attack_prediction))\n",
    "  ConfusionMatrixDisplay.from_predictions(y_test, attack_prediction)\n",
    "  plt.show()\n",
    "\n",
    "end_time2 = time.perf_counter()\n",
    "print(f\"Time taken: {end_time2 - start_time_2:0.4f} seconds\")"
   ]
  }
 ],
 "metadata": {
  "accelerator": "GPU",
  "colab": {
   "gpuType": "T4",
   "provenance": []
  },
  "kernelspec": {
   "display_name": "base",
   "language": "python",
   "name": "python3"
  },
  "language_info": {
   "codemirror_mode": {
    "name": "ipython",
    "version": 3
   },
   "file_extension": ".py",
   "mimetype": "text/x-python",
   "name": "python",
   "nbconvert_exporter": "python",
   "pygments_lexer": "ipython3",
   "version": "3.11.11"
  }
 },
 "nbformat": 4,
 "nbformat_minor": 0
}
