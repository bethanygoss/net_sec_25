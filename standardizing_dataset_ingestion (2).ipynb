{
  "nbformat": 4,
  "nbformat_minor": 0,
  "metadata": {
    "colab": {
      "provenance": []
    },
    "kernelspec": {
      "name": "python3",
      "display_name": "Python 3"
    },
    "language_info": {
      "name": "python"
    }
  },
  "cells": [
    {
      "cell_type": "code",
      "execution_count": 258,
      "metadata": {
        "id": "KvSJ8m00Tbqx"
      },
      "outputs": [],
      "source": [
        "import tensorflow as tf\n",
        "from tensorflow import keras\n",
        "import matplotlib.pyplot as plt\n",
        "import pandas as pd\n",
        "from sklearn.preprocessing import OneHotEncoder, StandardScaler"
      ]
    },
    {
      "cell_type": "code",
      "source": [
        "''''\n",
        "    These are our data sources. Uncomment the one you want to use.\n",
        "    If you want to use multiple csv's, you'll have to create then combine multiple dataframes,\n",
        "    Please talk to the group a bit more and we can discuss methodology.\n",
        "'''\n",
        "csv_name = \"Train_Test_IoT_Fridge.csv\"\n",
        "#csv_name = \"Train_Test_IoT_GPS_Tracker.csv\"\n",
        "#csv_name = \"Train_Test_IoT_Garage_Door.csv\"\n",
        "#csv_name = \"Train_Test_IoT_Modbus.csv\"\n",
        "#csv_name = \"Train_Test_IoT_Motion_Light.csv\"\n",
        "#csv_name = \"Train_Test_IoT_Thermostat.csv\"\n",
        "#csv_name = \"Train_Test_IoT_Weather.csv\"\n",
        "\n",
        "df = pd.read_csv(csv_name)\n",
        "\n",
        "'''\n",
        "    Using date and time columns seperately is totally valid.\n",
        "    Bethany combined them because to_datetime kept throwing errors when they were seperate\n",
        "    If this single time & date messes with your config, please comment out the drop statement and\n",
        "         deal with the consequences at your leisure.\n",
        "'''\n",
        "\n",
        "df['date_time'] = df[['date', 'time']].agg(' '.join, axis=1)\n",
        "df.date_time = pd.to_datetime(df.date_time)\n",
        "df2 = df.drop(['date', 'time'], axis=1)\n",
        "#print(df2.info())\n",
        "if df.label.count() == df2.label.count():\n",
        "  print(\"\\n Counts are good. Date_time object is created.\")\n",
        "else:\n",
        "  print(\"\\n Something went wrong, Time to troubleshoot\")"
      ],
      "metadata": {
        "colab": {
          "base_uri": "https://localhost:8080/"
        },
        "id": "hn6x2TtvfY68",
        "outputId": "d7079008-bcbd-4bdf-b126-d8061f777b61"
      },
      "execution_count": 259,
      "outputs": [
        {
          "output_type": "stream",
          "name": "stderr",
          "text": [
            "<ipython-input-259-bd3ff710d288>:24: UserWarning: Could not infer format, so each element will be parsed individually, falling back to `dateutil`. To ensure parsing is consistent and as-expected, please specify a format.\n",
            "  df.date_time = pd.to_datetime(df.date_time)\n"
          ]
        },
        {
          "output_type": "stream",
          "name": "stdout",
          "text": [
            "\n",
            " Counts are good. Date_time object is created.\n"
          ]
        }
      ]
    },
    {
      "cell_type": "code",
      "source": [
        "df2.date_time = pd.to_numeric(df.date_time)"
      ],
      "metadata": {
        "id": "M7YFlw1nSSVo"
      },
      "execution_count": 260,
      "outputs": []
    },
    {
      "cell_type": "code",
      "source": [
        "'''\n",
        "    Don't change this code. It handles some specific object related issues in\n",
        "          Garage_Door\n",
        "          Motion_Light\n",
        "'''\n",
        "df2 = df2.map(lambda x: x.strip() if isinstance(x, str) else x)\n",
        "if csv_name == 'Train_Test_IoT_Garage_Door.csv':\n",
        "  df2 = df2.replace({\"true\": 1, \"false\": 0})\n",
        "  df2.sphone_signal = pd.to_numeric(df2.sphone_signal)\n",
        "df2.info()\n",
        "\n",
        "\"\"\"\n",
        "    These are all the categories of \"Type\" you can process.\n",
        "          normal\n",
        "          backdoor\n",
        "          ddos\n",
        "          injection\n",
        "          password\n",
        "          ransome\n",
        "          xss\n",
        "          scanning\n",
        "\n",
        "      Not all of these catagories exist in each dataset.\n",
        "      If it doesn't exist, you'll get 'Attacks: 0'.\n",
        "      Pick another attack.\n",
        "\"\"\"\n",
        "attack = 'backdoor'\n",
        "attack_df = df2[df2.type== attack]\n",
        "#print(attack_df.head())\n",
        "attack_count = attack_df.type.count()\n",
        "print(f'\\nAttacks: ', attack_count)\n",
        "if attack_count != 0 :\n",
        "  half_count = int(attack_count/2)\n",
        "  print(f'Train subset should be: ', half_count)\n",
        "else:\n",
        "  print(\"\\n This type of attack does not exist! Pick another.\")\n"
      ],
      "metadata": {
        "colab": {
          "base_uri": "https://localhost:8080/"
        },
        "id": "AZS21hK7b-QA",
        "outputId": "04e5b5bf-da3c-452b-dba1-2cc2a1aa849e"
      },
      "execution_count": 261,
      "outputs": [
        {
          "output_type": "stream",
          "name": "stdout",
          "text": [
            "<class 'pandas.core.frame.DataFrame'>\n",
            "RangeIndex: 39944 entries, 0 to 39943\n",
            "Data columns (total 5 columns):\n",
            " #   Column              Non-Null Count  Dtype  \n",
            "---  ------              --------------  -----  \n",
            " 0   fridge_temperature  39944 non-null  float64\n",
            " 1   temp_condition      39944 non-null  object \n",
            " 2   label               39944 non-null  int64  \n",
            " 3   type                39944 non-null  object \n",
            " 4   date_time           39944 non-null  int64  \n",
            "dtypes: float64(1), int64(2), object(2)\n",
            "memory usage: 1.5+ MB\n",
            "\n",
            "Attacks:  5000\n",
            "Train subset should be:  2500\n"
          ]
        }
      ]
    },
    {
      "cell_type": "code",
      "source": [
        "'''\n",
        "    This code creates a boolean for whether or not the instance contains the specific attack\n",
        "        that you're looking for\n",
        "'''\n",
        "df_encoded = pd.get_dummies(attack_df)\n",
        "\n",
        "if df_encoded.shape[0] == attack_count:\n",
        "  print(f\"\\n You didn't lose any rows. All Good \\n\")\n",
        "  print(f\" Current count is \", df_encoded.shape[0])\n",
        "else:\n",
        "  print(f\"\\n Something went wrong. Current count is  {df_encoded.shape[0]} and should be {attack_count}\")"
      ],
      "metadata": {
        "colab": {
          "base_uri": "https://localhost:8080/"
        },
        "id": "gtRbcDw0A_iu",
        "outputId": "e499ca1f-1d29-49a1-d842-0d907bdfd40e"
      },
      "execution_count": 262,
      "outputs": [
        {
          "output_type": "stream",
          "name": "stdout",
          "text": [
            "\n",
            " You didn't lose any rows. All Good \n",
            "\n",
            " Current count is  5000\n"
          ]
        }
      ]
    },
    {
      "cell_type": "code",
      "source": [
        "'''\n",
        " The .sample() function takes a random sample without replacement.\n",
        " N = half the attack count unless attack count == 0, then it will do nothing.\n",
        "Then the dataframe is split again,:\n",
        "       train_bd_data --> drops columns Type and Label\n",
        "       train_bd_labels --> only columns Type and Label\n",
        "'''\n",
        "if attack_count != 0 :\n",
        "  train_bd = df_encoded.sample(n=half_count)\n",
        "  #train_bd.head()\n",
        "  #train_bd.info()\n",
        "  train_bd_data = train_bd.drop(columns=[f\"type_{attack}\", \"label\"])\n",
        "  train_bd_labels = train_bd[[f\"type_{attack}\", \"label\"]]\n",
        "\n",
        "  '''\n",
        "    Verification that you still have retained all your data.\n",
        "    Uncomment if you want to check columns.\n",
        "'''\n",
        "#train_bd_data.info()\n",
        "#train_bd_labels.info()\n",
        "if train_bd_data.shape[0] == train_bd_labels.shape[0]:\n",
        "  print(f\"\\n You didn't lose any rows. All Good \\n\")\n"
      ],
      "metadata": {
        "colab": {
          "base_uri": "https://localhost:8080/"
        },
        "id": "CjXTp3iMtOYj",
        "outputId": "0beebe1b-fbfc-43c4-df09-f353ecdfa075"
      },
      "execution_count": 263,
      "outputs": [
        {
          "output_type": "stream",
          "name": "stdout",
          "text": [
            "\n",
            " You didn't lose any rows. All Good \n",
            "\n"
          ]
        }
      ]
    },
    {
      "cell_type": "code",
      "source": [
        "'''\n",
        "    Encode->  Should output a 1D matrix: (attack count, 1)\n",
        "    Scale -> Should output 1D matrix: (half_count, # of left over columns)\n",
        "    Reshape -> Should output 3D matrix: (half_count, # of left over columns, 1)\n",
        "'''\n",
        "enc = OneHotEncoder(handle_unknown='ignore')\n",
        "train_bd_labels = enc.fit_transform(train_bd_labels.values.reshape(-1, 1)).toarray()\n",
        "print(train_bd_labels.shape)\n",
        "\n",
        "\n",
        "# scale\n",
        "scaler = StandardScaler()\n",
        "train_bd_data = scaler.fit_transform(train_bd_data)\n",
        "print(train_bd_data.shape)\n",
        "\n",
        "\n",
        "# reshape\n",
        "train_bd_data = train_bd_data.reshape(train_bd_data.shape[0], train_bd_data.shape[1], 1)\n",
        "print(train_bd_data.shape)"
      ],
      "metadata": {
        "colab": {
          "base_uri": "https://localhost:8080/"
        },
        "id": "sZX__yeqFYhZ",
        "outputId": "1c644650-e622-4799-b96a-d5395293561a"
      },
      "execution_count": 264,
      "outputs": [
        {
          "output_type": "stream",
          "name": "stdout",
          "text": [
            "(5000, 1)\n",
            "(2500, 4)\n",
            "(2500, 4, 1)\n"
          ]
        }
      ]
    }
  ]
}