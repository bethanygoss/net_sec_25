{
 "cells": [
  {
   "cell_type": "markdown",
   "metadata": {
    "id": "6SZLaL-7b9Bf"
   },
   "source": [
    "# Finding optimal hyper parameters for a CNN model\n",
    "\n",
    "The point of this notebook is to obtain an optimal set of parameters for our CNN model to process time based series data. Specifically, we are processing IoT data from TON a well-kept dataset from The UNSW Group in Canberra, Australia.\n",
    "\n",
    "The specific dataset being discussed here is the IoT Weather dataset.\n",
    "\n"
   ]
  },
  {
   "cell_type": "markdown",
   "metadata": {
    "id": "fxpOXiaOdTqo"
   },
   "source": [
    "We have pip install mealpy each time because it is not a default python package ,and every time the runtime refreshes; the package is uninstalled."
   ]
  },
  {
   "cell_type": "code",
   "execution_count": null,
   "metadata": {
    "colab": {
     "base_uri": "https://localhost:8080/"
    },
    "executionInfo": {
     "elapsed": 20732,
     "status": "ok",
     "timestamp": 1744839832229,
     "user": {
      "displayName": "Bethany Goss",
      "userId": "10125623664246589214"
     },
     "user_tz": 240
    },
    "id": "vL2RHCwXGdyK",
    "outputId": "882bea11-7792-493e-f241-218164f871f6"
   },
   "outputs": [
    {
     "name": "stdout",
     "output_type": "stream",
     "text": [
      "Collecting mealpy==3.0.1\n",
      "  Downloading mealpy-3.0.1-py3-none-any.whl.metadata (104 kB)\n",
      "\u001b[?25l     \u001b[90m━━━━━━━━━━━━━━━━━━━━━━━━━━━━━━━━━━━━━━━━\u001b[0m \u001b[32m0.0/104.9 kB\u001b[0m \u001b[31m?\u001b[0m eta \u001b[36m-:--:--\u001b[0m\r\u001b[2K     \u001b[91m━━━━━━━━━━━━━━━━━━━━━━━━━━━━━━━━━━━━━━\u001b[0m\u001b[90m╺\u001b[0m \u001b[32m102.4/104.9 kB\u001b[0m \u001b[31m4.3 MB/s\u001b[0m eta \u001b[36m0:00:01\u001b[0m\r\u001b[2K     \u001b[90m━━━━━━━━━━━━━━━━━━━━━━━━━━━━━━━━━━━━━━━\u001b[0m \u001b[32m104.9/104.9 kB\u001b[0m \u001b[31m2.2 MB/s\u001b[0m eta \u001b[36m0:00:00\u001b[0m\n",
      "\u001b[?25hRequirement already satisfied: numpy>=1.17.5 in /usr/local/lib/python3.11/dist-packages (from mealpy==3.0.1) (2.0.2)\n",
      "Requirement already satisfied: matplotlib>=3.3.0 in /usr/local/lib/python3.11/dist-packages (from mealpy==3.0.1) (3.10.0)\n",
      "Requirement already satisfied: scipy>=1.7.1 in /usr/local/lib/python3.11/dist-packages (from mealpy==3.0.1) (1.14.1)\n",
      "Requirement already satisfied: pandas>=1.2.0 in /usr/local/lib/python3.11/dist-packages (from mealpy==3.0.1) (2.2.2)\n",
      "Collecting opfunu>=1.0.0 (from mealpy==3.0.1)\n",
      "  Downloading opfunu-1.0.4-py3-none-any.whl.metadata (10 kB)\n",
      "Requirement already satisfied: contourpy>=1.0.1 in /usr/local/lib/python3.11/dist-packages (from matplotlib>=3.3.0->mealpy==3.0.1) (1.3.1)\n",
      "Requirement already satisfied: cycler>=0.10 in /usr/local/lib/python3.11/dist-packages (from matplotlib>=3.3.0->mealpy==3.0.1) (0.12.1)\n",
      "Requirement already satisfied: fonttools>=4.22.0 in /usr/local/lib/python3.11/dist-packages (from matplotlib>=3.3.0->mealpy==3.0.1) (4.57.0)\n",
      "Requirement already satisfied: kiwisolver>=1.3.1 in /usr/local/lib/python3.11/dist-packages (from matplotlib>=3.3.0->mealpy==3.0.1) (1.4.8)\n",
      "Requirement already satisfied: packaging>=20.0 in /usr/local/lib/python3.11/dist-packages (from matplotlib>=3.3.0->mealpy==3.0.1) (24.2)\n",
      "Requirement already satisfied: pillow>=8 in /usr/local/lib/python3.11/dist-packages (from matplotlib>=3.3.0->mealpy==3.0.1) (11.1.0)\n",
      "Requirement already satisfied: pyparsing>=2.3.1 in /usr/local/lib/python3.11/dist-packages (from matplotlib>=3.3.0->mealpy==3.0.1) (3.2.3)\n",
      "Requirement already satisfied: python-dateutil>=2.7 in /usr/local/lib/python3.11/dist-packages (from matplotlib>=3.3.0->mealpy==3.0.1) (2.8.2)\n",
      "Requirement already satisfied: requests>=2.27.0 in /usr/local/lib/python3.11/dist-packages (from opfunu>=1.0.0->mealpy==3.0.1) (2.32.3)\n",
      "Requirement already satisfied: pytz>=2020.1 in /usr/local/lib/python3.11/dist-packages (from pandas>=1.2.0->mealpy==3.0.1) (2025.2)\n",
      "Requirement already satisfied: tzdata>=2022.7 in /usr/local/lib/python3.11/dist-packages (from pandas>=1.2.0->mealpy==3.0.1) (2025.2)\n",
      "Requirement already satisfied: six>=1.5 in /usr/local/lib/python3.11/dist-packages (from python-dateutil>=2.7->matplotlib>=3.3.0->mealpy==3.0.1) (1.17.0)\n",
      "Requirement already satisfied: charset-normalizer<4,>=2 in /usr/local/lib/python3.11/dist-packages (from requests>=2.27.0->opfunu>=1.0.0->mealpy==3.0.1) (3.4.1)\n",
      "Requirement already satisfied: idna<4,>=2.5 in /usr/local/lib/python3.11/dist-packages (from requests>=2.27.0->opfunu>=1.0.0->mealpy==3.0.1) (3.10)\n",
      "Requirement already satisfied: urllib3<3,>=1.21.1 in /usr/local/lib/python3.11/dist-packages (from requests>=2.27.0->opfunu>=1.0.0->mealpy==3.0.1) (2.3.0)\n",
      "Requirement already satisfied: certifi>=2017.4.17 in /usr/local/lib/python3.11/dist-packages (from requests>=2.27.0->opfunu>=1.0.0->mealpy==3.0.1) (2025.1.31)\n",
      "Downloading mealpy-3.0.1-py3-none-any.whl (386 kB)\n",
      "\u001b[2K   \u001b[90m━━━━━━━━━━━━━━━━━━━━━━━━━━━━━━━━━━━━━━━━\u001b[0m \u001b[32m386.3/386.3 kB\u001b[0m \u001b[31m9.9 MB/s\u001b[0m eta \u001b[36m0:00:00\u001b[0m\n",
      "\u001b[?25hDownloading opfunu-1.0.4-py3-none-any.whl (13.0 MB)\n",
      "\u001b[2K   \u001b[90m━━━━━━━━━━━━━━━━━━━━━━━━━━━━━━━━━━━━━━━━\u001b[0m \u001b[32m13.0/13.0 MB\u001b[0m \u001b[31m39.7 MB/s\u001b[0m eta \u001b[36m0:00:00\u001b[0m\n",
      "\u001b[?25hInstalling collected packages: opfunu, mealpy\n",
      "Successfully installed mealpy-3.0.1 opfunu-1.0.4\n"
     ]
    }
   ],
   "source": [
    "%pip install mealpy==3.0.1\n",
    "%pip install -U scikit-learn\n",
    "%pip install imbalanced-learn\n",
    "%pip install matplotlib\n",
    "%pip install tensorflow"
   ]
  },
  {
   "cell_type": "markdown",
   "metadata": {
    "id": "nCChAI0ddiLB"
   },
   "source": [
    "Our main libraries used are:\n",
    "\n",
    "*   Imblearn\n",
    "*   Pandas\n",
    "*   Matplot Lib\n",
    "*   MealPy\n",
    "*   Numpy\n",
    "*   SKLearn\n",
    "*   Tensorflow\n",
    "*   Time\n"
   ]
  },
  {
   "cell_type": "code",
   "execution_count": null,
   "metadata": {
    "id": "iw75cAeFj6Zj"
   },
   "outputs": [],
   "source": [
    "import pandas\n",
    "from sklearn.model_selection import train_test_split\n",
    "from sklearn.preprocessing import OrdinalEncoder, LabelEncoder, StandardScaler\n",
    "from imblearn.combine import SMOTETomek\n",
    "import numpy\n",
    "from sklearn.metrics import classification_report, confusion_matrix,ConfusionMatrixDisplay\n",
    "import tensorflow\n",
    "from tensorflow import keras\n",
    "import matplotlib.pyplot as plt\n",
    "from mealpy import FloatVar, FOX\n",
    "import time"
   ]
  },
  {
   "cell_type": "markdown",
   "metadata": {
    "id": "sn-IbsB3eMq_"
   },
   "source": [
    "# Preparing the Datasets for the CNN Model\n",
    "\n",
    "We split off the information that indicates whether or not an attack has occured (*label*) and the types of attacks (*type*).\n",
    "Now there are three dataframes:\n",
    "  X - all features\n",
    "  y - attack or not\n",
    "  y_type - type of attack\n",
    "\n",
    "We split again into test and train data sets and include some randomness.\n",
    "**Reset_index** drops the indexes from these new dataframes.\n",
    "Next, we encode the text data, add another randomness, and scale all dataframes. The X dataframe is reshaped."
   ]
  },
  {
   "cell_type": "code",
   "execution_count": null,
   "metadata": {
    "id": "wbkk6zeGkCvQ"
   },
   "outputs": [],
   "source": [
    "#Uncomment for local use\n",
    "#raw_data = pandas.read_csv('../../Train_Test_IoT_dataset/Train_Test_IoT_Weather.csv')\n",
    "#Uncomment for Google Colab\n",
    "raw_data = pandas.read_csv('Train_Test_IoT_Weather.csv')\n",
    "X = raw_data.drop(columns=['label','type'])\n",
    "y = raw_data['label']\n",
    "y_type = raw_data['type']"
   ]
  },
  {
   "cell_type": "code",
   "execution_count": null,
   "metadata": {
    "id": "ZFQYeNebtBdL"
   },
   "outputs": [],
   "source": [
    "# Binary\n",
    "X_train, X_testsplit, y_train, y_testsplit = train_test_split(X, y, test_size=0.2, random_state=777)\n",
    "# Binary validation\n",
    "X_test, X_validation, y_test, y_validation = train_test_split(X_testsplit, y_testsplit, test_size=0.5, random_state=777)\n",
    "\n",
    "#drop index\n",
    "X_train = X_train.reset_index(drop=True)\n",
    "X_test = X_test.reset_index(drop=True)\n",
    "y_train = y_train.reset_index(drop=True)\n",
    "y_test = y_test.reset_index(drop=True)\n",
    "X_validation = X_validation.reset_index(drop=True)\n",
    "y_validation = y_validation.reset_index(drop=True)"
   ]
  },
  {
   "cell_type": "code",
   "execution_count": null,
   "metadata": {
    "id": "JMPY814OkMHK"
   },
   "outputs": [],
   "source": [
    "encoder = OrdinalEncoder()\n",
    "label_encoder = LabelEncoder()\n",
    "X_train_encode = encoder.fit_transform(X_train)\n",
    "X_test_encode = encoder.fit_transform(X_test)\n",
    "y_train_encode = label_encoder.fit_transform(y_train)\n",
    "y_test_encode = label_encoder.fit_transform(y_test)\n",
    "X_validation_encode = encoder.fit_transform(X_validation)\n",
    "y_validation_encode = label_encoder.fit_transform(y_validation)"
   ]
  },
  {
   "cell_type": "code",
   "execution_count": null,
   "metadata": {
    "id": "cjOPxFTstjzo"
   },
   "outputs": [],
   "source": [
    "smotetomek = SMOTETomek(random_state=777)\n",
    "X_rebalance, y_rebalance = smotetomek.fit_resample(X_train_encode, y_train_encode)"
   ]
  },
  {
   "cell_type": "code",
   "execution_count": null,
   "metadata": {
    "id": "ofXxVrSHQ-z5"
   },
   "outputs": [],
   "source": [
    "scaler = StandardScaler()\n",
    "X_rebalance = scaler.fit_transform(X_rebalance)\n",
    "X_test_encode = scaler.transform(X_test_encode)\n",
    "\n",
    "X_validation_encode = scaler.transform(X_validation_encode)"
   ]
  },
  {
   "cell_type": "code",
   "execution_count": null,
   "metadata": {
    "id": "Ehu1cF9rv1tu"
   },
   "outputs": [],
   "source": [
    "X_rebalance = X_rebalance.reshape(X_rebalance.shape[0], X_rebalance.shape[1], 1)\n",
    "X_test_encode = X_test_encode.reshape(X_test_encode.shape[0], X_test_encode.shape[1], 1)\n",
    "\n",
    "X_validation_encode = X_validation_encode.reshape(X_validation_encode.shape[0], X_validation_encode.shape[1], 1)\n"
   ]
  },
  {
   "cell_type": "code",
   "execution_count": null,
   "metadata": {
    "colab": {
     "base_uri": "https://localhost:8080/",
     "height": 1000
    },
    "id": "c__xkr4G07iA",
    "outputId": "f25c4bcd-7abe-46af-fd38-62341a571e9a"
   },
   "outputs": [
    {
     "data": {
      "text/html": [
       "<pre style=\"white-space:pre;overflow-x:auto;line-height:normal;font-family:Menlo,'DejaVu Sans Mono',consolas,'Courier New',monospace\"><span style=\"font-weight: bold\">Model: \"sequential\"</span>\n",
       "</pre>\n"
      ],
      "text/plain": [
       "\u001b[1mModel: \"sequential\"\u001b[0m\n"
      ]
     },
     "metadata": {},
     "output_type": "display_data"
    },
    {
     "data": {
      "text/html": [
       "<pre style=\"white-space:pre;overflow-x:auto;line-height:normal;font-family:Menlo,'DejaVu Sans Mono',consolas,'Courier New',monospace\">┏━━━━━━━━━━━━━━━━━━━━━━━━━━━━━━━━━┳━━━━━━━━━━━━━━━━━━━━━━━━┳━━━━━━━━━━━━━━━┓\n",
       "┃<span style=\"font-weight: bold\"> Layer (type)                    </span>┃<span style=\"font-weight: bold\"> Output Shape           </span>┃<span style=\"font-weight: bold\">       Param # </span>┃\n",
       "┡━━━━━━━━━━━━━━━━━━━━━━━━━━━━━━━━━╇━━━━━━━━━━━━━━━━━━━━━━━━╇━━━━━━━━━━━━━━━┩\n",
       "│ conv1d (<span style=\"color: #0087ff; text-decoration-color: #0087ff\">Conv1D</span>)                 │ (<span style=\"color: #00d7ff; text-decoration-color: #00d7ff\">None</span>, <span style=\"color: #00af00; text-decoration-color: #00af00\">3</span>, <span style=\"color: #00af00; text-decoration-color: #00af00\">50</span>)          │           <span style=\"color: #00af00; text-decoration-color: #00af00\">200</span> │\n",
       "├─────────────────────────────────┼────────────────────────┼───────────────┤\n",
       "│ max_pooling1d (<span style=\"color: #0087ff; text-decoration-color: #0087ff\">MaxPooling1D</span>)    │ (<span style=\"color: #00d7ff; text-decoration-color: #00d7ff\">None</span>, <span style=\"color: #00af00; text-decoration-color: #00af00\">1</span>, <span style=\"color: #00af00; text-decoration-color: #00af00\">50</span>)          │             <span style=\"color: #00af00; text-decoration-color: #00af00\">0</span> │\n",
       "├─────────────────────────────────┼────────────────────────┼───────────────┤\n",
       "│ dropout (<span style=\"color: #0087ff; text-decoration-color: #0087ff\">Dropout</span>)               │ (<span style=\"color: #00d7ff; text-decoration-color: #00d7ff\">None</span>, <span style=\"color: #00af00; text-decoration-color: #00af00\">1</span>, <span style=\"color: #00af00; text-decoration-color: #00af00\">50</span>)          │             <span style=\"color: #00af00; text-decoration-color: #00af00\">0</span> │\n",
       "├─────────────────────────────────┼────────────────────────┼───────────────┤\n",
       "│ batch_normalization             │ (<span style=\"color: #00d7ff; text-decoration-color: #00d7ff\">None</span>, <span style=\"color: #00af00; text-decoration-color: #00af00\">1</span>, <span style=\"color: #00af00; text-decoration-color: #00af00\">50</span>)          │           <span style=\"color: #00af00; text-decoration-color: #00af00\">200</span> │\n",
       "│ (<span style=\"color: #0087ff; text-decoration-color: #0087ff\">BatchNormalization</span>)            │                        │               │\n",
       "├─────────────────────────────────┼────────────────────────┼───────────────┤\n",
       "│ lstm (<span style=\"color: #0087ff; text-decoration-color: #0087ff\">LSTM</span>)                     │ (<span style=\"color: #00d7ff; text-decoration-color: #00d7ff\">None</span>, <span style=\"color: #00af00; text-decoration-color: #00af00\">64</span>)             │        <span style=\"color: #00af00; text-decoration-color: #00af00\">29,440</span> │\n",
       "├─────────────────────────────────┼────────────────────────┼───────────────┤\n",
       "│ flatten (<span style=\"color: #0087ff; text-decoration-color: #0087ff\">Flatten</span>)               │ (<span style=\"color: #00d7ff; text-decoration-color: #00d7ff\">None</span>, <span style=\"color: #00af00; text-decoration-color: #00af00\">64</span>)             │             <span style=\"color: #00af00; text-decoration-color: #00af00\">0</span> │\n",
       "├─────────────────────────────────┼────────────────────────┼───────────────┤\n",
       "│ dense (<span style=\"color: #0087ff; text-decoration-color: #0087ff\">Dense</span>)                   │ (<span style=\"color: #00d7ff; text-decoration-color: #00d7ff\">None</span>, <span style=\"color: #00af00; text-decoration-color: #00af00\">512</span>)            │        <span style=\"color: #00af00; text-decoration-color: #00af00\">33,280</span> │\n",
       "├─────────────────────────────────┼────────────────────────┼───────────────┤\n",
       "│ dropout_1 (<span style=\"color: #0087ff; text-decoration-color: #0087ff\">Dropout</span>)             │ (<span style=\"color: #00d7ff; text-decoration-color: #00d7ff\">None</span>, <span style=\"color: #00af00; text-decoration-color: #00af00\">512</span>)            │             <span style=\"color: #00af00; text-decoration-color: #00af00\">0</span> │\n",
       "├─────────────────────────────────┼────────────────────────┼───────────────┤\n",
       "│ dense_1 (<span style=\"color: #0087ff; text-decoration-color: #0087ff\">Dense</span>)                 │ (<span style=\"color: #00d7ff; text-decoration-color: #00d7ff\">None</span>, <span style=\"color: #00af00; text-decoration-color: #00af00\">1</span>)              │           <span style=\"color: #00af00; text-decoration-color: #00af00\">513</span> │\n",
       "└─────────────────────────────────┴────────────────────────┴───────────────┘\n",
       "</pre>\n"
      ],
      "text/plain": [
       "┏━━━━━━━━━━━━━━━━━━━━━━━━━━━━━━━━━┳━━━━━━━━━━━━━━━━━━━━━━━━┳━━━━━━━━━━━━━━━┓\n",
       "┃\u001b[1m \u001b[0m\u001b[1mLayer (type)                   \u001b[0m\u001b[1m \u001b[0m┃\u001b[1m \u001b[0m\u001b[1mOutput Shape          \u001b[0m\u001b[1m \u001b[0m┃\u001b[1m \u001b[0m\u001b[1m      Param #\u001b[0m\u001b[1m \u001b[0m┃\n",
       "┡━━━━━━━━━━━━━━━━━━━━━━━━━━━━━━━━━╇━━━━━━━━━━━━━━━━━━━━━━━━╇━━━━━━━━━━━━━━━┩\n",
       "│ conv1d (\u001b[38;5;33mConv1D\u001b[0m)                 │ (\u001b[38;5;45mNone\u001b[0m, \u001b[38;5;34m3\u001b[0m, \u001b[38;5;34m50\u001b[0m)          │           \u001b[38;5;34m200\u001b[0m │\n",
       "├─────────────────────────────────┼────────────────────────┼───────────────┤\n",
       "│ max_pooling1d (\u001b[38;5;33mMaxPooling1D\u001b[0m)    │ (\u001b[38;5;45mNone\u001b[0m, \u001b[38;5;34m1\u001b[0m, \u001b[38;5;34m50\u001b[0m)          │             \u001b[38;5;34m0\u001b[0m │\n",
       "├─────────────────────────────────┼────────────────────────┼───────────────┤\n",
       "│ dropout (\u001b[38;5;33mDropout\u001b[0m)               │ (\u001b[38;5;45mNone\u001b[0m, \u001b[38;5;34m1\u001b[0m, \u001b[38;5;34m50\u001b[0m)          │             \u001b[38;5;34m0\u001b[0m │\n",
       "├─────────────────────────────────┼────────────────────────┼───────────────┤\n",
       "│ batch_normalization             │ (\u001b[38;5;45mNone\u001b[0m, \u001b[38;5;34m1\u001b[0m, \u001b[38;5;34m50\u001b[0m)          │           \u001b[38;5;34m200\u001b[0m │\n",
       "│ (\u001b[38;5;33mBatchNormalization\u001b[0m)            │                        │               │\n",
       "├─────────────────────────────────┼────────────────────────┼───────────────┤\n",
       "│ lstm (\u001b[38;5;33mLSTM\u001b[0m)                     │ (\u001b[38;5;45mNone\u001b[0m, \u001b[38;5;34m64\u001b[0m)             │        \u001b[38;5;34m29,440\u001b[0m │\n",
       "├─────────────────────────────────┼────────────────────────┼───────────────┤\n",
       "│ flatten (\u001b[38;5;33mFlatten\u001b[0m)               │ (\u001b[38;5;45mNone\u001b[0m, \u001b[38;5;34m64\u001b[0m)             │             \u001b[38;5;34m0\u001b[0m │\n",
       "├─────────────────────────────────┼────────────────────────┼───────────────┤\n",
       "│ dense (\u001b[38;5;33mDense\u001b[0m)                   │ (\u001b[38;5;45mNone\u001b[0m, \u001b[38;5;34m512\u001b[0m)            │        \u001b[38;5;34m33,280\u001b[0m │\n",
       "├─────────────────────────────────┼────────────────────────┼───────────────┤\n",
       "│ dropout_1 (\u001b[38;5;33mDropout\u001b[0m)             │ (\u001b[38;5;45mNone\u001b[0m, \u001b[38;5;34m512\u001b[0m)            │             \u001b[38;5;34m0\u001b[0m │\n",
       "├─────────────────────────────────┼────────────────────────┼───────────────┤\n",
       "│ dense_1 (\u001b[38;5;33mDense\u001b[0m)                 │ (\u001b[38;5;45mNone\u001b[0m, \u001b[38;5;34m1\u001b[0m)              │           \u001b[38;5;34m513\u001b[0m │\n",
       "└─────────────────────────────────┴────────────────────────┴───────────────┘\n"
      ]
     },
     "metadata": {},
     "output_type": "display_data"
    },
    {
     "data": {
      "text/html": [
       "<pre style=\"white-space:pre;overflow-x:auto;line-height:normal;font-family:Menlo,'DejaVu Sans Mono',consolas,'Courier New',monospace\"><span style=\"font-weight: bold\"> Total params: </span><span style=\"color: #00af00; text-decoration-color: #00af00\">63,633</span> (248.57 KB)\n",
       "</pre>\n"
      ],
      "text/plain": [
       "\u001b[1m Total params: \u001b[0m\u001b[38;5;34m63,633\u001b[0m (248.57 KB)\n"
      ]
     },
     "metadata": {},
     "output_type": "display_data"
    },
    {
     "data": {
      "text/html": [
       "<pre style=\"white-space:pre;overflow-x:auto;line-height:normal;font-family:Menlo,'DejaVu Sans Mono',consolas,'Courier New',monospace\"><span style=\"font-weight: bold\"> Trainable params: </span><span style=\"color: #00af00; text-decoration-color: #00af00\">63,533</span> (248.18 KB)\n",
       "</pre>\n"
      ],
      "text/plain": [
       "\u001b[1m Trainable params: \u001b[0m\u001b[38;5;34m63,533\u001b[0m (248.18 KB)\n"
      ]
     },
     "metadata": {},
     "output_type": "display_data"
    },
    {
     "data": {
      "text/html": [
       "<pre style=\"white-space:pre;overflow-x:auto;line-height:normal;font-family:Menlo,'DejaVu Sans Mono',consolas,'Courier New',monospace\"><span style=\"font-weight: bold\"> Non-trainable params: </span><span style=\"color: #00af00; text-decoration-color: #00af00\">100</span> (400.00 B)\n",
       "</pre>\n"
      ],
      "text/plain": [
       "\u001b[1m Non-trainable params: \u001b[0m\u001b[38;5;34m100\u001b[0m (400.00 B)\n"
      ]
     },
     "metadata": {},
     "output_type": "display_data"
    },
    {
     "name": "stdout",
     "output_type": "stream",
     "text": [
      "Epoch 1/70\n",
      "\u001b[1m608/608\u001b[0m \u001b[32m━━━━━━━━━━━━━━━━━━━━\u001b[0m\u001b[37m\u001b[0m \u001b[1m5s\u001b[0m 5ms/step - accuracy: 0.4928 - loss: 0.6959 - val_accuracy: 0.3841 - val_loss: 0.6961\n",
      "Epoch 2/70\n",
      "\u001b[1m608/608\u001b[0m \u001b[32m━━━━━━━━━━━━━━━━━━━━\u001b[0m\u001b[37m\u001b[0m \u001b[1m3s\u001b[0m 4ms/step - accuracy: 0.4883 - loss: 0.6953 - val_accuracy: 0.3841 - val_loss: 0.6946\n",
      "Epoch 3/70\n",
      "\u001b[1m608/608\u001b[0m \u001b[32m━━━━━━━━━━━━━━━━━━━━\u001b[0m\u001b[37m\u001b[0m \u001b[1m3s\u001b[0m 4ms/step - accuracy: 0.4904 - loss: 0.6948 - val_accuracy: 0.4819 - val_loss: 0.6932\n",
      "Epoch 4/70\n",
      "\u001b[1m608/608\u001b[0m \u001b[32m━━━━━━━━━━━━━━━━━━━━\u001b[0m\u001b[37m\u001b[0m \u001b[1m2s\u001b[0m 4ms/step - accuracy: 0.4896 - loss: 0.6950 - val_accuracy: 0.6159 - val_loss: 0.6921\n",
      "Epoch 5/70\n",
      "\u001b[1m608/608\u001b[0m \u001b[32m━━━━━━━━━━━━━━━━━━━━\u001b[0m\u001b[37m\u001b[0m \u001b[1m3s\u001b[0m 4ms/step - accuracy: 0.4990 - loss: 0.6937 - val_accuracy: 0.6159 - val_loss: 0.6912\n",
      "Epoch 6/70\n",
      "\u001b[1m608/608\u001b[0m \u001b[32m━━━━━━━━━━━━━━━━━━━━\u001b[0m\u001b[37m\u001b[0m \u001b[1m3s\u001b[0m 4ms/step - accuracy: 0.5024 - loss: 0.6937 - val_accuracy: 0.6159 - val_loss: 0.6904\n",
      "Epoch 7/70\n",
      "\u001b[1m608/608\u001b[0m \u001b[32m━━━━━━━━━━━━━━━━━━━━\u001b[0m\u001b[37m\u001b[0m \u001b[1m3s\u001b[0m 4ms/step - accuracy: 0.5105 - loss: 0.6929 - val_accuracy: 0.6159 - val_loss: 0.6898\n",
      "Epoch 8/70\n",
      "\u001b[1m608/608\u001b[0m \u001b[32m━━━━━━━━━━━━━━━━━━━━\u001b[0m\u001b[37m\u001b[0m \u001b[1m2s\u001b[0m 4ms/step - accuracy: 0.5145 - loss: 0.6925 - val_accuracy: 0.6159 - val_loss: 0.6890\n",
      "Epoch 9/70\n",
      "\u001b[1m608/608\u001b[0m \u001b[32m━━━━━━━━━━━━━━━━━━━━\u001b[0m\u001b[37m\u001b[0m \u001b[1m3s\u001b[0m 4ms/step - accuracy: 0.5243 - loss: 0.6914 - val_accuracy: 0.6159 - val_loss: 0.6885\n",
      "Epoch 10/70\n",
      "\u001b[1m608/608\u001b[0m \u001b[32m━━━━━━━━━━━━━━━━━━━━\u001b[0m\u001b[37m\u001b[0m \u001b[1m3s\u001b[0m 5ms/step - accuracy: 0.5236 - loss: 0.6917 - val_accuracy: 0.6159 - val_loss: 0.6881\n",
      "Epoch 11/70\n",
      "\u001b[1m608/608\u001b[0m \u001b[32m━━━━━━━━━━━━━━━━━━━━\u001b[0m\u001b[37m\u001b[0m \u001b[1m3s\u001b[0m 4ms/step - accuracy: 0.5331 - loss: 0.6905 - val_accuracy: 0.6159 - val_loss: 0.6877\n",
      "Epoch 12/70\n",
      "\u001b[1m608/608\u001b[0m \u001b[32m━━━━━━━━━━━━━━━━━━━━\u001b[0m\u001b[37m\u001b[0m \u001b[1m3s\u001b[0m 4ms/step - accuracy: 0.5399 - loss: 0.6908 - val_accuracy: 0.6159 - val_loss: 0.6871\n",
      "Epoch 13/70\n",
      "\u001b[1m608/608\u001b[0m \u001b[32m━━━━━━━━━━━━━━━━━━━━\u001b[0m\u001b[37m\u001b[0m \u001b[1m3s\u001b[0m 4ms/step - accuracy: 0.5427 - loss: 0.6895 - val_accuracy: 0.6159 - val_loss: 0.6867\n",
      "Epoch 14/70\n",
      "\u001b[1m608/608\u001b[0m \u001b[32m━━━━━━━━━━━━━━━━━━━━\u001b[0m\u001b[37m\u001b[0m \u001b[1m2s\u001b[0m 4ms/step - accuracy: 0.5423 - loss: 0.6894 - val_accuracy: 0.6159 - val_loss: 0.6861\n",
      "Epoch 15/70\n",
      "\u001b[1m608/608\u001b[0m \u001b[32m━━━━━━━━━━━━━━━━━━━━\u001b[0m\u001b[37m\u001b[0m \u001b[1m3s\u001b[0m 4ms/step - accuracy: 0.5517 - loss: 0.6890 - val_accuracy: 0.6159 - val_loss: 0.6856\n",
      "Epoch 16/70\n",
      "\u001b[1m608/608\u001b[0m \u001b[32m━━━━━━━━━━━━━━━━━━━━\u001b[0m\u001b[37m\u001b[0m \u001b[1m3s\u001b[0m 5ms/step - accuracy: 0.5478 - loss: 0.6889 - val_accuracy: 0.6159 - val_loss: 0.6853\n",
      "Epoch 17/70\n",
      "\u001b[1m608/608\u001b[0m \u001b[32m━━━━━━━━━━━━━━━━━━━━\u001b[0m\u001b[37m\u001b[0m \u001b[1m3s\u001b[0m 6ms/step - accuracy: 0.5569 - loss: 0.6881 - val_accuracy: 0.6159 - val_loss: 0.6848\n",
      "Epoch 18/70\n",
      "\u001b[1m608/608\u001b[0m \u001b[32m━━━━━━━━━━━━━━━━━━━━\u001b[0m\u001b[37m\u001b[0m \u001b[1m4s\u001b[0m 6ms/step - accuracy: 0.5689 - loss: 0.6868 - val_accuracy: 0.6159 - val_loss: 0.6844\n",
      "Epoch 19/70\n",
      "\u001b[1m608/608\u001b[0m \u001b[32m━━━━━━━━━━━━━━━━━━━━\u001b[0m\u001b[37m\u001b[0m \u001b[1m3s\u001b[0m 5ms/step - accuracy: 0.5651 - loss: 0.6867 - val_accuracy: 0.6159 - val_loss: 0.6838\n",
      "Epoch 20/70\n",
      "\u001b[1m608/608\u001b[0m \u001b[32m━━━━━━━━━━━━━━━━━━━━\u001b[0m\u001b[37m\u001b[0m \u001b[1m3s\u001b[0m 5ms/step - accuracy: 0.5712 - loss: 0.6858 - val_accuracy: 0.6159 - val_loss: 0.6832\n",
      "Epoch 21/70\n",
      "\u001b[1m608/608\u001b[0m \u001b[32m━━━━━━━━━━━━━━━━━━━━\u001b[0m\u001b[37m\u001b[0m \u001b[1m3s\u001b[0m 6ms/step - accuracy: 0.5786 - loss: 0.6851 - val_accuracy: 0.6159 - val_loss: 0.6827\n",
      "Epoch 22/70\n",
      "\u001b[1m608/608\u001b[0m \u001b[32m━━━━━━━━━━━━━━━━━━━━\u001b[0m\u001b[37m\u001b[0m \u001b[1m3s\u001b[0m 5ms/step - accuracy: 0.5810 - loss: 0.6847 - val_accuracy: 0.6159 - val_loss: 0.6822\n",
      "Epoch 23/70\n",
      "\u001b[1m608/608\u001b[0m \u001b[32m━━━━━━━━━━━━━━━━━━━━\u001b[0m\u001b[37m\u001b[0m \u001b[1m3s\u001b[0m 4ms/step - accuracy: 0.5915 - loss: 0.6827 - val_accuracy: 0.6159 - val_loss: 0.6814\n",
      "Epoch 24/70\n",
      "\u001b[1m608/608\u001b[0m \u001b[32m━━━━━━━━━━━━━━━━━━━━\u001b[0m\u001b[37m\u001b[0m \u001b[1m3s\u001b[0m 4ms/step - accuracy: 0.5913 - loss: 0.6830 - val_accuracy: 0.6159 - val_loss: 0.6809\n",
      "Epoch 25/70\n",
      "\u001b[1m608/608\u001b[0m \u001b[32m━━━━━━━━━━━━━━━━━━━━\u001b[0m\u001b[37m\u001b[0m \u001b[1m3s\u001b[0m 4ms/step - accuracy: 0.5965 - loss: 0.6817 - val_accuracy: 0.6159 - val_loss: 0.6800\n",
      "Epoch 26/70\n",
      "\u001b[1m608/608\u001b[0m \u001b[32m━━━━━━━━━━━━━━━━━━━━\u001b[0m\u001b[37m\u001b[0m \u001b[1m3s\u001b[0m 4ms/step - accuracy: 0.5979 - loss: 0.6801 - val_accuracy: 0.6159 - val_loss: 0.6794\n",
      "Epoch 27/70\n",
      "\u001b[1m608/608\u001b[0m \u001b[32m━━━━━━━━━━━━━━━━━━━━\u001b[0m\u001b[37m\u001b[0m \u001b[1m3s\u001b[0m 4ms/step - accuracy: 0.5961 - loss: 0.6804 - val_accuracy: 0.6159 - val_loss: 0.6790\n",
      "Epoch 28/70\n",
      "\u001b[1m608/608\u001b[0m \u001b[32m━━━━━━━━━━━━━━━━━━━━\u001b[0m\u001b[37m\u001b[0m \u001b[1m3s\u001b[0m 4ms/step - accuracy: 0.6077 - loss: 0.6782 - val_accuracy: 0.6159 - val_loss: 0.6780\n",
      "Epoch 29/70\n",
      "\u001b[1m608/608\u001b[0m \u001b[32m━━━━━━━━━━━━━━━━━━━━\u001b[0m\u001b[37m\u001b[0m \u001b[1m3s\u001b[0m 5ms/step - accuracy: 0.6110 - loss: 0.6773 - val_accuracy: 0.6159 - val_loss: 0.6769\n",
      "Epoch 30/70\n",
      "\u001b[1m608/608\u001b[0m \u001b[32m━━━━━━━━━━━━━━━━━━━━\u001b[0m\u001b[37m\u001b[0m \u001b[1m3s\u001b[0m 4ms/step - accuracy: 0.6147 - loss: 0.6757 - val_accuracy: 0.6159 - val_loss: 0.6762\n",
      "Epoch 31/70\n",
      "\u001b[1m608/608\u001b[0m \u001b[32m━━━━━━━━━━━━━━━━━━━━\u001b[0m\u001b[37m\u001b[0m \u001b[1m3s\u001b[0m 4ms/step - accuracy: 0.6264 - loss: 0.6736 - val_accuracy: 0.6159 - val_loss: 0.6755\n",
      "Epoch 32/70\n",
      "\u001b[1m608/608\u001b[0m \u001b[32m━━━━━━━━━━━━━━━━━━━━\u001b[0m\u001b[37m\u001b[0m \u001b[1m3s\u001b[0m 4ms/step - accuracy: 0.6286 - loss: 0.6725 - val_accuracy: 0.6159 - val_loss: 0.6739\n",
      "Epoch 33/70\n",
      "\u001b[1m608/608\u001b[0m \u001b[32m━━━━━━━━━━━━━━━━━━━━\u001b[0m\u001b[37m\u001b[0m \u001b[1m3s\u001b[0m 4ms/step - accuracy: 0.6307 - loss: 0.6708 - val_accuracy: 0.6159 - val_loss: 0.6728\n",
      "Epoch 34/70\n",
      "\u001b[1m608/608\u001b[0m \u001b[32m━━━━━━━━━━━━━━━━━━━━\u001b[0m\u001b[37m\u001b[0m \u001b[1m3s\u001b[0m 4ms/step - accuracy: 0.6364 - loss: 0.6684 - val_accuracy: 0.6159 - val_loss: 0.6717\n",
      "Epoch 35/70\n",
      "\u001b[1m608/608\u001b[0m \u001b[32m━━━━━━━━━━━━━━━━━━━━\u001b[0m\u001b[37m\u001b[0m \u001b[1m3s\u001b[0m 5ms/step - accuracy: 0.6354 - loss: 0.6666 - val_accuracy: 0.6159 - val_loss: 0.6707\n",
      "Epoch 36/70\n",
      "\u001b[1m608/608\u001b[0m \u001b[32m━━━━━━━━━━━━━━━━━━━━\u001b[0m\u001b[37m\u001b[0m \u001b[1m3s\u001b[0m 4ms/step - accuracy: 0.6465 - loss: 0.6638 - val_accuracy: 0.6159 - val_loss: 0.6689\n",
      "Epoch 37/70\n",
      "\u001b[1m608/608\u001b[0m \u001b[32m━━━━━━━━━━━━━━━━━━━━\u001b[0m\u001b[37m\u001b[0m \u001b[1m3s\u001b[0m 4ms/step - accuracy: 0.6478 - loss: 0.6616 - val_accuracy: 0.6159 - val_loss: 0.6677\n",
      "Epoch 38/70\n",
      "\u001b[1m608/608\u001b[0m \u001b[32m━━━━━━━━━━━━━━━━━━━━\u001b[0m\u001b[37m\u001b[0m \u001b[1m3s\u001b[0m 4ms/step - accuracy: 0.6613 - loss: 0.6576 - val_accuracy: 0.6159 - val_loss: 0.6657\n",
      "Epoch 39/70\n",
      "\u001b[1m608/608\u001b[0m \u001b[32m━━━━━━━━━━━━━━━━━━━━\u001b[0m\u001b[37m\u001b[0m \u001b[1m3s\u001b[0m 4ms/step - accuracy: 0.6666 - loss: 0.6548 - val_accuracy: 0.6159 - val_loss: 0.6647\n",
      "Epoch 40/70\n",
      "\u001b[1m608/608\u001b[0m \u001b[32m━━━━━━━━━━━━━━━━━━━━\u001b[0m\u001b[37m\u001b[0m \u001b[1m3s\u001b[0m 5ms/step - accuracy: 0.6683 - loss: 0.6514 - val_accuracy: 0.6159 - val_loss: 0.6629\n",
      "Epoch 41/70\n",
      "\u001b[1m608/608\u001b[0m \u001b[32m━━━━━━━━━━━━━━━━━━━━\u001b[0m\u001b[37m\u001b[0m \u001b[1m3s\u001b[0m 4ms/step - accuracy: 0.6701 - loss: 0.6472 - val_accuracy: 0.6159 - val_loss: 0.6613\n",
      "Epoch 42/70\n",
      "\u001b[1m608/608\u001b[0m \u001b[32m━━━━━━━━━━━━━━━━━━━━\u001b[0m\u001b[37m\u001b[0m \u001b[1m3s\u001b[0m 4ms/step - accuracy: 0.6758 - loss: 0.6435 - val_accuracy: 0.6159 - val_loss: 0.6597\n",
      "Epoch 43/70\n",
      "\u001b[1m608/608\u001b[0m \u001b[32m━━━━━━━━━━━━━━━━━━━━\u001b[0m\u001b[37m\u001b[0m \u001b[1m3s\u001b[0m 4ms/step - accuracy: 0.6872 - loss: 0.6381 - val_accuracy: 0.6159 - val_loss: 0.6582\n",
      "Epoch 44/70\n",
      "\u001b[1m608/608\u001b[0m \u001b[32m━━━━━━━━━━━━━━━━━━━━\u001b[0m\u001b[37m\u001b[0m \u001b[1m3s\u001b[0m 4ms/step - accuracy: 0.6859 - loss: 0.6342 - val_accuracy: 0.6159 - val_loss: 0.6566\n",
      "Epoch 45/70\n",
      "\u001b[1m608/608\u001b[0m \u001b[32m━━━━━━━━━━━━━━━━━━━━\u001b[0m\u001b[37m\u001b[0m \u001b[1m3s\u001b[0m 4ms/step - accuracy: 0.6901 - loss: 0.6292 - val_accuracy: 0.6159 - val_loss: 0.6554\n",
      "Epoch 46/70\n",
      "\u001b[1m608/608\u001b[0m \u001b[32m━━━━━━━━━━━━━━━━━━━━\u001b[0m\u001b[37m\u001b[0m \u001b[1m3s\u001b[0m 4ms/step - accuracy: 0.6978 - loss: 0.6234 - val_accuracy: 0.6159 - val_loss: 0.6545\n",
      "Epoch 47/70\n",
      "\u001b[1m608/608\u001b[0m \u001b[32m━━━━━━━━━━━━━━━━━━━━\u001b[0m\u001b[37m\u001b[0m \u001b[1m3s\u001b[0m 4ms/step - accuracy: 0.7086 - loss: 0.6149 - val_accuracy: 0.6159 - val_loss: 0.6541\n",
      "Epoch 48/70\n",
      "\u001b[1m608/608\u001b[0m \u001b[32m━━━━━━━━━━━━━━━━━━━━\u001b[0m\u001b[37m\u001b[0m \u001b[1m3s\u001b[0m 4ms/step - accuracy: 0.7113 - loss: 0.6071 - val_accuracy: 0.6159 - val_loss: 0.6539\n",
      "Epoch 49/70\n",
      "\u001b[1m608/608\u001b[0m \u001b[32m━━━━━━━━━━━━━━━━━━━━\u001b[0m\u001b[37m\u001b[0m \u001b[1m3s\u001b[0m 4ms/step - accuracy: 0.7173 - loss: 0.6001 - val_accuracy: 0.6159 - val_loss: 0.6550\n",
      "Epoch 50/70\n",
      "\u001b[1m608/608\u001b[0m \u001b[32m━━━━━━━━━━━━━━━━━━━━\u001b[0m\u001b[37m\u001b[0m \u001b[1m3s\u001b[0m 4ms/step - accuracy: 0.7289 - loss: 0.5899 - val_accuracy: 0.6159 - val_loss: 0.6572\n",
      "Epoch 51/70\n",
      "\u001b[1m608/608\u001b[0m \u001b[32m━━━━━━━━━━━━━━━━━━━━\u001b[0m\u001b[37m\u001b[0m \u001b[1m3s\u001b[0m 4ms/step - accuracy: 0.7291 - loss: 0.5833 - val_accuracy: 0.6159 - val_loss: 0.6607\n",
      "Epoch 52/70\n",
      "\u001b[1m608/608\u001b[0m \u001b[32m━━━━━━━━━━━━━━━━━━━━\u001b[0m\u001b[37m\u001b[0m \u001b[1m3s\u001b[0m 4ms/step - accuracy: 0.7423 - loss: 0.5708 - val_accuracy: 0.6159 - val_loss: 0.6661\n",
      "Epoch 53/70\n",
      "\u001b[1m608/608\u001b[0m \u001b[32m━━━━━━━━━━━━━━━━━━━━\u001b[0m\u001b[37m\u001b[0m \u001b[1m3s\u001b[0m 4ms/step - accuracy: 0.7458 - loss: 0.5643 - val_accuracy: 0.6159 - val_loss: 0.6726\n",
      "Epoch 54/70\n",
      "\u001b[1m608/608\u001b[0m \u001b[32m━━━━━━━━━━━━━━━━━━━━\u001b[0m\u001b[37m\u001b[0m \u001b[1m3s\u001b[0m 5ms/step - accuracy: 0.7545 - loss: 0.5507 - val_accuracy: 0.6159 - val_loss: 0.6830\n",
      "Epoch 55/70\n",
      "\u001b[1m608/608\u001b[0m \u001b[32m━━━━━━━━━━━━━━━━━━━━\u001b[0m\u001b[37m\u001b[0m \u001b[1m3s\u001b[0m 5ms/step - accuracy: 0.7627 - loss: 0.5377 - val_accuracy: 0.6159 - val_loss: 0.6924\n",
      "Epoch 56/70\n",
      "\u001b[1m608/608\u001b[0m \u001b[32m━━━━━━━━━━━━━━━━━━━━\u001b[0m\u001b[37m\u001b[0m \u001b[1m3s\u001b[0m 4ms/step - accuracy: 0.7628 - loss: 0.5310 - val_accuracy: 0.6159 - val_loss: 0.7116\n",
      "Epoch 57/70\n",
      "\u001b[1m608/608\u001b[0m \u001b[32m━━━━━━━━━━━━━━━━━━━━\u001b[0m\u001b[37m\u001b[0m \u001b[1m3s\u001b[0m 4ms/step - accuracy: 0.7733 - loss: 0.5184 - val_accuracy: 0.6159 - val_loss: 0.7313\n",
      "Epoch 58/70\n",
      "\u001b[1m608/608\u001b[0m \u001b[32m━━━━━━━━━━━━━━━━━━━━\u001b[0m\u001b[37m\u001b[0m \u001b[1m3s\u001b[0m 4ms/step - accuracy: 0.7741 - loss: 0.5090 - val_accuracy: 0.6159 - val_loss: 0.7470\n",
      "Epoch 59/70\n",
      "\u001b[1m608/608\u001b[0m \u001b[32m━━━━━━━━━━━━━━━━━━━━\u001b[0m\u001b[37m\u001b[0m \u001b[1m3s\u001b[0m 4ms/step - accuracy: 0.7823 - loss: 0.4984 - val_accuracy: 0.6159 - val_loss: 0.7744\n",
      "Epoch 60/70\n",
      "\u001b[1m608/608\u001b[0m \u001b[32m━━━━━━━━━━━━━━━━━━━━\u001b[0m\u001b[37m\u001b[0m \u001b[1m3s\u001b[0m 4ms/step - accuracy: 0.7865 - loss: 0.4857 - val_accuracy: 0.6159 - val_loss: 0.8012\n",
      "Epoch 61/70\n",
      "\u001b[1m608/608\u001b[0m \u001b[32m━━━━━━━━━━━━━━━━━━━━\u001b[0m\u001b[37m\u001b[0m \u001b[1m3s\u001b[0m 4ms/step - accuracy: 0.7956 - loss: 0.4716 - val_accuracy: 0.6159 - val_loss: 0.8362\n",
      "Epoch 62/70\n",
      "\u001b[1m608/608\u001b[0m \u001b[32m━━━━━━━━━━━━━━━━━━━━\u001b[0m\u001b[37m\u001b[0m \u001b[1m3s\u001b[0m 4ms/step - accuracy: 0.7935 - loss: 0.4695 - val_accuracy: 0.6159 - val_loss: 0.8669\n",
      "Epoch 63/70\n",
      "\u001b[1m608/608\u001b[0m \u001b[32m━━━━━━━━━━━━━━━━━━━━\u001b[0m\u001b[37m\u001b[0m \u001b[1m3s\u001b[0m 4ms/step - accuracy: 0.8049 - loss: 0.4544 - val_accuracy: 0.6159 - val_loss: 0.8969\n",
      "Epoch 64/70\n",
      "\u001b[1m608/608\u001b[0m \u001b[32m━━━━━━━━━━━━━━━━━━━━\u001b[0m\u001b[37m\u001b[0m \u001b[1m3s\u001b[0m 4ms/step - accuracy: 0.8065 - loss: 0.4449 - val_accuracy: 0.6159 - val_loss: 0.9326\n",
      "Epoch 65/70\n",
      "\u001b[1m608/608\u001b[0m \u001b[32m━━━━━━━━━━━━━━━━━━━━\u001b[0m\u001b[37m\u001b[0m \u001b[1m3s\u001b[0m 4ms/step - accuracy: 0.8125 - loss: 0.4373 - val_accuracy: 0.6159 - val_loss: 0.9685\n",
      "Epoch 66/70\n",
      "\u001b[1m608/608\u001b[0m \u001b[32m━━━━━━━━━━━━━━━━━━━━\u001b[0m\u001b[37m\u001b[0m \u001b[1m3s\u001b[0m 4ms/step - accuracy: 0.8147 - loss: 0.4316 - val_accuracy: 0.6159 - val_loss: 1.0030\n",
      "Epoch 67/70\n",
      "\u001b[1m608/608\u001b[0m \u001b[32m━━━━━━━━━━━━━━━━━━━━\u001b[0m\u001b[37m\u001b[0m \u001b[1m3s\u001b[0m 4ms/step - accuracy: 0.8218 - loss: 0.4194 - val_accuracy: 0.6159 - val_loss: 1.0523\n",
      "Epoch 68/70\n",
      "\u001b[1m608/608\u001b[0m \u001b[32m━━━━━━━━━━━━━━━━━━━━\u001b[0m\u001b[37m\u001b[0m \u001b[1m3s\u001b[0m 4ms/step - accuracy: 0.8266 - loss: 0.4119 - val_accuracy: 0.6159 - val_loss: 1.0812\n",
      "Epoch 69/70\n",
      "\u001b[1m608/608\u001b[0m \u001b[32m━━━━━━━━━━━━━━━━━━━━\u001b[0m\u001b[37m\u001b[0m \u001b[1m3s\u001b[0m 4ms/step - accuracy: 0.8298 - loss: 0.4007 - val_accuracy: 0.6159 - val_loss: 1.1260\n",
      "Epoch 70/70\n",
      "\u001b[1m608/608\u001b[0m \u001b[32m━━━━━━━━━━━━━━━━━━━━\u001b[0m\u001b[37m\u001b[0m \u001b[1m3s\u001b[0m 4ms/step - accuracy: 0.8334 - loss: 0.3975 - val_accuracy: 0.6159 - val_loss: 1.1737\n",
      "\u001b[1m123/123\u001b[0m \u001b[32m━━━━━━━━━━━━━━━━━━━━\u001b[0m\u001b[37m\u001b[0m \u001b[1m0s\u001b[0m 2ms/step - accuracy: 0.6139 - loss: 1.1787\n",
      "\u001b[1m123/123\u001b[0m \u001b[32m━━━━━━━━━━━━━━━━━━━━\u001b[0m\u001b[37m\u001b[0m \u001b[1m1s\u001b[0m 4ms/step\n",
      "[[0.9478925 ]\n",
      " [0.94968903]\n",
      " [0.9477387 ]\n",
      " ...\n",
      " [0.9663343 ]\n",
      " [0.9443836 ]\n",
      " [0.95158327]]\n",
      "[[1]\n",
      " [1]\n",
      " [1]\n",
      " ...\n",
      " [1]\n",
      " [1]\n",
      " [1]]\n",
      "0       0\n",
      "1       0\n",
      "2       0\n",
      "3       1\n",
      "4       0\n",
      "       ..\n",
      "3921    0\n",
      "3922    1\n",
      "3923    1\n",
      "3924    0\n",
      "3925    0\n",
      "Name: label, Length: 3926, dtype: int64\n",
      "Test Loss: 1.1831533908843994, Test Accuracy: 0.612328052520752\n",
      "\n"
     ]
    },
    {
     "data": {
      "image/png": "[encoded data removed]",
      "text/plain": [
       "<Figure size 640x480 with 1 Axes>"
      ]
     },
     "metadata": {},
     "output_type": "display_data"
    },
    {
     "name": "stdout",
     "output_type": "stream",
     "text": [
      "\n",
      "\n"
     ]
    },
    {
     "data": {
      "image/png": "[encoded data removed]",
      "text/plain": [
       "<Figure size 640x480 with 1 Axes>"
      ]
     },
     "metadata": {},
     "output_type": "display_data"
    },
    {
     "name": "stdout",
     "output_type": "stream",
     "text": [
      "\n",
      "Classification Report\n",
      "              precision    recall  f1-score   support\n",
      "\n",
      "           0       0.00      0.00      0.00      1522\n",
      "           1       0.61      1.00      0.76      2404\n",
      "\n",
      "    accuracy                           0.61      3926\n",
      "   macro avg       0.31      0.50      0.38      3926\n",
      "weighted avg       0.37      0.61      0.47      3926\n",
      "\n",
      "\n",
      "Confusion Matrix\n",
      "[[   0 1522]\n",
      " [   0 2404]]\n"
     ]
    },
    {
     "name": "stderr",
     "output_type": "stream",
     "text": [
      "c:\\Users\\George\\anaconda3\\Lib\\site-packages\\sklearn\\metrics\\_classification.py:1565: UndefinedMetricWarning: Precision is ill-defined and being set to 0.0 in labels with no predicted samples. Use `zero_division` parameter to control this behavior.\n",
      "  _warn_prf(average, modifier, f\"{metric.capitalize()} is\", len(result))\n",
      "c:\\Users\\George\\anaconda3\\Lib\\site-packages\\sklearn\\metrics\\_classification.py:1565: UndefinedMetricWarning: Precision is ill-defined and being set to 0.0 in labels with no predicted samples. Use `zero_division` parameter to control this behavior.\n",
      "  _warn_prf(average, modifier, f\"{metric.capitalize()} is\", len(result))\n",
      "c:\\Users\\George\\anaconda3\\Lib\\site-packages\\sklearn\\metrics\\_classification.py:1565: UndefinedMetricWarning: Precision is ill-defined and being set to 0.0 in labels with no predicted samples. Use `zero_division` parameter to control this behavior.\n",
      "  _warn_prf(average, modifier, f\"{metric.capitalize()} is\", len(result))\n"
     ]
    },
    {
     "data": {
      "image/png": "[encoded data removed]",
      "text/plain": [
       "<Figure size 640x480 with 2 Axes>"
      ]
     },
     "metadata": {},
     "output_type": "display_data"
    },
    {
     "name": "stdout",
     "output_type": "stream",
     "text": [
      "Time taken: 194.4979 seconds\n"
     ]
    }
   ],
   "source": [
    "start_time_1 = time.perf_counter()\n",
    "with tensorflow.device('/device:GPU:0'):\n",
    "  # CNN model detection\n",
    "  # https://keras.io/api/layers/activations/#softmax-function\n",
    "  detection_model = tensorflow.keras.Sequential([\n",
    "      tensorflow.keras.layers.Input(shape=(X_rebalance.shape[1],X_rebalance.shape[2])),\n",
    "      tensorflow.keras.layers.Conv1D(filters=50, kernel_size=3, activation='sigmoid'),\n",
    "      tensorflow.keras.layers.MaxPooling1D(pool_size=2),\n",
    "      tensorflow.keras.layers.Dropout(0.3),\n",
    "      tensorflow.keras.layers.BatchNormalization(),\n",
    "      tensorflow.keras.layers.LSTM(64),\n",
    "      tensorflow.keras.layers.Flatten(),\n",
    "      # 1 layer\n",
    "      tensorflow.keras.layers.Dense(512, activation='relu'),\n",
    "      tensorflow.keras.layers.Dropout(0.5),\n",
    "      # either attack or normal\n",
    "      tensorflow.keras.layers.Dense(1, activation='sigmoid')\n",
    "  ])\n",
    "\n",
    "  detection_model.summary()\n",
    "  # https://keras.io/api/losses/probabilistic_losses/#probabilistic-losses\n",
    "  sgd = tensorflow.keras.optimizers.SGD(learning_rate=0.001)\n",
    "  detection_model.compile(optimizer=sgd,\n",
    "                loss=tensorflow.keras.losses.BinaryCrossentropy(from_logits=False),\n",
    "                metrics=['accuracy'])\n",
    "\n",
    "  history = detection_model.fit(X_rebalance, y_rebalance, batch_size=64, epochs=70, validation_data=(X_validation_encode, y_validation_encode))\n",
    "  test_loss, test_acc = detection_model.evaluate(X_test_encode, y_test_encode)\n",
    "\n",
    "  # Make predictions\n",
    "  prediction = detection_model.predict(X_test_encode)\n",
    "  print(prediction)\n",
    "  attack_prediction = numpy.where(prediction > 0.5, 1, 0)\n",
    "  print(attack_prediction)\n",
    "  print(y_test)\n",
    "\n",
    "  # Evaluate the model\n",
    "  print(f\"Test Loss: {test_loss}, Test Accuracy: {test_acc}\\n\")\n",
    "  # https://www.tensorflow.org/tutorials/keras/text_classification for training and validation loss and accuracy\n",
    "  history_dict = history.history\n",
    "  # print(history_dict.keys())\n",
    "  acc = history_dict['accuracy']\n",
    "  val_acc = history_dict['val_accuracy']\n",
    "  loss = history_dict['loss']\n",
    "  val_loss = history_dict['val_loss']\n",
    "\n",
    "  epochs = range(1, len(acc) + 1)\n",
    "\n",
    "  # \"bo\" is for \"blue dot\"\n",
    "  plt.plot(epochs, loss, 'bo', label='Training loss')\n",
    "  # b is for \"solid blue line\"\n",
    "  plt.plot(epochs, val_loss, 'b', label='Validation loss')\n",
    "  plt.title('Training and validation loss')\n",
    "  plt.xlabel('Epochs')\n",
    "  plt.ylabel('Loss')\n",
    "  plt.legend()\n",
    "  plt.show()\n",
    "  print(\"\\n\")\n",
    "\n",
    "  plt.plot(epochs, acc, 'bo', label='Training acc')\n",
    "  plt.plot(epochs, val_acc, 'b', label='Validation acc')\n",
    "  plt.title('Training and validation accuracy')\n",
    "  plt.xlabel('Epochs')\n",
    "  plt.ylabel('Accuracy')\n",
    "  plt.legend(loc='lower right')\n",
    "  plt.show()\n",
    "\n",
    "  print(\"\\nClassification Report\")\n",
    "  print(classification_report(y_test, attack_prediction))\n",
    "\n",
    "  print(\"\\nConfusion Matrix\")\n",
    "  print(confusion_matrix(y_test, attack_prediction))\n",
    "  ConfusionMatrixDisplay.from_predictions(y_test, attack_prediction)\n",
    "  plt.show()\n",
    "\n",
    "end_time1 = time.perf_counter()\n",
    "print(f\"Time taken: {end_time1 - start_time_1:0.4f} seconds\")"
   ]
  },
  {
   "cell_type": "markdown",
   "metadata": {
    "id": "uYXJh6CdfRuI"
   },
   "source": [
    "# Optimizing the model\n",
    "Instead of looking at random number ranges for learning rates, filters, and hidden units, we have encoded specific values.\n",
    "\n",
    "The hyper parameters we are attempting to optimize are:\n",
    "\n",
    "*   Batch Size\n",
    "*   Activation Functions\n",
    "*   Learning Rates\n",
    "*   Filters\n",
    "*   Hidden Units\n",
    "\n",
    "\n",
    "The base CNN model we made is ingested into *objective_function*.\n",
    "  This is where our hyper parameters are being considered.\n",
    "  It returns the Accuracy of that particular iteration.\n",
    "**LB** and **UB** is set according to the list given above.\n",
    "\n"
   ]
  },
  {
   "cell_type": "code",
   "execution_count": null,
   "metadata": {
    "colab": {
     "base_uri": "https://localhost:8080/"
    },
    "id": "-nP_T-jq4-IO",
    "outputId": "207be148-faeb-4363-a4f2-3bd04e065fb3"
   },
   "outputs": [
    {
     "name": "stderr",
     "output_type": "stream",
     "text": [
      "INFO:mealpy.swarm_based.FOX.OriginalFOX:Solving single objective optimization problem.\n"
     ]
    },
    {
     "name": "stdout",
     "output_type": "stream",
     "text": [
      "Accuracy 0.38410598039627075\n",
      "Accuracy 0.38410598039627075\n",
      "Accuracy 0.38410598039627075\n",
      "Accuracy 0.38410598039627075\n",
      "Accuracy 0.38410598039627075\n",
      "Accuracy 0.6158940494060516\n",
      "Accuracy 0.38410598039627075\n",
      "Accuracy 0.38410598039627075\n",
      "Accuracy 0.38410598039627075\n",
      "Accuracy 0.6158940494060516\n",
      "Accuracy 0.38410598039627075\n",
      "Accuracy 0.6158940494060516\n",
      "Accuracy 0.38410598039627075\n",
      "Accuracy 0.38410598039627075\n",
      "Accuracy 0.38410598039627075\n",
      "Accuracy 0.38410598039627075\n",
      "Accuracy 0.6158940494060516\n",
      "Accuracy 0.38410598039627075\n",
      "Accuracy 0.38410598039627075\n",
      "Accuracy 0.38410598039627075\n",
      "Accuracy 0.38410598039627075\n",
      "Accuracy 0.38410598039627075\n",
      "Accuracy 0.6158940494060516\n",
      "Accuracy 0.6158940494060516\n",
      "Accuracy 0.6158940494060516\n",
      "Accuracy 0.38410598039627075\n",
      "Accuracy 0.38410598039627075\n",
      "Accuracy 0.6158940494060516\n",
      "Accuracy 0.6158940494060516\n",
      "Accuracy 0.6158940494060516\n",
      "Accuracy 0.6158940494060516\n",
      "Accuracy 0.38410598039627075\n",
      "Accuracy 0.6158940494060516\n",
      "Accuracy 0.38410598039627075\n",
      "Accuracy 0.38410598039627075\n",
      "Accuracy 0.6158940494060516\n",
      "Accuracy 0.38410598039627075\n",
      "Accuracy 0.38410598039627075\n",
      "Accuracy 0.38410598039627075\n",
      "Accuracy 0.38410598039627075\n"
     ]
    },
    {
     "name": "stderr",
     "output_type": "stream",
     "text": [
      "INFO:mealpy.swarm_based.FOX.OriginalFOX:>>>Problem: P, Epoch: 1, Current best: 0.38410598039627075, Global best: 0.38410598039627075, Runtime: 2106.19946 seconds\n"
     ]
    },
    {
     "name": "stdout",
     "output_type": "stream",
     "text": [
      "Accuracy 0.6158940494060516\n",
      "Accuracy 0.6158940494060516\n",
      "Accuracy 0.38410598039627075\n",
      "Accuracy 0.6158940494060516\n",
      "Accuracy 0.38410598039627075\n",
      "Accuracy 0.6158940494060516\n",
      "Accuracy 0.38410598039627075\n",
      "Accuracy 0.38410598039627075\n",
      "Accuracy 0.6158940494060516\n",
      "Accuracy 0.38410598039627075\n",
      "Accuracy 0.6158940494060516\n",
      "Accuracy 0.6158940494060516\n",
      "Accuracy 0.38410598039627075\n",
      "Accuracy 0.38410598039627075\n",
      "Accuracy 0.38410598039627075\n",
      "Accuracy 0.6158940494060516\n",
      "Accuracy 0.38410598039627075\n",
      "Accuracy 0.38410598039627075\n",
      "Accuracy 0.6158940494060516\n",
      "Accuracy 0.38410598039627075\n"
     ]
    },
    {
     "name": "stderr",
     "output_type": "stream",
     "text": [
      "INFO:mealpy.swarm_based.FOX.OriginalFOX:>>>Problem: P, Epoch: 2, Current best: 0.38410598039627075, Global best: 0.38410598039627075, Runtime: 2131.20554 seconds\n"
     ]
    },
    {
     "name": "stdout",
     "output_type": "stream",
     "text": [
      "Accuracy 0.38410598039627075\n",
      "Accuracy 0.6158940494060516\n",
      "Accuracy 0.38410598039627075\n",
      "Accuracy 0.6158940494060516\n",
      "Accuracy 0.38410598039627075\n",
      "Accuracy 0.38410598039627075\n",
      "Accuracy 0.6158940494060516\n",
      "Accuracy 0.6158940494060516\n",
      "Accuracy 0.6158940494060516\n",
      "Accuracy 0.38410598039627075\n",
      "Accuracy 0.38410598039627075\n",
      "Accuracy 0.6158940494060516\n",
      "Accuracy 0.6158940494060516\n",
      "Accuracy 0.38410598039627075\n",
      "Accuracy 0.5196128487586975\n",
      "Accuracy 0.6158940494060516\n",
      "Accuracy 0.6158940494060516\n",
      "Accuracy 0.38410598039627075\n",
      "Accuracy 0.38410598039627075\n",
      "Accuracy 0.38410598039627075\n"
     ]
    },
    {
     "name": "stderr",
     "output_type": "stream",
     "text": [
      "INFO:mealpy.swarm_based.FOX.OriginalFOX:>>>Problem: P, Epoch: 3, Current best: 0.38410598039627075, Global best: 0.38410598039627075, Runtime: 2070.75109 seconds\n"
     ]
    },
    {
     "name": "stdout",
     "output_type": "stream",
     "text": [
      "Accuracy 0.38410598039627075\n",
      "Accuracy 0.38410598039627075\n",
      "Accuracy 0.38410598039627075\n",
      "Accuracy 0.6158940494060516\n",
      "Accuracy 0.6158940494060516\n",
      "Accuracy 0.38410598039627075\n",
      "Accuracy 0.6158940494060516\n",
      "Accuracy 0.38410598039627075\n",
      "Accuracy 0.38410598039627075\n",
      "Accuracy 0.6158940494060516\n",
      "Accuracy 0.38410598039627075\n",
      "Accuracy 0.38410598039627075\n",
      "Accuracy 0.6158940494060516\n",
      "Accuracy 0.38410598039627075\n",
      "Accuracy 0.38410598039627075\n",
      "Accuracy 0.5532348453998566\n",
      "Accuracy 0.6158940494060516\n",
      "Accuracy 0.38410598039627075\n",
      "Accuracy 0.38410598039627075\n",
      "Accuracy 0.38410598039627075\n"
     ]
    },
    {
     "name": "stderr",
     "output_type": "stream",
     "text": [
      "INFO:mealpy.swarm_based.FOX.OriginalFOX:>>>Problem: P, Epoch: 4, Current best: 0.38410598039627075, Global best: 0.38410598039627075, Runtime: 1997.04632 seconds\n"
     ]
    },
    {
     "name": "stdout",
     "output_type": "stream",
     "text": [
      "Accuracy 0.38410598039627075\n",
      "Accuracy 0.6158940494060516\n",
      "Accuracy 0.6158940494060516\n",
      "Accuracy 0.38410598039627075\n",
      "Accuracy 0.38410598039627075\n",
      "Accuracy 0.6158940494060516\n"
     ]
    }
   ],
   "source": [
    "BATCH_ENCODER = LabelEncoder()\n",
    "BATCH_ENCODER.fit([32, 64, 128])\n",
    "\n",
    "#act encoder --> Which activation function should be used?\n",
    "ACT_ENCODER = LabelEncoder()\n",
    "ACT_ENCODER.fit(['softmax', 'softplus', 'relu', 'tanh', 'sigmoid', 'hard_sigmoid', 'linear'])\n",
    "\n",
    "#Learning Rate encoder\n",
    "LR_ENCODER = LabelEncoder()\n",
    "LR_ENCODER.fit([0.0005, 0.001, 0.005, 0.01, 0.05, 0.1])\n",
    "\n",
    "#Filter encoder\n",
    "FILTER_ENCODER = LabelEncoder()\n",
    "FILTER_ENCODER.fit([25, 50, 75])\n",
    "\n",
    "#Hidden Units encoder\n",
    "HIDDEN_ENCODER = LabelEncoder()\n",
    "HIDDEN_ENCODER.fit([400, 512, 640])\n",
    "\n",
    "def objective_function(params):\n",
    "  '''RULES:\n",
    "      Batch Size - 32, 64, 128\n",
    "      Activation - softmax, softplus, relu, tanh, sigmoid, hard_sigmoid, linear\n",
    "      Learning Rate - 0.0005, 0.001, 0.005, 0.01, 0.05, 0.1\n",
    "      Filters - 25, 50, 75\n",
    "      Hidden Units - 400, 512, 640\n",
    "      Dense Layers - 5, 8, 10\n",
    "  '''\n",
    "  batch_size = BATCH_ENCODER.inverse_transform([int(params[0])])[0]\n",
    "  activation = ACT_ENCODER.inverse_transform([int(params[1])])[0]\n",
    "  learning_rate = LR_ENCODER.inverse_transform([int(params[2])])[0]\n",
    "  filter = FILTER_ENCODER.inverse_transform([int(params[3])])[0]\n",
    "  hidden_units = HIDDEN_ENCODER.inverse_transform([int(params[4])])[0]\n",
    "\n",
    "  model = tensorflow.keras.Sequential()\n",
    "  model.add(tensorflow.keras.layers.Input(shape=(X_rebalance.shape[1], X_rebalance.shape[2]))),\n",
    "  model.add(tensorflow.keras.layers.Conv1D(filters=filter, kernel_size=3, activation='sigmoid')),\n",
    "  model.add(tensorflow.keras.layers.MaxPooling1D(pool_size=2)),\n",
    "  model.add(tensorflow.keras.layers.Dropout(0.3)),\n",
    "  model.add(tensorflow.keras.layers.BatchNormalization()),\n",
    "  model.add(tensorflow.keras.layers.LSTM(64)),\n",
    "  model.add(tensorflow.keras.layers.Flatten()),\n",
    "  model.add(tensorflow.keras.layers.Dense(int(hidden_units), activation=activation)),\n",
    "  model.add(tensorflow.keras.layers.Dropout(0.5)),\n",
    "  model.add(tensorflow.keras.layers.Dense(1, activation='sigmoid'))\n",
    "\n",
    "\n",
    "  optimizer = tensorflow.keras.optimizers.SGD(learning_rate=learning_rate)\n",
    "  model.compile(optimizer=optimizer, loss='binary_crossentropy', metrics=['accuracy'])\n",
    "\n",
    "  history = model.fit(X_rebalance, y_rebalance, batch_size=batch_size, epochs=15, validation_data=(X_validation_encode, y_validation_encode), verbose=0)\n",
    "  min_validation_accuracy = 1-history.history['val_accuracy'][-1]\n",
    "  print(f\"Accuracy {min_validation_accuracy}\")\n",
    "  return min_validation_accuracy\n",
    "\n",
    "LB = [0, 0, 0, 0, 0]\n",
    "UB = [2.99, 6.99, 5.99, 2.99, 2.99]\n",
    "\n",
    "problem_dict = {\n",
    "    \"obj_func\": objective_function,\n",
    "    \"bounds\": FloatVar(lb=LB, ub=UB),\n",
    "    \"minmax\": \"min\",\n",
    "    \"verbose\": True\n",
    "}\n",
    "\n",
    "model = FOX.OriginalFOX(epoch=15, pop_size=20)\n",
    "g_best = model.solve(problem_dict)\n",
    "print(f\"Solution: {g_best.solution}, Fitness: {g_best.target.fitness}\")\n",
    "print(f\"Solution: {model.g_best.solution}, Fitness: {model.g_best.target.fitness}\")\n",
    "model.history.save_global_objectives_chart(filename=\"FOX-modbus/goc\")\n",
    "model.history.save_local_objectives_chart(filename=\"FOX-modbus/loc\")\n",
    "\n",
    "model.history.save_global_best_fitness_chart(filename=\"FOX-modbus/gbfc\")\n",
    "model.history.save_local_best_fitness_chart(filename=\"FOX-modbus/lbfc\")\n",
    "\n",
    "model.history.save_runtime_chart(filename=\"FOX-modbus/rtc\")\n",
    "\n",
    "model.history.save_exploration_exploitation_chart(filename=\"FOX-modbus/eec\")\n",
    "\n",
    "model.history.save_diversity_chart(filename=\"FOX-modbus/dc\")\n"
   ]
  },
  {
   "cell_type": "markdown",
   "metadata": {
    "id": "WP95hoXPmyFm"
   },
   "source": [
    "#Output from the Optimizer\n",
    "\n",
    "\"2025/04/14 09:18:47 AM, INFO, mealpy.swarm_based.FOX.OriginalFOX: Solving single objective optimization problem.\"\n",
    "Accuracy 0.38410598039627075 Accuracy 0.38410598039627075 Accuracy 0.38410598039627075 Accuracy 0.38410598039627075 Accuracy 0.6158940494060516 Accuracy 0.6158940494060516 Accuracy 0.6158940494060516 Accuracy 0.38410598039627075 Accuracy 0.38410598039627075 Accuracy 0.6454406380653381 Accuracy 0.38410598039627075 Accuracy 0.38410598039627075 Accuracy 0.38410598039627075 Accuracy 0.6158940494060516 Accuracy 0.38410598039627075 Accuracy 0.38410598039627075 Accuracy 0.38410598039627075 Accuracy 0.38410598039627075 Accuracy 0.6064696907997131 Accuracy 0.38410598039627075 Accuracy 0.38410598039627075 Accuracy 0.38410598039627075 Accuracy 0.38410598039627075 Accuracy 0.38410598039627075 Accuracy 0.38410598039627075\n",
    "Accuracy 0.6158940494060516 Accuracy 0.38410598039627075 Accuracy 0.38410598039627075 Accuracy 0.6158940494060516\n",
    "\"2025/04/14 09:55:39 AM, INFO, mealpy.swarm_based.FOX.OriginalFOX: >>>Problem: P, Epoch: 1, Current best: 0.38410598039627075, Global best: 0.38410598039627075, Runtime: 1283.71946 seconds\"\n",
    "Accuracy 0.38410598039627075 Accuracy 0.38410598039627075 Accuracy 0.38410598039627075 Accuracy 0.38410598039627075 Accuracy 0.38410598039627075 Accuracy 0.38410598039627075 Accuracy 0.38410598039627075 Accuracy 0.38410598039627075 Accuracy 0.38410598039627075 Accuracy 0.6158940494060516 Accuracy 0.38410598039627075 Accuracy 0.38410598039627075 Accuracy 0.38410598039627075 Accuracy 0.38410598039627075 Accuracy 0.38410598039627075 Accuracy 0.6158940494060516 Accuracy 0.38410598039627075 Accuracy 0.6158940494060516 Accuracy 0.38410598039627075 Accuracy 0.38410598039627075\n",
    "\"2025/04/14 10:13:49 AM, INFO, mealpy.swarm_based.FOX.OriginalFOX: >>>Problem: P, Epoch: 2, Current best: 0.38410598039627075, Global best: 0.38410598039627075, Runtime: 1089.65934 seconds\"\n",
    "Accuracy 0.38410598039627075 Accuracy 0.38410598039627075 Accuracy 0.6158940494060516 Accuracy 0.38410598039627075 Accuracy 0.38410598039627075 Accuracy 0.6158940494060516 Accuracy 0.38410598039627075 Accuracy 0.38410598039627075 Accuracy 0.6158940494060516 Accuracy 0.38410598039627075 Accuracy 0.38410598039627075 Accuracy 0.38410598039627075 Accuracy 0.6158940494060516 Accuracy 0.6158940494060516 Accuracy 0.38410598039627075 Accuracy 0.38410598039627075 Accuracy 0.38410598039627075 Accuracy 0.38410598039627075 Accuracy 0.38410598039627075 Accuracy 0.6158940494060516\n",
    "\"2025/04/14 10:32:02 AM, INFO, mealpy.swarm_based.FOX.OriginalFOX: >>>Problem: P, Epoch: 3, Current best: 0.38410598039627075, Global best: 0.38410598039627075, Runtime: 1092.96946 seconds\"\n",
    "Accuracy 0.6158940494060516 Accuracy 0.38410598039627075 Accuracy 0.38410598039627075 Accuracy 0.38410598039627075 Accuracy 0.38410598039627075 Accuracy 0.38410598039627075 Accuracy 0.38410598039627075 Accuracy 0.6158940494060516 Accuracy 0.6158940494060516 Accuracy 0.38410598039627075 Accuracy 0.38410598039627075 Accuracy 0.38410598039627075 Accuracy 0.6158940494060516 Accuracy 0.38410598039627075 Accuracy 0.6158940494060516 Accuracy 0.38410598039627075 Accuracy 0.38410598039627075 Accuracy 0.38410598039627075 Accuracy 0.38410598039627075 Accuracy 0.6158940494060516\n",
    "\"2025/04/14 10:49:24 AM, INFO, mealpy.swarm_based.FOX.OriginalFOX: >>>Problem: P, Epoch: 4, Current best: 0.38410598039627075, Global best: 0.38410598039627075, Runtime: 1041.92276 seconds\"\n",
    "Accuracy 0.38410598039627075 Accuracy 0.38410598039627075 Accuracy 0.38410598039627075 Accuracy 0.6158940494060516 Accuracy 0.38410598039627075 Accuracy 0.38410598039627075 Accuracy 0.6158940494060516 Accuracy 0.38410598039627075 Accuracy 0.38410598039627075 Accuracy 0.38410598039627075 Accuracy 0.38410598039627075 Accuracy 0.38410598039627075 Accuracy 0.38410598039627075 Accuracy 0.6158940494060516 Accuracy 0.6158940494060516 Accuracy 0.38410598039627075 Accuracy 0.38410598039627075 Accuracy 0.38410598039627075 Accuracy 0.38410598039627075 Accuracy 0.6158940494060516\n",
    "\"2025/04/14 11:08:34 AM, INFO, mealpy.swarm_based.FOX.OriginalFOX: >>>Problem: P, Epoch: 5, Current best: 0.38410598039627075, Global best: 0.38410598039627075, Runtime: 1149.60196 seconds\"\n",
    "Accuracy 0.38410598039627075 Accuracy 0.38410598039627075 Accuracy 0.38410598039627075 Accuracy 0.38410598039627075 Accuracy 0.38410598039627075 Accuracy 0.38410598039627075 Accuracy 0.38410598039627075 Accuracy 0.38410598039627075 Accuracy 0.38410598039627075 Accuracy 0.38410598039627075 Accuracy 0.38410598039627075 Accuracy 0.6158940494060516 Accuracy 0.6158940494060516 Accuracy 0.38410598039627075 Accuracy 0.3996434211730957 Accuracy 0.38410598039627075 Accuracy 0.6158940494060516 Accuracy 0.38410598039627075 Accuracy 0.49898117780685425 Accuracy 0.38410598039627075\n",
    "\"2025/04/14 11:26:48 AM, INFO, mealpy.swarm_based.FOX.OriginalFOX: >>>Problem: P, Epoch: 6, Current best: 0.38410598039627075, Global best: 0.38410598039627075, Runtime: 1093.95286 seconds\"\n",
    "Accuracy 0.38410598039627075 Accuracy 0.38410598039627075 Accuracy 0.38410598039627075 Accuracy 0.6158940494060516 Accuracy 0.38410598039627075 Accuracy 0.38410598039627075 Accuracy 0.38410598039627075 Accuracy 0.38410598039627075 Accuracy 0.38410598039627075 Accuracy 0.38410598039627075 Accuracy 0.38410598039627075 Accuracy 0.38410598039627075 Accuracy 0.38410598039627075 Accuracy 0.38410598039627075 Accuracy 0.38410598039627075 Accuracy 0.6158940494060516 Accuracy 0.38410598039627075 Accuracy 0.38410598039627075 Accuracy 0.38410598039627075 Accuracy 0.38410598039627075\n",
    "\"2025/04/14 11:44:57 AM, INFO, mealpy.swarm_based.FOX.OriginalFOX: >>>Problem: P, Epoch: 7, Current best: 0.38410598039627075, Global best: 0.38410598039627075, Runtime: 1089.71708 seconds\"\n",
    "Accuracy 0.6158940494060516 Accuracy 0.38410598039627075 Accuracy 0.38410598039627075 Accuracy 0.38410598039627075 Accuracy 0.38410598039627075 Accuracy 0.38410598039627075 Accuracy 0.38410598039627075 Accuracy 0.38410598039627075 Accuracy 0.38410598039627075 Accuracy 0.05145186185836792 Accuracy 0.24325013160705566 Accuracy 0.6158940494060516 Accuracy 0.38410598039627075 Accuracy 0.6158940494060516 Accuracy 0.38410598039627075 Accuracy 0.38410598039627075 Accuracy 0.38410598039627075 Accuracy 0.38410598039627075 Accuracy 0.38410598039627075 Accuracy 0.38410598039627075\n",
    "\"2025/04/14 12:03:27 PM, INFO, mealpy.swarm_based.FOX.OriginalFOX: >>>Problem: P, Epoch: 8, Current best: 0.05145186185836792, Global best: 0.05145186185836792, Runtime: 1109.73174 seconds\"\n",
    "Accuracy 0.6158940494060516 Accuracy 0.6158940494060516 Accuracy 0.6158940494060516 Accuracy 0.38410598039627075 Accuracy 0.38410598039627075 Accuracy 0.38410598039627075 Accuracy 0.6158940494060516 Accuracy 0.6158940494060516 Accuracy 0.38410598039627075 Accuracy 0.6158940494060516 Accuracy 0.6026490032672882 Accuracy 0.38410598039627075 Accuracy 0.38410598039627075 Accuracy 0.38410598039627075 Accuracy 0.38410598039627075 Accuracy 0.38410598039627075 Accuracy 0.6158940494060516 Accuracy 0.38410598039627075 Accuracy 0.38410598039627075 Accuracy 0.38410598039627075\n",
    "\"2025/04/14 12:26:13 PM, INFO, mealpy.swarm_based.FOX.OriginalFOX: >>>Problem: P, Epoch: 9, Current best: 0.38410598039627075, Global best: 0.05145186185836792, Runtime: 1366.06660 seconds\"\n",
    "Accuracy 0.6158940494060516 Accuracy 0.38410598039627075 Accuracy 0.38410598039627075 Accuracy 0.6158940494060516 Accuracy 0.6158940494060516 Accuracy 0.6158940494060516 Accuracy 0.38410598039627075 Accuracy 0.6158940494060516 Accuracy 0.6158940494060516 Accuracy 0.38410598039627075 Accuracy 0.6158940494060516 Accuracy 0.06393277645111084 Accuracy 0.38410598039627075 Accuracy 0.38410598039627075 Accuracy 0.35736119747161865 Accuracy 0.38410598039627075 Accuracy 0.38410598039627075 Accuracy 0.38410598039627075 Accuracy 0.6158940494060516 Accuracy 0.38410598039627075\n",
    "\"2025/04/14 12:51:11 PM, INFO, mealpy.swarm_based.FOX.OriginalFOX: >>>Problem: P, Epoch: 10, Current best: 0.06393277645111084, Global best: 0.05145186185836792, Runtime: 1498.19567 seconds\"\n",
    "Accuracy 0.6158940494060516 Accuracy 0.6158940494060516 Accuracy 0.0809984803199768 Accuracy 0.38410598039627075 Accuracy 0.384360671043396 Accuracy 0.38410598039627075 Accuracy 0.6158940494060516 Accuracy 0.38410598039627075 Accuracy 0.38410598039627075 Accuracy 0.6158940494060516 Accuracy 0.38410598039627075 Accuracy 0.38410598039627075 Accuracy 0.7656648010015488 Accuracy 0.6158940494060516 Accuracy 0.6158940494060516 Accuracy 0.6158940494060516 Accuracy 0.6158940494060516 Accuracy 0.6158940494060516 Accuracy 0.38410598039627075 Accuracy 0.38410598039627075\n",
    "\"2025/04/14 01:15:28 PM, INFO, mealpy.swarm_based.FOX.OriginalFOX: >>>Problem: P, Epoch: 11, Current best: 0.0809984803199768, Global best: 0.05145186185836792, Runtime: 1456.79138 seconds\"\n",
    "Accuracy 0.38410598039627075 Accuracy 0.38410598039627075 Accuracy 0.6158940494060516 Accuracy 0.6158940494060516 Accuracy 0.38410598039627075 Accuracy 0.38410598039627075 Accuracy 0.6158940494060516 Accuracy 0.38410598039627075 Accuracy 0.38410598039627075 Accuracy 0.6158940494060516 Accuracy 0.38410598039627075 Accuracy 0.38410598039627075 Accuracy 0.38410598039627075 Accuracy 0.38410598039627075 Accuracy 0.6158940494060516 Accuracy 0.6158940494060516 Accuracy 0.38410598039627075 Accuracy 0.38410598039627075 Accuracy 0.38410598039627075 Accuracy 0.6158940494060516\n",
    "\"2025/04/14 01:40:23 PM, INFO, mealpy.swarm_based.FOX.OriginalFOX: >>>Problem: P, Epoch: 12, Current best: 0.38410598039627075, Global best: 0.05145186185836792, Runtime: 1494.46940 seconds\"\n",
    "Accuracy 0.6158940494060516 Accuracy 0.6158940494060516 Accuracy 0.38410598039627075 Accuracy 0.38410598039627075 Accuracy 0.6158940494060516 Accuracy 0.6158940494060516 Accuracy 0.6158940494060516 Accuracy 0.38410598039627075 Accuracy 0.6158940494060516 Accuracy 0.38410598039627075 Accuracy 0.6158940494060516 Accuracy 0.38410598039627075 Accuracy 0.6158940494060516 Accuracy 0.38410598039627075 Accuracy 0.20071321725845337 Accuracy 0.38410598039627075 Accuracy 0.38410598039627075 Accuracy 0.38410598039627075 Accuracy 0.38410598039627075 Accuracy 0.38410598039627075\n",
    "\"2025/04/14 02:05:03 PM, INFO, mealpy.swarm_based.FOX.OriginalFOX: >>>Problem: P, Epoch: 13, Current best: 0.20071321725845337, Global best: 0.05145186185836792, Runtime: 1480.75111 seconds\"\n",
    "Accuracy 0.38410598039627075 Accuracy 0.6158940494060516 Accuracy 0.38410598039627075 Accuracy 0.38410598039627075 Accuracy 0.6158940494060516 Accuracy 0.38410598039627075 Accuracy 0.38410598039627075 Accuracy 0.6158940494060516 Accuracy 0.38410598039627075 Accuracy 0.6158940494060516 Accuracy 0.38410598039627075 Accuracy 0.6158940494060516 Accuracy 0.38410598039627075 Accuracy 0.38410598039627075 Accuracy 0.6158940494060516 Accuracy 0.38410598039627075 Accuracy 0.65639328956604 Accuracy 0.38410598039627075 Accuracy 0.38410598039627075 Accuracy 0.6158940494060516\n",
    "\"2025/04/14 02:29:05 PM, INFO, mealpy.swarm_based.FOX.OriginalFOX: >>>Problem: P, Epoch: 14, Current best: 0.38410598039627075, Global best: 0.05145186185836792, Runtime: 1441.64882 seconds\"\n",
    "Accuracy 0.6158940494060516 Accuracy 0.6158940494060516 Accuracy 0.38410598039627075 Accuracy 0.38410598039627075 Accuracy 0.4572083353996277 Accuracy 0.38410598039627075 Accuracy 0.6158940494060516 Accuracy 0.6158940494060516 Accuracy 0.38410598039627075 Accuracy 0.6158940494060516 Accuracy 0.38410598039627075 Accuracy 0.6158940494060516 Accuracy 0.6158940494060516 Accuracy 0.6158940494060516 Accuracy 0.38410598039627075 Accuracy 0.38410598039627075 Accuracy 0.38410598039627075 Accuracy 0.6158940494060516 Accuracy 0.38410598039627075 Accuracy 0.6158940494060516\n",
    "\"2025/04/14 02:53:26 PM, INFO, mealpy.swarm_based.FOX.OriginalFOX: >>>Problem: P, Epoch: 15, Current best: 0.38410598039627075, Global best: 0.05145186185836792, Runtime: 1460.58057 seconds\"\n",
    "\n",
    "\"Accuracy 0.38410598039627075 Solution: [0.3342297 0.61263055 1.01915999 0.26779645 0.46019358], Fitness: 0.05145186185836792 Solution: [0.3342297 0.61263055 1.01915999 0.26779645 0.46019358], Fitness: 0.05145186185836792\""
   ]
  },
  {
   "cell_type": "markdown",
   "metadata": {
    "id": "WEzB4Lg810L_"
   },
   "source": [
    "# Solution\n",
    "\n",
    "Solution: [0.3342297 0.61263055 1.01915999 0.26779645 0.46019358], Fitness: 0.05145186185836792\n",
    "\n",
    "Batch Size - **32**, 64, 128\n",
    "\n",
    "Activation - **softmax**, softplus, relu, tanh, sigmoid, hard_sigmoid, linear\n",
    "\n",
    "Learning Rate - 0.0005, **0.001**, 0.005, 0.01, 0.05, 0.1\n",
    "\n",
    "Filters - **25**, 50, 75\n",
    "\n",
    "Hidden Units - **400**, 512, 640"
   ]
  },
  {
   "cell_type": "code",
   "execution_count": null,
   "metadata": {
    "id": "DcO8RPRf6zE5",
    "outputId": "372b30f7-5e31-4855-da0c-23ca853b9a71"
   },
   "outputs": [
    {
     "data": {
      "text/html": [
       "<pre style=\"white-space:pre;overflow-x:auto;line-height:normal;font-family:Menlo,'DejaVu Sans Mono',consolas,'Courier New',monospace\"><span style=\"font-weight: bold\">Model: \"sequential\"</span>\n",
       "</pre>\n"
      ],
      "text/plain": [
       "\u001b[1mModel: \"sequential\"\u001b[0m\n"
      ]
     },
     "metadata": {},
     "output_type": "display_data"
    },
    {
     "data": {
      "text/html": [
       "<pre style=\"white-space:pre;overflow-x:auto;line-height:normal;font-family:Menlo,'DejaVu Sans Mono',consolas,'Courier New',monospace\">┏━━━━━━━━━━━━━━━━━━━━━━━━━━━━━━━━━┳━━━━━━━━━━━━━━━━━━━━━━━━┳━━━━━━━━━━━━━━━┓\n",
       "┃<span style=\"font-weight: bold\"> Layer (type)                    </span>┃<span style=\"font-weight: bold\"> Output Shape           </span>┃<span style=\"font-weight: bold\">       Param # </span>┃\n",
       "┡━━━━━━━━━━━━━━━━━━━━━━━━━━━━━━━━━╇━━━━━━━━━━━━━━━━━━━━━━━━╇━━━━━━━━━━━━━━━┩\n",
       "│ conv1d (<span style=\"color: #0087ff; text-decoration-color: #0087ff\">Conv1D</span>)                 │ (<span style=\"color: #00d7ff; text-decoration-color: #00d7ff\">None</span>, <span style=\"color: #00af00; text-decoration-color: #00af00\">3</span>, <span style=\"color: #00af00; text-decoration-color: #00af00\">25</span>)          │           <span style=\"color: #00af00; text-decoration-color: #00af00\">100</span> │\n",
       "├─────────────────────────────────┼────────────────────────┼───────────────┤\n",
       "│ max_pooling1d (<span style=\"color: #0087ff; text-decoration-color: #0087ff\">MaxPooling1D</span>)    │ (<span style=\"color: #00d7ff; text-decoration-color: #00d7ff\">None</span>, <span style=\"color: #00af00; text-decoration-color: #00af00\">1</span>, <span style=\"color: #00af00; text-decoration-color: #00af00\">25</span>)          │             <span style=\"color: #00af00; text-decoration-color: #00af00\">0</span> │\n",
       "├─────────────────────────────────┼────────────────────────┼───────────────┤\n",
       "│ dropout (<span style=\"color: #0087ff; text-decoration-color: #0087ff\">Dropout</span>)               │ (<span style=\"color: #00d7ff; text-decoration-color: #00d7ff\">None</span>, <span style=\"color: #00af00; text-decoration-color: #00af00\">1</span>, <span style=\"color: #00af00; text-decoration-color: #00af00\">25</span>)          │             <span style=\"color: #00af00; text-decoration-color: #00af00\">0</span> │\n",
       "├─────────────────────────────────┼────────────────────────┼───────────────┤\n",
       "│ batch_normalization             │ (<span style=\"color: #00d7ff; text-decoration-color: #00d7ff\">None</span>, <span style=\"color: #00af00; text-decoration-color: #00af00\">1</span>, <span style=\"color: #00af00; text-decoration-color: #00af00\">25</span>)          │           <span style=\"color: #00af00; text-decoration-color: #00af00\">100</span> │\n",
       "│ (<span style=\"color: #0087ff; text-decoration-color: #0087ff\">BatchNormalization</span>)            │                        │               │\n",
       "├─────────────────────────────────┼────────────────────────┼───────────────┤\n",
       "│ lstm (<span style=\"color: #0087ff; text-decoration-color: #0087ff\">LSTM</span>)                     │ (<span style=\"color: #00d7ff; text-decoration-color: #00d7ff\">None</span>, <span style=\"color: #00af00; text-decoration-color: #00af00\">64</span>)             │        <span style=\"color: #00af00; text-decoration-color: #00af00\">23,040</span> │\n",
       "├─────────────────────────────────┼────────────────────────┼───────────────┤\n",
       "│ flatten (<span style=\"color: #0087ff; text-decoration-color: #0087ff\">Flatten</span>)               │ (<span style=\"color: #00d7ff; text-decoration-color: #00d7ff\">None</span>, <span style=\"color: #00af00; text-decoration-color: #00af00\">64</span>)             │             <span style=\"color: #00af00; text-decoration-color: #00af00\">0</span> │\n",
       "├─────────────────────────────────┼────────────────────────┼───────────────┤\n",
       "│ dense (<span style=\"color: #0087ff; text-decoration-color: #0087ff\">Dense</span>)                   │ (<span style=\"color: #00d7ff; text-decoration-color: #00d7ff\">None</span>, <span style=\"color: #00af00; text-decoration-color: #00af00\">400</span>)            │        <span style=\"color: #00af00; text-decoration-color: #00af00\">26,000</span> │\n",
       "├─────────────────────────────────┼────────────────────────┼───────────────┤\n",
       "│ dropout_1 (<span style=\"color: #0087ff; text-decoration-color: #0087ff\">Dropout</span>)             │ (<span style=\"color: #00d7ff; text-decoration-color: #00d7ff\">None</span>, <span style=\"color: #00af00; text-decoration-color: #00af00\">400</span>)            │             <span style=\"color: #00af00; text-decoration-color: #00af00\">0</span> │\n",
       "├─────────────────────────────────┼────────────────────────┼───────────────┤\n",
       "│ dense_1 (<span style=\"color: #0087ff; text-decoration-color: #0087ff\">Dense</span>)                 │ (<span style=\"color: #00d7ff; text-decoration-color: #00d7ff\">None</span>, <span style=\"color: #00af00; text-decoration-color: #00af00\">1</span>)              │           <span style=\"color: #00af00; text-decoration-color: #00af00\">401</span> │\n",
       "└─────────────────────────────────┴────────────────────────┴───────────────┘\n",
       "</pre>\n"
      ],
      "text/plain": [
       "┏━━━━━━━━━━━━━━━━━━━━━━━━━━━━━━━━━┳━━━━━━━━━━━━━━━━━━━━━━━━┳━━━━━━━━━━━━━━━┓\n",
       "┃\u001b[1m \u001b[0m\u001b[1mLayer (type)                   \u001b[0m\u001b[1m \u001b[0m┃\u001b[1m \u001b[0m\u001b[1mOutput Shape          \u001b[0m\u001b[1m \u001b[0m┃\u001b[1m \u001b[0m\u001b[1m      Param #\u001b[0m\u001b[1m \u001b[0m┃\n",
       "┡━━━━━━━━━━━━━━━━━━━━━━━━━━━━━━━━━╇━━━━━━━━━━━━━━━━━━━━━━━━╇━━━━━━━━━━━━━━━┩\n",
       "│ conv1d (\u001b[38;5;33mConv1D\u001b[0m)                 │ (\u001b[38;5;45mNone\u001b[0m, \u001b[38;5;34m3\u001b[0m, \u001b[38;5;34m25\u001b[0m)          │           \u001b[38;5;34m100\u001b[0m │\n",
       "├─────────────────────────────────┼────────────────────────┼───────────────┤\n",
       "│ max_pooling1d (\u001b[38;5;33mMaxPooling1D\u001b[0m)    │ (\u001b[38;5;45mNone\u001b[0m, \u001b[38;5;34m1\u001b[0m, \u001b[38;5;34m25\u001b[0m)          │             \u001b[38;5;34m0\u001b[0m │\n",
       "├─────────────────────────────────┼────────────────────────┼───────────────┤\n",
       "│ dropout (\u001b[38;5;33mDropout\u001b[0m)               │ (\u001b[38;5;45mNone\u001b[0m, \u001b[38;5;34m1\u001b[0m, \u001b[38;5;34m25\u001b[0m)          │             \u001b[38;5;34m0\u001b[0m │\n",
       "├─────────────────────────────────┼────────────────────────┼───────────────┤\n",
       "│ batch_normalization             │ (\u001b[38;5;45mNone\u001b[0m, \u001b[38;5;34m1\u001b[0m, \u001b[38;5;34m25\u001b[0m)          │           \u001b[38;5;34m100\u001b[0m │\n",
       "│ (\u001b[38;5;33mBatchNormalization\u001b[0m)            │                        │               │\n",
       "├─────────────────────────────────┼────────────────────────┼───────────────┤\n",
       "│ lstm (\u001b[38;5;33mLSTM\u001b[0m)                     │ (\u001b[38;5;45mNone\u001b[0m, \u001b[38;5;34m64\u001b[0m)             │        \u001b[38;5;34m23,040\u001b[0m │\n",
       "├─────────────────────────────────┼────────────────────────┼───────────────┤\n",
       "│ flatten (\u001b[38;5;33mFlatten\u001b[0m)               │ (\u001b[38;5;45mNone\u001b[0m, \u001b[38;5;34m64\u001b[0m)             │             \u001b[38;5;34m0\u001b[0m │\n",
       "├─────────────────────────────────┼────────────────────────┼───────────────┤\n",
       "│ dense (\u001b[38;5;33mDense\u001b[0m)                   │ (\u001b[38;5;45mNone\u001b[0m, \u001b[38;5;34m400\u001b[0m)            │        \u001b[38;5;34m26,000\u001b[0m │\n",
       "├─────────────────────────────────┼────────────────────────┼───────────────┤\n",
       "│ dropout_1 (\u001b[38;5;33mDropout\u001b[0m)             │ (\u001b[38;5;45mNone\u001b[0m, \u001b[38;5;34m400\u001b[0m)            │             \u001b[38;5;34m0\u001b[0m │\n",
       "├─────────────────────────────────┼────────────────────────┼───────────────┤\n",
       "│ dense_1 (\u001b[38;5;33mDense\u001b[0m)                 │ (\u001b[38;5;45mNone\u001b[0m, \u001b[38;5;34m1\u001b[0m)              │           \u001b[38;5;34m401\u001b[0m │\n",
       "└─────────────────────────────────┴────────────────────────┴───────────────┘\n"
      ]
     },
     "metadata": {},
     "output_type": "display_data"
    },
    {
     "data": {
      "text/html": [
       "<pre style=\"white-space:pre;overflow-x:auto;line-height:normal;font-family:Menlo,'DejaVu Sans Mono',consolas,'Courier New',monospace\"><span style=\"font-weight: bold\"> Total params: </span><span style=\"color: #00af00; text-decoration-color: #00af00\">49,641</span> (193.91 KB)\n",
       "</pre>\n"
      ],
      "text/plain": [
       "\u001b[1m Total params: \u001b[0m\u001b[38;5;34m49,641\u001b[0m (193.91 KB)\n"
      ]
     },
     "metadata": {},
     "output_type": "display_data"
    },
    {
     "data": {
      "text/html": [
       "<pre style=\"white-space:pre;overflow-x:auto;line-height:normal;font-family:Menlo,'DejaVu Sans Mono',consolas,'Courier New',monospace\"><span style=\"font-weight: bold\"> Trainable params: </span><span style=\"color: #00af00; text-decoration-color: #00af00\">49,591</span> (193.71 KB)\n",
       "</pre>\n"
      ],
      "text/plain": [
       "\u001b[1m Trainable params: \u001b[0m\u001b[38;5;34m49,591\u001b[0m (193.71 KB)\n"
      ]
     },
     "metadata": {},
     "output_type": "display_data"
    },
    {
     "data": {
      "text/html": [
       "<pre style=\"white-space:pre;overflow-x:auto;line-height:normal;font-family:Menlo,'DejaVu Sans Mono',consolas,'Courier New',monospace\"><span style=\"font-weight: bold\"> Non-trainable params: </span><span style=\"color: #00af00; text-decoration-color: #00af00\">50</span> (200.00 B)\n",
       "</pre>\n"
      ],
      "text/plain": [
       "\u001b[1m Non-trainable params: \u001b[0m\u001b[38;5;34m50\u001b[0m (200.00 B)\n"
      ]
     },
     "metadata": {},
     "output_type": "display_data"
    },
    {
     "name": "stdout",
     "output_type": "stream",
     "text": [
      "Epoch 1/70\n",
      "\u001b[1m1215/1215\u001b[0m \u001b[32m━━━━━━━━━━━━━━━━━━━━\u001b[0m\u001b[37m\u001b[0m \u001b[1m8s\u001b[0m 4ms/step - accuracy: 0.4949 - loss: 0.6932 - val_accuracy: 0.3841 - val_loss: 0.6935\n",
      "Epoch 2/70\n",
      "\u001b[1m1215/1215\u001b[0m \u001b[32m━━━━━━━━━━━━━━━━━━━━\u001b[0m\u001b[37m\u001b[0m \u001b[1m5s\u001b[0m 4ms/step - accuracy: 0.4893 - loss: 0.6932 - val_accuracy: 0.3841 - val_loss: 0.6935\n",
      "Epoch 3/70\n",
      "\u001b[1m1215/1215\u001b[0m \u001b[32m━━━━━━━━━━━━━━━━━━━━\u001b[0m\u001b[37m\u001b[0m \u001b[1m6s\u001b[0m 5ms/step - accuracy: 0.4994 - loss: 0.6932 - val_accuracy: 0.3841 - val_loss: 0.6934\n",
      "Epoch 4/70\n",
      "\u001b[1m1215/1215\u001b[0m \u001b[32m━━━━━━━━━━━━━━━━━━━━\u001b[0m\u001b[37m\u001b[0m \u001b[1m5s\u001b[0m 4ms/step - accuracy: 0.5009 - loss: 0.6932 - val_accuracy: 0.3841 - val_loss: 0.6933\n",
      "Epoch 5/70\n",
      "\u001b[1m1215/1215\u001b[0m \u001b[32m━━━━━━━━━━━━━━━━━━━━\u001b[0m\u001b[37m\u001b[0m \u001b[1m5s\u001b[0m 4ms/step - accuracy: 0.4985 - loss: 0.6932 - val_accuracy: 0.3841 - val_loss: 0.6932\n",
      "Epoch 6/70\n",
      "\u001b[1m1215/1215\u001b[0m \u001b[32m━━━━━━━━━━━━━━━━━━━━\u001b[0m\u001b[37m\u001b[0m \u001b[1m5s\u001b[0m 4ms/step - accuracy: 0.4910 - loss: 0.6932 - val_accuracy: 0.6159 - val_loss: 0.6931\n",
      "Epoch 7/70\n",
      "\u001b[1m1215/1215\u001b[0m \u001b[32m━━━━━━━━━━━━━━━━━━━━\u001b[0m\u001b[37m\u001b[0m \u001b[1m5s\u001b[0m 4ms/step - accuracy: 0.4950 - loss: 0.6932 - val_accuracy: 0.6159 - val_loss: 0.6931\n",
      "Epoch 8/70\n",
      "\u001b[1m1215/1215\u001b[0m \u001b[32m━━━━━━━━━━━━━━━━━━━━\u001b[0m\u001b[37m\u001b[0m \u001b[1m5s\u001b[0m 4ms/step - accuracy: 0.4939 - loss: 0.6932 - val_accuracy: 0.3841 - val_loss: 0.6932\n",
      "Epoch 9/70\n",
      "\u001b[1m1215/1215\u001b[0m \u001b[32m━━━━━━━━━━━━━━━━━━━━\u001b[0m\u001b[37m\u001b[0m \u001b[1m5s\u001b[0m 4ms/step - accuracy: 0.4974 - loss: 0.6932 - val_accuracy: 0.3841 - val_loss: 0.6932\n",
      "Epoch 10/70\n",
      "\u001b[1m1215/1215\u001b[0m \u001b[32m━━━━━━━━━━━━━━━━━━━━\u001b[0m\u001b[37m\u001b[0m \u001b[1m5s\u001b[0m 4ms/step - accuracy: 0.4947 - loss: 0.6932 - val_accuracy: 0.3841 - val_loss: 0.6932\n",
      "Epoch 11/70\n",
      "\u001b[1m1215/1215\u001b[0m \u001b[32m━━━━━━━━━━━━━━━━━━━━\u001b[0m\u001b[37m\u001b[0m \u001b[1m5s\u001b[0m 4ms/step - accuracy: 0.4927 - loss: 0.6932 - val_accuracy: 0.3841 - val_loss: 0.6932\n",
      "Epoch 12/70\n",
      "\u001b[1m1215/1215\u001b[0m \u001b[32m━━━━━━━━━━━━━━━━━━━━\u001b[0m\u001b[37m\u001b[0m \u001b[1m5s\u001b[0m 4ms/step - accuracy: 0.4954 - loss: 0.6932 - val_accuracy: 0.3841 - val_loss: 0.6932\n",
      "Epoch 13/70\n",
      "\u001b[1m1215/1215\u001b[0m \u001b[32m━━━━━━━━━━━━━━━━━━━━\u001b[0m\u001b[37m\u001b[0m \u001b[1m5s\u001b[0m 4ms/step - accuracy: 0.4966 - loss: 0.6932 - val_accuracy: 0.3841 - val_loss: 0.6933\n",
      "Epoch 14/70\n",
      "\u001b[1m1215/1215\u001b[0m \u001b[32m━━━━━━━━━━━━━━━━━━━━\u001b[0m\u001b[37m\u001b[0m \u001b[1m5s\u001b[0m 4ms/step - accuracy: 0.4929 - loss: 0.6932 - val_accuracy: 0.3841 - val_loss: 0.6932\n",
      "Epoch 15/70\n",
      "\u001b[1m1215/1215\u001b[0m \u001b[32m━━━━━━━━━━━━━━━━━━━━\u001b[0m\u001b[37m\u001b[0m \u001b[1m5s\u001b[0m 4ms/step - accuracy: 0.4916 - loss: 0.6932 - val_accuracy: 0.3841 - val_loss: 0.6932\n",
      "Epoch 16/70\n",
      "\u001b[1m1215/1215\u001b[0m \u001b[32m━━━━━━━━━━━━━━━━━━━━\u001b[0m\u001b[37m\u001b[0m \u001b[1m5s\u001b[0m 4ms/step - accuracy: 0.4883 - loss: 0.6932 - val_accuracy: 0.3841 - val_loss: 0.6932\n",
      "Epoch 17/70\n",
      "\u001b[1m1215/1215\u001b[0m \u001b[32m━━━━━━━━━━━━━━━━━━━━\u001b[0m\u001b[37m\u001b[0m \u001b[1m5s\u001b[0m 4ms/step - accuracy: 0.4935 - loss: 0.6932 - val_accuracy: 0.3841 - val_loss: 0.6932\n",
      "Epoch 18/70\n",
      "\u001b[1m1215/1215\u001b[0m \u001b[32m━━━━━━━━━━━━━━━━━━━━\u001b[0m\u001b[37m\u001b[0m \u001b[1m5s\u001b[0m 4ms/step - accuracy: 0.4987 - loss: 0.6932 - val_accuracy: 0.3841 - val_loss: 0.6933\n",
      "Epoch 19/70\n",
      "\u001b[1m1215/1215\u001b[0m \u001b[32m━━━━━━━━━━━━━━━━━━━━\u001b[0m\u001b[37m\u001b[0m \u001b[1m5s\u001b[0m 4ms/step - accuracy: 0.4967 - loss: 0.6932 - val_accuracy: 0.3841 - val_loss: 0.6932\n",
      "Epoch 20/70\n",
      "\u001b[1m1215/1215\u001b[0m \u001b[32m━━━━━━━━━━━━━━━━━━━━\u001b[0m\u001b[37m\u001b[0m \u001b[1m5s\u001b[0m 4ms/step - accuracy: 0.4931 - loss: 0.6932 - val_accuracy: 0.6133 - val_loss: 0.6931\n",
      "Epoch 21/70\n",
      "\u001b[1m1215/1215\u001b[0m \u001b[32m━━━━━━━━━━━━━━━━━━━━\u001b[0m\u001b[37m\u001b[0m \u001b[1m5s\u001b[0m 4ms/step - accuracy: 0.4935 - loss: 0.6932 - val_accuracy: 0.6159 - val_loss: 0.6931\n",
      "Epoch 22/70\n",
      "\u001b[1m1215/1215\u001b[0m \u001b[32m━━━━━━━━━━━━━━━━━━━━\u001b[0m\u001b[37m\u001b[0m \u001b[1m5s\u001b[0m 4ms/step - accuracy: 0.4813 - loss: 0.6932 - val_accuracy: 0.0996 - val_loss: 0.6932\n",
      "Epoch 23/70\n",
      "\u001b[1m1215/1215\u001b[0m \u001b[32m━━━━━━━━━━━━━━━━━━━━\u001b[0m\u001b[37m\u001b[0m \u001b[1m5s\u001b[0m 4ms/step - accuracy: 0.4876 - loss: 0.6932 - val_accuracy: 0.0833 - val_loss: 0.6932\n",
      "Epoch 24/70\n",
      "\u001b[1m1215/1215\u001b[0m \u001b[32m━━━━━━━━━━━━━━━━━━━━\u001b[0m\u001b[37m\u001b[0m \u001b[1m5s\u001b[0m 4ms/step - accuracy: 0.4884 - loss: 0.6932 - val_accuracy: 0.3841 - val_loss: 0.6932\n",
      "Epoch 25/70\n",
      "\u001b[1m1215/1215\u001b[0m \u001b[32m━━━━━━━━━━━━━━━━━━━━\u001b[0m\u001b[37m\u001b[0m \u001b[1m5s\u001b[0m 4ms/step - accuracy: 0.4908 - loss: 0.6932 - val_accuracy: 0.3841 - val_loss: 0.6932\n",
      "Epoch 26/70\n",
      "\u001b[1m1215/1215\u001b[0m \u001b[32m━━━━━━━━━━━━━━━━━━━━\u001b[0m\u001b[37m\u001b[0m \u001b[1m5s\u001b[0m 4ms/step - accuracy: 0.4874 - loss: 0.6932 - val_accuracy: 0.3841 - val_loss: 0.6932\n",
      "Epoch 27/70\n",
      "\u001b[1m1215/1215\u001b[0m \u001b[32m━━━━━━━━━━━━━━━━━━━━\u001b[0m\u001b[37m\u001b[0m \u001b[1m5s\u001b[0m 4ms/step - accuracy: 0.4970 - loss: 0.6932 - val_accuracy: 0.3841 - val_loss: 0.6932\n",
      "Epoch 28/70\n",
      "\u001b[1m1215/1215\u001b[0m \u001b[32m━━━━━━━━━━━━━━━━━━━━\u001b[0m\u001b[37m\u001b[0m \u001b[1m5s\u001b[0m 4ms/step - accuracy: 0.4967 - loss: 0.6932 - val_accuracy: 0.3841 - val_loss: 0.6932\n",
      "Epoch 29/70\n",
      "\u001b[1m1215/1215\u001b[0m \u001b[32m━━━━━━━━━━━━━━━━━━━━\u001b[0m\u001b[37m\u001b[0m \u001b[1m5s\u001b[0m 4ms/step - accuracy: 0.4968 - loss: 0.6932 - val_accuracy: 0.6136 - val_loss: 0.6931\n",
      "Epoch 30/70\n",
      "\u001b[1m1215/1215\u001b[0m \u001b[32m━━━━━━━━━━━━━━━━━━━━\u001b[0m\u001b[37m\u001b[0m \u001b[1m5s\u001b[0m 4ms/step - accuracy: 0.4956 - loss: 0.6932 - val_accuracy: 0.3841 - val_loss: 0.6932\n",
      "Epoch 31/70\n",
      "\u001b[1m1215/1215\u001b[0m \u001b[32m━━━━━━━━━━━━━━━━━━━━\u001b[0m\u001b[37m\u001b[0m \u001b[1m5s\u001b[0m 4ms/step - accuracy: 0.4972 - loss: 0.6932 - val_accuracy: 0.3841 - val_loss: 0.6932\n",
      "Epoch 32/70\n",
      "\u001b[1m1215/1215\u001b[0m \u001b[32m━━━━━━━━━━━━━━━━━━━━\u001b[0m\u001b[37m\u001b[0m \u001b[1m5s\u001b[0m 4ms/step - accuracy: 0.4914 - loss: 0.6932 - val_accuracy: 0.3841 - val_loss: 0.6933\n",
      "Epoch 33/70\n",
      "\u001b[1m1215/1215\u001b[0m \u001b[32m━━━━━━━━━━━━━━━━━━━━\u001b[0m\u001b[37m\u001b[0m \u001b[1m5s\u001b[0m 4ms/step - accuracy: 0.4917 - loss: 0.6932 - val_accuracy: 0.3841 - val_loss: 0.6932\n",
      "Epoch 34/70\n",
      "\u001b[1m1215/1215\u001b[0m \u001b[32m━━━━━━━━━━━━━━━━━━━━\u001b[0m\u001b[37m\u001b[0m \u001b[1m5s\u001b[0m 4ms/step - accuracy: 0.4912 - loss: 0.6932 - val_accuracy: 0.3841 - val_loss: 0.6932\n",
      "Epoch 35/70\n",
      "\u001b[1m1215/1215\u001b[0m \u001b[32m━━━━━━━━━━━━━━━━━━━━\u001b[0m\u001b[37m\u001b[0m \u001b[1m5s\u001b[0m 4ms/step - accuracy: 0.5036 - loss: 0.6932 - val_accuracy: 0.3841 - val_loss: 0.6932\n",
      "Epoch 36/70\n",
      "\u001b[1m1215/1215\u001b[0m \u001b[32m━━━━━━━━━━━━━━━━━━━━\u001b[0m\u001b[37m\u001b[0m \u001b[1m5s\u001b[0m 4ms/step - accuracy: 0.4943 - loss: 0.6932 - val_accuracy: 0.6039 - val_loss: 0.6931\n",
      "Epoch 37/70\n",
      "\u001b[1m1215/1215\u001b[0m \u001b[32m━━━━━━━━━━━━━━━━━━━━\u001b[0m\u001b[37m\u001b[0m \u001b[1m5s\u001b[0m 4ms/step - accuracy: 0.4986 - loss: 0.6932 - val_accuracy: 0.6159 - val_loss: 0.6931\n",
      "Epoch 38/70\n",
      "\u001b[1m1215/1215\u001b[0m \u001b[32m━━━━━━━━━━━━━━━━━━━━\u001b[0m\u001b[37m\u001b[0m \u001b[1m5s\u001b[0m 4ms/step - accuracy: 0.4936 - loss: 0.6932 - val_accuracy: 0.3841 - val_loss: 0.6932\n",
      "Epoch 39/70\n",
      "\u001b[1m1215/1215\u001b[0m \u001b[32m━━━━━━━━━━━━━━━━━━━━\u001b[0m\u001b[37m\u001b[0m \u001b[1m5s\u001b[0m 4ms/step - accuracy: 0.4981 - loss: 0.6932 - val_accuracy: 0.3841 - val_loss: 0.6932\n",
      "Epoch 40/70\n",
      "\u001b[1m1215/1215\u001b[0m \u001b[32m━━━━━━━━━━━━━━━━━━━━\u001b[0m\u001b[37m\u001b[0m \u001b[1m5s\u001b[0m 4ms/step - accuracy: 0.4894 - loss: 0.6932 - val_accuracy: 0.3841 - val_loss: 0.6932\n",
      "Epoch 41/70\n",
      "\u001b[1m1215/1215\u001b[0m \u001b[32m━━━━━━━━━━━━━━━━━━━━\u001b[0m\u001b[37m\u001b[0m \u001b[1m5s\u001b[0m 4ms/step - accuracy: 0.4970 - loss: 0.6932 - val_accuracy: 0.5326 - val_loss: 0.6932\n",
      "Epoch 42/70\n",
      "\u001b[1m1215/1215\u001b[0m \u001b[32m━━━━━━━━━━━━━━━━━━━━\u001b[0m\u001b[37m\u001b[0m \u001b[1m5s\u001b[0m 4ms/step - accuracy: 0.4954 - loss: 0.6932 - val_accuracy: 0.3841 - val_loss: 0.6932\n",
      "Epoch 43/70\n",
      "\u001b[1m1215/1215\u001b[0m \u001b[32m━━━━━━━━━━━━━━━━━━━━\u001b[0m\u001b[37m\u001b[0m \u001b[1m5s\u001b[0m 4ms/step - accuracy: 0.4893 - loss: 0.6932 - val_accuracy: 0.3841 - val_loss: 0.6932\n",
      "Epoch 44/70\n",
      "\u001b[1m1215/1215\u001b[0m \u001b[32m━━━━━━━━━━━━━━━━━━━━\u001b[0m\u001b[37m\u001b[0m \u001b[1m5s\u001b[0m 4ms/step - accuracy: 0.5006 - loss: 0.6931 - val_accuracy: 0.3841 - val_loss: 0.6933\n",
      "Epoch 45/70\n",
      "\u001b[1m1215/1215\u001b[0m \u001b[32m━━━━━━━━━━━━━━━━━━━━\u001b[0m\u001b[37m\u001b[0m \u001b[1m5s\u001b[0m 4ms/step - accuracy: 0.4957 - loss: 0.6932 - val_accuracy: 0.3841 - val_loss: 0.6932\n",
      "Epoch 46/70\n",
      "\u001b[1m1215/1215\u001b[0m \u001b[32m━━━━━━━━━━━━━━━━━━━━\u001b[0m\u001b[37m\u001b[0m \u001b[1m5s\u001b[0m 4ms/step - accuracy: 0.4861 - loss: 0.6932 - val_accuracy: 0.3841 - val_loss: 0.6933\n",
      "Epoch 47/70\n",
      "\u001b[1m1215/1215\u001b[0m \u001b[32m━━━━━━━━━━━━━━━━━━━━\u001b[0m\u001b[37m\u001b[0m \u001b[1m5s\u001b[0m 4ms/step - accuracy: 0.5013 - loss: 0.6931 - val_accuracy: 0.3841 - val_loss: 0.6932\n",
      "Epoch 48/70\n",
      "\u001b[1m1215/1215\u001b[0m \u001b[32m━━━━━━━━━━━━━━━━━━━━\u001b[0m\u001b[37m\u001b[0m \u001b[1m5s\u001b[0m 4ms/step - accuracy: 0.4971 - loss: 0.6932 - val_accuracy: 0.3841 - val_loss: 0.6932\n",
      "Epoch 49/70\n",
      "\u001b[1m1215/1215\u001b[0m \u001b[32m━━━━━━━━━━━━━━━━━━━━\u001b[0m\u001b[37m\u001b[0m \u001b[1m5s\u001b[0m 4ms/step - accuracy: 0.4973 - loss: 0.6932 - val_accuracy: 0.3841 - val_loss: 0.6932\n",
      "Epoch 50/70\n",
      "\u001b[1m1215/1215\u001b[0m \u001b[32m━━━━━━━━━━━━━━━━━━━━\u001b[0m\u001b[37m\u001b[0m \u001b[1m5s\u001b[0m 4ms/step - accuracy: 0.5001 - loss: 0.6932 - val_accuracy: 0.2797 - val_loss: 0.6932\n",
      "Epoch 51/70\n",
      "\u001b[1m1215/1215\u001b[0m \u001b[32m━━━━━━━━━━━━━━━━━━━━\u001b[0m\u001b[37m\u001b[0m \u001b[1m5s\u001b[0m 4ms/step - accuracy: 0.4918 - loss: 0.6932 - val_accuracy: 0.3841 - val_loss: 0.6932\n",
      "Epoch 52/70\n",
      "\u001b[1m1215/1215\u001b[0m \u001b[32m━━━━━━━━━━━━━━━━━━━━\u001b[0m\u001b[37m\u001b[0m \u001b[1m5s\u001b[0m 4ms/step - accuracy: 0.4975 - loss: 0.6932 - val_accuracy: 0.3841 - val_loss: 0.6932\n",
      "Epoch 53/70\n",
      "\u001b[1m1215/1215\u001b[0m \u001b[32m━━━━━━━━━━━━━━━━━━━━\u001b[0m\u001b[37m\u001b[0m \u001b[1m5s\u001b[0m 4ms/step - accuracy: 0.5029 - loss: 0.6931 - val_accuracy: 0.2807 - val_loss: 0.6932\n",
      "Epoch 54/70\n",
      "\u001b[1m1215/1215\u001b[0m \u001b[32m━━━━━━━━━━━━━━━━━━━━\u001b[0m\u001b[37m\u001b[0m \u001b[1m5s\u001b[0m 4ms/step - accuracy: 0.4950 - loss: 0.6932 - val_accuracy: 0.3841 - val_loss: 0.6932\n",
      "Epoch 55/70\n",
      "\u001b[1m1215/1215\u001b[0m \u001b[32m━━━━━━━━━━━━━━━━━━━━\u001b[0m\u001b[37m\u001b[0m \u001b[1m5s\u001b[0m 4ms/step - accuracy: 0.4912 - loss: 0.6932 - val_accuracy: 0.6159 - val_loss: 0.6931\n",
      "Epoch 56/70\n",
      "\u001b[1m1215/1215\u001b[0m \u001b[32m━━━━━━━━━━━━━━━━━━━━\u001b[0m\u001b[37m\u001b[0m \u001b[1m5s\u001b[0m 4ms/step - accuracy: 0.4961 - loss: 0.6932 - val_accuracy: 0.5988 - val_loss: 0.6931\n",
      "Epoch 57/70\n",
      "\u001b[1m1215/1215\u001b[0m \u001b[32m━━━━━━━━━━━━━━━━━━━━\u001b[0m\u001b[37m\u001b[0m \u001b[1m5s\u001b[0m 4ms/step - accuracy: 0.4957 - loss: 0.6932 - val_accuracy: 0.6159 - val_loss: 0.6931\n",
      "Epoch 58/70\n",
      "\u001b[1m1215/1215\u001b[0m \u001b[32m━━━━━━━━━━━━━━━━━━━━\u001b[0m\u001b[37m\u001b[0m \u001b[1m5s\u001b[0m 4ms/step - accuracy: 0.4961 - loss: 0.6932 - val_accuracy: 0.3841 - val_loss: 0.6932\n",
      "Epoch 59/70\n",
      "\u001b[1m1215/1215\u001b[0m \u001b[32m━━━━━━━━━━━━━━━━━━━━\u001b[0m\u001b[37m\u001b[0m \u001b[1m5s\u001b[0m 4ms/step - accuracy: 0.5050 - loss: 0.6931 - val_accuracy: 0.3841 - val_loss: 0.6932\n",
      "Epoch 60/70\n",
      "\u001b[1m1215/1215\u001b[0m \u001b[32m━━━━━━━━━━━━━━━━━━━━\u001b[0m\u001b[37m\u001b[0m \u001b[1m5s\u001b[0m 4ms/step - accuracy: 0.4979 - loss: 0.6932 - val_accuracy: 0.6159 - val_loss: 0.6931\n",
      "Epoch 61/70\n",
      "\u001b[1m1215/1215\u001b[0m \u001b[32m━━━━━━━━━━━━━━━━━━━━\u001b[0m\u001b[37m\u001b[0m \u001b[1m5s\u001b[0m 4ms/step - accuracy: 0.4963 - loss: 0.6932 - val_accuracy: 0.3841 - val_loss: 0.6932\n",
      "Epoch 62/70\n",
      "\u001b[1m1215/1215\u001b[0m \u001b[32m━━━━━━━━━━━━━━━━━━━━\u001b[0m\u001b[37m\u001b[0m \u001b[1m5s\u001b[0m 4ms/step - accuracy: 0.5020 - loss: 0.6932 - val_accuracy: 0.3841 - val_loss: 0.6932\n",
      "Epoch 63/70\n",
      "\u001b[1m1215/1215\u001b[0m \u001b[32m━━━━━━━━━━━━━━━━━━━━\u001b[0m\u001b[37m\u001b[0m \u001b[1m5s\u001b[0m 4ms/step - accuracy: 0.5018 - loss: 0.6931 - val_accuracy: 0.3841 - val_loss: 0.6932\n",
      "Epoch 64/70\n",
      "\u001b[1m1215/1215\u001b[0m \u001b[32m━━━━━━━━━━━━━━━━━━━━\u001b[0m\u001b[37m\u001b[0m \u001b[1m5s\u001b[0m 4ms/step - accuracy: 0.4977 - loss: 0.6931 - val_accuracy: 0.6159 - val_loss: 0.6931\n",
      "Epoch 65/70\n",
      "\u001b[1m1215/1215\u001b[0m \u001b[32m━━━━━━━━━━━━━━━━━━━━\u001b[0m\u001b[37m\u001b[0m \u001b[1m5s\u001b[0m 4ms/step - accuracy: 0.4983 - loss: 0.6932 - val_accuracy: 0.3841 - val_loss: 0.6932\n",
      "Epoch 66/70\n",
      "\u001b[1m1215/1215\u001b[0m \u001b[32m━━━━━━━━━━━━━━━━━━━━\u001b[0m\u001b[37m\u001b[0m \u001b[1m5s\u001b[0m 4ms/step - accuracy: 0.4975 - loss: 0.6932 - val_accuracy: 0.3841 - val_loss: 0.6932\n",
      "Epoch 67/70\n",
      "\u001b[1m1215/1215\u001b[0m \u001b[32m━━━━━━━━━━━━━━━━━━━━\u001b[0m\u001b[37m\u001b[0m \u001b[1m5s\u001b[0m 4ms/step - accuracy: 0.4949 - loss: 0.6932 - val_accuracy: 0.3841 - val_loss: 0.6932\n",
      "Epoch 68/70\n",
      "\u001b[1m1215/1215\u001b[0m \u001b[32m━━━━━━━━━━━━━━━━━━━━\u001b[0m\u001b[37m\u001b[0m \u001b[1m5s\u001b[0m 4ms/step - accuracy: 0.4978 - loss: 0.6932 - val_accuracy: 0.6159 - val_loss: 0.6931\n",
      "Epoch 69/70\n",
      "\u001b[1m1215/1215\u001b[0m \u001b[32m━━━━━━━━━━━━━━━━━━━━\u001b[0m\u001b[37m\u001b[0m \u001b[1m5s\u001b[0m 4ms/step - accuracy: 0.4961 - loss: 0.6932 - val_accuracy: 0.6159 - val_loss: 0.6931\n",
      "Epoch 70/70\n",
      "\u001b[1m1215/1215\u001b[0m \u001b[32m━━━━━━━━━━━━━━━━━━━━\u001b[0m\u001b[37m\u001b[0m \u001b[1m5s\u001b[0m 4ms/step - accuracy: 0.5028 - loss: 0.6931 - val_accuracy: 0.6159 - val_loss: 0.6931\n",
      "\u001b[1m123/123\u001b[0m \u001b[32m━━━━━━━━━━━━━━━━━━━━\u001b[0m\u001b[37m\u001b[0m \u001b[1m0s\u001b[0m 2ms/step - accuracy: 0.6139 - loss: 0.6931\n",
      "\u001b[1m123/123\u001b[0m \u001b[32m━━━━━━━━━━━━━━━━━━━━\u001b[0m\u001b[37m\u001b[0m \u001b[1m1s\u001b[0m 3ms/step\n",
      "[[0.5000316 ]\n",
      " [0.5000372 ]\n",
      " [0.5000322 ]\n",
      " ...\n",
      " [0.50002825]\n",
      " [0.5000371 ]\n",
      " [0.5000367 ]]\n",
      "[[1]\n",
      " [1]\n",
      " [1]\n",
      " ...\n",
      " [1]\n",
      " [1]\n",
      " [1]]\n",
      "0       0\n",
      "1       0\n",
      "2       0\n",
      "3       1\n",
      "4       0\n",
      "       ..\n",
      "3921    0\n",
      "3922    1\n",
      "3923    1\n",
      "3924    0\n",
      "3925    0\n",
      "Name: label, Length: 3926, dtype: int64\n",
      "Test Loss: 0.6931402683258057, Test Accuracy: 0.612328052520752\n",
      "\n"
     ]
    },
    {
     "data": {
      "image/png": "[encoded data removed]",
      "text/plain": [
       "<Figure size 640x480 with 1 Axes>"
      ]
     },
     "metadata": {},
     "output_type": "display_data"
    },
    {
     "name": "stdout",
     "output_type": "stream",
     "text": [
      "\n",
      "\n"
     ]
    },
    {
     "data": {
      "image/png": "[encoded data removed]",
      "text/plain": [
       "<Figure size 640x480 with 1 Axes>"
      ]
     },
     "metadata": {},
     "output_type": "display_data"
    },
    {
     "name": "stdout",
     "output_type": "stream",
     "text": [
      "\n",
      "Classification Report\n",
      "              precision    recall  f1-score   support\n",
      "\n",
      "           0       0.00      0.00      0.00      1522\n",
      "           1       0.61      1.00      0.76      2404\n",
      "\n",
      "    accuracy                           0.61      3926\n",
      "   macro avg       0.31      0.50      0.38      3926\n",
      "weighted avg       0.37      0.61      0.47      3926\n",
      "\n",
      "\n",
      "Confusion Matrix\n",
      "[[   0 1522]\n",
      " [   0 2404]]\n"
     ]
    },
    {
     "name": "stderr",
     "output_type": "stream",
     "text": [
      "c:\\Users\\George\\anaconda3\\Lib\\site-packages\\sklearn\\metrics\\_classification.py:1565: UndefinedMetricWarning: Precision is ill-defined and being set to 0.0 in labels with no predicted samples. Use `zero_division` parameter to control this behavior.\n",
      "  _warn_prf(average, modifier, f\"{metric.capitalize()} is\", len(result))\n",
      "c:\\Users\\George\\anaconda3\\Lib\\site-packages\\sklearn\\metrics\\_classification.py:1565: UndefinedMetricWarning: Precision is ill-defined and being set to 0.0 in labels with no predicted samples. Use `zero_division` parameter to control this behavior.\n",
      "  _warn_prf(average, modifier, f\"{metric.capitalize()} is\", len(result))\n",
      "c:\\Users\\George\\anaconda3\\Lib\\site-packages\\sklearn\\metrics\\_classification.py:1565: UndefinedMetricWarning: Precision is ill-defined and being set to 0.0 in labels with no predicted samples. Use `zero_division` parameter to control this behavior.\n",
      "  _warn_prf(average, modifier, f\"{metric.capitalize()} is\", len(result))\n"
     ]
    },
    {
     "data": {
      "image/png": "[encoded data removed]",
      "text/plain": [
       "<Figure size 640x480 with 2 Axes>"
      ]
     },
     "metadata": {},
     "output_type": "display_data"
    },
    {
     "name": "stdout",
     "output_type": "stream",
     "text": [
      "Time taken: 359.1857 seconds\n"
     ]
    }
   ],
   "source": [
    "start_time_2 = time.perf_counter()\n",
    "with tensorflow.device('/device:GPU:0'):\n",
    "  # CNN model detection\n",
    "  # https://keras.io/api/layers/activations/#softmax-function\n",
    "  detection_model = tensorflow.keras.Sequential([\n",
    "      tensorflow.keras.layers.Input(shape=(X_rebalance.shape[1],X_rebalance.shape[2])),\n",
    "      tensorflow.keras.layers.Conv1D(filters=25, kernel_size=3, activation='linear'),\n",
    "      tensorflow.keras.layers.MaxPooling1D(pool_size=2),\n",
    "      tensorflow.keras.layers.Dropout(0.3),\n",
    "      tensorflow.keras.layers.BatchNormalization(),\n",
    "      tensorflow.keras.layers.LSTM(64),\n",
    "      tensorflow.keras.layers.Flatten(),\n",
    "      # 1 layer\n",
    "      tensorflow.keras.layers.Dense(400, activation='softmax'),\n",
    "      tensorflow.keras.layers.Dropout(0.5),\n",
    "      # either attack or normal\n",
    "      tensorflow.keras.layers.Dense(1, activation='sigmoid')\n",
    "  ])\n",
    "\n",
    "  detection_model.summary()\n",
    "  # https://keras.io/api/losses/probabilistic_losses/#probabilistic-losses\n",
    "  sgd = tensorflow.keras.optimizers.SGD(learning_rate=0.001)\n",
    "  detection_model.compile(optimizer=sgd,\n",
    "                loss=tensorflow.keras.losses.BinaryCrossentropy(from_logits=False),\n",
    "                metrics=['accuracy'])\n",
    "\n",
    "  history = detection_model.fit(X_rebalance, y_rebalance, batch_size=32, epochs=70, validation_data=(X_validation_encode, y_validation_encode))\n",
    "  test_loss, test_acc = detection_model.evaluate(X_test_encode, y_test_encode)\n",
    "\n",
    "  # Make predictions\n",
    "  prediction = detection_model.predict(X_test_encode)\n",
    "  print(prediction)\n",
    "  attack_prediction = numpy.where(prediction > 0.5, 1, 0)\n",
    "  print(attack_prediction)\n",
    "  print(y_test)\n",
    "\n",
    "  # Evaluate the model\n",
    "  print(f\"Test Loss: {test_loss}, Test Accuracy: {test_acc}\\n\")\n",
    "  # https://www.tensorflow.org/tutorials/keras/text_classification for training and validation loss and accuracy\n",
    "  history_dict = history.history\n",
    "  # print(history_dict.keys())\n",
    "  acc = history_dict['accuracy']\n",
    "  val_acc = history_dict['val_accuracy']\n",
    "  loss = history_dict['loss']\n",
    "  val_loss = history_dict['val_loss']\n",
    "\n",
    "  epochs = range(1, len(acc) + 1)\n",
    "\n",
    "  # \"bo\" is for \"blue dot\"\n",
    "  plt.plot(epochs, loss, 'bo', label='Training loss')\n",
    "  # b is for \"solid blue line\"\n",
    "  plt.plot(epochs, val_loss, 'b', label='Validation loss')\n",
    "  plt.title('Training and validation loss')\n",
    "  plt.xlabel('Epochs')\n",
    "  plt.ylabel('Loss')\n",
    "  plt.legend()\n",
    "  plt.show()\n",
    "  print(\"\\n\")\n",
    "\n",
    "  plt.plot(epochs, acc, 'bo', label='Training acc')\n",
    "  plt.plot(epochs, val_acc, 'b', label='Validation acc')\n",
    "  plt.title('Training and validation accuracy')\n",
    "  plt.xlabel('Epochs')\n",
    "  plt.ylabel('Accuracy')\n",
    "  plt.legend(loc='lower right')\n",
    "  plt.show()\n",
    "\n",
    "  print(\"\\nClassification Report\")\n",
    "  print(classification_report(y_test, attack_prediction))\n",
    "\n",
    "  print(\"\\nConfusion Matrix\")\n",
    "  print(confusion_matrix(y_test, attack_prediction))\n",
    "  ConfusionMatrixDisplay.from_predictions(y_test, attack_prediction)\n",
    "  plt.show()\n",
    "\n",
    "end_time2 = time.perf_counter()\n",
    "print(f\"Time taken: {end_time2 - start_time_2:0.4f} seconds\")"
   ]
  }
 ],
 "metadata": {
  "accelerator": "GPU",
  "colab": {
   "gpuType": "L4",
   "machine_shape": "hm",
   "provenance": []
  },
  "kernelspec": {
   "display_name": "base",
   "language": "python",
   "name": "python3"
  },
  "language_info": {
   "codemirror_mode": {
    "name": "ipython",
    "version": 3
   },
   "file_extension": ".py",
   "mimetype": "text/x-python",
   "name": "python",
   "nbconvert_exporter": "python",
   "pygments_lexer": "ipython3",
   "version": "3.12.7"
  }
 },
 "nbformat": 4,
 "nbformat_minor": 0
}
